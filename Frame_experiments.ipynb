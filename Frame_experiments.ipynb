{
 "cells": [
  {
   "cell_type": "markdown",
   "metadata": {},
   "source": [
    "# WHOLE experimentation\n"
   ]
  },
  {
   "cell_type": "markdown",
   "metadata": {
    "ExecuteTime": {
     "end_time": "2020-01-07T02:28:36.718706Z",
     "start_time": "2020-01-07T02:28:36.691277Z"
    }
   },
   "source": [
    "## Loading data and dependencies"
   ]
  },
  {
   "cell_type": "markdown",
   "metadata": {},
   "source": [
    "###  Load the necessary packages"
   ]
  },
  {
   "cell_type": "code",
   "execution_count": 1,
   "metadata": {
    "ExecuteTime": {
     "end_time": "2020-01-07T02:24:35.625768Z",
     "start_time": "2020-01-07T02:24:35.602988Z"
    }
   },
   "outputs": [],
   "source": [
    "%reload_ext autoreload\n",
    "%autoreload 2\n",
    "%matplotlib inline"
   ]
  },
  {
   "cell_type": "code",
   "execution_count": 2,
   "metadata": {
    "ExecuteTime": {
     "end_time": "2020-01-07T02:24:39.032240Z",
     "start_time": "2020-01-07T02:24:35.888861Z"
    }
   },
   "outputs": [],
   "source": [
    "import numpy as np\n",
    "import pandas as pd\n",
    "from pathlib import Path\n",
    "from typing import *\n",
    "import torch\n",
    "import torch.optim as optim\n",
    "\n",
    "from fastai import *\n",
    "from fastai.text import *\n",
    "from pytorch_transformers import *\n",
    "\n",
    "\n",
    "from fastai.basic_train import *\n",
    "from fastai.basic_train import BasicLearner\n",
    "import sys\n",
    "from sklearn.model_selection import train_test_split\n",
    "\n",
    "from sklearn.feature_extraction.text import TfidfVectorizer\n",
    "\n",
    "from sklearn.feature_selection import chi2\n",
    "import numpy as np"
   ]
  },
  {
   "cell_type": "code",
   "execution_count": 3,
   "metadata": {
    "ExecuteTime": {
     "end_time": "2020-01-07T02:24:39.894082Z",
     "start_time": "2020-01-07T02:24:39.182769Z"
    }
   },
   "outputs": [],
   "source": [
    "## load ggplot support\n",
    "\n",
    "import rpy2\n",
    "\n",
    "# the base of rpy2 plotting is matplotlib, thus we need to declare\n",
    "# it inline in order to see the plots in the notebook\n",
    "%matplotlib inline\n",
    "\n",
    "# we need to activate the automatic conversion for pandas\n",
    "from rpy2.robjects import pandas2ri\n",
    "pandas2ri.activate()\n",
    "\n",
    "# load the needed extension for the %%R cell magic\n",
    "%load_ext rpy2.ipython"
   ]
  },
  {
   "cell_type": "markdown",
   "metadata": {},
   "source": [
    "###  Read in the data and split them"
   ]
  },
  {
   "cell_type": "markdown",
   "metadata": {},
   "source": [
    "#### Read and process Ag_news data"
   ]
  },
  {
   "cell_type": "code",
   "execution_count": 4,
   "metadata": {
    "ExecuteTime": {
     "end_time": "2020-01-07T02:24:46.112550Z",
     "start_time": "2020-01-07T02:24:46.081877Z"
    }
   },
   "outputs": [],
   "source": [
    "DATA = Path(os.getcwd())/'Data'\n",
    "AG_NEWS = Path(os.getcwd())/'Data'/'Ag_news'\n",
    "header = ['class', 'title', 'describ']"
   ]
  },
  {
   "cell_type": "code",
   "execution_count": 5,
   "metadata": {
    "ExecuteTime": {
     "end_time": "2020-01-07T02:24:47.766626Z",
     "start_time": "2020-01-07T02:24:47.740253Z"
    }
   },
   "outputs": [],
   "source": [
    "\n",
    "#AG_NEWS_train = pd.read_csv(AG_NEWS_folder/'train.csv', names = header)\n",
    "\n",
    "# sample a smaller version  \n",
    "\n",
    "\n",
    "# AG_NEWS_TRAIN = AG_NEWS_TRAIN.iloc[:, 1:4]\n",
    "# AG_NEWS_TRAIN.head()\n"
   ]
  },
  {
   "cell_type": "code",
   "execution_count": 6,
   "metadata": {
    "ExecuteTime": {
     "end_time": "2020-01-07T02:24:48.072370Z",
     "start_time": "2020-01-07T02:24:48.048719Z"
    }
   },
   "outputs": [],
   "source": [
    "# set the class dict for the class col\n",
    "class_dict = {1: 'world', \n",
    "             2: 'sports',\n",
    "             3: 'business',\n",
    "             4: 'sci_tech'}"
   ]
  },
  {
   "cell_type": "code",
   "execution_count": 7,
   "metadata": {
    "ExecuteTime": {
     "end_time": "2020-01-07T02:24:48.631180Z",
     "start_time": "2020-01-07T02:24:48.545549Z"
    }
   },
   "outputs": [
    {
     "data": {
      "text/html": [
       "<div>\n",
       "<style scoped>\n",
       "    .dataframe tbody tr th:only-of-type {\n",
       "        vertical-align: middle;\n",
       "    }\n",
       "\n",
       "    .dataframe tbody tr th {\n",
       "        vertical-align: top;\n",
       "    }\n",
       "\n",
       "    .dataframe thead th {\n",
       "        text-align: right;\n",
       "    }\n",
       "</style>\n",
       "<table border=\"1\" class=\"dataframe\">\n",
       "  <thead>\n",
       "    <tr style=\"text-align: right;\">\n",
       "      <th></th>\n",
       "      <th>class</th>\n",
       "      <th>title</th>\n",
       "      <th>describ</th>\n",
       "    </tr>\n",
       "  </thead>\n",
       "  <tbody>\n",
       "    <tr>\n",
       "      <th>0</th>\n",
       "      <td>business</td>\n",
       "      <td>Update 1: Syneron Medical Shares Drop on Rejec...</td>\n",
       "      <td>Shares of Syneron Medical Ltd., a maker of cos...</td>\n",
       "    </tr>\n",
       "    <tr>\n",
       "      <th>1</th>\n",
       "      <td>sports</td>\n",
       "      <td>Raptors Carter Hurt; Pistons Roll in OT</td>\n",
       "      <td>AUBURN HILLS, Mich., Dec. 8 (Ticker) -- Richar...</td>\n",
       "    </tr>\n",
       "    <tr>\n",
       "      <th>2</th>\n",
       "      <td>sci_tech</td>\n",
       "      <td>Google up on Goldman #39;s \\$215 stock price t...</td>\n",
       "      <td>Shares of Web search leader Google (GOOG) rose...</td>\n",
       "    </tr>\n",
       "    <tr>\n",
       "      <th>3</th>\n",
       "      <td>sports</td>\n",
       "      <td>TRIPLE SUCCESS FOR SOLBERG</td>\n",
       "      <td>Petter Solberg strengthened his grip on the It...</td>\n",
       "    </tr>\n",
       "    <tr>\n",
       "      <th>4</th>\n",
       "      <td>business</td>\n",
       "      <td>Airlines #39; stocks sink again on tough news</td>\n",
       "      <td>Already battered airline stocks took a further...</td>\n",
       "    </tr>\n",
       "  </tbody>\n",
       "</table>\n",
       "</div>"
      ],
      "text/plain": [
       "      class                                              title  \\\n",
       "0  business  Update 1: Syneron Medical Shares Drop on Rejec...   \n",
       "1    sports            Raptors Carter Hurt; Pistons Roll in OT   \n",
       "2  sci_tech  Google up on Goldman #39;s \\$215 stock price t...   \n",
       "3    sports                         TRIPLE SUCCESS FOR SOLBERG   \n",
       "4  business      Airlines #39; stocks sink again on tough news   \n",
       "\n",
       "                                             describ  \n",
       "0  Shares of Syneron Medical Ltd., a maker of cos...  \n",
       "1  AUBURN HILLS, Mich., Dec. 8 (Ticker) -- Richar...  \n",
       "2  Shares of Web search leader Google (GOOG) rose...  \n",
       "3  Petter Solberg strengthened his grip on the It...  \n",
       "4  Already battered airline stocks took a further...  "
      ]
     },
     "execution_count": 7,
     "metadata": {},
     "output_type": "execute_result"
    }
   ],
   "source": [
    "#AG_NEWS_TRAIN.to_feather(AG_NEWS/'training_30k')\n",
    "AG_NEWS_TRAIN = pd.read_feather(AG_NEWS/'training_30k')\n",
    "AG_NEWS_TRAIN['class'] = AG_NEWS_TRAIN['class'].map(class_dict)\n",
    "AG_NEWS_TRAIN = AG_NEWS_TRAIN.sample(10000, axis= 0)\n",
    "AG_NEWS_TRAIN = AG_NEWS_TRAIN.reset_index()\n",
    "AG_NEWS_TRAIN = AG_NEWS_TRAIN.iloc[:, 1:4]\n",
    "AG_NEWS_TRAIN.shape\n",
    "AG_NEWS_TRAIN.head()"
   ]
  },
  {
   "cell_type": "code",
   "execution_count": 9,
   "metadata": {
    "ExecuteTime": {
     "end_time": "2020-01-07T00:46:12.549375Z",
     "start_time": "2020-01-07T00:46:12.519371Z"
    }
   },
   "outputs": [],
   "source": [
    "#AG_NEWS_train['class'].value_counts() # evenly distributed with each class of size 30000"
   ]
  },
  {
   "cell_type": "code",
   "execution_count": 12,
   "metadata": {
    "ExecuteTime": {
     "end_time": "2020-01-07T00:46:22.961323Z",
     "start_time": "2020-01-07T00:46:22.830057Z"
    }
   },
   "outputs": [],
   "source": [
    "AG_NEWS_TEST = pd.read_csv(AG_NEWS/'test.csv', names = header)"
   ]
  },
  {
   "cell_type": "markdown",
   "metadata": {},
   "source": [
    "#### read Dbpedia data "
   ]
  },
  {
   "cell_type": "code",
   "execution_count": 14,
   "metadata": {
    "ExecuteTime": {
     "end_time": "2020-01-07T00:46:27.277362Z",
     "start_time": "2020-01-07T00:46:27.247802Z"
    }
   },
   "outputs": [],
   "source": [
    "DBPEDIA = DATA/'Dbpedia'\n",
    "DBPEDIA.mkdir(exist_ok= True)\n",
    "header = ['class', 'title', 'contents']"
   ]
  },
  {
   "cell_type": "code",
   "execution_count": 15,
   "metadata": {
    "ExecuteTime": {
     "end_time": "2020-01-07T00:46:27.874703Z",
     "start_time": "2020-01-07T00:46:27.435350Z"
    }
   },
   "outputs": [],
   "source": [
    "#DBPEDIA_train = pd.read_csv(DBPEDIA/'train.csv', names= header)\n",
    "\n",
    "#DBPEDIA_train.shape # 559999 data entries\n",
    "\n",
    "\n",
    "# sample a smaller version  \n",
    "\n",
    "# DBPEDIA_TRAIN = DBPEDIA_train.sample(30000, axis= 0)\n",
    "# DBPEDIA_TRAIN = DBPEDIA_TRAIN.reset_index()\n",
    "# DBPEDIA_TRAIN = DBPEDIA_TRAIN.iloc[:, 1:4]\n",
    "# DBPEDIA_TRAIN['class'].unique() #14 classes \n",
    "\n",
    "# DBPEDIA_TRAIN.to_feather(DBPEDIA/'training_30k')\n",
    "DBPEDIA_TRAIN = pd.read_feather(DBPEDIA/'training_30k')"
   ]
  },
  {
   "cell_type": "code",
   "execution_count": 16,
   "metadata": {
    "ExecuteTime": {
     "end_time": "2020-01-07T00:46:27.968453Z",
     "start_time": "2020-01-07T00:46:27.930652Z"
    }
   },
   "outputs": [],
   "source": [
    "# read in the class dict\n",
    "with open(DBPEDIA/'classes.txt', 'r') as f:\n",
    "    class_ls = f.readlines()\n",
    "\n",
    "class_ls = [re.sub('\\n', \"\", i) for i in class_ls]\n",
    "\n",
    "class_dict = {k:v for k, v in enumerate(class_ls)}"
   ]
  },
  {
   "cell_type": "code",
   "execution_count": 17,
   "metadata": {
    "ExecuteTime": {
     "end_time": "2020-01-07T00:46:28.352205Z",
     "start_time": "2020-01-07T00:46:28.016768Z"
    }
   },
   "outputs": [],
   "source": [
    "#DBPEDIA_test = pd.read_csv(DBPEDIA/'test.csv', names= header)\n",
    "\n",
    "# DBPEDIA_TEST = DBPEDIA_test.sample(28000, axis= 0)\n",
    "# DBPEDIA_TEST = DBPEDIA_TEST.reset_index()\n",
    "# DBPEDIA_TEST = DBPEDIA_TEST.iloc[:, 1:4]\n",
    "# DBPEDIA_TEST[\"class\"].unique() #14 classes\n",
    "\n",
    "# DBPEDIA_TEST.to_feather(DBPEDIA/'TESTING')\n",
    "DBPEDIA_TEST = pd.read_feather(DBPEDIA/'TESTING')"
   ]
  },
  {
   "cell_type": "markdown",
   "metadata": {},
   "source": [
    "#### read Yelp review data"
   ]
  },
  {
   "cell_type": "code",
   "execution_count": 19,
   "metadata": {
    "ExecuteTime": {
     "end_time": "2020-01-07T00:46:41.465008Z",
     "start_time": "2020-01-07T00:46:41.439773Z"
    }
   },
   "outputs": [],
   "source": [
    "YELP = DATA/'Yelp'\n",
    "YELP.mkdir(exist_ok= True)\n",
    "header = ['class', 'review']"
   ]
  },
  {
   "cell_type": "code",
   "execution_count": 20,
   "metadata": {
    "ExecuteTime": {
     "end_time": "2020-01-07T00:46:42.200779Z",
     "start_time": "2020-01-07T00:46:41.743949Z"
    }
   },
   "outputs": [],
   "source": [
    "# YELP_train = pd.read_csv(YELP/'train.csv', names= header)\n",
    "\n",
    "# #DBPEDIA_train.shape # 559999 data entries\n",
    "\n",
    "\n",
    "# # sample a smaller version\n",
    "\n",
    "# YELP_TRAIN = YELP_train.sample(30000, axis= 0)\n",
    "# YELP_TRAIN = YELP_TRAIN.reset_index()\n",
    "# YELP_TRAIN = YELP_TRAIN.iloc[:, 1:3]\n",
    "\n",
    "# YELP_TRAIN.to_feather(YELP/'training_30k')\n",
    "YELP_TRAIN = pd.read_feather(YELP/'training_30k')"
   ]
  },
  {
   "cell_type": "code",
   "execution_count": 23,
   "metadata": {
    "ExecuteTime": {
     "end_time": "2020-01-07T00:46:57.965259Z",
     "start_time": "2020-01-07T00:46:57.923186Z"
    }
   },
   "outputs": [],
   "source": [
    "#YELP_test = pd.read_csv(YELP/'test.csv', names = header)\n",
    "\n",
    "# YELP_TEST = YELP_test.sample(10000, axis= 0)\n",
    "# YELP_TEST = YELP_TEST.reset_index()\n",
    "# YELP_TEST = YELP_TEST.iloc[:, 1:4]\n",
    "# YELP_TEST[\"class\"].unique() \n",
    "\n",
    "# YELP_TEST.to_feather(YELP/'TESTING')\n",
    "YELP_TEST = pd.read_feather(YELP/'TESTING')"
   ]
  },
  {
   "cell_type": "markdown",
   "metadata": {},
   "source": [
    "## Evaluate algorithums across datasets\n"
   ]
  },
  {
   "cell_type": "markdown",
   "metadata": {},
   "source": [
    "### Evaluate algorithm, marginize over #training and # class"
   ]
  },
  {
   "cell_type": "code",
   "execution_count": 8,
   "metadata": {
    "ExecuteTime": {
     "end_time": "2020-01-07T02:25:05.346681Z",
     "start_time": "2020-01-07T02:25:05.300963Z"
    }
   },
   "outputs": [],
   "source": [
    "from sklearn.model_selection import train_test_split\n",
    "\n",
    "from sklearn.feature_extraction.text import TfidfVectorizer\n",
    "\n",
    "from sklearn.feature_selection import chi2\n",
    "\n",
    "from sklearn.model_selection import train_test_split\n",
    "from sklearn.feature_extraction.text import CountVectorizer\n",
    "from sklearn.feature_extraction.text import TfidfTransformer\n",
    "\n",
    "\n",
    "from sklearn.naive_bayes import MultinomialNB\n",
    "from sklearn.linear_model import LogisticRegression\n",
    "from sklearn.ensemble import RandomForestClassifier\n",
    "from sklearn.svm import LinearSVC\n",
    "\n",
    "from sklearn.model_selection import cross_val_score"
   ]
  },
  {
   "cell_type": "markdown",
   "metadata": {
    "ExecuteTime": {
     "end_time": "2020-01-07T00:31:33.890421Z",
     "start_time": "2020-01-07T00:31:33.887252Z"
    }
   },
   "source": [
    "#### Ag_news boostrap"
   ]
  },
  {
   "cell_type": "markdown",
   "metadata": {
    "ExecuteTime": {
     "end_time": "2020-01-07T01:58:43.150235Z",
     "start_time": "2020-01-07T01:58:43.119299Z"
    }
   },
   "source": [
    "##### ML models"
   ]
  },
  {
   "cell_type": "code",
   "execution_count": 9,
   "metadata": {
    "ExecuteTime": {
     "end_time": "2020-01-07T02:25:08.852996Z",
     "start_time": "2020-01-07T02:25:08.821607Z"
    }
   },
   "outputs": [
    {
     "data": {
      "text/html": [
       "<div>\n",
       "<style scoped>\n",
       "    .dataframe tbody tr th:only-of-type {\n",
       "        vertical-align: middle;\n",
       "    }\n",
       "\n",
       "    .dataframe tbody tr th {\n",
       "        vertical-align: top;\n",
       "    }\n",
       "\n",
       "    .dataframe thead th {\n",
       "        text-align: right;\n",
       "    }\n",
       "</style>\n",
       "<table border=\"1\" class=\"dataframe\">\n",
       "  <thead>\n",
       "    <tr style=\"text-align: right;\">\n",
       "      <th></th>\n",
       "      <th>class</th>\n",
       "      <th>title</th>\n",
       "      <th>describ</th>\n",
       "    </tr>\n",
       "  </thead>\n",
       "  <tbody>\n",
       "    <tr>\n",
       "      <th>0</th>\n",
       "      <td>business</td>\n",
       "      <td>Update 1: Syneron Medical Shares Drop on Rejec...</td>\n",
       "      <td>Shares of Syneron Medical Ltd., a maker of cos...</td>\n",
       "    </tr>\n",
       "    <tr>\n",
       "      <th>1</th>\n",
       "      <td>sports</td>\n",
       "      <td>Raptors Carter Hurt; Pistons Roll in OT</td>\n",
       "      <td>AUBURN HILLS, Mich., Dec. 8 (Ticker) -- Richar...</td>\n",
       "    </tr>\n",
       "  </tbody>\n",
       "</table>\n",
       "</div>"
      ],
      "text/plain": [
       "      class                                              title  \\\n",
       "0  business  Update 1: Syneron Medical Shares Drop on Rejec...   \n",
       "1    sports            Raptors Carter Hurt; Pistons Roll in OT   \n",
       "\n",
       "                                             describ  \n",
       "0  Shares of Syneron Medical Ltd., a maker of cos...  \n",
       "1  AUBURN HILLS, Mich., Dec. 8 (Ticker) -- Richar...  "
      ]
     },
     "execution_count": 9,
     "metadata": {},
     "output_type": "execute_result"
    }
   ],
   "source": [
    "df = AG_NEWS_TRAIN # set df as inner pointer to this dataset\n",
    "df.head(2)"
   ]
  },
  {
   "cell_type": "code",
   "execution_count": 10,
   "metadata": {
    "ExecuteTime": {
     "end_time": "2020-01-07T02:25:11.328043Z",
     "start_time": "2020-01-07T02:25:11.291524Z"
    }
   },
   "outputs": [],
   "source": [
    "# Set the global vars for this dataset for diverse algorithums\n",
    "\n",
    "df['category_id'] = df['class'].factorize()[0]\n",
    "\n",
    "category_id_df = df[['class', 'category_id']\n",
    "                    ].drop_duplicates().sort_values('category_id')\n",
    "category_to_id = dict(category_id_df.values)\n",
    "id_to_category = {v: k for k, v in category_to_id.items()}"
   ]
  },
  {
   "cell_type": "code",
   "execution_count": 11,
   "metadata": {
    "ExecuteTime": {
     "end_time": "2020-01-07T02:25:14.459544Z",
     "start_time": "2020-01-07T02:25:12.011136Z"
    },
    "scrolled": true
   },
   "outputs": [
    {
     "data": {
      "text/plain": [
       "(10000, 9065)"
      ]
     },
     "execution_count": 11,
     "metadata": {},
     "output_type": "execute_result"
    }
   ],
   "source": [
    "# tfidf = TfidfVectorizer(sublinear_tf=True, norm='l2', min_df=5,\n",
    "#                         encoding='latin-1', ngram_range=(1, 3), stop_words='english')\n",
    "\n",
    "# features = tfidf.fit_transform(df.describ).toarray()  # features is the global var for this dataset block\n",
    "\n",
    "# labels = df.category_id  # labels also a global var\n",
    "\n",
    "# features.shape  # of size (30000, 24903)"
   ]
  },
  {
   "cell_type": "markdown",
   "metadata": {},
   "source": [
    "**The models haven been run and results saved,  thus no need to run the code below**"
   ]
  },
  {
   "cell_type": "code",
   "execution_count": 12,
   "metadata": {
    "ExecuteTime": {
     "end_time": "2020-01-07T02:28:23.541218Z",
     "start_time": "2020-01-07T02:25:19.933238Z"
    }
   },
   "outputs": [],
   "source": [
    "# models = [RandomForestClassifier(n_estimators=200, max_depth=3, random_state=0),\n",
    "#           LinearSVC(),\n",
    "#           MultinomialNB(),\n",
    "#           LogisticRegression(random_state=0, max_iter= 200)]\n",
    "\n",
    "# boot_num = 2\n",
    "# CV = 5\n",
    "# cv_df = pd.DataFrame(index=range(CV * len(models)))\n",
    "# entries = []\n",
    "\n",
    "# for i in range(boot_num):\n",
    "#     for model in models:\n",
    "#         model_name = model.__class__.__name__\n",
    "#         accuracies = cross_val_score(model, features, labels, scoring='accuracy', cv=CV)\n",
    "#         for _, accuracy in enumerate(accuracies):\n",
    "#             #print(f'finished {model_name}, {i}th bootstrap of {_}th epochs')\n",
    "#             entries.append((model_name, accuracy))\n",
    "\n",
    "        \n",
    "# cv_df = pd.DataFrame(entries, columns=['model_name', 'accuracy'])"
   ]
  },
  {
   "cell_type": "code",
   "execution_count": 21,
   "metadata": {
    "ExecuteTime": {
     "end_time": "2020-01-07T02:35:13.166106Z",
     "start_time": "2020-01-07T02:35:13.137890Z"
    }
   },
   "outputs": [
    {
     "data": {
      "text/plain": [
       "(40, 2)"
      ]
     },
     "execution_count": 21,
     "metadata": {},
     "output_type": "execute_result"
    }
   ],
   "source": [
    "cv_df.shape"
   ]
  },
  {
   "cell_type": "code",
   "execution_count": 28,
   "metadata": {
    "ExecuteTime": {
     "end_time": "2020-01-07T02:39:51.154243Z",
     "start_time": "2020-01-07T02:39:51.124744Z"
    }
   },
   "outputs": [],
   "source": [
    "#cv_df.to_csv(AG_NEWS/'ml_agnews_accu_10', index = False)\n",
    "ml_agnews_accu_10 = pd.read_csv(AG_NEWS/'ml_agnews_accu_10')"
   ]
  },
  {
   "cell_type": "code",
   "execution_count": 32,
   "metadata": {
    "ExecuteTime": {
     "end_time": "2020-01-07T02:40:30.833660Z",
     "start_time": "2020-01-07T02:40:30.678164Z"
    }
   },
   "outputs": [
    {
     "data": {
      "image/png": "[encoded data removed]"
     },
     "metadata": {},
     "output_type": "display_data"
    }
   ],
   "source": [
    "%%R -i cv_df -w 7 -h 5 -u in \n",
    "\n",
    "library(ggplot2)\n",
    "ggplot(cv_df, aes(x= model_name)) +\n",
    "    geom_jitter(aes(y = accuracy) )\n",
    "\n"
   ]
  },
  {
   "cell_type": "markdown",
   "metadata": {
    "ExecuteTime": {
     "start_time": "2020-01-07T02:21:46.011Z"
    }
   },
   "source": [
    "##### DL methods"
   ]
  },
  {
   "cell_type": "code",
   "execution_count": null,
   "metadata": {},
   "outputs": [],
   "source": [
    "# basic block\n",
    "class Config(dict):\n",
    "    def __init__(self, **kwargs):\n",
    "        super().__init__(**kwargs)\n",
    "        for k, v in kwargs.items():\n",
    "            setattr(self, k, v)\n",
    "    \n",
    "    def set(self, key, val):\n",
    "        self[key] = val\n",
    "        setattr(self, key, val)\n",
    "\n",
    "config = Config(\n",
    "    bert_model_name=\"bert-base-uncased\",\n",
    "    max_lr=3e-5,\n",
    "    epochs=1,\n",
    "    use_fp16= True,\n",
    "    bs= 8,\n",
    "    discriminative=False,\n",
    "    max_seq_len=128,\n",
    "    num_labels = 5 # Remember to set the num_labels here\n",
    ")\n",
    "\n",
    "from pytorch_transformers import *\n",
    "bert_tok = BertTokenizer.from_pretrained(\n",
    "    config.bert_model_name,\n",
    ")\n",
    "\n",
    "class FastAiBertTokenizer(BaseTokenizer):\n",
    "    \"\"\"Wrapper around BertTokenizer to be compatible with fast.ai\"\"\"\n",
    "    def __init__(self, tokenizer: BertTokenizer, max_seq_len: int=128, **kwargs):\n",
    "        self._pretrained_tokenizer = tokenizer\n",
    "        self.max_seq_len = max_seq_len\n",
    "\n",
    "    def __call__(self, *args, **kwargs):\n",
    "        return self\n",
    "\n",
    "    def tokenizer(self, t:str) -> List[str]:\n",
    "        \"\"\"Limits the maximum sequence length\"\"\"\n",
    "        return [\"[CLS]\"] + self._pretrained_tokenizer.tokenize(t)[:self.max_seq_len - 2] + [\"[SEP]\"]\n",
    "\n",
    "fastai_tokenizer = Tokenizer(tok_func=FastAiBertTokenizer(bert_tok, max_seq_len=config.max_seq_len), pre_rules=[], post_rules=[])\n",
    "\n",
    "fastai_bert_vocab = Vocab(list(bert_tok.vocab.keys()))\n",
    "\n",
    "#DATA = pd.read_csv(\"uni_frame_fromR.csv\", encoding = \"ISO-8859-1\")\n",
    "\n",
    "\n",
    "\n",
    "\n",
    "\n",
    "bert_model = BertForSequenceClassification.from_pretrained(config.bert_model_name, num_labels= config.num_labels)\n",
    "\n",
    "loss_func = nn.CrossEntropyLoss()\n",
    "\n",
    "def loss_batch_bert(model:nn.Module, xb:Tensor, yb:Tensor, loss_func:OptLossFunc=None, opt:OptOptimizer=None,\n",
    "               cb_handler:Optional[CallbackHandler]=None)->Tuple[Union[Tensor,int,float,str]]:\n",
    "    \"Calculate loss and metrics for a batch, call out to callbacks as necessary.\"\n",
    "    cb_handler = ifnone(cb_handler, CallbackHandler())\n",
    "    if not is_listy(xb): xb = [xb]\n",
    "    if not is_listy(yb): yb = [yb]\n",
    "    out = model(*xb)\n",
    "    #pdb.set_trace()\n",
    "    out = out[0]\n",
    "    out = cb_handler.on_loss_begin(out)\n",
    "\n",
    "    if not loss_func: return to_detach(out), yb[0].detach()\n",
    "    loss = loss_func(out, *yb)\n",
    "\n",
    "    if opt is not None:\n",
    "        loss,skip_bwd = cb_handler.on_backward_begin(loss)\n",
    "        if not skip_bwd:                     loss.backward()\n",
    "        if not cb_handler.on_backward_end(): opt.step()\n",
    "        if not cb_handler.on_step_end():     opt.zero_grad()\n",
    "\n",
    "    return loss.detach().cpu()\n",
    "\n",
    "# To change the loss_batch function in the loaded fastai module\n",
    "module_basic_train = sys.modules['fastai.basic_train']\n",
    "module_basic_train.loss_batch = loss_batch_bert\n",
    "sys.modules['fastai.basic_train'] = module_basic_train"
   ]
  },
  {
   "cell_type": "code",
   "execution_count": null,
   "metadata": {},
   "outputs": [],
   "source": [
    "train, val = train_test_split(df)\n",
    "label_cols = ['frame']\n",
    "\n",
    "databunch = TextDataBunch.from_df(\".\", train, val,\n",
    "                  tokenizer=fastai_tokenizer,\n",
    "                  vocab=fastai_bert_vocab,\n",
    "                  include_bos=False,\n",
    "                  include_eos=False,\n",
    "                  text_cols= \"text\",\n",
    "                  label_cols=label_cols,\n",
    "                  bs=config.bs,\n",
    "                  collate_fn=partial(pad_collate, pad_first=False, pad_idx=0),\n",
    "             )"
   ]
  }
 ],
 "metadata": {
  "kernelspec": {
   "display_name": "Python 3",
   "language": "python",
   "name": "python3"
  },
  "language_info": {
   "codemirror_mode": {
    "name": "ipython",
    "version": 3
   },
   "file_extension": ".py",
   "mimetype": "text/x-python",
   "name": "python",
   "nbconvert_exporter": "python",
   "pygments_lexer": "ipython3",
   "version": "3.7.4"
  },
  "toc": {
   "base_numbering": 1,
   "nav_menu": {},
   "number_sections": true,
   "sideBar": true,
   "skip_h1_title": false,
   "title_cell": "Table of Contents",
   "title_sidebar": "Contents",
   "toc_cell": false,
   "toc_position": {},
   "toc_section_display": true,
   "toc_window_display": true
  },
  "varInspector": {
   "cols": {
    "lenName": 16,
    "lenType": 16,
    "lenVar": 40
   },
   "kernels_config": {
    "python": {
     "delete_cmd_postfix": "",
     "delete_cmd_prefix": "del ",
     "library": "var_list.py",
     "varRefreshCmd": "print(var_dic_list())"
    },
    "r": {
     "delete_cmd_postfix": ") ",
     "delete_cmd_prefix": "rm(",
     "library": "var_list.r",
     "varRefreshCmd": "cat(var_dic_list()) "
    }
   },
   "types_to_exclude": [
    "module",
    "function",
    "builtin_function_or_method",
    "instance",
    "_Feature"
   ],
   "window_display": false
  }
 },
 "nbformat": 4,
 "nbformat_minor": 2
}
