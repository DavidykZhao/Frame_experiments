{
 "cells": [
  {
   "cell_type": "markdown",
   "metadata": {},
   "source": []
  },
  {
   "cell_type": "markdown",
   "metadata": {
    "ExecuteTime": {
     "end_time": "2020-01-07T02:28:36.718706Z",
     "start_time": "2020-01-07T02:28:36.691277Z"
    }
   },
   "source": [
    "## Loading data and dependencies"
   ]
  },
  {
   "cell_type": "markdown",
   "metadata": {},
   "source": [
    "###  Load the necessary packages"
   ]
  },
  {
   "cell_type": "code",
   "execution_count": 1,
   "metadata": {
    "ExecuteTime": {
     "end_time": "2020-01-08T04:33:11.101517Z",
     "start_time": "2020-01-08T04:33:11.078314Z"
    }
   },
   "outputs": [],
   "source": [
    "%reload_ext autoreload\n",
    "%autoreload 2\n",
    "%matplotlib inline"
   ]
  },
  {
   "cell_type": "code",
   "execution_count": 2,
   "metadata": {
    "ExecuteTime": {
     "end_time": "2020-01-08T04:33:14.523805Z",
     "start_time": "2020-01-08T04:33:11.550580Z"
    }
   },
   "outputs": [],
   "source": [
    "import numpy as np\n",
    "import pandas as pd\n",
    "from pathlib import Path\n",
    "from typing import *\n",
    "import torch\n",
    "import torch.optim as optim\n",
    "\n",
    "from fastai import *\n",
    "from fastai.text import *\n",
    "from pytorch_transformers import *\n",
    "\n",
    "\n",
    "from fastai.basic_train import *\n",
    "from fastai.basic_train import BasicLearner\n",
    "import sys\n",
    "from sklearn.model_selection import train_test_split\n",
    "\n",
    "from sklearn.feature_extraction.text import TfidfVectorizer\n",
    "\n",
    "from sklearn.feature_selection import chi2\n",
    "from sklearn.metrics import accuracy_score\n",
    "import numpy as np"
   ]
  },
  {
   "cell_type": "code",
   "execution_count": 47,
   "metadata": {
    "ExecuteTime": {
     "end_time": "2020-01-08T05:44:18.733121Z",
     "start_time": "2020-01-08T05:44:18.698015Z"
    }
   },
   "outputs": [
    {
     "ename": "NameError",
     "evalue": "name 'pd' is not defined",
     "output_type": "error",
     "traceback": [
      "\u001b[0;31m---------------------------------------------------------------------------\u001b[0m",
      "\u001b[0;31mNameError\u001b[0m                                 Traceback (most recent call last)",
      "\u001b[0;32m<ipython-input-47-bf620954738b>\u001b[0m in \u001b[0;36m<module>\u001b[0;34m\u001b[0m\n\u001b[0;32m----> 1\u001b[0;31m \u001b[0;32mfrom\u001b[0m \u001b[0mexp\u001b[0m\u001b[0;34m.\u001b[0m\u001b[0mnb_Frame\u001b[0m \u001b[0;32mimport\u001b[0m \u001b[0;34m*\u001b[0m\u001b[0;34m\u001b[0m\u001b[0;34m\u001b[0m\u001b[0m\n\u001b[0m",
      "\u001b[0;32m~/Frame_experiments/exp/nb_Frame.py\u001b[0m in \u001b[0;36m<module>\u001b[0;34m\u001b[0m\n\u001b[1;32m      5\u001b[0m \u001b[0;31m# file to edit: dev_nb/Frame_experiments.ipynb\u001b[0m\u001b[0;34m\u001b[0m\u001b[0;34m\u001b[0m\u001b[0;34m\u001b[0m\u001b[0m\n\u001b[1;32m      6\u001b[0m \u001b[0;34m\u001b[0m\u001b[0m\n\u001b[0;32m----> 7\u001b[0;31m \u001b[0;32mdef\u001b[0m \u001b[0malgo_training_size_looper\u001b[0m\u001b[0;34m(\u001b[0m\u001b[0msize\u001b[0m\u001b[0;34m:\u001b[0m \u001b[0mlist\u001b[0m\u001b[0;34m,\u001b[0m \u001b[0mx_train\u001b[0m\u001b[0;34m:\u001b[0m \u001b[0mpd\u001b[0m\u001b[0;34m.\u001b[0m\u001b[0mDataFrame\u001b[0m\u001b[0;34m,\u001b[0m \u001b[0my_train\u001b[0m\u001b[0;34m:\u001b[0m \u001b[0mpd\u001b[0m\u001b[0;34m.\u001b[0m\u001b[0mDataFrame\u001b[0m\u001b[0;34m,\u001b[0m \u001b[0mx_test\u001b[0m\u001b[0;34m,\u001b[0m \u001b[0my_test\u001b[0m\u001b[0;34m)\u001b[0m \u001b[0;34m->\u001b[0m \u001b[0mpd\u001b[0m\u001b[0;34m.\u001b[0m\u001b[0mDataFrame\u001b[0m\u001b[0;34m:\u001b[0m\u001b[0;34m\u001b[0m\u001b[0;34m\u001b[0m\u001b[0m\n\u001b[0m\u001b[1;32m      8\u001b[0m     \"\"\"Loop over a dataset with varying training size and algorithums and returns a dataframe.\n\u001b[1;32m      9\u001b[0m \u001b[0;34m\u001b[0m\u001b[0m\n",
      "\u001b[0;31mNameError\u001b[0m: name 'pd' is not defined"
     ]
    }
   ],
   "source": [
    "from exp.nb_Frame import *"
   ]
  },
  {
   "cell_type": "code",
   "execution_count": 3,
   "metadata": {
    "ExecuteTime": {
     "end_time": "2020-01-08T04:33:14.792336Z",
     "start_time": "2020-01-08T04:33:14.752895Z"
    }
   },
   "outputs": [],
   "source": [
    "\n",
    "\n",
    "\n",
    "from sklearn.feature_extraction.text import CountVectorizer\n",
    "from sklearn.feature_extraction.text import TfidfTransformer\n",
    "\n",
    "\n",
    "from sklearn.naive_bayes import MultinomialNB\n",
    "from sklearn.linear_model import LogisticRegression\n",
    "from sklearn.ensemble import RandomForestClassifier\n",
    "from sklearn.svm import LinearSVC\n",
    "from sklearn.model_selection import StratifiedKFold\n",
    "\n",
    "from sklearn.model_selection import cross_val_score"
   ]
  },
  {
   "cell_type": "code",
   "execution_count": 3,
   "metadata": {
    "ExecuteTime": {
     "end_time": "2020-01-07T04:30:11.405294Z",
     "start_time": "2020-01-07T04:30:08.531430Z"
    }
   },
   "outputs": [],
   "source": [
    "## load ggplot support\n",
    "\n",
    "import rpy2\n",
    "\n",
    "# the base of rpy2 plotting is matplotlib, thus we need to declare\n",
    "# it inline in order to see the plots in the notebook\n",
    "%matplotlib inline\n",
    "\n",
    "# we need to activate the automatic conversion for pandas\n",
    "from rpy2.robjects import pandas2ri\n",
    "pandas2ri.activate()\n",
    "\n",
    "# load the needed extension for the %%R cell magic\n",
    "%load_ext rpy2.ipython"
   ]
  },
  {
   "cell_type": "markdown",
   "metadata": {},
   "source": [
    "###  Read in the data and split them"
   ]
  },
  {
   "cell_type": "markdown",
   "metadata": {},
   "source": [
    "#### Read and process Ag_news data"
   ]
  },
  {
   "cell_type": "code",
   "execution_count": 4,
   "metadata": {
    "ExecuteTime": {
     "end_time": "2020-01-08T04:33:20.873712Z",
     "start_time": "2020-01-08T04:33:20.848807Z"
    }
   },
   "outputs": [],
   "source": [
    "DATA = Path(os.getcwd())/'Data'\n",
    "AG_NEWS = Path(os.getcwd())/'Data'/'Ag_news'\n",
    "header = ['class', 'title', 'describ']"
   ]
  },
  {
   "cell_type": "code",
   "execution_count": 5,
   "metadata": {
    "ExecuteTime": {
     "end_time": "2020-01-08T02:23:32.036826Z",
     "start_time": "2020-01-08T02:23:32.012734Z"
    }
   },
   "outputs": [],
   "source": [
    "\n",
    "#AG_NEWS_train = pd.read_csv(AG_NEWS_folder/'train.csv', names = header)\n",
    "\n",
    "# sample a smaller version  \n",
    "\n",
    "\n",
    "# AG_NEWS_TRAIN = AG_NEWS_TRAIN.iloc[:, 1:4]\n",
    "# AG_NEWS_TRAIN.head()\n"
   ]
  },
  {
   "cell_type": "code",
   "execution_count": 5,
   "metadata": {
    "ExecuteTime": {
     "end_time": "2020-01-08T04:33:22.290033Z",
     "start_time": "2020-01-08T04:33:22.264490Z"
    }
   },
   "outputs": [],
   "source": [
    "# set the class dict for the class col\n",
    "class_dict = {1: 'world', \n",
    "             2: 'sports',\n",
    "             3: 'business',\n",
    "             4: 'sci_tech'}"
   ]
  },
  {
   "cell_type": "code",
   "execution_count": 6,
   "metadata": {
    "ExecuteTime": {
     "end_time": "2020-01-08T04:33:22.570646Z",
     "start_time": "2020-01-08T04:33:22.495827Z"
    }
   },
   "outputs": [
    {
     "data": {
      "text/plain": [
       "(10000, 3)"
      ]
     },
     "execution_count": 6,
     "metadata": {},
     "output_type": "execute_result"
    }
   ],
   "source": [
    "#AG_NEWS_TRAIN.to_feather(AG_NEWS/'training_30k')\n",
    "AG_NEWS_TRAIN = pd.read_feather(AG_NEWS/'training_30k')\n",
    "AG_NEWS_TRAIN['class'] = AG_NEWS_TRAIN['class'].map(class_dict)\n",
    "AG_NEWS_TRAIN = AG_NEWS_TRAIN.sample(10000, axis= 0)\n",
    "AG_NEWS_TRAIN = AG_NEWS_TRAIN.reset_index()\n",
    "AG_NEWS_TRAIN = AG_NEWS_TRAIN.iloc[:, 1:4]\n",
    "AG_NEWS_TRAIN.shape\n",
    "#AG_NEWS_TRAIN.head()"
   ]
  },
  {
   "cell_type": "code",
   "execution_count": 9,
   "metadata": {
    "ExecuteTime": {
     "end_time": "2020-01-07T00:46:12.549375Z",
     "start_time": "2020-01-07T00:46:12.519371Z"
    }
   },
   "outputs": [],
   "source": [
    "#AG_NEWS_train['class'].value_counts() # evenly distributed with each class of size 30000"
   ]
  },
  {
   "cell_type": "code",
   "execution_count": 12,
   "metadata": {
    "ExecuteTime": {
     "end_time": "2020-01-07T00:46:22.961323Z",
     "start_time": "2020-01-07T00:46:22.830057Z"
    }
   },
   "outputs": [],
   "source": [
    "AG_NEWS_TEST = pd.read_csv(AG_NEWS/'test.csv', names = header)"
   ]
  },
  {
   "cell_type": "markdown",
   "metadata": {},
   "source": [
    "#### read Dbpedia data "
   ]
  },
  {
   "cell_type": "code",
   "execution_count": 53,
   "metadata": {
    "ExecuteTime": {
     "end_time": "2020-01-08T05:53:20.478790Z",
     "start_time": "2020-01-08T05:53:20.452750Z"
    }
   },
   "outputs": [],
   "source": [
    "DATA = Path(os.getcwd())/'Data'\n",
    "\n",
    "DBPEDIA = DATA/'Dbpedia'\n",
    "DBPEDIA.mkdir(exist_ok= True)\n",
    "header = ['class', 'title', 'contents']"
   ]
  },
  {
   "cell_type": "code",
   "execution_count": 54,
   "metadata": {
    "ExecuteTime": {
     "end_time": "2020-01-08T05:53:28.066569Z",
     "start_time": "2020-01-08T05:53:27.988515Z"
    }
   },
   "outputs": [
    {
     "data": {
      "text/plain": [
       "(27841, 3)"
      ]
     },
     "execution_count": 54,
     "metadata": {},
     "output_type": "execute_result"
    }
   ],
   "source": [
    "#DBPEDIA_train = pd.read_csv(DBPEDIA/'train.csv', names= header)\n",
    "\n",
    "#DBPEDIA_train.shape # 559999 data entries\n",
    "\n",
    "\n",
    "# sample a smaller version  \n",
    "\n",
    "# DBPEDIA_TRAIN = DBPEDIA_train.sample(30000, axis= 0)\n",
    "# DBPEDIA_TRAIN = DBPEDIA_TRAIN.reset_index()\n",
    "# DBPEDIA_TRAIN = DBPEDIA_TRAIN.iloc[:, 1:4]\n",
    "# DBPEDIA_TRAIN['class'].unique() #14 classes \n",
    "\n",
    "# DBPEDIA_TRAIN.to_feather(DBPEDIA/'training_30k')\n",
    "DBPEDIA_TRAIN = pd.read_feather(DBPEDIA/'training_30k')\n",
    "# read in the class dict\n",
    "with open(DBPEDIA/'classes.txt', 'r') as f:\n",
    "    class_ls = f.readlines()\n",
    "\n",
    "class_ls = [re.sub('\\n', \"\", i) for i in class_ls]\n",
    "\n",
    "class_dict = {k:v for k, v in enumerate(class_ls)}\n",
    "\n",
    "DBPEDIA_TRAIN['class'] = DBPEDIA_TRAIN['class'].map(class_dict) # The data has been class transformed\n",
    "DBPEDIA_TRAIN = DBPEDIA_TRAIN[DBPEDIA_TRAIN['class'].notnull()] # mislabled one class in original dataset; filtered out here\n",
    "DBPEDIA_TRAIN.shape"
   ]
  },
  {
   "cell_type": "code",
   "execution_count": 55,
   "metadata": {
    "ExecuteTime": {
     "end_time": "2020-01-08T05:53:28.977469Z",
     "start_time": "2020-01-08T05:53:28.947813Z"
    }
   },
   "outputs": [
    {
     "data": {
      "text/html": [
       "<div>\n",
       "<style scoped>\n",
       "    .dataframe tbody tr th:only-of-type {\n",
       "        vertical-align: middle;\n",
       "    }\n",
       "\n",
       "    .dataframe tbody tr th {\n",
       "        vertical-align: top;\n",
       "    }\n",
       "\n",
       "    .dataframe thead th {\n",
       "        text-align: right;\n",
       "    }\n",
       "</style>\n",
       "<table border=\"1\" class=\"dataframe\">\n",
       "  <thead>\n",
       "    <tr style=\"text-align: right;\">\n",
       "      <th></th>\n",
       "      <th>class</th>\n",
       "      <th>title</th>\n",
       "      <th>contents</th>\n",
       "    </tr>\n",
       "  </thead>\n",
       "  <tbody>\n",
       "    <tr>\n",
       "      <th>0</th>\n",
       "      <td>Building</td>\n",
       "      <td>Peckett OQ Class</td>\n",
       "      <td>The Peckett OQ was a series of three Industri...</td>\n",
       "    </tr>\n",
       "    <tr>\n",
       "      <th>1</th>\n",
       "      <td>NaturalPlace</td>\n",
       "      <td>Yas Viceroy Abu Dhabi Hotel</td>\n",
       "      <td>Yas Viceroy Abu Dhabi Hotel is built across t...</td>\n",
       "    </tr>\n",
       "    <tr>\n",
       "      <th>2</th>\n",
       "      <td>Athlete</td>\n",
       "      <td>Stephen Frink</td>\n",
       "      <td>Stephen Frink is a prolific underwater photog...</td>\n",
       "    </tr>\n",
       "    <tr>\n",
       "      <th>3</th>\n",
       "      <td>Album</td>\n",
       "      <td>Centaurea diffusa</td>\n",
       "      <td>Diffuse Knapweed (Centaurea diffusa) also kno...</td>\n",
       "    </tr>\n",
       "    <tr>\n",
       "      <th>4</th>\n",
       "      <td>Village</td>\n",
       "      <td>Djedi River</td>\n",
       "      <td>Djedi River (French: Oued Djedi or Ouad-ed-Dj...</td>\n",
       "    </tr>\n",
       "  </tbody>\n",
       "</table>\n",
       "</div>"
      ],
      "text/plain": [
       "          class                        title  \\\n",
       "0      Building             Peckett OQ Class   \n",
       "1  NaturalPlace  Yas Viceroy Abu Dhabi Hotel   \n",
       "2       Athlete                Stephen Frink   \n",
       "3         Album            Centaurea diffusa   \n",
       "4       Village                  Djedi River   \n",
       "\n",
       "                                            contents  \n",
       "0   The Peckett OQ was a series of three Industri...  \n",
       "1   Yas Viceroy Abu Dhabi Hotel is built across t...  \n",
       "2   Stephen Frink is a prolific underwater photog...  \n",
       "3   Diffuse Knapweed (Centaurea diffusa) also kno...  \n",
       "4   Djedi River (French: Oued Djedi or Ouad-ed-Dj...  "
      ]
     },
     "execution_count": 55,
     "metadata": {},
     "output_type": "execute_result"
    }
   ],
   "source": [
    "DBPEDIA_TRAIN.head()"
   ]
  },
  {
   "cell_type": "code",
   "execution_count": 17,
   "metadata": {
    "ExecuteTime": {
     "end_time": "2020-01-07T00:46:28.352205Z",
     "start_time": "2020-01-07T00:46:28.016768Z"
    }
   },
   "outputs": [],
   "source": [
    "#DBPEDIA_test = pd.read_csv(DBPEDIA/'test.csv', names= header)\n",
    "\n",
    "# DBPEDIA_TEST = DBPEDIA_test.sample(28000, axis= 0)\n",
    "# DBPEDIA_TEST = DBPEDIA_TEST.reset_index()\n",
    "# DBPEDIA_TEST = DBPEDIA_TEST.iloc[:, 1:4]\n",
    "# DBPEDIA_TEST[\"class\"].unique() #14 classes\n",
    "\n",
    "# DBPEDIA_TEST.to_feather(DBPEDIA/'TESTING')\n",
    "DBPEDIA_TEST = pd.read_feather(DBPEDIA/'TESTING')"
   ]
  },
  {
   "cell_type": "markdown",
   "metadata": {},
   "source": [
    "#### read Yelp review data"
   ]
  },
  {
   "cell_type": "code",
   "execution_count": 63,
   "metadata": {
    "ExecuteTime": {
     "end_time": "2020-01-08T06:31:45.147273Z",
     "start_time": "2020-01-08T06:31:45.122357Z"
    }
   },
   "outputs": [],
   "source": [
    "YELP = DATA/'Yelp'\n",
    "YELP.mkdir(exist_ok= True)\n",
    "header = ['class', 'review']"
   ]
  },
  {
   "cell_type": "code",
   "execution_count": 64,
   "metadata": {
    "ExecuteTime": {
     "end_time": "2020-01-08T06:31:48.694145Z",
     "start_time": "2020-01-08T06:31:48.652681Z"
    }
   },
   "outputs": [],
   "source": [
    "# YELP_train = pd.read_csv(YELP/'train.csv', names= header)\n",
    "\n",
    "# #DBPEDIA_train.shape # 559999 data entries\n",
    "\n",
    "\n",
    "# # sample a smaller version\n",
    "\n",
    "# YELP_TRAIN = YELP_train.sample(30000, axis= 0)\n",
    "# YELP_TRAIN = YELP_TRAIN.reset_index()\n",
    "# YELP_TRAIN = YELP_TRAIN.iloc[:, 1:3]\n",
    "\n",
    "# # YELP_TRAIN.to_feather(YELP/'training_30k')\n",
    "# YELP_TRAIN = pd.read_feather(YELP/'training_30k')\n",
    "\n",
    "    \n",
    "# YELP_TRAIN = YELP_TRAIN.sample(12500, axis= 0)\n",
    "# YELP_TRAIN = YELP_TRAIN.reset_index()\n",
    "# YELP_TRAIN = YELP_TRAIN.iloc[:, 1:3]\n",
    "\n",
    "# YELP_TRAIN.to_feather(YELP/'training_10k')\n",
    "YELP_TRAIN = pd.read_feather(YELP/'training_10k')\n"
   ]
  },
  {
   "cell_type": "code",
   "execution_count": 65,
   "metadata": {
    "ExecuteTime": {
     "end_time": "2020-01-08T06:31:49.570885Z",
     "start_time": "2020-01-08T06:31:49.541335Z"
    }
   },
   "outputs": [
    {
     "data": {
      "text/html": [
       "<div>\n",
       "<style scoped>\n",
       "    .dataframe tbody tr th:only-of-type {\n",
       "        vertical-align: middle;\n",
       "    }\n",
       "\n",
       "    .dataframe tbody tr th {\n",
       "        vertical-align: top;\n",
       "    }\n",
       "\n",
       "    .dataframe thead th {\n",
       "        text-align: right;\n",
       "    }\n",
       "</style>\n",
       "<table border=\"1\" class=\"dataframe\">\n",
       "  <thead>\n",
       "    <tr style=\"text-align: right;\">\n",
       "      <th></th>\n",
       "      <th>class</th>\n",
       "      <th>title</th>\n",
       "    </tr>\n",
       "  </thead>\n",
       "  <tbody>\n",
       "    <tr>\n",
       "      <th>0</th>\n",
       "      <td>1</td>\n",
       "      <td>The apartment I rented was infested with scorp...</td>\n",
       "    </tr>\n",
       "    <tr>\n",
       "      <th>1</th>\n",
       "      <td>4</td>\n",
       "      <td>It seems like other folks had different experi...</td>\n",
       "    </tr>\n",
       "    <tr>\n",
       "      <th>2</th>\n",
       "      <td>5</td>\n",
       "      <td>Our first visit to this store was to go to the...</td>\n",
       "    </tr>\n",
       "    <tr>\n",
       "      <th>3</th>\n",
       "      <td>3</td>\n",
       "      <td>So nice to have a little wine spot in the neig...</td>\n",
       "    </tr>\n",
       "    <tr>\n",
       "      <th>4</th>\n",
       "      <td>3</td>\n",
       "      <td>Just your typical Arizonian Italian restaurant</td>\n",
       "    </tr>\n",
       "  </tbody>\n",
       "</table>\n",
       "</div>"
      ],
      "text/plain": [
       "   class                                              title\n",
       "0      1  The apartment I rented was infested with scorp...\n",
       "1      4  It seems like other folks had different experi...\n",
       "2      5  Our first visit to this store was to go to the...\n",
       "3      3  So nice to have a little wine spot in the neig...\n",
       "4      3     Just your typical Arizonian Italian restaurant"
      ]
     },
     "execution_count": 65,
     "metadata": {},
     "output_type": "execute_result"
    }
   ],
   "source": [
    "YELP_TRAIN.head()"
   ]
  },
  {
   "cell_type": "code",
   "execution_count": 23,
   "metadata": {
    "ExecuteTime": {
     "end_time": "2020-01-07T00:46:57.965259Z",
     "start_time": "2020-01-07T00:46:57.923186Z"
    }
   },
   "outputs": [],
   "source": [
    "#YELP_test = pd.read_csv(YELP/'test.csv', names = header)\n",
    "\n",
    "# YELP_TEST = YELP_test.sample(10000, axis= 0)\n",
    "# YELP_TEST = YELP_TEST.reset_index()\n",
    "# YELP_TEST = YELP_TEST.iloc[:, 1:4]\n",
    "# YELP_TEST[\"class\"].unique() \n",
    "\n",
    "# YELP_TEST.to_feather(YELP/'TESTING')\n",
    "YELP_TEST = pd.read_feather(YELP/'TESTING')"
   ]
  },
  {
   "cell_type": "markdown",
   "metadata": {},
   "source": [
    "#### read Amazon review data"
   ]
  },
  {
   "cell_type": "code",
   "execution_count": 75,
   "metadata": {
    "ExecuteTime": {
     "end_time": "2020-01-08T06:52:33.932254Z",
     "start_time": "2020-01-08T06:52:33.908162Z"
    }
   },
   "outputs": [],
   "source": [
    "AMAZON = DATA/'Amazon_full'\n",
    "AMAZON.mkdir(exist_ok= True)\n",
    "header = ['class', 'title', 'review']"
   ]
  },
  {
   "cell_type": "code",
   "execution_count": 22,
   "metadata": {
    "ExecuteTime": {
     "end_time": "2020-01-07T21:43:23.245776Z",
     "start_time": "2020-01-07T21:43:08.891149Z"
    }
   },
   "outputs": [],
   "source": [
    "#AMAZON_train = pd.read_csv(AMAZON/'train.csv', names= header)\n"
   ]
  },
  {
   "cell_type": "code",
   "execution_count": 76,
   "metadata": {
    "ExecuteTime": {
     "end_time": "2020-01-08T06:52:52.081985Z",
     "start_time": "2020-01-08T06:52:52.041820Z"
    }
   },
   "outputs": [],
   "source": [
    "# sample a smaller version\n",
    "\n",
    "# AMAZON_TRAIN = AMAZON_train.sample(12500, axis= 0)\n",
    "# AMAZON_TRAIN = AMAZON_TRAIN.reset_index()\n",
    "# AMAZON_TRAIN = AMAZON_TRAIN.iloc[:, 1:4]\n",
    "\n",
    "# AMAZON_TRAIN.to_feather(AMAZON/'training_10k')\n",
    "AMAZON_TRAIN = pd.read_feather(AMAZON/'training_10k')"
   ]
  },
  {
   "cell_type": "code",
   "execution_count": 77,
   "metadata": {
    "ExecuteTime": {
     "end_time": "2020-01-08T06:52:59.070179Z",
     "start_time": "2020-01-08T06:52:59.040206Z"
    }
   },
   "outputs": [
    {
     "data": {
      "text/html": [
       "<div>\n",
       "<style scoped>\n",
       "    .dataframe tbody tr th:only-of-type {\n",
       "        vertical-align: middle;\n",
       "    }\n",
       "\n",
       "    .dataframe tbody tr th {\n",
       "        vertical-align: top;\n",
       "    }\n",
       "\n",
       "    .dataframe thead th {\n",
       "        text-align: right;\n",
       "    }\n",
       "</style>\n",
       "<table border=\"1\" class=\"dataframe\">\n",
       "  <thead>\n",
       "    <tr style=\"text-align: right;\">\n",
       "      <th></th>\n",
       "      <th>class</th>\n",
       "      <th>title</th>\n",
       "      <th>review</th>\n",
       "    </tr>\n",
       "  </thead>\n",
       "  <tbody>\n",
       "    <tr>\n",
       "      <th>0</th>\n",
       "      <td>1</td>\n",
       "      <td>Kindle version only</td>\n",
       "      <td>From reading the other comments the book sound...</td>\n",
       "    </tr>\n",
       "    <tr>\n",
       "      <th>1</th>\n",
       "      <td>4</td>\n",
       "      <td>A Perfect Family Film!!!</td>\n",
       "      <td>This was a really good movie about a little gi...</td>\n",
       "    </tr>\n",
       "  </tbody>\n",
       "</table>\n",
       "</div>"
      ],
      "text/plain": [
       "   class                     title  \\\n",
       "0      1       Kindle version only   \n",
       "1      4  A Perfect Family Film!!!   \n",
       "\n",
       "                                              review  \n",
       "0  From reading the other comments the book sound...  \n",
       "1  This was a really good movie about a little gi...  "
      ]
     },
     "execution_count": 77,
     "metadata": {},
     "output_type": "execute_result"
    }
   ],
   "source": [
    "AMAZON_TRAIN.head(2)"
   ]
  },
  {
   "cell_type": "markdown",
   "metadata": {},
   "source": [
    "#### read customer complaints data"
   ]
  },
  {
   "cell_type": "code",
   "execution_count": 87,
   "metadata": {
    "ExecuteTime": {
     "end_time": "2020-01-08T07:08:00.664186Z",
     "start_time": "2020-01-08T07:08:00.636389Z"
    }
   },
   "outputs": [],
   "source": [
    "CUSTOMER = DATA/'Customer'\n",
    "CUSTOMER.mkdir(exist_ok=True)"
   ]
  },
  {
   "cell_type": "code",
   "execution_count": 88,
   "metadata": {
    "ExecuteTime": {
     "end_time": "2020-01-08T07:08:02.483616Z",
     "start_time": "2020-01-08T07:08:02.435151Z"
    }
   },
   "outputs": [],
   "source": [
    "# CUSTOMER_train = pd.read_csv(CUSTOMER/'complaints.csv')\n",
    "\n",
    "\n",
    "# CUSTOMER_train.shape\n",
    "\n",
    "# header = ['Product', 'Consumer complaint narrative']\n",
    "# CUSTOMER_train = CUSTOMER_train[header]\n",
    "\n",
    "# CUSTOMER_train = CUSTOMER_train.loc[pd.notnull(CUSTOMER_train['Consumer complaint narrative']), :]\n",
    "# CUSTOMER_train.shape\n",
    "\n",
    "\n",
    "# CUSTOMER_TRAIN = CUSTOMER_train.sample(12500, axis= 0)\n",
    "# CUSTOMER_TRAIN = CUSTOMER_TRAIN.reset_index()\n",
    "# CUSTOMER_TRAIN = CUSTOMER_TRAIN.iloc[:, 1:3]\n",
    "# CUSTOMER_TRAIN.columns = ['product', 'complaint']\n",
    "\n",
    "# CUSTOMER_TRAIN.to_feather(CUSTOMER/'training_10k')\n",
    "CUSTOMER_TRAIN = pd.read_feather(CUSTOMER/'training_10k')"
   ]
  },
  {
   "cell_type": "code",
   "execution_count": 89,
   "metadata": {
    "ExecuteTime": {
     "end_time": "2020-01-08T07:08:03.780520Z",
     "start_time": "2020-01-08T07:08:03.746729Z"
    }
   },
   "outputs": [
    {
     "data": {
      "text/html": [
       "<div>\n",
       "<style scoped>\n",
       "    .dataframe tbody tr th:only-of-type {\n",
       "        vertical-align: middle;\n",
       "    }\n",
       "\n",
       "    .dataframe tbody tr th {\n",
       "        vertical-align: top;\n",
       "    }\n",
       "\n",
       "    .dataframe thead th {\n",
       "        text-align: right;\n",
       "    }\n",
       "</style>\n",
       "<table border=\"1\" class=\"dataframe\">\n",
       "  <thead>\n",
       "    <tr style=\"text-align: right;\">\n",
       "      <th></th>\n",
       "      <th>product</th>\n",
       "      <th>complaint</th>\n",
       "    </tr>\n",
       "  </thead>\n",
       "  <tbody>\n",
       "    <tr>\n",
       "      <th>0</th>\n",
       "      <td>Debt collection</td>\n",
       "      <td>For over a month, I have been getting calls fr...</td>\n",
       "    </tr>\n",
       "    <tr>\n",
       "      <th>1</th>\n",
       "      <td>Credit reporting, credit repair services, or o...</td>\n",
       "      <td>XX/XX/XXXX, a series on letters to XXXX XXXX X...</td>\n",
       "    </tr>\n",
       "    <tr>\n",
       "      <th>2</th>\n",
       "      <td>Mortgage</td>\n",
       "      <td>I recently received a statement from Wells Far...</td>\n",
       "    </tr>\n",
       "    <tr>\n",
       "      <th>3</th>\n",
       "      <td>Credit reporting, credit repair services, or o...</td>\n",
       "      <td>I have been disputing XXXX XXXX XXXX account i...</td>\n",
       "    </tr>\n",
       "    <tr>\n",
       "      <th>4</th>\n",
       "      <td>Credit reporting, credit repair services, or o...</td>\n",
       "      <td>I have several student loans on my account, in...</td>\n",
       "    </tr>\n",
       "  </tbody>\n",
       "</table>\n",
       "</div>"
      ],
      "text/plain": [
       "                                             product  \\\n",
       "0                                    Debt collection   \n",
       "1  Credit reporting, credit repair services, or o...   \n",
       "2                                           Mortgage   \n",
       "3  Credit reporting, credit repair services, or o...   \n",
       "4  Credit reporting, credit repair services, or o...   \n",
       "\n",
       "                                           complaint  \n",
       "0  For over a month, I have been getting calls fr...  \n",
       "1  XX/XX/XXXX, a series on letters to XXXX XXXX X...  \n",
       "2  I recently received a statement from Wells Far...  \n",
       "3  I have been disputing XXXX XXXX XXXX account i...  \n",
       "4  I have several student loans on my account, in...  "
      ]
     },
     "execution_count": 89,
     "metadata": {},
     "output_type": "execute_result"
    }
   ],
   "source": [
    "CUSTOMER_TRAIN.head()"
   ]
  },
  {
   "cell_type": "code",
   "execution_count": null,
   "metadata": {},
   "outputs": [],
   "source": []
  },
  {
   "cell_type": "markdown",
   "metadata": {},
   "source": [
    "## Evaluate algorithums across datasets\n"
   ]
  },
  {
   "cell_type": "markdown",
   "metadata": {},
   "source": [
    "### Evaluate algorithm, marginize over #training and # class"
   ]
  },
  {
   "cell_type": "markdown",
   "metadata": {
    "ExecuteTime": {
     "end_time": "2020-01-07T00:31:33.890421Z",
     "start_time": "2020-01-07T00:31:33.887252Z"
    }
   },
   "source": [
    "#### Ag_news boostrap"
   ]
  },
  {
   "cell_type": "markdown",
   "metadata": {
    "ExecuteTime": {
     "end_time": "2020-01-07T01:58:43.150235Z",
     "start_time": "2020-01-07T01:58:43.119299Z"
    }
   },
   "source": [
    "##### ML models"
   ]
  },
  {
   "cell_type": "code",
   "execution_count": 13,
   "metadata": {
    "ExecuteTime": {
     "end_time": "2020-01-07T04:30:53.167033Z",
     "start_time": "2020-01-07T04:30:53.136658Z"
    }
   },
   "outputs": [
    {
     "data": {
      "text/html": [
       "<div>\n",
       "<style scoped>\n",
       "    .dataframe tbody tr th:only-of-type {\n",
       "        vertical-align: middle;\n",
       "    }\n",
       "\n",
       "    .dataframe tbody tr th {\n",
       "        vertical-align: top;\n",
       "    }\n",
       "\n",
       "    .dataframe thead th {\n",
       "        text-align: right;\n",
       "    }\n",
       "</style>\n",
       "<table border=\"1\" class=\"dataframe\">\n",
       "  <thead>\n",
       "    <tr style=\"text-align: right;\">\n",
       "      <th></th>\n",
       "      <th>class</th>\n",
       "      <th>title</th>\n",
       "      <th>describ</th>\n",
       "    </tr>\n",
       "  </thead>\n",
       "  <tbody>\n",
       "    <tr>\n",
       "      <th>0</th>\n",
       "      <td>world</td>\n",
       "      <td>Demobilized Soldiers Take Over Aristide #39;s ...</td>\n",
       "      <td>Dozens of demobilized soldiers have taken over...</td>\n",
       "    </tr>\n",
       "    <tr>\n",
       "      <th>1</th>\n",
       "      <td>sci_tech</td>\n",
       "      <td>Mars rovers working overtime</td>\n",
       "      <td>Martian rovers Spirit and Opportunity are goin...</td>\n",
       "    </tr>\n",
       "  </tbody>\n",
       "</table>\n",
       "</div>"
      ],
      "text/plain": [
       "      class                                              title  \\\n",
       "0     world  Demobilized Soldiers Take Over Aristide #39;s ...   \n",
       "1  sci_tech                       Mars rovers working overtime   \n",
       "\n",
       "                                             describ  \n",
       "0  Dozens of demobilized soldiers have taken over...  \n",
       "1  Martian rovers Spirit and Opportunity are goin...  "
      ]
     },
     "execution_count": 13,
     "metadata": {},
     "output_type": "execute_result"
    }
   ],
   "source": [
    "df = AG_NEWS_TRAIN # set df as inner pointer to this dataset\n",
    "df.head(2)"
   ]
  },
  {
   "cell_type": "code",
   "execution_count": 7,
   "metadata": {
    "ExecuteTime": {
     "end_time": "2020-01-07T03:19:45.297429Z",
     "start_time": "2020-01-07T03:19:45.264526Z"
    }
   },
   "outputs": [],
   "source": [
    "# Set the global vars for this dataset for diverse algorithums\n",
    "\n",
    "df['category_id'] = df['class'].factorize()[0]\n",
    "\n",
    "category_id_df = df[['class', 'category_id']\n",
    "                    ].drop_duplicates().sort_values('category_id')\n",
    "category_to_id = dict(category_id_df.values)\n",
    "id_to_category = {v: k for k, v in category_to_id.items()}"
   ]
  },
  {
   "cell_type": "code",
   "execution_count": 11,
   "metadata": {
    "ExecuteTime": {
     "end_time": "2020-01-07T02:25:14.459544Z",
     "start_time": "2020-01-07T02:25:12.011136Z"
    },
    "scrolled": true
   },
   "outputs": [
    {
     "data": {
      "text/plain": [
       "(10000, 9065)"
      ]
     },
     "execution_count": 11,
     "metadata": {},
     "output_type": "execute_result"
    }
   ],
   "source": [
    "# tfidf = TfidfVectorizer(sublinear_tf=True, norm='l2', min_df=5,\n",
    "#                         encoding='latin-1', ngram_range=(1, 3), stop_words='english')\n",
    "\n",
    "# features = tfidf.fit_transform(df.describ).toarray()  # features is the global var for this dataset block\n",
    "\n",
    "# labels = df.category_id  # labels also a global var\n",
    "\n",
    "# features.shape  # of size (30000, 24903)"
   ]
  },
  {
   "cell_type": "markdown",
   "metadata": {},
   "source": [
    "**The models haven been run and results saved,  thus no need to run the code below**"
   ]
  },
  {
   "cell_type": "code",
   "execution_count": 12,
   "metadata": {
    "ExecuteTime": {
     "end_time": "2020-01-07T02:28:23.541218Z",
     "start_time": "2020-01-07T02:25:19.933238Z"
    }
   },
   "outputs": [],
   "source": [
    "# models = [RandomForestClassifier(n_estimators=200, max_depth=3, random_state=0),\n",
    "#           LinearSVC(),\n",
    "#           MultinomialNB(),\n",
    "#           LogisticRegression(random_state=0, max_iter= 200)]\n",
    "\n",
    "# boot_num = 2\n",
    "# CV = 5\n",
    "# cv_df = pd.DataFrame(index=range(CV * len(models)))\n",
    "# entries = []\n",
    "\n",
    "# for i in range(boot_num):\n",
    "#     for model in models:\n",
    "#         model_name = model.__class__.__name__\n",
    "#         accuracies = cross_val_score(model, features, labels, scoring='accuracy', cv=CV)\n",
    "#         for _, accuracy in enumerate(accuracies):\n",
    "#             #print(f'finished {model_name}, {i}th bootstrap of {_}th epochs')\n",
    "#             entries.append((model_name, accuracy))\n",
    "\n",
    "        \n",
    "# cv_df = pd.DataFrame(entries, columns=['model_name', 'accuracy'])"
   ]
  },
  {
   "cell_type": "code",
   "execution_count": 64,
   "metadata": {
    "ExecuteTime": {
     "end_time": "2020-01-07T04:05:36.955689Z",
     "start_time": "2020-01-07T04:05:36.918951Z"
    }
   },
   "outputs": [
    {
     "data": {
      "text/html": [
       "<div>\n",
       "<style scoped>\n",
       "    .dataframe tbody tr th:only-of-type {\n",
       "        vertical-align: middle;\n",
       "    }\n",
       "\n",
       "    .dataframe tbody tr th {\n",
       "        vertical-align: top;\n",
       "    }\n",
       "\n",
       "    .dataframe thead th {\n",
       "        text-align: right;\n",
       "    }\n",
       "</style>\n",
       "<table border=\"1\" class=\"dataframe\">\n",
       "  <thead>\n",
       "    <tr style=\"text-align: right;\">\n",
       "      <th></th>\n",
       "      <th>model_name</th>\n",
       "      <th>accuracy</th>\n",
       "    </tr>\n",
       "  </thead>\n",
       "  <tbody>\n",
       "    <tr>\n",
       "      <th>0</th>\n",
       "      <td>RandomForestClassifier</td>\n",
       "      <td>0.7155</td>\n",
       "    </tr>\n",
       "    <tr>\n",
       "      <th>1</th>\n",
       "      <td>RandomForestClassifier</td>\n",
       "      <td>0.6980</td>\n",
       "    </tr>\n",
       "    <tr>\n",
       "      <th>2</th>\n",
       "      <td>RandomForestClassifier</td>\n",
       "      <td>0.7285</td>\n",
       "    </tr>\n",
       "    <tr>\n",
       "      <th>3</th>\n",
       "      <td>RandomForestClassifier</td>\n",
       "      <td>0.7170</td>\n",
       "    </tr>\n",
       "    <tr>\n",
       "      <th>4</th>\n",
       "      <td>RandomForestClassifier</td>\n",
       "      <td>0.6925</td>\n",
       "    </tr>\n",
       "    <tr>\n",
       "      <th>5</th>\n",
       "      <td>LinearSVC</td>\n",
       "      <td>0.8740</td>\n",
       "    </tr>\n",
       "    <tr>\n",
       "      <th>6</th>\n",
       "      <td>LinearSVC</td>\n",
       "      <td>0.8725</td>\n",
       "    </tr>\n",
       "    <tr>\n",
       "      <th>7</th>\n",
       "      <td>LinearSVC</td>\n",
       "      <td>0.8825</td>\n",
       "    </tr>\n",
       "    <tr>\n",
       "      <th>8</th>\n",
       "      <td>LinearSVC</td>\n",
       "      <td>0.8800</td>\n",
       "    </tr>\n",
       "    <tr>\n",
       "      <th>9</th>\n",
       "      <td>LinearSVC</td>\n",
       "      <td>0.8830</td>\n",
       "    </tr>\n",
       "    <tr>\n",
       "      <th>10</th>\n",
       "      <td>MultinomialNB</td>\n",
       "      <td>0.8880</td>\n",
       "    </tr>\n",
       "    <tr>\n",
       "      <th>11</th>\n",
       "      <td>MultinomialNB</td>\n",
       "      <td>0.8755</td>\n",
       "    </tr>\n",
       "    <tr>\n",
       "      <th>12</th>\n",
       "      <td>MultinomialNB</td>\n",
       "      <td>0.8850</td>\n",
       "    </tr>\n",
       "    <tr>\n",
       "      <th>13</th>\n",
       "      <td>MultinomialNB</td>\n",
       "      <td>0.8940</td>\n",
       "    </tr>\n",
       "    <tr>\n",
       "      <th>14</th>\n",
       "      <td>MultinomialNB</td>\n",
       "      <td>0.8860</td>\n",
       "    </tr>\n",
       "    <tr>\n",
       "      <th>15</th>\n",
       "      <td>LogisticRegression</td>\n",
       "      <td>0.8870</td>\n",
       "    </tr>\n",
       "    <tr>\n",
       "      <th>16</th>\n",
       "      <td>LogisticRegression</td>\n",
       "      <td>0.8740</td>\n",
       "    </tr>\n",
       "    <tr>\n",
       "      <th>17</th>\n",
       "      <td>LogisticRegression</td>\n",
       "      <td>0.8890</td>\n",
       "    </tr>\n",
       "    <tr>\n",
       "      <th>18</th>\n",
       "      <td>LogisticRegression</td>\n",
       "      <td>0.8890</td>\n",
       "    </tr>\n",
       "    <tr>\n",
       "      <th>19</th>\n",
       "      <td>LogisticRegression</td>\n",
       "      <td>0.8795</td>\n",
       "    </tr>\n",
       "    <tr>\n",
       "      <th>20</th>\n",
       "      <td>RandomForestClassifier</td>\n",
       "      <td>0.7155</td>\n",
       "    </tr>\n",
       "    <tr>\n",
       "      <th>21</th>\n",
       "      <td>RandomForestClassifier</td>\n",
       "      <td>0.6980</td>\n",
       "    </tr>\n",
       "    <tr>\n",
       "      <th>22</th>\n",
       "      <td>RandomForestClassifier</td>\n",
       "      <td>0.7285</td>\n",
       "    </tr>\n",
       "    <tr>\n",
       "      <th>23</th>\n",
       "      <td>RandomForestClassifier</td>\n",
       "      <td>0.7170</td>\n",
       "    </tr>\n",
       "    <tr>\n",
       "      <th>24</th>\n",
       "      <td>RandomForestClassifier</td>\n",
       "      <td>0.6925</td>\n",
       "    </tr>\n",
       "    <tr>\n",
       "      <th>25</th>\n",
       "      <td>LinearSVC</td>\n",
       "      <td>0.8740</td>\n",
       "    </tr>\n",
       "    <tr>\n",
       "      <th>26</th>\n",
       "      <td>LinearSVC</td>\n",
       "      <td>0.8725</td>\n",
       "    </tr>\n",
       "    <tr>\n",
       "      <th>27</th>\n",
       "      <td>LinearSVC</td>\n",
       "      <td>0.8825</td>\n",
       "    </tr>\n",
       "    <tr>\n",
       "      <th>28</th>\n",
       "      <td>LinearSVC</td>\n",
       "      <td>0.8800</td>\n",
       "    </tr>\n",
       "    <tr>\n",
       "      <th>29</th>\n",
       "      <td>LinearSVC</td>\n",
       "      <td>0.8830</td>\n",
       "    </tr>\n",
       "    <tr>\n",
       "      <th>30</th>\n",
       "      <td>MultinomialNB</td>\n",
       "      <td>0.8880</td>\n",
       "    </tr>\n",
       "    <tr>\n",
       "      <th>31</th>\n",
       "      <td>MultinomialNB</td>\n",
       "      <td>0.8755</td>\n",
       "    </tr>\n",
       "    <tr>\n",
       "      <th>32</th>\n",
       "      <td>MultinomialNB</td>\n",
       "      <td>0.8850</td>\n",
       "    </tr>\n",
       "    <tr>\n",
       "      <th>33</th>\n",
       "      <td>MultinomialNB</td>\n",
       "      <td>0.8940</td>\n",
       "    </tr>\n",
       "    <tr>\n",
       "      <th>34</th>\n",
       "      <td>MultinomialNB</td>\n",
       "      <td>0.8860</td>\n",
       "    </tr>\n",
       "    <tr>\n",
       "      <th>35</th>\n",
       "      <td>LogisticRegression</td>\n",
       "      <td>0.8870</td>\n",
       "    </tr>\n",
       "    <tr>\n",
       "      <th>36</th>\n",
       "      <td>LogisticRegression</td>\n",
       "      <td>0.8740</td>\n",
       "    </tr>\n",
       "    <tr>\n",
       "      <th>37</th>\n",
       "      <td>LogisticRegression</td>\n",
       "      <td>0.8890</td>\n",
       "    </tr>\n",
       "    <tr>\n",
       "      <th>38</th>\n",
       "      <td>LogisticRegression</td>\n",
       "      <td>0.8890</td>\n",
       "    </tr>\n",
       "    <tr>\n",
       "      <th>39</th>\n",
       "      <td>LogisticRegression</td>\n",
       "      <td>0.8795</td>\n",
       "    </tr>\n",
       "  </tbody>\n",
       "</table>\n",
       "</div>"
      ],
      "text/plain": [
       "                model_name  accuracy\n",
       "0   RandomForestClassifier    0.7155\n",
       "1   RandomForestClassifier    0.6980\n",
       "2   RandomForestClassifier    0.7285\n",
       "3   RandomForestClassifier    0.7170\n",
       "4   RandomForestClassifier    0.6925\n",
       "5                LinearSVC    0.8740\n",
       "6                LinearSVC    0.8725\n",
       "7                LinearSVC    0.8825\n",
       "8                LinearSVC    0.8800\n",
       "9                LinearSVC    0.8830\n",
       "10           MultinomialNB    0.8880\n",
       "11           MultinomialNB    0.8755\n",
       "12           MultinomialNB    0.8850\n",
       "13           MultinomialNB    0.8940\n",
       "14           MultinomialNB    0.8860\n",
       "15      LogisticRegression    0.8870\n",
       "16      LogisticRegression    0.8740\n",
       "17      LogisticRegression    0.8890\n",
       "18      LogisticRegression    0.8890\n",
       "19      LogisticRegression    0.8795\n",
       "20  RandomForestClassifier    0.7155\n",
       "21  RandomForestClassifier    0.6980\n",
       "22  RandomForestClassifier    0.7285\n",
       "23  RandomForestClassifier    0.7170\n",
       "24  RandomForestClassifier    0.6925\n",
       "25               LinearSVC    0.8740\n",
       "26               LinearSVC    0.8725\n",
       "27               LinearSVC    0.8825\n",
       "28               LinearSVC    0.8800\n",
       "29               LinearSVC    0.8830\n",
       "30           MultinomialNB    0.8880\n",
       "31           MultinomialNB    0.8755\n",
       "32           MultinomialNB    0.8850\n",
       "33           MultinomialNB    0.8940\n",
       "34           MultinomialNB    0.8860\n",
       "35      LogisticRegression    0.8870\n",
       "36      LogisticRegression    0.8740\n",
       "37      LogisticRegression    0.8890\n",
       "38      LogisticRegression    0.8890\n",
       "39      LogisticRegression    0.8795"
      ]
     },
     "execution_count": 64,
     "metadata": {},
     "output_type": "execute_result"
    }
   ],
   "source": [
    "#cv_df.to_csv(AG_NEWS/'ml_agnews_accu_10', index = False)\n",
    "ml_agnews_accu_10 = pd.read_csv(AG_NEWS/'ml_agnews_accu_10')\n",
    "ml_agnews_accu_10"
   ]
  },
  {
   "cell_type": "code",
   "execution_count": 32,
   "metadata": {
    "ExecuteTime": {
     "end_time": "2020-01-07T02:40:30.833660Z",
     "start_time": "2020-01-07T02:40:30.678164Z"
    }
   },
   "outputs": [
    {
     "data": {
      "image/png": "[encoded data removed]"
     },
     "metadata": {},
     "output_type": "display_data"
    }
   ],
   "source": [
    "%%R -i cv_df -w 7 -h 5 -u in \n",
    "\n",
    "library(ggplot2)\n",
    "ggplot(cv_df, aes(x= model_name)) +\n",
    "    geom_jitter(aes(y = accuracy) )\n",
    "\n"
   ]
  },
  {
   "cell_type": "markdown",
   "metadata": {
    "ExecuteTime": {
     "start_time": "2020-01-07T02:21:46.011Z"
    }
   },
   "source": [
    "##### DL methods"
   ]
  },
  {
   "cell_type": "code",
   "execution_count": 7,
   "metadata": {
    "ExecuteTime": {
     "end_time": "2020-01-08T04:33:28.251077Z",
     "start_time": "2020-01-08T04:33:27.786015Z"
    }
   },
   "outputs": [],
   "source": [
    "# basic block\n",
    "from pytorch_transformers import *\n",
    "\n",
    "\n",
    "class Config(dict):\n",
    "    def __init__(self, **kwargs):\n",
    "        super().__init__(**kwargs)\n",
    "        for k, v in kwargs.items():\n",
    "            setattr(self, k, v)\n",
    "\n",
    "    def set(self, key, val):\n",
    "        self[key] = val\n",
    "        setattr(self, key, val)\n",
    "\n",
    "\n",
    "config = Config(\n",
    "    bert_model_name=\"bert-base-uncased\",\n",
    "    max_lr=3e-5,\n",
    "    epochs=1,\n",
    "    use_fp16=True,\n",
    "    bs= 32,\n",
    "    discriminative=False,\n",
    "    max_seq_len=128,\n",
    "   # num_labels=4  # Remember to set the num_labels here\n",
    ")\n",
    "\n",
    "bert_tok = BertTokenizer.from_pretrained(\n",
    "    config.bert_model_name,\n",
    ")\n",
    "\n",
    "\n",
    "class FastAiBertTokenizer(BaseTokenizer):\n",
    "    \"\"\"Wrapper around BertTokenizer to be compatible with fast.ai\"\"\"\n",
    "\n",
    "    def __init__(self, tokenizer: BertTokenizer, max_seq_len: int = 128, **kwargs):\n",
    "        self._pretrained_tokenizer = tokenizer\n",
    "        self.max_seq_len = max_seq_len\n",
    "\n",
    "    def __call__(self, *args, **kwargs):\n",
    "        return self\n",
    "\n",
    "    def tokenizer(self, t: str) -> List[str]:\n",
    "        \"\"\"Limits the maximum sequence length\"\"\"\n",
    "        return [\"[CLS]\"] + self._pretrained_tokenizer.tokenize(t)[:self.max_seq_len - 2] + [\"[SEP]\"]\n",
    "\n",
    "\n",
    "fastai_tokenizer = Tokenizer(tok_func=FastAiBertTokenizer(\n",
    "    bert_tok, max_seq_len=config.max_seq_len), pre_rules=[], post_rules=[])\n",
    "\n",
    "fastai_bert_vocab = Vocab(list(bert_tok.vocab.keys()))\n",
    "\n",
    "\n",
    "\n",
    "loss_func = nn.CrossEntropyLoss()\n",
    "\n",
    "\n",
    "def loss_batch_bert(model: nn.Module, xb: Tensor, yb: Tensor, loss_func: OptLossFunc = None, opt: OptOptimizer = None,\n",
    "                    cb_handler: Optional[CallbackHandler] = None) -> Tuple[Union[Tensor, int, float, str]]:\n",
    "    \"Calculate loss and metrics for a batch, call out to callbacks as necessary.\"\n",
    "    cb_handler = ifnone(cb_handler, CallbackHandler())\n",
    "    if not is_listy(xb):\n",
    "        xb = [xb]\n",
    "    if not is_listy(yb):\n",
    "        yb = [yb]\n",
    "    out = model(*xb)\n",
    "    # pdb.set_trace()\n",
    "    out = out[0]\n",
    "    out = cb_handler.on_loss_begin(out)\n",
    "\n",
    "    if not loss_func:\n",
    "        return to_detach(out), yb[0].detach()\n",
    "    loss = loss_func(out, *yb)\n",
    "\n",
    "    if opt is not None:\n",
    "        loss, skip_bwd = cb_handler.on_backward_begin(loss)\n",
    "        if not skip_bwd:\n",
    "            loss.backward()\n",
    "        if not cb_handler.on_backward_end():\n",
    "            opt.step()\n",
    "        if not cb_handler.on_step_end():\n",
    "            opt.zero_grad()\n",
    "\n",
    "    return loss.detach().cpu()\n",
    "\n",
    "\n",
    "# To change the loss_batch function in the loaded fastai module\n",
    "module_basic_train = sys.modules['fastai.basic_train']\n",
    "module_basic_train.loss_batch = loss_batch_bert\n",
    "sys.modules['fastai.basic_train'] = module_basic_train"
   ]
  },
  {
   "cell_type": "code",
   "execution_count": 14,
   "metadata": {
    "ExecuteTime": {
     "end_time": "2020-01-07T04:31:02.668521Z",
     "start_time": "2020-01-07T04:31:02.643140Z"
    }
   },
   "outputs": [],
   "source": [
    "#train, val = train_test_split(df)\n",
    "label_cols = ['class']\n",
    "\n",
    "#bert_model = BertForSequenceClassification.from_pretrained(config.bert_model_name, num_labels= config.num_labels)\n",
    "\n",
    "accus = []\n",
    "\n",
    "# use StratifiedKFold to CV 5 folds \n",
    "for train_idx, val_idx in StratifiedKFold(n_splits=5,  shuffle=True).split(df, df['class']):\n",
    "    train = df.iloc[train_idx, :]\n",
    "    val = df.iloc[val_idx, :]\n",
    "    bert_model = BertForSequenceClassification.from_pretrained(config.bert_model_name, num_labels= 4)\n",
    "    \n",
    "    databunch = TextDataBunch.from_df(AG_NEWS, train, val,\n",
    "                      tokenizer=fastai_tokenizer,\n",
    "                      vocab=fastai_bert_vocab,\n",
    "                      include_bos=False,\n",
    "                      include_eos=False,\n",
    "                      text_cols= \"describ\",\n",
    "                      label_cols=label_cols,\n",
    "                      bs= 64,\n",
    "                      collate_fn=partial(pad_collate, pad_first=False, pad_idx=0),\n",
    "                 )\n",
    "    \n",
    "    learner = Learner(\n",
    "    databunch, bert_model,\n",
    "    loss_func=loss_func, metrics = accuracy)\n",
    "\n",
    "    learner.fit_one_cycle(5, 1e-04)\n",
    "    _, accu = learner.validate()\n",
    "    accus.append(accu)\n",
    "    \n"
   ]
  },
  {
   "cell_type": "code",
   "execution_count": 43,
   "metadata": {
    "ExecuteTime": {
     "end_time": "2020-01-07T05:11:17.953898Z",
     "start_time": "2020-01-07T05:11:17.925936Z"
    }
   },
   "outputs": [],
   "source": [
    "accus = [i.item() for i in accus]"
   ]
  },
  {
   "cell_type": "code",
   "execution_count": 44,
   "metadata": {
    "ExecuteTime": {
     "end_time": "2020-01-07T05:11:19.975142Z",
     "start_time": "2020-01-07T05:11:19.947403Z"
    }
   },
   "outputs": [
    {
     "data": {
      "text/plain": [
       "[0.9104999899864197,\n",
       " 0.921500027179718,\n",
       " 0.9235000014305115,\n",
       " 0.9144999980926514,\n",
       " 0.9114999771118164]"
      ]
     },
     "execution_count": 44,
     "metadata": {},
     "output_type": "execute_result"
    }
   ],
   "source": [
    "accus"
   ]
  },
  {
   "cell_type": "code",
   "execution_count": 45,
   "metadata": {
    "ExecuteTime": {
     "end_time": "2020-01-07T05:11:28.063607Z",
     "start_time": "2020-01-07T05:11:28.030380Z"
    }
   },
   "outputs": [],
   "source": [
    "bert_agnews_accu_5 = pd.DataFrame({\n",
    "    'model_name' : ['Bert'] * 5,\n",
    "    'accuracy' : accus\n",
    "})\n",
    "\n",
    "bert_agnews_accu_5.to_csv(AG_NEWS/'bert_agnews_accu_5', index = False)\n",
    "bert_agnews_accu_5 = pd.read_csv(AG_NEWS/'bert_agnews_accu_5')"
   ]
  },
  {
   "cell_type": "code",
   "execution_count": 46,
   "metadata": {
    "ExecuteTime": {
     "end_time": "2020-01-07T05:11:35.565777Z",
     "start_time": "2020-01-07T05:11:35.288848Z"
    }
   },
   "outputs": [
    {
     "data": {
      "image/png": "[encoded data removed]"
     },
     "metadata": {},
     "output_type": "display_data"
    }
   ],
   "source": [
    "%%R -i bert_agnews_accu_5 -w 7 -h 5 -u in \n",
    "#library(ggplot2)\n",
    "ggplot(bert_agnews_accu_5, aes(x= model_name)) +\n",
    "    geom_jitter(aes(y = accuracy) )\n",
    "\n"
   ]
  },
  {
   "cell_type": "code",
   "execution_count": null,
   "metadata": {},
   "outputs": [],
   "source": []
  },
  {
   "cell_type": "markdown",
   "metadata": {},
   "source": [
    "#### Dbpedia data"
   ]
  },
  {
   "cell_type": "markdown",
   "metadata": {},
   "source": [
    "##### ML part"
   ]
  },
  {
   "cell_type": "code",
   "execution_count": 10,
   "metadata": {
    "ExecuteTime": {
     "end_time": "2020-01-07T08:19:00.638299Z",
     "start_time": "2020-01-07T07:53:07.321784Z"
    }
   },
   "outputs": [
    {
     "name": "stdout",
     "output_type": "stream",
     "text": [
      "finished RandomForestClassifier, 0th bootstrap of 0th epochs\n",
      "finished RandomForestClassifier, 0th bootstrap of 1th epochs\n",
      "finished RandomForestClassifier, 0th bootstrap of 2th epochs\n",
      "finished RandomForestClassifier, 0th bootstrap of 3th epochs\n",
      "finished RandomForestClassifier, 0th bootstrap of 4th epochs\n",
      "finished LinearSVC, 0th bootstrap of 0th epochs\n",
      "finished LinearSVC, 0th bootstrap of 1th epochs\n",
      "finished LinearSVC, 0th bootstrap of 2th epochs\n",
      "finished LinearSVC, 0th bootstrap of 3th epochs\n",
      "finished LinearSVC, 0th bootstrap of 4th epochs\n",
      "finished MultinomialNB, 0th bootstrap of 0th epochs\n",
      "finished MultinomialNB, 0th bootstrap of 1th epochs\n",
      "finished MultinomialNB, 0th bootstrap of 2th epochs\n",
      "finished MultinomialNB, 0th bootstrap of 3th epochs\n",
      "finished MultinomialNB, 0th bootstrap of 4th epochs\n",
      "finished LogisticRegression, 0th bootstrap of 0th epochs\n",
      "finished LogisticRegression, 0th bootstrap of 1th epochs\n",
      "finished LogisticRegression, 0th bootstrap of 2th epochs\n",
      "finished LogisticRegression, 0th bootstrap of 3th epochs\n",
      "finished LogisticRegression, 0th bootstrap of 4th epochs\n",
      "finished RandomForestClassifier, 1th bootstrap of 0th epochs\n",
      "finished RandomForestClassifier, 1th bootstrap of 1th epochs\n",
      "finished RandomForestClassifier, 1th bootstrap of 2th epochs\n",
      "finished RandomForestClassifier, 1th bootstrap of 3th epochs\n",
      "finished RandomForestClassifier, 1th bootstrap of 4th epochs\n",
      "finished LinearSVC, 1th bootstrap of 0th epochs\n",
      "finished LinearSVC, 1th bootstrap of 1th epochs\n",
      "finished LinearSVC, 1th bootstrap of 2th epochs\n",
      "finished LinearSVC, 1th bootstrap of 3th epochs\n",
      "finished LinearSVC, 1th bootstrap of 4th epochs\n",
      "finished MultinomialNB, 1th bootstrap of 0th epochs\n",
      "finished MultinomialNB, 1th bootstrap of 1th epochs\n",
      "finished MultinomialNB, 1th bootstrap of 2th epochs\n",
      "finished MultinomialNB, 1th bootstrap of 3th epochs\n",
      "finished MultinomialNB, 1th bootstrap of 4th epochs\n",
      "finished LogisticRegression, 1th bootstrap of 0th epochs\n",
      "finished LogisticRegression, 1th bootstrap of 1th epochs\n",
      "finished LogisticRegression, 1th bootstrap of 2th epochs\n",
      "finished LogisticRegression, 1th bootstrap of 3th epochs\n",
      "finished LogisticRegression, 1th bootstrap of 4th epochs\n"
     ]
    }
   ],
   "source": [
    "df = DBPEDIA_TRAIN # set df as inner pointer to this dataset\n",
    "df.head(2)\n",
    "\n",
    "# Set the global vars for this dataset for diverse algorithums\n",
    "\n",
    "df['category_id'] = df['class'].factorize()[0]\n",
    "\n",
    "category_id_df = df[['class', 'category_id']\n",
    "                    ].drop_duplicates().sort_values('category_id')\n",
    "category_to_id = dict(category_id_df.values)\n",
    "id_to_category = {v: k for k, v in category_to_id.items()}\n",
    "\n",
    "tfidf = TfidfVectorizer(sublinear_tf=True, norm='l2', min_df=5,\n",
    "                        encoding='latin-1', ngram_range=(1, 3), stop_words='english')\n",
    "\n",
    "features = tfidf.fit_transform(df.contents).toarray()  # features is the global var for this dataset block\n",
    "\n",
    "labels = df.category_id  # labels also a global var\n",
    "\n",
    "features.shape  # of size (30000, 24903)\n",
    "\n",
    "models = [RandomForestClassifier(n_estimators=200, max_depth=3, random_state=0),\n",
    "          LinearSVC(),\n",
    "          MultinomialNB(),\n",
    "          LogisticRegression(random_state=0, max_iter= 200)]\n",
    "\n",
    "boot_num = 2\n",
    "CV = 5\n",
    "cv_df = pd.DataFrame(index=range(CV * len(models)))\n",
    "entries = []\n",
    "\n",
    "for i in range(boot_num):\n",
    "    for model in models:\n",
    "        model_name = model.__class__.__name__\n",
    "        accuracies = cross_val_score(model, features, labels, scoring='accuracy', cv=CV)\n",
    "        for _, accuracy in enumerate(accuracies):\n",
    "            print(f'finished {model_name}, {i}th bootstrap of {_}th epochs')\n",
    "            entries.append((model_name, accuracy))\n",
    "\n",
    "        \n",
    "cv_df = pd.DataFrame(entries, columns=['model_name', 'accuracy'])"
   ]
  },
  {
   "cell_type": "code",
   "execution_count": 11,
   "metadata": {
    "ExecuteTime": {
     "end_time": "2020-01-07T08:19:19.975462Z",
     "start_time": "2020-01-07T08:19:19.937665Z"
    }
   },
   "outputs": [
    {
     "data": {
      "text/html": [
       "<div>\n",
       "<style scoped>\n",
       "    .dataframe tbody tr th:only-of-type {\n",
       "        vertical-align: middle;\n",
       "    }\n",
       "\n",
       "    .dataframe tbody tr th {\n",
       "        vertical-align: top;\n",
       "    }\n",
       "\n",
       "    .dataframe thead th {\n",
       "        text-align: right;\n",
       "    }\n",
       "</style>\n",
       "<table border=\"1\" class=\"dataframe\">\n",
       "  <thead>\n",
       "    <tr style=\"text-align: right;\">\n",
       "      <th></th>\n",
       "      <th>model_name</th>\n",
       "      <th>accuracy</th>\n",
       "    </tr>\n",
       "  </thead>\n",
       "  <tbody>\n",
       "    <tr>\n",
       "      <th>0</th>\n",
       "      <td>RandomForestClassifier</td>\n",
       "      <td>0.811995</td>\n",
       "    </tr>\n",
       "    <tr>\n",
       "      <th>1</th>\n",
       "      <td>RandomForestClassifier</td>\n",
       "      <td>0.815374</td>\n",
       "    </tr>\n",
       "    <tr>\n",
       "      <th>2</th>\n",
       "      <td>RandomForestClassifier</td>\n",
       "      <td>0.817349</td>\n",
       "    </tr>\n",
       "    <tr>\n",
       "      <th>3</th>\n",
       "      <td>RandomForestClassifier</td>\n",
       "      <td>0.815553</td>\n",
       "    </tr>\n",
       "    <tr>\n",
       "      <th>4</th>\n",
       "      <td>RandomForestClassifier</td>\n",
       "      <td>0.818068</td>\n",
       "    </tr>\n",
       "    <tr>\n",
       "      <th>5</th>\n",
       "      <td>LinearSVC</td>\n",
       "      <td>0.976836</td>\n",
       "    </tr>\n",
       "    <tr>\n",
       "      <th>6</th>\n",
       "      <td>LinearSVC</td>\n",
       "      <td>0.975036</td>\n",
       "    </tr>\n",
       "    <tr>\n",
       "      <th>7</th>\n",
       "      <td>LinearSVC</td>\n",
       "      <td>0.976293</td>\n",
       "    </tr>\n",
       "    <tr>\n",
       "      <th>8</th>\n",
       "      <td>LinearSVC</td>\n",
       "      <td>0.971085</td>\n",
       "    </tr>\n",
       "    <tr>\n",
       "      <th>9</th>\n",
       "      <td>LinearSVC</td>\n",
       "      <td>0.970726</td>\n",
       "    </tr>\n",
       "    <tr>\n",
       "      <th>10</th>\n",
       "      <td>MultinomialNB</td>\n",
       "      <td>0.962650</td>\n",
       "    </tr>\n",
       "    <tr>\n",
       "      <th>11</th>\n",
       "      <td>MultinomialNB</td>\n",
       "      <td>0.961386</td>\n",
       "    </tr>\n",
       "    <tr>\n",
       "      <th>12</th>\n",
       "      <td>MultinomialNB</td>\n",
       "      <td>0.959231</td>\n",
       "    </tr>\n",
       "    <tr>\n",
       "      <th>13</th>\n",
       "      <td>MultinomialNB</td>\n",
       "      <td>0.957795</td>\n",
       "    </tr>\n",
       "    <tr>\n",
       "      <th>14</th>\n",
       "      <td>MultinomialNB</td>\n",
       "      <td>0.957256</td>\n",
       "    </tr>\n",
       "    <tr>\n",
       "      <th>15</th>\n",
       "      <td>LogisticRegression</td>\n",
       "      <td>0.970372</td>\n",
       "    </tr>\n",
       "    <tr>\n",
       "      <th>16</th>\n",
       "      <td>LogisticRegression</td>\n",
       "      <td>0.970007</td>\n",
       "    </tr>\n",
       "    <tr>\n",
       "      <th>17</th>\n",
       "      <td>LogisticRegression</td>\n",
       "      <td>0.971264</td>\n",
       "    </tr>\n",
       "    <tr>\n",
       "      <th>18</th>\n",
       "      <td>LogisticRegression</td>\n",
       "      <td>0.966595</td>\n",
       "    </tr>\n",
       "    <tr>\n",
       "      <th>19</th>\n",
       "      <td>LogisticRegression</td>\n",
       "      <td>0.966236</td>\n",
       "    </tr>\n",
       "    <tr>\n",
       "      <th>20</th>\n",
       "      <td>RandomForestClassifier</td>\n",
       "      <td>0.811995</td>\n",
       "    </tr>\n",
       "    <tr>\n",
       "      <th>21</th>\n",
       "      <td>RandomForestClassifier</td>\n",
       "      <td>0.815374</td>\n",
       "    </tr>\n",
       "    <tr>\n",
       "      <th>22</th>\n",
       "      <td>RandomForestClassifier</td>\n",
       "      <td>0.817349</td>\n",
       "    </tr>\n",
       "    <tr>\n",
       "      <th>23</th>\n",
       "      <td>RandomForestClassifier</td>\n",
       "      <td>0.815553</td>\n",
       "    </tr>\n",
       "    <tr>\n",
       "      <th>24</th>\n",
       "      <td>RandomForestClassifier</td>\n",
       "      <td>0.818068</td>\n",
       "    </tr>\n",
       "    <tr>\n",
       "      <th>25</th>\n",
       "      <td>LinearSVC</td>\n",
       "      <td>0.976836</td>\n",
       "    </tr>\n",
       "    <tr>\n",
       "      <th>26</th>\n",
       "      <td>LinearSVC</td>\n",
       "      <td>0.975036</td>\n",
       "    </tr>\n",
       "    <tr>\n",
       "      <th>27</th>\n",
       "      <td>LinearSVC</td>\n",
       "      <td>0.976293</td>\n",
       "    </tr>\n",
       "    <tr>\n",
       "      <th>28</th>\n",
       "      <td>LinearSVC</td>\n",
       "      <td>0.971085</td>\n",
       "    </tr>\n",
       "    <tr>\n",
       "      <th>29</th>\n",
       "      <td>LinearSVC</td>\n",
       "      <td>0.970726</td>\n",
       "    </tr>\n",
       "    <tr>\n",
       "      <th>30</th>\n",
       "      <td>MultinomialNB</td>\n",
       "      <td>0.962650</td>\n",
       "    </tr>\n",
       "    <tr>\n",
       "      <th>31</th>\n",
       "      <td>MultinomialNB</td>\n",
       "      <td>0.961386</td>\n",
       "    </tr>\n",
       "    <tr>\n",
       "      <th>32</th>\n",
       "      <td>MultinomialNB</td>\n",
       "      <td>0.959231</td>\n",
       "    </tr>\n",
       "    <tr>\n",
       "      <th>33</th>\n",
       "      <td>MultinomialNB</td>\n",
       "      <td>0.957795</td>\n",
       "    </tr>\n",
       "    <tr>\n",
       "      <th>34</th>\n",
       "      <td>MultinomialNB</td>\n",
       "      <td>0.957256</td>\n",
       "    </tr>\n",
       "    <tr>\n",
       "      <th>35</th>\n",
       "      <td>LogisticRegression</td>\n",
       "      <td>0.970372</td>\n",
       "    </tr>\n",
       "    <tr>\n",
       "      <th>36</th>\n",
       "      <td>LogisticRegression</td>\n",
       "      <td>0.970007</td>\n",
       "    </tr>\n",
       "    <tr>\n",
       "      <th>37</th>\n",
       "      <td>LogisticRegression</td>\n",
       "      <td>0.971264</td>\n",
       "    </tr>\n",
       "    <tr>\n",
       "      <th>38</th>\n",
       "      <td>LogisticRegression</td>\n",
       "      <td>0.966595</td>\n",
       "    </tr>\n",
       "    <tr>\n",
       "      <th>39</th>\n",
       "      <td>LogisticRegression</td>\n",
       "      <td>0.966236</td>\n",
       "    </tr>\n",
       "  </tbody>\n",
       "</table>\n",
       "</div>"
      ],
      "text/plain": [
       "                model_name  accuracy\n",
       "0   RandomForestClassifier  0.811995\n",
       "1   RandomForestClassifier  0.815374\n",
       "2   RandomForestClassifier  0.817349\n",
       "3   RandomForestClassifier  0.815553\n",
       "4   RandomForestClassifier  0.818068\n",
       "5                LinearSVC  0.976836\n",
       "6                LinearSVC  0.975036\n",
       "7                LinearSVC  0.976293\n",
       "8                LinearSVC  0.971085\n",
       "9                LinearSVC  0.970726\n",
       "10           MultinomialNB  0.962650\n",
       "11           MultinomialNB  0.961386\n",
       "12           MultinomialNB  0.959231\n",
       "13           MultinomialNB  0.957795\n",
       "14           MultinomialNB  0.957256\n",
       "15      LogisticRegression  0.970372\n",
       "16      LogisticRegression  0.970007\n",
       "17      LogisticRegression  0.971264\n",
       "18      LogisticRegression  0.966595\n",
       "19      LogisticRegression  0.966236\n",
       "20  RandomForestClassifier  0.811995\n",
       "21  RandomForestClassifier  0.815374\n",
       "22  RandomForestClassifier  0.817349\n",
       "23  RandomForestClassifier  0.815553\n",
       "24  RandomForestClassifier  0.818068\n",
       "25               LinearSVC  0.976836\n",
       "26               LinearSVC  0.975036\n",
       "27               LinearSVC  0.976293\n",
       "28               LinearSVC  0.971085\n",
       "29               LinearSVC  0.970726\n",
       "30           MultinomialNB  0.962650\n",
       "31           MultinomialNB  0.961386\n",
       "32           MultinomialNB  0.959231\n",
       "33           MultinomialNB  0.957795\n",
       "34           MultinomialNB  0.957256\n",
       "35      LogisticRegression  0.970372\n",
       "36      LogisticRegression  0.970007\n",
       "37      LogisticRegression  0.971264\n",
       "38      LogisticRegression  0.966595\n",
       "39      LogisticRegression  0.966236"
      ]
     },
     "execution_count": 11,
     "metadata": {},
     "output_type": "execute_result"
    }
   ],
   "source": [
    "cv_df.to_csv(DBPEDIA/'ml_dbpedia_accu_10', index = False)\n",
    "ml_dbpedia_accu_10 = pd.read_csv(DBPEDIA/'ml_dbpedia_accu_10')\n",
    "ml_dbpedia_accu_10"
   ]
  },
  {
   "cell_type": "markdown",
   "metadata": {},
   "source": [
    "##### DL part"
   ]
  },
  {
   "cell_type": "code",
   "execution_count": 90,
   "metadata": {
    "ExecuteTime": {
     "end_time": "2020-01-07T06:55:39.150503Z",
     "start_time": "2020-01-07T05:37:26.593043Z"
    }
   },
   "outputs": [
    {
     "data": {
      "text/html": [],
      "text/plain": [
       "<IPython.core.display.HTML object>"
      ]
     },
     "metadata": {},
     "output_type": "display_data"
    },
    {
     "data": {
      "text/html": [],
      "text/plain": [
       "<IPython.core.display.HTML object>"
      ]
     },
     "metadata": {},
     "output_type": "display_data"
    },
    {
     "data": {
      "text/html": [
       "<table border=\"1\" class=\"dataframe\">\n",
       "  <thead>\n",
       "    <tr style=\"text-align: left;\">\n",
       "      <th>epoch</th>\n",
       "      <th>train_loss</th>\n",
       "      <th>valid_loss</th>\n",
       "      <th>accuracy</th>\n",
       "      <th>time</th>\n",
       "    </tr>\n",
       "  </thead>\n",
       "  <tbody>\n",
       "    <tr>\n",
       "      <td>0</td>\n",
       "      <td>0.101611</td>\n",
       "      <td>0.057224</td>\n",
       "      <td>0.988508</td>\n",
       "      <td>02:49</td>\n",
       "    </tr>\n",
       "    <tr>\n",
       "      <td>1</td>\n",
       "      <td>0.066836</td>\n",
       "      <td>0.067512</td>\n",
       "      <td>0.984917</td>\n",
       "      <td>02:49</td>\n",
       "    </tr>\n",
       "    <tr>\n",
       "      <td>2</td>\n",
       "      <td>0.039955</td>\n",
       "      <td>0.052604</td>\n",
       "      <td>0.988508</td>\n",
       "      <td>02:49</td>\n",
       "    </tr>\n",
       "    <tr>\n",
       "      <td>3</td>\n",
       "      <td>0.022419</td>\n",
       "      <td>0.044344</td>\n",
       "      <td>0.990663</td>\n",
       "      <td>02:49</td>\n",
       "    </tr>\n",
       "    <tr>\n",
       "      <td>4</td>\n",
       "      <td>0.012598</td>\n",
       "      <td>0.043295</td>\n",
       "      <td>0.992279</td>\n",
       "      <td>02:49</td>\n",
       "    </tr>\n",
       "  </tbody>\n",
       "</table>"
      ],
      "text/plain": [
       "<IPython.core.display.HTML object>"
      ]
     },
     "metadata": {},
     "output_type": "display_data"
    },
    {
     "data": {
      "text/html": [],
      "text/plain": [
       "<IPython.core.display.HTML object>"
      ]
     },
     "metadata": {},
     "output_type": "display_data"
    },
    {
     "data": {
      "text/html": [],
      "text/plain": [
       "<IPython.core.display.HTML object>"
      ]
     },
     "metadata": {},
     "output_type": "display_data"
    },
    {
     "data": {
      "text/html": [],
      "text/plain": [
       "<IPython.core.display.HTML object>"
      ]
     },
     "metadata": {},
     "output_type": "display_data"
    },
    {
     "data": {
      "text/html": [
       "<table border=\"1\" class=\"dataframe\">\n",
       "  <thead>\n",
       "    <tr style=\"text-align: left;\">\n",
       "      <th>epoch</th>\n",
       "      <th>train_loss</th>\n",
       "      <th>valid_loss</th>\n",
       "      <th>accuracy</th>\n",
       "      <th>time</th>\n",
       "    </tr>\n",
       "  </thead>\n",
       "  <tbody>\n",
       "    <tr>\n",
       "      <td>0</td>\n",
       "      <td>0.127935</td>\n",
       "      <td>0.071032</td>\n",
       "      <td>0.985991</td>\n",
       "      <td>03:11</td>\n",
       "    </tr>\n",
       "    <tr>\n",
       "      <td>1</td>\n",
       "      <td>0.081126</td>\n",
       "      <td>0.069929</td>\n",
       "      <td>0.984555</td>\n",
       "      <td>02:57</td>\n",
       "    </tr>\n",
       "    <tr>\n",
       "      <td>2</td>\n",
       "      <td>0.030810</td>\n",
       "      <td>0.064293</td>\n",
       "      <td>0.988147</td>\n",
       "      <td>03:08</td>\n",
       "    </tr>\n",
       "    <tr>\n",
       "      <td>3</td>\n",
       "      <td>0.015263</td>\n",
       "      <td>0.054442</td>\n",
       "      <td>0.988865</td>\n",
       "      <td>02:58</td>\n",
       "    </tr>\n",
       "    <tr>\n",
       "      <td>4</td>\n",
       "      <td>0.006597</td>\n",
       "      <td>0.059375</td>\n",
       "      <td>0.989045</td>\n",
       "      <td>02:51</td>\n",
       "    </tr>\n",
       "  </tbody>\n",
       "</table>"
      ],
      "text/plain": [
       "<IPython.core.display.HTML object>"
      ]
     },
     "metadata": {},
     "output_type": "display_data"
    },
    {
     "data": {
      "text/html": [],
      "text/plain": [
       "<IPython.core.display.HTML object>"
      ]
     },
     "metadata": {},
     "output_type": "display_data"
    },
    {
     "data": {
      "text/html": [],
      "text/plain": [
       "<IPython.core.display.HTML object>"
      ]
     },
     "metadata": {},
     "output_type": "display_data"
    },
    {
     "data": {
      "text/html": [],
      "text/plain": [
       "<IPython.core.display.HTML object>"
      ]
     },
     "metadata": {},
     "output_type": "display_data"
    },
    {
     "data": {
      "text/html": [
       "<table border=\"1\" class=\"dataframe\">\n",
       "  <thead>\n",
       "    <tr style=\"text-align: left;\">\n",
       "      <th>epoch</th>\n",
       "      <th>train_loss</th>\n",
       "      <th>valid_loss</th>\n",
       "      <th>accuracy</th>\n",
       "      <th>time</th>\n",
       "    </tr>\n",
       "  </thead>\n",
       "  <tbody>\n",
       "    <tr>\n",
       "      <td>0</td>\n",
       "      <td>0.122561</td>\n",
       "      <td>0.074562</td>\n",
       "      <td>0.986530</td>\n",
       "      <td>03:14</td>\n",
       "    </tr>\n",
       "    <tr>\n",
       "      <td>1</td>\n",
       "      <td>0.077386</td>\n",
       "      <td>0.065294</td>\n",
       "      <td>0.985991</td>\n",
       "      <td>02:50</td>\n",
       "    </tr>\n",
       "    <tr>\n",
       "      <td>2</td>\n",
       "      <td>0.038542</td>\n",
       "      <td>0.069332</td>\n",
       "      <td>0.983118</td>\n",
       "      <td>03:10</td>\n",
       "    </tr>\n",
       "    <tr>\n",
       "      <td>3</td>\n",
       "      <td>0.017741</td>\n",
       "      <td>0.053479</td>\n",
       "      <td>0.987967</td>\n",
       "      <td>03:09</td>\n",
       "    </tr>\n",
       "    <tr>\n",
       "      <td>4</td>\n",
       "      <td>0.012268</td>\n",
       "      <td>0.055812</td>\n",
       "      <td>0.990302</td>\n",
       "      <td>03:00</td>\n",
       "    </tr>\n",
       "  </tbody>\n",
       "</table>"
      ],
      "text/plain": [
       "<IPython.core.display.HTML object>"
      ]
     },
     "metadata": {},
     "output_type": "display_data"
    },
    {
     "data": {
      "text/html": [],
      "text/plain": [
       "<IPython.core.display.HTML object>"
      ]
     },
     "metadata": {},
     "output_type": "display_data"
    },
    {
     "data": {
      "text/html": [],
      "text/plain": [
       "<IPython.core.display.HTML object>"
      ]
     },
     "metadata": {},
     "output_type": "display_data"
    },
    {
     "data": {
      "text/html": [],
      "text/plain": [
       "<IPython.core.display.HTML object>"
      ]
     },
     "metadata": {},
     "output_type": "display_data"
    },
    {
     "data": {
      "text/html": [
       "<table border=\"1\" class=\"dataframe\">\n",
       "  <thead>\n",
       "    <tr style=\"text-align: left;\">\n",
       "      <th>epoch</th>\n",
       "      <th>train_loss</th>\n",
       "      <th>valid_loss</th>\n",
       "      <th>accuracy</th>\n",
       "      <th>time</th>\n",
       "    </tr>\n",
       "  </thead>\n",
       "  <tbody>\n",
       "    <tr>\n",
       "      <td>0</td>\n",
       "      <td>0.131571</td>\n",
       "      <td>0.073313</td>\n",
       "      <td>0.986889</td>\n",
       "      <td>03:19</td>\n",
       "    </tr>\n",
       "    <tr>\n",
       "      <td>1</td>\n",
       "      <td>0.074705</td>\n",
       "      <td>0.056656</td>\n",
       "      <td>0.987428</td>\n",
       "      <td>03:11</td>\n",
       "    </tr>\n",
       "    <tr>\n",
       "      <td>2</td>\n",
       "      <td>0.047166</td>\n",
       "      <td>0.055322</td>\n",
       "      <td>0.985632</td>\n",
       "      <td>03:13</td>\n",
       "    </tr>\n",
       "    <tr>\n",
       "      <td>3</td>\n",
       "      <td>0.019190</td>\n",
       "      <td>0.051438</td>\n",
       "      <td>0.988506</td>\n",
       "      <td>03:04</td>\n",
       "    </tr>\n",
       "    <tr>\n",
       "      <td>4</td>\n",
       "      <td>0.008112</td>\n",
       "      <td>0.050731</td>\n",
       "      <td>0.990122</td>\n",
       "      <td>03:19</td>\n",
       "    </tr>\n",
       "  </tbody>\n",
       "</table>"
      ],
      "text/plain": [
       "<IPython.core.display.HTML object>"
      ]
     },
     "metadata": {},
     "output_type": "display_data"
    },
    {
     "data": {
      "text/html": [],
      "text/plain": [
       "<IPython.core.display.HTML object>"
      ]
     },
     "metadata": {},
     "output_type": "display_data"
    },
    {
     "data": {
      "text/html": [],
      "text/plain": [
       "<IPython.core.display.HTML object>"
      ]
     },
     "metadata": {},
     "output_type": "display_data"
    },
    {
     "data": {
      "text/html": [],
      "text/plain": [
       "<IPython.core.display.HTML object>"
      ]
     },
     "metadata": {},
     "output_type": "display_data"
    },
    {
     "data": {
      "text/html": [
       "<table border=\"1\" class=\"dataframe\">\n",
       "  <thead>\n",
       "    <tr style=\"text-align: left;\">\n",
       "      <th>epoch</th>\n",
       "      <th>train_loss</th>\n",
       "      <th>valid_loss</th>\n",
       "      <th>accuracy</th>\n",
       "      <th>time</th>\n",
       "    </tr>\n",
       "  </thead>\n",
       "  <tbody>\n",
       "    <tr>\n",
       "      <td>0</td>\n",
       "      <td>0.132279</td>\n",
       "      <td>0.066882</td>\n",
       "      <td>0.987249</td>\n",
       "      <td>02:56</td>\n",
       "    </tr>\n",
       "    <tr>\n",
       "      <td>1</td>\n",
       "      <td>0.070772</td>\n",
       "      <td>0.063918</td>\n",
       "      <td>0.985991</td>\n",
       "      <td>03:17</td>\n",
       "    </tr>\n",
       "    <tr>\n",
       "      <td>2</td>\n",
       "      <td>0.040303</td>\n",
       "      <td>0.053309</td>\n",
       "      <td>0.988326</td>\n",
       "      <td>03:13</td>\n",
       "    </tr>\n",
       "    <tr>\n",
       "      <td>3</td>\n",
       "      <td>0.021852</td>\n",
       "      <td>0.054179</td>\n",
       "      <td>0.987249</td>\n",
       "      <td>02:49</td>\n",
       "    </tr>\n",
       "    <tr>\n",
       "      <td>4</td>\n",
       "      <td>0.008462</td>\n",
       "      <td>0.054850</td>\n",
       "      <td>0.987967</td>\n",
       "      <td>02:53</td>\n",
       "    </tr>\n",
       "  </tbody>\n",
       "</table>"
      ],
      "text/plain": [
       "<IPython.core.display.HTML object>"
      ]
     },
     "metadata": {},
     "output_type": "display_data"
    },
    {
     "data": {
      "text/html": [],
      "text/plain": [
       "<IPython.core.display.HTML object>"
      ]
     },
     "metadata": {},
     "output_type": "display_data"
    }
   ],
   "source": [
    "label_cols = ['class']\n",
    "accus = []\n",
    "\n",
    "# use StratifiedKFold to CV 5 folds \n",
    "for train_idx, val_idx in StratifiedKFold(n_splits=5,  shuffle=True).split(df, df['class']):\n",
    "    train = df.iloc[train_idx, :]\n",
    "    val = df.iloc[val_idx, :]\n",
    "    bert_model = BertForSequenceClassification.from_pretrained(config.bert_model_name, num_labels= 13)\n",
    "    \n",
    "    databunch = TextDataBunch.from_df(DBPEDIA, train, val,\n",
    "                      tokenizer=fastai_tokenizer,\n",
    "                      vocab=fastai_bert_vocab,\n",
    "                      include_bos=False,\n",
    "                      include_eos=False,\n",
    "                      text_cols= \"contents\",\n",
    "                      label_cols=label_cols,\n",
    "                      bs= 64,\n",
    "                      collate_fn=partial(pad_collate, pad_first=False, pad_idx=0),\n",
    "                 )\n",
    "    \n",
    "    learner = Learner(\n",
    "    databunch, bert_model,\n",
    "    loss_func=loss_func, metrics = accuracy)\n",
    "\n",
    "    learner.fit_one_cycle(5, 1e-04, moms=(0.8,0.7))\n",
    "    _, accu = learner.validate()\n",
    "    accus.append(accu)"
   ]
  },
  {
   "cell_type": "code",
   "execution_count": 96,
   "metadata": {
    "ExecuteTime": {
     "end_time": "2020-01-07T06:59:17.914960Z",
     "start_time": "2020-01-07T06:59:15.293105Z"
    }
   },
   "outputs": [
    {
     "data": {
      "text/plain": [
       "Learner(data=TextClasDataBunch;\n",
       "\n",
       "Train: LabelList (22273 items)\n",
       "x: TextList\n",
       "[CLS] ya ##s viceroy abu dhabi hotel is built across the f1 ya ##s marina circuit in abu dhabi . [SEP],[CLS] stephen fr ##ink is a prolific underwater photographer and frequent contributor to scuba diving magazine . fr ##ink was born in illinois and moved to key la ##rgo florida in 1978 where he currently lives with his wife and daughter . he is often cited as one of the most frequently published underwater photographers in the world . [ 1 ] [ 2 ] [ 3 ] [SEP],[CLS] diffuse kn ##ap ##weed ( cent ##aur ##ea di ##ff ##usa ) also known as white kn ##ap ##weed or tumble kn ##ap ##weed is a member of the genus cent ##aur ##ea in the family as ##tera ##ceae . [SEP],[CLS] dj ##ed ##i river ( french : ou ##ed dj ##ed ##i or ou ##ad - ed - dj ##ed ##i ) or dj ##edd ##i river is a wadi ( river with intermittent stream ) in algeria and one of the largest rivers of sahara . it starts in the saharan atlas mountains at elevation of about 1400 meters ( 460 ##0 ft ) flows for about 480 kilometers ( 300 mi ) approximately from west to east and discharge ##s into cho ##tt mel ##rh ##ir lake at about – 40 meters ( 130 ft ) below mean sea level which is the lowest point of algeria . [SEP],[CLS] the ur ##mur ##oa ##sa river or corn ##u river is a tributary of the su ##sit ##a river in romania . [SEP]\n",
       "y: CategoryList\n",
       "NaturalPlace,Athlete,Album,Village,Village\n",
       "Path: /home/jupyter/Frame_experiments/Data/Dbpedia;\n",
       "\n",
       "Valid: LabelList (5568 items)\n",
       "x: TextList\n",
       "[CLS] the peck ##ett o ##q was a series of three industrial steam locomotives that used an 0 - 6 - 0 configuration with a saddle tank . they were series of 3 steam railway locomotives built by peck ##ett and sons of bristol between 1951 and 1954 for mar ##dy and tower collier ##ies in south wales . [SEP],[CLS] or ##y ##ze ##ae is a tribe of flowering plants in the grass family po ##aceae . it contains 12 genera including both cultivated rice ( or ##y ##za ) and wild rice ( z ##izan ##ia ) . [SEP],[CLS] rebecca sai ##re ( born 16 april 1963 ) is a british actress and writer who gained early attention when at the age of fourteen she played juliet for the bbc television shakespeare series . [SEP],[CLS] ya ##kov mikhail ##ovich sv ##er ##dl ##ov ( russian : я ##к ##ов м ##и ##х ##а ##и ##л ##ович с ##в ##е ##р ##д ##л ##ов ipa : [ ˈ ##jak ##ə ##f m ##ʲ ##ɪ ##ˈ ##xa ##j ##l ##ə ##v ##ʲ ##ɪ ##t ##ɕ sv ##ʲ ##ɪ ##rd ##ˈ ##lo ##f ] ) ; known under pseudonym ##s andrei mi ##kha ##ly ##ch max sm ##ir ##nov per ##my ##ako ##v 3 june [ o . s . 22 may ] 1885 – 16 march 1919 ) was a bolshevik party leader and chairman of the all - russian central executive committee . [SEP],[CLS] bryce lin ##dor ##es ( born 12 september 1986 ) is an australian paralympic tandem cyclist . [SEP]\n",
       "y: CategoryList\n",
       "Building,Album,Athlete,MeanOfTransportation,OfficeHolder\n",
       "Path: /home/jupyter/Frame_experiments/Data/Dbpedia;\n",
       "\n",
       "Test: None, model=BertForSequenceClassification(\n",
       "  (bert): BertModel(\n",
       "    (embeddings): BertEmbeddings(\n",
       "      (word_embeddings): Embedding(30522, 768, padding_idx=0)\n",
       "      (position_embeddings): Embedding(512, 768)\n",
       "      (token_type_embeddings): Embedding(2, 768)\n",
       "      (LayerNorm): LayerNorm((768,), eps=1e-12, elementwise_affine=True)\n",
       "      (dropout): Dropout(p=0.1, inplace=False)\n",
       "    )\n",
       "    (encoder): BertEncoder(\n",
       "      (layer): ModuleList(\n",
       "        (0): BertLayer(\n",
       "          (attention): BertAttention(\n",
       "            (self): BertSelfAttention(\n",
       "              (query): Linear(in_features=768, out_features=768, bias=True)\n",
       "              (key): Linear(in_features=768, out_features=768, bias=True)\n",
       "              (value): Linear(in_features=768, out_features=768, bias=True)\n",
       "              (dropout): Dropout(p=0.1, inplace=False)\n",
       "            )\n",
       "            (output): BertSelfOutput(\n",
       "              (dense): Linear(in_features=768, out_features=768, bias=True)\n",
       "              (LayerNorm): LayerNorm((768,), eps=1e-12, elementwise_affine=True)\n",
       "              (dropout): Dropout(p=0.1, inplace=False)\n",
       "            )\n",
       "          )\n",
       "          (intermediate): BertIntermediate(\n",
       "            (dense): Linear(in_features=768, out_features=3072, bias=True)\n",
       "          )\n",
       "          (output): BertOutput(\n",
       "            (dense): Linear(in_features=3072, out_features=768, bias=True)\n",
       "            (LayerNorm): LayerNorm((768,), eps=1e-12, elementwise_affine=True)\n",
       "            (dropout): Dropout(p=0.1, inplace=False)\n",
       "          )\n",
       "        )\n",
       "        (1): BertLayer(\n",
       "          (attention): BertAttention(\n",
       "            (self): BertSelfAttention(\n",
       "              (query): Linear(in_features=768, out_features=768, bias=True)\n",
       "              (key): Linear(in_features=768, out_features=768, bias=True)\n",
       "              (value): Linear(in_features=768, out_features=768, bias=True)\n",
       "              (dropout): Dropout(p=0.1, inplace=False)\n",
       "            )\n",
       "            (output): BertSelfOutput(\n",
       "              (dense): Linear(in_features=768, out_features=768, bias=True)\n",
       "              (LayerNorm): LayerNorm((768,), eps=1e-12, elementwise_affine=True)\n",
       "              (dropout): Dropout(p=0.1, inplace=False)\n",
       "            )\n",
       "          )\n",
       "          (intermediate): BertIntermediate(\n",
       "            (dense): Linear(in_features=768, out_features=3072, bias=True)\n",
       "          )\n",
       "          (output): BertOutput(\n",
       "            (dense): Linear(in_features=3072, out_features=768, bias=True)\n",
       "            (LayerNorm): LayerNorm((768,), eps=1e-12, elementwise_affine=True)\n",
       "            (dropout): Dropout(p=0.1, inplace=False)\n",
       "          )\n",
       "        )\n",
       "        (2): BertLayer(\n",
       "          (attention): BertAttention(\n",
       "            (self): BertSelfAttention(\n",
       "              (query): Linear(in_features=768, out_features=768, bias=True)\n",
       "              (key): Linear(in_features=768, out_features=768, bias=True)\n",
       "              (value): Linear(in_features=768, out_features=768, bias=True)\n",
       "              (dropout): Dropout(p=0.1, inplace=False)\n",
       "            )\n",
       "            (output): BertSelfOutput(\n",
       "              (dense): Linear(in_features=768, out_features=768, bias=True)\n",
       "              (LayerNorm): LayerNorm((768,), eps=1e-12, elementwise_affine=True)\n",
       "              (dropout): Dropout(p=0.1, inplace=False)\n",
       "            )\n",
       "          )\n",
       "          (intermediate): BertIntermediate(\n",
       "            (dense): Linear(in_features=768, out_features=3072, bias=True)\n",
       "          )\n",
       "          (output): BertOutput(\n",
       "            (dense): Linear(in_features=3072, out_features=768, bias=True)\n",
       "            (LayerNorm): LayerNorm((768,), eps=1e-12, elementwise_affine=True)\n",
       "            (dropout): Dropout(p=0.1, inplace=False)\n",
       "          )\n",
       "        )\n",
       "        (3): BertLayer(\n",
       "          (attention): BertAttention(\n",
       "            (self): BertSelfAttention(\n",
       "              (query): Linear(in_features=768, out_features=768, bias=True)\n",
       "              (key): Linear(in_features=768, out_features=768, bias=True)\n",
       "              (value): Linear(in_features=768, out_features=768, bias=True)\n",
       "              (dropout): Dropout(p=0.1, inplace=False)\n",
       "            )\n",
       "            (output): BertSelfOutput(\n",
       "              (dense): Linear(in_features=768, out_features=768, bias=True)\n",
       "              (LayerNorm): LayerNorm((768,), eps=1e-12, elementwise_affine=True)\n",
       "              (dropout): Dropout(p=0.1, inplace=False)\n",
       "            )\n",
       "          )\n",
       "          (intermediate): BertIntermediate(\n",
       "            (dense): Linear(in_features=768, out_features=3072, bias=True)\n",
       "          )\n",
       "          (output): BertOutput(\n",
       "            (dense): Linear(in_features=3072, out_features=768, bias=True)\n",
       "            (LayerNorm): LayerNorm((768,), eps=1e-12, elementwise_affine=True)\n",
       "            (dropout): Dropout(p=0.1, inplace=False)\n",
       "          )\n",
       "        )\n",
       "        (4): BertLayer(\n",
       "          (attention): BertAttention(\n",
       "            (self): BertSelfAttention(\n",
       "              (query): Linear(in_features=768, out_features=768, bias=True)\n",
       "              (key): Linear(in_features=768, out_features=768, bias=True)\n",
       "              (value): Linear(in_features=768, out_features=768, bias=True)\n",
       "              (dropout): Dropout(p=0.1, inplace=False)\n",
       "            )\n",
       "            (output): BertSelfOutput(\n",
       "              (dense): Linear(in_features=768, out_features=768, bias=True)\n",
       "              (LayerNorm): LayerNorm((768,), eps=1e-12, elementwise_affine=True)\n",
       "              (dropout): Dropout(p=0.1, inplace=False)\n",
       "            )\n",
       "          )\n",
       "          (intermediate): BertIntermediate(\n",
       "            (dense): Linear(in_features=768, out_features=3072, bias=True)\n",
       "          )\n",
       "          (output): BertOutput(\n",
       "            (dense): Linear(in_features=3072, out_features=768, bias=True)\n",
       "            (LayerNorm): LayerNorm((768,), eps=1e-12, elementwise_affine=True)\n",
       "            (dropout): Dropout(p=0.1, inplace=False)\n",
       "          )\n",
       "        )\n",
       "        (5): BertLayer(\n",
       "          (attention): BertAttention(\n",
       "            (self): BertSelfAttention(\n",
       "              (query): Linear(in_features=768, out_features=768, bias=True)\n",
       "              (key): Linear(in_features=768, out_features=768, bias=True)\n",
       "              (value): Linear(in_features=768, out_features=768, bias=True)\n",
       "              (dropout): Dropout(p=0.1, inplace=False)\n",
       "            )\n",
       "            (output): BertSelfOutput(\n",
       "              (dense): Linear(in_features=768, out_features=768, bias=True)\n",
       "              (LayerNorm): LayerNorm((768,), eps=1e-12, elementwise_affine=True)\n",
       "              (dropout): Dropout(p=0.1, inplace=False)\n",
       "            )\n",
       "          )\n",
       "          (intermediate): BertIntermediate(\n",
       "            (dense): Linear(in_features=768, out_features=3072, bias=True)\n",
       "          )\n",
       "          (output): BertOutput(\n",
       "            (dense): Linear(in_features=3072, out_features=768, bias=True)\n",
       "            (LayerNorm): LayerNorm((768,), eps=1e-12, elementwise_affine=True)\n",
       "            (dropout): Dropout(p=0.1, inplace=False)\n",
       "          )\n",
       "        )\n",
       "        (6): BertLayer(\n",
       "          (attention): BertAttention(\n",
       "            (self): BertSelfAttention(\n",
       "              (query): Linear(in_features=768, out_features=768, bias=True)\n",
       "              (key): Linear(in_features=768, out_features=768, bias=True)\n",
       "              (value): Linear(in_features=768, out_features=768, bias=True)\n",
       "              (dropout): Dropout(p=0.1, inplace=False)\n",
       "            )\n",
       "            (output): BertSelfOutput(\n",
       "              (dense): Linear(in_features=768, out_features=768, bias=True)\n",
       "              (LayerNorm): LayerNorm((768,), eps=1e-12, elementwise_affine=True)\n",
       "              (dropout): Dropout(p=0.1, inplace=False)\n",
       "            )\n",
       "          )\n",
       "          (intermediate): BertIntermediate(\n",
       "            (dense): Linear(in_features=768, out_features=3072, bias=True)\n",
       "          )\n",
       "          (output): BertOutput(\n",
       "            (dense): Linear(in_features=3072, out_features=768, bias=True)\n",
       "            (LayerNorm): LayerNorm((768,), eps=1e-12, elementwise_affine=True)\n",
       "            (dropout): Dropout(p=0.1, inplace=False)\n",
       "          )\n",
       "        )\n",
       "        (7): BertLayer(\n",
       "          (attention): BertAttention(\n",
       "            (self): BertSelfAttention(\n",
       "              (query): Linear(in_features=768, out_features=768, bias=True)\n",
       "              (key): Linear(in_features=768, out_features=768, bias=True)\n",
       "              (value): Linear(in_features=768, out_features=768, bias=True)\n",
       "              (dropout): Dropout(p=0.1, inplace=False)\n",
       "            )\n",
       "            (output): BertSelfOutput(\n",
       "              (dense): Linear(in_features=768, out_features=768, bias=True)\n",
       "              (LayerNorm): LayerNorm((768,), eps=1e-12, elementwise_affine=True)\n",
       "              (dropout): Dropout(p=0.1, inplace=False)\n",
       "            )\n",
       "          )\n",
       "          (intermediate): BertIntermediate(\n",
       "            (dense): Linear(in_features=768, out_features=3072, bias=True)\n",
       "          )\n",
       "          (output): BertOutput(\n",
       "            (dense): Linear(in_features=3072, out_features=768, bias=True)\n",
       "            (LayerNorm): LayerNorm((768,), eps=1e-12, elementwise_affine=True)\n",
       "            (dropout): Dropout(p=0.1, inplace=False)\n",
       "          )\n",
       "        )\n",
       "        (8): BertLayer(\n",
       "          (attention): BertAttention(\n",
       "            (self): BertSelfAttention(\n",
       "              (query): Linear(in_features=768, out_features=768, bias=True)\n",
       "              (key): Linear(in_features=768, out_features=768, bias=True)\n",
       "              (value): Linear(in_features=768, out_features=768, bias=True)\n",
       "              (dropout): Dropout(p=0.1, inplace=False)\n",
       "            )\n",
       "            (output): BertSelfOutput(\n",
       "              (dense): Linear(in_features=768, out_features=768, bias=True)\n",
       "              (LayerNorm): LayerNorm((768,), eps=1e-12, elementwise_affine=True)\n",
       "              (dropout): Dropout(p=0.1, inplace=False)\n",
       "            )\n",
       "          )\n",
       "          (intermediate): BertIntermediate(\n",
       "            (dense): Linear(in_features=768, out_features=3072, bias=True)\n",
       "          )\n",
       "          (output): BertOutput(\n",
       "            (dense): Linear(in_features=3072, out_features=768, bias=True)\n",
       "            (LayerNorm): LayerNorm((768,), eps=1e-12, elementwise_affine=True)\n",
       "            (dropout): Dropout(p=0.1, inplace=False)\n",
       "          )\n",
       "        )\n",
       "        (9): BertLayer(\n",
       "          (attention): BertAttention(\n",
       "            (self): BertSelfAttention(\n",
       "              (query): Linear(in_features=768, out_features=768, bias=True)\n",
       "              (key): Linear(in_features=768, out_features=768, bias=True)\n",
       "              (value): Linear(in_features=768, out_features=768, bias=True)\n",
       "              (dropout): Dropout(p=0.1, inplace=False)\n",
       "            )\n",
       "            (output): BertSelfOutput(\n",
       "              (dense): Linear(in_features=768, out_features=768, bias=True)\n",
       "              (LayerNorm): LayerNorm((768,), eps=1e-12, elementwise_affine=True)\n",
       "              (dropout): Dropout(p=0.1, inplace=False)\n",
       "            )\n",
       "          )\n",
       "          (intermediate): BertIntermediate(\n",
       "            (dense): Linear(in_features=768, out_features=3072, bias=True)\n",
       "          )\n",
       "          (output): BertOutput(\n",
       "            (dense): Linear(in_features=3072, out_features=768, bias=True)\n",
       "            (LayerNorm): LayerNorm((768,), eps=1e-12, elementwise_affine=True)\n",
       "            (dropout): Dropout(p=0.1, inplace=False)\n",
       "          )\n",
       "        )\n",
       "        (10): BertLayer(\n",
       "          (attention): BertAttention(\n",
       "            (self): BertSelfAttention(\n",
       "              (query): Linear(in_features=768, out_features=768, bias=True)\n",
       "              (key): Linear(in_features=768, out_features=768, bias=True)\n",
       "              (value): Linear(in_features=768, out_features=768, bias=True)\n",
       "              (dropout): Dropout(p=0.1, inplace=False)\n",
       "            )\n",
       "            (output): BertSelfOutput(\n",
       "              (dense): Linear(in_features=768, out_features=768, bias=True)\n",
       "              (LayerNorm): LayerNorm((768,), eps=1e-12, elementwise_affine=True)\n",
       "              (dropout): Dropout(p=0.1, inplace=False)\n",
       "            )\n",
       "          )\n",
       "          (intermediate): BertIntermediate(\n",
       "            (dense): Linear(in_features=768, out_features=3072, bias=True)\n",
       "          )\n",
       "          (output): BertOutput(\n",
       "            (dense): Linear(in_features=3072, out_features=768, bias=True)\n",
       "            (LayerNorm): LayerNorm((768,), eps=1e-12, elementwise_affine=True)\n",
       "            (dropout): Dropout(p=0.1, inplace=False)\n",
       "          )\n",
       "        )\n",
       "        (11): BertLayer(\n",
       "          (attention): BertAttention(\n",
       "            (self): BertSelfAttention(\n",
       "              (query): Linear(in_features=768, out_features=768, bias=True)\n",
       "              (key): Linear(in_features=768, out_features=768, bias=True)\n",
       "              (value): Linear(in_features=768, out_features=768, bias=True)\n",
       "              (dropout): Dropout(p=0.1, inplace=False)\n",
       "            )\n",
       "            (output): BertSelfOutput(\n",
       "              (dense): Linear(in_features=768, out_features=768, bias=True)\n",
       "              (LayerNorm): LayerNorm((768,), eps=1e-12, elementwise_affine=True)\n",
       "              (dropout): Dropout(p=0.1, inplace=False)\n",
       "            )\n",
       "          )\n",
       "          (intermediate): BertIntermediate(\n",
       "            (dense): Linear(in_features=768, out_features=3072, bias=True)\n",
       "          )\n",
       "          (output): BertOutput(\n",
       "            (dense): Linear(in_features=3072, out_features=768, bias=True)\n",
       "            (LayerNorm): LayerNorm((768,), eps=1e-12, elementwise_affine=True)\n",
       "            (dropout): Dropout(p=0.1, inplace=False)\n",
       "          )\n",
       "        )\n",
       "      )\n",
       "    )\n",
       "    (pooler): BertPooler(\n",
       "      (dense): Linear(in_features=768, out_features=768, bias=True)\n",
       "      (activation): Tanh()\n",
       "    )\n",
       "  )\n",
       "  (dropout): Dropout(p=0.1, inplace=False)\n",
       "  (classifier): Linear(in_features=768, out_features=14, bias=True)\n",
       "), opt_func=functools.partial(<class 'torch.optim.adam.Adam'>, betas=(0.9, 0.99)), loss_func=CrossEntropyLoss(), metrics=[<function accuracy at 0x7f673858c710>], true_wd=True, bn_wd=True, wd=0.01, train_bn=True, path=PosixPath('/home/jupyter/Frame_experiments/Data/Dbpedia'), model_dir='models', callback_fns=[functools.partial(<class 'fastai.basic_train.Recorder'>, add_time=True, silent=False)], callbacks=[], layer_groups=[Sequential(\n",
       "  (0): Embedding(30522, 768, padding_idx=0)\n",
       "  (1): Embedding(512, 768)\n",
       "  (2): Embedding(2, 768)\n",
       "  (3): LayerNorm((768,), eps=1e-12, elementwise_affine=True)\n",
       "  (4): Dropout(p=0.1, inplace=False)\n",
       "  (5): Linear(in_features=768, out_features=768, bias=True)\n",
       "  (6): Linear(in_features=768, out_features=768, bias=True)\n",
       "  (7): Linear(in_features=768, out_features=768, bias=True)\n",
       "  (8): Dropout(p=0.1, inplace=False)\n",
       "  (9): Linear(in_features=768, out_features=768, bias=True)\n",
       "  (10): LayerNorm((768,), eps=1e-12, elementwise_affine=True)\n",
       "  (11): Dropout(p=0.1, inplace=False)\n",
       "  (12): Linear(in_features=768, out_features=3072, bias=True)\n",
       "  (13): Linear(in_features=3072, out_features=768, bias=True)\n",
       "  (14): LayerNorm((768,), eps=1e-12, elementwise_affine=True)\n",
       "  (15): Dropout(p=0.1, inplace=False)\n",
       "  (16): Linear(in_features=768, out_features=768, bias=True)\n",
       "  (17): Linear(in_features=768, out_features=768, bias=True)\n",
       "  (18): Linear(in_features=768, out_features=768, bias=True)\n",
       "  (19): Dropout(p=0.1, inplace=False)\n",
       "  (20): Linear(in_features=768, out_features=768, bias=True)\n",
       "  (21): LayerNorm((768,), eps=1e-12, elementwise_affine=True)\n",
       "  (22): Dropout(p=0.1, inplace=False)\n",
       "  (23): Linear(in_features=768, out_features=3072, bias=True)\n",
       "  (24): Linear(in_features=3072, out_features=768, bias=True)\n",
       "  (25): LayerNorm((768,), eps=1e-12, elementwise_affine=True)\n",
       "  (26): Dropout(p=0.1, inplace=False)\n",
       "  (27): Linear(in_features=768, out_features=768, bias=True)\n",
       "  (28): Linear(in_features=768, out_features=768, bias=True)\n",
       "  (29): Linear(in_features=768, out_features=768, bias=True)\n",
       "  (30): Dropout(p=0.1, inplace=False)\n",
       "  (31): Linear(in_features=768, out_features=768, bias=True)\n",
       "  (32): LayerNorm((768,), eps=1e-12, elementwise_affine=True)\n",
       "  (33): Dropout(p=0.1, inplace=False)\n",
       "  (34): Linear(in_features=768, out_features=3072, bias=True)\n",
       "  (35): Linear(in_features=3072, out_features=768, bias=True)\n",
       "  (36): LayerNorm((768,), eps=1e-12, elementwise_affine=True)\n",
       "  (37): Dropout(p=0.1, inplace=False)\n",
       "  (38): Linear(in_features=768, out_features=768, bias=True)\n",
       "  (39): Linear(in_features=768, out_features=768, bias=True)\n",
       "  (40): Linear(in_features=768, out_features=768, bias=True)\n",
       "  (41): Dropout(p=0.1, inplace=False)\n",
       "  (42): Linear(in_features=768, out_features=768, bias=True)\n",
       "  (43): LayerNorm((768,), eps=1e-12, elementwise_affine=True)\n",
       "  (44): Dropout(p=0.1, inplace=False)\n",
       "  (45): Linear(in_features=768, out_features=3072, bias=True)\n",
       "  (46): Linear(in_features=3072, out_features=768, bias=True)\n",
       "  (47): LayerNorm((768,), eps=1e-12, elementwise_affine=True)\n",
       "  (48): Dropout(p=0.1, inplace=False)\n",
       "  (49): Linear(in_features=768, out_features=768, bias=True)\n",
       "  (50): Linear(in_features=768, out_features=768, bias=True)\n",
       "  (51): Linear(in_features=768, out_features=768, bias=True)\n",
       "  (52): Dropout(p=0.1, inplace=False)\n",
       "  (53): Linear(in_features=768, out_features=768, bias=True)\n",
       "  (54): LayerNorm((768,), eps=1e-12, elementwise_affine=True)\n",
       "  (55): Dropout(p=0.1, inplace=False)\n",
       "  (56): Linear(in_features=768, out_features=3072, bias=True)\n",
       "  (57): Linear(in_features=3072, out_features=768, bias=True)\n",
       "  (58): LayerNorm((768,), eps=1e-12, elementwise_affine=True)\n",
       "  (59): Dropout(p=0.1, inplace=False)\n",
       "  (60): Linear(in_features=768, out_features=768, bias=True)\n",
       "  (61): Linear(in_features=768, out_features=768, bias=True)\n",
       "  (62): Linear(in_features=768, out_features=768, bias=True)\n",
       "  (63): Dropout(p=0.1, inplace=False)\n",
       "  (64): Linear(in_features=768, out_features=768, bias=True)\n",
       "  (65): LayerNorm((768,), eps=1e-12, elementwise_affine=True)\n",
       "  (66): Dropout(p=0.1, inplace=False)\n",
       "  (67): Linear(in_features=768, out_features=3072, bias=True)\n",
       "  (68): Linear(in_features=3072, out_features=768, bias=True)\n",
       "  (69): LayerNorm((768,), eps=1e-12, elementwise_affine=True)\n",
       "  (70): Dropout(p=0.1, inplace=False)\n",
       "  (71): Linear(in_features=768, out_features=768, bias=True)\n",
       "  (72): Linear(in_features=768, out_features=768, bias=True)\n",
       "  (73): Linear(in_features=768, out_features=768, bias=True)\n",
       "  (74): Dropout(p=0.1, inplace=False)\n",
       "  (75): Linear(in_features=768, out_features=768, bias=True)\n",
       "  (76): LayerNorm((768,), eps=1e-12, elementwise_affine=True)\n",
       "  (77): Dropout(p=0.1, inplace=False)\n",
       "  (78): Linear(in_features=768, out_features=3072, bias=True)\n",
       "  (79): Linear(in_features=3072, out_features=768, bias=True)\n",
       "  (80): LayerNorm((768,), eps=1e-12, elementwise_affine=True)\n",
       "  (81): Dropout(p=0.1, inplace=False)\n",
       "  (82): Linear(in_features=768, out_features=768, bias=True)\n",
       "  (83): Linear(in_features=768, out_features=768, bias=True)\n",
       "  (84): Linear(in_features=768, out_features=768, bias=True)\n",
       "  (85): Dropout(p=0.1, inplace=False)\n",
       "  (86): Linear(in_features=768, out_features=768, bias=True)\n",
       "  (87): LayerNorm((768,), eps=1e-12, elementwise_affine=True)\n",
       "  (88): Dropout(p=0.1, inplace=False)\n",
       "  (89): Linear(in_features=768, out_features=3072, bias=True)\n",
       "  (90): Linear(in_features=3072, out_features=768, bias=True)\n",
       "  (91): LayerNorm((768,), eps=1e-12, elementwise_affine=True)\n",
       "  (92): Dropout(p=0.1, inplace=False)\n",
       "  (93): Linear(in_features=768, out_features=768, bias=True)\n",
       "  (94): Linear(in_features=768, out_features=768, bias=True)\n",
       "  (95): Linear(in_features=768, out_features=768, bias=True)\n",
       "  (96): Dropout(p=0.1, inplace=False)\n",
       "  (97): Linear(in_features=768, out_features=768, bias=True)\n",
       "  (98): LayerNorm((768,), eps=1e-12, elementwise_affine=True)\n",
       "  (99): Dropout(p=0.1, inplace=False)\n",
       "  (100): Linear(in_features=768, out_features=3072, bias=True)\n",
       "  (101): Linear(in_features=3072, out_features=768, bias=True)\n",
       "  (102): LayerNorm((768,), eps=1e-12, elementwise_affine=True)\n",
       "  (103): Dropout(p=0.1, inplace=False)\n",
       "  (104): Linear(in_features=768, out_features=768, bias=True)\n",
       "  (105): Linear(in_features=768, out_features=768, bias=True)\n",
       "  (106): Linear(in_features=768, out_features=768, bias=True)\n",
       "  (107): Dropout(p=0.1, inplace=False)\n",
       "  (108): Linear(in_features=768, out_features=768, bias=True)\n",
       "  (109): LayerNorm((768,), eps=1e-12, elementwise_affine=True)\n",
       "  (110): Dropout(p=0.1, inplace=False)\n",
       "  (111): Linear(in_features=768, out_features=3072, bias=True)\n",
       "  (112): Linear(in_features=3072, out_features=768, bias=True)\n",
       "  (113): LayerNorm((768,), eps=1e-12, elementwise_affine=True)\n",
       "  (114): Dropout(p=0.1, inplace=False)\n",
       "  (115): Linear(in_features=768, out_features=768, bias=True)\n",
       "  (116): Linear(in_features=768, out_features=768, bias=True)\n",
       "  (117): Linear(in_features=768, out_features=768, bias=True)\n",
       "  (118): Dropout(p=0.1, inplace=False)\n",
       "  (119): Linear(in_features=768, out_features=768, bias=True)\n",
       "  (120): LayerNorm((768,), eps=1e-12, elementwise_affine=True)\n",
       "  (121): Dropout(p=0.1, inplace=False)\n",
       "  (122): Linear(in_features=768, out_features=3072, bias=True)\n",
       "  (123): Linear(in_features=3072, out_features=768, bias=True)\n",
       "  (124): LayerNorm((768,), eps=1e-12, elementwise_affine=True)\n",
       "  (125): Dropout(p=0.1, inplace=False)\n",
       "  (126): Linear(in_features=768, out_features=768, bias=True)\n",
       "  (127): Linear(in_features=768, out_features=768, bias=True)\n",
       "  (128): Linear(in_features=768, out_features=768, bias=True)\n",
       "  (129): Dropout(p=0.1, inplace=False)\n",
       "  (130): Linear(in_features=768, out_features=768, bias=True)\n",
       "  (131): LayerNorm((768,), eps=1e-12, elementwise_affine=True)\n",
       "  (132): Dropout(p=0.1, inplace=False)\n",
       "  (133): Linear(in_features=768, out_features=3072, bias=True)\n",
       "  (134): Linear(in_features=3072, out_features=768, bias=True)\n",
       "  (135): LayerNorm((768,), eps=1e-12, elementwise_affine=True)\n",
       "  (136): Dropout(p=0.1, inplace=False)\n",
       "  (137): Linear(in_features=768, out_features=768, bias=True)\n",
       "  (138): Tanh()\n",
       "  (139): Dropout(p=0.1, inplace=False)\n",
       "  (140): Linear(in_features=768, out_features=14, bias=True)\n",
       ")], add_time=True, silent=False)"
      ]
     },
     "execution_count": 96,
     "metadata": {},
     "output_type": "execute_result"
    }
   ],
   "source": [
    "#learner.save('dbpedia_learner_bert')\n",
    "learner.load('dbpedia_learner_bert')"
   ]
  },
  {
   "cell_type": "code",
   "execution_count": 97,
   "metadata": {
    "ExecuteTime": {
     "end_time": "2020-01-07T07:00:59.364605Z",
     "start_time": "2020-01-07T07:00:47.257154Z"
    }
   },
   "outputs": [
    {
     "data": {
      "text/html": [],
      "text/plain": [
       "<IPython.core.display.HTML object>"
      ]
     },
     "metadata": {},
     "output_type": "display_data"
    }
   ],
   "source": [
    "interp = ClassificationInterpretation.from_learner(learner)"
   ]
  },
  {
   "cell_type": "code",
   "execution_count": 99,
   "metadata": {
    "ExecuteTime": {
     "end_time": "2020-01-07T07:01:19.799670Z",
     "start_time": "2020-01-07T07:01:18.638358Z"
    }
   },
   "outputs": [
    {
     "data": {
      "image/png": "[encoded data removed]",
      "text/plain": [
       "<Figure size 432x288 with 1 Axes>"
      ]
     },
     "metadata": {
      "needs_background": "light"
     },
     "output_type": "display_data"
    }
   ],
   "source": [
    "interp.plot_confusion_matrix()"
   ]
  },
  {
   "cell_type": "code",
   "execution_count": 93,
   "metadata": {
    "ExecuteTime": {
     "end_time": "2020-01-07T06:57:04.642271Z",
     "start_time": "2020-01-07T06:57:04.605791Z"
    }
   },
   "outputs": [],
   "source": [
    "accus = [i.item() for i in accus]\n",
    "bert_dbpedia_accu_5 = pd.DataFrame({\n",
    "    'model_name' : ['Bert'] * 5,\n",
    "    'accuracy' : accus\n",
    "})\n",
    "\n",
    "bert_dbpedia_accu_5.to_csv(DBPEDIA/'bert_dbpedia_accu_5.csv', index = False)\n",
    "bert_dbpedia_accu_5 = pd.read_csv(DBPEDIA/'bert_dbpedia_accu_5.csv')"
   ]
  },
  {
   "cell_type": "markdown",
   "metadata": {},
   "source": [
    "#### Yelp review data"
   ]
  },
  {
   "cell_type": "markdown",
   "metadata": {},
   "source": [
    "##### ML"
   ]
  },
  {
   "cell_type": "code",
   "execution_count": 8,
   "metadata": {
    "ExecuteTime": {
     "end_time": "2020-01-07T21:17:30.891498Z",
     "start_time": "2020-01-07T21:17:30.867567Z"
    }
   },
   "outputs": [],
   "source": [
    "df = YELP_TRAIN"
   ]
  },
  {
   "cell_type": "code",
   "execution_count": 9,
   "metadata": {
    "ExecuteTime": {
     "end_time": "2020-01-07T21:17:31.753788Z",
     "start_time": "2020-01-07T21:17:31.728284Z"
    }
   },
   "outputs": [
    {
     "data": {
      "text/plain": [
       "(12500, 2)"
      ]
     },
     "execution_count": 9,
     "metadata": {},
     "output_type": "execute_result"
    }
   ],
   "source": [
    "df.shape"
   ]
  },
  {
   "cell_type": "code",
   "execution_count": 10,
   "metadata": {
    "ExecuteTime": {
     "end_time": "2020-01-07T21:17:56.941505Z",
     "start_time": "2020-01-07T21:17:46.631684Z"
    }
   },
   "outputs": [
    {
     "data": {
      "text/plain": [
       "(12500, 25186)"
      ]
     },
     "execution_count": 10,
     "metadata": {},
     "output_type": "execute_result"
    }
   ],
   "source": [
    "\n",
    "\n",
    "# Set the global vars for this dataset for diverse algorithums\n",
    "\n",
    "df['category_id'] = df['class'].factorize()[0]\n",
    "\n",
    "category_id_df = df[['class', 'category_id']\n",
    "                    ].drop_duplicates().sort_values('category_id')\n",
    "category_to_id = dict(category_id_df.values)\n",
    "id_to_category = {v: k for k, v in category_to_id.items()}\n",
    "\n",
    "tfidf = TfidfVectorizer(sublinear_tf=True, norm='l2', min_df=5,\n",
    "                        encoding='latin-1', ngram_range=(1, 3), stop_words='english')\n",
    "\n",
    "features = tfidf.fit_transform(df.title).toarray()  # features is the global var for this dataset block\n",
    "\n",
    "labels = df.category_id  # labels also a global var\n",
    "\n",
    "features.shape"
   ]
  },
  {
   "cell_type": "code",
   "execution_count": 11,
   "metadata": {
    "ExecuteTime": {
     "end_time": "2020-01-07T21:27:54.969398Z",
     "start_time": "2020-01-07T21:18:08.608872Z"
    }
   },
   "outputs": [
    {
     "name": "stdout",
     "output_type": "stream",
     "text": [
      "finished RandomForestClassifier, 0th bootstrap of 0th epochs\n",
      "finished RandomForestClassifier, 0th bootstrap of 1th epochs\n",
      "finished RandomForestClassifier, 0th bootstrap of 2th epochs\n",
      "finished RandomForestClassifier, 0th bootstrap of 3th epochs\n",
      "finished RandomForestClassifier, 0th bootstrap of 4th epochs\n",
      "finished LinearSVC, 0th bootstrap of 0th epochs\n",
      "finished LinearSVC, 0th bootstrap of 1th epochs\n",
      "finished LinearSVC, 0th bootstrap of 2th epochs\n",
      "finished LinearSVC, 0th bootstrap of 3th epochs\n",
      "finished LinearSVC, 0th bootstrap of 4th epochs\n",
      "finished MultinomialNB, 0th bootstrap of 0th epochs\n",
      "finished MultinomialNB, 0th bootstrap of 1th epochs\n",
      "finished MultinomialNB, 0th bootstrap of 2th epochs\n",
      "finished MultinomialNB, 0th bootstrap of 3th epochs\n",
      "finished MultinomialNB, 0th bootstrap of 4th epochs\n",
      "finished LogisticRegression, 0th bootstrap of 0th epochs\n",
      "finished LogisticRegression, 0th bootstrap of 1th epochs\n",
      "finished LogisticRegression, 0th bootstrap of 2th epochs\n",
      "finished LogisticRegression, 0th bootstrap of 3th epochs\n",
      "finished LogisticRegression, 0th bootstrap of 4th epochs\n",
      "finished RandomForestClassifier, 1th bootstrap of 0th epochs\n",
      "finished RandomForestClassifier, 1th bootstrap of 1th epochs\n",
      "finished RandomForestClassifier, 1th bootstrap of 2th epochs\n",
      "finished RandomForestClassifier, 1th bootstrap of 3th epochs\n",
      "finished RandomForestClassifier, 1th bootstrap of 4th epochs\n",
      "finished LinearSVC, 1th bootstrap of 0th epochs\n",
      "finished LinearSVC, 1th bootstrap of 1th epochs\n",
      "finished LinearSVC, 1th bootstrap of 2th epochs\n",
      "finished LinearSVC, 1th bootstrap of 3th epochs\n",
      "finished LinearSVC, 1th bootstrap of 4th epochs\n",
      "finished MultinomialNB, 1th bootstrap of 0th epochs\n",
      "finished MultinomialNB, 1th bootstrap of 1th epochs\n",
      "finished MultinomialNB, 1th bootstrap of 2th epochs\n",
      "finished MultinomialNB, 1th bootstrap of 3th epochs\n",
      "finished MultinomialNB, 1th bootstrap of 4th epochs\n",
      "finished LogisticRegression, 1th bootstrap of 0th epochs\n",
      "finished LogisticRegression, 1th bootstrap of 1th epochs\n",
      "finished LogisticRegression, 1th bootstrap of 2th epochs\n",
      "finished LogisticRegression, 1th bootstrap of 3th epochs\n",
      "finished LogisticRegression, 1th bootstrap of 4th epochs\n"
     ]
    }
   ],
   "source": [
    "\n",
    "models = [RandomForestClassifier(n_estimators=200, max_depth=3, random_state=0),\n",
    "          LinearSVC(),\n",
    "          MultinomialNB(),\n",
    "          LogisticRegression(random_state=0, max_iter= 200)]\n",
    "\n",
    "boot_num = 2\n",
    "CV = 5\n",
    "cv_df = pd.DataFrame(index=range(CV * len(models)))\n",
    "entries = []\n",
    "\n",
    "for i in range(boot_num):\n",
    "    for model in models:\n",
    "        model_name = model.__class__.__name__\n",
    "        accuracies = cross_val_score(model, features, labels, scoring='accuracy', cv=CV)\n",
    "        for _, accuracy in enumerate(accuracies):\n",
    "            print(f'finished {model_name}, {i}th bootstrap of {_}th epochs')\n",
    "            entries.append((model_name, accuracy))\n",
    "\n",
    "        \n",
    "cv_df = pd.DataFrame(entries, columns=['model_name', 'accuracy'])"
   ]
  },
  {
   "cell_type": "code",
   "execution_count": 12,
   "metadata": {
    "ExecuteTime": {
     "end_time": "2020-01-07T21:32:07.771199Z",
     "start_time": "2020-01-07T21:32:07.727934Z"
    }
   },
   "outputs": [
    {
     "data": {
      "text/html": [
       "<div>\n",
       "<style scoped>\n",
       "    .dataframe tbody tr th:only-of-type {\n",
       "        vertical-align: middle;\n",
       "    }\n",
       "\n",
       "    .dataframe tbody tr th {\n",
       "        vertical-align: top;\n",
       "    }\n",
       "\n",
       "    .dataframe thead th {\n",
       "        text-align: right;\n",
       "    }\n",
       "</style>\n",
       "<table border=\"1\" class=\"dataframe\">\n",
       "  <thead>\n",
       "    <tr style=\"text-align: right;\">\n",
       "      <th></th>\n",
       "      <th>model_name</th>\n",
       "      <th>accuracy</th>\n",
       "    </tr>\n",
       "  </thead>\n",
       "  <tbody>\n",
       "    <tr>\n",
       "      <th>0</th>\n",
       "      <td>RandomForestClassifier</td>\n",
       "      <td>0.4264</td>\n",
       "    </tr>\n",
       "    <tr>\n",
       "      <th>1</th>\n",
       "      <td>RandomForestClassifier</td>\n",
       "      <td>0.4232</td>\n",
       "    </tr>\n",
       "    <tr>\n",
       "      <th>2</th>\n",
       "      <td>RandomForestClassifier</td>\n",
       "      <td>0.4300</td>\n",
       "    </tr>\n",
       "    <tr>\n",
       "      <th>3</th>\n",
       "      <td>RandomForestClassifier</td>\n",
       "      <td>0.4032</td>\n",
       "    </tr>\n",
       "    <tr>\n",
       "      <th>4</th>\n",
       "      <td>RandomForestClassifier</td>\n",
       "      <td>0.4252</td>\n",
       "    </tr>\n",
       "    <tr>\n",
       "      <th>5</th>\n",
       "      <td>LinearSVC</td>\n",
       "      <td>0.4868</td>\n",
       "    </tr>\n",
       "    <tr>\n",
       "      <th>6</th>\n",
       "      <td>LinearSVC</td>\n",
       "      <td>0.4924</td>\n",
       "    </tr>\n",
       "    <tr>\n",
       "      <th>7</th>\n",
       "      <td>LinearSVC</td>\n",
       "      <td>0.5016</td>\n",
       "    </tr>\n",
       "    <tr>\n",
       "      <th>8</th>\n",
       "      <td>LinearSVC</td>\n",
       "      <td>0.4744</td>\n",
       "    </tr>\n",
       "    <tr>\n",
       "      <th>9</th>\n",
       "      <td>LinearSVC</td>\n",
       "      <td>0.4900</td>\n",
       "    </tr>\n",
       "    <tr>\n",
       "      <th>10</th>\n",
       "      <td>MultinomialNB</td>\n",
       "      <td>0.5120</td>\n",
       "    </tr>\n",
       "    <tr>\n",
       "      <th>11</th>\n",
       "      <td>MultinomialNB</td>\n",
       "      <td>0.4976</td>\n",
       "    </tr>\n",
       "    <tr>\n",
       "      <th>12</th>\n",
       "      <td>MultinomialNB</td>\n",
       "      <td>0.5088</td>\n",
       "    </tr>\n",
       "    <tr>\n",
       "      <th>13</th>\n",
       "      <td>MultinomialNB</td>\n",
       "      <td>0.4892</td>\n",
       "    </tr>\n",
       "    <tr>\n",
       "      <th>14</th>\n",
       "      <td>MultinomialNB</td>\n",
       "      <td>0.5032</td>\n",
       "    </tr>\n",
       "    <tr>\n",
       "      <th>15</th>\n",
       "      <td>LogisticRegression</td>\n",
       "      <td>0.5288</td>\n",
       "    </tr>\n",
       "    <tr>\n",
       "      <th>16</th>\n",
       "      <td>LogisticRegression</td>\n",
       "      <td>0.5284</td>\n",
       "    </tr>\n",
       "    <tr>\n",
       "      <th>17</th>\n",
       "      <td>LogisticRegression</td>\n",
       "      <td>0.5292</td>\n",
       "    </tr>\n",
       "    <tr>\n",
       "      <th>18</th>\n",
       "      <td>LogisticRegression</td>\n",
       "      <td>0.5208</td>\n",
       "    </tr>\n",
       "    <tr>\n",
       "      <th>19</th>\n",
       "      <td>LogisticRegression</td>\n",
       "      <td>0.5212</td>\n",
       "    </tr>\n",
       "    <tr>\n",
       "      <th>20</th>\n",
       "      <td>RandomForestClassifier</td>\n",
       "      <td>0.4264</td>\n",
       "    </tr>\n",
       "    <tr>\n",
       "      <th>21</th>\n",
       "      <td>RandomForestClassifier</td>\n",
       "      <td>0.4232</td>\n",
       "    </tr>\n",
       "    <tr>\n",
       "      <th>22</th>\n",
       "      <td>RandomForestClassifier</td>\n",
       "      <td>0.4300</td>\n",
       "    </tr>\n",
       "    <tr>\n",
       "      <th>23</th>\n",
       "      <td>RandomForestClassifier</td>\n",
       "      <td>0.4032</td>\n",
       "    </tr>\n",
       "    <tr>\n",
       "      <th>24</th>\n",
       "      <td>RandomForestClassifier</td>\n",
       "      <td>0.4252</td>\n",
       "    </tr>\n",
       "    <tr>\n",
       "      <th>25</th>\n",
       "      <td>LinearSVC</td>\n",
       "      <td>0.4868</td>\n",
       "    </tr>\n",
       "    <tr>\n",
       "      <th>26</th>\n",
       "      <td>LinearSVC</td>\n",
       "      <td>0.4924</td>\n",
       "    </tr>\n",
       "    <tr>\n",
       "      <th>27</th>\n",
       "      <td>LinearSVC</td>\n",
       "      <td>0.5016</td>\n",
       "    </tr>\n",
       "    <tr>\n",
       "      <th>28</th>\n",
       "      <td>LinearSVC</td>\n",
       "      <td>0.4744</td>\n",
       "    </tr>\n",
       "    <tr>\n",
       "      <th>29</th>\n",
       "      <td>LinearSVC</td>\n",
       "      <td>0.4900</td>\n",
       "    </tr>\n",
       "    <tr>\n",
       "      <th>30</th>\n",
       "      <td>MultinomialNB</td>\n",
       "      <td>0.5120</td>\n",
       "    </tr>\n",
       "    <tr>\n",
       "      <th>31</th>\n",
       "      <td>MultinomialNB</td>\n",
       "      <td>0.4976</td>\n",
       "    </tr>\n",
       "    <tr>\n",
       "      <th>32</th>\n",
       "      <td>MultinomialNB</td>\n",
       "      <td>0.5088</td>\n",
       "    </tr>\n",
       "    <tr>\n",
       "      <th>33</th>\n",
       "      <td>MultinomialNB</td>\n",
       "      <td>0.4892</td>\n",
       "    </tr>\n",
       "    <tr>\n",
       "      <th>34</th>\n",
       "      <td>MultinomialNB</td>\n",
       "      <td>0.5032</td>\n",
       "    </tr>\n",
       "    <tr>\n",
       "      <th>35</th>\n",
       "      <td>LogisticRegression</td>\n",
       "      <td>0.5288</td>\n",
       "    </tr>\n",
       "    <tr>\n",
       "      <th>36</th>\n",
       "      <td>LogisticRegression</td>\n",
       "      <td>0.5284</td>\n",
       "    </tr>\n",
       "    <tr>\n",
       "      <th>37</th>\n",
       "      <td>LogisticRegression</td>\n",
       "      <td>0.5292</td>\n",
       "    </tr>\n",
       "    <tr>\n",
       "      <th>38</th>\n",
       "      <td>LogisticRegression</td>\n",
       "      <td>0.5208</td>\n",
       "    </tr>\n",
       "    <tr>\n",
       "      <th>39</th>\n",
       "      <td>LogisticRegression</td>\n",
       "      <td>0.5212</td>\n",
       "    </tr>\n",
       "  </tbody>\n",
       "</table>\n",
       "</div>"
      ],
      "text/plain": [
       "                model_name  accuracy\n",
       "0   RandomForestClassifier    0.4264\n",
       "1   RandomForestClassifier    0.4232\n",
       "2   RandomForestClassifier    0.4300\n",
       "3   RandomForestClassifier    0.4032\n",
       "4   RandomForestClassifier    0.4252\n",
       "5                LinearSVC    0.4868\n",
       "6                LinearSVC    0.4924\n",
       "7                LinearSVC    0.5016\n",
       "8                LinearSVC    0.4744\n",
       "9                LinearSVC    0.4900\n",
       "10           MultinomialNB    0.5120\n",
       "11           MultinomialNB    0.4976\n",
       "12           MultinomialNB    0.5088\n",
       "13           MultinomialNB    0.4892\n",
       "14           MultinomialNB    0.5032\n",
       "15      LogisticRegression    0.5288\n",
       "16      LogisticRegression    0.5284\n",
       "17      LogisticRegression    0.5292\n",
       "18      LogisticRegression    0.5208\n",
       "19      LogisticRegression    0.5212\n",
       "20  RandomForestClassifier    0.4264\n",
       "21  RandomForestClassifier    0.4232\n",
       "22  RandomForestClassifier    0.4300\n",
       "23  RandomForestClassifier    0.4032\n",
       "24  RandomForestClassifier    0.4252\n",
       "25               LinearSVC    0.4868\n",
       "26               LinearSVC    0.4924\n",
       "27               LinearSVC    0.5016\n",
       "28               LinearSVC    0.4744\n",
       "29               LinearSVC    0.4900\n",
       "30           MultinomialNB    0.5120\n",
       "31           MultinomialNB    0.4976\n",
       "32           MultinomialNB    0.5088\n",
       "33           MultinomialNB    0.4892\n",
       "34           MultinomialNB    0.5032\n",
       "35      LogisticRegression    0.5288\n",
       "36      LogisticRegression    0.5284\n",
       "37      LogisticRegression    0.5292\n",
       "38      LogisticRegression    0.5208\n",
       "39      LogisticRegression    0.5212"
      ]
     },
     "execution_count": 12,
     "metadata": {},
     "output_type": "execute_result"
    }
   ],
   "source": [
    "cv_df.to_csv(YELP/'ml_yelp_accu_10', index = False)\n",
    "ml_yelp_accu_10 = pd.read_csv(YELP/'ml_yelp_accu_10')\n",
    "ml_yelp_accu_10"
   ]
  },
  {
   "cell_type": "markdown",
   "metadata": {
    "ExecuteTime": {
     "end_time": "2020-01-07T04:11:28.050337Z",
     "start_time": "2020-01-07T04:11:28.022774Z"
    }
   },
   "source": [
    "##### DL"
   ]
  },
  {
   "cell_type": "code",
   "execution_count": 33,
   "metadata": {
    "ExecuteTime": {
     "end_time": "2020-01-07T09:47:30.719335Z",
     "start_time": "2020-01-07T08:46:15.604056Z"
    }
   },
   "outputs": [
    {
     "data": {
      "text/html": [],
      "text/plain": [
       "<IPython.core.display.HTML object>"
      ]
     },
     "metadata": {},
     "output_type": "display_data"
    },
    {
     "data": {
      "text/html": [],
      "text/plain": [
       "<IPython.core.display.HTML object>"
      ]
     },
     "metadata": {},
     "output_type": "display_data"
    },
    {
     "data": {
      "text/html": [
       "<table border=\"1\" class=\"dataframe\">\n",
       "  <thead>\n",
       "    <tr style=\"text-align: left;\">\n",
       "      <th>epoch</th>\n",
       "      <th>train_loss</th>\n",
       "      <th>valid_loss</th>\n",
       "      <th>accuracy</th>\n",
       "      <th>time</th>\n",
       "    </tr>\n",
       "  </thead>\n",
       "  <tbody>\n",
       "    <tr>\n",
       "      <td>0</td>\n",
       "      <td>1.301233</td>\n",
       "      <td>1.093577</td>\n",
       "      <td>0.521600</td>\n",
       "      <td>01:59</td>\n",
       "    </tr>\n",
       "    <tr>\n",
       "      <td>1</td>\n",
       "      <td>1.066599</td>\n",
       "      <td>1.036332</td>\n",
       "      <td>0.547600</td>\n",
       "      <td>01:58</td>\n",
       "    </tr>\n",
       "    <tr>\n",
       "      <td>2</td>\n",
       "      <td>0.883455</td>\n",
       "      <td>1.063862</td>\n",
       "      <td>0.554000</td>\n",
       "      <td>01:51</td>\n",
       "    </tr>\n",
       "    <tr>\n",
       "      <td>3</td>\n",
       "      <td>0.620126</td>\n",
       "      <td>1.193738</td>\n",
       "      <td>0.563200</td>\n",
       "      <td>02:03</td>\n",
       "    </tr>\n",
       "    <tr>\n",
       "      <td>4</td>\n",
       "      <td>0.306274</td>\n",
       "      <td>1.494803</td>\n",
       "      <td>0.555200</td>\n",
       "      <td>01:55</td>\n",
       "    </tr>\n",
       "    <tr>\n",
       "      <td>5</td>\n",
       "      <td>0.159709</td>\n",
       "      <td>1.614236</td>\n",
       "      <td>0.564400</td>\n",
       "      <td>01:55</td>\n",
       "    </tr>\n",
       "  </tbody>\n",
       "</table>"
      ],
      "text/plain": [
       "<IPython.core.display.HTML object>"
      ]
     },
     "metadata": {},
     "output_type": "display_data"
    },
    {
     "data": {
      "text/html": [],
      "text/plain": [
       "<IPython.core.display.HTML object>"
      ]
     },
     "metadata": {},
     "output_type": "display_data"
    },
    {
     "data": {
      "text/html": [],
      "text/plain": [
       "<IPython.core.display.HTML object>"
      ]
     },
     "metadata": {},
     "output_type": "display_data"
    },
    {
     "data": {
      "text/html": [],
      "text/plain": [
       "<IPython.core.display.HTML object>"
      ]
     },
     "metadata": {},
     "output_type": "display_data"
    },
    {
     "data": {
      "text/html": [
       "<table border=\"1\" class=\"dataframe\">\n",
       "  <thead>\n",
       "    <tr style=\"text-align: left;\">\n",
       "      <th>epoch</th>\n",
       "      <th>train_loss</th>\n",
       "      <th>valid_loss</th>\n",
       "      <th>accuracy</th>\n",
       "      <th>time</th>\n",
       "    </tr>\n",
       "  </thead>\n",
       "  <tbody>\n",
       "    <tr>\n",
       "      <td>0</td>\n",
       "      <td>1.258032</td>\n",
       "      <td>1.056155</td>\n",
       "      <td>0.545600</td>\n",
       "      <td>01:51</td>\n",
       "    </tr>\n",
       "    <tr>\n",
       "      <td>1</td>\n",
       "      <td>1.027700</td>\n",
       "      <td>1.038325</td>\n",
       "      <td>0.539200</td>\n",
       "      <td>01:58</td>\n",
       "    </tr>\n",
       "    <tr>\n",
       "      <td>2</td>\n",
       "      <td>0.831533</td>\n",
       "      <td>1.027231</td>\n",
       "      <td>0.566000</td>\n",
       "      <td>02:01</td>\n",
       "    </tr>\n",
       "    <tr>\n",
       "      <td>3</td>\n",
       "      <td>0.569622</td>\n",
       "      <td>1.179452</td>\n",
       "      <td>0.586000</td>\n",
       "      <td>02:00</td>\n",
       "    </tr>\n",
       "    <tr>\n",
       "      <td>4</td>\n",
       "      <td>0.300900</td>\n",
       "      <td>1.478549</td>\n",
       "      <td>0.586400</td>\n",
       "      <td>01:51</td>\n",
       "    </tr>\n",
       "    <tr>\n",
       "      <td>5</td>\n",
       "      <td>0.145904</td>\n",
       "      <td>1.583525</td>\n",
       "      <td>0.576000</td>\n",
       "      <td>02:02</td>\n",
       "    </tr>\n",
       "  </tbody>\n",
       "</table>"
      ],
      "text/plain": [
       "<IPython.core.display.HTML object>"
      ]
     },
     "metadata": {},
     "output_type": "display_data"
    },
    {
     "data": {
      "text/html": [],
      "text/plain": [
       "<IPython.core.display.HTML object>"
      ]
     },
     "metadata": {},
     "output_type": "display_data"
    },
    {
     "data": {
      "text/html": [],
      "text/plain": [
       "<IPython.core.display.HTML object>"
      ]
     },
     "metadata": {},
     "output_type": "display_data"
    },
    {
     "data": {
      "text/html": [],
      "text/plain": [
       "<IPython.core.display.HTML object>"
      ]
     },
     "metadata": {},
     "output_type": "display_data"
    },
    {
     "data": {
      "text/html": [
       "<table border=\"1\" class=\"dataframe\">\n",
       "  <thead>\n",
       "    <tr style=\"text-align: left;\">\n",
       "      <th>epoch</th>\n",
       "      <th>train_loss</th>\n",
       "      <th>valid_loss</th>\n",
       "      <th>accuracy</th>\n",
       "      <th>time</th>\n",
       "    </tr>\n",
       "  </thead>\n",
       "  <tbody>\n",
       "    <tr>\n",
       "      <td>0</td>\n",
       "      <td>1.264295</td>\n",
       "      <td>1.073345</td>\n",
       "      <td>0.528000</td>\n",
       "      <td>02:04</td>\n",
       "    </tr>\n",
       "    <tr>\n",
       "      <td>1</td>\n",
       "      <td>1.049571</td>\n",
       "      <td>1.103960</td>\n",
       "      <td>0.500400</td>\n",
       "      <td>02:02</td>\n",
       "    </tr>\n",
       "    <tr>\n",
       "      <td>2</td>\n",
       "      <td>0.808547</td>\n",
       "      <td>1.039969</td>\n",
       "      <td>0.575600</td>\n",
       "      <td>02:03</td>\n",
       "    </tr>\n",
       "    <tr>\n",
       "      <td>3</td>\n",
       "      <td>0.555421</td>\n",
       "      <td>1.243597</td>\n",
       "      <td>0.560000</td>\n",
       "      <td>01:51</td>\n",
       "    </tr>\n",
       "    <tr>\n",
       "      <td>4</td>\n",
       "      <td>0.280465</td>\n",
       "      <td>1.522083</td>\n",
       "      <td>0.577200</td>\n",
       "      <td>02:03</td>\n",
       "    </tr>\n",
       "    <tr>\n",
       "      <td>5</td>\n",
       "      <td>0.140278</td>\n",
       "      <td>1.657011</td>\n",
       "      <td>0.574000</td>\n",
       "      <td>01:58</td>\n",
       "    </tr>\n",
       "  </tbody>\n",
       "</table>"
      ],
      "text/plain": [
       "<IPython.core.display.HTML object>"
      ]
     },
     "metadata": {},
     "output_type": "display_data"
    },
    {
     "data": {
      "text/html": [],
      "text/plain": [
       "<IPython.core.display.HTML object>"
      ]
     },
     "metadata": {},
     "output_type": "display_data"
    },
    {
     "data": {
      "text/html": [],
      "text/plain": [
       "<IPython.core.display.HTML object>"
      ]
     },
     "metadata": {},
     "output_type": "display_data"
    },
    {
     "data": {
      "text/html": [],
      "text/plain": [
       "<IPython.core.display.HTML object>"
      ]
     },
     "metadata": {},
     "output_type": "display_data"
    },
    {
     "data": {
      "text/html": [
       "<table border=\"1\" class=\"dataframe\">\n",
       "  <thead>\n",
       "    <tr style=\"text-align: left;\">\n",
       "      <th>epoch</th>\n",
       "      <th>train_loss</th>\n",
       "      <th>valid_loss</th>\n",
       "      <th>accuracy</th>\n",
       "      <th>time</th>\n",
       "    </tr>\n",
       "  </thead>\n",
       "  <tbody>\n",
       "    <tr>\n",
       "      <td>0</td>\n",
       "      <td>1.263664</td>\n",
       "      <td>1.040612</td>\n",
       "      <td>0.541200</td>\n",
       "      <td>02:04</td>\n",
       "    </tr>\n",
       "    <tr>\n",
       "      <td>1</td>\n",
       "      <td>1.038413</td>\n",
       "      <td>1.003886</td>\n",
       "      <td>0.560000</td>\n",
       "      <td>01:51</td>\n",
       "    </tr>\n",
       "    <tr>\n",
       "      <td>2</td>\n",
       "      <td>0.808130</td>\n",
       "      <td>0.995627</td>\n",
       "      <td>0.578400</td>\n",
       "      <td>02:00</td>\n",
       "    </tr>\n",
       "    <tr>\n",
       "      <td>3</td>\n",
       "      <td>0.551050</td>\n",
       "      <td>1.160672</td>\n",
       "      <td>0.574400</td>\n",
       "      <td>01:56</td>\n",
       "    </tr>\n",
       "    <tr>\n",
       "      <td>4</td>\n",
       "      <td>0.275472</td>\n",
       "      <td>1.495857</td>\n",
       "      <td>0.579200</td>\n",
       "      <td>01:57</td>\n",
       "    </tr>\n",
       "    <tr>\n",
       "      <td>5</td>\n",
       "      <td>0.136960</td>\n",
       "      <td>1.593938</td>\n",
       "      <td>0.576000</td>\n",
       "      <td>01:55</td>\n",
       "    </tr>\n",
       "  </tbody>\n",
       "</table>"
      ],
      "text/plain": [
       "<IPython.core.display.HTML object>"
      ]
     },
     "metadata": {},
     "output_type": "display_data"
    },
    {
     "data": {
      "text/html": [],
      "text/plain": [
       "<IPython.core.display.HTML object>"
      ]
     },
     "metadata": {},
     "output_type": "display_data"
    },
    {
     "data": {
      "text/html": [],
      "text/plain": [
       "<IPython.core.display.HTML object>"
      ]
     },
     "metadata": {},
     "output_type": "display_data"
    },
    {
     "data": {
      "text/html": [],
      "text/plain": [
       "<IPython.core.display.HTML object>"
      ]
     },
     "metadata": {},
     "output_type": "display_data"
    },
    {
     "data": {
      "text/html": [
       "<table border=\"1\" class=\"dataframe\">\n",
       "  <thead>\n",
       "    <tr style=\"text-align: left;\">\n",
       "      <th>epoch</th>\n",
       "      <th>train_loss</th>\n",
       "      <th>valid_loss</th>\n",
       "      <th>accuracy</th>\n",
       "      <th>time</th>\n",
       "    </tr>\n",
       "  </thead>\n",
       "  <tbody>\n",
       "    <tr>\n",
       "      <td>0</td>\n",
       "      <td>1.264468</td>\n",
       "      <td>1.043323</td>\n",
       "      <td>0.528800</td>\n",
       "      <td>01:59</td>\n",
       "    </tr>\n",
       "    <tr>\n",
       "      <td>1</td>\n",
       "      <td>1.039918</td>\n",
       "      <td>1.003320</td>\n",
       "      <td>0.555200</td>\n",
       "      <td>02:02</td>\n",
       "    </tr>\n",
       "    <tr>\n",
       "      <td>2</td>\n",
       "      <td>0.843496</td>\n",
       "      <td>1.024616</td>\n",
       "      <td>0.554000</td>\n",
       "      <td>01:53</td>\n",
       "    </tr>\n",
       "    <tr>\n",
       "      <td>3</td>\n",
       "      <td>0.555465</td>\n",
       "      <td>1.190338</td>\n",
       "      <td>0.558000</td>\n",
       "      <td>02:03</td>\n",
       "    </tr>\n",
       "    <tr>\n",
       "      <td>4</td>\n",
       "      <td>0.274542</td>\n",
       "      <td>1.483281</td>\n",
       "      <td>0.566000</td>\n",
       "      <td>02:00</td>\n",
       "    </tr>\n",
       "    <tr>\n",
       "      <td>5</td>\n",
       "      <td>0.143104</td>\n",
       "      <td>1.600284</td>\n",
       "      <td>0.568800</td>\n",
       "      <td>01:58</td>\n",
       "    </tr>\n",
       "  </tbody>\n",
       "</table>"
      ],
      "text/plain": [
       "<IPython.core.display.HTML object>"
      ]
     },
     "metadata": {},
     "output_type": "display_data"
    },
    {
     "data": {
      "text/html": [],
      "text/plain": [
       "<IPython.core.display.HTML object>"
      ]
     },
     "metadata": {},
     "output_type": "display_data"
    }
   ],
   "source": [
    "label_cols = ['class']\n",
    "accus = []\n",
    "\n",
    "# use StratifiedKFold to CV 5 folds \n",
    "for train_idx, val_idx in StratifiedKFold(n_splits=5,  shuffle=True).split(df, df['class']):\n",
    "    train = df.iloc[train_idx, :]\n",
    "    val = df.iloc[val_idx, :]\n",
    "    bert_model = BertForSequenceClassification.from_pretrained(config.bert_model_name, num_labels= 5 )\n",
    "    \n",
    "    databunch = TextDataBunch.from_df(YELP, train, val,\n",
    "                      tokenizer=fastai_tokenizer,\n",
    "                      vocab=fastai_bert_vocab,\n",
    "                      include_bos=False,\n",
    "                      include_eos=False,\n",
    "                      text_cols= \"title\",\n",
    "                      label_cols=label_cols,\n",
    "                      bs= 72,\n",
    "                      collate_fn=partial(pad_collate, pad_first=False, pad_idx=0),\n",
    "                 )\n",
    "    \n",
    "    learner = Learner(\n",
    "    databunch, bert_model,\n",
    "    loss_func=loss_func, metrics = accuracy)\n",
    "    #learner.load('premilinary_learner_Yelp_3epochs')\n",
    "    learner.fit_one_cycle(6, 1e-04)\n",
    "    _, accu = learner.validate()\n",
    "    accus.append(accu)"
   ]
  },
  {
   "cell_type": "code",
   "execution_count": 29,
   "metadata": {
    "ExecuteTime": {
     "end_time": "2020-01-07T08:30:40.451878Z",
     "start_time": "2020-01-07T08:30:40.428353Z"
    }
   },
   "outputs": [],
   "source": []
  },
  {
   "cell_type": "code",
   "execution_count": 34,
   "metadata": {
    "ExecuteTime": {
     "end_time": "2020-01-07T09:48:20.873211Z",
     "start_time": "2020-01-07T09:48:20.840712Z"
    }
   },
   "outputs": [],
   "source": [
    "accus = [i.item() for i in accus]\n",
    "bert_yelp_accu_5 = pd.DataFrame({\n",
    "    'model_name' :['Bert'] * 5,\n",
    "    'accuracy' : accus\n",
    "})\n",
    "\n",
    "bert_yelp_accu_5.to_csv(YELP/'bert_yelp_accu_5.csv', index = False)\n",
    "bert_yelp_accu_5 = pd.read_csv(YELP/'bert_yelp_accu_5.csv')"
   ]
  },
  {
   "cell_type": "code",
   "execution_count": 35,
   "metadata": {
    "ExecuteTime": {
     "end_time": "2020-01-07T09:48:26.110568Z",
     "start_time": "2020-01-07T09:48:26.080087Z"
    }
   },
   "outputs": [
    {
     "data": {
      "text/html": [
       "<div>\n",
       "<style scoped>\n",
       "    .dataframe tbody tr th:only-of-type {\n",
       "        vertical-align: middle;\n",
       "    }\n",
       "\n",
       "    .dataframe tbody tr th {\n",
       "        vertical-align: top;\n",
       "    }\n",
       "\n",
       "    .dataframe thead th {\n",
       "        text-align: right;\n",
       "    }\n",
       "</style>\n",
       "<table border=\"1\" class=\"dataframe\">\n",
       "  <thead>\n",
       "    <tr style=\"text-align: right;\">\n",
       "      <th></th>\n",
       "      <th>model_name</th>\n",
       "      <th>accuracy</th>\n",
       "    </tr>\n",
       "  </thead>\n",
       "  <tbody>\n",
       "    <tr>\n",
       "      <th>0</th>\n",
       "      <td>Bert</td>\n",
       "      <td>0.5644</td>\n",
       "    </tr>\n",
       "    <tr>\n",
       "      <th>1</th>\n",
       "      <td>Bert</td>\n",
       "      <td>0.5760</td>\n",
       "    </tr>\n",
       "    <tr>\n",
       "      <th>2</th>\n",
       "      <td>Bert</td>\n",
       "      <td>0.5740</td>\n",
       "    </tr>\n",
       "    <tr>\n",
       "      <th>3</th>\n",
       "      <td>Bert</td>\n",
       "      <td>0.5760</td>\n",
       "    </tr>\n",
       "    <tr>\n",
       "      <th>4</th>\n",
       "      <td>Bert</td>\n",
       "      <td>0.5688</td>\n",
       "    </tr>\n",
       "  </tbody>\n",
       "</table>\n",
       "</div>"
      ],
      "text/plain": [
       "  model_name  accuracy\n",
       "0       Bert    0.5644\n",
       "1       Bert    0.5760\n",
       "2       Bert    0.5740\n",
       "3       Bert    0.5760\n",
       "4       Bert    0.5688"
      ]
     },
     "execution_count": 35,
     "metadata": {},
     "output_type": "execute_result"
    }
   ],
   "source": [
    "bert_yelp_accu_5"
   ]
  },
  {
   "cell_type": "code",
   "execution_count": 36,
   "metadata": {
    "ExecuteTime": {
     "end_time": "2020-01-07T09:49:54.618428Z",
     "start_time": "2020-01-07T09:49:53.201059Z"
    }
   },
   "outputs": [],
   "source": [
    "learner.save('yelp_10k_learner')"
   ]
  },
  {
   "cell_type": "code",
   "execution_count": 37,
   "metadata": {
    "ExecuteTime": {
     "end_time": "2020-01-07T09:51:17.911635Z",
     "start_time": "2020-01-07T09:51:09.310837Z"
    }
   },
   "outputs": [
    {
     "data": {
      "text/html": [],
      "text/plain": [
       "<IPython.core.display.HTML object>"
      ]
     },
     "metadata": {},
     "output_type": "display_data"
    }
   ],
   "source": [
    "interp_yelp_10k = ClassificationInterpretation.from_learner(learner)"
   ]
  },
  {
   "cell_type": "code",
   "execution_count": 47,
   "metadata": {
    "ExecuteTime": {
     "end_time": "2020-01-07T09:59:38.258572Z",
     "start_time": "2020-01-07T09:59:38.079133Z"
    }
   },
   "outputs": [],
   "source": [
    "pd.DataFrame(interp_yelp_10k.confusion_matrix()).to_csv('confusion_matrix_bert.csv')"
   ]
  },
  {
   "cell_type": "code",
   "execution_count": null,
   "metadata": {},
   "outputs": [],
   "source": []
  },
  {
   "cell_type": "markdown",
   "metadata": {},
   "source": [
    "#### Amazon reviews"
   ]
  },
  {
   "cell_type": "code",
   "execution_count": 34,
   "metadata": {
    "ExecuteTime": {
     "end_time": "2020-01-07T21:53:54.864074Z",
     "start_time": "2020-01-07T21:53:54.838717Z"
    }
   },
   "outputs": [],
   "source": [
    "df = AMAZON_TRAIN"
   ]
  },
  {
   "cell_type": "markdown",
   "metadata": {
    "ExecuteTime": {
     "end_time": "2020-01-07T21:52:52.206549Z",
     "start_time": "2020-01-07T21:52:52.181041Z"
    }
   },
   "source": [
    "##### ML models"
   ]
  },
  {
   "cell_type": "code",
   "execution_count": 40,
   "metadata": {
    "ExecuteTime": {
     "end_time": "2020-01-07T21:57:15.595683Z",
     "start_time": "2020-01-07T21:57:09.647914Z"
    }
   },
   "outputs": [
    {
     "data": {
      "text/plain": [
       "(12500, 13118)"
      ]
     },
     "execution_count": 40,
     "metadata": {},
     "output_type": "execute_result"
    }
   ],
   "source": [
    "\n",
    "\n",
    "\n",
    "# Set the global vars for this dataset for diverse algorithums\n",
    "\n",
    "df['category_id'] = df['class'].factorize()[0]\n",
    "\n",
    "category_id_df = df[['class', 'category_id']\n",
    "                    ].drop_duplicates().sort_values('category_id')\n",
    "category_to_id = dict(category_id_df.values)\n",
    "id_to_category = {v: k for k, v in category_to_id.items()}\n",
    "\n",
    "tfidf = TfidfVectorizer(sublinear_tf=True, norm='l2', min_df=5,\n",
    "                        encoding='latin-1', ngram_range=(1, 3), stop_words='english')\n",
    "\n",
    "features = tfidf.fit_transform(df.review).toarray()  # features is the global var for this dataset block\n",
    "\n",
    "labels = df.category_id  # labels also a global var\n",
    "\n",
    "features.shape"
   ]
  },
  {
   "cell_type": "code",
   "execution_count": 42,
   "metadata": {
    "ExecuteTime": {
     "end_time": "2020-01-07T22:04:58.596885Z",
     "start_time": "2020-01-07T21:59:46.267547Z"
    }
   },
   "outputs": [
    {
     "name": "stdout",
     "output_type": "stream",
     "text": [
      "finished RandomForestClassifier, 0th bootstrap of 0th epochs\n",
      "finished RandomForestClassifier, 0th bootstrap of 1th epochs\n",
      "finished RandomForestClassifier, 0th bootstrap of 2th epochs\n",
      "finished RandomForestClassifier, 0th bootstrap of 3th epochs\n",
      "finished RandomForestClassifier, 0th bootstrap of 4th epochs\n",
      "finished LinearSVC, 0th bootstrap of 0th epochs\n",
      "finished LinearSVC, 0th bootstrap of 1th epochs\n",
      "finished LinearSVC, 0th bootstrap of 2th epochs\n",
      "finished LinearSVC, 0th bootstrap of 3th epochs\n",
      "finished LinearSVC, 0th bootstrap of 4th epochs\n",
      "finished MultinomialNB, 0th bootstrap of 0th epochs\n",
      "finished MultinomialNB, 0th bootstrap of 1th epochs\n",
      "finished MultinomialNB, 0th bootstrap of 2th epochs\n",
      "finished MultinomialNB, 0th bootstrap of 3th epochs\n",
      "finished MultinomialNB, 0th bootstrap of 4th epochs\n",
      "finished LogisticRegression, 0th bootstrap of 0th epochs\n",
      "finished LogisticRegression, 0th bootstrap of 1th epochs\n",
      "finished LogisticRegression, 0th bootstrap of 2th epochs\n",
      "finished LogisticRegression, 0th bootstrap of 3th epochs\n",
      "finished LogisticRegression, 0th bootstrap of 4th epochs\n",
      "finished RandomForestClassifier, 1th bootstrap of 0th epochs\n",
      "finished RandomForestClassifier, 1th bootstrap of 1th epochs\n",
      "finished RandomForestClassifier, 1th bootstrap of 2th epochs\n",
      "finished RandomForestClassifier, 1th bootstrap of 3th epochs\n",
      "finished RandomForestClassifier, 1th bootstrap of 4th epochs\n",
      "finished LinearSVC, 1th bootstrap of 0th epochs\n",
      "finished LinearSVC, 1th bootstrap of 1th epochs\n",
      "finished LinearSVC, 1th bootstrap of 2th epochs\n",
      "finished LinearSVC, 1th bootstrap of 3th epochs\n",
      "finished LinearSVC, 1th bootstrap of 4th epochs\n",
      "finished MultinomialNB, 1th bootstrap of 0th epochs\n",
      "finished MultinomialNB, 1th bootstrap of 1th epochs\n",
      "finished MultinomialNB, 1th bootstrap of 2th epochs\n",
      "finished MultinomialNB, 1th bootstrap of 3th epochs\n",
      "finished MultinomialNB, 1th bootstrap of 4th epochs\n",
      "finished LogisticRegression, 1th bootstrap of 0th epochs\n",
      "finished LogisticRegression, 1th bootstrap of 1th epochs\n",
      "finished LogisticRegression, 1th bootstrap of 2th epochs\n",
      "finished LogisticRegression, 1th bootstrap of 3th epochs\n",
      "finished LogisticRegression, 1th bootstrap of 4th epochs\n"
     ]
    }
   ],
   "source": [
    "\n",
    "models = [RandomForestClassifier(n_estimators=200, max_depth=3, random_state=0),\n",
    "          LinearSVC(),\n",
    "          MultinomialNB(),\n",
    "          LogisticRegression(random_state=0, max_iter= 200)]\n",
    "\n",
    "boot_num = 2\n",
    "CV = 5\n",
    "cv_df = pd.DataFrame(index=range(CV * len(models)))\n",
    "entries = []\n",
    "\n",
    "for i in range(boot_num):\n",
    "    for model in models:\n",
    "        model_name = model.__class__.__name__\n",
    "        accuracies = cross_val_score(model, features, labels, scoring='accuracy', cv=CV)\n",
    "        for _, accuracy in enumerate(accuracies):\n",
    "            print(f'finished {model_name}, {i}th bootstrap of {_}th epochs')\n",
    "            entries.append((model_name, accuracy))\n",
    "\n",
    "        \n",
    "cv_df = pd.DataFrame(entries, columns=['model_name', 'accuracy'])"
   ]
  },
  {
   "cell_type": "code",
   "execution_count": 43,
   "metadata": {
    "ExecuteTime": {
     "end_time": "2020-01-07T22:05:21.668980Z",
     "start_time": "2020-01-07T22:05:21.633925Z"
    }
   },
   "outputs": [
    {
     "data": {
      "text/html": [
       "<div>\n",
       "<style scoped>\n",
       "    .dataframe tbody tr th:only-of-type {\n",
       "        vertical-align: middle;\n",
       "    }\n",
       "\n",
       "    .dataframe tbody tr th {\n",
       "        vertical-align: top;\n",
       "    }\n",
       "\n",
       "    .dataframe thead th {\n",
       "        text-align: right;\n",
       "    }\n",
       "</style>\n",
       "<table border=\"1\" class=\"dataframe\">\n",
       "  <thead>\n",
       "    <tr style=\"text-align: right;\">\n",
       "      <th></th>\n",
       "      <th>model_name</th>\n",
       "      <th>accuracy</th>\n",
       "    </tr>\n",
       "  </thead>\n",
       "  <tbody>\n",
       "    <tr>\n",
       "      <th>0</th>\n",
       "      <td>RandomForestClassifier</td>\n",
       "      <td>0.3752</td>\n",
       "    </tr>\n",
       "    <tr>\n",
       "      <th>1</th>\n",
       "      <td>RandomForestClassifier</td>\n",
       "      <td>0.3620</td>\n",
       "    </tr>\n",
       "    <tr>\n",
       "      <th>2</th>\n",
       "      <td>RandomForestClassifier</td>\n",
       "      <td>0.3688</td>\n",
       "    </tr>\n",
       "    <tr>\n",
       "      <th>3</th>\n",
       "      <td>RandomForestClassifier</td>\n",
       "      <td>0.3752</td>\n",
       "    </tr>\n",
       "    <tr>\n",
       "      <th>4</th>\n",
       "      <td>RandomForestClassifier</td>\n",
       "      <td>0.3700</td>\n",
       "    </tr>\n",
       "    <tr>\n",
       "      <th>5</th>\n",
       "      <td>LinearSVC</td>\n",
       "      <td>0.3904</td>\n",
       "    </tr>\n",
       "    <tr>\n",
       "      <th>6</th>\n",
       "      <td>LinearSVC</td>\n",
       "      <td>0.3956</td>\n",
       "    </tr>\n",
       "    <tr>\n",
       "      <th>7</th>\n",
       "      <td>LinearSVC</td>\n",
       "      <td>0.3968</td>\n",
       "    </tr>\n",
       "    <tr>\n",
       "      <th>8</th>\n",
       "      <td>LinearSVC</td>\n",
       "      <td>0.3940</td>\n",
       "    </tr>\n",
       "    <tr>\n",
       "      <th>9</th>\n",
       "      <td>LinearSVC</td>\n",
       "      <td>0.3972</td>\n",
       "    </tr>\n",
       "    <tr>\n",
       "      <th>10</th>\n",
       "      <td>MultinomialNB</td>\n",
       "      <td>0.4100</td>\n",
       "    </tr>\n",
       "    <tr>\n",
       "      <th>11</th>\n",
       "      <td>MultinomialNB</td>\n",
       "      <td>0.4144</td>\n",
       "    </tr>\n",
       "    <tr>\n",
       "      <th>12</th>\n",
       "      <td>MultinomialNB</td>\n",
       "      <td>0.4164</td>\n",
       "    </tr>\n",
       "    <tr>\n",
       "      <th>13</th>\n",
       "      <td>MultinomialNB</td>\n",
       "      <td>0.4204</td>\n",
       "    </tr>\n",
       "    <tr>\n",
       "      <th>14</th>\n",
       "      <td>MultinomialNB</td>\n",
       "      <td>0.4260</td>\n",
       "    </tr>\n",
       "    <tr>\n",
       "      <th>15</th>\n",
       "      <td>LogisticRegression</td>\n",
       "      <td>0.4248</td>\n",
       "    </tr>\n",
       "    <tr>\n",
       "      <th>16</th>\n",
       "      <td>LogisticRegression</td>\n",
       "      <td>0.4244</td>\n",
       "    </tr>\n",
       "    <tr>\n",
       "      <th>17</th>\n",
       "      <td>LogisticRegression</td>\n",
       "      <td>0.4316</td>\n",
       "    </tr>\n",
       "    <tr>\n",
       "      <th>18</th>\n",
       "      <td>LogisticRegression</td>\n",
       "      <td>0.4328</td>\n",
       "    </tr>\n",
       "    <tr>\n",
       "      <th>19</th>\n",
       "      <td>LogisticRegression</td>\n",
       "      <td>0.4296</td>\n",
       "    </tr>\n",
       "    <tr>\n",
       "      <th>20</th>\n",
       "      <td>RandomForestClassifier</td>\n",
       "      <td>0.3752</td>\n",
       "    </tr>\n",
       "    <tr>\n",
       "      <th>21</th>\n",
       "      <td>RandomForestClassifier</td>\n",
       "      <td>0.3620</td>\n",
       "    </tr>\n",
       "    <tr>\n",
       "      <th>22</th>\n",
       "      <td>RandomForestClassifier</td>\n",
       "      <td>0.3688</td>\n",
       "    </tr>\n",
       "    <tr>\n",
       "      <th>23</th>\n",
       "      <td>RandomForestClassifier</td>\n",
       "      <td>0.3752</td>\n",
       "    </tr>\n",
       "    <tr>\n",
       "      <th>24</th>\n",
       "      <td>RandomForestClassifier</td>\n",
       "      <td>0.3700</td>\n",
       "    </tr>\n",
       "    <tr>\n",
       "      <th>25</th>\n",
       "      <td>LinearSVC</td>\n",
       "      <td>0.3904</td>\n",
       "    </tr>\n",
       "    <tr>\n",
       "      <th>26</th>\n",
       "      <td>LinearSVC</td>\n",
       "      <td>0.3956</td>\n",
       "    </tr>\n",
       "    <tr>\n",
       "      <th>27</th>\n",
       "      <td>LinearSVC</td>\n",
       "      <td>0.3968</td>\n",
       "    </tr>\n",
       "    <tr>\n",
       "      <th>28</th>\n",
       "      <td>LinearSVC</td>\n",
       "      <td>0.3940</td>\n",
       "    </tr>\n",
       "    <tr>\n",
       "      <th>29</th>\n",
       "      <td>LinearSVC</td>\n",
       "      <td>0.3972</td>\n",
       "    </tr>\n",
       "    <tr>\n",
       "      <th>30</th>\n",
       "      <td>MultinomialNB</td>\n",
       "      <td>0.4100</td>\n",
       "    </tr>\n",
       "    <tr>\n",
       "      <th>31</th>\n",
       "      <td>MultinomialNB</td>\n",
       "      <td>0.4144</td>\n",
       "    </tr>\n",
       "    <tr>\n",
       "      <th>32</th>\n",
       "      <td>MultinomialNB</td>\n",
       "      <td>0.4164</td>\n",
       "    </tr>\n",
       "    <tr>\n",
       "      <th>33</th>\n",
       "      <td>MultinomialNB</td>\n",
       "      <td>0.4204</td>\n",
       "    </tr>\n",
       "    <tr>\n",
       "      <th>34</th>\n",
       "      <td>MultinomialNB</td>\n",
       "      <td>0.4260</td>\n",
       "    </tr>\n",
       "    <tr>\n",
       "      <th>35</th>\n",
       "      <td>LogisticRegression</td>\n",
       "      <td>0.4248</td>\n",
       "    </tr>\n",
       "    <tr>\n",
       "      <th>36</th>\n",
       "      <td>LogisticRegression</td>\n",
       "      <td>0.4244</td>\n",
       "    </tr>\n",
       "    <tr>\n",
       "      <th>37</th>\n",
       "      <td>LogisticRegression</td>\n",
       "      <td>0.4316</td>\n",
       "    </tr>\n",
       "    <tr>\n",
       "      <th>38</th>\n",
       "      <td>LogisticRegression</td>\n",
       "      <td>0.4328</td>\n",
       "    </tr>\n",
       "    <tr>\n",
       "      <th>39</th>\n",
       "      <td>LogisticRegression</td>\n",
       "      <td>0.4296</td>\n",
       "    </tr>\n",
       "  </tbody>\n",
       "</table>\n",
       "</div>"
      ],
      "text/plain": [
       "                model_name  accuracy\n",
       "0   RandomForestClassifier    0.3752\n",
       "1   RandomForestClassifier    0.3620\n",
       "2   RandomForestClassifier    0.3688\n",
       "3   RandomForestClassifier    0.3752\n",
       "4   RandomForestClassifier    0.3700\n",
       "5                LinearSVC    0.3904\n",
       "6                LinearSVC    0.3956\n",
       "7                LinearSVC    0.3968\n",
       "8                LinearSVC    0.3940\n",
       "9                LinearSVC    0.3972\n",
       "10           MultinomialNB    0.4100\n",
       "11           MultinomialNB    0.4144\n",
       "12           MultinomialNB    0.4164\n",
       "13           MultinomialNB    0.4204\n",
       "14           MultinomialNB    0.4260\n",
       "15      LogisticRegression    0.4248\n",
       "16      LogisticRegression    0.4244\n",
       "17      LogisticRegression    0.4316\n",
       "18      LogisticRegression    0.4328\n",
       "19      LogisticRegression    0.4296\n",
       "20  RandomForestClassifier    0.3752\n",
       "21  RandomForestClassifier    0.3620\n",
       "22  RandomForestClassifier    0.3688\n",
       "23  RandomForestClassifier    0.3752\n",
       "24  RandomForestClassifier    0.3700\n",
       "25               LinearSVC    0.3904\n",
       "26               LinearSVC    0.3956\n",
       "27               LinearSVC    0.3968\n",
       "28               LinearSVC    0.3940\n",
       "29               LinearSVC    0.3972\n",
       "30           MultinomialNB    0.4100\n",
       "31           MultinomialNB    0.4144\n",
       "32           MultinomialNB    0.4164\n",
       "33           MultinomialNB    0.4204\n",
       "34           MultinomialNB    0.4260\n",
       "35      LogisticRegression    0.4248\n",
       "36      LogisticRegression    0.4244\n",
       "37      LogisticRegression    0.4316\n",
       "38      LogisticRegression    0.4328\n",
       "39      LogisticRegression    0.4296"
      ]
     },
     "execution_count": 43,
     "metadata": {},
     "output_type": "execute_result"
    }
   ],
   "source": [
    "cv_df.to_csv(AMAZON/'ml_amazon_accu_10', index = False)\n",
    "ml_amazon_accu_10 = pd.read_csv(AMAZON/'ml_amazon_accu_10')\n",
    "ml_amazon_accu_10"
   ]
  },
  {
   "cell_type": "code",
   "execution_count": null,
   "metadata": {},
   "outputs": [],
   "source": []
  },
  {
   "cell_type": "markdown",
   "metadata": {},
   "source": [
    "##### DL models"
   ]
  },
  {
   "cell_type": "code",
   "execution_count": 49,
   "metadata": {
    "ExecuteTime": {
     "end_time": "2020-01-07T22:07:45.762200Z",
     "start_time": "2020-01-07T22:07:32.249554Z"
    }
   },
   "outputs": [
    {
     "data": {
      "text/html": [],
      "text/plain": [
       "<IPython.core.display.HTML object>"
      ]
     },
     "metadata": {},
     "output_type": "display_data"
    },
    {
     "data": {
      "text/html": [],
      "text/plain": [
       "<IPython.core.display.HTML object>"
      ]
     },
     "metadata": {},
     "output_type": "display_data"
    },
    {
     "data": {
      "text/html": [
       "\n",
       "    <div>\n",
       "        <style>\n",
       "            /* Turns off some styling */\n",
       "            progress {\n",
       "                /* gets rid of default border in Firefox and Opera. */\n",
       "                border: none;\n",
       "                /* Needs to be in here for Safari polyfill so background images work as expected. */\n",
       "                background-size: auto;\n",
       "            }\n",
       "            .progress-bar-interrupted, .progress-bar-interrupted::-webkit-progress-bar {\n",
       "                background: #F44336;\n",
       "            }\n",
       "        </style>\n",
       "      <progress value='0' class='' max='6', style='width:300px; height:20px; vertical-align: middle;'></progress>\n",
       "      0.00% [0/6 00:00<00:00]\n",
       "    </div>\n",
       "    \n",
       "<table border=\"1\" class=\"dataframe\">\n",
       "  <thead>\n",
       "    <tr style=\"text-align: left;\">\n",
       "      <th>epoch</th>\n",
       "      <th>train_loss</th>\n",
       "      <th>valid_loss</th>\n",
       "      <th>accuracy</th>\n",
       "      <th>time</th>\n",
       "    </tr>\n",
       "  </thead>\n",
       "  <tbody>\n",
       "  </tbody>\n",
       "</table><p>\n",
       "\n",
       "    <div>\n",
       "        <style>\n",
       "            /* Turns off some styling */\n",
       "            progress {\n",
       "                /* gets rid of default border in Firefox and Opera. */\n",
       "                border: none;\n",
       "                /* Needs to be in here for Safari polyfill so background images work as expected. */\n",
       "                background-size: auto;\n",
       "            }\n",
       "            .progress-bar-interrupted, .progress-bar-interrupted::-webkit-progress-bar {\n",
       "                background: #F44336;\n",
       "            }\n",
       "        </style>\n",
       "      <progress value='0' class='progress-bar-interrupted' max='156', style='width:300px; height:20px; vertical-align: middle;'></progress>\n",
       "      Interrupted\n",
       "    </div>\n",
       "    "
      ],
      "text/plain": [
       "<IPython.core.display.HTML object>"
      ]
     },
     "metadata": {},
     "output_type": "display_data"
    },
    {
     "ename": "RuntimeError",
     "evalue": "CUDA out of memory. Tried to allocate 96.00 MiB (GPU 0; 11.17 GiB total capacity; 10.75 GiB already allocated; 28.81 MiB free; 107.72 MiB cached)",
     "output_type": "error",
     "traceback": [
      "\u001b[0;31m---------------------------------------------------------------------------\u001b[0m",
      "\u001b[0;31mRuntimeError\u001b[0m                              Traceback (most recent call last)",
      "\u001b[0;32m<ipython-input-49-89449d5375eb>\u001b[0m in \u001b[0;36m<module>\u001b[0;34m\u001b[0m\n\u001b[1;32m     22\u001b[0m     \u001b[0mdatabunch\u001b[0m\u001b[0;34m,\u001b[0m \u001b[0mbert_model\u001b[0m\u001b[0;34m,\u001b[0m\u001b[0;34m\u001b[0m\u001b[0;34m\u001b[0m\u001b[0m\n\u001b[1;32m     23\u001b[0m     loss_func=loss_func, metrics = accuracy)\n\u001b[0;32m---> 24\u001b[0;31m     \u001b[0mlearner\u001b[0m\u001b[0;34m.\u001b[0m\u001b[0mfit_one_cycle\u001b[0m\u001b[0;34m(\u001b[0m\u001b[0;36m6\u001b[0m\u001b[0;34m,\u001b[0m \u001b[0;36m1e-04\u001b[0m\u001b[0;34m)\u001b[0m\u001b[0;34m\u001b[0m\u001b[0;34m\u001b[0m\u001b[0m\n\u001b[0m\u001b[1;32m     25\u001b[0m     \u001b[0m_\u001b[0m\u001b[0;34m,\u001b[0m \u001b[0maccu\u001b[0m \u001b[0;34m=\u001b[0m \u001b[0mlearner\u001b[0m\u001b[0;34m.\u001b[0m\u001b[0mvalidate\u001b[0m\u001b[0;34m(\u001b[0m\u001b[0;34m)\u001b[0m\u001b[0;34m\u001b[0m\u001b[0;34m\u001b[0m\u001b[0m\n\u001b[1;32m     26\u001b[0m     \u001b[0maccus\u001b[0m\u001b[0;34m.\u001b[0m\u001b[0mappend\u001b[0m\u001b[0;34m(\u001b[0m\u001b[0maccu\u001b[0m\u001b[0;34m)\u001b[0m\u001b[0;34m\u001b[0m\u001b[0;34m\u001b[0m\u001b[0m\n",
      "\u001b[0;32m/opt/anaconda3/lib/python3.7/site-packages/fastai/train.py\u001b[0m in \u001b[0;36mfit_one_cycle\u001b[0;34m(learn, cyc_len, max_lr, moms, div_factor, pct_start, final_div, wd, callbacks, tot_epochs, start_epoch)\u001b[0m\n\u001b[1;32m     21\u001b[0m     callbacks.append(OneCycleScheduler(learn, max_lr, moms=moms, div_factor=div_factor, pct_start=pct_start,\n\u001b[1;32m     22\u001b[0m                                        final_div=final_div, tot_epochs=tot_epochs, start_epoch=start_epoch))\n\u001b[0;32m---> 23\u001b[0;31m     \u001b[0mlearn\u001b[0m\u001b[0;34m.\u001b[0m\u001b[0mfit\u001b[0m\u001b[0;34m(\u001b[0m\u001b[0mcyc_len\u001b[0m\u001b[0;34m,\u001b[0m \u001b[0mmax_lr\u001b[0m\u001b[0;34m,\u001b[0m \u001b[0mwd\u001b[0m\u001b[0;34m=\u001b[0m\u001b[0mwd\u001b[0m\u001b[0;34m,\u001b[0m \u001b[0mcallbacks\u001b[0m\u001b[0;34m=\u001b[0m\u001b[0mcallbacks\u001b[0m\u001b[0;34m)\u001b[0m\u001b[0;34m\u001b[0m\u001b[0;34m\u001b[0m\u001b[0m\n\u001b[0m\u001b[1;32m     24\u001b[0m \u001b[0;34m\u001b[0m\u001b[0m\n\u001b[1;32m     25\u001b[0m def fit_fc(learn:Learner, tot_epochs:int=1, lr:float=defaults.lr,  moms:Tuple[float,float]=(0.95,0.85), start_pct:float=0.72,\n",
      "\u001b[0;32m/opt/anaconda3/lib/python3.7/site-packages/fastai/basic_train.py\u001b[0m in \u001b[0;36mfit\u001b[0;34m(self, epochs, lr, wd, callbacks)\u001b[0m\n\u001b[1;32m    198\u001b[0m         \u001b[0;32melse\u001b[0m\u001b[0;34m:\u001b[0m \u001b[0mself\u001b[0m\u001b[0;34m.\u001b[0m\u001b[0mopt\u001b[0m\u001b[0;34m.\u001b[0m\u001b[0mlr\u001b[0m\u001b[0;34m,\u001b[0m\u001b[0mself\u001b[0m\u001b[0;34m.\u001b[0m\u001b[0mopt\u001b[0m\u001b[0;34m.\u001b[0m\u001b[0mwd\u001b[0m \u001b[0;34m=\u001b[0m \u001b[0mlr\u001b[0m\u001b[0;34m,\u001b[0m\u001b[0mwd\u001b[0m\u001b[0;34m\u001b[0m\u001b[0;34m\u001b[0m\u001b[0m\n\u001b[1;32m    199\u001b[0m         \u001b[0mcallbacks\u001b[0m \u001b[0;34m=\u001b[0m \u001b[0;34m[\u001b[0m\u001b[0mcb\u001b[0m\u001b[0;34m(\u001b[0m\u001b[0mself\u001b[0m\u001b[0;34m)\u001b[0m \u001b[0;32mfor\u001b[0m \u001b[0mcb\u001b[0m \u001b[0;32min\u001b[0m \u001b[0mself\u001b[0m\u001b[0;34m.\u001b[0m\u001b[0mcallback_fns\u001b[0m \u001b[0;34m+\u001b[0m \u001b[0mlistify\u001b[0m\u001b[0;34m(\u001b[0m\u001b[0mdefaults\u001b[0m\u001b[0;34m.\u001b[0m\u001b[0mextra_callback_fns\u001b[0m\u001b[0;34m)\u001b[0m\u001b[0;34m]\u001b[0m \u001b[0;34m+\u001b[0m \u001b[0mlistify\u001b[0m\u001b[0;34m(\u001b[0m\u001b[0mcallbacks\u001b[0m\u001b[0;34m)\u001b[0m\u001b[0;34m\u001b[0m\u001b[0;34m\u001b[0m\u001b[0m\n\u001b[0;32m--> 200\u001b[0;31m         \u001b[0mfit\u001b[0m\u001b[0;34m(\u001b[0m\u001b[0mepochs\u001b[0m\u001b[0;34m,\u001b[0m \u001b[0mself\u001b[0m\u001b[0;34m,\u001b[0m \u001b[0mmetrics\u001b[0m\u001b[0;34m=\u001b[0m\u001b[0mself\u001b[0m\u001b[0;34m.\u001b[0m\u001b[0mmetrics\u001b[0m\u001b[0;34m,\u001b[0m \u001b[0mcallbacks\u001b[0m\u001b[0;34m=\u001b[0m\u001b[0mself\u001b[0m\u001b[0;34m.\u001b[0m\u001b[0mcallbacks\u001b[0m\u001b[0;34m+\u001b[0m\u001b[0mcallbacks\u001b[0m\u001b[0;34m)\u001b[0m\u001b[0;34m\u001b[0m\u001b[0;34m\u001b[0m\u001b[0m\n\u001b[0m\u001b[1;32m    201\u001b[0m \u001b[0;34m\u001b[0m\u001b[0m\n\u001b[1;32m    202\u001b[0m     \u001b[0;32mdef\u001b[0m \u001b[0mcreate_opt\u001b[0m\u001b[0;34m(\u001b[0m\u001b[0mself\u001b[0m\u001b[0;34m,\u001b[0m \u001b[0mlr\u001b[0m\u001b[0;34m:\u001b[0m\u001b[0mFloats\u001b[0m\u001b[0;34m,\u001b[0m \u001b[0mwd\u001b[0m\u001b[0;34m:\u001b[0m\u001b[0mFloats\u001b[0m\u001b[0;34m=\u001b[0m\u001b[0;36m0.\u001b[0m\u001b[0;34m)\u001b[0m\u001b[0;34m->\u001b[0m\u001b[0;32mNone\u001b[0m\u001b[0;34m:\u001b[0m\u001b[0;34m\u001b[0m\u001b[0;34m\u001b[0m\u001b[0m\n",
      "\u001b[0;32m/opt/anaconda3/lib/python3.7/site-packages/fastai/basic_train.py\u001b[0m in \u001b[0;36mfit\u001b[0;34m(epochs, learn, callbacks, metrics)\u001b[0m\n\u001b[1;32m     99\u001b[0m             \u001b[0;32mfor\u001b[0m \u001b[0mxb\u001b[0m\u001b[0;34m,\u001b[0m\u001b[0myb\u001b[0m \u001b[0;32min\u001b[0m \u001b[0mprogress_bar\u001b[0m\u001b[0;34m(\u001b[0m\u001b[0mlearn\u001b[0m\u001b[0;34m.\u001b[0m\u001b[0mdata\u001b[0m\u001b[0;34m.\u001b[0m\u001b[0mtrain_dl\u001b[0m\u001b[0;34m,\u001b[0m \u001b[0mparent\u001b[0m\u001b[0;34m=\u001b[0m\u001b[0mpbar\u001b[0m\u001b[0;34m)\u001b[0m\u001b[0;34m:\u001b[0m\u001b[0;34m\u001b[0m\u001b[0;34m\u001b[0m\u001b[0m\n\u001b[1;32m    100\u001b[0m                 \u001b[0mxb\u001b[0m\u001b[0;34m,\u001b[0m \u001b[0myb\u001b[0m \u001b[0;34m=\u001b[0m \u001b[0mcb_handler\u001b[0m\u001b[0;34m.\u001b[0m\u001b[0mon_batch_begin\u001b[0m\u001b[0;34m(\u001b[0m\u001b[0mxb\u001b[0m\u001b[0;34m,\u001b[0m \u001b[0myb\u001b[0m\u001b[0;34m)\u001b[0m\u001b[0;34m\u001b[0m\u001b[0;34m\u001b[0m\u001b[0m\n\u001b[0;32m--> 101\u001b[0;31m                 \u001b[0mloss\u001b[0m \u001b[0;34m=\u001b[0m \u001b[0mloss_batch\u001b[0m\u001b[0;34m(\u001b[0m\u001b[0mlearn\u001b[0m\u001b[0;34m.\u001b[0m\u001b[0mmodel\u001b[0m\u001b[0;34m,\u001b[0m \u001b[0mxb\u001b[0m\u001b[0;34m,\u001b[0m \u001b[0myb\u001b[0m\u001b[0;34m,\u001b[0m \u001b[0mlearn\u001b[0m\u001b[0;34m.\u001b[0m\u001b[0mloss_func\u001b[0m\u001b[0;34m,\u001b[0m \u001b[0mlearn\u001b[0m\u001b[0;34m.\u001b[0m\u001b[0mopt\u001b[0m\u001b[0;34m,\u001b[0m \u001b[0mcb_handler\u001b[0m\u001b[0;34m)\u001b[0m\u001b[0;34m\u001b[0m\u001b[0;34m\u001b[0m\u001b[0m\n\u001b[0m\u001b[1;32m    102\u001b[0m                 \u001b[0;32mif\u001b[0m \u001b[0mcb_handler\u001b[0m\u001b[0;34m.\u001b[0m\u001b[0mon_batch_end\u001b[0m\u001b[0;34m(\u001b[0m\u001b[0mloss\u001b[0m\u001b[0;34m)\u001b[0m\u001b[0;34m:\u001b[0m \u001b[0;32mbreak\u001b[0m\u001b[0;34m\u001b[0m\u001b[0;34m\u001b[0m\u001b[0m\n\u001b[1;32m    103\u001b[0m \u001b[0;34m\u001b[0m\u001b[0m\n",
      "\u001b[0;32m<ipython-input-45-1396199faf5f>\u001b[0m in \u001b[0;36mloss_batch_bert\u001b[0;34m(model, xb, yb, loss_func, opt, cb_handler)\u001b[0m\n\u001b[1;32m     63\u001b[0m     \u001b[0;32mif\u001b[0m \u001b[0;32mnot\u001b[0m \u001b[0mis_listy\u001b[0m\u001b[0;34m(\u001b[0m\u001b[0myb\u001b[0m\u001b[0;34m)\u001b[0m\u001b[0;34m:\u001b[0m\u001b[0;34m\u001b[0m\u001b[0;34m\u001b[0m\u001b[0m\n\u001b[1;32m     64\u001b[0m         \u001b[0myb\u001b[0m \u001b[0;34m=\u001b[0m \u001b[0;34m[\u001b[0m\u001b[0myb\u001b[0m\u001b[0;34m]\u001b[0m\u001b[0;34m\u001b[0m\u001b[0;34m\u001b[0m\u001b[0m\n\u001b[0;32m---> 65\u001b[0;31m     \u001b[0mout\u001b[0m \u001b[0;34m=\u001b[0m \u001b[0mmodel\u001b[0m\u001b[0;34m(\u001b[0m\u001b[0;34m*\u001b[0m\u001b[0mxb\u001b[0m\u001b[0;34m)\u001b[0m\u001b[0;34m\u001b[0m\u001b[0;34m\u001b[0m\u001b[0m\n\u001b[0m\u001b[1;32m     66\u001b[0m     \u001b[0;31m# pdb.set_trace()\u001b[0m\u001b[0;34m\u001b[0m\u001b[0;34m\u001b[0m\u001b[0;34m\u001b[0m\u001b[0m\n\u001b[1;32m     67\u001b[0m     \u001b[0mout\u001b[0m \u001b[0;34m=\u001b[0m \u001b[0mout\u001b[0m\u001b[0;34m[\u001b[0m\u001b[0;36m0\u001b[0m\u001b[0;34m]\u001b[0m\u001b[0;34m\u001b[0m\u001b[0;34m\u001b[0m\u001b[0m\n",
      "\u001b[0;32m/opt/anaconda3/lib/python3.7/site-packages/torch/nn/modules/module.py\u001b[0m in \u001b[0;36m__call__\u001b[0;34m(self, *input, **kwargs)\u001b[0m\n\u001b[1;32m    539\u001b[0m             \u001b[0mresult\u001b[0m \u001b[0;34m=\u001b[0m \u001b[0mself\u001b[0m\u001b[0;34m.\u001b[0m\u001b[0m_slow_forward\u001b[0m\u001b[0;34m(\u001b[0m\u001b[0;34m*\u001b[0m\u001b[0minput\u001b[0m\u001b[0;34m,\u001b[0m \u001b[0;34m**\u001b[0m\u001b[0mkwargs\u001b[0m\u001b[0;34m)\u001b[0m\u001b[0;34m\u001b[0m\u001b[0;34m\u001b[0m\u001b[0m\n\u001b[1;32m    540\u001b[0m         \u001b[0;32melse\u001b[0m\u001b[0;34m:\u001b[0m\u001b[0;34m\u001b[0m\u001b[0;34m\u001b[0m\u001b[0m\n\u001b[0;32m--> 541\u001b[0;31m             \u001b[0mresult\u001b[0m \u001b[0;34m=\u001b[0m \u001b[0mself\u001b[0m\u001b[0;34m.\u001b[0m\u001b[0mforward\u001b[0m\u001b[0;34m(\u001b[0m\u001b[0;34m*\u001b[0m\u001b[0minput\u001b[0m\u001b[0;34m,\u001b[0m \u001b[0;34m**\u001b[0m\u001b[0mkwargs\u001b[0m\u001b[0;34m)\u001b[0m\u001b[0;34m\u001b[0m\u001b[0;34m\u001b[0m\u001b[0m\n\u001b[0m\u001b[1;32m    542\u001b[0m         \u001b[0;32mfor\u001b[0m \u001b[0mhook\u001b[0m \u001b[0;32min\u001b[0m \u001b[0mself\u001b[0m\u001b[0;34m.\u001b[0m\u001b[0m_forward_hooks\u001b[0m\u001b[0;34m.\u001b[0m\u001b[0mvalues\u001b[0m\u001b[0;34m(\u001b[0m\u001b[0;34m)\u001b[0m\u001b[0;34m:\u001b[0m\u001b[0;34m\u001b[0m\u001b[0;34m\u001b[0m\u001b[0m\n\u001b[1;32m    543\u001b[0m             \u001b[0mhook_result\u001b[0m \u001b[0;34m=\u001b[0m \u001b[0mhook\u001b[0m\u001b[0;34m(\u001b[0m\u001b[0mself\u001b[0m\u001b[0;34m,\u001b[0m \u001b[0minput\u001b[0m\u001b[0;34m,\u001b[0m \u001b[0mresult\u001b[0m\u001b[0;34m)\u001b[0m\u001b[0;34m\u001b[0m\u001b[0;34m\u001b[0m\u001b[0m\n",
      "\u001b[0;32m/opt/anaconda3/lib/python3.7/site-packages/pytorch_transformers/modeling_bert.py\u001b[0m in \u001b[0;36mforward\u001b[0;34m(self, input_ids, token_type_ids, attention_mask, labels, position_ids, head_mask)\u001b[0m\n\u001b[1;32m    961\u001b[0m                 position_ids=None, head_mask=None):\n\u001b[1;32m    962\u001b[0m         outputs = self.bert(input_ids, position_ids=position_ids, token_type_ids=token_type_ids,\n\u001b[0;32m--> 963\u001b[0;31m                             attention_mask=attention_mask, head_mask=head_mask)\n\u001b[0m\u001b[1;32m    964\u001b[0m         \u001b[0mpooled_output\u001b[0m \u001b[0;34m=\u001b[0m \u001b[0moutputs\u001b[0m\u001b[0;34m[\u001b[0m\u001b[0;36m1\u001b[0m\u001b[0;34m]\u001b[0m\u001b[0;34m\u001b[0m\u001b[0;34m\u001b[0m\u001b[0m\n\u001b[1;32m    965\u001b[0m \u001b[0;34m\u001b[0m\u001b[0m\n",
      "\u001b[0;32m/opt/anaconda3/lib/python3.7/site-packages/torch/nn/modules/module.py\u001b[0m in \u001b[0;36m__call__\u001b[0;34m(self, *input, **kwargs)\u001b[0m\n\u001b[1;32m    539\u001b[0m             \u001b[0mresult\u001b[0m \u001b[0;34m=\u001b[0m \u001b[0mself\u001b[0m\u001b[0;34m.\u001b[0m\u001b[0m_slow_forward\u001b[0m\u001b[0;34m(\u001b[0m\u001b[0;34m*\u001b[0m\u001b[0minput\u001b[0m\u001b[0;34m,\u001b[0m \u001b[0;34m**\u001b[0m\u001b[0mkwargs\u001b[0m\u001b[0;34m)\u001b[0m\u001b[0;34m\u001b[0m\u001b[0;34m\u001b[0m\u001b[0m\n\u001b[1;32m    540\u001b[0m         \u001b[0;32melse\u001b[0m\u001b[0;34m:\u001b[0m\u001b[0;34m\u001b[0m\u001b[0;34m\u001b[0m\u001b[0m\n\u001b[0;32m--> 541\u001b[0;31m             \u001b[0mresult\u001b[0m \u001b[0;34m=\u001b[0m \u001b[0mself\u001b[0m\u001b[0;34m.\u001b[0m\u001b[0mforward\u001b[0m\u001b[0;34m(\u001b[0m\u001b[0;34m*\u001b[0m\u001b[0minput\u001b[0m\u001b[0;34m,\u001b[0m \u001b[0;34m**\u001b[0m\u001b[0mkwargs\u001b[0m\u001b[0;34m)\u001b[0m\u001b[0;34m\u001b[0m\u001b[0;34m\u001b[0m\u001b[0m\n\u001b[0m\u001b[1;32m    542\u001b[0m         \u001b[0;32mfor\u001b[0m \u001b[0mhook\u001b[0m \u001b[0;32min\u001b[0m \u001b[0mself\u001b[0m\u001b[0;34m.\u001b[0m\u001b[0m_forward_hooks\u001b[0m\u001b[0;34m.\u001b[0m\u001b[0mvalues\u001b[0m\u001b[0;34m(\u001b[0m\u001b[0;34m)\u001b[0m\u001b[0;34m:\u001b[0m\u001b[0;34m\u001b[0m\u001b[0;34m\u001b[0m\u001b[0m\n\u001b[1;32m    543\u001b[0m             \u001b[0mhook_result\u001b[0m \u001b[0;34m=\u001b[0m \u001b[0mhook\u001b[0m\u001b[0;34m(\u001b[0m\u001b[0mself\u001b[0m\u001b[0;34m,\u001b[0m \u001b[0minput\u001b[0m\u001b[0;34m,\u001b[0m \u001b[0mresult\u001b[0m\u001b[0;34m)\u001b[0m\u001b[0;34m\u001b[0m\u001b[0;34m\u001b[0m\u001b[0m\n",
      "\u001b[0;32m/opt/anaconda3/lib/python3.7/site-packages/pytorch_transformers/modeling_bert.py\u001b[0m in \u001b[0;36mforward\u001b[0;34m(self, input_ids, token_type_ids, attention_mask, position_ids, head_mask)\u001b[0m\n\u001b[1;32m    708\u001b[0m         encoder_outputs = self.encoder(embedding_output,\n\u001b[1;32m    709\u001b[0m                                        \u001b[0mextended_attention_mask\u001b[0m\u001b[0;34m,\u001b[0m\u001b[0;34m\u001b[0m\u001b[0;34m\u001b[0m\u001b[0m\n\u001b[0;32m--> 710\u001b[0;31m                                        head_mask=head_mask)\n\u001b[0m\u001b[1;32m    711\u001b[0m         \u001b[0msequence_output\u001b[0m \u001b[0;34m=\u001b[0m \u001b[0mencoder_outputs\u001b[0m\u001b[0;34m[\u001b[0m\u001b[0;36m0\u001b[0m\u001b[0;34m]\u001b[0m\u001b[0;34m\u001b[0m\u001b[0;34m\u001b[0m\u001b[0m\n\u001b[1;32m    712\u001b[0m         \u001b[0mpooled_output\u001b[0m \u001b[0;34m=\u001b[0m \u001b[0mself\u001b[0m\u001b[0;34m.\u001b[0m\u001b[0mpooler\u001b[0m\u001b[0;34m(\u001b[0m\u001b[0msequence_output\u001b[0m\u001b[0;34m)\u001b[0m\u001b[0;34m\u001b[0m\u001b[0;34m\u001b[0m\u001b[0m\n",
      "\u001b[0;32m/opt/anaconda3/lib/python3.7/site-packages/torch/nn/modules/module.py\u001b[0m in \u001b[0;36m__call__\u001b[0;34m(self, *input, **kwargs)\u001b[0m\n\u001b[1;32m    539\u001b[0m             \u001b[0mresult\u001b[0m \u001b[0;34m=\u001b[0m \u001b[0mself\u001b[0m\u001b[0;34m.\u001b[0m\u001b[0m_slow_forward\u001b[0m\u001b[0;34m(\u001b[0m\u001b[0;34m*\u001b[0m\u001b[0minput\u001b[0m\u001b[0;34m,\u001b[0m \u001b[0;34m**\u001b[0m\u001b[0mkwargs\u001b[0m\u001b[0;34m)\u001b[0m\u001b[0;34m\u001b[0m\u001b[0;34m\u001b[0m\u001b[0m\n\u001b[1;32m    540\u001b[0m         \u001b[0;32melse\u001b[0m\u001b[0;34m:\u001b[0m\u001b[0;34m\u001b[0m\u001b[0;34m\u001b[0m\u001b[0m\n\u001b[0;32m--> 541\u001b[0;31m             \u001b[0mresult\u001b[0m \u001b[0;34m=\u001b[0m \u001b[0mself\u001b[0m\u001b[0;34m.\u001b[0m\u001b[0mforward\u001b[0m\u001b[0;34m(\u001b[0m\u001b[0;34m*\u001b[0m\u001b[0minput\u001b[0m\u001b[0;34m,\u001b[0m \u001b[0;34m**\u001b[0m\u001b[0mkwargs\u001b[0m\u001b[0;34m)\u001b[0m\u001b[0;34m\u001b[0m\u001b[0;34m\u001b[0m\u001b[0m\n\u001b[0m\u001b[1;32m    542\u001b[0m         \u001b[0;32mfor\u001b[0m \u001b[0mhook\u001b[0m \u001b[0;32min\u001b[0m \u001b[0mself\u001b[0m\u001b[0;34m.\u001b[0m\u001b[0m_forward_hooks\u001b[0m\u001b[0;34m.\u001b[0m\u001b[0mvalues\u001b[0m\u001b[0;34m(\u001b[0m\u001b[0;34m)\u001b[0m\u001b[0;34m:\u001b[0m\u001b[0;34m\u001b[0m\u001b[0;34m\u001b[0m\u001b[0m\n\u001b[1;32m    543\u001b[0m             \u001b[0mhook_result\u001b[0m \u001b[0;34m=\u001b[0m \u001b[0mhook\u001b[0m\u001b[0;34m(\u001b[0m\u001b[0mself\u001b[0m\u001b[0;34m,\u001b[0m \u001b[0minput\u001b[0m\u001b[0;34m,\u001b[0m \u001b[0mresult\u001b[0m\u001b[0;34m)\u001b[0m\u001b[0;34m\u001b[0m\u001b[0;34m\u001b[0m\u001b[0m\n",
      "\u001b[0;32m/opt/anaconda3/lib/python3.7/site-packages/pytorch_transformers/modeling_bert.py\u001b[0m in \u001b[0;36mforward\u001b[0;34m(self, hidden_states, attention_mask, head_mask)\u001b[0m\n\u001b[1;32m    429\u001b[0m                 \u001b[0mall_hidden_states\u001b[0m \u001b[0;34m=\u001b[0m \u001b[0mall_hidden_states\u001b[0m \u001b[0;34m+\u001b[0m \u001b[0;34m(\u001b[0m\u001b[0mhidden_states\u001b[0m\u001b[0;34m,\u001b[0m\u001b[0;34m)\u001b[0m\u001b[0;34m\u001b[0m\u001b[0;34m\u001b[0m\u001b[0m\n\u001b[1;32m    430\u001b[0m \u001b[0;34m\u001b[0m\u001b[0m\n\u001b[0;32m--> 431\u001b[0;31m             \u001b[0mlayer_outputs\u001b[0m \u001b[0;34m=\u001b[0m \u001b[0mlayer_module\u001b[0m\u001b[0;34m(\u001b[0m\u001b[0mhidden_states\u001b[0m\u001b[0;34m,\u001b[0m \u001b[0mattention_mask\u001b[0m\u001b[0;34m,\u001b[0m \u001b[0mhead_mask\u001b[0m\u001b[0;34m[\u001b[0m\u001b[0mi\u001b[0m\u001b[0;34m]\u001b[0m\u001b[0;34m)\u001b[0m\u001b[0;34m\u001b[0m\u001b[0;34m\u001b[0m\u001b[0m\n\u001b[0m\u001b[1;32m    432\u001b[0m             \u001b[0mhidden_states\u001b[0m \u001b[0;34m=\u001b[0m \u001b[0mlayer_outputs\u001b[0m\u001b[0;34m[\u001b[0m\u001b[0;36m0\u001b[0m\u001b[0;34m]\u001b[0m\u001b[0;34m\u001b[0m\u001b[0;34m\u001b[0m\u001b[0m\n\u001b[1;32m    433\u001b[0m \u001b[0;34m\u001b[0m\u001b[0m\n",
      "\u001b[0;32m/opt/anaconda3/lib/python3.7/site-packages/torch/nn/modules/module.py\u001b[0m in \u001b[0;36m__call__\u001b[0;34m(self, *input, **kwargs)\u001b[0m\n\u001b[1;32m    539\u001b[0m             \u001b[0mresult\u001b[0m \u001b[0;34m=\u001b[0m \u001b[0mself\u001b[0m\u001b[0;34m.\u001b[0m\u001b[0m_slow_forward\u001b[0m\u001b[0;34m(\u001b[0m\u001b[0;34m*\u001b[0m\u001b[0minput\u001b[0m\u001b[0;34m,\u001b[0m \u001b[0;34m**\u001b[0m\u001b[0mkwargs\u001b[0m\u001b[0;34m)\u001b[0m\u001b[0;34m\u001b[0m\u001b[0;34m\u001b[0m\u001b[0m\n\u001b[1;32m    540\u001b[0m         \u001b[0;32melse\u001b[0m\u001b[0;34m:\u001b[0m\u001b[0;34m\u001b[0m\u001b[0;34m\u001b[0m\u001b[0m\n\u001b[0;32m--> 541\u001b[0;31m             \u001b[0mresult\u001b[0m \u001b[0;34m=\u001b[0m \u001b[0mself\u001b[0m\u001b[0;34m.\u001b[0m\u001b[0mforward\u001b[0m\u001b[0;34m(\u001b[0m\u001b[0;34m*\u001b[0m\u001b[0minput\u001b[0m\u001b[0;34m,\u001b[0m \u001b[0;34m**\u001b[0m\u001b[0mkwargs\u001b[0m\u001b[0;34m)\u001b[0m\u001b[0;34m\u001b[0m\u001b[0;34m\u001b[0m\u001b[0m\n\u001b[0m\u001b[1;32m    542\u001b[0m         \u001b[0;32mfor\u001b[0m \u001b[0mhook\u001b[0m \u001b[0;32min\u001b[0m \u001b[0mself\u001b[0m\u001b[0;34m.\u001b[0m\u001b[0m_forward_hooks\u001b[0m\u001b[0;34m.\u001b[0m\u001b[0mvalues\u001b[0m\u001b[0;34m(\u001b[0m\u001b[0;34m)\u001b[0m\u001b[0;34m:\u001b[0m\u001b[0;34m\u001b[0m\u001b[0;34m\u001b[0m\u001b[0m\n\u001b[1;32m    543\u001b[0m             \u001b[0mhook_result\u001b[0m \u001b[0;34m=\u001b[0m \u001b[0mhook\u001b[0m\u001b[0;34m(\u001b[0m\u001b[0mself\u001b[0m\u001b[0;34m,\u001b[0m \u001b[0minput\u001b[0m\u001b[0;34m,\u001b[0m \u001b[0mresult\u001b[0m\u001b[0;34m)\u001b[0m\u001b[0;34m\u001b[0m\u001b[0;34m\u001b[0m\u001b[0m\n",
      "\u001b[0;32m/opt/anaconda3/lib/python3.7/site-packages/pytorch_transformers/modeling_bert.py\u001b[0m in \u001b[0;36mforward\u001b[0;34m(self, hidden_states, attention_mask, head_mask)\u001b[0m\n\u001b[1;32m    409\u001b[0m         \u001b[0mattention_outputs\u001b[0m \u001b[0;34m=\u001b[0m \u001b[0mself\u001b[0m\u001b[0;34m.\u001b[0m\u001b[0mattention\u001b[0m\u001b[0;34m(\u001b[0m\u001b[0mhidden_states\u001b[0m\u001b[0;34m,\u001b[0m \u001b[0mattention_mask\u001b[0m\u001b[0;34m,\u001b[0m \u001b[0mhead_mask\u001b[0m\u001b[0;34m)\u001b[0m\u001b[0;34m\u001b[0m\u001b[0;34m\u001b[0m\u001b[0m\n\u001b[1;32m    410\u001b[0m         \u001b[0mattention_output\u001b[0m \u001b[0;34m=\u001b[0m \u001b[0mattention_outputs\u001b[0m\u001b[0;34m[\u001b[0m\u001b[0;36m0\u001b[0m\u001b[0;34m]\u001b[0m\u001b[0;34m\u001b[0m\u001b[0;34m\u001b[0m\u001b[0m\n\u001b[0;32m--> 411\u001b[0;31m         \u001b[0mintermediate_output\u001b[0m \u001b[0;34m=\u001b[0m \u001b[0mself\u001b[0m\u001b[0;34m.\u001b[0m\u001b[0mintermediate\u001b[0m\u001b[0;34m(\u001b[0m\u001b[0mattention_output\u001b[0m\u001b[0;34m)\u001b[0m\u001b[0;34m\u001b[0m\u001b[0;34m\u001b[0m\u001b[0m\n\u001b[0m\u001b[1;32m    412\u001b[0m         \u001b[0mlayer_output\u001b[0m \u001b[0;34m=\u001b[0m \u001b[0mself\u001b[0m\u001b[0;34m.\u001b[0m\u001b[0moutput\u001b[0m\u001b[0;34m(\u001b[0m\u001b[0mintermediate_output\u001b[0m\u001b[0;34m,\u001b[0m \u001b[0mattention_output\u001b[0m\u001b[0;34m)\u001b[0m\u001b[0;34m\u001b[0m\u001b[0;34m\u001b[0m\u001b[0m\n\u001b[1;32m    413\u001b[0m         \u001b[0moutputs\u001b[0m \u001b[0;34m=\u001b[0m \u001b[0;34m(\u001b[0m\u001b[0mlayer_output\u001b[0m\u001b[0;34m,\u001b[0m\u001b[0;34m)\u001b[0m \u001b[0;34m+\u001b[0m \u001b[0mattention_outputs\u001b[0m\u001b[0;34m[\u001b[0m\u001b[0;36m1\u001b[0m\u001b[0;34m:\u001b[0m\u001b[0;34m]\u001b[0m  \u001b[0;31m# add attentions if we output them\u001b[0m\u001b[0;34m\u001b[0m\u001b[0;34m\u001b[0m\u001b[0m\n",
      "\u001b[0;32m/opt/anaconda3/lib/python3.7/site-packages/torch/nn/modules/module.py\u001b[0m in \u001b[0;36m__call__\u001b[0;34m(self, *input, **kwargs)\u001b[0m\n\u001b[1;32m    539\u001b[0m             \u001b[0mresult\u001b[0m \u001b[0;34m=\u001b[0m \u001b[0mself\u001b[0m\u001b[0;34m.\u001b[0m\u001b[0m_slow_forward\u001b[0m\u001b[0;34m(\u001b[0m\u001b[0;34m*\u001b[0m\u001b[0minput\u001b[0m\u001b[0;34m,\u001b[0m \u001b[0;34m**\u001b[0m\u001b[0mkwargs\u001b[0m\u001b[0;34m)\u001b[0m\u001b[0;34m\u001b[0m\u001b[0;34m\u001b[0m\u001b[0m\n\u001b[1;32m    540\u001b[0m         \u001b[0;32melse\u001b[0m\u001b[0;34m:\u001b[0m\u001b[0;34m\u001b[0m\u001b[0;34m\u001b[0m\u001b[0m\n\u001b[0;32m--> 541\u001b[0;31m             \u001b[0mresult\u001b[0m \u001b[0;34m=\u001b[0m \u001b[0mself\u001b[0m\u001b[0;34m.\u001b[0m\u001b[0mforward\u001b[0m\u001b[0;34m(\u001b[0m\u001b[0;34m*\u001b[0m\u001b[0minput\u001b[0m\u001b[0;34m,\u001b[0m \u001b[0;34m**\u001b[0m\u001b[0mkwargs\u001b[0m\u001b[0;34m)\u001b[0m\u001b[0;34m\u001b[0m\u001b[0;34m\u001b[0m\u001b[0m\n\u001b[0m\u001b[1;32m    542\u001b[0m         \u001b[0;32mfor\u001b[0m \u001b[0mhook\u001b[0m \u001b[0;32min\u001b[0m \u001b[0mself\u001b[0m\u001b[0;34m.\u001b[0m\u001b[0m_forward_hooks\u001b[0m\u001b[0;34m.\u001b[0m\u001b[0mvalues\u001b[0m\u001b[0;34m(\u001b[0m\u001b[0;34m)\u001b[0m\u001b[0;34m:\u001b[0m\u001b[0;34m\u001b[0m\u001b[0;34m\u001b[0m\u001b[0m\n\u001b[1;32m    543\u001b[0m             \u001b[0mhook_result\u001b[0m \u001b[0;34m=\u001b[0m \u001b[0mhook\u001b[0m\u001b[0;34m(\u001b[0m\u001b[0mself\u001b[0m\u001b[0;34m,\u001b[0m \u001b[0minput\u001b[0m\u001b[0;34m,\u001b[0m \u001b[0mresult\u001b[0m\u001b[0;34m)\u001b[0m\u001b[0;34m\u001b[0m\u001b[0;34m\u001b[0m\u001b[0m\n",
      "\u001b[0;32m/opt/anaconda3/lib/python3.7/site-packages/pytorch_transformers/modeling_bert.py\u001b[0m in \u001b[0;36mforward\u001b[0;34m(self, hidden_states)\u001b[0m\n\u001b[1;32m    381\u001b[0m     \u001b[0;32mdef\u001b[0m \u001b[0mforward\u001b[0m\u001b[0;34m(\u001b[0m\u001b[0mself\u001b[0m\u001b[0;34m,\u001b[0m \u001b[0mhidden_states\u001b[0m\u001b[0;34m)\u001b[0m\u001b[0;34m:\u001b[0m\u001b[0;34m\u001b[0m\u001b[0;34m\u001b[0m\u001b[0m\n\u001b[1;32m    382\u001b[0m         \u001b[0mhidden_states\u001b[0m \u001b[0;34m=\u001b[0m \u001b[0mself\u001b[0m\u001b[0;34m.\u001b[0m\u001b[0mdense\u001b[0m\u001b[0;34m(\u001b[0m\u001b[0mhidden_states\u001b[0m\u001b[0;34m)\u001b[0m\u001b[0;34m\u001b[0m\u001b[0;34m\u001b[0m\u001b[0m\n\u001b[0;32m--> 383\u001b[0;31m         \u001b[0mhidden_states\u001b[0m \u001b[0;34m=\u001b[0m \u001b[0mself\u001b[0m\u001b[0;34m.\u001b[0m\u001b[0mintermediate_act_fn\u001b[0m\u001b[0;34m(\u001b[0m\u001b[0mhidden_states\u001b[0m\u001b[0;34m)\u001b[0m\u001b[0;34m\u001b[0m\u001b[0;34m\u001b[0m\u001b[0m\n\u001b[0m\u001b[1;32m    384\u001b[0m         \u001b[0;32mreturn\u001b[0m \u001b[0mhidden_states\u001b[0m\u001b[0;34m\u001b[0m\u001b[0;34m\u001b[0m\u001b[0m\n\u001b[1;32m    385\u001b[0m \u001b[0;34m\u001b[0m\u001b[0m\n",
      "\u001b[0;32m/opt/anaconda3/lib/python3.7/site-packages/pytorch_transformers/modeling_bert.py\u001b[0m in \u001b[0;36mgelu\u001b[0;34m(x)\u001b[0m\n\u001b[1;32m    140\u001b[0m         \u001b[0mAlso\u001b[0m \u001b[0msee\u001b[0m \u001b[0mhttps\u001b[0m\u001b[0;34m:\u001b[0m\u001b[0;34m//\u001b[0m\u001b[0marxiv\u001b[0m\u001b[0;34m.\u001b[0m\u001b[0morg\u001b[0m\u001b[0;34m/\u001b[0m\u001b[0mabs\u001b[0m\u001b[0;34m/\u001b[0m\u001b[0;36m1606.08415\u001b[0m\u001b[0;34m\u001b[0m\u001b[0;34m\u001b[0m\u001b[0m\n\u001b[1;32m    141\u001b[0m     \"\"\"\n\u001b[0;32m--> 142\u001b[0;31m     \u001b[0;32mreturn\u001b[0m \u001b[0mx\u001b[0m \u001b[0;34m*\u001b[0m \u001b[0;36m0.5\u001b[0m \u001b[0;34m*\u001b[0m \u001b[0;34m(\u001b[0m\u001b[0;36m1.0\u001b[0m \u001b[0;34m+\u001b[0m \u001b[0mtorch\u001b[0m\u001b[0;34m.\u001b[0m\u001b[0merf\u001b[0m\u001b[0;34m(\u001b[0m\u001b[0mx\u001b[0m \u001b[0;34m/\u001b[0m \u001b[0mmath\u001b[0m\u001b[0;34m.\u001b[0m\u001b[0msqrt\u001b[0m\u001b[0;34m(\u001b[0m\u001b[0;36m2.0\u001b[0m\u001b[0;34m)\u001b[0m\u001b[0;34m)\u001b[0m\u001b[0;34m)\u001b[0m\u001b[0;34m\u001b[0m\u001b[0;34m\u001b[0m\u001b[0m\n\u001b[0m\u001b[1;32m    143\u001b[0m \u001b[0;34m\u001b[0m\u001b[0m\n\u001b[1;32m    144\u001b[0m \u001b[0;34m\u001b[0m\u001b[0m\n",
      "\u001b[0;31mRuntimeError\u001b[0m: CUDA out of memory. Tried to allocate 96.00 MiB (GPU 0; 11.17 GiB total capacity; 10.75 GiB already allocated; 28.81 MiB free; 107.72 MiB cached)"
     ]
    }
   ],
   "source": [
    "label_cols = ['class']\n",
    "accus = []\n",
    "\n",
    "# use StratifiedKFold to CV 5 folds \n",
    "for train_idx, val_idx in StratifiedKFold(n_splits=5,  shuffle=True).split(df, df['class']):\n",
    "    train = df.iloc[train_idx, :]\n",
    "    val = df.iloc[val_idx, :]\n",
    "    bert_model = BertForSequenceClassification.from_pretrained(config.bert_model_name, num_labels= 5 )\n",
    "    \n",
    "    databunch = TextDataBunch.from_df(AMAZON, train, val,\n",
    "                      tokenizer=fastai_tokenizer,\n",
    "                      vocab=fastai_bert_vocab,\n",
    "                      include_bos=False,\n",
    "                      include_eos=False,\n",
    "                      text_cols= \"review\",\n",
    "                      label_cols=label_cols,\n",
    "                      bs= 64,\n",
    "                      collate_fn=partial(pad_collate, pad_first=False, pad_idx=0),\n",
    "                 )\n",
    "    \n",
    "    learner = Learner(\n",
    "    databunch, bert_model,\n",
    "    loss_func=loss_func, metrics = accuracy)\n",
    "    learner.fit_one_cycle(6, 1e-04)\n",
    "    _, accu = learner.validate()\n",
    "    accus.append(accu)"
   ]
  },
  {
   "cell_type": "code",
   "execution_count": null,
   "metadata": {},
   "outputs": [],
   "source": [
    "accus = [i.item() for i in accus]\n",
    "bert_amazon_accu_5 = pd.DataFrame({\n",
    "    'model_name' :['Bert'] * 5,\n",
    "    'accuracy' : accus\n",
    "})\n",
    "\n",
    "bert_amazon_accu_5.to_csv(YELP/'bert_amazon_accu_5.csv', index = False)\n",
    "bert_amazon_accu_5 = pd.read_csv(YELP/'bert_amazon_accu_5.csv')"
   ]
  },
  {
   "cell_type": "code",
   "execution_count": null,
   "metadata": {},
   "outputs": [],
   "source": []
  },
  {
   "cell_type": "markdown",
   "metadata": {},
   "source": [
    "#### Customer complaints"
   ]
  },
  {
   "cell_type": "code",
   "execution_count": 70,
   "metadata": {
    "ExecuteTime": {
     "end_time": "2020-01-07T23:12:05.581332Z",
     "start_time": "2020-01-07T23:12:05.556717Z"
    }
   },
   "outputs": [],
   "source": [
    "df = CUSTOMER_TRAIN"
   ]
  },
  {
   "cell_type": "markdown",
   "metadata": {},
   "source": [
    "##### ML models"
   ]
  },
  {
   "cell_type": "code",
   "execution_count": 75,
   "metadata": {
    "ExecuteTime": {
     "end_time": "2020-01-07T23:15:37.644873Z",
     "start_time": "2020-01-07T23:15:25.731114Z"
    }
   },
   "outputs": [
    {
     "data": {
      "text/plain": [
       "(12500, 45397)"
      ]
     },
     "execution_count": 75,
     "metadata": {},
     "output_type": "execute_result"
    }
   ],
   "source": [
    "\n",
    "# Set the global vars for this dataset for diverse algorithums\n",
    "\n",
    "## Need to change the df.col in the tfidf tranform method\n",
    "\n",
    "\n",
    "df['category_id'] = df['product'].factorize()[0]\n",
    "\n",
    "category_id_df = df[['product', 'category_id']\n",
    "                    ].drop_duplicates().sort_values('category_id')\n",
    "category_to_id = dict(category_id_df.values)\n",
    "id_to_category = {v: k for k, v in category_to_id.items()}\n",
    "\n",
    "tfidf = TfidfVectorizer(sublinear_tf=True, norm='l2', min_df=5,\n",
    "                        encoding='latin-1', ngram_range=(1, 3), stop_words='english')\n",
    "\n",
    "features = tfidf.fit_transform(df.complaint).toarray()  # features is the global var for this dataset block\n",
    "\n",
    "labels = df.category_id  # labels also a global var\n",
    "\n",
    "features.shape"
   ]
  },
  {
   "cell_type": "code",
   "execution_count": 77,
   "metadata": {
    "ExecuteTime": {
     "end_time": "2020-01-08T00:44:24.509424Z",
     "start_time": "2020-01-07T23:19:39.025412Z"
    }
   },
   "outputs": [
    {
     "name": "stderr",
     "output_type": "stream",
     "text": [
      "/opt/anaconda3/lib/python3.7/site-packages/sklearn/model_selection/_split.py:667: UserWarning: The least populated class in y has only 2 members, which is less than n_splits=5.\n",
      "  % (min_groups, self.n_splits)), UserWarning)\n"
     ]
    },
    {
     "name": "stdout",
     "output_type": "stream",
     "text": [
      "finished RandomForestClassifier, 0th bootstrap of 0th epochs\n",
      "finished RandomForestClassifier, 0th bootstrap of 1th epochs\n",
      "finished RandomForestClassifier, 0th bootstrap of 2th epochs\n",
      "finished RandomForestClassifier, 0th bootstrap of 3th epochs\n",
      "finished RandomForestClassifier, 0th bootstrap of 4th epochs\n"
     ]
    },
    {
     "name": "stderr",
     "output_type": "stream",
     "text": [
      "/opt/anaconda3/lib/python3.7/site-packages/sklearn/model_selection/_split.py:667: UserWarning: The least populated class in y has only 2 members, which is less than n_splits=5.\n",
      "  % (min_groups, self.n_splits)), UserWarning)\n"
     ]
    },
    {
     "name": "stdout",
     "output_type": "stream",
     "text": [
      "finished LinearSVC, 0th bootstrap of 0th epochs\n",
      "finished LinearSVC, 0th bootstrap of 1th epochs\n",
      "finished LinearSVC, 0th bootstrap of 2th epochs\n",
      "finished LinearSVC, 0th bootstrap of 3th epochs\n",
      "finished LinearSVC, 0th bootstrap of 4th epochs\n"
     ]
    },
    {
     "name": "stderr",
     "output_type": "stream",
     "text": [
      "/opt/anaconda3/lib/python3.7/site-packages/sklearn/model_selection/_split.py:667: UserWarning: The least populated class in y has only 2 members, which is less than n_splits=5.\n",
      "  % (min_groups, self.n_splits)), UserWarning)\n"
     ]
    },
    {
     "name": "stdout",
     "output_type": "stream",
     "text": [
      "finished MultinomialNB, 0th bootstrap of 0th epochs\n",
      "finished MultinomialNB, 0th bootstrap of 1th epochs\n",
      "finished MultinomialNB, 0th bootstrap of 2th epochs\n",
      "finished MultinomialNB, 0th bootstrap of 3th epochs\n",
      "finished MultinomialNB, 0th bootstrap of 4th epochs\n"
     ]
    },
    {
     "name": "stderr",
     "output_type": "stream",
     "text": [
      "/opt/anaconda3/lib/python3.7/site-packages/sklearn/model_selection/_split.py:667: UserWarning: The least populated class in y has only 2 members, which is less than n_splits=5.\n",
      "  % (min_groups, self.n_splits)), UserWarning)\n"
     ]
    },
    {
     "name": "stdout",
     "output_type": "stream",
     "text": [
      "finished LogisticRegression, 0th bootstrap of 0th epochs\n",
      "finished LogisticRegression, 0th bootstrap of 1th epochs\n",
      "finished LogisticRegression, 0th bootstrap of 2th epochs\n",
      "finished LogisticRegression, 0th bootstrap of 3th epochs\n",
      "finished LogisticRegression, 0th bootstrap of 4th epochs\n"
     ]
    },
    {
     "name": "stderr",
     "output_type": "stream",
     "text": [
      "/opt/anaconda3/lib/python3.7/site-packages/sklearn/model_selection/_split.py:667: UserWarning: The least populated class in y has only 2 members, which is less than n_splits=5.\n",
      "  % (min_groups, self.n_splits)), UserWarning)\n"
     ]
    },
    {
     "name": "stdout",
     "output_type": "stream",
     "text": [
      "finished RandomForestClassifier, 1th bootstrap of 0th epochs\n",
      "finished RandomForestClassifier, 1th bootstrap of 1th epochs\n",
      "finished RandomForestClassifier, 1th bootstrap of 2th epochs\n",
      "finished RandomForestClassifier, 1th bootstrap of 3th epochs\n",
      "finished RandomForestClassifier, 1th bootstrap of 4th epochs\n"
     ]
    },
    {
     "name": "stderr",
     "output_type": "stream",
     "text": [
      "/opt/anaconda3/lib/python3.7/site-packages/sklearn/model_selection/_split.py:667: UserWarning: The least populated class in y has only 2 members, which is less than n_splits=5.\n",
      "  % (min_groups, self.n_splits)), UserWarning)\n"
     ]
    },
    {
     "name": "stdout",
     "output_type": "stream",
     "text": [
      "finished LinearSVC, 1th bootstrap of 0th epochs\n",
      "finished LinearSVC, 1th bootstrap of 1th epochs\n",
      "finished LinearSVC, 1th bootstrap of 2th epochs\n",
      "finished LinearSVC, 1th bootstrap of 3th epochs\n",
      "finished LinearSVC, 1th bootstrap of 4th epochs\n"
     ]
    },
    {
     "name": "stderr",
     "output_type": "stream",
     "text": [
      "/opt/anaconda3/lib/python3.7/site-packages/sklearn/model_selection/_split.py:667: UserWarning: The least populated class in y has only 2 members, which is less than n_splits=5.\n",
      "  % (min_groups, self.n_splits)), UserWarning)\n"
     ]
    },
    {
     "name": "stdout",
     "output_type": "stream",
     "text": [
      "finished MultinomialNB, 1th bootstrap of 0th epochs\n",
      "finished MultinomialNB, 1th bootstrap of 1th epochs\n",
      "finished MultinomialNB, 1th bootstrap of 2th epochs\n",
      "finished MultinomialNB, 1th bootstrap of 3th epochs\n",
      "finished MultinomialNB, 1th bootstrap of 4th epochs\n"
     ]
    },
    {
     "name": "stderr",
     "output_type": "stream",
     "text": [
      "/opt/anaconda3/lib/python3.7/site-packages/sklearn/model_selection/_split.py:667: UserWarning: The least populated class in y has only 2 members, which is less than n_splits=5.\n",
      "  % (min_groups, self.n_splits)), UserWarning)\n"
     ]
    },
    {
     "name": "stdout",
     "output_type": "stream",
     "text": [
      "finished LogisticRegression, 1th bootstrap of 0th epochs\n",
      "finished LogisticRegression, 1th bootstrap of 1th epochs\n",
      "finished LogisticRegression, 1th bootstrap of 2th epochs\n",
      "finished LogisticRegression, 1th bootstrap of 3th epochs\n",
      "finished LogisticRegression, 1th bootstrap of 4th epochs\n"
     ]
    }
   ],
   "source": [
    "models = [RandomForestClassifier(n_estimators=200, max_depth=3, random_state=0),\n",
    "          LinearSVC(),\n",
    "          MultinomialNB(),\n",
    "          LogisticRegression(random_state=0, max_iter= 200)]\n",
    "\n",
    "boot_num = 2\n",
    "CV = 5\n",
    "cv_df = pd.DataFrame(index=range(CV * len(models)))\n",
    "entries = []\n",
    "\n",
    "for i in range(boot_num):\n",
    "    for model in models:\n",
    "        model_name = model.__class__.__name__\n",
    "        accuracies = cross_val_score(model, features, labels, scoring='accuracy', cv=CV)\n",
    "        for _, accuracy in enumerate(accuracies):\n",
    "            print(f'finished {model_name}, {i}th bootstrap of {_}th epochs')\n",
    "            entries.append((model_name, accuracy))\n",
    "\n",
    "        \n",
    "cv_df = pd.DataFrame(entries, columns=['model_name', 'accuracy'])"
   ]
  },
  {
   "cell_type": "code",
   "execution_count": 78,
   "metadata": {
    "ExecuteTime": {
     "end_time": "2020-01-08T00:46:39.731858Z",
     "start_time": "2020-01-08T00:46:39.693239Z"
    }
   },
   "outputs": [
    {
     "data": {
      "text/html": [
       "<div>\n",
       "<style scoped>\n",
       "    .dataframe tbody tr th:only-of-type {\n",
       "        vertical-align: middle;\n",
       "    }\n",
       "\n",
       "    .dataframe tbody tr th {\n",
       "        vertical-align: top;\n",
       "    }\n",
       "\n",
       "    .dataframe thead th {\n",
       "        text-align: right;\n",
       "    }\n",
       "</style>\n",
       "<table border=\"1\" class=\"dataframe\">\n",
       "  <thead>\n",
       "    <tr style=\"text-align: right;\">\n",
       "      <th></th>\n",
       "      <th>model_name</th>\n",
       "      <th>accuracy</th>\n",
       "    </tr>\n",
       "  </thead>\n",
       "  <tbody>\n",
       "    <tr>\n",
       "      <th>0</th>\n",
       "      <td>RandomForestClassifier</td>\n",
       "      <td>0.3048</td>\n",
       "    </tr>\n",
       "    <tr>\n",
       "      <th>1</th>\n",
       "      <td>RandomForestClassifier</td>\n",
       "      <td>0.2952</td>\n",
       "    </tr>\n",
       "    <tr>\n",
       "      <th>2</th>\n",
       "      <td>RandomForestClassifier</td>\n",
       "      <td>0.3164</td>\n",
       "    </tr>\n",
       "    <tr>\n",
       "      <th>3</th>\n",
       "      <td>RandomForestClassifier</td>\n",
       "      <td>0.3140</td>\n",
       "    </tr>\n",
       "    <tr>\n",
       "      <th>4</th>\n",
       "      <td>RandomForestClassifier</td>\n",
       "      <td>0.3040</td>\n",
       "    </tr>\n",
       "    <tr>\n",
       "      <th>5</th>\n",
       "      <td>LinearSVC</td>\n",
       "      <td>0.7144</td>\n",
       "    </tr>\n",
       "    <tr>\n",
       "      <th>6</th>\n",
       "      <td>LinearSVC</td>\n",
       "      <td>0.7104</td>\n",
       "    </tr>\n",
       "    <tr>\n",
       "      <th>7</th>\n",
       "      <td>LinearSVC</td>\n",
       "      <td>0.7088</td>\n",
       "    </tr>\n",
       "    <tr>\n",
       "      <th>8</th>\n",
       "      <td>LinearSVC</td>\n",
       "      <td>0.7004</td>\n",
       "    </tr>\n",
       "    <tr>\n",
       "      <th>9</th>\n",
       "      <td>LinearSVC</td>\n",
       "      <td>0.7188</td>\n",
       "    </tr>\n",
       "    <tr>\n",
       "      <th>10</th>\n",
       "      <td>MultinomialNB</td>\n",
       "      <td>0.5744</td>\n",
       "    </tr>\n",
       "    <tr>\n",
       "      <th>11</th>\n",
       "      <td>MultinomialNB</td>\n",
       "      <td>0.5756</td>\n",
       "    </tr>\n",
       "    <tr>\n",
       "      <th>12</th>\n",
       "      <td>MultinomialNB</td>\n",
       "      <td>0.5656</td>\n",
       "    </tr>\n",
       "    <tr>\n",
       "      <th>13</th>\n",
       "      <td>MultinomialNB</td>\n",
       "      <td>0.5720</td>\n",
       "    </tr>\n",
       "    <tr>\n",
       "      <th>14</th>\n",
       "      <td>MultinomialNB</td>\n",
       "      <td>0.5728</td>\n",
       "    </tr>\n",
       "    <tr>\n",
       "      <th>15</th>\n",
       "      <td>LogisticRegression</td>\n",
       "      <td>0.7020</td>\n",
       "    </tr>\n",
       "    <tr>\n",
       "      <th>16</th>\n",
       "      <td>LogisticRegression</td>\n",
       "      <td>0.7032</td>\n",
       "    </tr>\n",
       "    <tr>\n",
       "      <th>17</th>\n",
       "      <td>LogisticRegression</td>\n",
       "      <td>0.6916</td>\n",
       "    </tr>\n",
       "    <tr>\n",
       "      <th>18</th>\n",
       "      <td>LogisticRegression</td>\n",
       "      <td>0.6964</td>\n",
       "    </tr>\n",
       "    <tr>\n",
       "      <th>19</th>\n",
       "      <td>LogisticRegression</td>\n",
       "      <td>0.7048</td>\n",
       "    </tr>\n",
       "    <tr>\n",
       "      <th>20</th>\n",
       "      <td>RandomForestClassifier</td>\n",
       "      <td>0.3048</td>\n",
       "    </tr>\n",
       "    <tr>\n",
       "      <th>21</th>\n",
       "      <td>RandomForestClassifier</td>\n",
       "      <td>0.2952</td>\n",
       "    </tr>\n",
       "    <tr>\n",
       "      <th>22</th>\n",
       "      <td>RandomForestClassifier</td>\n",
       "      <td>0.3164</td>\n",
       "    </tr>\n",
       "    <tr>\n",
       "      <th>23</th>\n",
       "      <td>RandomForestClassifier</td>\n",
       "      <td>0.3140</td>\n",
       "    </tr>\n",
       "    <tr>\n",
       "      <th>24</th>\n",
       "      <td>RandomForestClassifier</td>\n",
       "      <td>0.3040</td>\n",
       "    </tr>\n",
       "    <tr>\n",
       "      <th>25</th>\n",
       "      <td>LinearSVC</td>\n",
       "      <td>0.7144</td>\n",
       "    </tr>\n",
       "    <tr>\n",
       "      <th>26</th>\n",
       "      <td>LinearSVC</td>\n",
       "      <td>0.7104</td>\n",
       "    </tr>\n",
       "    <tr>\n",
       "      <th>27</th>\n",
       "      <td>LinearSVC</td>\n",
       "      <td>0.7088</td>\n",
       "    </tr>\n",
       "    <tr>\n",
       "      <th>28</th>\n",
       "      <td>LinearSVC</td>\n",
       "      <td>0.7004</td>\n",
       "    </tr>\n",
       "    <tr>\n",
       "      <th>29</th>\n",
       "      <td>LinearSVC</td>\n",
       "      <td>0.7188</td>\n",
       "    </tr>\n",
       "    <tr>\n",
       "      <th>30</th>\n",
       "      <td>MultinomialNB</td>\n",
       "      <td>0.5744</td>\n",
       "    </tr>\n",
       "    <tr>\n",
       "      <th>31</th>\n",
       "      <td>MultinomialNB</td>\n",
       "      <td>0.5756</td>\n",
       "    </tr>\n",
       "    <tr>\n",
       "      <th>32</th>\n",
       "      <td>MultinomialNB</td>\n",
       "      <td>0.5656</td>\n",
       "    </tr>\n",
       "    <tr>\n",
       "      <th>33</th>\n",
       "      <td>MultinomialNB</td>\n",
       "      <td>0.5720</td>\n",
       "    </tr>\n",
       "    <tr>\n",
       "      <th>34</th>\n",
       "      <td>MultinomialNB</td>\n",
       "      <td>0.5728</td>\n",
       "    </tr>\n",
       "    <tr>\n",
       "      <th>35</th>\n",
       "      <td>LogisticRegression</td>\n",
       "      <td>0.7020</td>\n",
       "    </tr>\n",
       "    <tr>\n",
       "      <th>36</th>\n",
       "      <td>LogisticRegression</td>\n",
       "      <td>0.7032</td>\n",
       "    </tr>\n",
       "    <tr>\n",
       "      <th>37</th>\n",
       "      <td>LogisticRegression</td>\n",
       "      <td>0.6916</td>\n",
       "    </tr>\n",
       "    <tr>\n",
       "      <th>38</th>\n",
       "      <td>LogisticRegression</td>\n",
       "      <td>0.6964</td>\n",
       "    </tr>\n",
       "    <tr>\n",
       "      <th>39</th>\n",
       "      <td>LogisticRegression</td>\n",
       "      <td>0.7048</td>\n",
       "    </tr>\n",
       "  </tbody>\n",
       "</table>\n",
       "</div>"
      ],
      "text/plain": [
       "                model_name  accuracy\n",
       "0   RandomForestClassifier    0.3048\n",
       "1   RandomForestClassifier    0.2952\n",
       "2   RandomForestClassifier    0.3164\n",
       "3   RandomForestClassifier    0.3140\n",
       "4   RandomForestClassifier    0.3040\n",
       "5                LinearSVC    0.7144\n",
       "6                LinearSVC    0.7104\n",
       "7                LinearSVC    0.7088\n",
       "8                LinearSVC    0.7004\n",
       "9                LinearSVC    0.7188\n",
       "10           MultinomialNB    0.5744\n",
       "11           MultinomialNB    0.5756\n",
       "12           MultinomialNB    0.5656\n",
       "13           MultinomialNB    0.5720\n",
       "14           MultinomialNB    0.5728\n",
       "15      LogisticRegression    0.7020\n",
       "16      LogisticRegression    0.7032\n",
       "17      LogisticRegression    0.6916\n",
       "18      LogisticRegression    0.6964\n",
       "19      LogisticRegression    0.7048\n",
       "20  RandomForestClassifier    0.3048\n",
       "21  RandomForestClassifier    0.2952\n",
       "22  RandomForestClassifier    0.3164\n",
       "23  RandomForestClassifier    0.3140\n",
       "24  RandomForestClassifier    0.3040\n",
       "25               LinearSVC    0.7144\n",
       "26               LinearSVC    0.7104\n",
       "27               LinearSVC    0.7088\n",
       "28               LinearSVC    0.7004\n",
       "29               LinearSVC    0.7188\n",
       "30           MultinomialNB    0.5744\n",
       "31           MultinomialNB    0.5756\n",
       "32           MultinomialNB    0.5656\n",
       "33           MultinomialNB    0.5720\n",
       "34           MultinomialNB    0.5728\n",
       "35      LogisticRegression    0.7020\n",
       "36      LogisticRegression    0.7032\n",
       "37      LogisticRegression    0.6916\n",
       "38      LogisticRegression    0.6964\n",
       "39      LogisticRegression    0.7048"
      ]
     },
     "execution_count": 78,
     "metadata": {},
     "output_type": "execute_result"
    }
   ],
   "source": [
    "cv_df.to_csv(YELP/'ml_customer_accu_10', index = False)\n",
    "ml_customer_accu_10 = pd.read_csv(YELP/'ml_customer_accu_10')\n",
    "ml_customer_accu_10"
   ]
  },
  {
   "cell_type": "markdown",
   "metadata": {},
   "source": [
    "##### DL models"
   ]
  },
  {
   "cell_type": "code",
   "execution_count": null,
   "metadata": {},
   "outputs": [],
   "source": []
  },
  {
   "cell_type": "code",
   "execution_count": null,
   "metadata": {},
   "outputs": [],
   "source": []
  },
  {
   "cell_type": "code",
   "execution_count": null,
   "metadata": {},
   "outputs": [],
   "source": []
  },
  {
   "cell_type": "markdown",
   "metadata": {
    "ExecuteTime": {
     "end_time": "2020-01-07T22:27:16.742778Z",
     "start_time": "2020-01-07T22:27:16.714680Z"
    }
   },
   "source": [
    "### Evaluate algorithums * training size across datasets"
   ]
  },
  {
   "cell_type": "markdown",
   "metadata": {
    "ExecuteTime": {
     "end_time": "2020-01-08T00:44:24.605194Z",
     "start_time": "2020-01-07T23:29:39.689Z"
    }
   },
   "source": [
    "#### Ag_news"
   ]
  },
  {
   "cell_type": "markdown",
   "metadata": {
    "ExecuteTime": {
     "end_time": "2020-01-08T03:21:35.367280Z",
     "start_time": "2020-01-08T03:21:35.342520Z"
    }
   },
   "source": [
    "##### ML models"
   ]
  },
  {
   "cell_type": "code",
   "execution_count": 19,
   "metadata": {
    "ExecuteTime": {
     "end_time": "2020-01-08T04:40:21.175251Z",
     "start_time": "2020-01-08T04:40:21.150411Z"
    }
   },
   "outputs": [],
   "source": [
    "models = [RandomForestClassifier(n_estimators=200, max_depth=3, random_state=0),\n",
    "          LinearSVC(),\n",
    "          MultinomialNB(),\n",
    "          LogisticRegression(random_state=0, max_iter= 200)]\n",
    "\n",
    "df = AG_NEWS_TRAIN\n"
   ]
  },
  {
   "cell_type": "code",
   "execution_count": 20,
   "metadata": {
    "ExecuteTime": {
     "end_time": "2020-01-08T04:40:24.290864Z",
     "start_time": "2020-01-08T04:40:21.750034Z"
    }
   },
   "outputs": [],
   "source": [
    "# Set the global vars for this dataset for diverse algorithums\n",
    "\n",
    "df['category_id'] = df['class'].factorize()[0]\n",
    "\n",
    "category_id_df = df[['class', 'category_id']\n",
    "                    ].drop_duplicates().sort_values('category_id')\n",
    "category_to_id = dict(category_id_df.values)\n",
    "id_to_category = {v: k for k, v in category_to_id.items()}\n",
    "\n",
    "tfidf = TfidfVectorizer(sublinear_tf=True, norm='l2', min_df=5,\n",
    "                        encoding='latin-1', ngram_range=(1, 3), stop_words='english')\n",
    "\n",
    "# y_test has 2000 in size\n",
    "features = tfidf.fit_transform(df.describ).toarray()\n",
    "labels = df['class']\n",
    "\n",
    "x_train, x_test, y_train, y_test = train_test_split(features, labels, test_size=2000, random_state=0)\n"
   ]
  },
  {
   "cell_type": "code",
   "execution_count": 62,
   "metadata": {
    "ExecuteTime": {
     "end_time": "2020-01-08T06:31:36.790100Z",
     "start_time": "2020-01-08T06:31:36.758343Z"
    }
   },
   "outputs": [],
   "source": [
    "# export\n",
    "def algo_training_size_looper(size: list, x_train, y_train, x_test, y_test):\n",
    "    \"\"\"Loop over a dataset with varying training size and algorithums and returns a dataframe.\n",
    "    \n",
    "    This function loops over the combination of algorithum and different training size.\n",
    "    This function outputs a dataframe with three columns 'model_name', 'training_size', and 'accuracy.'\n",
    "\n",
    "    \"\"\"\n",
    "    \n",
    "    entries = []\n",
    "    for n in size:\n",
    "        # sub sample n first\n",
    "\n",
    "\n",
    "        boot_num = 6\n",
    "        \n",
    "        for i in range(boot_num):\n",
    "             for model in models:\n",
    "                    \n",
    "                index = np.random.randint(0, len(x_train), n)\n",
    "                x_train_sub = x_train[index]\n",
    "                y_train_sub = [list(y_train)[i] for i in index]\n",
    "                \n",
    "                model_name = model.__class__.__name__\n",
    "            \n",
    "                model.fit(x_train_sub, y_train_sub)\n",
    "                y_pred = model.predict(x_test)\n",
    "                accuracy = accuracy_score(y_pred, y_test)\n",
    "\n",
    "                print(\n",
    "                    f'finished {model_name}, {i}th bootstrap of size{n}')\n",
    "                entries.append((model_name, n, accuracy))\n",
    "                \n",
    "    return pd.DataFrame(entries, columns=['model_name', 'training_size', 'accuracy'])"
   ]
  },
  {
   "cell_type": "code",
   "execution_count": 26,
   "metadata": {
    "ExecuteTime": {
     "end_time": "2020-01-08T04:59:57.321574Z",
     "start_time": "2020-01-08T04:49:37.153096Z"
    },
    "scrolled": false
   },
   "outputs": [
    {
     "name": "stdout",
     "output_type": "stream",
     "text": [
      "finished RandomForestClassifier, 0th bootstrap of size100\n",
      "finished LinearSVC, 0th bootstrap of size100\n",
      "finished MultinomialNB, 0th bootstrap of size100\n",
      "finished LogisticRegression, 0th bootstrap of size100\n",
      "finished RandomForestClassifier, 1th bootstrap of size100\n",
      "finished LinearSVC, 1th bootstrap of size100\n",
      "finished MultinomialNB, 1th bootstrap of size100\n",
      "finished LogisticRegression, 1th bootstrap of size100\n",
      "finished RandomForestClassifier, 2th bootstrap of size100\n",
      "finished LinearSVC, 2th bootstrap of size100\n",
      "finished MultinomialNB, 2th bootstrap of size100\n",
      "finished LogisticRegression, 2th bootstrap of size100\n",
      "finished RandomForestClassifier, 3th bootstrap of size100\n",
      "finished LinearSVC, 3th bootstrap of size100\n",
      "finished MultinomialNB, 3th bootstrap of size100\n",
      "finished LogisticRegression, 3th bootstrap of size100\n",
      "finished RandomForestClassifier, 4th bootstrap of size100\n",
      "finished LinearSVC, 4th bootstrap of size100\n",
      "finished MultinomialNB, 4th bootstrap of size100\n",
      "finished LogisticRegression, 4th bootstrap of size100\n",
      "finished RandomForestClassifier, 5th bootstrap of size100\n",
      "finished LinearSVC, 5th bootstrap of size100\n",
      "finished MultinomialNB, 5th bootstrap of size100\n",
      "finished LogisticRegression, 5th bootstrap of size100\n",
      "finished RandomForestClassifier, 6th bootstrap of size100\n",
      "finished LinearSVC, 6th bootstrap of size100\n",
      "finished MultinomialNB, 6th bootstrap of size100\n",
      "finished LogisticRegression, 6th bootstrap of size100\n",
      "finished RandomForestClassifier, 7th bootstrap of size100\n",
      "finished LinearSVC, 7th bootstrap of size100\n",
      "finished MultinomialNB, 7th bootstrap of size100\n",
      "finished LogisticRegression, 7th bootstrap of size100\n",
      "finished RandomForestClassifier, 8th bootstrap of size100\n",
      "finished LinearSVC, 8th bootstrap of size100\n",
      "finished MultinomialNB, 8th bootstrap of size100\n",
      "finished LogisticRegression, 8th bootstrap of size100\n",
      "finished RandomForestClassifier, 9th bootstrap of size100\n",
      "finished LinearSVC, 9th bootstrap of size100\n",
      "finished MultinomialNB, 9th bootstrap of size100\n",
      "finished LogisticRegression, 9th bootstrap of size100\n",
      "finished RandomForestClassifier, 0th bootstrap of size200\n",
      "finished LinearSVC, 0th bootstrap of size200\n",
      "finished MultinomialNB, 0th bootstrap of size200\n",
      "finished LogisticRegression, 0th bootstrap of size200\n",
      "finished RandomForestClassifier, 1th bootstrap of size200\n",
      "finished LinearSVC, 1th bootstrap of size200\n",
      "finished MultinomialNB, 1th bootstrap of size200\n",
      "finished LogisticRegression, 1th bootstrap of size200\n",
      "finished RandomForestClassifier, 2th bootstrap of size200\n",
      "finished LinearSVC, 2th bootstrap of size200\n",
      "finished MultinomialNB, 2th bootstrap of size200\n",
      "finished LogisticRegression, 2th bootstrap of size200\n",
      "finished RandomForestClassifier, 3th bootstrap of size200\n",
      "finished LinearSVC, 3th bootstrap of size200\n",
      "finished MultinomialNB, 3th bootstrap of size200\n",
      "finished LogisticRegression, 3th bootstrap of size200\n",
      "finished RandomForestClassifier, 4th bootstrap of size200\n",
      "finished LinearSVC, 4th bootstrap of size200\n",
      "finished MultinomialNB, 4th bootstrap of size200\n",
      "finished LogisticRegression, 4th bootstrap of size200\n",
      "finished RandomForestClassifier, 5th bootstrap of size200\n",
      "finished LinearSVC, 5th bootstrap of size200\n",
      "finished MultinomialNB, 5th bootstrap of size200\n",
      "finished LogisticRegression, 5th bootstrap of size200\n",
      "finished RandomForestClassifier, 6th bootstrap of size200\n",
      "finished LinearSVC, 6th bootstrap of size200\n",
      "finished MultinomialNB, 6th bootstrap of size200\n",
      "finished LogisticRegression, 6th bootstrap of size200\n",
      "finished RandomForestClassifier, 7th bootstrap of size200\n",
      "finished LinearSVC, 7th bootstrap of size200\n",
      "finished MultinomialNB, 7th bootstrap of size200\n",
      "finished LogisticRegression, 7th bootstrap of size200\n",
      "finished RandomForestClassifier, 8th bootstrap of size200\n",
      "finished LinearSVC, 8th bootstrap of size200\n",
      "finished MultinomialNB, 8th bootstrap of size200\n",
      "finished LogisticRegression, 8th bootstrap of size200\n",
      "finished RandomForestClassifier, 9th bootstrap of size200\n",
      "finished LinearSVC, 9th bootstrap of size200\n",
      "finished MultinomialNB, 9th bootstrap of size200\n",
      "finished LogisticRegression, 9th bootstrap of size200\n",
      "finished RandomForestClassifier, 0th bootstrap of size400\n",
      "finished LinearSVC, 0th bootstrap of size400\n",
      "finished MultinomialNB, 0th bootstrap of size400\n",
      "finished LogisticRegression, 0th bootstrap of size400\n",
      "finished RandomForestClassifier, 1th bootstrap of size400\n",
      "finished LinearSVC, 1th bootstrap of size400\n",
      "finished MultinomialNB, 1th bootstrap of size400\n",
      "finished LogisticRegression, 1th bootstrap of size400\n",
      "finished RandomForestClassifier, 2th bootstrap of size400\n",
      "finished LinearSVC, 2th bootstrap of size400\n",
      "finished MultinomialNB, 2th bootstrap of size400\n",
      "finished LogisticRegression, 2th bootstrap of size400\n",
      "finished RandomForestClassifier, 3th bootstrap of size400\n",
      "finished LinearSVC, 3th bootstrap of size400\n",
      "finished MultinomialNB, 3th bootstrap of size400\n",
      "finished LogisticRegression, 3th bootstrap of size400\n",
      "finished RandomForestClassifier, 4th bootstrap of size400\n",
      "finished LinearSVC, 4th bootstrap of size400\n",
      "finished MultinomialNB, 4th bootstrap of size400\n",
      "finished LogisticRegression, 4th bootstrap of size400\n",
      "finished RandomForestClassifier, 5th bootstrap of size400\n",
      "finished LinearSVC, 5th bootstrap of size400\n",
      "finished MultinomialNB, 5th bootstrap of size400\n",
      "finished LogisticRegression, 5th bootstrap of size400\n",
      "finished RandomForestClassifier, 6th bootstrap of size400\n",
      "finished LinearSVC, 6th bootstrap of size400\n",
      "finished MultinomialNB, 6th bootstrap of size400\n",
      "finished LogisticRegression, 6th bootstrap of size400\n",
      "finished RandomForestClassifier, 7th bootstrap of size400\n",
      "finished LinearSVC, 7th bootstrap of size400\n",
      "finished MultinomialNB, 7th bootstrap of size400\n",
      "finished LogisticRegression, 7th bootstrap of size400\n",
      "finished RandomForestClassifier, 8th bootstrap of size400\n",
      "finished LinearSVC, 8th bootstrap of size400\n",
      "finished MultinomialNB, 8th bootstrap of size400\n",
      "finished LogisticRegression, 8th bootstrap of size400\n",
      "finished RandomForestClassifier, 9th bootstrap of size400\n",
      "finished LinearSVC, 9th bootstrap of size400\n",
      "finished MultinomialNB, 9th bootstrap of size400\n",
      "finished LogisticRegression, 9th bootstrap of size400\n",
      "finished RandomForestClassifier, 0th bootstrap of size800\n",
      "finished LinearSVC, 0th bootstrap of size800\n",
      "finished MultinomialNB, 0th bootstrap of size800\n",
      "finished LogisticRegression, 0th bootstrap of size800\n",
      "finished RandomForestClassifier, 1th bootstrap of size800\n",
      "finished LinearSVC, 1th bootstrap of size800\n",
      "finished MultinomialNB, 1th bootstrap of size800\n",
      "finished LogisticRegression, 1th bootstrap of size800\n",
      "finished RandomForestClassifier, 2th bootstrap of size800\n",
      "finished LinearSVC, 2th bootstrap of size800\n",
      "finished MultinomialNB, 2th bootstrap of size800\n",
      "finished LogisticRegression, 2th bootstrap of size800\n",
      "finished RandomForestClassifier, 3th bootstrap of size800\n",
      "finished LinearSVC, 3th bootstrap of size800\n",
      "finished MultinomialNB, 3th bootstrap of size800\n",
      "finished LogisticRegression, 3th bootstrap of size800\n",
      "finished RandomForestClassifier, 4th bootstrap of size800\n",
      "finished LinearSVC, 4th bootstrap of size800\n",
      "finished MultinomialNB, 4th bootstrap of size800\n",
      "finished LogisticRegression, 4th bootstrap of size800\n",
      "finished RandomForestClassifier, 5th bootstrap of size800\n",
      "finished LinearSVC, 5th bootstrap of size800\n",
      "finished MultinomialNB, 5th bootstrap of size800\n",
      "finished LogisticRegression, 5th bootstrap of size800\n",
      "finished RandomForestClassifier, 6th bootstrap of size800\n",
      "finished LinearSVC, 6th bootstrap of size800\n",
      "finished MultinomialNB, 6th bootstrap of size800\n",
      "finished LogisticRegression, 6th bootstrap of size800\n",
      "finished RandomForestClassifier, 7th bootstrap of size800\n",
      "finished LinearSVC, 7th bootstrap of size800\n",
      "finished MultinomialNB, 7th bootstrap of size800\n",
      "finished LogisticRegression, 7th bootstrap of size800\n",
      "finished RandomForestClassifier, 8th bootstrap of size800\n",
      "finished LinearSVC, 8th bootstrap of size800\n",
      "finished MultinomialNB, 8th bootstrap of size800\n",
      "finished LogisticRegression, 8th bootstrap of size800\n",
      "finished RandomForestClassifier, 9th bootstrap of size800\n",
      "finished LinearSVC, 9th bootstrap of size800\n",
      "finished MultinomialNB, 9th bootstrap of size800\n",
      "finished LogisticRegression, 9th bootstrap of size800\n"
     ]
    },
    {
     "name": "stdout",
     "output_type": "stream",
     "text": [
      "finished RandomForestClassifier, 0th bootstrap of size1600\n",
      "finished LinearSVC, 0th bootstrap of size1600\n",
      "finished MultinomialNB, 0th bootstrap of size1600\n",
      "finished LogisticRegression, 0th bootstrap of size1600\n",
      "finished RandomForestClassifier, 1th bootstrap of size1600\n",
      "finished LinearSVC, 1th bootstrap of size1600\n",
      "finished MultinomialNB, 1th bootstrap of size1600\n",
      "finished LogisticRegression, 1th bootstrap of size1600\n",
      "finished RandomForestClassifier, 2th bootstrap of size1600\n",
      "finished LinearSVC, 2th bootstrap of size1600\n",
      "finished MultinomialNB, 2th bootstrap of size1600\n",
      "finished LogisticRegression, 2th bootstrap of size1600\n",
      "finished RandomForestClassifier, 3th bootstrap of size1600\n",
      "finished LinearSVC, 3th bootstrap of size1600\n",
      "finished MultinomialNB, 3th bootstrap of size1600\n",
      "finished LogisticRegression, 3th bootstrap of size1600\n",
      "finished RandomForestClassifier, 4th bootstrap of size1600\n",
      "finished LinearSVC, 4th bootstrap of size1600\n",
      "finished MultinomialNB, 4th bootstrap of size1600\n",
      "finished LogisticRegression, 4th bootstrap of size1600\n",
      "finished RandomForestClassifier, 5th bootstrap of size1600\n",
      "finished LinearSVC, 5th bootstrap of size1600\n",
      "finished MultinomialNB, 5th bootstrap of size1600\n",
      "finished LogisticRegression, 5th bootstrap of size1600\n",
      "finished RandomForestClassifier, 6th bootstrap of size1600\n",
      "finished LinearSVC, 6th bootstrap of size1600\n",
      "finished MultinomialNB, 6th bootstrap of size1600\n",
      "finished LogisticRegression, 6th bootstrap of size1600\n",
      "finished RandomForestClassifier, 7th bootstrap of size1600\n",
      "finished LinearSVC, 7th bootstrap of size1600\n",
      "finished MultinomialNB, 7th bootstrap of size1600\n",
      "finished LogisticRegression, 7th bootstrap of size1600\n",
      "finished RandomForestClassifier, 8th bootstrap of size1600\n",
      "finished LinearSVC, 8th bootstrap of size1600\n",
      "finished MultinomialNB, 8th bootstrap of size1600\n",
      "finished LogisticRegression, 8th bootstrap of size1600\n",
      "finished RandomForestClassifier, 9th bootstrap of size1600\n",
      "finished LinearSVC, 9th bootstrap of size1600\n",
      "finished MultinomialNB, 9th bootstrap of size1600\n",
      "finished LogisticRegression, 9th bootstrap of size1600\n",
      "finished RandomForestClassifier, 0th bootstrap of size3200\n",
      "finished LinearSVC, 0th bootstrap of size3200\n",
      "finished MultinomialNB, 0th bootstrap of size3200\n",
      "finished LogisticRegression, 0th bootstrap of size3200\n",
      "finished RandomForestClassifier, 1th bootstrap of size3200\n",
      "finished LinearSVC, 1th bootstrap of size3200\n",
      "finished MultinomialNB, 1th bootstrap of size3200\n",
      "finished LogisticRegression, 1th bootstrap of size3200\n",
      "finished RandomForestClassifier, 2th bootstrap of size3200\n",
      "finished LinearSVC, 2th bootstrap of size3200\n",
      "finished MultinomialNB, 2th bootstrap of size3200\n",
      "finished LogisticRegression, 2th bootstrap of size3200\n",
      "finished RandomForestClassifier, 3th bootstrap of size3200\n",
      "finished LinearSVC, 3th bootstrap of size3200\n",
      "finished MultinomialNB, 3th bootstrap of size3200\n",
      "finished LogisticRegression, 3th bootstrap of size3200\n",
      "finished RandomForestClassifier, 4th bootstrap of size3200\n",
      "finished LinearSVC, 4th bootstrap of size3200\n",
      "finished MultinomialNB, 4th bootstrap of size3200\n",
      "finished LogisticRegression, 4th bootstrap of size3200\n",
      "finished RandomForestClassifier, 5th bootstrap of size3200\n",
      "finished LinearSVC, 5th bootstrap of size3200\n",
      "finished MultinomialNB, 5th bootstrap of size3200\n",
      "finished LogisticRegression, 5th bootstrap of size3200\n",
      "finished RandomForestClassifier, 6th bootstrap of size3200\n",
      "finished LinearSVC, 6th bootstrap of size3200\n",
      "finished MultinomialNB, 6th bootstrap of size3200\n",
      "finished LogisticRegression, 6th bootstrap of size3200\n",
      "finished RandomForestClassifier, 7th bootstrap of size3200\n",
      "finished LinearSVC, 7th bootstrap of size3200\n",
      "finished MultinomialNB, 7th bootstrap of size3200\n",
      "finished LogisticRegression, 7th bootstrap of size3200\n",
      "finished RandomForestClassifier, 8th bootstrap of size3200\n",
      "finished LinearSVC, 8th bootstrap of size3200\n",
      "finished MultinomialNB, 8th bootstrap of size3200\n",
      "finished LogisticRegression, 8th bootstrap of size3200\n",
      "finished RandomForestClassifier, 9th bootstrap of size3200\n",
      "finished LinearSVC, 9th bootstrap of size3200\n",
      "finished MultinomialNB, 9th bootstrap of size3200\n",
      "finished LogisticRegression, 9th bootstrap of size3200\n",
      "finished RandomForestClassifier, 0th bootstrap of size5000\n",
      "finished LinearSVC, 0th bootstrap of size5000\n",
      "finished MultinomialNB, 0th bootstrap of size5000\n",
      "finished LogisticRegression, 0th bootstrap of size5000\n",
      "finished RandomForestClassifier, 1th bootstrap of size5000\n",
      "finished LinearSVC, 1th bootstrap of size5000\n",
      "finished MultinomialNB, 1th bootstrap of size5000\n",
      "finished LogisticRegression, 1th bootstrap of size5000\n",
      "finished RandomForestClassifier, 2th bootstrap of size5000\n",
      "finished LinearSVC, 2th bootstrap of size5000\n",
      "finished MultinomialNB, 2th bootstrap of size5000\n",
      "finished LogisticRegression, 2th bootstrap of size5000\n",
      "finished RandomForestClassifier, 3th bootstrap of size5000\n",
      "finished LinearSVC, 3th bootstrap of size5000\n",
      "finished MultinomialNB, 3th bootstrap of size5000\n",
      "finished LogisticRegression, 3th bootstrap of size5000\n",
      "finished RandomForestClassifier, 4th bootstrap of size5000\n",
      "finished LinearSVC, 4th bootstrap of size5000\n",
      "finished MultinomialNB, 4th bootstrap of size5000\n",
      "finished LogisticRegression, 4th bootstrap of size5000\n",
      "finished RandomForestClassifier, 5th bootstrap of size5000\n",
      "finished LinearSVC, 5th bootstrap of size5000\n",
      "finished MultinomialNB, 5th bootstrap of size5000\n",
      "finished LogisticRegression, 5th bootstrap of size5000\n",
      "finished RandomForestClassifier, 6th bootstrap of size5000\n",
      "finished LinearSVC, 6th bootstrap of size5000\n",
      "finished MultinomialNB, 6th bootstrap of size5000\n",
      "finished LogisticRegression, 6th bootstrap of size5000\n",
      "finished RandomForestClassifier, 7th bootstrap of size5000\n",
      "finished LinearSVC, 7th bootstrap of size5000\n",
      "finished MultinomialNB, 7th bootstrap of size5000\n",
      "finished LogisticRegression, 7th bootstrap of size5000\n",
      "finished RandomForestClassifier, 8th bootstrap of size5000\n",
      "finished LinearSVC, 8th bootstrap of size5000\n",
      "finished MultinomialNB, 8th bootstrap of size5000\n",
      "finished LogisticRegression, 8th bootstrap of size5000\n",
      "finished RandomForestClassifier, 9th bootstrap of size5000\n",
      "finished LinearSVC, 9th bootstrap of size5000\n",
      "finished MultinomialNB, 9th bootstrap of size5000\n",
      "finished LogisticRegression, 9th bootstrap of size5000\n"
     ]
    }
   ],
   "source": [
    "res = algo_training_size_looper([100, 200, 400, 800, 1600, 3200, 5000], x_train, y_train, x_test, y_test)"
   ]
  },
  {
   "cell_type": "code",
   "execution_count": 28,
   "metadata": {
    "ExecuteTime": {
     "end_time": "2020-01-08T05:01:51.583425Z",
     "start_time": "2020-01-08T05:01:51.555569Z"
    }
   },
   "outputs": [],
   "source": [
    "res.to_csv(AG_NEWS/\"Algo_size_7_4_10_subsample.csv\")"
   ]
  },
  {
   "cell_type": "markdown",
   "metadata": {},
   "source": [
    "\n",
    "##### DL"
   ]
  },
  {
   "cell_type": "code",
   "execution_count": 11,
   "metadata": {
    "ExecuteTime": {
     "end_time": "2020-01-08T04:33:55.662932Z",
     "start_time": "2020-01-08T04:33:51.772007Z"
    }
   },
   "outputs": [],
   "source": [
    "df = AG_NEWS_TRAIN\n",
    "\n",
    "x_train, x_test, y_train, y_test = train_test_split(df['describ'], df['class'], test_size=2000, random_state=0)\n",
    "bert_model = BertForSequenceClassification.from_pretrained(config.bert_model_name, num_labels= 5 )\n"
   ]
  },
  {
   "cell_type": "code",
   "execution_count": 14,
   "metadata": {
    "ExecuteTime": {
     "end_time": "2020-01-08T04:34:08.477571Z",
     "start_time": "2020-01-08T04:34:08.433378Z"
    }
   },
   "outputs": [
    {
     "data": {
      "text/html": [
       "<div>\n",
       "<style scoped>\n",
       "    .dataframe tbody tr th:only-of-type {\n",
       "        vertical-align: middle;\n",
       "    }\n",
       "\n",
       "    .dataframe tbody tr th {\n",
       "        vertical-align: top;\n",
       "    }\n",
       "\n",
       "    .dataframe thead th {\n",
       "        text-align: right;\n",
       "    }\n",
       "</style>\n",
       "<table border=\"1\" class=\"dataframe\">\n",
       "  <thead>\n",
       "    <tr style=\"text-align: right;\">\n",
       "      <th></th>\n",
       "      <th>describe</th>\n",
       "      <th>class</th>\n",
       "    </tr>\n",
       "  </thead>\n",
       "  <tbody>\n",
       "    <tr>\n",
       "      <th>0</th>\n",
       "      <td>AP - A court ordered an 86-year-old man accuse...</td>\n",
       "      <td>world</td>\n",
       "    </tr>\n",
       "    <tr>\n",
       "      <th>1</th>\n",
       "      <td>4 October 2004 (NCA) -- Polish Foreign Ministe...</td>\n",
       "      <td>world</td>\n",
       "    </tr>\n",
       "    <tr>\n",
       "      <th>2</th>\n",
       "      <td>InfoWorld - Sun Microsystems and several other...</td>\n",
       "      <td>sci_tech</td>\n",
       "    </tr>\n",
       "    <tr>\n",
       "      <th>3</th>\n",
       "      <td>They hit for average and power, run with aband...</td>\n",
       "      <td>sports</td>\n",
       "    </tr>\n",
       "    <tr>\n",
       "      <th>4</th>\n",
       "      <td>Ziff Davis - Microsoft sources claim a British...</td>\n",
       "      <td>sci_tech</td>\n",
       "    </tr>\n",
       "    <tr>\n",
       "      <th>...</th>\n",
       "      <td>...</td>\n",
       "      <td>...</td>\n",
       "    </tr>\n",
       "    <tr>\n",
       "      <th>1995</th>\n",
       "      <td>BAGHDAD, Iraq - A videotape of the beheading o...</td>\n",
       "      <td>world</td>\n",
       "    </tr>\n",
       "    <tr>\n",
       "      <th>1996</th>\n",
       "      <td>A rarity among CRM vendors, NetSuite integrate...</td>\n",
       "      <td>business</td>\n",
       "    </tr>\n",
       "    <tr>\n",
       "      <th>1997</th>\n",
       "      <td>By MALCOLM RITTER    NEW YORK (AP) -- Can Proz...</td>\n",
       "      <td>sci_tech</td>\n",
       "    </tr>\n",
       "    <tr>\n",
       "      <th>1998</th>\n",
       "      <td>More migrants arrive on Italy's Lampedusa isla...</td>\n",
       "      <td>world</td>\n",
       "    </tr>\n",
       "    <tr>\n",
       "      <th>1999</th>\n",
       "      <td>Jeffrey Greenberg, the chief of scandal-beset ...</td>\n",
       "      <td>business</td>\n",
       "    </tr>\n",
       "  </tbody>\n",
       "</table>\n",
       "<p>2000 rows × 2 columns</p>\n",
       "</div>"
      ],
      "text/plain": [
       "                                               describe     class\n",
       "0     AP - A court ordered an 86-year-old man accuse...     world\n",
       "1     4 October 2004 (NCA) -- Polish Foreign Ministe...     world\n",
       "2     InfoWorld - Sun Microsystems and several other...  sci_tech\n",
       "3     They hit for average and power, run with aband...    sports\n",
       "4     Ziff Davis - Microsoft sources claim a British...  sci_tech\n",
       "...                                                 ...       ...\n",
       "1995  BAGHDAD, Iraq - A videotape of the beheading o...     world\n",
       "1996  A rarity among CRM vendors, NetSuite integrate...  business\n",
       "1997  By MALCOLM RITTER    NEW YORK (AP) -- Can Proz...  sci_tech\n",
       "1998  More migrants arrive on Italy's Lampedusa isla...     world\n",
       "1999  Jeffrey Greenberg, the chief of scandal-beset ...  business\n",
       "\n",
       "[2000 rows x 2 columns]"
      ]
     },
     "execution_count": 14,
     "metadata": {},
     "output_type": "execute_result"
    }
   ],
   "source": [
    "train = pd.DataFrame({'describe': x_train, \n",
    "                      'class': y_train})\n",
    "val = pd.DataFrame({'describe': x_test, \n",
    "                      'class': y_test})\n",
    "train = train.reset_index()[['describe', 'class']]\n",
    "val = val.reset_index()[['describe', 'class']]\n",
    "val"
   ]
  },
  {
   "cell_type": "code",
   "execution_count": 16,
   "metadata": {
    "ExecuteTime": {
     "end_time": "2020-01-08T04:34:16.123102Z",
     "start_time": "2020-01-08T04:34:16.098573Z"
    }
   },
   "outputs": [],
   "source": [
    "text_cols = \"describe\"\n",
    "label_cols = 'class'"
   ]
  },
  {
   "cell_type": "code",
   "execution_count": 12,
   "metadata": {
    "ExecuteTime": {
     "end_time": "2020-01-08T04:33:58.679784Z",
     "start_time": "2020-01-08T04:33:58.649887Z"
    }
   },
   "outputs": [],
   "source": [
    "# export\n",
    "def algo_training_size_looper_dl(size: list, path,  train, val, num_labels, bs = 64):\n",
    "    \"\"\"Loop over a dataset with varying training size and algorithums and returns a dataframe.\n",
    "\n",
    "\n",
    "    \"\"\"\n",
    "\n",
    "    accus = []\n",
    "    for n in size:\n",
    "        # sub sample n first\n",
    "\n",
    "\n",
    "        boot_num = 5\n",
    "\n",
    "        for i in range(boot_num):\n",
    "            index = np.random.randint(0, len(x_train), n)\n",
    "            sub_train = train.iloc[index, :].reset_index(drop=True)\n",
    "\n",
    "            databunch = TextDataBunch.from_df(path, sub_train, val,\n",
    "                                          tokenizer=fastai_tokenizer,\n",
    "                                          vocab=fastai_bert_vocab,\n",
    "                                          include_bos=False,\n",
    "                                          include_eos=False,\n",
    "                                          text_cols=text_cols,\n",
    "                                          label_cols=label_cols,\n",
    "                                          bs=bs,\n",
    "                                          collate_fn=partial(\n",
    "                                              pad_collate, pad_first=False, pad_idx=0),\n",
    "                                          )\n",
    "            bert_model = BertForSequenceClassification.from_pretrained(config.bert_model_name, num_labels= num_labels )\n",
    "\n",
    "            learner = Learner(\n",
    "            databunch, bert_model,\n",
    "            loss_func=loss_func, metrics = accuracy)\n",
    "\n",
    "            learner.fit_one_cycle(5, 1e-03)\n",
    "            _, accu = learner.validate()\n",
    "            accus.append((\"bert\", n, accu))\n",
    "            print(\n",
    "                f'finished {i}th bootstrap of size{n}')\n",
    "\n",
    "    return pd.DataFrame(accus, columns=['model_name', 'training_size', 'accuracy'])"
   ]
  },
  {
   "cell_type": "code",
   "execution_count": 17,
   "metadata": {
    "ExecuteTime": {
     "end_time": "2020-01-08T04:34:40.597470Z",
     "start_time": "2020-01-08T04:34:18.437849Z"
    }
   },
   "outputs": [
    {
     "data": {
      "text/html": [],
      "text/plain": [
       "<IPython.core.display.HTML object>"
      ]
     },
     "metadata": {},
     "output_type": "display_data"
    },
    {
     "data": {
      "text/html": [],
      "text/plain": [
       "<IPython.core.display.HTML object>"
      ]
     },
     "metadata": {},
     "output_type": "display_data"
    },
    {
     "data": {
      "text/html": [
       "\n",
       "    <div>\n",
       "        <style>\n",
       "            /* Turns off some styling */\n",
       "            progress {\n",
       "                /* gets rid of default border in Firefox and Opera. */\n",
       "                border: none;\n",
       "                /* Needs to be in here for Safari polyfill so background images work as expected. */\n",
       "                background-size: auto;\n",
       "            }\n",
       "            .progress-bar-interrupted, .progress-bar-interrupted::-webkit-progress-bar {\n",
       "                background: #F44336;\n",
       "            }\n",
       "        </style>\n",
       "      <progress value='1' class='' max='6', style='width:300px; height:20px; vertical-align: middle;'></progress>\n",
       "      16.67% [1/6 00:13<01:09]\n",
       "    </div>\n",
       "    \n",
       "<table border=\"1\" class=\"dataframe\">\n",
       "  <thead>\n",
       "    <tr style=\"text-align: left;\">\n",
       "      <th>epoch</th>\n",
       "      <th>train_loss</th>\n",
       "      <th>valid_loss</th>\n",
       "      <th>accuracy</th>\n",
       "      <th>time</th>\n",
       "    </tr>\n",
       "  </thead>\n",
       "  <tbody>\n",
       "    <tr>\n",
       "      <td>0</td>\n",
       "      <td>1.444143</td>\n",
       "      <td>1.407543</td>\n",
       "      <td>0.278500</td>\n",
       "      <td>00:13</td>\n",
       "    </tr>\n",
       "  </tbody>\n",
       "</table><p>\n",
       "\n",
       "    <div>\n",
       "        <style>\n",
       "            /* Turns off some styling */\n",
       "            progress {\n",
       "                /* gets rid of default border in Firefox and Opera. */\n",
       "                border: none;\n",
       "                /* Needs to be in here for Safari polyfill so background images work as expected. */\n",
       "                background-size: auto;\n",
       "            }\n",
       "            .progress-bar-interrupted, .progress-bar-interrupted::-webkit-progress-bar {\n",
       "                background: #F44336;\n",
       "            }\n",
       "        </style>\n",
       "      <progress value='0' class='progress-bar-interrupted' max='1', style='width:300px; height:20px; vertical-align: middle;'></progress>\n",
       "      Interrupted\n",
       "    </div>\n",
       "    "
      ],
      "text/plain": [
       "<IPython.core.display.HTML object>"
      ]
     },
     "metadata": {},
     "output_type": "display_data"
    },
    {
     "ename": "RuntimeError",
     "evalue": "CUDA out of memory. Tried to allocate 96.00 MiB (GPU 0; 11.17 GiB total capacity; 10.73 GiB already allocated; 28.81 MiB free; 130.09 MiB cached)",
     "output_type": "error",
     "traceback": [
      "\u001b[0;31m---------------------------------------------------------------------------\u001b[0m",
      "\u001b[0;31mRuntimeError\u001b[0m                              Traceback (most recent call last)",
      "\u001b[0;32m<ipython-input-17-e0316e9b2474>\u001b[0m in \u001b[0;36m<module>\u001b[0;34m\u001b[0m\n\u001b[0;32m----> 1\u001b[0;31m \u001b[0mres\u001b[0m \u001b[0;34m=\u001b[0m \u001b[0malgo_training_size_looper_dl\u001b[0m\u001b[0;34m(\u001b[0m\u001b[0;34m[\u001b[0m\u001b[0;36m100\u001b[0m\u001b[0;34m,\u001b[0m \u001b[0;36m400\u001b[0m\u001b[0;34m]\u001b[0m\u001b[0;34m,\u001b[0m \u001b[0mAG_NEWS\u001b[0m\u001b[0;34m,\u001b[0m \u001b[0mtrain\u001b[0m\u001b[0;34m,\u001b[0m \u001b[0mval\u001b[0m\u001b[0;34m,\u001b[0m \u001b[0;36m4\u001b[0m \u001b[0;34m)\u001b[0m\u001b[0;34m\u001b[0m\u001b[0;34m\u001b[0m\u001b[0m\n\u001b[0m",
      "\u001b[0;32m<ipython-input-12-0730a69cb65c>\u001b[0m in \u001b[0;36malgo_training_size_looper_dl\u001b[0;34m(size, path, train, val, num_labels, bs)\u001b[0m\n\u001b[1;32m     32\u001b[0m             loss_func=loss_func, metrics = accuracy)\n\u001b[1;32m     33\u001b[0m \u001b[0;34m\u001b[0m\u001b[0m\n\u001b[0;32m---> 34\u001b[0;31m             \u001b[0mlearner\u001b[0m\u001b[0;34m.\u001b[0m\u001b[0mfit_one_cycle\u001b[0m\u001b[0;34m(\u001b[0m\u001b[0;36m6\u001b[0m\u001b[0;34m,\u001b[0m \u001b[0;36m1e-03\u001b[0m\u001b[0;34m)\u001b[0m\u001b[0;34m\u001b[0m\u001b[0;34m\u001b[0m\u001b[0m\n\u001b[0m\u001b[1;32m     35\u001b[0m             \u001b[0m_\u001b[0m\u001b[0;34m,\u001b[0m \u001b[0maccu\u001b[0m \u001b[0;34m=\u001b[0m \u001b[0mlearner\u001b[0m\u001b[0;34m.\u001b[0m\u001b[0mvalidate\u001b[0m\u001b[0;34m(\u001b[0m\u001b[0;34m)\u001b[0m\u001b[0;34m\u001b[0m\u001b[0;34m\u001b[0m\u001b[0m\n\u001b[1;32m     36\u001b[0m             \u001b[0maccus\u001b[0m\u001b[0;34m.\u001b[0m\u001b[0mappend\u001b[0m\u001b[0;34m(\u001b[0m\u001b[0;34m(\u001b[0m\u001b[0;34m\"bert\"\u001b[0m\u001b[0;34m,\u001b[0m \u001b[0mn\u001b[0m\u001b[0;34m,\u001b[0m \u001b[0maccu\u001b[0m\u001b[0;34m)\u001b[0m\u001b[0;34m)\u001b[0m\u001b[0;34m\u001b[0m\u001b[0;34m\u001b[0m\u001b[0m\n",
      "\u001b[0;32m/opt/anaconda3/lib/python3.7/site-packages/fastai/train.py\u001b[0m in \u001b[0;36mfit_one_cycle\u001b[0;34m(learn, cyc_len, max_lr, moms, div_factor, pct_start, final_div, wd, callbacks, tot_epochs, start_epoch)\u001b[0m\n\u001b[1;32m     21\u001b[0m     callbacks.append(OneCycleScheduler(learn, max_lr, moms=moms, div_factor=div_factor, pct_start=pct_start,\n\u001b[1;32m     22\u001b[0m                                        final_div=final_div, tot_epochs=tot_epochs, start_epoch=start_epoch))\n\u001b[0;32m---> 23\u001b[0;31m     \u001b[0mlearn\u001b[0m\u001b[0;34m.\u001b[0m\u001b[0mfit\u001b[0m\u001b[0;34m(\u001b[0m\u001b[0mcyc_len\u001b[0m\u001b[0;34m,\u001b[0m \u001b[0mmax_lr\u001b[0m\u001b[0;34m,\u001b[0m \u001b[0mwd\u001b[0m\u001b[0;34m=\u001b[0m\u001b[0mwd\u001b[0m\u001b[0;34m,\u001b[0m \u001b[0mcallbacks\u001b[0m\u001b[0;34m=\u001b[0m\u001b[0mcallbacks\u001b[0m\u001b[0;34m)\u001b[0m\u001b[0;34m\u001b[0m\u001b[0;34m\u001b[0m\u001b[0m\n\u001b[0m\u001b[1;32m     24\u001b[0m \u001b[0;34m\u001b[0m\u001b[0m\n\u001b[1;32m     25\u001b[0m def fit_fc(learn:Learner, tot_epochs:int=1, lr:float=defaults.lr,  moms:Tuple[float,float]=(0.95,0.85), start_pct:float=0.72,\n",
      "\u001b[0;32m/opt/anaconda3/lib/python3.7/site-packages/fastai/basic_train.py\u001b[0m in \u001b[0;36mfit\u001b[0;34m(self, epochs, lr, wd, callbacks)\u001b[0m\n\u001b[1;32m    198\u001b[0m         \u001b[0;32melse\u001b[0m\u001b[0;34m:\u001b[0m \u001b[0mself\u001b[0m\u001b[0;34m.\u001b[0m\u001b[0mopt\u001b[0m\u001b[0;34m.\u001b[0m\u001b[0mlr\u001b[0m\u001b[0;34m,\u001b[0m\u001b[0mself\u001b[0m\u001b[0;34m.\u001b[0m\u001b[0mopt\u001b[0m\u001b[0;34m.\u001b[0m\u001b[0mwd\u001b[0m \u001b[0;34m=\u001b[0m \u001b[0mlr\u001b[0m\u001b[0;34m,\u001b[0m\u001b[0mwd\u001b[0m\u001b[0;34m\u001b[0m\u001b[0;34m\u001b[0m\u001b[0m\n\u001b[1;32m    199\u001b[0m         \u001b[0mcallbacks\u001b[0m \u001b[0;34m=\u001b[0m \u001b[0;34m[\u001b[0m\u001b[0mcb\u001b[0m\u001b[0;34m(\u001b[0m\u001b[0mself\u001b[0m\u001b[0;34m)\u001b[0m \u001b[0;32mfor\u001b[0m \u001b[0mcb\u001b[0m \u001b[0;32min\u001b[0m \u001b[0mself\u001b[0m\u001b[0;34m.\u001b[0m\u001b[0mcallback_fns\u001b[0m \u001b[0;34m+\u001b[0m \u001b[0mlistify\u001b[0m\u001b[0;34m(\u001b[0m\u001b[0mdefaults\u001b[0m\u001b[0;34m.\u001b[0m\u001b[0mextra_callback_fns\u001b[0m\u001b[0;34m)\u001b[0m\u001b[0;34m]\u001b[0m \u001b[0;34m+\u001b[0m \u001b[0mlistify\u001b[0m\u001b[0;34m(\u001b[0m\u001b[0mcallbacks\u001b[0m\u001b[0;34m)\u001b[0m\u001b[0;34m\u001b[0m\u001b[0;34m\u001b[0m\u001b[0m\n\u001b[0;32m--> 200\u001b[0;31m         \u001b[0mfit\u001b[0m\u001b[0;34m(\u001b[0m\u001b[0mepochs\u001b[0m\u001b[0;34m,\u001b[0m \u001b[0mself\u001b[0m\u001b[0;34m,\u001b[0m \u001b[0mmetrics\u001b[0m\u001b[0;34m=\u001b[0m\u001b[0mself\u001b[0m\u001b[0;34m.\u001b[0m\u001b[0mmetrics\u001b[0m\u001b[0;34m,\u001b[0m \u001b[0mcallbacks\u001b[0m\u001b[0;34m=\u001b[0m\u001b[0mself\u001b[0m\u001b[0;34m.\u001b[0m\u001b[0mcallbacks\u001b[0m\u001b[0;34m+\u001b[0m\u001b[0mcallbacks\u001b[0m\u001b[0;34m)\u001b[0m\u001b[0;34m\u001b[0m\u001b[0;34m\u001b[0m\u001b[0m\n\u001b[0m\u001b[1;32m    201\u001b[0m \u001b[0;34m\u001b[0m\u001b[0m\n\u001b[1;32m    202\u001b[0m     \u001b[0;32mdef\u001b[0m \u001b[0mcreate_opt\u001b[0m\u001b[0;34m(\u001b[0m\u001b[0mself\u001b[0m\u001b[0;34m,\u001b[0m \u001b[0mlr\u001b[0m\u001b[0;34m:\u001b[0m\u001b[0mFloats\u001b[0m\u001b[0;34m,\u001b[0m \u001b[0mwd\u001b[0m\u001b[0;34m:\u001b[0m\u001b[0mFloats\u001b[0m\u001b[0;34m=\u001b[0m\u001b[0;36m0.\u001b[0m\u001b[0;34m)\u001b[0m\u001b[0;34m->\u001b[0m\u001b[0;32mNone\u001b[0m\u001b[0;34m:\u001b[0m\u001b[0;34m\u001b[0m\u001b[0;34m\u001b[0m\u001b[0m\n",
      "\u001b[0;32m/opt/anaconda3/lib/python3.7/site-packages/fastai/basic_train.py\u001b[0m in \u001b[0;36mfit\u001b[0;34m(epochs, learn, callbacks, metrics)\u001b[0m\n\u001b[1;32m     99\u001b[0m             \u001b[0;32mfor\u001b[0m \u001b[0mxb\u001b[0m\u001b[0;34m,\u001b[0m\u001b[0myb\u001b[0m \u001b[0;32min\u001b[0m \u001b[0mprogress_bar\u001b[0m\u001b[0;34m(\u001b[0m\u001b[0mlearn\u001b[0m\u001b[0;34m.\u001b[0m\u001b[0mdata\u001b[0m\u001b[0;34m.\u001b[0m\u001b[0mtrain_dl\u001b[0m\u001b[0;34m,\u001b[0m \u001b[0mparent\u001b[0m\u001b[0;34m=\u001b[0m\u001b[0mpbar\u001b[0m\u001b[0;34m)\u001b[0m\u001b[0;34m:\u001b[0m\u001b[0;34m\u001b[0m\u001b[0;34m\u001b[0m\u001b[0m\n\u001b[1;32m    100\u001b[0m                 \u001b[0mxb\u001b[0m\u001b[0;34m,\u001b[0m \u001b[0myb\u001b[0m \u001b[0;34m=\u001b[0m \u001b[0mcb_handler\u001b[0m\u001b[0;34m.\u001b[0m\u001b[0mon_batch_begin\u001b[0m\u001b[0;34m(\u001b[0m\u001b[0mxb\u001b[0m\u001b[0;34m,\u001b[0m \u001b[0myb\u001b[0m\u001b[0;34m)\u001b[0m\u001b[0;34m\u001b[0m\u001b[0;34m\u001b[0m\u001b[0m\n\u001b[0;32m--> 101\u001b[0;31m                 \u001b[0mloss\u001b[0m \u001b[0;34m=\u001b[0m \u001b[0mloss_batch\u001b[0m\u001b[0;34m(\u001b[0m\u001b[0mlearn\u001b[0m\u001b[0;34m.\u001b[0m\u001b[0mmodel\u001b[0m\u001b[0;34m,\u001b[0m \u001b[0mxb\u001b[0m\u001b[0;34m,\u001b[0m \u001b[0myb\u001b[0m\u001b[0;34m,\u001b[0m \u001b[0mlearn\u001b[0m\u001b[0;34m.\u001b[0m\u001b[0mloss_func\u001b[0m\u001b[0;34m,\u001b[0m \u001b[0mlearn\u001b[0m\u001b[0;34m.\u001b[0m\u001b[0mopt\u001b[0m\u001b[0;34m,\u001b[0m \u001b[0mcb_handler\u001b[0m\u001b[0;34m)\u001b[0m\u001b[0;34m\u001b[0m\u001b[0;34m\u001b[0m\u001b[0m\n\u001b[0m\u001b[1;32m    102\u001b[0m                 \u001b[0;32mif\u001b[0m \u001b[0mcb_handler\u001b[0m\u001b[0;34m.\u001b[0m\u001b[0mon_batch_end\u001b[0m\u001b[0;34m(\u001b[0m\u001b[0mloss\u001b[0m\u001b[0;34m)\u001b[0m\u001b[0;34m:\u001b[0m \u001b[0;32mbreak\u001b[0m\u001b[0;34m\u001b[0m\u001b[0;34m\u001b[0m\u001b[0m\n\u001b[1;32m    103\u001b[0m \u001b[0;34m\u001b[0m\u001b[0m\n",
      "\u001b[0;32m<ipython-input-7-1396199faf5f>\u001b[0m in \u001b[0;36mloss_batch_bert\u001b[0;34m(model, xb, yb, loss_func, opt, cb_handler)\u001b[0m\n\u001b[1;32m     63\u001b[0m     \u001b[0;32mif\u001b[0m \u001b[0;32mnot\u001b[0m \u001b[0mis_listy\u001b[0m\u001b[0;34m(\u001b[0m\u001b[0myb\u001b[0m\u001b[0;34m)\u001b[0m\u001b[0;34m:\u001b[0m\u001b[0;34m\u001b[0m\u001b[0;34m\u001b[0m\u001b[0m\n\u001b[1;32m     64\u001b[0m         \u001b[0myb\u001b[0m \u001b[0;34m=\u001b[0m \u001b[0;34m[\u001b[0m\u001b[0myb\u001b[0m\u001b[0;34m]\u001b[0m\u001b[0;34m\u001b[0m\u001b[0;34m\u001b[0m\u001b[0m\n\u001b[0;32m---> 65\u001b[0;31m     \u001b[0mout\u001b[0m \u001b[0;34m=\u001b[0m \u001b[0mmodel\u001b[0m\u001b[0;34m(\u001b[0m\u001b[0;34m*\u001b[0m\u001b[0mxb\u001b[0m\u001b[0;34m)\u001b[0m\u001b[0;34m\u001b[0m\u001b[0;34m\u001b[0m\u001b[0m\n\u001b[0m\u001b[1;32m     66\u001b[0m     \u001b[0;31m# pdb.set_trace()\u001b[0m\u001b[0;34m\u001b[0m\u001b[0;34m\u001b[0m\u001b[0;34m\u001b[0m\u001b[0m\n\u001b[1;32m     67\u001b[0m     \u001b[0mout\u001b[0m \u001b[0;34m=\u001b[0m \u001b[0mout\u001b[0m\u001b[0;34m[\u001b[0m\u001b[0;36m0\u001b[0m\u001b[0;34m]\u001b[0m\u001b[0;34m\u001b[0m\u001b[0;34m\u001b[0m\u001b[0m\n",
      "\u001b[0;32m/opt/anaconda3/lib/python3.7/site-packages/torch/nn/modules/module.py\u001b[0m in \u001b[0;36m__call__\u001b[0;34m(self, *input, **kwargs)\u001b[0m\n\u001b[1;32m    539\u001b[0m             \u001b[0mresult\u001b[0m \u001b[0;34m=\u001b[0m \u001b[0mself\u001b[0m\u001b[0;34m.\u001b[0m\u001b[0m_slow_forward\u001b[0m\u001b[0;34m(\u001b[0m\u001b[0;34m*\u001b[0m\u001b[0minput\u001b[0m\u001b[0;34m,\u001b[0m \u001b[0;34m**\u001b[0m\u001b[0mkwargs\u001b[0m\u001b[0;34m)\u001b[0m\u001b[0;34m\u001b[0m\u001b[0;34m\u001b[0m\u001b[0m\n\u001b[1;32m    540\u001b[0m         \u001b[0;32melse\u001b[0m\u001b[0;34m:\u001b[0m\u001b[0;34m\u001b[0m\u001b[0;34m\u001b[0m\u001b[0m\n\u001b[0;32m--> 541\u001b[0;31m             \u001b[0mresult\u001b[0m \u001b[0;34m=\u001b[0m \u001b[0mself\u001b[0m\u001b[0;34m.\u001b[0m\u001b[0mforward\u001b[0m\u001b[0;34m(\u001b[0m\u001b[0;34m*\u001b[0m\u001b[0minput\u001b[0m\u001b[0;34m,\u001b[0m \u001b[0;34m**\u001b[0m\u001b[0mkwargs\u001b[0m\u001b[0;34m)\u001b[0m\u001b[0;34m\u001b[0m\u001b[0;34m\u001b[0m\u001b[0m\n\u001b[0m\u001b[1;32m    542\u001b[0m         \u001b[0;32mfor\u001b[0m \u001b[0mhook\u001b[0m \u001b[0;32min\u001b[0m \u001b[0mself\u001b[0m\u001b[0;34m.\u001b[0m\u001b[0m_forward_hooks\u001b[0m\u001b[0;34m.\u001b[0m\u001b[0mvalues\u001b[0m\u001b[0;34m(\u001b[0m\u001b[0;34m)\u001b[0m\u001b[0;34m:\u001b[0m\u001b[0;34m\u001b[0m\u001b[0;34m\u001b[0m\u001b[0m\n\u001b[1;32m    543\u001b[0m             \u001b[0mhook_result\u001b[0m \u001b[0;34m=\u001b[0m \u001b[0mhook\u001b[0m\u001b[0;34m(\u001b[0m\u001b[0mself\u001b[0m\u001b[0;34m,\u001b[0m \u001b[0minput\u001b[0m\u001b[0;34m,\u001b[0m \u001b[0mresult\u001b[0m\u001b[0;34m)\u001b[0m\u001b[0;34m\u001b[0m\u001b[0;34m\u001b[0m\u001b[0m\n",
      "\u001b[0;32m/opt/anaconda3/lib/python3.7/site-packages/pytorch_transformers/modeling_bert.py\u001b[0m in \u001b[0;36mforward\u001b[0;34m(self, input_ids, token_type_ids, attention_mask, labels, position_ids, head_mask)\u001b[0m\n\u001b[1;32m    961\u001b[0m                 position_ids=None, head_mask=None):\n\u001b[1;32m    962\u001b[0m         outputs = self.bert(input_ids, position_ids=position_ids, token_type_ids=token_type_ids,\n\u001b[0;32m--> 963\u001b[0;31m                             attention_mask=attention_mask, head_mask=head_mask)\n\u001b[0m\u001b[1;32m    964\u001b[0m         \u001b[0mpooled_output\u001b[0m \u001b[0;34m=\u001b[0m \u001b[0moutputs\u001b[0m\u001b[0;34m[\u001b[0m\u001b[0;36m1\u001b[0m\u001b[0;34m]\u001b[0m\u001b[0;34m\u001b[0m\u001b[0;34m\u001b[0m\u001b[0m\n\u001b[1;32m    965\u001b[0m \u001b[0;34m\u001b[0m\u001b[0m\n",
      "\u001b[0;32m/opt/anaconda3/lib/python3.7/site-packages/torch/nn/modules/module.py\u001b[0m in \u001b[0;36m__call__\u001b[0;34m(self, *input, **kwargs)\u001b[0m\n\u001b[1;32m    539\u001b[0m             \u001b[0mresult\u001b[0m \u001b[0;34m=\u001b[0m \u001b[0mself\u001b[0m\u001b[0;34m.\u001b[0m\u001b[0m_slow_forward\u001b[0m\u001b[0;34m(\u001b[0m\u001b[0;34m*\u001b[0m\u001b[0minput\u001b[0m\u001b[0;34m,\u001b[0m \u001b[0;34m**\u001b[0m\u001b[0mkwargs\u001b[0m\u001b[0;34m)\u001b[0m\u001b[0;34m\u001b[0m\u001b[0;34m\u001b[0m\u001b[0m\n\u001b[1;32m    540\u001b[0m         \u001b[0;32melse\u001b[0m\u001b[0;34m:\u001b[0m\u001b[0;34m\u001b[0m\u001b[0;34m\u001b[0m\u001b[0m\n\u001b[0;32m--> 541\u001b[0;31m             \u001b[0mresult\u001b[0m \u001b[0;34m=\u001b[0m \u001b[0mself\u001b[0m\u001b[0;34m.\u001b[0m\u001b[0mforward\u001b[0m\u001b[0;34m(\u001b[0m\u001b[0;34m*\u001b[0m\u001b[0minput\u001b[0m\u001b[0;34m,\u001b[0m \u001b[0;34m**\u001b[0m\u001b[0mkwargs\u001b[0m\u001b[0;34m)\u001b[0m\u001b[0;34m\u001b[0m\u001b[0;34m\u001b[0m\u001b[0m\n\u001b[0m\u001b[1;32m    542\u001b[0m         \u001b[0;32mfor\u001b[0m \u001b[0mhook\u001b[0m \u001b[0;32min\u001b[0m \u001b[0mself\u001b[0m\u001b[0;34m.\u001b[0m\u001b[0m_forward_hooks\u001b[0m\u001b[0;34m.\u001b[0m\u001b[0mvalues\u001b[0m\u001b[0;34m(\u001b[0m\u001b[0;34m)\u001b[0m\u001b[0;34m:\u001b[0m\u001b[0;34m\u001b[0m\u001b[0;34m\u001b[0m\u001b[0m\n\u001b[1;32m    543\u001b[0m             \u001b[0mhook_result\u001b[0m \u001b[0;34m=\u001b[0m \u001b[0mhook\u001b[0m\u001b[0;34m(\u001b[0m\u001b[0mself\u001b[0m\u001b[0;34m,\u001b[0m \u001b[0minput\u001b[0m\u001b[0;34m,\u001b[0m \u001b[0mresult\u001b[0m\u001b[0;34m)\u001b[0m\u001b[0;34m\u001b[0m\u001b[0;34m\u001b[0m\u001b[0m\n",
      "\u001b[0;32m/opt/anaconda3/lib/python3.7/site-packages/pytorch_transformers/modeling_bert.py\u001b[0m in \u001b[0;36mforward\u001b[0;34m(self, input_ids, token_type_ids, attention_mask, position_ids, head_mask)\u001b[0m\n\u001b[1;32m    708\u001b[0m         encoder_outputs = self.encoder(embedding_output,\n\u001b[1;32m    709\u001b[0m                                        \u001b[0mextended_attention_mask\u001b[0m\u001b[0;34m,\u001b[0m\u001b[0;34m\u001b[0m\u001b[0;34m\u001b[0m\u001b[0m\n\u001b[0;32m--> 710\u001b[0;31m                                        head_mask=head_mask)\n\u001b[0m\u001b[1;32m    711\u001b[0m         \u001b[0msequence_output\u001b[0m \u001b[0;34m=\u001b[0m \u001b[0mencoder_outputs\u001b[0m\u001b[0;34m[\u001b[0m\u001b[0;36m0\u001b[0m\u001b[0;34m]\u001b[0m\u001b[0;34m\u001b[0m\u001b[0;34m\u001b[0m\u001b[0m\n\u001b[1;32m    712\u001b[0m         \u001b[0mpooled_output\u001b[0m \u001b[0;34m=\u001b[0m \u001b[0mself\u001b[0m\u001b[0;34m.\u001b[0m\u001b[0mpooler\u001b[0m\u001b[0;34m(\u001b[0m\u001b[0msequence_output\u001b[0m\u001b[0;34m)\u001b[0m\u001b[0;34m\u001b[0m\u001b[0;34m\u001b[0m\u001b[0m\n",
      "\u001b[0;32m/opt/anaconda3/lib/python3.7/site-packages/torch/nn/modules/module.py\u001b[0m in \u001b[0;36m__call__\u001b[0;34m(self, *input, **kwargs)\u001b[0m\n\u001b[1;32m    539\u001b[0m             \u001b[0mresult\u001b[0m \u001b[0;34m=\u001b[0m \u001b[0mself\u001b[0m\u001b[0;34m.\u001b[0m\u001b[0m_slow_forward\u001b[0m\u001b[0;34m(\u001b[0m\u001b[0;34m*\u001b[0m\u001b[0minput\u001b[0m\u001b[0;34m,\u001b[0m \u001b[0;34m**\u001b[0m\u001b[0mkwargs\u001b[0m\u001b[0;34m)\u001b[0m\u001b[0;34m\u001b[0m\u001b[0;34m\u001b[0m\u001b[0m\n\u001b[1;32m    540\u001b[0m         \u001b[0;32melse\u001b[0m\u001b[0;34m:\u001b[0m\u001b[0;34m\u001b[0m\u001b[0;34m\u001b[0m\u001b[0m\n\u001b[0;32m--> 541\u001b[0;31m             \u001b[0mresult\u001b[0m \u001b[0;34m=\u001b[0m \u001b[0mself\u001b[0m\u001b[0;34m.\u001b[0m\u001b[0mforward\u001b[0m\u001b[0;34m(\u001b[0m\u001b[0;34m*\u001b[0m\u001b[0minput\u001b[0m\u001b[0;34m,\u001b[0m \u001b[0;34m**\u001b[0m\u001b[0mkwargs\u001b[0m\u001b[0;34m)\u001b[0m\u001b[0;34m\u001b[0m\u001b[0;34m\u001b[0m\u001b[0m\n\u001b[0m\u001b[1;32m    542\u001b[0m         \u001b[0;32mfor\u001b[0m \u001b[0mhook\u001b[0m \u001b[0;32min\u001b[0m \u001b[0mself\u001b[0m\u001b[0;34m.\u001b[0m\u001b[0m_forward_hooks\u001b[0m\u001b[0;34m.\u001b[0m\u001b[0mvalues\u001b[0m\u001b[0;34m(\u001b[0m\u001b[0;34m)\u001b[0m\u001b[0;34m:\u001b[0m\u001b[0;34m\u001b[0m\u001b[0;34m\u001b[0m\u001b[0m\n\u001b[1;32m    543\u001b[0m             \u001b[0mhook_result\u001b[0m \u001b[0;34m=\u001b[0m \u001b[0mhook\u001b[0m\u001b[0;34m(\u001b[0m\u001b[0mself\u001b[0m\u001b[0;34m,\u001b[0m \u001b[0minput\u001b[0m\u001b[0;34m,\u001b[0m \u001b[0mresult\u001b[0m\u001b[0;34m)\u001b[0m\u001b[0;34m\u001b[0m\u001b[0;34m\u001b[0m\u001b[0m\n",
      "\u001b[0;32m/opt/anaconda3/lib/python3.7/site-packages/pytorch_transformers/modeling_bert.py\u001b[0m in \u001b[0;36mforward\u001b[0;34m(self, hidden_states, attention_mask, head_mask)\u001b[0m\n\u001b[1;32m    429\u001b[0m                 \u001b[0mall_hidden_states\u001b[0m \u001b[0;34m=\u001b[0m \u001b[0mall_hidden_states\u001b[0m \u001b[0;34m+\u001b[0m \u001b[0;34m(\u001b[0m\u001b[0mhidden_states\u001b[0m\u001b[0;34m,\u001b[0m\u001b[0;34m)\u001b[0m\u001b[0;34m\u001b[0m\u001b[0;34m\u001b[0m\u001b[0m\n\u001b[1;32m    430\u001b[0m \u001b[0;34m\u001b[0m\u001b[0m\n\u001b[0;32m--> 431\u001b[0;31m             \u001b[0mlayer_outputs\u001b[0m \u001b[0;34m=\u001b[0m \u001b[0mlayer_module\u001b[0m\u001b[0;34m(\u001b[0m\u001b[0mhidden_states\u001b[0m\u001b[0;34m,\u001b[0m \u001b[0mattention_mask\u001b[0m\u001b[0;34m,\u001b[0m \u001b[0mhead_mask\u001b[0m\u001b[0;34m[\u001b[0m\u001b[0mi\u001b[0m\u001b[0;34m]\u001b[0m\u001b[0;34m)\u001b[0m\u001b[0;34m\u001b[0m\u001b[0;34m\u001b[0m\u001b[0m\n\u001b[0m\u001b[1;32m    432\u001b[0m             \u001b[0mhidden_states\u001b[0m \u001b[0;34m=\u001b[0m \u001b[0mlayer_outputs\u001b[0m\u001b[0;34m[\u001b[0m\u001b[0;36m0\u001b[0m\u001b[0;34m]\u001b[0m\u001b[0;34m\u001b[0m\u001b[0;34m\u001b[0m\u001b[0m\n\u001b[1;32m    433\u001b[0m \u001b[0;34m\u001b[0m\u001b[0m\n",
      "\u001b[0;32m/opt/anaconda3/lib/python3.7/site-packages/torch/nn/modules/module.py\u001b[0m in \u001b[0;36m__call__\u001b[0;34m(self, *input, **kwargs)\u001b[0m\n\u001b[1;32m    539\u001b[0m             \u001b[0mresult\u001b[0m \u001b[0;34m=\u001b[0m \u001b[0mself\u001b[0m\u001b[0;34m.\u001b[0m\u001b[0m_slow_forward\u001b[0m\u001b[0;34m(\u001b[0m\u001b[0;34m*\u001b[0m\u001b[0minput\u001b[0m\u001b[0;34m,\u001b[0m \u001b[0;34m**\u001b[0m\u001b[0mkwargs\u001b[0m\u001b[0;34m)\u001b[0m\u001b[0;34m\u001b[0m\u001b[0;34m\u001b[0m\u001b[0m\n\u001b[1;32m    540\u001b[0m         \u001b[0;32melse\u001b[0m\u001b[0;34m:\u001b[0m\u001b[0;34m\u001b[0m\u001b[0;34m\u001b[0m\u001b[0m\n\u001b[0;32m--> 541\u001b[0;31m             \u001b[0mresult\u001b[0m \u001b[0;34m=\u001b[0m \u001b[0mself\u001b[0m\u001b[0;34m.\u001b[0m\u001b[0mforward\u001b[0m\u001b[0;34m(\u001b[0m\u001b[0;34m*\u001b[0m\u001b[0minput\u001b[0m\u001b[0;34m,\u001b[0m \u001b[0;34m**\u001b[0m\u001b[0mkwargs\u001b[0m\u001b[0;34m)\u001b[0m\u001b[0;34m\u001b[0m\u001b[0;34m\u001b[0m\u001b[0m\n\u001b[0m\u001b[1;32m    542\u001b[0m         \u001b[0;32mfor\u001b[0m \u001b[0mhook\u001b[0m \u001b[0;32min\u001b[0m \u001b[0mself\u001b[0m\u001b[0;34m.\u001b[0m\u001b[0m_forward_hooks\u001b[0m\u001b[0;34m.\u001b[0m\u001b[0mvalues\u001b[0m\u001b[0;34m(\u001b[0m\u001b[0;34m)\u001b[0m\u001b[0;34m:\u001b[0m\u001b[0;34m\u001b[0m\u001b[0;34m\u001b[0m\u001b[0m\n\u001b[1;32m    543\u001b[0m             \u001b[0mhook_result\u001b[0m \u001b[0;34m=\u001b[0m \u001b[0mhook\u001b[0m\u001b[0;34m(\u001b[0m\u001b[0mself\u001b[0m\u001b[0;34m,\u001b[0m \u001b[0minput\u001b[0m\u001b[0;34m,\u001b[0m \u001b[0mresult\u001b[0m\u001b[0;34m)\u001b[0m\u001b[0;34m\u001b[0m\u001b[0;34m\u001b[0m\u001b[0m\n",
      "\u001b[0;32m/opt/anaconda3/lib/python3.7/site-packages/pytorch_transformers/modeling_bert.py\u001b[0m in \u001b[0;36mforward\u001b[0;34m(self, hidden_states, attention_mask, head_mask)\u001b[0m\n\u001b[1;32m    409\u001b[0m         \u001b[0mattention_outputs\u001b[0m \u001b[0;34m=\u001b[0m \u001b[0mself\u001b[0m\u001b[0;34m.\u001b[0m\u001b[0mattention\u001b[0m\u001b[0;34m(\u001b[0m\u001b[0mhidden_states\u001b[0m\u001b[0;34m,\u001b[0m \u001b[0mattention_mask\u001b[0m\u001b[0;34m,\u001b[0m \u001b[0mhead_mask\u001b[0m\u001b[0;34m)\u001b[0m\u001b[0;34m\u001b[0m\u001b[0;34m\u001b[0m\u001b[0m\n\u001b[1;32m    410\u001b[0m         \u001b[0mattention_output\u001b[0m \u001b[0;34m=\u001b[0m \u001b[0mattention_outputs\u001b[0m\u001b[0;34m[\u001b[0m\u001b[0;36m0\u001b[0m\u001b[0;34m]\u001b[0m\u001b[0;34m\u001b[0m\u001b[0;34m\u001b[0m\u001b[0m\n\u001b[0;32m--> 411\u001b[0;31m         \u001b[0mintermediate_output\u001b[0m \u001b[0;34m=\u001b[0m \u001b[0mself\u001b[0m\u001b[0;34m.\u001b[0m\u001b[0mintermediate\u001b[0m\u001b[0;34m(\u001b[0m\u001b[0mattention_output\u001b[0m\u001b[0;34m)\u001b[0m\u001b[0;34m\u001b[0m\u001b[0;34m\u001b[0m\u001b[0m\n\u001b[0m\u001b[1;32m    412\u001b[0m         \u001b[0mlayer_output\u001b[0m \u001b[0;34m=\u001b[0m \u001b[0mself\u001b[0m\u001b[0;34m.\u001b[0m\u001b[0moutput\u001b[0m\u001b[0;34m(\u001b[0m\u001b[0mintermediate_output\u001b[0m\u001b[0;34m,\u001b[0m \u001b[0mattention_output\u001b[0m\u001b[0;34m)\u001b[0m\u001b[0;34m\u001b[0m\u001b[0;34m\u001b[0m\u001b[0m\n\u001b[1;32m    413\u001b[0m         \u001b[0moutputs\u001b[0m \u001b[0;34m=\u001b[0m \u001b[0;34m(\u001b[0m\u001b[0mlayer_output\u001b[0m\u001b[0;34m,\u001b[0m\u001b[0;34m)\u001b[0m \u001b[0;34m+\u001b[0m \u001b[0mattention_outputs\u001b[0m\u001b[0;34m[\u001b[0m\u001b[0;36m1\u001b[0m\u001b[0;34m:\u001b[0m\u001b[0;34m]\u001b[0m  \u001b[0;31m# add attentions if we output them\u001b[0m\u001b[0;34m\u001b[0m\u001b[0;34m\u001b[0m\u001b[0m\n",
      "\u001b[0;32m/opt/anaconda3/lib/python3.7/site-packages/torch/nn/modules/module.py\u001b[0m in \u001b[0;36m__call__\u001b[0;34m(self, *input, **kwargs)\u001b[0m\n\u001b[1;32m    539\u001b[0m             \u001b[0mresult\u001b[0m \u001b[0;34m=\u001b[0m \u001b[0mself\u001b[0m\u001b[0;34m.\u001b[0m\u001b[0m_slow_forward\u001b[0m\u001b[0;34m(\u001b[0m\u001b[0;34m*\u001b[0m\u001b[0minput\u001b[0m\u001b[0;34m,\u001b[0m \u001b[0;34m**\u001b[0m\u001b[0mkwargs\u001b[0m\u001b[0;34m)\u001b[0m\u001b[0;34m\u001b[0m\u001b[0;34m\u001b[0m\u001b[0m\n\u001b[1;32m    540\u001b[0m         \u001b[0;32melse\u001b[0m\u001b[0;34m:\u001b[0m\u001b[0;34m\u001b[0m\u001b[0;34m\u001b[0m\u001b[0m\n\u001b[0;32m--> 541\u001b[0;31m             \u001b[0mresult\u001b[0m \u001b[0;34m=\u001b[0m \u001b[0mself\u001b[0m\u001b[0;34m.\u001b[0m\u001b[0mforward\u001b[0m\u001b[0;34m(\u001b[0m\u001b[0;34m*\u001b[0m\u001b[0minput\u001b[0m\u001b[0;34m,\u001b[0m \u001b[0;34m**\u001b[0m\u001b[0mkwargs\u001b[0m\u001b[0;34m)\u001b[0m\u001b[0;34m\u001b[0m\u001b[0;34m\u001b[0m\u001b[0m\n\u001b[0m\u001b[1;32m    542\u001b[0m         \u001b[0;32mfor\u001b[0m \u001b[0mhook\u001b[0m \u001b[0;32min\u001b[0m \u001b[0mself\u001b[0m\u001b[0;34m.\u001b[0m\u001b[0m_forward_hooks\u001b[0m\u001b[0;34m.\u001b[0m\u001b[0mvalues\u001b[0m\u001b[0;34m(\u001b[0m\u001b[0;34m)\u001b[0m\u001b[0;34m:\u001b[0m\u001b[0;34m\u001b[0m\u001b[0;34m\u001b[0m\u001b[0m\n\u001b[1;32m    543\u001b[0m             \u001b[0mhook_result\u001b[0m \u001b[0;34m=\u001b[0m \u001b[0mhook\u001b[0m\u001b[0;34m(\u001b[0m\u001b[0mself\u001b[0m\u001b[0;34m,\u001b[0m \u001b[0minput\u001b[0m\u001b[0;34m,\u001b[0m \u001b[0mresult\u001b[0m\u001b[0;34m)\u001b[0m\u001b[0;34m\u001b[0m\u001b[0;34m\u001b[0m\u001b[0m\n",
      "\u001b[0;32m/opt/anaconda3/lib/python3.7/site-packages/pytorch_transformers/modeling_bert.py\u001b[0m in \u001b[0;36mforward\u001b[0;34m(self, hidden_states)\u001b[0m\n\u001b[1;32m    381\u001b[0m     \u001b[0;32mdef\u001b[0m \u001b[0mforward\u001b[0m\u001b[0;34m(\u001b[0m\u001b[0mself\u001b[0m\u001b[0;34m,\u001b[0m \u001b[0mhidden_states\u001b[0m\u001b[0;34m)\u001b[0m\u001b[0;34m:\u001b[0m\u001b[0;34m\u001b[0m\u001b[0;34m\u001b[0m\u001b[0m\n\u001b[1;32m    382\u001b[0m         \u001b[0mhidden_states\u001b[0m \u001b[0;34m=\u001b[0m \u001b[0mself\u001b[0m\u001b[0;34m.\u001b[0m\u001b[0mdense\u001b[0m\u001b[0;34m(\u001b[0m\u001b[0mhidden_states\u001b[0m\u001b[0;34m)\u001b[0m\u001b[0;34m\u001b[0m\u001b[0;34m\u001b[0m\u001b[0m\n\u001b[0;32m--> 383\u001b[0;31m         \u001b[0mhidden_states\u001b[0m \u001b[0;34m=\u001b[0m \u001b[0mself\u001b[0m\u001b[0;34m.\u001b[0m\u001b[0mintermediate_act_fn\u001b[0m\u001b[0;34m(\u001b[0m\u001b[0mhidden_states\u001b[0m\u001b[0;34m)\u001b[0m\u001b[0;34m\u001b[0m\u001b[0;34m\u001b[0m\u001b[0m\n\u001b[0m\u001b[1;32m    384\u001b[0m         \u001b[0;32mreturn\u001b[0m \u001b[0mhidden_states\u001b[0m\u001b[0;34m\u001b[0m\u001b[0;34m\u001b[0m\u001b[0m\n\u001b[1;32m    385\u001b[0m \u001b[0;34m\u001b[0m\u001b[0m\n",
      "\u001b[0;32m/opt/anaconda3/lib/python3.7/site-packages/pytorch_transformers/modeling_bert.py\u001b[0m in \u001b[0;36mgelu\u001b[0;34m(x)\u001b[0m\n\u001b[1;32m    140\u001b[0m         \u001b[0mAlso\u001b[0m \u001b[0msee\u001b[0m \u001b[0mhttps\u001b[0m\u001b[0;34m:\u001b[0m\u001b[0;34m//\u001b[0m\u001b[0marxiv\u001b[0m\u001b[0;34m.\u001b[0m\u001b[0morg\u001b[0m\u001b[0;34m/\u001b[0m\u001b[0mabs\u001b[0m\u001b[0;34m/\u001b[0m\u001b[0;36m1606.08415\u001b[0m\u001b[0;34m\u001b[0m\u001b[0;34m\u001b[0m\u001b[0m\n\u001b[1;32m    141\u001b[0m     \"\"\"\n\u001b[0;32m--> 142\u001b[0;31m     \u001b[0;32mreturn\u001b[0m \u001b[0mx\u001b[0m \u001b[0;34m*\u001b[0m \u001b[0;36m0.5\u001b[0m \u001b[0;34m*\u001b[0m \u001b[0;34m(\u001b[0m\u001b[0;36m1.0\u001b[0m \u001b[0;34m+\u001b[0m \u001b[0mtorch\u001b[0m\u001b[0;34m.\u001b[0m\u001b[0merf\u001b[0m\u001b[0;34m(\u001b[0m\u001b[0mx\u001b[0m \u001b[0;34m/\u001b[0m \u001b[0mmath\u001b[0m\u001b[0;34m.\u001b[0m\u001b[0msqrt\u001b[0m\u001b[0;34m(\u001b[0m\u001b[0;36m2.0\u001b[0m\u001b[0;34m)\u001b[0m\u001b[0;34m)\u001b[0m\u001b[0;34m)\u001b[0m\u001b[0;34m\u001b[0m\u001b[0;34m\u001b[0m\u001b[0m\n\u001b[0m\u001b[1;32m    143\u001b[0m \u001b[0;34m\u001b[0m\u001b[0m\n\u001b[1;32m    144\u001b[0m \u001b[0;34m\u001b[0m\u001b[0m\n",
      "\u001b[0;31mRuntimeError\u001b[0m: CUDA out of memory. Tried to allocate 96.00 MiB (GPU 0; 11.17 GiB total capacity; 10.73 GiB already allocated; 28.81 MiB free; 130.09 MiB cached)"
     ]
    }
   ],
   "source": [
    "res = algo_training_size_looper_dl([100, 400], AG_NEWS, train, val, 4 )"
   ]
  },
  {
   "cell_type": "code",
   "execution_count": null,
   "metadata": {},
   "outputs": [],
   "source": [
    "res.to_csv(AG_NEWS/\"dl_Algo_size_7_4_10.csv\")"
   ]
  },
  {
   "cell_type": "code",
   "execution_count": null,
   "metadata": {},
   "outputs": [],
   "source": []
  },
  {
   "cell_type": "markdown",
   "metadata": {},
   "source": [
    "#### Dbpedia"
   ]
  },
  {
   "cell_type": "markdown",
   "metadata": {},
   "source": [
    "##### ML models"
   ]
  },
  {
   "cell_type": "code",
   "execution_count": 56,
   "metadata": {
    "ExecuteTime": {
     "end_time": "2020-01-08T05:53:35.042712Z",
     "start_time": "2020-01-08T05:53:35.018239Z"
    }
   },
   "outputs": [],
   "source": [
    "models = [RandomForestClassifier(n_estimators=200, max_depth=3, random_state=0),\n",
    "          LinearSVC(),\n",
    "          MultinomialNB(),\n",
    "          LogisticRegression(random_state=0, max_iter= 200)]\n",
    "\n",
    "df = DBPEDIA_TRAIN"
   ]
  },
  {
   "cell_type": "code",
   "execution_count": 57,
   "metadata": {
    "ExecuteTime": {
     "end_time": "2020-01-08T05:53:35.688056Z",
     "start_time": "2020-01-08T05:53:35.657603Z"
    }
   },
   "outputs": [
    {
     "data": {
      "text/html": [
       "<div>\n",
       "<style scoped>\n",
       "    .dataframe tbody tr th:only-of-type {\n",
       "        vertical-align: middle;\n",
       "    }\n",
       "\n",
       "    .dataframe tbody tr th {\n",
       "        vertical-align: top;\n",
       "    }\n",
       "\n",
       "    .dataframe thead th {\n",
       "        text-align: right;\n",
       "    }\n",
       "</style>\n",
       "<table border=\"1\" class=\"dataframe\">\n",
       "  <thead>\n",
       "    <tr style=\"text-align: right;\">\n",
       "      <th></th>\n",
       "      <th>class</th>\n",
       "      <th>title</th>\n",
       "      <th>contents</th>\n",
       "    </tr>\n",
       "  </thead>\n",
       "  <tbody>\n",
       "    <tr>\n",
       "      <th>0</th>\n",
       "      <td>Building</td>\n",
       "      <td>Peckett OQ Class</td>\n",
       "      <td>The Peckett OQ was a series of three Industri...</td>\n",
       "    </tr>\n",
       "    <tr>\n",
       "      <th>1</th>\n",
       "      <td>NaturalPlace</td>\n",
       "      <td>Yas Viceroy Abu Dhabi Hotel</td>\n",
       "      <td>Yas Viceroy Abu Dhabi Hotel is built across t...</td>\n",
       "    </tr>\n",
       "  </tbody>\n",
       "</table>\n",
       "</div>"
      ],
      "text/plain": [
       "          class                        title  \\\n",
       "0      Building             Peckett OQ Class   \n",
       "1  NaturalPlace  Yas Viceroy Abu Dhabi Hotel   \n",
       "\n",
       "                                            contents  \n",
       "0   The Peckett OQ was a series of three Industri...  \n",
       "1   Yas Viceroy Abu Dhabi Hotel is built across t...  "
      ]
     },
     "execution_count": 57,
     "metadata": {},
     "output_type": "execute_result"
    }
   ],
   "source": [
    "df.head(2)"
   ]
  },
  {
   "cell_type": "code",
   "execution_count": 58,
   "metadata": {
    "ExecuteTime": {
     "end_time": "2020-01-08T05:54:02.821168Z",
     "start_time": "2020-01-08T05:53:49.193539Z"
    }
   },
   "outputs": [],
   "source": [
    "df['category_id'] = df['class'].factorize()[0]\n",
    "\n",
    "category_id_df = df[['class', 'category_id']\n",
    "                    ].drop_duplicates().sort_values('category_id')\n",
    "category_to_id = dict(category_id_df.values)\n",
    "id_to_category = {v: k for k, v in category_to_id.items()}\n",
    "\n",
    "tfidf = TfidfVectorizer(sublinear_tf=True, norm='l2', min_df=5,\n",
    "                        encoding='latin-1', ngram_range=(1, 3), stop_words='english')\n",
    "\n",
    "# y_test has 2000 in size\n",
    "features = tfidf.fit_transform(df.contents).toarray()\n",
    "labels = df['class']\n",
    "\n",
    "x_train, x_test, y_train, y_test = train_test_split(features, labels, test_size=2000, random_state=0)"
   ]
  },
  {
   "cell_type": "code",
   "execution_count": 59,
   "metadata": {
    "ExecuteTime": {
     "end_time": "2020-01-08T06:30:43.497816Z",
     "start_time": "2020-01-08T05:54:50.018161Z"
    }
   },
   "outputs": [
    {
     "name": "stdout",
     "output_type": "stream",
     "text": [
      "finished RandomForestClassifier, 0th bootstrap of size100\n",
      "finished LinearSVC, 0th bootstrap of size100\n",
      "finished MultinomialNB, 0th bootstrap of size100\n",
      "finished LogisticRegression, 0th bootstrap of size100\n",
      "finished RandomForestClassifier, 1th bootstrap of size100\n",
      "finished LinearSVC, 1th bootstrap of size100\n",
      "finished MultinomialNB, 1th bootstrap of size100\n",
      "finished LogisticRegression, 1th bootstrap of size100\n",
      "finished RandomForestClassifier, 2th bootstrap of size100\n",
      "finished LinearSVC, 2th bootstrap of size100\n",
      "finished MultinomialNB, 2th bootstrap of size100\n",
      "finished LogisticRegression, 2th bootstrap of size100\n",
      "finished RandomForestClassifier, 3th bootstrap of size100\n",
      "finished LinearSVC, 3th bootstrap of size100\n",
      "finished MultinomialNB, 3th bootstrap of size100\n",
      "finished LogisticRegression, 3th bootstrap of size100\n",
      "finished RandomForestClassifier, 4th bootstrap of size100\n",
      "finished LinearSVC, 4th bootstrap of size100\n",
      "finished MultinomialNB, 4th bootstrap of size100\n",
      "finished LogisticRegression, 4th bootstrap of size100\n",
      "finished RandomForestClassifier, 5th bootstrap of size100\n",
      "finished LinearSVC, 5th bootstrap of size100\n",
      "finished MultinomialNB, 5th bootstrap of size100\n",
      "finished LogisticRegression, 5th bootstrap of size100\n",
      "finished RandomForestClassifier, 6th bootstrap of size100\n",
      "finished LinearSVC, 6th bootstrap of size100\n",
      "finished MultinomialNB, 6th bootstrap of size100\n",
      "finished LogisticRegression, 6th bootstrap of size100\n",
      "finished RandomForestClassifier, 7th bootstrap of size100\n",
      "finished LinearSVC, 7th bootstrap of size100\n",
      "finished MultinomialNB, 7th bootstrap of size100\n",
      "finished LogisticRegression, 7th bootstrap of size100\n",
      "finished RandomForestClassifier, 8th bootstrap of size100\n",
      "finished LinearSVC, 8th bootstrap of size100\n",
      "finished MultinomialNB, 8th bootstrap of size100\n",
      "finished LogisticRegression, 8th bootstrap of size100\n",
      "finished RandomForestClassifier, 9th bootstrap of size100\n",
      "finished LinearSVC, 9th bootstrap of size100\n",
      "finished MultinomialNB, 9th bootstrap of size100\n",
      "finished LogisticRegression, 9th bootstrap of size100\n",
      "finished RandomForestClassifier, 0th bootstrap of size200\n",
      "finished LinearSVC, 0th bootstrap of size200\n",
      "finished MultinomialNB, 0th bootstrap of size200\n",
      "finished LogisticRegression, 0th bootstrap of size200\n",
      "finished RandomForestClassifier, 1th bootstrap of size200\n",
      "finished LinearSVC, 1th bootstrap of size200\n",
      "finished MultinomialNB, 1th bootstrap of size200\n",
      "finished LogisticRegression, 1th bootstrap of size200\n",
      "finished RandomForestClassifier, 2th bootstrap of size200\n",
      "finished LinearSVC, 2th bootstrap of size200\n",
      "finished MultinomialNB, 2th bootstrap of size200\n",
      "finished LogisticRegression, 2th bootstrap of size200\n",
      "finished RandomForestClassifier, 3th bootstrap of size200\n",
      "finished LinearSVC, 3th bootstrap of size200\n",
      "finished MultinomialNB, 3th bootstrap of size200\n",
      "finished LogisticRegression, 3th bootstrap of size200\n",
      "finished RandomForestClassifier, 4th bootstrap of size200\n",
      "finished LinearSVC, 4th bootstrap of size200\n",
      "finished MultinomialNB, 4th bootstrap of size200\n",
      "finished LogisticRegression, 4th bootstrap of size200\n",
      "finished RandomForestClassifier, 5th bootstrap of size200\n",
      "finished LinearSVC, 5th bootstrap of size200\n",
      "finished MultinomialNB, 5th bootstrap of size200\n",
      "finished LogisticRegression, 5th bootstrap of size200\n",
      "finished RandomForestClassifier, 6th bootstrap of size200\n",
      "finished LinearSVC, 6th bootstrap of size200\n",
      "finished MultinomialNB, 6th bootstrap of size200\n",
      "finished LogisticRegression, 6th bootstrap of size200\n",
      "finished RandomForestClassifier, 7th bootstrap of size200\n",
      "finished LinearSVC, 7th bootstrap of size200\n",
      "finished MultinomialNB, 7th bootstrap of size200\n",
      "finished LogisticRegression, 7th bootstrap of size200\n",
      "finished RandomForestClassifier, 8th bootstrap of size200\n",
      "finished LinearSVC, 8th bootstrap of size200\n",
      "finished MultinomialNB, 8th bootstrap of size200\n",
      "finished LogisticRegression, 8th bootstrap of size200\n",
      "finished RandomForestClassifier, 9th bootstrap of size200\n",
      "finished LinearSVC, 9th bootstrap of size200\n",
      "finished MultinomialNB, 9th bootstrap of size200\n",
      "finished LogisticRegression, 9th bootstrap of size200\n",
      "finished RandomForestClassifier, 0th bootstrap of size400\n",
      "finished LinearSVC, 0th bootstrap of size400\n",
      "finished MultinomialNB, 0th bootstrap of size400\n",
      "finished LogisticRegression, 0th bootstrap of size400\n",
      "finished RandomForestClassifier, 1th bootstrap of size400\n",
      "finished LinearSVC, 1th bootstrap of size400\n",
      "finished MultinomialNB, 1th bootstrap of size400\n",
      "finished LogisticRegression, 1th bootstrap of size400\n",
      "finished RandomForestClassifier, 2th bootstrap of size400\n",
      "finished LinearSVC, 2th bootstrap of size400\n",
      "finished MultinomialNB, 2th bootstrap of size400\n",
      "finished LogisticRegression, 2th bootstrap of size400\n",
      "finished RandomForestClassifier, 3th bootstrap of size400\n",
      "finished LinearSVC, 3th bootstrap of size400\n",
      "finished MultinomialNB, 3th bootstrap of size400\n",
      "finished LogisticRegression, 3th bootstrap of size400\n",
      "finished RandomForestClassifier, 4th bootstrap of size400\n",
      "finished LinearSVC, 4th bootstrap of size400\n",
      "finished MultinomialNB, 4th bootstrap of size400\n",
      "finished LogisticRegression, 4th bootstrap of size400\n",
      "finished RandomForestClassifier, 5th bootstrap of size400\n",
      "finished LinearSVC, 5th bootstrap of size400\n",
      "finished MultinomialNB, 5th bootstrap of size400\n",
      "finished LogisticRegression, 5th bootstrap of size400\n",
      "finished RandomForestClassifier, 6th bootstrap of size400\n",
      "finished LinearSVC, 6th bootstrap of size400\n",
      "finished MultinomialNB, 6th bootstrap of size400\n",
      "finished LogisticRegression, 6th bootstrap of size400\n",
      "finished RandomForestClassifier, 7th bootstrap of size400\n",
      "finished LinearSVC, 7th bootstrap of size400\n",
      "finished MultinomialNB, 7th bootstrap of size400\n",
      "finished LogisticRegression, 7th bootstrap of size400\n",
      "finished RandomForestClassifier, 8th bootstrap of size400\n",
      "finished LinearSVC, 8th bootstrap of size400\n",
      "finished MultinomialNB, 8th bootstrap of size400\n",
      "finished LogisticRegression, 8th bootstrap of size400\n",
      "finished RandomForestClassifier, 9th bootstrap of size400\n",
      "finished LinearSVC, 9th bootstrap of size400\n",
      "finished MultinomialNB, 9th bootstrap of size400\n",
      "finished LogisticRegression, 9th bootstrap of size400\n",
      "finished RandomForestClassifier, 0th bootstrap of size800\n",
      "finished LinearSVC, 0th bootstrap of size800\n",
      "finished MultinomialNB, 0th bootstrap of size800\n",
      "finished LogisticRegression, 0th bootstrap of size800\n",
      "finished RandomForestClassifier, 1th bootstrap of size800\n",
      "finished LinearSVC, 1th bootstrap of size800\n",
      "finished MultinomialNB, 1th bootstrap of size800\n",
      "finished LogisticRegression, 1th bootstrap of size800\n",
      "finished RandomForestClassifier, 2th bootstrap of size800\n",
      "finished LinearSVC, 2th bootstrap of size800\n",
      "finished MultinomialNB, 2th bootstrap of size800\n",
      "finished LogisticRegression, 2th bootstrap of size800\n",
      "finished RandomForestClassifier, 3th bootstrap of size800\n",
      "finished LinearSVC, 3th bootstrap of size800\n",
      "finished MultinomialNB, 3th bootstrap of size800\n",
      "finished LogisticRegression, 3th bootstrap of size800\n",
      "finished RandomForestClassifier, 4th bootstrap of size800\n",
      "finished LinearSVC, 4th bootstrap of size800\n",
      "finished MultinomialNB, 4th bootstrap of size800\n",
      "finished LogisticRegression, 4th bootstrap of size800\n",
      "finished RandomForestClassifier, 5th bootstrap of size800\n",
      "finished LinearSVC, 5th bootstrap of size800\n",
      "finished MultinomialNB, 5th bootstrap of size800\n",
      "finished LogisticRegression, 5th bootstrap of size800\n",
      "finished RandomForestClassifier, 6th bootstrap of size800\n",
      "finished LinearSVC, 6th bootstrap of size800\n",
      "finished MultinomialNB, 6th bootstrap of size800\n",
      "finished LogisticRegression, 6th bootstrap of size800\n",
      "finished RandomForestClassifier, 7th bootstrap of size800\n",
      "finished LinearSVC, 7th bootstrap of size800\n",
      "finished MultinomialNB, 7th bootstrap of size800\n",
      "finished LogisticRegression, 7th bootstrap of size800\n",
      "finished RandomForestClassifier, 8th bootstrap of size800\n",
      "finished LinearSVC, 8th bootstrap of size800\n",
      "finished MultinomialNB, 8th bootstrap of size800\n",
      "finished LogisticRegression, 8th bootstrap of size800\n",
      "finished RandomForestClassifier, 9th bootstrap of size800\n",
      "finished LinearSVC, 9th bootstrap of size800\n",
      "finished MultinomialNB, 9th bootstrap of size800\n",
      "finished LogisticRegression, 9th bootstrap of size800\n"
     ]
    },
    {
     "name": "stdout",
     "output_type": "stream",
     "text": [
      "finished RandomForestClassifier, 0th bootstrap of size1600\n",
      "finished LinearSVC, 0th bootstrap of size1600\n",
      "finished MultinomialNB, 0th bootstrap of size1600\n",
      "finished LogisticRegression, 0th bootstrap of size1600\n",
      "finished RandomForestClassifier, 1th bootstrap of size1600\n",
      "finished LinearSVC, 1th bootstrap of size1600\n",
      "finished MultinomialNB, 1th bootstrap of size1600\n",
      "finished LogisticRegression, 1th bootstrap of size1600\n",
      "finished RandomForestClassifier, 2th bootstrap of size1600\n",
      "finished LinearSVC, 2th bootstrap of size1600\n",
      "finished MultinomialNB, 2th bootstrap of size1600\n",
      "finished LogisticRegression, 2th bootstrap of size1600\n",
      "finished RandomForestClassifier, 3th bootstrap of size1600\n",
      "finished LinearSVC, 3th bootstrap of size1600\n",
      "finished MultinomialNB, 3th bootstrap of size1600\n",
      "finished LogisticRegression, 3th bootstrap of size1600\n",
      "finished RandomForestClassifier, 4th bootstrap of size1600\n",
      "finished LinearSVC, 4th bootstrap of size1600\n",
      "finished MultinomialNB, 4th bootstrap of size1600\n",
      "finished LogisticRegression, 4th bootstrap of size1600\n",
      "finished RandomForestClassifier, 5th bootstrap of size1600\n",
      "finished LinearSVC, 5th bootstrap of size1600\n",
      "finished MultinomialNB, 5th bootstrap of size1600\n",
      "finished LogisticRegression, 5th bootstrap of size1600\n",
      "finished RandomForestClassifier, 6th bootstrap of size1600\n",
      "finished LinearSVC, 6th bootstrap of size1600\n",
      "finished MultinomialNB, 6th bootstrap of size1600\n",
      "finished LogisticRegression, 6th bootstrap of size1600\n",
      "finished RandomForestClassifier, 7th bootstrap of size1600\n",
      "finished LinearSVC, 7th bootstrap of size1600\n",
      "finished MultinomialNB, 7th bootstrap of size1600\n",
      "finished LogisticRegression, 7th bootstrap of size1600\n",
      "finished RandomForestClassifier, 8th bootstrap of size1600\n",
      "finished LinearSVC, 8th bootstrap of size1600\n",
      "finished MultinomialNB, 8th bootstrap of size1600\n",
      "finished LogisticRegression, 8th bootstrap of size1600\n",
      "finished RandomForestClassifier, 9th bootstrap of size1600\n",
      "finished LinearSVC, 9th bootstrap of size1600\n",
      "finished MultinomialNB, 9th bootstrap of size1600\n",
      "finished LogisticRegression, 9th bootstrap of size1600\n",
      "finished RandomForestClassifier, 0th bootstrap of size3200\n",
      "finished LinearSVC, 0th bootstrap of size3200\n",
      "finished MultinomialNB, 0th bootstrap of size3200\n",
      "finished LogisticRegression, 0th bootstrap of size3200\n",
      "finished RandomForestClassifier, 1th bootstrap of size3200\n",
      "finished LinearSVC, 1th bootstrap of size3200\n",
      "finished MultinomialNB, 1th bootstrap of size3200\n",
      "finished LogisticRegression, 1th bootstrap of size3200\n",
      "finished RandomForestClassifier, 2th bootstrap of size3200\n",
      "finished LinearSVC, 2th bootstrap of size3200\n",
      "finished MultinomialNB, 2th bootstrap of size3200\n",
      "finished LogisticRegression, 2th bootstrap of size3200\n",
      "finished RandomForestClassifier, 3th bootstrap of size3200\n",
      "finished LinearSVC, 3th bootstrap of size3200\n",
      "finished MultinomialNB, 3th bootstrap of size3200\n",
      "finished LogisticRegression, 3th bootstrap of size3200\n",
      "finished RandomForestClassifier, 4th bootstrap of size3200\n",
      "finished LinearSVC, 4th bootstrap of size3200\n",
      "finished MultinomialNB, 4th bootstrap of size3200\n",
      "finished LogisticRegression, 4th bootstrap of size3200\n",
      "finished RandomForestClassifier, 5th bootstrap of size3200\n",
      "finished LinearSVC, 5th bootstrap of size3200\n",
      "finished MultinomialNB, 5th bootstrap of size3200\n",
      "finished LogisticRegression, 5th bootstrap of size3200\n",
      "finished RandomForestClassifier, 6th bootstrap of size3200\n",
      "finished LinearSVC, 6th bootstrap of size3200\n",
      "finished MultinomialNB, 6th bootstrap of size3200\n",
      "finished LogisticRegression, 6th bootstrap of size3200\n",
      "finished RandomForestClassifier, 7th bootstrap of size3200\n",
      "finished LinearSVC, 7th bootstrap of size3200\n",
      "finished MultinomialNB, 7th bootstrap of size3200\n",
      "finished LogisticRegression, 7th bootstrap of size3200\n",
      "finished RandomForestClassifier, 8th bootstrap of size3200\n",
      "finished LinearSVC, 8th bootstrap of size3200\n",
      "finished MultinomialNB, 8th bootstrap of size3200\n",
      "finished LogisticRegression, 8th bootstrap of size3200\n",
      "finished RandomForestClassifier, 9th bootstrap of size3200\n",
      "finished LinearSVC, 9th bootstrap of size3200\n",
      "finished MultinomialNB, 9th bootstrap of size3200\n",
      "finished LogisticRegression, 9th bootstrap of size3200\n",
      "finished RandomForestClassifier, 0th bootstrap of size5000\n",
      "finished LinearSVC, 0th bootstrap of size5000\n",
      "finished MultinomialNB, 0th bootstrap of size5000\n",
      "finished LogisticRegression, 0th bootstrap of size5000\n",
      "finished RandomForestClassifier, 1th bootstrap of size5000\n",
      "finished LinearSVC, 1th bootstrap of size5000\n",
      "finished MultinomialNB, 1th bootstrap of size5000\n",
      "finished LogisticRegression, 1th bootstrap of size5000\n",
      "finished RandomForestClassifier, 2th bootstrap of size5000\n",
      "finished LinearSVC, 2th bootstrap of size5000\n",
      "finished MultinomialNB, 2th bootstrap of size5000\n",
      "finished LogisticRegression, 2th bootstrap of size5000\n",
      "finished RandomForestClassifier, 3th bootstrap of size5000\n",
      "finished LinearSVC, 3th bootstrap of size5000\n",
      "finished MultinomialNB, 3th bootstrap of size5000\n",
      "finished LogisticRegression, 3th bootstrap of size5000\n",
      "finished RandomForestClassifier, 4th bootstrap of size5000\n",
      "finished LinearSVC, 4th bootstrap of size5000\n",
      "finished MultinomialNB, 4th bootstrap of size5000\n",
      "finished LogisticRegression, 4th bootstrap of size5000\n",
      "finished RandomForestClassifier, 5th bootstrap of size5000\n",
      "finished LinearSVC, 5th bootstrap of size5000\n",
      "finished MultinomialNB, 5th bootstrap of size5000\n",
      "finished LogisticRegression, 5th bootstrap of size5000\n",
      "finished RandomForestClassifier, 6th bootstrap of size5000\n",
      "finished LinearSVC, 6th bootstrap of size5000\n",
      "finished MultinomialNB, 6th bootstrap of size5000\n",
      "finished LogisticRegression, 6th bootstrap of size5000\n",
      "finished RandomForestClassifier, 7th bootstrap of size5000\n",
      "finished LinearSVC, 7th bootstrap of size5000\n",
      "finished MultinomialNB, 7th bootstrap of size5000\n",
      "finished LogisticRegression, 7th bootstrap of size5000\n",
      "finished RandomForestClassifier, 8th bootstrap of size5000\n",
      "finished LinearSVC, 8th bootstrap of size5000\n",
      "finished MultinomialNB, 8th bootstrap of size5000\n",
      "finished LogisticRegression, 8th bootstrap of size5000\n",
      "finished RandomForestClassifier, 9th bootstrap of size5000\n",
      "finished LinearSVC, 9th bootstrap of size5000\n",
      "finished MultinomialNB, 9th bootstrap of size5000\n",
      "finished LogisticRegression, 9th bootstrap of size5000\n"
     ]
    }
   ],
   "source": [
    "res = algo_training_size_looper([100, 200, 400, 800, 1600, 3200, 5000], x_train, y_train, x_test, y_test)"
   ]
  },
  {
   "cell_type": "code",
   "execution_count": 60,
   "metadata": {
    "ExecuteTime": {
     "end_time": "2020-01-08T06:31:16.237304Z",
     "start_time": "2020-01-08T06:31:16.204226Z"
    }
   },
   "outputs": [
    {
     "data": {
      "text/html": [
       "<div>\n",
       "<style scoped>\n",
       "    .dataframe tbody tr th:only-of-type {\n",
       "        vertical-align: middle;\n",
       "    }\n",
       "\n",
       "    .dataframe tbody tr th {\n",
       "        vertical-align: top;\n",
       "    }\n",
       "\n",
       "    .dataframe thead th {\n",
       "        text-align: right;\n",
       "    }\n",
       "</style>\n",
       "<table border=\"1\" class=\"dataframe\">\n",
       "  <thead>\n",
       "    <tr style=\"text-align: right;\">\n",
       "      <th></th>\n",
       "      <th>model_name</th>\n",
       "      <th>training_size</th>\n",
       "      <th>accuracy</th>\n",
       "    </tr>\n",
       "  </thead>\n",
       "  <tbody>\n",
       "    <tr>\n",
       "      <th>0</th>\n",
       "      <td>RandomForestClassifier</td>\n",
       "      <td>100</td>\n",
       "      <td>0.1475</td>\n",
       "    </tr>\n",
       "    <tr>\n",
       "      <th>1</th>\n",
       "      <td>LinearSVC</td>\n",
       "      <td>100</td>\n",
       "      <td>0.7210</td>\n",
       "    </tr>\n",
       "    <tr>\n",
       "      <th>2</th>\n",
       "      <td>MultinomialNB</td>\n",
       "      <td>100</td>\n",
       "      <td>0.3605</td>\n",
       "    </tr>\n",
       "    <tr>\n",
       "      <th>3</th>\n",
       "      <td>LogisticRegression</td>\n",
       "      <td>100</td>\n",
       "      <td>0.3200</td>\n",
       "    </tr>\n",
       "    <tr>\n",
       "      <th>4</th>\n",
       "      <td>RandomForestClassifier</td>\n",
       "      <td>100</td>\n",
       "      <td>0.1690</td>\n",
       "    </tr>\n",
       "    <tr>\n",
       "      <th>...</th>\n",
       "      <td>...</td>\n",
       "      <td>...</td>\n",
       "      <td>...</td>\n",
       "    </tr>\n",
       "    <tr>\n",
       "      <th>275</th>\n",
       "      <td>LogisticRegression</td>\n",
       "      <td>5000</td>\n",
       "      <td>0.9525</td>\n",
       "    </tr>\n",
       "    <tr>\n",
       "      <th>276</th>\n",
       "      <td>RandomForestClassifier</td>\n",
       "      <td>5000</td>\n",
       "      <td>0.7760</td>\n",
       "    </tr>\n",
       "    <tr>\n",
       "      <th>277</th>\n",
       "      <td>LinearSVC</td>\n",
       "      <td>5000</td>\n",
       "      <td>0.9640</td>\n",
       "    </tr>\n",
       "    <tr>\n",
       "      <th>278</th>\n",
       "      <td>MultinomialNB</td>\n",
       "      <td>5000</td>\n",
       "      <td>0.9545</td>\n",
       "    </tr>\n",
       "    <tr>\n",
       "      <th>279</th>\n",
       "      <td>LogisticRegression</td>\n",
       "      <td>5000</td>\n",
       "      <td>0.9545</td>\n",
       "    </tr>\n",
       "  </tbody>\n",
       "</table>\n",
       "<p>280 rows × 3 columns</p>\n",
       "</div>"
      ],
      "text/plain": [
       "                 model_name  training_size  accuracy\n",
       "0    RandomForestClassifier            100    0.1475\n",
       "1                 LinearSVC            100    0.7210\n",
       "2             MultinomialNB            100    0.3605\n",
       "3        LogisticRegression            100    0.3200\n",
       "4    RandomForestClassifier            100    0.1690\n",
       "..                      ...            ...       ...\n",
       "275      LogisticRegression           5000    0.9525\n",
       "276  RandomForestClassifier           5000    0.7760\n",
       "277               LinearSVC           5000    0.9640\n",
       "278           MultinomialNB           5000    0.9545\n",
       "279      LogisticRegression           5000    0.9545\n",
       "\n",
       "[280 rows x 3 columns]"
      ]
     },
     "execution_count": 60,
     "metadata": {},
     "output_type": "execute_result"
    }
   ],
   "source": [
    "res"
   ]
  },
  {
   "cell_type": "code",
   "execution_count": 61,
   "metadata": {
    "ExecuteTime": {
     "end_time": "2020-01-08T06:31:23.221028Z",
     "start_time": "2020-01-08T06:31:23.193166Z"
    }
   },
   "outputs": [],
   "source": [
    "res.to_csv(DBPEDIA/\"Algo_size_7_4_10_dbpedia.csv\")"
   ]
  },
  {
   "cell_type": "code",
   "execution_count": null,
   "metadata": {},
   "outputs": [],
   "source": []
  },
  {
   "cell_type": "markdown",
   "metadata": {},
   "source": [
    "##### DL models"
   ]
  },
  {
   "cell_type": "code",
   "execution_count": null,
   "metadata": {},
   "outputs": [],
   "source": []
  },
  {
   "cell_type": "code",
   "execution_count": null,
   "metadata": {},
   "outputs": [],
   "source": []
  },
  {
   "cell_type": "markdown",
   "metadata": {},
   "source": [
    "#### Yelp "
   ]
  },
  {
   "cell_type": "markdown",
   "metadata": {
    "ExecuteTime": {
     "end_time": "2020-01-08T06:30:43.587675Z",
     "start_time": "2020-01-08T05:55:30.443Z"
    }
   },
   "source": [
    "##### ML models"
   ]
  },
  {
   "cell_type": "code",
   "execution_count": 66,
   "metadata": {
    "ExecuteTime": {
     "end_time": "2020-01-08T06:31:56.443548Z",
     "start_time": "2020-01-08T06:31:56.412632Z"
    }
   },
   "outputs": [
    {
     "data": {
      "text/html": [
       "<div>\n",
       "<style scoped>\n",
       "    .dataframe tbody tr th:only-of-type {\n",
       "        vertical-align: middle;\n",
       "    }\n",
       "\n",
       "    .dataframe tbody tr th {\n",
       "        vertical-align: top;\n",
       "    }\n",
       "\n",
       "    .dataframe thead th {\n",
       "        text-align: right;\n",
       "    }\n",
       "</style>\n",
       "<table border=\"1\" class=\"dataframe\">\n",
       "  <thead>\n",
       "    <tr style=\"text-align: right;\">\n",
       "      <th></th>\n",
       "      <th>class</th>\n",
       "      <th>title</th>\n",
       "    </tr>\n",
       "  </thead>\n",
       "  <tbody>\n",
       "    <tr>\n",
       "      <th>0</th>\n",
       "      <td>1</td>\n",
       "      <td>The apartment I rented was infested with scorp...</td>\n",
       "    </tr>\n",
       "    <tr>\n",
       "      <th>1</th>\n",
       "      <td>4</td>\n",
       "      <td>It seems like other folks had different experi...</td>\n",
       "    </tr>\n",
       "  </tbody>\n",
       "</table>\n",
       "</div>"
      ],
      "text/plain": [
       "   class                                              title\n",
       "0      1  The apartment I rented was infested with scorp...\n",
       "1      4  It seems like other folks had different experi..."
      ]
     },
     "execution_count": 66,
     "metadata": {},
     "output_type": "execute_result"
    }
   ],
   "source": [
    "models = [RandomForestClassifier(n_estimators=200, max_depth=3, random_state=0),\n",
    "          LinearSVC(),\n",
    "          MultinomialNB(),\n",
    "          LogisticRegression(random_state=0, max_iter= 200)]\n",
    "\n",
    "df = YELP_TRAIN\n",
    "df.head(2)"
   ]
  },
  {
   "cell_type": "code",
   "execution_count": 67,
   "metadata": {
    "ExecuteTime": {
     "end_time": "2020-01-08T06:32:12.531120Z",
     "start_time": "2020-01-08T06:32:01.551777Z"
    }
   },
   "outputs": [],
   "source": [
    "df['category_id'] = df['class'].factorize()[0]\n",
    "\n",
    "category_id_df = df[['class', 'category_id']\n",
    "                    ].drop_duplicates().sort_values('category_id')\n",
    "category_to_id = dict(category_id_df.values)\n",
    "id_to_category = {v: k for k, v in category_to_id.items()}\n",
    "\n",
    "tfidf = TfidfVectorizer(sublinear_tf=True, norm='l2', min_df=5,\n",
    "                        encoding='latin-1', ngram_range=(1, 3), stop_words='english')\n",
    "\n",
    "# y_test has 2000 in size\n",
    "features = tfidf.fit_transform(df.title).toarray()\n",
    "labels = df['class']\n",
    "\n",
    "x_train, x_test, y_train, y_test = train_test_split(features, labels, test_size=2000, random_state=0)"
   ]
  },
  {
   "cell_type": "code",
   "execution_count": 68,
   "metadata": {
    "ExecuteTime": {
     "end_time": "2020-01-08T06:46:24.876949Z",
     "start_time": "2020-01-08T06:32:18.600447Z"
    }
   },
   "outputs": [
    {
     "name": "stdout",
     "output_type": "stream",
     "text": [
      "finished RandomForestClassifier, 0th bootstrap of size100\n",
      "finished LinearSVC, 0th bootstrap of size100\n",
      "finished MultinomialNB, 0th bootstrap of size100\n",
      "finished LogisticRegression, 0th bootstrap of size100\n",
      "finished RandomForestClassifier, 1th bootstrap of size100\n",
      "finished LinearSVC, 1th bootstrap of size100\n",
      "finished MultinomialNB, 1th bootstrap of size100\n",
      "finished LogisticRegression, 1th bootstrap of size100\n",
      "finished RandomForestClassifier, 2th bootstrap of size100\n",
      "finished LinearSVC, 2th bootstrap of size100\n",
      "finished MultinomialNB, 2th bootstrap of size100\n",
      "finished LogisticRegression, 2th bootstrap of size100\n",
      "finished RandomForestClassifier, 3th bootstrap of size100\n",
      "finished LinearSVC, 3th bootstrap of size100\n",
      "finished MultinomialNB, 3th bootstrap of size100\n",
      "finished LogisticRegression, 3th bootstrap of size100\n",
      "finished RandomForestClassifier, 4th bootstrap of size100\n",
      "finished LinearSVC, 4th bootstrap of size100\n",
      "finished MultinomialNB, 4th bootstrap of size100\n",
      "finished LogisticRegression, 4th bootstrap of size100\n",
      "finished RandomForestClassifier, 5th bootstrap of size100\n",
      "finished LinearSVC, 5th bootstrap of size100\n",
      "finished MultinomialNB, 5th bootstrap of size100\n",
      "finished LogisticRegression, 5th bootstrap of size100\n",
      "finished RandomForestClassifier, 0th bootstrap of size200\n",
      "finished LinearSVC, 0th bootstrap of size200\n",
      "finished MultinomialNB, 0th bootstrap of size200\n",
      "finished LogisticRegression, 0th bootstrap of size200\n",
      "finished RandomForestClassifier, 1th bootstrap of size200\n",
      "finished LinearSVC, 1th bootstrap of size200\n",
      "finished MultinomialNB, 1th bootstrap of size200\n",
      "finished LogisticRegression, 1th bootstrap of size200\n",
      "finished RandomForestClassifier, 2th bootstrap of size200\n",
      "finished LinearSVC, 2th bootstrap of size200\n",
      "finished MultinomialNB, 2th bootstrap of size200\n",
      "finished LogisticRegression, 2th bootstrap of size200\n",
      "finished RandomForestClassifier, 3th bootstrap of size200\n",
      "finished LinearSVC, 3th bootstrap of size200\n",
      "finished MultinomialNB, 3th bootstrap of size200\n",
      "finished LogisticRegression, 3th bootstrap of size200\n",
      "finished RandomForestClassifier, 4th bootstrap of size200\n",
      "finished LinearSVC, 4th bootstrap of size200\n",
      "finished MultinomialNB, 4th bootstrap of size200\n",
      "finished LogisticRegression, 4th bootstrap of size200\n",
      "finished RandomForestClassifier, 5th bootstrap of size200\n",
      "finished LinearSVC, 5th bootstrap of size200\n",
      "finished MultinomialNB, 5th bootstrap of size200\n",
      "finished LogisticRegression, 5th bootstrap of size200\n",
      "finished RandomForestClassifier, 0th bootstrap of size400\n",
      "finished LinearSVC, 0th bootstrap of size400\n",
      "finished MultinomialNB, 0th bootstrap of size400\n",
      "finished LogisticRegression, 0th bootstrap of size400\n",
      "finished RandomForestClassifier, 1th bootstrap of size400\n",
      "finished LinearSVC, 1th bootstrap of size400\n",
      "finished MultinomialNB, 1th bootstrap of size400\n",
      "finished LogisticRegression, 1th bootstrap of size400\n",
      "finished RandomForestClassifier, 2th bootstrap of size400\n",
      "finished LinearSVC, 2th bootstrap of size400\n",
      "finished MultinomialNB, 2th bootstrap of size400\n",
      "finished LogisticRegression, 2th bootstrap of size400\n",
      "finished RandomForestClassifier, 3th bootstrap of size400\n",
      "finished LinearSVC, 3th bootstrap of size400\n",
      "finished MultinomialNB, 3th bootstrap of size400\n",
      "finished LogisticRegression, 3th bootstrap of size400\n",
      "finished RandomForestClassifier, 4th bootstrap of size400\n",
      "finished LinearSVC, 4th bootstrap of size400\n",
      "finished MultinomialNB, 4th bootstrap of size400\n",
      "finished LogisticRegression, 4th bootstrap of size400\n",
      "finished RandomForestClassifier, 5th bootstrap of size400\n",
      "finished LinearSVC, 5th bootstrap of size400\n",
      "finished MultinomialNB, 5th bootstrap of size400\n",
      "finished LogisticRegression, 5th bootstrap of size400\n",
      "finished RandomForestClassifier, 0th bootstrap of size800\n",
      "finished LinearSVC, 0th bootstrap of size800\n",
      "finished MultinomialNB, 0th bootstrap of size800\n",
      "finished LogisticRegression, 0th bootstrap of size800\n",
      "finished RandomForestClassifier, 1th bootstrap of size800\n",
      "finished LinearSVC, 1th bootstrap of size800\n",
      "finished MultinomialNB, 1th bootstrap of size800\n",
      "finished LogisticRegression, 1th bootstrap of size800\n",
      "finished RandomForestClassifier, 2th bootstrap of size800\n",
      "finished LinearSVC, 2th bootstrap of size800\n",
      "finished MultinomialNB, 2th bootstrap of size800\n",
      "finished LogisticRegression, 2th bootstrap of size800\n",
      "finished RandomForestClassifier, 3th bootstrap of size800\n",
      "finished LinearSVC, 3th bootstrap of size800\n",
      "finished MultinomialNB, 3th bootstrap of size800\n",
      "finished LogisticRegression, 3th bootstrap of size800\n",
      "finished RandomForestClassifier, 4th bootstrap of size800\n",
      "finished LinearSVC, 4th bootstrap of size800\n",
      "finished MultinomialNB, 4th bootstrap of size800\n",
      "finished LogisticRegression, 4th bootstrap of size800\n",
      "finished RandomForestClassifier, 5th bootstrap of size800\n",
      "finished LinearSVC, 5th bootstrap of size800\n",
      "finished MultinomialNB, 5th bootstrap of size800\n",
      "finished LogisticRegression, 5th bootstrap of size800\n",
      "finished RandomForestClassifier, 0th bootstrap of size1600\n",
      "finished LinearSVC, 0th bootstrap of size1600\n",
      "finished MultinomialNB, 0th bootstrap of size1600\n",
      "finished LogisticRegression, 0th bootstrap of size1600\n",
      "finished RandomForestClassifier, 1th bootstrap of size1600\n",
      "finished LinearSVC, 1th bootstrap of size1600\n",
      "finished MultinomialNB, 1th bootstrap of size1600\n",
      "finished LogisticRegression, 1th bootstrap of size1600\n",
      "finished RandomForestClassifier, 2th bootstrap of size1600\n",
      "finished LinearSVC, 2th bootstrap of size1600\n",
      "finished MultinomialNB, 2th bootstrap of size1600\n",
      "finished LogisticRegression, 2th bootstrap of size1600\n",
      "finished RandomForestClassifier, 3th bootstrap of size1600\n",
      "finished LinearSVC, 3th bootstrap of size1600\n",
      "finished MultinomialNB, 3th bootstrap of size1600\n",
      "finished LogisticRegression, 3th bootstrap of size1600\n",
      "finished RandomForestClassifier, 4th bootstrap of size1600\n",
      "finished LinearSVC, 4th bootstrap of size1600\n",
      "finished MultinomialNB, 4th bootstrap of size1600\n",
      "finished LogisticRegression, 4th bootstrap of size1600\n",
      "finished RandomForestClassifier, 5th bootstrap of size1600\n",
      "finished LinearSVC, 5th bootstrap of size1600\n",
      "finished MultinomialNB, 5th bootstrap of size1600\n",
      "finished LogisticRegression, 5th bootstrap of size1600\n",
      "finished RandomForestClassifier, 0th bootstrap of size3200\n",
      "finished LinearSVC, 0th bootstrap of size3200\n",
      "finished MultinomialNB, 0th bootstrap of size3200\n",
      "finished LogisticRegression, 0th bootstrap of size3200\n",
      "finished RandomForestClassifier, 1th bootstrap of size3200\n",
      "finished LinearSVC, 1th bootstrap of size3200\n",
      "finished MultinomialNB, 1th bootstrap of size3200\n",
      "finished LogisticRegression, 1th bootstrap of size3200\n",
      "finished RandomForestClassifier, 2th bootstrap of size3200\n",
      "finished LinearSVC, 2th bootstrap of size3200\n",
      "finished MultinomialNB, 2th bootstrap of size3200\n",
      "finished LogisticRegression, 2th bootstrap of size3200\n",
      "finished RandomForestClassifier, 3th bootstrap of size3200\n",
      "finished LinearSVC, 3th bootstrap of size3200\n",
      "finished MultinomialNB, 3th bootstrap of size3200\n",
      "finished LogisticRegression, 3th bootstrap of size3200\n",
      "finished RandomForestClassifier, 4th bootstrap of size3200\n",
      "finished LinearSVC, 4th bootstrap of size3200\n",
      "finished MultinomialNB, 4th bootstrap of size3200\n",
      "finished LogisticRegression, 4th bootstrap of size3200\n",
      "finished RandomForestClassifier, 5th bootstrap of size3200\n",
      "finished LinearSVC, 5th bootstrap of size3200\n",
      "finished MultinomialNB, 5th bootstrap of size3200\n",
      "finished LogisticRegression, 5th bootstrap of size3200\n",
      "finished RandomForestClassifier, 0th bootstrap of size5000\n",
      "finished LinearSVC, 0th bootstrap of size5000\n",
      "finished MultinomialNB, 0th bootstrap of size5000\n",
      "finished LogisticRegression, 0th bootstrap of size5000\n",
      "finished RandomForestClassifier, 1th bootstrap of size5000\n",
      "finished LinearSVC, 1th bootstrap of size5000\n",
      "finished MultinomialNB, 1th bootstrap of size5000\n",
      "finished LogisticRegression, 1th bootstrap of size5000\n",
      "finished RandomForestClassifier, 2th bootstrap of size5000\n",
      "finished LinearSVC, 2th bootstrap of size5000\n",
      "finished MultinomialNB, 2th bootstrap of size5000\n",
      "finished LogisticRegression, 2th bootstrap of size5000\n",
      "finished RandomForestClassifier, 3th bootstrap of size5000\n",
      "finished LinearSVC, 3th bootstrap of size5000\n"
     ]
    },
    {
     "name": "stdout",
     "output_type": "stream",
     "text": [
      "finished MultinomialNB, 3th bootstrap of size5000\n",
      "finished LogisticRegression, 3th bootstrap of size5000\n",
      "finished RandomForestClassifier, 4th bootstrap of size5000\n",
      "finished LinearSVC, 4th bootstrap of size5000\n",
      "finished MultinomialNB, 4th bootstrap of size5000\n",
      "finished LogisticRegression, 4th bootstrap of size5000\n",
      "finished RandomForestClassifier, 5th bootstrap of size5000\n",
      "finished LinearSVC, 5th bootstrap of size5000\n",
      "finished MultinomialNB, 5th bootstrap of size5000\n",
      "finished LogisticRegression, 5th bootstrap of size5000\n"
     ]
    }
   ],
   "source": [
    "res = algo_training_size_looper([100, 200, 400, 800, 1600, 3200, 5000], x_train, y_train, x_test, y_test)"
   ]
  },
  {
   "cell_type": "code",
   "execution_count": 69,
   "metadata": {
    "ExecuteTime": {
     "end_time": "2020-01-08T06:50:48.265565Z",
     "start_time": "2020-01-08T06:50:48.238551Z"
    }
   },
   "outputs": [],
   "source": [
    "res.to_csv(YELP/\"Algo_size_7_4_10_yelp.csv\")"
   ]
  },
  {
   "cell_type": "code",
   "execution_count": 70,
   "metadata": {
    "ExecuteTime": {
     "end_time": "2020-01-08T06:50:50.787388Z",
     "start_time": "2020-01-08T06:50:50.755193Z"
    }
   },
   "outputs": [
    {
     "data": {
      "text/html": [
       "<div>\n",
       "<style scoped>\n",
       "    .dataframe tbody tr th:only-of-type {\n",
       "        vertical-align: middle;\n",
       "    }\n",
       "\n",
       "    .dataframe tbody tr th {\n",
       "        vertical-align: top;\n",
       "    }\n",
       "\n",
       "    .dataframe thead th {\n",
       "        text-align: right;\n",
       "    }\n",
       "</style>\n",
       "<table border=\"1\" class=\"dataframe\">\n",
       "  <thead>\n",
       "    <tr style=\"text-align: right;\">\n",
       "      <th></th>\n",
       "      <th>model_name</th>\n",
       "      <th>training_size</th>\n",
       "      <th>accuracy</th>\n",
       "    </tr>\n",
       "  </thead>\n",
       "  <tbody>\n",
       "    <tr>\n",
       "      <th>0</th>\n",
       "      <td>RandomForestClassifier</td>\n",
       "      <td>100</td>\n",
       "      <td>0.2005</td>\n",
       "    </tr>\n",
       "    <tr>\n",
       "      <th>1</th>\n",
       "      <td>LinearSVC</td>\n",
       "      <td>100</td>\n",
       "      <td>0.3525</td>\n",
       "    </tr>\n",
       "    <tr>\n",
       "      <th>2</th>\n",
       "      <td>MultinomialNB</td>\n",
       "      <td>100</td>\n",
       "      <td>0.2335</td>\n",
       "    </tr>\n",
       "    <tr>\n",
       "      <th>3</th>\n",
       "      <td>LogisticRegression</td>\n",
       "      <td>100</td>\n",
       "      <td>0.2345</td>\n",
       "    </tr>\n",
       "    <tr>\n",
       "      <th>4</th>\n",
       "      <td>RandomForestClassifier</td>\n",
       "      <td>100</td>\n",
       "      <td>0.2185</td>\n",
       "    </tr>\n",
       "    <tr>\n",
       "      <th>...</th>\n",
       "      <td>...</td>\n",
       "      <td>...</td>\n",
       "      <td>...</td>\n",
       "    </tr>\n",
       "    <tr>\n",
       "      <th>163</th>\n",
       "      <td>LogisticRegression</td>\n",
       "      <td>5000</td>\n",
       "      <td>0.4800</td>\n",
       "    </tr>\n",
       "    <tr>\n",
       "      <th>164</th>\n",
       "      <td>RandomForestClassifier</td>\n",
       "      <td>5000</td>\n",
       "      <td>0.3995</td>\n",
       "    </tr>\n",
       "    <tr>\n",
       "      <th>165</th>\n",
       "      <td>LinearSVC</td>\n",
       "      <td>5000</td>\n",
       "      <td>0.4680</td>\n",
       "    </tr>\n",
       "    <tr>\n",
       "      <th>166</th>\n",
       "      <td>MultinomialNB</td>\n",
       "      <td>5000</td>\n",
       "      <td>0.4555</td>\n",
       "    </tr>\n",
       "    <tr>\n",
       "      <th>167</th>\n",
       "      <td>LogisticRegression</td>\n",
       "      <td>5000</td>\n",
       "      <td>0.4635</td>\n",
       "    </tr>\n",
       "  </tbody>\n",
       "</table>\n",
       "<p>168 rows × 3 columns</p>\n",
       "</div>"
      ],
      "text/plain": [
       "                 model_name  training_size  accuracy\n",
       "0    RandomForestClassifier            100    0.2005\n",
       "1                 LinearSVC            100    0.3525\n",
       "2             MultinomialNB            100    0.2335\n",
       "3        LogisticRegression            100    0.2345\n",
       "4    RandomForestClassifier            100    0.2185\n",
       "..                      ...            ...       ...\n",
       "163      LogisticRegression           5000    0.4800\n",
       "164  RandomForestClassifier           5000    0.3995\n",
       "165               LinearSVC           5000    0.4680\n",
       "166           MultinomialNB           5000    0.4555\n",
       "167      LogisticRegression           5000    0.4635\n",
       "\n",
       "[168 rows x 3 columns]"
      ]
     },
     "execution_count": 70,
     "metadata": {},
     "output_type": "execute_result"
    }
   ],
   "source": [
    "res"
   ]
  },
  {
   "cell_type": "markdown",
   "metadata": {},
   "source": [
    "#### Amazon"
   ]
  },
  {
   "cell_type": "markdown",
   "metadata": {},
   "source": [
    "##### ML models"
   ]
  },
  {
   "cell_type": "code",
   "execution_count": 78,
   "metadata": {
    "ExecuteTime": {
     "end_time": "2020-01-08T06:53:11.841608Z",
     "start_time": "2020-01-08T06:53:11.810439Z"
    }
   },
   "outputs": [
    {
     "data": {
      "text/html": [
       "<div>\n",
       "<style scoped>\n",
       "    .dataframe tbody tr th:only-of-type {\n",
       "        vertical-align: middle;\n",
       "    }\n",
       "\n",
       "    .dataframe tbody tr th {\n",
       "        vertical-align: top;\n",
       "    }\n",
       "\n",
       "    .dataframe thead th {\n",
       "        text-align: right;\n",
       "    }\n",
       "</style>\n",
       "<table border=\"1\" class=\"dataframe\">\n",
       "  <thead>\n",
       "    <tr style=\"text-align: right;\">\n",
       "      <th></th>\n",
       "      <th>class</th>\n",
       "      <th>title</th>\n",
       "      <th>review</th>\n",
       "    </tr>\n",
       "  </thead>\n",
       "  <tbody>\n",
       "    <tr>\n",
       "      <th>0</th>\n",
       "      <td>1</td>\n",
       "      <td>Kindle version only</td>\n",
       "      <td>From reading the other comments the book sound...</td>\n",
       "    </tr>\n",
       "    <tr>\n",
       "      <th>1</th>\n",
       "      <td>4</td>\n",
       "      <td>A Perfect Family Film!!!</td>\n",
       "      <td>This was a really good movie about a little gi...</td>\n",
       "    </tr>\n",
       "  </tbody>\n",
       "</table>\n",
       "</div>"
      ],
      "text/plain": [
       "   class                     title  \\\n",
       "0      1       Kindle version only   \n",
       "1      4  A Perfect Family Film!!!   \n",
       "\n",
       "                                              review  \n",
       "0  From reading the other comments the book sound...  \n",
       "1  This was a really good movie about a little gi...  "
      ]
     },
     "execution_count": 78,
     "metadata": {},
     "output_type": "execute_result"
    }
   ],
   "source": [
    "models = [RandomForestClassifier(n_estimators=200, max_depth=3, random_state=0),\n",
    "          LinearSVC(),\n",
    "          MultinomialNB(),\n",
    "          LogisticRegression(random_state=0, max_iter= 200)]\n",
    "\n",
    "df = AMAZON_TRAIN\n",
    "df.head(2)"
   ]
  },
  {
   "cell_type": "code",
   "execution_count": 83,
   "metadata": {
    "ExecuteTime": {
     "end_time": "2020-01-08T06:54:38.918829Z",
     "start_time": "2020-01-08T06:54:32.896201Z"
    }
   },
   "outputs": [],
   "source": [
    "\n",
    "tfidf = TfidfVectorizer(sublinear_tf=True, norm='l2', min_df=5,\n",
    "                        encoding='latin-1', ngram_range=(1, 3), stop_words='english')\n",
    "\n",
    "# y_test has 2000 in size\n",
    "features = tfidf.fit_transform(df.review).toarray()\n",
    "labels = df['class']\n",
    "\n",
    "x_train, x_test, y_train, y_test = train_test_split(features, labels, test_size=2000, random_state=0)"
   ]
  },
  {
   "cell_type": "code",
   "execution_count": 84,
   "metadata": {
    "ExecuteTime": {
     "end_time": "2020-01-08T07:04:50.835492Z",
     "start_time": "2020-01-08T06:55:36.384127Z"
    }
   },
   "outputs": [
    {
     "name": "stdout",
     "output_type": "stream",
     "text": [
      "finished RandomForestClassifier, 0th bootstrap of size100\n",
      "finished LinearSVC, 0th bootstrap of size100\n",
      "finished MultinomialNB, 0th bootstrap of size100\n",
      "finished LogisticRegression, 0th bootstrap of size100\n",
      "finished RandomForestClassifier, 1th bootstrap of size100\n",
      "finished LinearSVC, 1th bootstrap of size100\n",
      "finished MultinomialNB, 1th bootstrap of size100\n",
      "finished LogisticRegression, 1th bootstrap of size100\n",
      "finished RandomForestClassifier, 2th bootstrap of size100\n",
      "finished LinearSVC, 2th bootstrap of size100\n",
      "finished MultinomialNB, 2th bootstrap of size100\n",
      "finished LogisticRegression, 2th bootstrap of size100\n",
      "finished RandomForestClassifier, 3th bootstrap of size100\n",
      "finished LinearSVC, 3th bootstrap of size100\n",
      "finished MultinomialNB, 3th bootstrap of size100\n",
      "finished LogisticRegression, 3th bootstrap of size100\n",
      "finished RandomForestClassifier, 4th bootstrap of size100\n",
      "finished LinearSVC, 4th bootstrap of size100\n",
      "finished MultinomialNB, 4th bootstrap of size100\n",
      "finished LogisticRegression, 4th bootstrap of size100\n",
      "finished RandomForestClassifier, 5th bootstrap of size100\n",
      "finished LinearSVC, 5th bootstrap of size100\n",
      "finished MultinomialNB, 5th bootstrap of size100\n",
      "finished LogisticRegression, 5th bootstrap of size100\n",
      "finished RandomForestClassifier, 0th bootstrap of size200\n",
      "finished LinearSVC, 0th bootstrap of size200\n",
      "finished MultinomialNB, 0th bootstrap of size200\n",
      "finished LogisticRegression, 0th bootstrap of size200\n",
      "finished RandomForestClassifier, 1th bootstrap of size200\n",
      "finished LinearSVC, 1th bootstrap of size200\n",
      "finished MultinomialNB, 1th bootstrap of size200\n",
      "finished LogisticRegression, 1th bootstrap of size200\n",
      "finished RandomForestClassifier, 2th bootstrap of size200\n",
      "finished LinearSVC, 2th bootstrap of size200\n",
      "finished MultinomialNB, 2th bootstrap of size200\n",
      "finished LogisticRegression, 2th bootstrap of size200\n",
      "finished RandomForestClassifier, 3th bootstrap of size200\n",
      "finished LinearSVC, 3th bootstrap of size200\n",
      "finished MultinomialNB, 3th bootstrap of size200\n",
      "finished LogisticRegression, 3th bootstrap of size200\n",
      "finished RandomForestClassifier, 4th bootstrap of size200\n",
      "finished LinearSVC, 4th bootstrap of size200\n",
      "finished MultinomialNB, 4th bootstrap of size200\n",
      "finished LogisticRegression, 4th bootstrap of size200\n",
      "finished RandomForestClassifier, 5th bootstrap of size200\n",
      "finished LinearSVC, 5th bootstrap of size200\n",
      "finished MultinomialNB, 5th bootstrap of size200\n",
      "finished LogisticRegression, 5th bootstrap of size200\n",
      "finished RandomForestClassifier, 0th bootstrap of size400\n",
      "finished LinearSVC, 0th bootstrap of size400\n",
      "finished MultinomialNB, 0th bootstrap of size400\n",
      "finished LogisticRegression, 0th bootstrap of size400\n",
      "finished RandomForestClassifier, 1th bootstrap of size400\n",
      "finished LinearSVC, 1th bootstrap of size400\n",
      "finished MultinomialNB, 1th bootstrap of size400\n",
      "finished LogisticRegression, 1th bootstrap of size400\n",
      "finished RandomForestClassifier, 2th bootstrap of size400\n",
      "finished LinearSVC, 2th bootstrap of size400\n",
      "finished MultinomialNB, 2th bootstrap of size400\n",
      "finished LogisticRegression, 2th bootstrap of size400\n",
      "finished RandomForestClassifier, 3th bootstrap of size400\n",
      "finished LinearSVC, 3th bootstrap of size400\n",
      "finished MultinomialNB, 3th bootstrap of size400\n",
      "finished LogisticRegression, 3th bootstrap of size400\n",
      "finished RandomForestClassifier, 4th bootstrap of size400\n",
      "finished LinearSVC, 4th bootstrap of size400\n",
      "finished MultinomialNB, 4th bootstrap of size400\n",
      "finished LogisticRegression, 4th bootstrap of size400\n",
      "finished RandomForestClassifier, 5th bootstrap of size400\n",
      "finished LinearSVC, 5th bootstrap of size400\n",
      "finished MultinomialNB, 5th bootstrap of size400\n",
      "finished LogisticRegression, 5th bootstrap of size400\n",
      "finished RandomForestClassifier, 0th bootstrap of size800\n",
      "finished LinearSVC, 0th bootstrap of size800\n",
      "finished MultinomialNB, 0th bootstrap of size800\n",
      "finished LogisticRegression, 0th bootstrap of size800\n",
      "finished RandomForestClassifier, 1th bootstrap of size800\n",
      "finished LinearSVC, 1th bootstrap of size800\n",
      "finished MultinomialNB, 1th bootstrap of size800\n",
      "finished LogisticRegression, 1th bootstrap of size800\n",
      "finished RandomForestClassifier, 2th bootstrap of size800\n",
      "finished LinearSVC, 2th bootstrap of size800\n",
      "finished MultinomialNB, 2th bootstrap of size800\n",
      "finished LogisticRegression, 2th bootstrap of size800\n",
      "finished RandomForestClassifier, 3th bootstrap of size800\n",
      "finished LinearSVC, 3th bootstrap of size800\n",
      "finished MultinomialNB, 3th bootstrap of size800\n",
      "finished LogisticRegression, 3th bootstrap of size800\n",
      "finished RandomForestClassifier, 4th bootstrap of size800\n",
      "finished LinearSVC, 4th bootstrap of size800\n",
      "finished MultinomialNB, 4th bootstrap of size800\n",
      "finished LogisticRegression, 4th bootstrap of size800\n",
      "finished RandomForestClassifier, 5th bootstrap of size800\n",
      "finished LinearSVC, 5th bootstrap of size800\n",
      "finished MultinomialNB, 5th bootstrap of size800\n",
      "finished LogisticRegression, 5th bootstrap of size800\n",
      "finished RandomForestClassifier, 0th bootstrap of size1600\n",
      "finished LinearSVC, 0th bootstrap of size1600\n",
      "finished MultinomialNB, 0th bootstrap of size1600\n",
      "finished LogisticRegression, 0th bootstrap of size1600\n",
      "finished RandomForestClassifier, 1th bootstrap of size1600\n",
      "finished LinearSVC, 1th bootstrap of size1600\n",
      "finished MultinomialNB, 1th bootstrap of size1600\n",
      "finished LogisticRegression, 1th bootstrap of size1600\n",
      "finished RandomForestClassifier, 2th bootstrap of size1600\n",
      "finished LinearSVC, 2th bootstrap of size1600\n",
      "finished MultinomialNB, 2th bootstrap of size1600\n",
      "finished LogisticRegression, 2th bootstrap of size1600\n",
      "finished RandomForestClassifier, 3th bootstrap of size1600\n",
      "finished LinearSVC, 3th bootstrap of size1600\n",
      "finished MultinomialNB, 3th bootstrap of size1600\n",
      "finished LogisticRegression, 3th bootstrap of size1600\n",
      "finished RandomForestClassifier, 4th bootstrap of size1600\n",
      "finished LinearSVC, 4th bootstrap of size1600\n",
      "finished MultinomialNB, 4th bootstrap of size1600\n",
      "finished LogisticRegression, 4th bootstrap of size1600\n",
      "finished RandomForestClassifier, 5th bootstrap of size1600\n",
      "finished LinearSVC, 5th bootstrap of size1600\n",
      "finished MultinomialNB, 5th bootstrap of size1600\n",
      "finished LogisticRegression, 5th bootstrap of size1600\n",
      "finished RandomForestClassifier, 0th bootstrap of size3200\n",
      "finished LinearSVC, 0th bootstrap of size3200\n",
      "finished MultinomialNB, 0th bootstrap of size3200\n",
      "finished LogisticRegression, 0th bootstrap of size3200\n",
      "finished RandomForestClassifier, 1th bootstrap of size3200\n",
      "finished LinearSVC, 1th bootstrap of size3200\n",
      "finished MultinomialNB, 1th bootstrap of size3200\n",
      "finished LogisticRegression, 1th bootstrap of size3200\n",
      "finished RandomForestClassifier, 2th bootstrap of size3200\n",
      "finished LinearSVC, 2th bootstrap of size3200\n",
      "finished MultinomialNB, 2th bootstrap of size3200\n",
      "finished LogisticRegression, 2th bootstrap of size3200\n",
      "finished RandomForestClassifier, 3th bootstrap of size3200\n",
      "finished LinearSVC, 3th bootstrap of size3200\n",
      "finished MultinomialNB, 3th bootstrap of size3200\n",
      "finished LogisticRegression, 3th bootstrap of size3200\n",
      "finished RandomForestClassifier, 4th bootstrap of size3200\n",
      "finished LinearSVC, 4th bootstrap of size3200\n",
      "finished MultinomialNB, 4th bootstrap of size3200\n",
      "finished LogisticRegression, 4th bootstrap of size3200\n",
      "finished RandomForestClassifier, 5th bootstrap of size3200\n",
      "finished LinearSVC, 5th bootstrap of size3200\n",
      "finished MultinomialNB, 5th bootstrap of size3200\n",
      "finished LogisticRegression, 5th bootstrap of size3200\n",
      "finished RandomForestClassifier, 0th bootstrap of size5000\n",
      "finished LinearSVC, 0th bootstrap of size5000\n",
      "finished MultinomialNB, 0th bootstrap of size5000\n",
      "finished LogisticRegression, 0th bootstrap of size5000\n",
      "finished RandomForestClassifier, 1th bootstrap of size5000\n",
      "finished LinearSVC, 1th bootstrap of size5000\n",
      "finished MultinomialNB, 1th bootstrap of size5000\n",
      "finished LogisticRegression, 1th bootstrap of size5000\n",
      "finished RandomForestClassifier, 2th bootstrap of size5000\n",
      "finished LinearSVC, 2th bootstrap of size5000\n",
      "finished MultinomialNB, 2th bootstrap of size5000\n",
      "finished LogisticRegression, 2th bootstrap of size5000\n",
      "finished RandomForestClassifier, 3th bootstrap of size5000\n",
      "finished LinearSVC, 3th bootstrap of size5000\n"
     ]
    },
    {
     "name": "stdout",
     "output_type": "stream",
     "text": [
      "finished MultinomialNB, 3th bootstrap of size5000\n",
      "finished LogisticRegression, 3th bootstrap of size5000\n",
      "finished RandomForestClassifier, 4th bootstrap of size5000\n",
      "finished LinearSVC, 4th bootstrap of size5000\n",
      "finished MultinomialNB, 4th bootstrap of size5000\n",
      "finished LogisticRegression, 4th bootstrap of size5000\n",
      "finished RandomForestClassifier, 5th bootstrap of size5000\n",
      "finished LinearSVC, 5th bootstrap of size5000\n",
      "finished MultinomialNB, 5th bootstrap of size5000\n",
      "finished LogisticRegression, 5th bootstrap of size5000\n"
     ]
    }
   ],
   "source": [
    "res = algo_training_size_looper([100, 200, 400, 800, 1600, 3200, 5000], x_train, y_train, x_test, y_test)"
   ]
  },
  {
   "cell_type": "code",
   "execution_count": 85,
   "metadata": {
    "ExecuteTime": {
     "end_time": "2020-01-08T07:06:58.738393Z",
     "start_time": "2020-01-08T07:06:58.711029Z"
    }
   },
   "outputs": [],
   "source": [
    "res.to_csv(AMAZON/\"Algo_size_7_4_10_amazon.csv\")"
   ]
  },
  {
   "cell_type": "code",
   "execution_count": 86,
   "metadata": {
    "ExecuteTime": {
     "end_time": "2020-01-08T07:07:07.484034Z",
     "start_time": "2020-01-08T07:07:07.452206Z"
    }
   },
   "outputs": [
    {
     "data": {
      "text/html": [
       "<div>\n",
       "<style scoped>\n",
       "    .dataframe tbody tr th:only-of-type {\n",
       "        vertical-align: middle;\n",
       "    }\n",
       "\n",
       "    .dataframe tbody tr th {\n",
       "        vertical-align: top;\n",
       "    }\n",
       "\n",
       "    .dataframe thead th {\n",
       "        text-align: right;\n",
       "    }\n",
       "</style>\n",
       "<table border=\"1\" class=\"dataframe\">\n",
       "  <thead>\n",
       "    <tr style=\"text-align: right;\">\n",
       "      <th></th>\n",
       "      <th>model_name</th>\n",
       "      <th>training_size</th>\n",
       "      <th>accuracy</th>\n",
       "    </tr>\n",
       "  </thead>\n",
       "  <tbody>\n",
       "    <tr>\n",
       "      <th>0</th>\n",
       "      <td>RandomForestClassifier</td>\n",
       "      <td>100</td>\n",
       "      <td>0.2215</td>\n",
       "    </tr>\n",
       "    <tr>\n",
       "      <th>1</th>\n",
       "      <td>LinearSVC</td>\n",
       "      <td>100</td>\n",
       "      <td>0.2645</td>\n",
       "    </tr>\n",
       "    <tr>\n",
       "      <th>2</th>\n",
       "      <td>MultinomialNB</td>\n",
       "      <td>100</td>\n",
       "      <td>0.2300</td>\n",
       "    </tr>\n",
       "    <tr>\n",
       "      <th>3</th>\n",
       "      <td>LogisticRegression</td>\n",
       "      <td>100</td>\n",
       "      <td>0.2335</td>\n",
       "    </tr>\n",
       "    <tr>\n",
       "      <th>4</th>\n",
       "      <td>RandomForestClassifier</td>\n",
       "      <td>100</td>\n",
       "      <td>0.2085</td>\n",
       "    </tr>\n",
       "  </tbody>\n",
       "</table>\n",
       "</div>"
      ],
      "text/plain": [
       "               model_name  training_size  accuracy\n",
       "0  RandomForestClassifier            100    0.2215\n",
       "1               LinearSVC            100    0.2645\n",
       "2           MultinomialNB            100    0.2300\n",
       "3      LogisticRegression            100    0.2335\n",
       "4  RandomForestClassifier            100    0.2085"
      ]
     },
     "execution_count": 86,
     "metadata": {},
     "output_type": "execute_result"
    }
   ],
   "source": [
    "res.head()"
   ]
  },
  {
   "cell_type": "markdown",
   "metadata": {},
   "source": [
    "##### DL models"
   ]
  },
  {
   "cell_type": "code",
   "execution_count": null,
   "metadata": {},
   "outputs": [],
   "source": []
  },
  {
   "cell_type": "code",
   "execution_count": null,
   "metadata": {},
   "outputs": [],
   "source": []
  },
  {
   "cell_type": "code",
   "execution_count": null,
   "metadata": {},
   "outputs": [],
   "source": []
  },
  {
   "cell_type": "markdown",
   "metadata": {},
   "source": [
    "#### Customer complaints"
   ]
  },
  {
   "cell_type": "markdown",
   "metadata": {},
   "source": [
    "##### ML models"
   ]
  },
  {
   "cell_type": "code",
   "execution_count": 90,
   "metadata": {
    "ExecuteTime": {
     "end_time": "2020-01-08T07:08:14.223351Z",
     "start_time": "2020-01-08T07:08:14.190120Z"
    }
   },
   "outputs": [
    {
     "data": {
      "text/html": [
       "<div>\n",
       "<style scoped>\n",
       "    .dataframe tbody tr th:only-of-type {\n",
       "        vertical-align: middle;\n",
       "    }\n",
       "\n",
       "    .dataframe tbody tr th {\n",
       "        vertical-align: top;\n",
       "    }\n",
       "\n",
       "    .dataframe thead th {\n",
       "        text-align: right;\n",
       "    }\n",
       "</style>\n",
       "<table border=\"1\" class=\"dataframe\">\n",
       "  <thead>\n",
       "    <tr style=\"text-align: right;\">\n",
       "      <th></th>\n",
       "      <th>product</th>\n",
       "      <th>complaint</th>\n",
       "    </tr>\n",
       "  </thead>\n",
       "  <tbody>\n",
       "    <tr>\n",
       "      <th>0</th>\n",
       "      <td>Debt collection</td>\n",
       "      <td>For over a month, I have been getting calls fr...</td>\n",
       "    </tr>\n",
       "    <tr>\n",
       "      <th>1</th>\n",
       "      <td>Credit reporting, credit repair services, or o...</td>\n",
       "      <td>XX/XX/XXXX, a series on letters to XXXX XXXX X...</td>\n",
       "    </tr>\n",
       "  </tbody>\n",
       "</table>\n",
       "</div>"
      ],
      "text/plain": [
       "                                             product  \\\n",
       "0                                    Debt collection   \n",
       "1  Credit reporting, credit repair services, or o...   \n",
       "\n",
       "                                           complaint  \n",
       "0  For over a month, I have been getting calls fr...  \n",
       "1  XX/XX/XXXX, a series on letters to XXXX XXXX X...  "
      ]
     },
     "execution_count": 90,
     "metadata": {},
     "output_type": "execute_result"
    }
   ],
   "source": [
    "models = [RandomForestClassifier(n_estimators=200, max_depth=3, random_state=0),\n",
    "          LinearSVC(),\n",
    "          MultinomialNB(),\n",
    "          LogisticRegression(random_state=0, max_iter= 200)]\n",
    "\n",
    "df = CUSTOMER_TRAIN\n",
    "df.head(2)"
   ]
  },
  {
   "cell_type": "code",
   "execution_count": 91,
   "metadata": {
    "ExecuteTime": {
     "end_time": "2020-01-08T07:09:22.373108Z",
     "start_time": "2020-01-08T07:09:08.659405Z"
    }
   },
   "outputs": [],
   "source": [
    "\n",
    "tfidf = TfidfVectorizer(sublinear_tf=True, norm='l2', min_df=5,\n",
    "                        encoding='latin-1', ngram_range=(1, 3), stop_words='english')\n",
    "\n",
    "# y_test has 2000 in size\n",
    "features = tfidf.fit_transform(df.complaint).toarray()\n",
    "labels = df['product']\n",
    "\n",
    "x_train, x_test, y_train, y_test = train_test_split(features, labels, test_size=2000, random_state=0)"
   ]
  },
  {
   "cell_type": "code",
   "execution_count": 92,
   "metadata": {
    "ExecuteTime": {
     "end_time": "2020-01-08T07:49:52.243161Z",
     "start_time": "2020-01-08T07:09:25.501039Z"
    }
   },
   "outputs": [
    {
     "name": "stdout",
     "output_type": "stream",
     "text": [
      "finished RandomForestClassifier, 0th bootstrap of size100\n",
      "finished LinearSVC, 0th bootstrap of size100\n",
      "finished MultinomialNB, 0th bootstrap of size100\n",
      "finished LogisticRegression, 0th bootstrap of size100\n",
      "finished RandomForestClassifier, 1th bootstrap of size100\n",
      "finished LinearSVC, 1th bootstrap of size100\n",
      "finished MultinomialNB, 1th bootstrap of size100\n",
      "finished LogisticRegression, 1th bootstrap of size100\n",
      "finished RandomForestClassifier, 2th bootstrap of size100\n",
      "finished LinearSVC, 2th bootstrap of size100\n",
      "finished MultinomialNB, 2th bootstrap of size100\n",
      "finished LogisticRegression, 2th bootstrap of size100\n",
      "finished RandomForestClassifier, 3th bootstrap of size100\n",
      "finished LinearSVC, 3th bootstrap of size100\n",
      "finished MultinomialNB, 3th bootstrap of size100\n",
      "finished LogisticRegression, 3th bootstrap of size100\n",
      "finished RandomForestClassifier, 4th bootstrap of size100\n",
      "finished LinearSVC, 4th bootstrap of size100\n",
      "finished MultinomialNB, 4th bootstrap of size100\n",
      "finished LogisticRegression, 4th bootstrap of size100\n",
      "finished RandomForestClassifier, 5th bootstrap of size100\n",
      "finished LinearSVC, 5th bootstrap of size100\n",
      "finished MultinomialNB, 5th bootstrap of size100\n",
      "finished LogisticRegression, 5th bootstrap of size100\n",
      "finished RandomForestClassifier, 0th bootstrap of size200\n",
      "finished LinearSVC, 0th bootstrap of size200\n",
      "finished MultinomialNB, 0th bootstrap of size200\n",
      "finished LogisticRegression, 0th bootstrap of size200\n",
      "finished RandomForestClassifier, 1th bootstrap of size200\n",
      "finished LinearSVC, 1th bootstrap of size200\n",
      "finished MultinomialNB, 1th bootstrap of size200\n",
      "finished LogisticRegression, 1th bootstrap of size200\n",
      "finished RandomForestClassifier, 2th bootstrap of size200\n",
      "finished LinearSVC, 2th bootstrap of size200\n",
      "finished MultinomialNB, 2th bootstrap of size200\n",
      "finished LogisticRegression, 2th bootstrap of size200\n",
      "finished RandomForestClassifier, 3th bootstrap of size200\n",
      "finished LinearSVC, 3th bootstrap of size200\n",
      "finished MultinomialNB, 3th bootstrap of size200\n",
      "finished LogisticRegression, 3th bootstrap of size200\n",
      "finished RandomForestClassifier, 4th bootstrap of size200\n",
      "finished LinearSVC, 4th bootstrap of size200\n",
      "finished MultinomialNB, 4th bootstrap of size200\n",
      "finished LogisticRegression, 4th bootstrap of size200\n",
      "finished RandomForestClassifier, 5th bootstrap of size200\n",
      "finished LinearSVC, 5th bootstrap of size200\n",
      "finished MultinomialNB, 5th bootstrap of size200\n",
      "finished LogisticRegression, 5th bootstrap of size200\n",
      "finished RandomForestClassifier, 0th bootstrap of size400\n",
      "finished LinearSVC, 0th bootstrap of size400\n",
      "finished MultinomialNB, 0th bootstrap of size400\n",
      "finished LogisticRegression, 0th bootstrap of size400\n",
      "finished RandomForestClassifier, 1th bootstrap of size400\n",
      "finished LinearSVC, 1th bootstrap of size400\n",
      "finished MultinomialNB, 1th bootstrap of size400\n",
      "finished LogisticRegression, 1th bootstrap of size400\n",
      "finished RandomForestClassifier, 2th bootstrap of size400\n",
      "finished LinearSVC, 2th bootstrap of size400\n",
      "finished MultinomialNB, 2th bootstrap of size400\n",
      "finished LogisticRegression, 2th bootstrap of size400\n",
      "finished RandomForestClassifier, 3th bootstrap of size400\n",
      "finished LinearSVC, 3th bootstrap of size400\n",
      "finished MultinomialNB, 3th bootstrap of size400\n",
      "finished LogisticRegression, 3th bootstrap of size400\n",
      "finished RandomForestClassifier, 4th bootstrap of size400\n",
      "finished LinearSVC, 4th bootstrap of size400\n",
      "finished MultinomialNB, 4th bootstrap of size400\n",
      "finished LogisticRegression, 4th bootstrap of size400\n",
      "finished RandomForestClassifier, 5th bootstrap of size400\n",
      "finished LinearSVC, 5th bootstrap of size400\n",
      "finished MultinomialNB, 5th bootstrap of size400\n",
      "finished LogisticRegression, 5th bootstrap of size400\n",
      "finished RandomForestClassifier, 0th bootstrap of size800\n",
      "finished LinearSVC, 0th bootstrap of size800\n",
      "finished MultinomialNB, 0th bootstrap of size800\n",
      "finished LogisticRegression, 0th bootstrap of size800\n",
      "finished RandomForestClassifier, 1th bootstrap of size800\n",
      "finished LinearSVC, 1th bootstrap of size800\n",
      "finished MultinomialNB, 1th bootstrap of size800\n",
      "finished LogisticRegression, 1th bootstrap of size800\n",
      "finished RandomForestClassifier, 2th bootstrap of size800\n",
      "finished LinearSVC, 2th bootstrap of size800\n",
      "finished MultinomialNB, 2th bootstrap of size800\n",
      "finished LogisticRegression, 2th bootstrap of size800\n",
      "finished RandomForestClassifier, 3th bootstrap of size800\n",
      "finished LinearSVC, 3th bootstrap of size800\n",
      "finished MultinomialNB, 3th bootstrap of size800\n",
      "finished LogisticRegression, 3th bootstrap of size800\n",
      "finished RandomForestClassifier, 4th bootstrap of size800\n",
      "finished LinearSVC, 4th bootstrap of size800\n",
      "finished MultinomialNB, 4th bootstrap of size800\n",
      "finished LogisticRegression, 4th bootstrap of size800\n",
      "finished RandomForestClassifier, 5th bootstrap of size800\n",
      "finished LinearSVC, 5th bootstrap of size800\n",
      "finished MultinomialNB, 5th bootstrap of size800\n",
      "finished LogisticRegression, 5th bootstrap of size800\n",
      "finished RandomForestClassifier, 0th bootstrap of size1600\n",
      "finished LinearSVC, 0th bootstrap of size1600\n",
      "finished MultinomialNB, 0th bootstrap of size1600\n",
      "finished LogisticRegression, 0th bootstrap of size1600\n",
      "finished RandomForestClassifier, 1th bootstrap of size1600\n",
      "finished LinearSVC, 1th bootstrap of size1600\n",
      "finished MultinomialNB, 1th bootstrap of size1600\n",
      "finished LogisticRegression, 1th bootstrap of size1600\n",
      "finished RandomForestClassifier, 2th bootstrap of size1600\n",
      "finished LinearSVC, 2th bootstrap of size1600\n",
      "finished MultinomialNB, 2th bootstrap of size1600\n",
      "finished LogisticRegression, 2th bootstrap of size1600\n",
      "finished RandomForestClassifier, 3th bootstrap of size1600\n",
      "finished LinearSVC, 3th bootstrap of size1600\n",
      "finished MultinomialNB, 3th bootstrap of size1600\n",
      "finished LogisticRegression, 3th bootstrap of size1600\n",
      "finished RandomForestClassifier, 4th bootstrap of size1600\n",
      "finished LinearSVC, 4th bootstrap of size1600\n",
      "finished MultinomialNB, 4th bootstrap of size1600\n",
      "finished LogisticRegression, 4th bootstrap of size1600\n",
      "finished RandomForestClassifier, 5th bootstrap of size1600\n",
      "finished LinearSVC, 5th bootstrap of size1600\n",
      "finished MultinomialNB, 5th bootstrap of size1600\n",
      "finished LogisticRegression, 5th bootstrap of size1600\n",
      "finished RandomForestClassifier, 0th bootstrap of size3200\n",
      "finished LinearSVC, 0th bootstrap of size3200\n",
      "finished MultinomialNB, 0th bootstrap of size3200\n",
      "finished LogisticRegression, 0th bootstrap of size3200\n",
      "finished RandomForestClassifier, 1th bootstrap of size3200\n",
      "finished LinearSVC, 1th bootstrap of size3200\n",
      "finished MultinomialNB, 1th bootstrap of size3200\n",
      "finished LogisticRegression, 1th bootstrap of size3200\n",
      "finished RandomForestClassifier, 2th bootstrap of size3200\n",
      "finished LinearSVC, 2th bootstrap of size3200\n",
      "finished MultinomialNB, 2th bootstrap of size3200\n",
      "finished LogisticRegression, 2th bootstrap of size3200\n",
      "finished RandomForestClassifier, 3th bootstrap of size3200\n",
      "finished LinearSVC, 3th bootstrap of size3200\n",
      "finished MultinomialNB, 3th bootstrap of size3200\n",
      "finished LogisticRegression, 3th bootstrap of size3200\n",
      "finished RandomForestClassifier, 4th bootstrap of size3200\n",
      "finished LinearSVC, 4th bootstrap of size3200\n",
      "finished MultinomialNB, 4th bootstrap of size3200\n",
      "finished LogisticRegression, 4th bootstrap of size3200\n",
      "finished RandomForestClassifier, 5th bootstrap of size3200\n",
      "finished LinearSVC, 5th bootstrap of size3200\n",
      "finished MultinomialNB, 5th bootstrap of size3200\n",
      "finished LogisticRegression, 5th bootstrap of size3200\n",
      "finished RandomForestClassifier, 0th bootstrap of size5000\n",
      "finished LinearSVC, 0th bootstrap of size5000\n",
      "finished MultinomialNB, 0th bootstrap of size5000\n",
      "finished LogisticRegression, 0th bootstrap of size5000\n",
      "finished RandomForestClassifier, 1th bootstrap of size5000\n",
      "finished LinearSVC, 1th bootstrap of size5000\n",
      "finished MultinomialNB, 1th bootstrap of size5000\n",
      "finished LogisticRegression, 1th bootstrap of size5000\n",
      "finished RandomForestClassifier, 2th bootstrap of size5000\n",
      "finished LinearSVC, 2th bootstrap of size5000\n",
      "finished MultinomialNB, 2th bootstrap of size5000\n",
      "finished LogisticRegression, 2th bootstrap of size5000\n",
      "finished RandomForestClassifier, 3th bootstrap of size5000\n",
      "finished LinearSVC, 3th bootstrap of size5000\n"
     ]
    },
    {
     "name": "stdout",
     "output_type": "stream",
     "text": [
      "finished MultinomialNB, 3th bootstrap of size5000\n",
      "finished LogisticRegression, 3th bootstrap of size5000\n",
      "finished RandomForestClassifier, 4th bootstrap of size5000\n",
      "finished LinearSVC, 4th bootstrap of size5000\n",
      "finished MultinomialNB, 4th bootstrap of size5000\n",
      "finished LogisticRegression, 4th bootstrap of size5000\n",
      "finished RandomForestClassifier, 5th bootstrap of size5000\n",
      "finished LinearSVC, 5th bootstrap of size5000\n",
      "finished MultinomialNB, 5th bootstrap of size5000\n",
      "finished LogisticRegression, 5th bootstrap of size5000\n"
     ]
    }
   ],
   "source": [
    "res = algo_training_size_looper([100, 200, 400, 800, 1600, 3200, 5000], x_train, y_train, x_test, y_test)"
   ]
  },
  {
   "cell_type": "code",
   "execution_count": 93,
   "metadata": {
    "ExecuteTime": {
     "end_time": "2020-01-08T07:50:21.247947Z",
     "start_time": "2020-01-08T07:50:21.221798Z"
    }
   },
   "outputs": [],
   "source": [
    "res.to_csv(CUSTOMER/\"Algo_size_7_4_10_customer.csv\")"
   ]
  },
  {
   "cell_type": "code",
   "execution_count": 96,
   "metadata": {
    "ExecuteTime": {
     "end_time": "2020-01-08T07:50:30.667450Z",
     "start_time": "2020-01-08T07:50:30.640080Z"
    }
   },
   "outputs": [
    {
     "data": {
      "text/plain": [
       "(168, 3)"
      ]
     },
     "execution_count": 96,
     "metadata": {},
     "output_type": "execute_result"
    }
   ],
   "source": [
    "res.shape"
   ]
  },
  {
   "cell_type": "code",
   "execution_count": null,
   "metadata": {},
   "outputs": [],
   "source": []
  },
  {
   "cell_type": "markdown",
   "metadata": {
    "heading_collapsed": true
   },
   "source": [
    "## Evaluate algorithums * training size * class numbers"
   ]
  },
  {
   "cell_type": "code",
   "execution_count": null,
   "metadata": {
    "hidden": true
   },
   "outputs": [],
   "source": [
    "#### "
   ]
  },
  {
   "cell_type": "markdown",
   "metadata": {
    "ExecuteTime": {
     "end_time": "2020-01-08T05:32:52.615904Z",
     "start_time": "2020-01-08T05:32:52.590599Z"
    }
   },
   "source": [
    "## Export functionalities"
   ]
  },
  {
   "cell_type": "code",
   "execution_count": 48,
   "metadata": {
    "ExecuteTime": {
     "end_time": "2020-01-08T05:46:41.316222Z",
     "start_time": "2020-01-08T05:46:41.018158Z"
    }
   },
   "outputs": [
    {
     "name": "stdout",
     "output_type": "stream",
     "text": [
      "Converted Frame_experiments.ipynb to exp/nb_Frame.py\r\n"
     ]
    }
   ],
   "source": [
    "!python notebook2script.py Frame_experiments.ipynb"
   ]
  },
  {
   "cell_type": "code",
   "execution_count": null,
   "metadata": {},
   "outputs": [],
   "source": []
  }
 ],
 "metadata": {
  "kernelspec": {
   "display_name": "Python 3",
   "language": "python",
   "name": "python3"
  },
  "language_info": {
   "codemirror_mode": {
    "name": "ipython",
    "version": 3
   },
   "file_extension": ".py",
   "mimetype": "text/x-python",
   "name": "python",
   "nbconvert_exporter": "python",
   "pygments_lexer": "ipython3",
   "version": "3.7.4"
  },
  "toc": {
   "base_numbering": 1,
   "nav_menu": {},
   "number_sections": true,
   "sideBar": true,
   "skip_h1_title": false,
   "title_cell": "Table of Contents",
   "title_sidebar": "Contents",
   "toc_cell": false,
   "toc_position": {},
   "toc_section_display": true,
   "toc_window_display": true
  },
  "varInspector": {
   "cols": {
    "lenName": 16,
    "lenType": 16,
    "lenVar": 40
   },
   "kernels_config": {
    "python": {
     "delete_cmd_postfix": "",
     "delete_cmd_prefix": "del ",
     "library": "var_list.py",
     "varRefreshCmd": "print(var_dic_list())"
    },
    "r": {
     "delete_cmd_postfix": ") ",
     "delete_cmd_prefix": "rm(",
     "library": "var_list.r",
     "varRefreshCmd": "cat(var_dic_list()) "
    }
   },
   "types_to_exclude": [
    "module",
    "function",
    "builtin_function_or_method",
    "instance",
    "_Feature"
   ],
   "window_display": false
  }
 },
 "nbformat": 4,
 "nbformat_minor": 2
}
