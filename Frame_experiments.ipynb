{
 "cells": [
  {
   "cell_type": "markdown",
   "metadata": {},
   "source": []
  },
  {
   "cell_type": "markdown",
   "metadata": {
    "ExecuteTime": {
     "end_time": "2020-01-07T02:28:36.718706Z",
     "start_time": "2020-01-07T02:28:36.691277Z"
    }
   },
   "source": [
    "## Loading data and dependencies"
   ]
  },
  {
   "cell_type": "markdown",
   "metadata": {},
   "source": [
    "###  Load the necessary packages"
   ]
  },
  {
   "cell_type": "code",
   "execution_count": 1,
   "metadata": {
    "ExecuteTime": {
     "end_time": "2020-01-09T09:40:45.798964Z",
     "start_time": "2020-01-09T09:40:45.776657Z"
    }
   },
   "outputs": [],
   "source": [
    "%reload_ext autoreload\n",
    "%autoreload 2\n",
    "%matplotlib inline"
   ]
  },
  {
   "cell_type": "code",
   "execution_count": 20,
   "metadata": {
    "ExecuteTime": {
     "end_time": "2020-01-09T09:58:39.686592Z",
     "start_time": "2020-01-09T09:58:39.659427Z"
    }
   },
   "outputs": [],
   "source": [
    "# export\n",
    "import numpy as np\n",
    "import pandas as pd\n",
    "from pathlib import Path\n",
    "from typing import *\n",
    "import torch\n",
    "import torch.optim as optim\n",
    "\n",
    "from fastai import *\n",
    "from fastai.text import *\n",
    "from pytorch_transformers import *\n",
    "\n",
    "\n",
    "from fastai.basic_train import *\n",
    "from fastai.basic_train import BasicLearner\n",
    "import sys\n",
    "from sklearn.model_selection import train_test_split\n",
    "\n",
    "\n",
    "from sklearn.feature_selection import chi2\n",
    "from sklearn.metrics import accuracy_score\n",
    "\n",
    "from sklearn.feature_extraction.text import CountVectorizer\n",
    "from sklearn.feature_extraction.text import TfidfTransformer\n",
    "\n",
    "\n",
    "from sklearn.naive_bayes import MultinomialNB\n",
    "from sklearn.linear_model import LogisticRegression\n",
    "from sklearn.ensemble import RandomForestClassifier\n",
    "from sklearn.svm import LinearSVC\n",
    "from sklearn.model_selection import StratifiedKFold\n",
    "\n",
    "from sklearn.model_selection import cross_val_score"
   ]
  },
  {
   "cell_type": "code",
   "execution_count": 14,
   "metadata": {
    "ExecuteTime": {
     "end_time": "2020-01-09T09:57:38.368751Z",
     "start_time": "2020-01-09T09:57:37.978928Z"
    }
   },
   "outputs": [
    {
     "ename": "NameError",
     "evalue": "name 'AG_NEWS_TRAIN' is not defined",
     "output_type": "error",
     "traceback": [
      "\u001b[0;31m---------------------------------------------------------------------------\u001b[0m",
      "\u001b[0;31mNameError\u001b[0m                                 Traceback (most recent call last)",
      "\u001b[0;32m<ipython-input-14-bf620954738b>\u001b[0m in \u001b[0;36m<module>\u001b[0;34m\u001b[0m\n\u001b[0;32m----> 1\u001b[0;31m \u001b[0;32mfrom\u001b[0m \u001b[0mexp\u001b[0m\u001b[0;34m.\u001b[0m\u001b[0mnb_Frame\u001b[0m \u001b[0;32mimport\u001b[0m \u001b[0;34m*\u001b[0m\u001b[0;34m\u001b[0m\u001b[0;34m\u001b[0m\u001b[0m\n\u001b[0m",
      "\u001b[0;32m~/Frame_experiments/exp/nb_Frame.py\u001b[0m in \u001b[0;36m<module>\u001b[0;34m\u001b[0m\n\u001b[1;32m    134\u001b[0m \u001b[0;34m\u001b[0m\u001b[0m\n\u001b[1;32m    135\u001b[0m \u001b[0;34m\u001b[0m\u001b[0m\n\u001b[0;32m--> 136\u001b[0;31m \u001b[0mdf\u001b[0m \u001b[0;34m=\u001b[0m \u001b[0mAG_NEWS_TRAIN\u001b[0m\u001b[0;34m\u001b[0m\u001b[0;34m\u001b[0m\u001b[0m\n\u001b[0m\u001b[1;32m    137\u001b[0m \u001b[0;34m\u001b[0m\u001b[0m\n\u001b[1;32m    138\u001b[0m \u001b[0;34m\u001b[0m\u001b[0m\n",
      "\u001b[0;31mNameError\u001b[0m: name 'AG_NEWS_TRAIN' is not defined"
     ]
    }
   ],
   "source": [
    "from exp.nb_Frame import *"
   ]
  },
  {
   "cell_type": "code",
   "execution_count": 3,
   "metadata": {
    "ExecuteTime": {
     "end_time": "2020-01-07T04:30:11.405294Z",
     "start_time": "2020-01-07T04:30:08.531430Z"
    }
   },
   "outputs": [],
   "source": [
    "## load ggplot support\n",
    "\n",
    "import rpy2\n",
    "\n",
    "# the base of rpy2 plotting is matplotlib, thus we need to declare\n",
    "# it inline in order to see the plots in the notebook\n",
    "%matplotlib inline\n",
    "\n",
    "# we need to activate the automatic conversion for pandas\n",
    "from rpy2.robjects import pandas2ri\n",
    "pandas2ri.activate()\n",
    "\n",
    "# load the needed extension for the %%R cell magic\n",
    "%load_ext rpy2.ipython"
   ]
  },
  {
   "cell_type": "markdown",
   "metadata": {},
   "source": [
    "###  Read in the data and split them"
   ]
  },
  {
   "cell_type": "markdown",
   "metadata": {},
   "source": [
    "#### Read and process Ag_news data"
   ]
  },
  {
   "cell_type": "code",
   "execution_count": 21,
   "metadata": {
    "ExecuteTime": {
     "end_time": "2020-01-09T09:58:44.210975Z",
     "start_time": "2020-01-09T09:58:44.186098Z"
    }
   },
   "outputs": [],
   "source": [
    "DATA = Path(os.getcwd())/'Data'\n",
    "AG_NEWS = Path(os.getcwd())/'Data'/'Ag_news'\n",
    "header = ['class', 'title', 'describ']"
   ]
  },
  {
   "cell_type": "code",
   "execution_count": 16,
   "metadata": {
    "ExecuteTime": {
     "end_time": "2020-01-09T09:58:08.351058Z",
     "start_time": "2020-01-09T09:58:08.328708Z"
    }
   },
   "outputs": [],
   "source": [
    "\n",
    "#AG_NEWS_train = pd.read_csv(AG_NEWS_folder/'train.csv', names = header)\n",
    "\n",
    "# sample a smaller version  \n",
    "\n",
    "\n",
    "# AG_NEWS_TRAIN = AG_NEWS_TRAIN.iloc[:, 1:4]\n",
    "# AG_NEWS_TRAIN.head()\n"
   ]
  },
  {
   "cell_type": "code",
   "execution_count": 22,
   "metadata": {
    "ExecuteTime": {
     "end_time": "2020-01-09T09:58:46.815361Z",
     "start_time": "2020-01-09T09:58:46.791517Z"
    }
   },
   "outputs": [],
   "source": [
    "# set the class dict for the class col\n",
    "class_dict = {1: 'world', \n",
    "             2: 'sports',\n",
    "             3: 'business',\n",
    "             4: 'sci_tech'}"
   ]
  },
  {
   "cell_type": "code",
   "execution_count": 23,
   "metadata": {
    "ExecuteTime": {
     "end_time": "2020-01-09T09:58:47.294678Z",
     "start_time": "2020-01-09T09:58:47.224106Z"
    }
   },
   "outputs": [
    {
     "data": {
      "text/plain": [
       "(10000, 3)"
      ]
     },
     "execution_count": 23,
     "metadata": {},
     "output_type": "execute_result"
    }
   ],
   "source": [
    "#AG_NEWS_TRAIN.to_feather(AG_NEWS/'training_30k')\n",
    "AG_NEWS_TRAIN = pd.read_feather(AG_NEWS/'training_30k')\n",
    "AG_NEWS_TRAIN['class'] = AG_NEWS_TRAIN['class'].map(class_dict)\n",
    "AG_NEWS_TRAIN = AG_NEWS_TRAIN.sample(10000, axis= 0)\n",
    "AG_NEWS_TRAIN = AG_NEWS_TRAIN.reset_index()\n",
    "AG_NEWS_TRAIN = AG_NEWS_TRAIN.iloc[:, 1:4]\n",
    "AG_NEWS_TRAIN.shape\n",
    "#AG_NEWS_TRAIN.head()"
   ]
  },
  {
   "cell_type": "code",
   "execution_count": 9,
   "metadata": {
    "ExecuteTime": {
     "end_time": "2020-01-07T00:46:12.549375Z",
     "start_time": "2020-01-07T00:46:12.519371Z"
    }
   },
   "outputs": [],
   "source": [
    "#AG_NEWS_train['class'].value_counts() # evenly distributed with each class of size 30000"
   ]
  },
  {
   "cell_type": "code",
   "execution_count": 12,
   "metadata": {
    "ExecuteTime": {
     "end_time": "2020-01-07T00:46:22.961323Z",
     "start_time": "2020-01-07T00:46:22.830057Z"
    }
   },
   "outputs": [],
   "source": [
    "AG_NEWS_TEST = pd.read_csv(AG_NEWS/'test.csv', names = header)"
   ]
  },
  {
   "cell_type": "markdown",
   "metadata": {},
   "source": [
    "#### read Dbpedia data "
   ]
  },
  {
   "cell_type": "code",
   "execution_count": 47,
   "metadata": {
    "ExecuteTime": {
     "end_time": "2020-01-09T03:36:35.371554Z",
     "start_time": "2020-01-09T03:36:35.338874Z"
    }
   },
   "outputs": [],
   "source": [
    "DATA = Path(os.getcwd())/'Data'\n",
    "\n",
    "DBPEDIA = DATA/'Dbpedia'\n",
    "DBPEDIA.mkdir(exist_ok= True)\n",
    "header = ['class', 'title', 'contents']"
   ]
  },
  {
   "cell_type": "code",
   "execution_count": 48,
   "metadata": {
    "ExecuteTime": {
     "end_time": "2020-01-09T03:36:36.364538Z",
     "start_time": "2020-01-09T03:36:35.908940Z"
    }
   },
   "outputs": [
    {
     "data": {
      "text/plain": [
       "(27841, 3)"
      ]
     },
     "execution_count": 48,
     "metadata": {},
     "output_type": "execute_result"
    }
   ],
   "source": [
    "#DBPEDIA_train = pd.read_csv(DBPEDIA/'train.csv', names= header)\n",
    "\n",
    "#DBPEDIA_train.shape # 559999 data entries\n",
    "\n",
    "\n",
    "# sample a smaller version  \n",
    "\n",
    "# DBPEDIA_TRAIN = DBPEDIA_train.sample(30000, axis= 0)\n",
    "# DBPEDIA_TRAIN = DBPEDIA_TRAIN.reset_index()\n",
    "# DBPEDIA_TRAIN = DBPEDIA_TRAIN.iloc[:, 1:4]\n",
    "# DBPEDIA_TRAIN['class'].unique() #14 classes \n",
    "\n",
    "# DBPEDIA_TRAIN.to_feather(DBPEDIA/'training_30k')\n",
    "DBPEDIA_TRAIN = pd.read_feather(DBPEDIA/'training_30k')\n",
    "# read in the class dict\n",
    "with open(DBPEDIA/'classes.txt', 'r') as f:\n",
    "    class_ls = f.readlines()\n",
    "\n",
    "class_ls = [re.sub('\\n', \"\", i) for i in class_ls]\n",
    "\n",
    "class_dict = {k:v for k, v in enumerate(class_ls)}\n",
    "\n",
    "DBPEDIA_TRAIN['class'] = DBPEDIA_TRAIN['class'].map(class_dict) # The data has been class transformed\n",
    "DBPEDIA_TRAIN = DBPEDIA_TRAIN[DBPEDIA_TRAIN['class'].notnull()] # mislabled one class in original dataset; filtered out here\n",
    "DBPEDIA_TRAIN.shape"
   ]
  },
  {
   "cell_type": "code",
   "execution_count": 55,
   "metadata": {
    "ExecuteTime": {
     "end_time": "2020-01-08T05:53:28.977469Z",
     "start_time": "2020-01-08T05:53:28.947813Z"
    }
   },
   "outputs": [
    {
     "data": {
      "text/html": [
       "<div>\n",
       "<style scoped>\n",
       "    .dataframe tbody tr th:only-of-type {\n",
       "        vertical-align: middle;\n",
       "    }\n",
       "\n",
       "    .dataframe tbody tr th {\n",
       "        vertical-align: top;\n",
       "    }\n",
       "\n",
       "    .dataframe thead th {\n",
       "        text-align: right;\n",
       "    }\n",
       "</style>\n",
       "<table border=\"1\" class=\"dataframe\">\n",
       "  <thead>\n",
       "    <tr style=\"text-align: right;\">\n",
       "      <th></th>\n",
       "      <th>class</th>\n",
       "      <th>title</th>\n",
       "      <th>contents</th>\n",
       "    </tr>\n",
       "  </thead>\n",
       "  <tbody>\n",
       "    <tr>\n",
       "      <th>0</th>\n",
       "      <td>Building</td>\n",
       "      <td>Peckett OQ Class</td>\n",
       "      <td>The Peckett OQ was a series of three Industri...</td>\n",
       "    </tr>\n",
       "    <tr>\n",
       "      <th>1</th>\n",
       "      <td>NaturalPlace</td>\n",
       "      <td>Yas Viceroy Abu Dhabi Hotel</td>\n",
       "      <td>Yas Viceroy Abu Dhabi Hotel is built across t...</td>\n",
       "    </tr>\n",
       "    <tr>\n",
       "      <th>2</th>\n",
       "      <td>Athlete</td>\n",
       "      <td>Stephen Frink</td>\n",
       "      <td>Stephen Frink is a prolific underwater photog...</td>\n",
       "    </tr>\n",
       "    <tr>\n",
       "      <th>3</th>\n",
       "      <td>Album</td>\n",
       "      <td>Centaurea diffusa</td>\n",
       "      <td>Diffuse Knapweed (Centaurea diffusa) also kno...</td>\n",
       "    </tr>\n",
       "    <tr>\n",
       "      <th>4</th>\n",
       "      <td>Village</td>\n",
       "      <td>Djedi River</td>\n",
       "      <td>Djedi River (French: Oued Djedi or Ouad-ed-Dj...</td>\n",
       "    </tr>\n",
       "  </tbody>\n",
       "</table>\n",
       "</div>"
      ],
      "text/plain": [
       "          class                        title  \\\n",
       "0      Building             Peckett OQ Class   \n",
       "1  NaturalPlace  Yas Viceroy Abu Dhabi Hotel   \n",
       "2       Athlete                Stephen Frink   \n",
       "3         Album            Centaurea diffusa   \n",
       "4       Village                  Djedi River   \n",
       "\n",
       "                                            contents  \n",
       "0   The Peckett OQ was a series of three Industri...  \n",
       "1   Yas Viceroy Abu Dhabi Hotel is built across t...  \n",
       "2   Stephen Frink is a prolific underwater photog...  \n",
       "3   Diffuse Knapweed (Centaurea diffusa) also kno...  \n",
       "4   Djedi River (French: Oued Djedi or Ouad-ed-Dj...  "
      ]
     },
     "execution_count": 55,
     "metadata": {},
     "output_type": "execute_result"
    }
   ],
   "source": [
    "DBPEDIA_TRAIN.head()"
   ]
  },
  {
   "cell_type": "code",
   "execution_count": 17,
   "metadata": {
    "ExecuteTime": {
     "end_time": "2020-01-07T00:46:28.352205Z",
     "start_time": "2020-01-07T00:46:28.016768Z"
    }
   },
   "outputs": [],
   "source": [
    "#DBPEDIA_test = pd.read_csv(DBPEDIA/'test.csv', names= header)\n",
    "\n",
    "# DBPEDIA_TEST = DBPEDIA_test.sample(28000, axis= 0)\n",
    "# DBPEDIA_TEST = DBPEDIA_TEST.reset_index()\n",
    "# DBPEDIA_TEST = DBPEDIA_TEST.iloc[:, 1:4]\n",
    "# DBPEDIA_TEST[\"class\"].unique() #14 classes\n",
    "\n",
    "# DBPEDIA_TEST.to_feather(DBPEDIA/'TESTING')\n",
    "DBPEDIA_TEST = pd.read_feather(DBPEDIA/'TESTING')"
   ]
  },
  {
   "cell_type": "markdown",
   "metadata": {},
   "source": [
    "#### read Yelp review data"
   ]
  },
  {
   "cell_type": "code",
   "execution_count": 73,
   "metadata": {
    "ExecuteTime": {
     "end_time": "2020-01-09T05:00:00.916057Z",
     "start_time": "2020-01-09T05:00:00.886865Z"
    }
   },
   "outputs": [],
   "source": [
    "YELP = DATA/'Yelp'\n",
    "YELP.mkdir(exist_ok= True)\n",
    "header = ['class', 'review']"
   ]
  },
  {
   "cell_type": "code",
   "execution_count": 74,
   "metadata": {
    "ExecuteTime": {
     "end_time": "2020-01-09T05:00:02.393839Z",
     "start_time": "2020-01-09T05:00:01.980203Z"
    }
   },
   "outputs": [],
   "source": [
    "# YELP_train = pd.read_csv(YELP/'train.csv', names= header)\n",
    "\n",
    "# #DBPEDIA_train.shape # 559999 data entries\n",
    "\n",
    "\n",
    "# # sample a smaller version\n",
    "\n",
    "# YELP_TRAIN = YELP_train.sample(30000, axis= 0)\n",
    "# YELP_TRAIN = YELP_TRAIN.reset_index()\n",
    "# YELP_TRAIN = YELP_TRAIN.iloc[:, 1:3]\n",
    "\n",
    "# # YELP_TRAIN.to_feather(YELP/'training_30k')\n",
    "# YELP_TRAIN = pd.read_feather(YELP/'training_30k')\n",
    "\n",
    "    \n",
    "# YELP_TRAIN = YELP_TRAIN.sample(12500, axis= 0)\n",
    "# YELP_TRAIN = YELP_TRAIN.reset_index()\n",
    "# YELP_TRAIN = YELP_TRAIN.iloc[:, 1:3]\n",
    "\n",
    "# YELP_TRAIN.to_feather(YELP/'training_10k')\n",
    "YELP_TRAIN = pd.read_feather(YELP/'training_10k')\n"
   ]
  },
  {
   "cell_type": "code",
   "execution_count": 65,
   "metadata": {
    "ExecuteTime": {
     "end_time": "2020-01-08T06:31:49.570885Z",
     "start_time": "2020-01-08T06:31:49.541335Z"
    }
   },
   "outputs": [
    {
     "data": {
      "text/html": [
       "<div>\n",
       "<style scoped>\n",
       "    .dataframe tbody tr th:only-of-type {\n",
       "        vertical-align: middle;\n",
       "    }\n",
       "\n",
       "    .dataframe tbody tr th {\n",
       "        vertical-align: top;\n",
       "    }\n",
       "\n",
       "    .dataframe thead th {\n",
       "        text-align: right;\n",
       "    }\n",
       "</style>\n",
       "<table border=\"1\" class=\"dataframe\">\n",
       "  <thead>\n",
       "    <tr style=\"text-align: right;\">\n",
       "      <th></th>\n",
       "      <th>class</th>\n",
       "      <th>title</th>\n",
       "    </tr>\n",
       "  </thead>\n",
       "  <tbody>\n",
       "    <tr>\n",
       "      <th>0</th>\n",
       "      <td>1</td>\n",
       "      <td>The apartment I rented was infested with scorp...</td>\n",
       "    </tr>\n",
       "    <tr>\n",
       "      <th>1</th>\n",
       "      <td>4</td>\n",
       "      <td>It seems like other folks had different experi...</td>\n",
       "    </tr>\n",
       "    <tr>\n",
       "      <th>2</th>\n",
       "      <td>5</td>\n",
       "      <td>Our first visit to this store was to go to the...</td>\n",
       "    </tr>\n",
       "    <tr>\n",
       "      <th>3</th>\n",
       "      <td>3</td>\n",
       "      <td>So nice to have a little wine spot in the neig...</td>\n",
       "    </tr>\n",
       "    <tr>\n",
       "      <th>4</th>\n",
       "      <td>3</td>\n",
       "      <td>Just your typical Arizonian Italian restaurant</td>\n",
       "    </tr>\n",
       "  </tbody>\n",
       "</table>\n",
       "</div>"
      ],
      "text/plain": [
       "   class                                              title\n",
       "0      1  The apartment I rented was infested with scorp...\n",
       "1      4  It seems like other folks had different experi...\n",
       "2      5  Our first visit to this store was to go to the...\n",
       "3      3  So nice to have a little wine spot in the neig...\n",
       "4      3     Just your typical Arizonian Italian restaurant"
      ]
     },
     "execution_count": 65,
     "metadata": {},
     "output_type": "execute_result"
    }
   ],
   "source": [
    "YELP_TRAIN.head()"
   ]
  },
  {
   "cell_type": "code",
   "execution_count": 23,
   "metadata": {
    "ExecuteTime": {
     "end_time": "2020-01-07T00:46:57.965259Z",
     "start_time": "2020-01-07T00:46:57.923186Z"
    }
   },
   "outputs": [],
   "source": [
    "#YELP_test = pd.read_csv(YELP/'test.csv', names = header)\n",
    "\n",
    "# YELP_TEST = YELP_test.sample(10000, axis= 0)\n",
    "# YELP_TEST = YELP_TEST.reset_index()\n",
    "# YELP_TEST = YELP_TEST.iloc[:, 1:4]\n",
    "# YELP_TEST[\"class\"].unique() \n",
    "\n",
    "# YELP_TEST.to_feather(YELP/'TESTING')\n",
    "YELP_TEST = pd.read_feather(YELP/'TESTING')"
   ]
  },
  {
   "cell_type": "markdown",
   "metadata": {},
   "source": [
    "#### read Amazon review data"
   ]
  },
  {
   "cell_type": "code",
   "execution_count": 86,
   "metadata": {
    "ExecuteTime": {
     "end_time": "2020-01-09T06:42:11.427952Z",
     "start_time": "2020-01-09T06:42:11.403697Z"
    }
   },
   "outputs": [],
   "source": [
    "AMAZON = DATA/'Amazon_full'\n",
    "AMAZON.mkdir(exist_ok= True)\n",
    "header = ['class', 'title', 'review']"
   ]
  },
  {
   "cell_type": "code",
   "execution_count": 10,
   "metadata": {
    "ExecuteTime": {
     "end_time": "2020-01-08T21:12:16.294886Z",
     "start_time": "2020-01-08T21:12:16.271264Z"
    }
   },
   "outputs": [],
   "source": [
    "#AMAZON_train = pd.read_csv(AMAZON/'train.csv', names= header)\n"
   ]
  },
  {
   "cell_type": "code",
   "execution_count": 87,
   "metadata": {
    "ExecuteTime": {
     "end_time": "2020-01-09T06:42:13.661896Z",
     "start_time": "2020-01-09T06:42:13.619528Z"
    }
   },
   "outputs": [],
   "source": [
    "# sample a smaller version\n",
    "\n",
    "# AMAZON_TRAIN = AMAZON_train.sample(12500, axis= 0)\n",
    "# AMAZON_TRAIN = AMAZON_TRAIN.reset_index()\n",
    "# AMAZON_TRAIN = AMAZON_TRAIN.iloc[:, 1:4]\n",
    "\n",
    "# AMAZON_TRAIN.to_feather(AMAZON/'training_10k')\n",
    "AMAZON_TRAIN = pd.read_feather(AMAZON/'training_10k')"
   ]
  },
  {
   "cell_type": "code",
   "execution_count": 77,
   "metadata": {
    "ExecuteTime": {
     "end_time": "2020-01-08T06:52:59.070179Z",
     "start_time": "2020-01-08T06:52:59.040206Z"
    }
   },
   "outputs": [
    {
     "data": {
      "text/html": [
       "<div>\n",
       "<style scoped>\n",
       "    .dataframe tbody tr th:only-of-type {\n",
       "        vertical-align: middle;\n",
       "    }\n",
       "\n",
       "    .dataframe tbody tr th {\n",
       "        vertical-align: top;\n",
       "    }\n",
       "\n",
       "    .dataframe thead th {\n",
       "        text-align: right;\n",
       "    }\n",
       "</style>\n",
       "<table border=\"1\" class=\"dataframe\">\n",
       "  <thead>\n",
       "    <tr style=\"text-align: right;\">\n",
       "      <th></th>\n",
       "      <th>class</th>\n",
       "      <th>title</th>\n",
       "      <th>review</th>\n",
       "    </tr>\n",
       "  </thead>\n",
       "  <tbody>\n",
       "    <tr>\n",
       "      <th>0</th>\n",
       "      <td>1</td>\n",
       "      <td>Kindle version only</td>\n",
       "      <td>From reading the other comments the book sound...</td>\n",
       "    </tr>\n",
       "    <tr>\n",
       "      <th>1</th>\n",
       "      <td>4</td>\n",
       "      <td>A Perfect Family Film!!!</td>\n",
       "      <td>This was a really good movie about a little gi...</td>\n",
       "    </tr>\n",
       "  </tbody>\n",
       "</table>\n",
       "</div>"
      ],
      "text/plain": [
       "   class                     title  \\\n",
       "0      1       Kindle version only   \n",
       "1      4  A Perfect Family Film!!!   \n",
       "\n",
       "                                              review  \n",
       "0  From reading the other comments the book sound...  \n",
       "1  This was a really good movie about a little gi...  "
      ]
     },
     "execution_count": 77,
     "metadata": {},
     "output_type": "execute_result"
    }
   ],
   "source": [
    "AMAZON_TRAIN.head(2)"
   ]
  },
  {
   "cell_type": "markdown",
   "metadata": {},
   "source": [
    "#### read customer complaints data"
   ]
  },
  {
   "cell_type": "code",
   "execution_count": 33,
   "metadata": {
    "ExecuteTime": {
     "end_time": "2020-01-09T10:00:11.814260Z",
     "start_time": "2020-01-09T10:00:11.788230Z"
    }
   },
   "outputs": [],
   "source": [
    "CUSTOMER = DATA/'Customer'\n",
    "CUSTOMER.mkdir(exist_ok=True)"
   ]
  },
  {
   "cell_type": "code",
   "execution_count": 34,
   "metadata": {
    "ExecuteTime": {
     "end_time": "2020-01-09T10:00:13.155797Z",
     "start_time": "2020-01-09T10:00:13.107709Z"
    }
   },
   "outputs": [],
   "source": [
    "# CUSTOMER_train = pd.read_csv(CUSTOMER/'complaints.csv')\n",
    "\n",
    "\n",
    "# CUSTOMER_train.shape\n",
    "\n",
    "# header = ['Product', 'Consumer complaint narrative']\n",
    "# CUSTOMER_train = CUSTOMER_train[header]\n",
    "\n",
    "# CUSTOMER_train = CUSTOMER_train.loc[pd.notnull(CUSTOMER_train['Consumer complaint narrative']), :]\n",
    "# CUSTOMER_train.shape\n",
    "\n",
    "\n",
    "# CUSTOMER_TRAIN = CUSTOMER_train.sample(12500, axis= 0)\n",
    "# CUSTOMER_TRAIN = CUSTOMER_TRAIN.reset_index()\n",
    "# CUSTOMER_TRAIN = CUSTOMER_TRAIN.iloc[:, 1:3]\n",
    "# CUSTOMER_TRAIN.columns = ['product', 'complaint']\n",
    "\n",
    "# CUSTOMER_TRAIN.to_feather(CUSTOMER/'training_10k')\n",
    "CUSTOMER_TRAIN = pd.read_feather(CUSTOMER/'training_10k')"
   ]
  },
  {
   "cell_type": "code",
   "execution_count": 134,
   "metadata": {
    "ExecuteTime": {
     "end_time": "2020-01-09T09:05:43.349182Z",
     "start_time": "2020-01-09T09:05:43.319738Z"
    }
   },
   "outputs": [
    {
     "data": {
      "text/html": [
       "<div>\n",
       "<style scoped>\n",
       "    .dataframe tbody tr th:only-of-type {\n",
       "        vertical-align: middle;\n",
       "    }\n",
       "\n",
       "    .dataframe tbody tr th {\n",
       "        vertical-align: top;\n",
       "    }\n",
       "\n",
       "    .dataframe thead th {\n",
       "        text-align: right;\n",
       "    }\n",
       "</style>\n",
       "<table border=\"1\" class=\"dataframe\">\n",
       "  <thead>\n",
       "    <tr style=\"text-align: right;\">\n",
       "      <th></th>\n",
       "      <th>product</th>\n",
       "      <th>complaint</th>\n",
       "    </tr>\n",
       "  </thead>\n",
       "  <tbody>\n",
       "    <tr>\n",
       "      <th>0</th>\n",
       "      <td>Debt collection</td>\n",
       "      <td>For over a month, I have been getting calls fr...</td>\n",
       "    </tr>\n",
       "    <tr>\n",
       "      <th>1</th>\n",
       "      <td>Credit reporting, credit repair services, or o...</td>\n",
       "      <td>XX/XX/XXXX, a series on letters to XXXX XXXX X...</td>\n",
       "    </tr>\n",
       "    <tr>\n",
       "      <th>2</th>\n",
       "      <td>Mortgage</td>\n",
       "      <td>I recently received a statement from Wells Far...</td>\n",
       "    </tr>\n",
       "    <tr>\n",
       "      <th>3</th>\n",
       "      <td>Credit reporting, credit repair services, or o...</td>\n",
       "      <td>I have been disputing XXXX XXXX XXXX account i...</td>\n",
       "    </tr>\n",
       "    <tr>\n",
       "      <th>4</th>\n",
       "      <td>Credit reporting, credit repair services, or o...</td>\n",
       "      <td>I have several student loans on my account, in...</td>\n",
       "    </tr>\n",
       "  </tbody>\n",
       "</table>\n",
       "</div>"
      ],
      "text/plain": [
       "                                             product  \\\n",
       "0                                    Debt collection   \n",
       "1  Credit reporting, credit repair services, or o...   \n",
       "2                                           Mortgage   \n",
       "3  Credit reporting, credit repair services, or o...   \n",
       "4  Credit reporting, credit repair services, or o...   \n",
       "\n",
       "                                           complaint  \n",
       "0  For over a month, I have been getting calls fr...  \n",
       "1  XX/XX/XXXX, a series on letters to XXXX XXXX X...  \n",
       "2  I recently received a statement from Wells Far...  \n",
       "3  I have been disputing XXXX XXXX XXXX account i...  \n",
       "4  I have several student loans on my account, in...  "
      ]
     },
     "execution_count": 134,
     "metadata": {},
     "output_type": "execute_result"
    }
   ],
   "source": [
    "CUSTOMER_TRAIN.head()"
   ]
  },
  {
   "cell_type": "code",
   "execution_count": null,
   "metadata": {},
   "outputs": [],
   "source": []
  },
  {
   "cell_type": "markdown",
   "metadata": {},
   "source": [
    "## Evaluate algorithums across datasets\n"
   ]
  },
  {
   "cell_type": "markdown",
   "metadata": {},
   "source": [
    "### Evaluate algorithm, marginize over #training and # class"
   ]
  },
  {
   "cell_type": "markdown",
   "metadata": {
    "ExecuteTime": {
     "end_time": "2020-01-07T00:31:33.890421Z",
     "start_time": "2020-01-07T00:31:33.887252Z"
    }
   },
   "source": [
    "#### Ag_news boostrap"
   ]
  },
  {
   "cell_type": "markdown",
   "metadata": {
    "ExecuteTime": {
     "end_time": "2020-01-07T01:58:43.150235Z",
     "start_time": "2020-01-07T01:58:43.119299Z"
    }
   },
   "source": [
    "##### ML models"
   ]
  },
  {
   "cell_type": "code",
   "execution_count": 4,
   "metadata": {
    "ExecuteTime": {
     "end_time": "2020-01-09T02:27:50.402518Z",
     "start_time": "2020-01-09T02:27:50.226957Z"
    }
   },
   "outputs": [
    {
     "ename": "NameError",
     "evalue": "name 'AG_NEWS_TRAIN' is not defined",
     "output_type": "error",
     "traceback": [
      "\u001b[0;31m---------------------------------------------------------------------------\u001b[0m",
      "\u001b[0;31mNameError\u001b[0m                                 Traceback (most recent call last)",
      "\u001b[0;32m<ipython-input-4-90e9bd50d9c8>\u001b[0m in \u001b[0;36m<module>\u001b[0;34m\u001b[0m\n\u001b[0;32m----> 1\u001b[0;31m \u001b[0mdf\u001b[0m \u001b[0;34m=\u001b[0m \u001b[0mAG_NEWS_TRAIN\u001b[0m \u001b[0;31m# set df as inner pointer to this dataset\u001b[0m\u001b[0;34m\u001b[0m\u001b[0;34m\u001b[0m\u001b[0m\n\u001b[0m\u001b[1;32m      2\u001b[0m \u001b[0mdf\u001b[0m\u001b[0;34m.\u001b[0m\u001b[0mhead\u001b[0m\u001b[0;34m(\u001b[0m\u001b[0;36m2\u001b[0m\u001b[0;34m)\u001b[0m\u001b[0;34m\u001b[0m\u001b[0;34m\u001b[0m\u001b[0m\n",
      "\u001b[0;31mNameError\u001b[0m: name 'AG_NEWS_TRAIN' is not defined"
     ]
    }
   ],
   "source": [
    "df = AG_NEWS_TRAIN # set df as inner pointer to this dataset\n",
    "df.head(2)"
   ]
  },
  {
   "cell_type": "code",
   "execution_count": 5,
   "metadata": {
    "ExecuteTime": {
     "end_time": "2020-01-09T02:27:51.928903Z",
     "start_time": "2020-01-09T02:27:51.897405Z"
    }
   },
   "outputs": [
    {
     "ename": "NameError",
     "evalue": "name 'df' is not defined",
     "output_type": "error",
     "traceback": [
      "\u001b[0;31m---------------------------------------------------------------------------\u001b[0m",
      "\u001b[0;31mNameError\u001b[0m                                 Traceback (most recent call last)",
      "\u001b[0;32m<ipython-input-5-1dab4d5f53d2>\u001b[0m in \u001b[0;36m<module>\u001b[0;34m\u001b[0m\n\u001b[1;32m      1\u001b[0m \u001b[0;31m# Set the global vars for this dataset for diverse algorithums\u001b[0m\u001b[0;34m\u001b[0m\u001b[0;34m\u001b[0m\u001b[0;34m\u001b[0m\u001b[0m\n\u001b[1;32m      2\u001b[0m \u001b[0;34m\u001b[0m\u001b[0m\n\u001b[0;32m----> 3\u001b[0;31m \u001b[0mdf\u001b[0m\u001b[0;34m[\u001b[0m\u001b[0;34m'category_id'\u001b[0m\u001b[0;34m]\u001b[0m \u001b[0;34m=\u001b[0m \u001b[0mdf\u001b[0m\u001b[0;34m[\u001b[0m\u001b[0;34m'class'\u001b[0m\u001b[0;34m]\u001b[0m\u001b[0;34m.\u001b[0m\u001b[0mfactorize\u001b[0m\u001b[0;34m(\u001b[0m\u001b[0;34m)\u001b[0m\u001b[0;34m[\u001b[0m\u001b[0;36m0\u001b[0m\u001b[0;34m]\u001b[0m\u001b[0;34m\u001b[0m\u001b[0;34m\u001b[0m\u001b[0m\n\u001b[0m\u001b[1;32m      4\u001b[0m \u001b[0;34m\u001b[0m\u001b[0m\n\u001b[1;32m      5\u001b[0m category_id_df = df[['class', 'category_id']\n",
      "\u001b[0;31mNameError\u001b[0m: name 'df' is not defined"
     ]
    }
   ],
   "source": [
    "# Set the global vars for this dataset for diverse algorithums\n",
    "\n",
    "df['category_id'] = df['class'].factorize()[0]\n",
    "\n",
    "category_id_df = df[['class', 'category_id']\n",
    "                    ].drop_duplicates().sort_values('category_id')\n",
    "category_to_id = dict(category_id_df.values)\n",
    "id_to_category = {v: k for k, v in category_to_id.items()}"
   ]
  },
  {
   "cell_type": "code",
   "execution_count": 11,
   "metadata": {
    "ExecuteTime": {
     "end_time": "2020-01-07T02:25:14.459544Z",
     "start_time": "2020-01-07T02:25:12.011136Z"
    },
    "scrolled": true
   },
   "outputs": [
    {
     "data": {
      "text/plain": [
       "(10000, 9065)"
      ]
     },
     "execution_count": 11,
     "metadata": {},
     "output_type": "execute_result"
    }
   ],
   "source": [
    "# tfidf = TfidfVectorizer(sublinear_tf=True, norm='l2', min_df=5,\n",
    "#                         encoding='latin-1', ngram_range=(1, 3), stop_words='english')\n",
    "\n",
    "# features = tfidf.fit_transform(df.describ).toarray()  # features is the global var for this dataset block\n",
    "\n",
    "# labels = df.category_id  # labels also a global var\n",
    "\n",
    "# features.shape  # of size (30000, 24903)"
   ]
  },
  {
   "cell_type": "markdown",
   "metadata": {},
   "source": [
    "**The models haven been run and results saved,  thus no need to run the code below**"
   ]
  },
  {
   "cell_type": "code",
   "execution_count": 12,
   "metadata": {
    "ExecuteTime": {
     "end_time": "2020-01-07T02:28:23.541218Z",
     "start_time": "2020-01-07T02:25:19.933238Z"
    }
   },
   "outputs": [],
   "source": [
    "# models = [RandomForestClassifier(n_estimators=200, max_depth=3, random_state=0),\n",
    "#           LinearSVC(),\n",
    "#           MultinomialNB(),\n",
    "#           LogisticRegression(random_state=0, max_iter= 200)]\n",
    "\n",
    "# boot_num = 2\n",
    "# CV = 5\n",
    "# cv_df = pd.DataFrame(index=range(CV * len(models)))\n",
    "# entries = []\n",
    "\n",
    "# for i in range(boot_num):\n",
    "#     for model in models:\n",
    "#         model_name = model.__class__.__name__\n",
    "#         accuracies = cross_val_score(model, features, labels, scoring='accuracy', cv=CV)\n",
    "#         for _, accuracy in enumerate(accuracies):\n",
    "#             #print(f'finished {model_name}, {i}th bootstrap of {_}th epochs')\n",
    "#             entries.append((model_name, accuracy))\n",
    "\n",
    "        \n",
    "# cv_df = pd.DataFrame(entries, columns=['model_name', 'accuracy'])"
   ]
  },
  {
   "cell_type": "code",
   "execution_count": 64,
   "metadata": {
    "ExecuteTime": {
     "end_time": "2020-01-07T04:05:36.955689Z",
     "start_time": "2020-01-07T04:05:36.918951Z"
    }
   },
   "outputs": [
    {
     "data": {
      "text/html": [
       "<div>\n",
       "<style scoped>\n",
       "    .dataframe tbody tr th:only-of-type {\n",
       "        vertical-align: middle;\n",
       "    }\n",
       "\n",
       "    .dataframe tbody tr th {\n",
       "        vertical-align: top;\n",
       "    }\n",
       "\n",
       "    .dataframe thead th {\n",
       "        text-align: right;\n",
       "    }\n",
       "</style>\n",
       "<table border=\"1\" class=\"dataframe\">\n",
       "  <thead>\n",
       "    <tr style=\"text-align: right;\">\n",
       "      <th></th>\n",
       "      <th>model_name</th>\n",
       "      <th>accuracy</th>\n",
       "    </tr>\n",
       "  </thead>\n",
       "  <tbody>\n",
       "    <tr>\n",
       "      <th>0</th>\n",
       "      <td>RandomForestClassifier</td>\n",
       "      <td>0.7155</td>\n",
       "    </tr>\n",
       "    <tr>\n",
       "      <th>1</th>\n",
       "      <td>RandomForestClassifier</td>\n",
       "      <td>0.6980</td>\n",
       "    </tr>\n",
       "    <tr>\n",
       "      <th>2</th>\n",
       "      <td>RandomForestClassifier</td>\n",
       "      <td>0.7285</td>\n",
       "    </tr>\n",
       "    <tr>\n",
       "      <th>3</th>\n",
       "      <td>RandomForestClassifier</td>\n",
       "      <td>0.7170</td>\n",
       "    </tr>\n",
       "    <tr>\n",
       "      <th>4</th>\n",
       "      <td>RandomForestClassifier</td>\n",
       "      <td>0.6925</td>\n",
       "    </tr>\n",
       "    <tr>\n",
       "      <th>5</th>\n",
       "      <td>LinearSVC</td>\n",
       "      <td>0.8740</td>\n",
       "    </tr>\n",
       "    <tr>\n",
       "      <th>6</th>\n",
       "      <td>LinearSVC</td>\n",
       "      <td>0.8725</td>\n",
       "    </tr>\n",
       "    <tr>\n",
       "      <th>7</th>\n",
       "      <td>LinearSVC</td>\n",
       "      <td>0.8825</td>\n",
       "    </tr>\n",
       "    <tr>\n",
       "      <th>8</th>\n",
       "      <td>LinearSVC</td>\n",
       "      <td>0.8800</td>\n",
       "    </tr>\n",
       "    <tr>\n",
       "      <th>9</th>\n",
       "      <td>LinearSVC</td>\n",
       "      <td>0.8830</td>\n",
       "    </tr>\n",
       "    <tr>\n",
       "      <th>10</th>\n",
       "      <td>MultinomialNB</td>\n",
       "      <td>0.8880</td>\n",
       "    </tr>\n",
       "    <tr>\n",
       "      <th>11</th>\n",
       "      <td>MultinomialNB</td>\n",
       "      <td>0.8755</td>\n",
       "    </tr>\n",
       "    <tr>\n",
       "      <th>12</th>\n",
       "      <td>MultinomialNB</td>\n",
       "      <td>0.8850</td>\n",
       "    </tr>\n",
       "    <tr>\n",
       "      <th>13</th>\n",
       "      <td>MultinomialNB</td>\n",
       "      <td>0.8940</td>\n",
       "    </tr>\n",
       "    <tr>\n",
       "      <th>14</th>\n",
       "      <td>MultinomialNB</td>\n",
       "      <td>0.8860</td>\n",
       "    </tr>\n",
       "    <tr>\n",
       "      <th>15</th>\n",
       "      <td>LogisticRegression</td>\n",
       "      <td>0.8870</td>\n",
       "    </tr>\n",
       "    <tr>\n",
       "      <th>16</th>\n",
       "      <td>LogisticRegression</td>\n",
       "      <td>0.8740</td>\n",
       "    </tr>\n",
       "    <tr>\n",
       "      <th>17</th>\n",
       "      <td>LogisticRegression</td>\n",
       "      <td>0.8890</td>\n",
       "    </tr>\n",
       "    <tr>\n",
       "      <th>18</th>\n",
       "      <td>LogisticRegression</td>\n",
       "      <td>0.8890</td>\n",
       "    </tr>\n",
       "    <tr>\n",
       "      <th>19</th>\n",
       "      <td>LogisticRegression</td>\n",
       "      <td>0.8795</td>\n",
       "    </tr>\n",
       "    <tr>\n",
       "      <th>20</th>\n",
       "      <td>RandomForestClassifier</td>\n",
       "      <td>0.7155</td>\n",
       "    </tr>\n",
       "    <tr>\n",
       "      <th>21</th>\n",
       "      <td>RandomForestClassifier</td>\n",
       "      <td>0.6980</td>\n",
       "    </tr>\n",
       "    <tr>\n",
       "      <th>22</th>\n",
       "      <td>RandomForestClassifier</td>\n",
       "      <td>0.7285</td>\n",
       "    </tr>\n",
       "    <tr>\n",
       "      <th>23</th>\n",
       "      <td>RandomForestClassifier</td>\n",
       "      <td>0.7170</td>\n",
       "    </tr>\n",
       "    <tr>\n",
       "      <th>24</th>\n",
       "      <td>RandomForestClassifier</td>\n",
       "      <td>0.6925</td>\n",
       "    </tr>\n",
       "    <tr>\n",
       "      <th>25</th>\n",
       "      <td>LinearSVC</td>\n",
       "      <td>0.8740</td>\n",
       "    </tr>\n",
       "    <tr>\n",
       "      <th>26</th>\n",
       "      <td>LinearSVC</td>\n",
       "      <td>0.8725</td>\n",
       "    </tr>\n",
       "    <tr>\n",
       "      <th>27</th>\n",
       "      <td>LinearSVC</td>\n",
       "      <td>0.8825</td>\n",
       "    </tr>\n",
       "    <tr>\n",
       "      <th>28</th>\n",
       "      <td>LinearSVC</td>\n",
       "      <td>0.8800</td>\n",
       "    </tr>\n",
       "    <tr>\n",
       "      <th>29</th>\n",
       "      <td>LinearSVC</td>\n",
       "      <td>0.8830</td>\n",
       "    </tr>\n",
       "    <tr>\n",
       "      <th>30</th>\n",
       "      <td>MultinomialNB</td>\n",
       "      <td>0.8880</td>\n",
       "    </tr>\n",
       "    <tr>\n",
       "      <th>31</th>\n",
       "      <td>MultinomialNB</td>\n",
       "      <td>0.8755</td>\n",
       "    </tr>\n",
       "    <tr>\n",
       "      <th>32</th>\n",
       "      <td>MultinomialNB</td>\n",
       "      <td>0.8850</td>\n",
       "    </tr>\n",
       "    <tr>\n",
       "      <th>33</th>\n",
       "      <td>MultinomialNB</td>\n",
       "      <td>0.8940</td>\n",
       "    </tr>\n",
       "    <tr>\n",
       "      <th>34</th>\n",
       "      <td>MultinomialNB</td>\n",
       "      <td>0.8860</td>\n",
       "    </tr>\n",
       "    <tr>\n",
       "      <th>35</th>\n",
       "      <td>LogisticRegression</td>\n",
       "      <td>0.8870</td>\n",
       "    </tr>\n",
       "    <tr>\n",
       "      <th>36</th>\n",
       "      <td>LogisticRegression</td>\n",
       "      <td>0.8740</td>\n",
       "    </tr>\n",
       "    <tr>\n",
       "      <th>37</th>\n",
       "      <td>LogisticRegression</td>\n",
       "      <td>0.8890</td>\n",
       "    </tr>\n",
       "    <tr>\n",
       "      <th>38</th>\n",
       "      <td>LogisticRegression</td>\n",
       "      <td>0.8890</td>\n",
       "    </tr>\n",
       "    <tr>\n",
       "      <th>39</th>\n",
       "      <td>LogisticRegression</td>\n",
       "      <td>0.8795</td>\n",
       "    </tr>\n",
       "  </tbody>\n",
       "</table>\n",
       "</div>"
      ],
      "text/plain": [
       "                model_name  accuracy\n",
       "0   RandomForestClassifier    0.7155\n",
       "1   RandomForestClassifier    0.6980\n",
       "2   RandomForestClassifier    0.7285\n",
       "3   RandomForestClassifier    0.7170\n",
       "4   RandomForestClassifier    0.6925\n",
       "5                LinearSVC    0.8740\n",
       "6                LinearSVC    0.8725\n",
       "7                LinearSVC    0.8825\n",
       "8                LinearSVC    0.8800\n",
       "9                LinearSVC    0.8830\n",
       "10           MultinomialNB    0.8880\n",
       "11           MultinomialNB    0.8755\n",
       "12           MultinomialNB    0.8850\n",
       "13           MultinomialNB    0.8940\n",
       "14           MultinomialNB    0.8860\n",
       "15      LogisticRegression    0.8870\n",
       "16      LogisticRegression    0.8740\n",
       "17      LogisticRegression    0.8890\n",
       "18      LogisticRegression    0.8890\n",
       "19      LogisticRegression    0.8795\n",
       "20  RandomForestClassifier    0.7155\n",
       "21  RandomForestClassifier    0.6980\n",
       "22  RandomForestClassifier    0.7285\n",
       "23  RandomForestClassifier    0.7170\n",
       "24  RandomForestClassifier    0.6925\n",
       "25               LinearSVC    0.8740\n",
       "26               LinearSVC    0.8725\n",
       "27               LinearSVC    0.8825\n",
       "28               LinearSVC    0.8800\n",
       "29               LinearSVC    0.8830\n",
       "30           MultinomialNB    0.8880\n",
       "31           MultinomialNB    0.8755\n",
       "32           MultinomialNB    0.8850\n",
       "33           MultinomialNB    0.8940\n",
       "34           MultinomialNB    0.8860\n",
       "35      LogisticRegression    0.8870\n",
       "36      LogisticRegression    0.8740\n",
       "37      LogisticRegression    0.8890\n",
       "38      LogisticRegression    0.8890\n",
       "39      LogisticRegression    0.8795"
      ]
     },
     "execution_count": 64,
     "metadata": {},
     "output_type": "execute_result"
    }
   ],
   "source": [
    "#cv_df.to_csv(AG_NEWS/'ml_agnews_accu_10', index = False)\n",
    "ml_agnews_accu_10 = pd.read_csv(AG_NEWS/'ml_agnews_accu_10')\n",
    "ml_agnews_accu_10"
   ]
  },
  {
   "cell_type": "code",
   "execution_count": 32,
   "metadata": {
    "ExecuteTime": {
     "end_time": "2020-01-07T02:40:30.833660Z",
     "start_time": "2020-01-07T02:40:30.678164Z"
    }
   },
   "outputs": [
    {
     "data": {
      "image/png": "[encoded data removed]"
     },
     "metadata": {},
     "output_type": "display_data"
    }
   ],
   "source": [
    "%%R -i cv_df -w 7 -h 5 -u in \n",
    "\n",
    "library(ggplot2)\n",
    "ggplot(cv_df, aes(x= model_name)) +\n",
    "    geom_jitter(aes(y = accuracy) )\n",
    "\n"
   ]
  },
  {
   "cell_type": "markdown",
   "metadata": {
    "ExecuteTime": {
     "start_time": "2020-01-07T02:21:46.011Z"
    }
   },
   "source": [
    "##### DL methods"
   ]
  },
  {
   "cell_type": "code",
   "execution_count": 28,
   "metadata": {
    "ExecuteTime": {
     "end_time": "2020-01-09T09:59:13.669432Z",
     "start_time": "2020-01-09T09:59:13.298822Z"
    }
   },
   "outputs": [],
   "source": [
    "# export\n",
    "# basic block\n",
    "from pytorch_transformers import *\n",
    "\n",
    "\n",
    "class Config(dict):\n",
    "    def __init__(self, **kwargs):\n",
    "        super().__init__(**kwargs)\n",
    "        for k, v in kwargs.items():\n",
    "            setattr(self, k, v)\n",
    "\n",
    "    def set(self, key, val):\n",
    "        self[key] = val\n",
    "        setattr(self, key, val)\n",
    "\n",
    "\n",
    "config = Config(\n",
    "    bert_model_name=\"bert-base-uncased\",\n",
    "    max_lr=3e-5,\n",
    "    epochs=1,\n",
    "    use_fp16=True,\n",
    "    bs= 32,\n",
    "    discriminative=False,\n",
    "    max_seq_len=128,\n",
    "   # num_labels=4  # Remember to set the num_labels here\n",
    ")\n",
    "\n",
    "bert_tok = BertTokenizer.from_pretrained(\n",
    "    config.bert_model_name,\n",
    ")\n",
    "\n",
    "\n",
    "class FastAiBertTokenizer(BaseTokenizer):\n",
    "    \"\"\"Wrapper around BertTokenizer to be compatible with fast.ai\"\"\"\n",
    "\n",
    "    def __init__(self, tokenizer: BertTokenizer, max_seq_len: int = 128, **kwargs):\n",
    "        self._pretrained_tokenizer = tokenizer\n",
    "        self.max_seq_len = max_seq_len\n",
    "\n",
    "    def __call__(self, *args, **kwargs):\n",
    "        return self\n",
    "\n",
    "    def tokenizer(self, t: str) -> List[str]:\n",
    "        \"\"\"Limits the maximum sequence length\"\"\"\n",
    "        return [\"[CLS]\"] + self._pretrained_tokenizer.tokenize(t)[:self.max_seq_len - 2] + [\"[SEP]\"]\n",
    "\n",
    "\n",
    "fastai_tokenizer = Tokenizer(tok_func=FastAiBertTokenizer(\n",
    "    bert_tok, max_seq_len=config.max_seq_len), pre_rules=[], post_rules=[])\n",
    "\n",
    "fastai_bert_vocab = Vocab(list(bert_tok.vocab.keys()))\n",
    "\n",
    "\n",
    "\n",
    "loss_func = nn.CrossEntropyLoss()\n",
    "\n",
    "\n",
    "def loss_batch_bert(model: nn.Module, xb: Tensor, yb: Tensor, loss_func: OptLossFunc = None, opt: OptOptimizer = None,\n",
    "                    cb_handler: Optional[CallbackHandler] = None) -> Tuple[Union[Tensor, int, float, str]]:\n",
    "    \"Calculate loss and metrics for a batch, call out to callbacks as necessary.\"\n",
    "    cb_handler = ifnone(cb_handler, CallbackHandler())\n",
    "    if not is_listy(xb):\n",
    "        xb = [xb]\n",
    "    if not is_listy(yb):\n",
    "        yb = [yb]\n",
    "    out = model(*xb)\n",
    "    # pdb.set_trace()\n",
    "    out = out[0]\n",
    "    out = cb_handler.on_loss_begin(out)\n",
    "\n",
    "    if not loss_func:\n",
    "        return to_detach(out), yb[0].detach()\n",
    "    loss = loss_func(out, *yb)\n",
    "\n",
    "    if opt is not None:\n",
    "        loss, skip_bwd = cb_handler.on_backward_begin(loss)\n",
    "        if not skip_bwd:\n",
    "            loss.backward()\n",
    "        if not cb_handler.on_backward_end():\n",
    "            opt.step()\n",
    "        if not cb_handler.on_step_end():\n",
    "            opt.zero_grad()\n",
    "\n",
    "    return loss.detach().cpu()\n",
    "\n",
    "\n",
    "# To change the loss_batch function in the loaded fastai module\n",
    "module_basic_train = sys.modules['fastai.basic_train']\n",
    "module_basic_train.loss_batch = loss_batch_bert\n",
    "sys.modules['fastai.basic_train'] = module_basic_train"
   ]
  },
  {
   "cell_type": "code",
   "execution_count": 14,
   "metadata": {
    "ExecuteTime": {
     "end_time": "2020-01-07T04:31:02.668521Z",
     "start_time": "2020-01-07T04:31:02.643140Z"
    }
   },
   "outputs": [],
   "source": [
    "#train, val = train_test_split(df)\n",
    "label_cols = ['class']\n",
    "\n",
    "#bert_model = BertForSequenceClassification.from_pretrained(config.bert_model_name, num_labels= config.num_labels)\n",
    "\n",
    "accus = []\n",
    "\n",
    "# use StratifiedKFold to CV 5 folds \n",
    "for train_idx, val_idx in StratifiedKFold(n_splits=5,  shuffle=True).split(df, df['class']):\n",
    "    train = df.iloc[train_idx, :]\n",
    "    val = df.iloc[val_idx, :]\n",
    "    bert_model = BertForSequenceClassification.from_pretrained(config.bert_model_name, num_labels= 4)\n",
    "    \n",
    "    databunch = TextDataBunch.from_df(AG_NEWS, train, val,\n",
    "                      tokenizer=fastai_tokenizer,\n",
    "                      vocab=fastai_bert_vocab,\n",
    "                      include_bos=False,\n",
    "                      include_eos=False,\n",
    "                      text_cols= \"describ\",\n",
    "                      label_cols=label_cols,\n",
    "                      bs= 64,\n",
    "                      collate_fn=partial(pad_collate, pad_first=False, pad_idx=0),\n",
    "                 )\n",
    "    \n",
    "    learner = Learner(\n",
    "    databunch, bert_model,\n",
    "    loss_func=loss_func, metrics = accuracy)\n",
    "\n",
    "    learner.fit_one_cycle(5, 1e-04)\n",
    "    _, accu = learner.validate()\n",
    "    accus.append(accu)\n",
    "    \n"
   ]
  },
  {
   "cell_type": "code",
   "execution_count": 43,
   "metadata": {
    "ExecuteTime": {
     "end_time": "2020-01-07T05:11:17.953898Z",
     "start_time": "2020-01-07T05:11:17.925936Z"
    }
   },
   "outputs": [],
   "source": [
    "accus = [i.item() for i in accus]"
   ]
  },
  {
   "cell_type": "code",
   "execution_count": 44,
   "metadata": {
    "ExecuteTime": {
     "end_time": "2020-01-07T05:11:19.975142Z",
     "start_time": "2020-01-07T05:11:19.947403Z"
    }
   },
   "outputs": [
    {
     "data": {
      "text/plain": [
       "[0.9104999899864197,\n",
       " 0.921500027179718,\n",
       " 0.9235000014305115,\n",
       " 0.9144999980926514,\n",
       " 0.9114999771118164]"
      ]
     },
     "execution_count": 44,
     "metadata": {},
     "output_type": "execute_result"
    }
   ],
   "source": [
    "accus"
   ]
  },
  {
   "cell_type": "code",
   "execution_count": 45,
   "metadata": {
    "ExecuteTime": {
     "end_time": "2020-01-07T05:11:28.063607Z",
     "start_time": "2020-01-07T05:11:28.030380Z"
    }
   },
   "outputs": [],
   "source": [
    "bert_agnews_accu_5 = pd.DataFrame({\n",
    "    'model_name' : ['Bert'] * 5,\n",
    "    'accuracy' : accus\n",
    "})\n",
    "\n",
    "bert_agnews_accu_5.to_csv(AG_NEWS/'bert_agnews_accu_5', index = False)\n",
    "bert_agnews_accu_5 = pd.read_csv(AG_NEWS/'bert_agnews_accu_5')"
   ]
  },
  {
   "cell_type": "code",
   "execution_count": 46,
   "metadata": {
    "ExecuteTime": {
     "end_time": "2020-01-07T05:11:35.565777Z",
     "start_time": "2020-01-07T05:11:35.288848Z"
    }
   },
   "outputs": [
    {
     "data": {
      "image/png": "[encoded data removed]"
     },
     "metadata": {},
     "output_type": "display_data"
    }
   ],
   "source": [
    "%%R -i bert_agnews_accu_5 -w 7 -h 5 -u in \n",
    "#library(ggplot2)\n",
    "ggplot(bert_agnews_accu_5, aes(x= model_name)) +\n",
    "    geom_jitter(aes(y = accuracy) )\n",
    "\n"
   ]
  },
  {
   "cell_type": "code",
   "execution_count": null,
   "metadata": {},
   "outputs": [],
   "source": []
  },
  {
   "cell_type": "markdown",
   "metadata": {},
   "source": [
    "#### Dbpedia data"
   ]
  },
  {
   "cell_type": "markdown",
   "metadata": {},
   "source": [
    "##### ML part"
   ]
  },
  {
   "cell_type": "code",
   "execution_count": 10,
   "metadata": {
    "ExecuteTime": {
     "end_time": "2020-01-07T08:19:00.638299Z",
     "start_time": "2020-01-07T07:53:07.321784Z"
    }
   },
   "outputs": [
    {
     "name": "stdout",
     "output_type": "stream",
     "text": [
      "finished RandomForestClassifier, 0th bootstrap of 0th epochs\n",
      "finished RandomForestClassifier, 0th bootstrap of 1th epochs\n",
      "finished RandomForestClassifier, 0th bootstrap of 2th epochs\n",
      "finished RandomForestClassifier, 0th bootstrap of 3th epochs\n",
      "finished RandomForestClassifier, 0th bootstrap of 4th epochs\n",
      "finished LinearSVC, 0th bootstrap of 0th epochs\n",
      "finished LinearSVC, 0th bootstrap of 1th epochs\n",
      "finished LinearSVC, 0th bootstrap of 2th epochs\n",
      "finished LinearSVC, 0th bootstrap of 3th epochs\n",
      "finished LinearSVC, 0th bootstrap of 4th epochs\n",
      "finished MultinomialNB, 0th bootstrap of 0th epochs\n",
      "finished MultinomialNB, 0th bootstrap of 1th epochs\n",
      "finished MultinomialNB, 0th bootstrap of 2th epochs\n",
      "finished MultinomialNB, 0th bootstrap of 3th epochs\n",
      "finished MultinomialNB, 0th bootstrap of 4th epochs\n",
      "finished LogisticRegression, 0th bootstrap of 0th epochs\n",
      "finished LogisticRegression, 0th bootstrap of 1th epochs\n",
      "finished LogisticRegression, 0th bootstrap of 2th epochs\n",
      "finished LogisticRegression, 0th bootstrap of 3th epochs\n",
      "finished LogisticRegression, 0th bootstrap of 4th epochs\n",
      "finished RandomForestClassifier, 1th bootstrap of 0th epochs\n",
      "finished RandomForestClassifier, 1th bootstrap of 1th epochs\n",
      "finished RandomForestClassifier, 1th bootstrap of 2th epochs\n",
      "finished RandomForestClassifier, 1th bootstrap of 3th epochs\n",
      "finished RandomForestClassifier, 1th bootstrap of 4th epochs\n",
      "finished LinearSVC, 1th bootstrap of 0th epochs\n",
      "finished LinearSVC, 1th bootstrap of 1th epochs\n",
      "finished LinearSVC, 1th bootstrap of 2th epochs\n",
      "finished LinearSVC, 1th bootstrap of 3th epochs\n",
      "finished LinearSVC, 1th bootstrap of 4th epochs\n",
      "finished MultinomialNB, 1th bootstrap of 0th epochs\n",
      "finished MultinomialNB, 1th bootstrap of 1th epochs\n",
      "finished MultinomialNB, 1th bootstrap of 2th epochs\n",
      "finished MultinomialNB, 1th bootstrap of 3th epochs\n",
      "finished MultinomialNB, 1th bootstrap of 4th epochs\n",
      "finished LogisticRegression, 1th bootstrap of 0th epochs\n",
      "finished LogisticRegression, 1th bootstrap of 1th epochs\n",
      "finished LogisticRegression, 1th bootstrap of 2th epochs\n",
      "finished LogisticRegression, 1th bootstrap of 3th epochs\n",
      "finished LogisticRegression, 1th bootstrap of 4th epochs\n"
     ]
    }
   ],
   "source": [
    "df = DBPEDIA_TRAIN # set df as inner pointer to this dataset\n",
    "df.head(2)\n",
    "\n",
    "# Set the global vars for this dataset for diverse algorithums\n",
    "\n",
    "df['category_id'] = df['class'].factorize()[0]\n",
    "\n",
    "category_id_df = df[['class', 'category_id']\n",
    "                    ].drop_duplicates().sort_values('category_id')\n",
    "category_to_id = dict(category_id_df.values)\n",
    "id_to_category = {v: k for k, v in category_to_id.items()}\n",
    "\n",
    "tfidf = TfidfVectorizer(sublinear_tf=True, norm='l2', min_df=5,\n",
    "                        encoding='latin-1', ngram_range=(1, 3), stop_words='english')\n",
    "\n",
    "features = tfidf.fit_transform(df.contents).toarray()  # features is the global var for this dataset block\n",
    "\n",
    "labels = df.category_id  # labels also a global var\n",
    "\n",
    "features.shape  # of size (30000, 24903)\n",
    "\n",
    "models = [RandomForestClassifier(n_estimators=200, max_depth=3, random_state=0),\n",
    "          LinearSVC(),\n",
    "          MultinomialNB(),\n",
    "          LogisticRegression(random_state=0, max_iter= 200)]\n",
    "\n",
    "boot_num = 2\n",
    "CV = 5\n",
    "cv_df = pd.DataFrame(index=range(CV * len(models)))\n",
    "entries = []\n",
    "\n",
    "for i in range(boot_num):\n",
    "    for model in models:\n",
    "        model_name = model.__class__.__name__\n",
    "        accuracies = cross_val_score(model, features, labels, scoring='accuracy', cv=CV)\n",
    "        for _, accuracy in enumerate(accuracies):\n",
    "            print(f'finished {model_name}, {i}th bootstrap of {_}th epochs')\n",
    "            entries.append((model_name, accuracy))\n",
    "\n",
    "        \n",
    "cv_df = pd.DataFrame(entries, columns=['model_name', 'accuracy'])"
   ]
  },
  {
   "cell_type": "code",
   "execution_count": 11,
   "metadata": {
    "ExecuteTime": {
     "end_time": "2020-01-07T08:19:19.975462Z",
     "start_time": "2020-01-07T08:19:19.937665Z"
    }
   },
   "outputs": [
    {
     "data": {
      "text/html": [
       "<div>\n",
       "<style scoped>\n",
       "    .dataframe tbody tr th:only-of-type {\n",
       "        vertical-align: middle;\n",
       "    }\n",
       "\n",
       "    .dataframe tbody tr th {\n",
       "        vertical-align: top;\n",
       "    }\n",
       "\n",
       "    .dataframe thead th {\n",
       "        text-align: right;\n",
       "    }\n",
       "</style>\n",
       "<table border=\"1\" class=\"dataframe\">\n",
       "  <thead>\n",
       "    <tr style=\"text-align: right;\">\n",
       "      <th></th>\n",
       "      <th>model_name</th>\n",
       "      <th>accuracy</th>\n",
       "    </tr>\n",
       "  </thead>\n",
       "  <tbody>\n",
       "    <tr>\n",
       "      <th>0</th>\n",
       "      <td>RandomForestClassifier</td>\n",
       "      <td>0.811995</td>\n",
       "    </tr>\n",
       "    <tr>\n",
       "      <th>1</th>\n",
       "      <td>RandomForestClassifier</td>\n",
       "      <td>0.815374</td>\n",
       "    </tr>\n",
       "    <tr>\n",
       "      <th>2</th>\n",
       "      <td>RandomForestClassifier</td>\n",
       "      <td>0.817349</td>\n",
       "    </tr>\n",
       "    <tr>\n",
       "      <th>3</th>\n",
       "      <td>RandomForestClassifier</td>\n",
       "      <td>0.815553</td>\n",
       "    </tr>\n",
       "    <tr>\n",
       "      <th>4</th>\n",
       "      <td>RandomForestClassifier</td>\n",
       "      <td>0.818068</td>\n",
       "    </tr>\n",
       "    <tr>\n",
       "      <th>5</th>\n",
       "      <td>LinearSVC</td>\n",
       "      <td>0.976836</td>\n",
       "    </tr>\n",
       "    <tr>\n",
       "      <th>6</th>\n",
       "      <td>LinearSVC</td>\n",
       "      <td>0.975036</td>\n",
       "    </tr>\n",
       "    <tr>\n",
       "      <th>7</th>\n",
       "      <td>LinearSVC</td>\n",
       "      <td>0.976293</td>\n",
       "    </tr>\n",
       "    <tr>\n",
       "      <th>8</th>\n",
       "      <td>LinearSVC</td>\n",
       "      <td>0.971085</td>\n",
       "    </tr>\n",
       "    <tr>\n",
       "      <th>9</th>\n",
       "      <td>LinearSVC</td>\n",
       "      <td>0.970726</td>\n",
       "    </tr>\n",
       "    <tr>\n",
       "      <th>10</th>\n",
       "      <td>MultinomialNB</td>\n",
       "      <td>0.962650</td>\n",
       "    </tr>\n",
       "    <tr>\n",
       "      <th>11</th>\n",
       "      <td>MultinomialNB</td>\n",
       "      <td>0.961386</td>\n",
       "    </tr>\n",
       "    <tr>\n",
       "      <th>12</th>\n",
       "      <td>MultinomialNB</td>\n",
       "      <td>0.959231</td>\n",
       "    </tr>\n",
       "    <tr>\n",
       "      <th>13</th>\n",
       "      <td>MultinomialNB</td>\n",
       "      <td>0.957795</td>\n",
       "    </tr>\n",
       "    <tr>\n",
       "      <th>14</th>\n",
       "      <td>MultinomialNB</td>\n",
       "      <td>0.957256</td>\n",
       "    </tr>\n",
       "    <tr>\n",
       "      <th>15</th>\n",
       "      <td>LogisticRegression</td>\n",
       "      <td>0.970372</td>\n",
       "    </tr>\n",
       "    <tr>\n",
       "      <th>16</th>\n",
       "      <td>LogisticRegression</td>\n",
       "      <td>0.970007</td>\n",
       "    </tr>\n",
       "    <tr>\n",
       "      <th>17</th>\n",
       "      <td>LogisticRegression</td>\n",
       "      <td>0.971264</td>\n",
       "    </tr>\n",
       "    <tr>\n",
       "      <th>18</th>\n",
       "      <td>LogisticRegression</td>\n",
       "      <td>0.966595</td>\n",
       "    </tr>\n",
       "    <tr>\n",
       "      <th>19</th>\n",
       "      <td>LogisticRegression</td>\n",
       "      <td>0.966236</td>\n",
       "    </tr>\n",
       "    <tr>\n",
       "      <th>20</th>\n",
       "      <td>RandomForestClassifier</td>\n",
       "      <td>0.811995</td>\n",
       "    </tr>\n",
       "    <tr>\n",
       "      <th>21</th>\n",
       "      <td>RandomForestClassifier</td>\n",
       "      <td>0.815374</td>\n",
       "    </tr>\n",
       "    <tr>\n",
       "      <th>22</th>\n",
       "      <td>RandomForestClassifier</td>\n",
       "      <td>0.817349</td>\n",
       "    </tr>\n",
       "    <tr>\n",
       "      <th>23</th>\n",
       "      <td>RandomForestClassifier</td>\n",
       "      <td>0.815553</td>\n",
       "    </tr>\n",
       "    <tr>\n",
       "      <th>24</th>\n",
       "      <td>RandomForestClassifier</td>\n",
       "      <td>0.818068</td>\n",
       "    </tr>\n",
       "    <tr>\n",
       "      <th>25</th>\n",
       "      <td>LinearSVC</td>\n",
       "      <td>0.976836</td>\n",
       "    </tr>\n",
       "    <tr>\n",
       "      <th>26</th>\n",
       "      <td>LinearSVC</td>\n",
       "      <td>0.975036</td>\n",
       "    </tr>\n",
       "    <tr>\n",
       "      <th>27</th>\n",
       "      <td>LinearSVC</td>\n",
       "      <td>0.976293</td>\n",
       "    </tr>\n",
       "    <tr>\n",
       "      <th>28</th>\n",
       "      <td>LinearSVC</td>\n",
       "      <td>0.971085</td>\n",
       "    </tr>\n",
       "    <tr>\n",
       "      <th>29</th>\n",
       "      <td>LinearSVC</td>\n",
       "      <td>0.970726</td>\n",
       "    </tr>\n",
       "    <tr>\n",
       "      <th>30</th>\n",
       "      <td>MultinomialNB</td>\n",
       "      <td>0.962650</td>\n",
       "    </tr>\n",
       "    <tr>\n",
       "      <th>31</th>\n",
       "      <td>MultinomialNB</td>\n",
       "      <td>0.961386</td>\n",
       "    </tr>\n",
       "    <tr>\n",
       "      <th>32</th>\n",
       "      <td>MultinomialNB</td>\n",
       "      <td>0.959231</td>\n",
       "    </tr>\n",
       "    <tr>\n",
       "      <th>33</th>\n",
       "      <td>MultinomialNB</td>\n",
       "      <td>0.957795</td>\n",
       "    </tr>\n",
       "    <tr>\n",
       "      <th>34</th>\n",
       "      <td>MultinomialNB</td>\n",
       "      <td>0.957256</td>\n",
       "    </tr>\n",
       "    <tr>\n",
       "      <th>35</th>\n",
       "      <td>LogisticRegression</td>\n",
       "      <td>0.970372</td>\n",
       "    </tr>\n",
       "    <tr>\n",
       "      <th>36</th>\n",
       "      <td>LogisticRegression</td>\n",
       "      <td>0.970007</td>\n",
       "    </tr>\n",
       "    <tr>\n",
       "      <th>37</th>\n",
       "      <td>LogisticRegression</td>\n",
       "      <td>0.971264</td>\n",
       "    </tr>\n",
       "    <tr>\n",
       "      <th>38</th>\n",
       "      <td>LogisticRegression</td>\n",
       "      <td>0.966595</td>\n",
       "    </tr>\n",
       "    <tr>\n",
       "      <th>39</th>\n",
       "      <td>LogisticRegression</td>\n",
       "      <td>0.966236</td>\n",
       "    </tr>\n",
       "  </tbody>\n",
       "</table>\n",
       "</div>"
      ],
      "text/plain": [
       "                model_name  accuracy\n",
       "0   RandomForestClassifier  0.811995\n",
       "1   RandomForestClassifier  0.815374\n",
       "2   RandomForestClassifier  0.817349\n",
       "3   RandomForestClassifier  0.815553\n",
       "4   RandomForestClassifier  0.818068\n",
       "5                LinearSVC  0.976836\n",
       "6                LinearSVC  0.975036\n",
       "7                LinearSVC  0.976293\n",
       "8                LinearSVC  0.971085\n",
       "9                LinearSVC  0.970726\n",
       "10           MultinomialNB  0.962650\n",
       "11           MultinomialNB  0.961386\n",
       "12           MultinomialNB  0.959231\n",
       "13           MultinomialNB  0.957795\n",
       "14           MultinomialNB  0.957256\n",
       "15      LogisticRegression  0.970372\n",
       "16      LogisticRegression  0.970007\n",
       "17      LogisticRegression  0.971264\n",
       "18      LogisticRegression  0.966595\n",
       "19      LogisticRegression  0.966236\n",
       "20  RandomForestClassifier  0.811995\n",
       "21  RandomForestClassifier  0.815374\n",
       "22  RandomForestClassifier  0.817349\n",
       "23  RandomForestClassifier  0.815553\n",
       "24  RandomForestClassifier  0.818068\n",
       "25               LinearSVC  0.976836\n",
       "26               LinearSVC  0.975036\n",
       "27               LinearSVC  0.976293\n",
       "28               LinearSVC  0.971085\n",
       "29               LinearSVC  0.970726\n",
       "30           MultinomialNB  0.962650\n",
       "31           MultinomialNB  0.961386\n",
       "32           MultinomialNB  0.959231\n",
       "33           MultinomialNB  0.957795\n",
       "34           MultinomialNB  0.957256\n",
       "35      LogisticRegression  0.970372\n",
       "36      LogisticRegression  0.970007\n",
       "37      LogisticRegression  0.971264\n",
       "38      LogisticRegression  0.966595\n",
       "39      LogisticRegression  0.966236"
      ]
     },
     "execution_count": 11,
     "metadata": {},
     "output_type": "execute_result"
    }
   ],
   "source": [
    "cv_df.to_csv(DBPEDIA/'ml_dbpedia_accu_10', index = False)\n",
    "ml_dbpedia_accu_10 = pd.read_csv(DBPEDIA/'ml_dbpedia_accu_10')\n",
    "ml_dbpedia_accu_10"
   ]
  },
  {
   "cell_type": "markdown",
   "metadata": {},
   "source": [
    "##### DL part"
   ]
  },
  {
   "cell_type": "code",
   "execution_count": 90,
   "metadata": {
    "ExecuteTime": {
     "end_time": "2020-01-07T06:55:39.150503Z",
     "start_time": "2020-01-07T05:37:26.593043Z"
    }
   },
   "outputs": [
    {
     "data": {
      "text/html": [],
      "text/plain": [
       "<IPython.core.display.HTML object>"
      ]
     },
     "metadata": {},
     "output_type": "display_data"
    },
    {
     "data": {
      "text/html": [],
      "text/plain": [
       "<IPython.core.display.HTML object>"
      ]
     },
     "metadata": {},
     "output_type": "display_data"
    },
    {
     "data": {
      "text/html": [
       "<table border=\"1\" class=\"dataframe\">\n",
       "  <thead>\n",
       "    <tr style=\"text-align: left;\">\n",
       "      <th>epoch</th>\n",
       "      <th>train_loss</th>\n",
       "      <th>valid_loss</th>\n",
       "      <th>accuracy</th>\n",
       "      <th>time</th>\n",
       "    </tr>\n",
       "  </thead>\n",
       "  <tbody>\n",
       "    <tr>\n",
       "      <td>0</td>\n",
       "      <td>0.101611</td>\n",
       "      <td>0.057224</td>\n",
       "      <td>0.988508</td>\n",
       "      <td>02:49</td>\n",
       "    </tr>\n",
       "    <tr>\n",
       "      <td>1</td>\n",
       "      <td>0.066836</td>\n",
       "      <td>0.067512</td>\n",
       "      <td>0.984917</td>\n",
       "      <td>02:49</td>\n",
       "    </tr>\n",
       "    <tr>\n",
       "      <td>2</td>\n",
       "      <td>0.039955</td>\n",
       "      <td>0.052604</td>\n",
       "      <td>0.988508</td>\n",
       "      <td>02:49</td>\n",
       "    </tr>\n",
       "    <tr>\n",
       "      <td>3</td>\n",
       "      <td>0.022419</td>\n",
       "      <td>0.044344</td>\n",
       "      <td>0.990663</td>\n",
       "      <td>02:49</td>\n",
       "    </tr>\n",
       "    <tr>\n",
       "      <td>4</td>\n",
       "      <td>0.012598</td>\n",
       "      <td>0.043295</td>\n",
       "      <td>0.992279</td>\n",
       "      <td>02:49</td>\n",
       "    </tr>\n",
       "  </tbody>\n",
       "</table>"
      ],
      "text/plain": [
       "<IPython.core.display.HTML object>"
      ]
     },
     "metadata": {},
     "output_type": "display_data"
    },
    {
     "data": {
      "text/html": [],
      "text/plain": [
       "<IPython.core.display.HTML object>"
      ]
     },
     "metadata": {},
     "output_type": "display_data"
    },
    {
     "data": {
      "text/html": [],
      "text/plain": [
       "<IPython.core.display.HTML object>"
      ]
     },
     "metadata": {},
     "output_type": "display_data"
    },
    {
     "data": {
      "text/html": [],
      "text/plain": [
       "<IPython.core.display.HTML object>"
      ]
     },
     "metadata": {},
     "output_type": "display_data"
    },
    {
     "data": {
      "text/html": [
       "<table border=\"1\" class=\"dataframe\">\n",
       "  <thead>\n",
       "    <tr style=\"text-align: left;\">\n",
       "      <th>epoch</th>\n",
       "      <th>train_loss</th>\n",
       "      <th>valid_loss</th>\n",
       "      <th>accuracy</th>\n",
       "      <th>time</th>\n",
       "    </tr>\n",
       "  </thead>\n",
       "  <tbody>\n",
       "    <tr>\n",
       "      <td>0</td>\n",
       "      <td>0.127935</td>\n",
       "      <td>0.071032</td>\n",
       "      <td>0.985991</td>\n",
       "      <td>03:11</td>\n",
       "    </tr>\n",
       "    <tr>\n",
       "      <td>1</td>\n",
       "      <td>0.081126</td>\n",
       "      <td>0.069929</td>\n",
       "      <td>0.984555</td>\n",
       "      <td>02:57</td>\n",
       "    </tr>\n",
       "    <tr>\n",
       "      <td>2</td>\n",
       "      <td>0.030810</td>\n",
       "      <td>0.064293</td>\n",
       "      <td>0.988147</td>\n",
       "      <td>03:08</td>\n",
       "    </tr>\n",
       "    <tr>\n",
       "      <td>3</td>\n",
       "      <td>0.015263</td>\n",
       "      <td>0.054442</td>\n",
       "      <td>0.988865</td>\n",
       "      <td>02:58</td>\n",
       "    </tr>\n",
       "    <tr>\n",
       "      <td>4</td>\n",
       "      <td>0.006597</td>\n",
       "      <td>0.059375</td>\n",
       "      <td>0.989045</td>\n",
       "      <td>02:51</td>\n",
       "    </tr>\n",
       "  </tbody>\n",
       "</table>"
      ],
      "text/plain": [
       "<IPython.core.display.HTML object>"
      ]
     },
     "metadata": {},
     "output_type": "display_data"
    },
    {
     "data": {
      "text/html": [],
      "text/plain": [
       "<IPython.core.display.HTML object>"
      ]
     },
     "metadata": {},
     "output_type": "display_data"
    },
    {
     "data": {
      "text/html": [],
      "text/plain": [
       "<IPython.core.display.HTML object>"
      ]
     },
     "metadata": {},
     "output_type": "display_data"
    },
    {
     "data": {
      "text/html": [],
      "text/plain": [
       "<IPython.core.display.HTML object>"
      ]
     },
     "metadata": {},
     "output_type": "display_data"
    },
    {
     "data": {
      "text/html": [
       "<table border=\"1\" class=\"dataframe\">\n",
       "  <thead>\n",
       "    <tr style=\"text-align: left;\">\n",
       "      <th>epoch</th>\n",
       "      <th>train_loss</th>\n",
       "      <th>valid_loss</th>\n",
       "      <th>accuracy</th>\n",
       "      <th>time</th>\n",
       "    </tr>\n",
       "  </thead>\n",
       "  <tbody>\n",
       "    <tr>\n",
       "      <td>0</td>\n",
       "      <td>0.122561</td>\n",
       "      <td>0.074562</td>\n",
       "      <td>0.986530</td>\n",
       "      <td>03:14</td>\n",
       "    </tr>\n",
       "    <tr>\n",
       "      <td>1</td>\n",
       "      <td>0.077386</td>\n",
       "      <td>0.065294</td>\n",
       "      <td>0.985991</td>\n",
       "      <td>02:50</td>\n",
       "    </tr>\n",
       "    <tr>\n",
       "      <td>2</td>\n",
       "      <td>0.038542</td>\n",
       "      <td>0.069332</td>\n",
       "      <td>0.983118</td>\n",
       "      <td>03:10</td>\n",
       "    </tr>\n",
       "    <tr>\n",
       "      <td>3</td>\n",
       "      <td>0.017741</td>\n",
       "      <td>0.053479</td>\n",
       "      <td>0.987967</td>\n",
       "      <td>03:09</td>\n",
       "    </tr>\n",
       "    <tr>\n",
       "      <td>4</td>\n",
       "      <td>0.012268</td>\n",
       "      <td>0.055812</td>\n",
       "      <td>0.990302</td>\n",
       "      <td>03:00</td>\n",
       "    </tr>\n",
       "  </tbody>\n",
       "</table>"
      ],
      "text/plain": [
       "<IPython.core.display.HTML object>"
      ]
     },
     "metadata": {},
     "output_type": "display_data"
    },
    {
     "data": {
      "text/html": [],
      "text/plain": [
       "<IPython.core.display.HTML object>"
      ]
     },
     "metadata": {},
     "output_type": "display_data"
    },
    {
     "data": {
      "text/html": [],
      "text/plain": [
       "<IPython.core.display.HTML object>"
      ]
     },
     "metadata": {},
     "output_type": "display_data"
    },
    {
     "data": {
      "text/html": [],
      "text/plain": [
       "<IPython.core.display.HTML object>"
      ]
     },
     "metadata": {},
     "output_type": "display_data"
    },
    {
     "data": {
      "text/html": [
       "<table border=\"1\" class=\"dataframe\">\n",
       "  <thead>\n",
       "    <tr style=\"text-align: left;\">\n",
       "      <th>epoch</th>\n",
       "      <th>train_loss</th>\n",
       "      <th>valid_loss</th>\n",
       "      <th>accuracy</th>\n",
       "      <th>time</th>\n",
       "    </tr>\n",
       "  </thead>\n",
       "  <tbody>\n",
       "    <tr>\n",
       "      <td>0</td>\n",
       "      <td>0.131571</td>\n",
       "      <td>0.073313</td>\n",
       "      <td>0.986889</td>\n",
       "      <td>03:19</td>\n",
       "    </tr>\n",
       "    <tr>\n",
       "      <td>1</td>\n",
       "      <td>0.074705</td>\n",
       "      <td>0.056656</td>\n",
       "      <td>0.987428</td>\n",
       "      <td>03:11</td>\n",
       "    </tr>\n",
       "    <tr>\n",
       "      <td>2</td>\n",
       "      <td>0.047166</td>\n",
       "      <td>0.055322</td>\n",
       "      <td>0.985632</td>\n",
       "      <td>03:13</td>\n",
       "    </tr>\n",
       "    <tr>\n",
       "      <td>3</td>\n",
       "      <td>0.019190</td>\n",
       "      <td>0.051438</td>\n",
       "      <td>0.988506</td>\n",
       "      <td>03:04</td>\n",
       "    </tr>\n",
       "    <tr>\n",
       "      <td>4</td>\n",
       "      <td>0.008112</td>\n",
       "      <td>0.050731</td>\n",
       "      <td>0.990122</td>\n",
       "      <td>03:19</td>\n",
       "    </tr>\n",
       "  </tbody>\n",
       "</table>"
      ],
      "text/plain": [
       "<IPython.core.display.HTML object>"
      ]
     },
     "metadata": {},
     "output_type": "display_data"
    },
    {
     "data": {
      "text/html": [],
      "text/plain": [
       "<IPython.core.display.HTML object>"
      ]
     },
     "metadata": {},
     "output_type": "display_data"
    },
    {
     "data": {
      "text/html": [],
      "text/plain": [
       "<IPython.core.display.HTML object>"
      ]
     },
     "metadata": {},
     "output_type": "display_data"
    },
    {
     "data": {
      "text/html": [],
      "text/plain": [
       "<IPython.core.display.HTML object>"
      ]
     },
     "metadata": {},
     "output_type": "display_data"
    },
    {
     "data": {
      "text/html": [
       "<table border=\"1\" class=\"dataframe\">\n",
       "  <thead>\n",
       "    <tr style=\"text-align: left;\">\n",
       "      <th>epoch</th>\n",
       "      <th>train_loss</th>\n",
       "      <th>valid_loss</th>\n",
       "      <th>accuracy</th>\n",
       "      <th>time</th>\n",
       "    </tr>\n",
       "  </thead>\n",
       "  <tbody>\n",
       "    <tr>\n",
       "      <td>0</td>\n",
       "      <td>0.132279</td>\n",
       "      <td>0.066882</td>\n",
       "      <td>0.987249</td>\n",
       "      <td>02:56</td>\n",
       "    </tr>\n",
       "    <tr>\n",
       "      <td>1</td>\n",
       "      <td>0.070772</td>\n",
       "      <td>0.063918</td>\n",
       "      <td>0.985991</td>\n",
       "      <td>03:17</td>\n",
       "    </tr>\n",
       "    <tr>\n",
       "      <td>2</td>\n",
       "      <td>0.040303</td>\n",
       "      <td>0.053309</td>\n",
       "      <td>0.988326</td>\n",
       "      <td>03:13</td>\n",
       "    </tr>\n",
       "    <tr>\n",
       "      <td>3</td>\n",
       "      <td>0.021852</td>\n",
       "      <td>0.054179</td>\n",
       "      <td>0.987249</td>\n",
       "      <td>02:49</td>\n",
       "    </tr>\n",
       "    <tr>\n",
       "      <td>4</td>\n",
       "      <td>0.008462</td>\n",
       "      <td>0.054850</td>\n",
       "      <td>0.987967</td>\n",
       "      <td>02:53</td>\n",
       "    </tr>\n",
       "  </tbody>\n",
       "</table>"
      ],
      "text/plain": [
       "<IPython.core.display.HTML object>"
      ]
     },
     "metadata": {},
     "output_type": "display_data"
    },
    {
     "data": {
      "text/html": [],
      "text/plain": [
       "<IPython.core.display.HTML object>"
      ]
     },
     "metadata": {},
     "output_type": "display_data"
    }
   ],
   "source": [
    "label_cols = ['class']\n",
    "accus = []\n",
    "\n",
    "# use StratifiedKFold to CV 5 folds \n",
    "for train_idx, val_idx in StratifiedKFold(n_splits=5,  shuffle=True).split(df, df['class']):\n",
    "    train = df.iloc[train_idx, :]\n",
    "    val = df.iloc[val_idx, :]\n",
    "    bert_model = BertForSequenceClassification.from_pretrained(config.bert_model_name, num_labels= 13)\n",
    "    \n",
    "    databunch = TextDataBunch.from_df(DBPEDIA, train, val,\n",
    "                      tokenizer=fastai_tokenizer,\n",
    "                      vocab=fastai_bert_vocab,\n",
    "                      include_bos=False,\n",
    "                      include_eos=False,\n",
    "                      text_cols= \"contents\",\n",
    "                      label_cols=label_cols,\n",
    "                      bs= 64,\n",
    "                      collate_fn=partial(pad_collate, pad_first=False, pad_idx=0),\n",
    "                 )\n",
    "    \n",
    "    learner = Learner(\n",
    "    databunch, bert_model,\n",
    "    loss_func=loss_func, metrics = accuracy)\n",
    "\n",
    "    learner.fit_one_cycle(5, 1e-04, moms=(0.8,0.7))\n",
    "    _, accu = learner.validate()\n",
    "    accus.append(accu)"
   ]
  },
  {
   "cell_type": "code",
   "execution_count": 96,
   "metadata": {
    "ExecuteTime": {
     "end_time": "2020-01-07T06:59:17.914960Z",
     "start_time": "2020-01-07T06:59:15.293105Z"
    }
   },
   "outputs": [
    {
     "data": {
      "text/plain": [
       "Learner(data=TextClasDataBunch;\n",
       "\n",
       "Train: LabelList (22273 items)\n",
       "x: TextList\n",
       "[CLS] ya ##s viceroy abu dhabi hotel is built across the f1 ya ##s marina circuit in abu dhabi . [SEP],[CLS] stephen fr ##ink is a prolific underwater photographer and frequent contributor to scuba diving magazine . fr ##ink was born in illinois and moved to key la ##rgo florida in 1978 where he currently lives with his wife and daughter . he is often cited as one of the most frequently published underwater photographers in the world . [ 1 ] [ 2 ] [ 3 ] [SEP],[CLS] diffuse kn ##ap ##weed ( cent ##aur ##ea di ##ff ##usa ) also known as white kn ##ap ##weed or tumble kn ##ap ##weed is a member of the genus cent ##aur ##ea in the family as ##tera ##ceae . [SEP],[CLS] dj ##ed ##i river ( french : ou ##ed dj ##ed ##i or ou ##ad - ed - dj ##ed ##i ) or dj ##edd ##i river is a wadi ( river with intermittent stream ) in algeria and one of the largest rivers of sahara . it starts in the saharan atlas mountains at elevation of about 1400 meters ( 460 ##0 ft ) flows for about 480 kilometers ( 300 mi ) approximately from west to east and discharge ##s into cho ##tt mel ##rh ##ir lake at about – 40 meters ( 130 ft ) below mean sea level which is the lowest point of algeria . [SEP],[CLS] the ur ##mur ##oa ##sa river or corn ##u river is a tributary of the su ##sit ##a river in romania . [SEP]\n",
       "y: CategoryList\n",
       "NaturalPlace,Athlete,Album,Village,Village\n",
       "Path: /home/jupyter/Frame_experiments/Data/Dbpedia;\n",
       "\n",
       "Valid: LabelList (5568 items)\n",
       "x: TextList\n",
       "[CLS] the peck ##ett o ##q was a series of three industrial steam locomotives that used an 0 - 6 - 0 configuration with a saddle tank . they were series of 3 steam railway locomotives built by peck ##ett and sons of bristol between 1951 and 1954 for mar ##dy and tower collier ##ies in south wales . [SEP],[CLS] or ##y ##ze ##ae is a tribe of flowering plants in the grass family po ##aceae . it contains 12 genera including both cultivated rice ( or ##y ##za ) and wild rice ( z ##izan ##ia ) . [SEP],[CLS] rebecca sai ##re ( born 16 april 1963 ) is a british actress and writer who gained early attention when at the age of fourteen she played juliet for the bbc television shakespeare series . [SEP],[CLS] ya ##kov mikhail ##ovich sv ##er ##dl ##ov ( russian : я ##к ##ов м ##и ##х ##а ##и ##л ##ович с ##в ##е ##р ##д ##л ##ов ipa : [ ˈ ##jak ##ə ##f m ##ʲ ##ɪ ##ˈ ##xa ##j ##l ##ə ##v ##ʲ ##ɪ ##t ##ɕ sv ##ʲ ##ɪ ##rd ##ˈ ##lo ##f ] ) ; known under pseudonym ##s andrei mi ##kha ##ly ##ch max sm ##ir ##nov per ##my ##ako ##v 3 june [ o . s . 22 may ] 1885 – 16 march 1919 ) was a bolshevik party leader and chairman of the all - russian central executive committee . [SEP],[CLS] bryce lin ##dor ##es ( born 12 september 1986 ) is an australian paralympic tandem cyclist . [SEP]\n",
       "y: CategoryList\n",
       "Building,Album,Athlete,MeanOfTransportation,OfficeHolder\n",
       "Path: /home/jupyter/Frame_experiments/Data/Dbpedia;\n",
       "\n",
       "Test: None, model=BertForSequenceClassification(\n",
       "  (bert): BertModel(\n",
       "    (embeddings): BertEmbeddings(\n",
       "      (word_embeddings): Embedding(30522, 768, padding_idx=0)\n",
       "      (position_embeddings): Embedding(512, 768)\n",
       "      (token_type_embeddings): Embedding(2, 768)\n",
       "      (LayerNorm): LayerNorm((768,), eps=1e-12, elementwise_affine=True)\n",
       "      (dropout): Dropout(p=0.1, inplace=False)\n",
       "    )\n",
       "    (encoder): BertEncoder(\n",
       "      (layer): ModuleList(\n",
       "        (0): BertLayer(\n",
       "          (attention): BertAttention(\n",
       "            (self): BertSelfAttention(\n",
       "              (query): Linear(in_features=768, out_features=768, bias=True)\n",
       "              (key): Linear(in_features=768, out_features=768, bias=True)\n",
       "              (value): Linear(in_features=768, out_features=768, bias=True)\n",
       "              (dropout): Dropout(p=0.1, inplace=False)\n",
       "            )\n",
       "            (output): BertSelfOutput(\n",
       "              (dense): Linear(in_features=768, out_features=768, bias=True)\n",
       "              (LayerNorm): LayerNorm((768,), eps=1e-12, elementwise_affine=True)\n",
       "              (dropout): Dropout(p=0.1, inplace=False)\n",
       "            )\n",
       "          )\n",
       "          (intermediate): BertIntermediate(\n",
       "            (dense): Linear(in_features=768, out_features=3072, bias=True)\n",
       "          )\n",
       "          (output): BertOutput(\n",
       "            (dense): Linear(in_features=3072, out_features=768, bias=True)\n",
       "            (LayerNorm): LayerNorm((768,), eps=1e-12, elementwise_affine=True)\n",
       "            (dropout): Dropout(p=0.1, inplace=False)\n",
       "          )\n",
       "        )\n",
       "        (1): BertLayer(\n",
       "          (attention): BertAttention(\n",
       "            (self): BertSelfAttention(\n",
       "              (query): Linear(in_features=768, out_features=768, bias=True)\n",
       "              (key): Linear(in_features=768, out_features=768, bias=True)\n",
       "              (value): Linear(in_features=768, out_features=768, bias=True)\n",
       "              (dropout): Dropout(p=0.1, inplace=False)\n",
       "            )\n",
       "            (output): BertSelfOutput(\n",
       "              (dense): Linear(in_features=768, out_features=768, bias=True)\n",
       "              (LayerNorm): LayerNorm((768,), eps=1e-12, elementwise_affine=True)\n",
       "              (dropout): Dropout(p=0.1, inplace=False)\n",
       "            )\n",
       "          )\n",
       "          (intermediate): BertIntermediate(\n",
       "            (dense): Linear(in_features=768, out_features=3072, bias=True)\n",
       "          )\n",
       "          (output): BertOutput(\n",
       "            (dense): Linear(in_features=3072, out_features=768, bias=True)\n",
       "            (LayerNorm): LayerNorm((768,), eps=1e-12, elementwise_affine=True)\n",
       "            (dropout): Dropout(p=0.1, inplace=False)\n",
       "          )\n",
       "        )\n",
       "        (2): BertLayer(\n",
       "          (attention): BertAttention(\n",
       "            (self): BertSelfAttention(\n",
       "              (query): Linear(in_features=768, out_features=768, bias=True)\n",
       "              (key): Linear(in_features=768, out_features=768, bias=True)\n",
       "              (value): Linear(in_features=768, out_features=768, bias=True)\n",
       "              (dropout): Dropout(p=0.1, inplace=False)\n",
       "            )\n",
       "            (output): BertSelfOutput(\n",
       "              (dense): Linear(in_features=768, out_features=768, bias=True)\n",
       "              (LayerNorm): LayerNorm((768,), eps=1e-12, elementwise_affine=True)\n",
       "              (dropout): Dropout(p=0.1, inplace=False)\n",
       "            )\n",
       "          )\n",
       "          (intermediate): BertIntermediate(\n",
       "            (dense): Linear(in_features=768, out_features=3072, bias=True)\n",
       "          )\n",
       "          (output): BertOutput(\n",
       "            (dense): Linear(in_features=3072, out_features=768, bias=True)\n",
       "            (LayerNorm): LayerNorm((768,), eps=1e-12, elementwise_affine=True)\n",
       "            (dropout): Dropout(p=0.1, inplace=False)\n",
       "          )\n",
       "        )\n",
       "        (3): BertLayer(\n",
       "          (attention): BertAttention(\n",
       "            (self): BertSelfAttention(\n",
       "              (query): Linear(in_features=768, out_features=768, bias=True)\n",
       "              (key): Linear(in_features=768, out_features=768, bias=True)\n",
       "              (value): Linear(in_features=768, out_features=768, bias=True)\n",
       "              (dropout): Dropout(p=0.1, inplace=False)\n",
       "            )\n",
       "            (output): BertSelfOutput(\n",
       "              (dense): Linear(in_features=768, out_features=768, bias=True)\n",
       "              (LayerNorm): LayerNorm((768,), eps=1e-12, elementwise_affine=True)\n",
       "              (dropout): Dropout(p=0.1, inplace=False)\n",
       "            )\n",
       "          )\n",
       "          (intermediate): BertIntermediate(\n",
       "            (dense): Linear(in_features=768, out_features=3072, bias=True)\n",
       "          )\n",
       "          (output): BertOutput(\n",
       "            (dense): Linear(in_features=3072, out_features=768, bias=True)\n",
       "            (LayerNorm): LayerNorm((768,), eps=1e-12, elementwise_affine=True)\n",
       "            (dropout): Dropout(p=0.1, inplace=False)\n",
       "          )\n",
       "        )\n",
       "        (4): BertLayer(\n",
       "          (attention): BertAttention(\n",
       "            (self): BertSelfAttention(\n",
       "              (query): Linear(in_features=768, out_features=768, bias=True)\n",
       "              (key): Linear(in_features=768, out_features=768, bias=True)\n",
       "              (value): Linear(in_features=768, out_features=768, bias=True)\n",
       "              (dropout): Dropout(p=0.1, inplace=False)\n",
       "            )\n",
       "            (output): BertSelfOutput(\n",
       "              (dense): Linear(in_features=768, out_features=768, bias=True)\n",
       "              (LayerNorm): LayerNorm((768,), eps=1e-12, elementwise_affine=True)\n",
       "              (dropout): Dropout(p=0.1, inplace=False)\n",
       "            )\n",
       "          )\n",
       "          (intermediate): BertIntermediate(\n",
       "            (dense): Linear(in_features=768, out_features=3072, bias=True)\n",
       "          )\n",
       "          (output): BertOutput(\n",
       "            (dense): Linear(in_features=3072, out_features=768, bias=True)\n",
       "            (LayerNorm): LayerNorm((768,), eps=1e-12, elementwise_affine=True)\n",
       "            (dropout): Dropout(p=0.1, inplace=False)\n",
       "          )\n",
       "        )\n",
       "        (5): BertLayer(\n",
       "          (attention): BertAttention(\n",
       "            (self): BertSelfAttention(\n",
       "              (query): Linear(in_features=768, out_features=768, bias=True)\n",
       "              (key): Linear(in_features=768, out_features=768, bias=True)\n",
       "              (value): Linear(in_features=768, out_features=768, bias=True)\n",
       "              (dropout): Dropout(p=0.1, inplace=False)\n",
       "            )\n",
       "            (output): BertSelfOutput(\n",
       "              (dense): Linear(in_features=768, out_features=768, bias=True)\n",
       "              (LayerNorm): LayerNorm((768,), eps=1e-12, elementwise_affine=True)\n",
       "              (dropout): Dropout(p=0.1, inplace=False)\n",
       "            )\n",
       "          )\n",
       "          (intermediate): BertIntermediate(\n",
       "            (dense): Linear(in_features=768, out_features=3072, bias=True)\n",
       "          )\n",
       "          (output): BertOutput(\n",
       "            (dense): Linear(in_features=3072, out_features=768, bias=True)\n",
       "            (LayerNorm): LayerNorm((768,), eps=1e-12, elementwise_affine=True)\n",
       "            (dropout): Dropout(p=0.1, inplace=False)\n",
       "          )\n",
       "        )\n",
       "        (6): BertLayer(\n",
       "          (attention): BertAttention(\n",
       "            (self): BertSelfAttention(\n",
       "              (query): Linear(in_features=768, out_features=768, bias=True)\n",
       "              (key): Linear(in_features=768, out_features=768, bias=True)\n",
       "              (value): Linear(in_features=768, out_features=768, bias=True)\n",
       "              (dropout): Dropout(p=0.1, inplace=False)\n",
       "            )\n",
       "            (output): BertSelfOutput(\n",
       "              (dense): Linear(in_features=768, out_features=768, bias=True)\n",
       "              (LayerNorm): LayerNorm((768,), eps=1e-12, elementwise_affine=True)\n",
       "              (dropout): Dropout(p=0.1, inplace=False)\n",
       "            )\n",
       "          )\n",
       "          (intermediate): BertIntermediate(\n",
       "            (dense): Linear(in_features=768, out_features=3072, bias=True)\n",
       "          )\n",
       "          (output): BertOutput(\n",
       "            (dense): Linear(in_features=3072, out_features=768, bias=True)\n",
       "            (LayerNorm): LayerNorm((768,), eps=1e-12, elementwise_affine=True)\n",
       "            (dropout): Dropout(p=0.1, inplace=False)\n",
       "          )\n",
       "        )\n",
       "        (7): BertLayer(\n",
       "          (attention): BertAttention(\n",
       "            (self): BertSelfAttention(\n",
       "              (query): Linear(in_features=768, out_features=768, bias=True)\n",
       "              (key): Linear(in_features=768, out_features=768, bias=True)\n",
       "              (value): Linear(in_features=768, out_features=768, bias=True)\n",
       "              (dropout): Dropout(p=0.1, inplace=False)\n",
       "            )\n",
       "            (output): BertSelfOutput(\n",
       "              (dense): Linear(in_features=768, out_features=768, bias=True)\n",
       "              (LayerNorm): LayerNorm((768,), eps=1e-12, elementwise_affine=True)\n",
       "              (dropout): Dropout(p=0.1, inplace=False)\n",
       "            )\n",
       "          )\n",
       "          (intermediate): BertIntermediate(\n",
       "            (dense): Linear(in_features=768, out_features=3072, bias=True)\n",
       "          )\n",
       "          (output): BertOutput(\n",
       "            (dense): Linear(in_features=3072, out_features=768, bias=True)\n",
       "            (LayerNorm): LayerNorm((768,), eps=1e-12, elementwise_affine=True)\n",
       "            (dropout): Dropout(p=0.1, inplace=False)\n",
       "          )\n",
       "        )\n",
       "        (8): BertLayer(\n",
       "          (attention): BertAttention(\n",
       "            (self): BertSelfAttention(\n",
       "              (query): Linear(in_features=768, out_features=768, bias=True)\n",
       "              (key): Linear(in_features=768, out_features=768, bias=True)\n",
       "              (value): Linear(in_features=768, out_features=768, bias=True)\n",
       "              (dropout): Dropout(p=0.1, inplace=False)\n",
       "            )\n",
       "            (output): BertSelfOutput(\n",
       "              (dense): Linear(in_features=768, out_features=768, bias=True)\n",
       "              (LayerNorm): LayerNorm((768,), eps=1e-12, elementwise_affine=True)\n",
       "              (dropout): Dropout(p=0.1, inplace=False)\n",
       "            )\n",
       "          )\n",
       "          (intermediate): BertIntermediate(\n",
       "            (dense): Linear(in_features=768, out_features=3072, bias=True)\n",
       "          )\n",
       "          (output): BertOutput(\n",
       "            (dense): Linear(in_features=3072, out_features=768, bias=True)\n",
       "            (LayerNorm): LayerNorm((768,), eps=1e-12, elementwise_affine=True)\n",
       "            (dropout): Dropout(p=0.1, inplace=False)\n",
       "          )\n",
       "        )\n",
       "        (9): BertLayer(\n",
       "          (attention): BertAttention(\n",
       "            (self): BertSelfAttention(\n",
       "              (query): Linear(in_features=768, out_features=768, bias=True)\n",
       "              (key): Linear(in_features=768, out_features=768, bias=True)\n",
       "              (value): Linear(in_features=768, out_features=768, bias=True)\n",
       "              (dropout): Dropout(p=0.1, inplace=False)\n",
       "            )\n",
       "            (output): BertSelfOutput(\n",
       "              (dense): Linear(in_features=768, out_features=768, bias=True)\n",
       "              (LayerNorm): LayerNorm((768,), eps=1e-12, elementwise_affine=True)\n",
       "              (dropout): Dropout(p=0.1, inplace=False)\n",
       "            )\n",
       "          )\n",
       "          (intermediate): BertIntermediate(\n",
       "            (dense): Linear(in_features=768, out_features=3072, bias=True)\n",
       "          )\n",
       "          (output): BertOutput(\n",
       "            (dense): Linear(in_features=3072, out_features=768, bias=True)\n",
       "            (LayerNorm): LayerNorm((768,), eps=1e-12, elementwise_affine=True)\n",
       "            (dropout): Dropout(p=0.1, inplace=False)\n",
       "          )\n",
       "        )\n",
       "        (10): BertLayer(\n",
       "          (attention): BertAttention(\n",
       "            (self): BertSelfAttention(\n",
       "              (query): Linear(in_features=768, out_features=768, bias=True)\n",
       "              (key): Linear(in_features=768, out_features=768, bias=True)\n",
       "              (value): Linear(in_features=768, out_features=768, bias=True)\n",
       "              (dropout): Dropout(p=0.1, inplace=False)\n",
       "            )\n",
       "            (output): BertSelfOutput(\n",
       "              (dense): Linear(in_features=768, out_features=768, bias=True)\n",
       "              (LayerNorm): LayerNorm((768,), eps=1e-12, elementwise_affine=True)\n",
       "              (dropout): Dropout(p=0.1, inplace=False)\n",
       "            )\n",
       "          )\n",
       "          (intermediate): BertIntermediate(\n",
       "            (dense): Linear(in_features=768, out_features=3072, bias=True)\n",
       "          )\n",
       "          (output): BertOutput(\n",
       "            (dense): Linear(in_features=3072, out_features=768, bias=True)\n",
       "            (LayerNorm): LayerNorm((768,), eps=1e-12, elementwise_affine=True)\n",
       "            (dropout): Dropout(p=0.1, inplace=False)\n",
       "          )\n",
       "        )\n",
       "        (11): BertLayer(\n",
       "          (attention): BertAttention(\n",
       "            (self): BertSelfAttention(\n",
       "              (query): Linear(in_features=768, out_features=768, bias=True)\n",
       "              (key): Linear(in_features=768, out_features=768, bias=True)\n",
       "              (value): Linear(in_features=768, out_features=768, bias=True)\n",
       "              (dropout): Dropout(p=0.1, inplace=False)\n",
       "            )\n",
       "            (output): BertSelfOutput(\n",
       "              (dense): Linear(in_features=768, out_features=768, bias=True)\n",
       "              (LayerNorm): LayerNorm((768,), eps=1e-12, elementwise_affine=True)\n",
       "              (dropout): Dropout(p=0.1, inplace=False)\n",
       "            )\n",
       "          )\n",
       "          (intermediate): BertIntermediate(\n",
       "            (dense): Linear(in_features=768, out_features=3072, bias=True)\n",
       "          )\n",
       "          (output): BertOutput(\n",
       "            (dense): Linear(in_features=3072, out_features=768, bias=True)\n",
       "            (LayerNorm): LayerNorm((768,), eps=1e-12, elementwise_affine=True)\n",
       "            (dropout): Dropout(p=0.1, inplace=False)\n",
       "          )\n",
       "        )\n",
       "      )\n",
       "    )\n",
       "    (pooler): BertPooler(\n",
       "      (dense): Linear(in_features=768, out_features=768, bias=True)\n",
       "      (activation): Tanh()\n",
       "    )\n",
       "  )\n",
       "  (dropout): Dropout(p=0.1, inplace=False)\n",
       "  (classifier): Linear(in_features=768, out_features=14, bias=True)\n",
       "), opt_func=functools.partial(<class 'torch.optim.adam.Adam'>, betas=(0.9, 0.99)), loss_func=CrossEntropyLoss(), metrics=[<function accuracy at 0x7f673858c710>], true_wd=True, bn_wd=True, wd=0.01, train_bn=True, path=PosixPath('/home/jupyter/Frame_experiments/Data/Dbpedia'), model_dir='models', callback_fns=[functools.partial(<class 'fastai.basic_train.Recorder'>, add_time=True, silent=False)], callbacks=[], layer_groups=[Sequential(\n",
       "  (0): Embedding(30522, 768, padding_idx=0)\n",
       "  (1): Embedding(512, 768)\n",
       "  (2): Embedding(2, 768)\n",
       "  (3): LayerNorm((768,), eps=1e-12, elementwise_affine=True)\n",
       "  (4): Dropout(p=0.1, inplace=False)\n",
       "  (5): Linear(in_features=768, out_features=768, bias=True)\n",
       "  (6): Linear(in_features=768, out_features=768, bias=True)\n",
       "  (7): Linear(in_features=768, out_features=768, bias=True)\n",
       "  (8): Dropout(p=0.1, inplace=False)\n",
       "  (9): Linear(in_features=768, out_features=768, bias=True)\n",
       "  (10): LayerNorm((768,), eps=1e-12, elementwise_affine=True)\n",
       "  (11): Dropout(p=0.1, inplace=False)\n",
       "  (12): Linear(in_features=768, out_features=3072, bias=True)\n",
       "  (13): Linear(in_features=3072, out_features=768, bias=True)\n",
       "  (14): LayerNorm((768,), eps=1e-12, elementwise_affine=True)\n",
       "  (15): Dropout(p=0.1, inplace=False)\n",
       "  (16): Linear(in_features=768, out_features=768, bias=True)\n",
       "  (17): Linear(in_features=768, out_features=768, bias=True)\n",
       "  (18): Linear(in_features=768, out_features=768, bias=True)\n",
       "  (19): Dropout(p=0.1, inplace=False)\n",
       "  (20): Linear(in_features=768, out_features=768, bias=True)\n",
       "  (21): LayerNorm((768,), eps=1e-12, elementwise_affine=True)\n",
       "  (22): Dropout(p=0.1, inplace=False)\n",
       "  (23): Linear(in_features=768, out_features=3072, bias=True)\n",
       "  (24): Linear(in_features=3072, out_features=768, bias=True)\n",
       "  (25): LayerNorm((768,), eps=1e-12, elementwise_affine=True)\n",
       "  (26): Dropout(p=0.1, inplace=False)\n",
       "  (27): Linear(in_features=768, out_features=768, bias=True)\n",
       "  (28): Linear(in_features=768, out_features=768, bias=True)\n",
       "  (29): Linear(in_features=768, out_features=768, bias=True)\n",
       "  (30): Dropout(p=0.1, inplace=False)\n",
       "  (31): Linear(in_features=768, out_features=768, bias=True)\n",
       "  (32): LayerNorm((768,), eps=1e-12, elementwise_affine=True)\n",
       "  (33): Dropout(p=0.1, inplace=False)\n",
       "  (34): Linear(in_features=768, out_features=3072, bias=True)\n",
       "  (35): Linear(in_features=3072, out_features=768, bias=True)\n",
       "  (36): LayerNorm((768,), eps=1e-12, elementwise_affine=True)\n",
       "  (37): Dropout(p=0.1, inplace=False)\n",
       "  (38): Linear(in_features=768, out_features=768, bias=True)\n",
       "  (39): Linear(in_features=768, out_features=768, bias=True)\n",
       "  (40): Linear(in_features=768, out_features=768, bias=True)\n",
       "  (41): Dropout(p=0.1, inplace=False)\n",
       "  (42): Linear(in_features=768, out_features=768, bias=True)\n",
       "  (43): LayerNorm((768,), eps=1e-12, elementwise_affine=True)\n",
       "  (44): Dropout(p=0.1, inplace=False)\n",
       "  (45): Linear(in_features=768, out_features=3072, bias=True)\n",
       "  (46): Linear(in_features=3072, out_features=768, bias=True)\n",
       "  (47): LayerNorm((768,), eps=1e-12, elementwise_affine=True)\n",
       "  (48): Dropout(p=0.1, inplace=False)\n",
       "  (49): Linear(in_features=768, out_features=768, bias=True)\n",
       "  (50): Linear(in_features=768, out_features=768, bias=True)\n",
       "  (51): Linear(in_features=768, out_features=768, bias=True)\n",
       "  (52): Dropout(p=0.1, inplace=False)\n",
       "  (53): Linear(in_features=768, out_features=768, bias=True)\n",
       "  (54): LayerNorm((768,), eps=1e-12, elementwise_affine=True)\n",
       "  (55): Dropout(p=0.1, inplace=False)\n",
       "  (56): Linear(in_features=768, out_features=3072, bias=True)\n",
       "  (57): Linear(in_features=3072, out_features=768, bias=True)\n",
       "  (58): LayerNorm((768,), eps=1e-12, elementwise_affine=True)\n",
       "  (59): Dropout(p=0.1, inplace=False)\n",
       "  (60): Linear(in_features=768, out_features=768, bias=True)\n",
       "  (61): Linear(in_features=768, out_features=768, bias=True)\n",
       "  (62): Linear(in_features=768, out_features=768, bias=True)\n",
       "  (63): Dropout(p=0.1, inplace=False)\n",
       "  (64): Linear(in_features=768, out_features=768, bias=True)\n",
       "  (65): LayerNorm((768,), eps=1e-12, elementwise_affine=True)\n",
       "  (66): Dropout(p=0.1, inplace=False)\n",
       "  (67): Linear(in_features=768, out_features=3072, bias=True)\n",
       "  (68): Linear(in_features=3072, out_features=768, bias=True)\n",
       "  (69): LayerNorm((768,), eps=1e-12, elementwise_affine=True)\n",
       "  (70): Dropout(p=0.1, inplace=False)\n",
       "  (71): Linear(in_features=768, out_features=768, bias=True)\n",
       "  (72): Linear(in_features=768, out_features=768, bias=True)\n",
       "  (73): Linear(in_features=768, out_features=768, bias=True)\n",
       "  (74): Dropout(p=0.1, inplace=False)\n",
       "  (75): Linear(in_features=768, out_features=768, bias=True)\n",
       "  (76): LayerNorm((768,), eps=1e-12, elementwise_affine=True)\n",
       "  (77): Dropout(p=0.1, inplace=False)\n",
       "  (78): Linear(in_features=768, out_features=3072, bias=True)\n",
       "  (79): Linear(in_features=3072, out_features=768, bias=True)\n",
       "  (80): LayerNorm((768,), eps=1e-12, elementwise_affine=True)\n",
       "  (81): Dropout(p=0.1, inplace=False)\n",
       "  (82): Linear(in_features=768, out_features=768, bias=True)\n",
       "  (83): Linear(in_features=768, out_features=768, bias=True)\n",
       "  (84): Linear(in_features=768, out_features=768, bias=True)\n",
       "  (85): Dropout(p=0.1, inplace=False)\n",
       "  (86): Linear(in_features=768, out_features=768, bias=True)\n",
       "  (87): LayerNorm((768,), eps=1e-12, elementwise_affine=True)\n",
       "  (88): Dropout(p=0.1, inplace=False)\n",
       "  (89): Linear(in_features=768, out_features=3072, bias=True)\n",
       "  (90): Linear(in_features=3072, out_features=768, bias=True)\n",
       "  (91): LayerNorm((768,), eps=1e-12, elementwise_affine=True)\n",
       "  (92): Dropout(p=0.1, inplace=False)\n",
       "  (93): Linear(in_features=768, out_features=768, bias=True)\n",
       "  (94): Linear(in_features=768, out_features=768, bias=True)\n",
       "  (95): Linear(in_features=768, out_features=768, bias=True)\n",
       "  (96): Dropout(p=0.1, inplace=False)\n",
       "  (97): Linear(in_features=768, out_features=768, bias=True)\n",
       "  (98): LayerNorm((768,), eps=1e-12, elementwise_affine=True)\n",
       "  (99): Dropout(p=0.1, inplace=False)\n",
       "  (100): Linear(in_features=768, out_features=3072, bias=True)\n",
       "  (101): Linear(in_features=3072, out_features=768, bias=True)\n",
       "  (102): LayerNorm((768,), eps=1e-12, elementwise_affine=True)\n",
       "  (103): Dropout(p=0.1, inplace=False)\n",
       "  (104): Linear(in_features=768, out_features=768, bias=True)\n",
       "  (105): Linear(in_features=768, out_features=768, bias=True)\n",
       "  (106): Linear(in_features=768, out_features=768, bias=True)\n",
       "  (107): Dropout(p=0.1, inplace=False)\n",
       "  (108): Linear(in_features=768, out_features=768, bias=True)\n",
       "  (109): LayerNorm((768,), eps=1e-12, elementwise_affine=True)\n",
       "  (110): Dropout(p=0.1, inplace=False)\n",
       "  (111): Linear(in_features=768, out_features=3072, bias=True)\n",
       "  (112): Linear(in_features=3072, out_features=768, bias=True)\n",
       "  (113): LayerNorm((768,), eps=1e-12, elementwise_affine=True)\n",
       "  (114): Dropout(p=0.1, inplace=False)\n",
       "  (115): Linear(in_features=768, out_features=768, bias=True)\n",
       "  (116): Linear(in_features=768, out_features=768, bias=True)\n",
       "  (117): Linear(in_features=768, out_features=768, bias=True)\n",
       "  (118): Dropout(p=0.1, inplace=False)\n",
       "  (119): Linear(in_features=768, out_features=768, bias=True)\n",
       "  (120): LayerNorm((768,), eps=1e-12, elementwise_affine=True)\n",
       "  (121): Dropout(p=0.1, inplace=False)\n",
       "  (122): Linear(in_features=768, out_features=3072, bias=True)\n",
       "  (123): Linear(in_features=3072, out_features=768, bias=True)\n",
       "  (124): LayerNorm((768,), eps=1e-12, elementwise_affine=True)\n",
       "  (125): Dropout(p=0.1, inplace=False)\n",
       "  (126): Linear(in_features=768, out_features=768, bias=True)\n",
       "  (127): Linear(in_features=768, out_features=768, bias=True)\n",
       "  (128): Linear(in_features=768, out_features=768, bias=True)\n",
       "  (129): Dropout(p=0.1, inplace=False)\n",
       "  (130): Linear(in_features=768, out_features=768, bias=True)\n",
       "  (131): LayerNorm((768,), eps=1e-12, elementwise_affine=True)\n",
       "  (132): Dropout(p=0.1, inplace=False)\n",
       "  (133): Linear(in_features=768, out_features=3072, bias=True)\n",
       "  (134): Linear(in_features=3072, out_features=768, bias=True)\n",
       "  (135): LayerNorm((768,), eps=1e-12, elementwise_affine=True)\n",
       "  (136): Dropout(p=0.1, inplace=False)\n",
       "  (137): Linear(in_features=768, out_features=768, bias=True)\n",
       "  (138): Tanh()\n",
       "  (139): Dropout(p=0.1, inplace=False)\n",
       "  (140): Linear(in_features=768, out_features=14, bias=True)\n",
       ")], add_time=True, silent=False)"
      ]
     },
     "execution_count": 96,
     "metadata": {},
     "output_type": "execute_result"
    }
   ],
   "source": [
    "#learner.save('dbpedia_learner_bert')\n",
    "learner.load('dbpedia_learner_bert')"
   ]
  },
  {
   "cell_type": "code",
   "execution_count": 97,
   "metadata": {
    "ExecuteTime": {
     "end_time": "2020-01-07T07:00:59.364605Z",
     "start_time": "2020-01-07T07:00:47.257154Z"
    }
   },
   "outputs": [
    {
     "data": {
      "text/html": [],
      "text/plain": [
       "<IPython.core.display.HTML object>"
      ]
     },
     "metadata": {},
     "output_type": "display_data"
    }
   ],
   "source": [
    "interp = ClassificationInterpretation.from_learner(learner)"
   ]
  },
  {
   "cell_type": "code",
   "execution_count": 99,
   "metadata": {
    "ExecuteTime": {
     "end_time": "2020-01-07T07:01:19.799670Z",
     "start_time": "2020-01-07T07:01:18.638358Z"
    }
   },
   "outputs": [
    {
     "data": {
      "image/png": "[encoded data removed]",
      "text/plain": [
       "<Figure size 432x288 with 1 Axes>"
      ]
     },
     "metadata": {
      "needs_background": "light"
     },
     "output_type": "display_data"
    }
   ],
   "source": [
    "interp.plot_confusion_matrix()"
   ]
  },
  {
   "cell_type": "code",
   "execution_count": 93,
   "metadata": {
    "ExecuteTime": {
     "end_time": "2020-01-07T06:57:04.642271Z",
     "start_time": "2020-01-07T06:57:04.605791Z"
    }
   },
   "outputs": [],
   "source": [
    "accus = [i.item() for i in accus]\n",
    "bert_dbpedia_accu_5 = pd.DataFrame({\n",
    "    'model_name' : ['Bert'] * 5,\n",
    "    'accuracy' : accus\n",
    "})\n",
    "\n",
    "bert_dbpedia_accu_5.to_csv(DBPEDIA/'bert_dbpedia_accu_5.csv', index = False)\n",
    "bert_dbpedia_accu_5 = pd.read_csv(DBPEDIA/'bert_dbpedia_accu_5.csv')"
   ]
  },
  {
   "cell_type": "markdown",
   "metadata": {},
   "source": [
    "#### Yelp review data"
   ]
  },
  {
   "cell_type": "markdown",
   "metadata": {},
   "source": [
    "##### ML"
   ]
  },
  {
   "cell_type": "code",
   "execution_count": 8,
   "metadata": {
    "ExecuteTime": {
     "end_time": "2020-01-07T21:17:30.891498Z",
     "start_time": "2020-01-07T21:17:30.867567Z"
    }
   },
   "outputs": [],
   "source": [
    "df = YELP_TRAIN"
   ]
  },
  {
   "cell_type": "code",
   "execution_count": 9,
   "metadata": {
    "ExecuteTime": {
     "end_time": "2020-01-07T21:17:31.753788Z",
     "start_time": "2020-01-07T21:17:31.728284Z"
    }
   },
   "outputs": [
    {
     "data": {
      "text/plain": [
       "(12500, 2)"
      ]
     },
     "execution_count": 9,
     "metadata": {},
     "output_type": "execute_result"
    }
   ],
   "source": [
    "df.shape"
   ]
  },
  {
   "cell_type": "code",
   "execution_count": 10,
   "metadata": {
    "ExecuteTime": {
     "end_time": "2020-01-07T21:17:56.941505Z",
     "start_time": "2020-01-07T21:17:46.631684Z"
    }
   },
   "outputs": [
    {
     "data": {
      "text/plain": [
       "(12500, 25186)"
      ]
     },
     "execution_count": 10,
     "metadata": {},
     "output_type": "execute_result"
    }
   ],
   "source": [
    "\n",
    "\n",
    "# Set the global vars for this dataset for diverse algorithums\n",
    "\n",
    "df['category_id'] = df['class'].factorize()[0]\n",
    "\n",
    "category_id_df = df[['class', 'category_id']\n",
    "                    ].drop_duplicates().sort_values('category_id')\n",
    "category_to_id = dict(category_id_df.values)\n",
    "id_to_category = {v: k for k, v in category_to_id.items()}\n",
    "\n",
    "tfidf = TfidfVectorizer(sublinear_tf=True, norm='l2', min_df=5,\n",
    "                        encoding='latin-1', ngram_range=(1, 3), stop_words='english')\n",
    "\n",
    "features = tfidf.fit_transform(df.title).toarray()  # features is the global var for this dataset block\n",
    "\n",
    "labels = df.category_id  # labels also a global var\n",
    "\n",
    "features.shape"
   ]
  },
  {
   "cell_type": "code",
   "execution_count": 11,
   "metadata": {
    "ExecuteTime": {
     "end_time": "2020-01-07T21:27:54.969398Z",
     "start_time": "2020-01-07T21:18:08.608872Z"
    }
   },
   "outputs": [
    {
     "name": "stdout",
     "output_type": "stream",
     "text": [
      "finished RandomForestClassifier, 0th bootstrap of 0th epochs\n",
      "finished RandomForestClassifier, 0th bootstrap of 1th epochs\n",
      "finished RandomForestClassifier, 0th bootstrap of 2th epochs\n",
      "finished RandomForestClassifier, 0th bootstrap of 3th epochs\n",
      "finished RandomForestClassifier, 0th bootstrap of 4th epochs\n",
      "finished LinearSVC, 0th bootstrap of 0th epochs\n",
      "finished LinearSVC, 0th bootstrap of 1th epochs\n",
      "finished LinearSVC, 0th bootstrap of 2th epochs\n",
      "finished LinearSVC, 0th bootstrap of 3th epochs\n",
      "finished LinearSVC, 0th bootstrap of 4th epochs\n",
      "finished MultinomialNB, 0th bootstrap of 0th epochs\n",
      "finished MultinomialNB, 0th bootstrap of 1th epochs\n",
      "finished MultinomialNB, 0th bootstrap of 2th epochs\n",
      "finished MultinomialNB, 0th bootstrap of 3th epochs\n",
      "finished MultinomialNB, 0th bootstrap of 4th epochs\n",
      "finished LogisticRegression, 0th bootstrap of 0th epochs\n",
      "finished LogisticRegression, 0th bootstrap of 1th epochs\n",
      "finished LogisticRegression, 0th bootstrap of 2th epochs\n",
      "finished LogisticRegression, 0th bootstrap of 3th epochs\n",
      "finished LogisticRegression, 0th bootstrap of 4th epochs\n",
      "finished RandomForestClassifier, 1th bootstrap of 0th epochs\n",
      "finished RandomForestClassifier, 1th bootstrap of 1th epochs\n",
      "finished RandomForestClassifier, 1th bootstrap of 2th epochs\n",
      "finished RandomForestClassifier, 1th bootstrap of 3th epochs\n",
      "finished RandomForestClassifier, 1th bootstrap of 4th epochs\n",
      "finished LinearSVC, 1th bootstrap of 0th epochs\n",
      "finished LinearSVC, 1th bootstrap of 1th epochs\n",
      "finished LinearSVC, 1th bootstrap of 2th epochs\n",
      "finished LinearSVC, 1th bootstrap of 3th epochs\n",
      "finished LinearSVC, 1th bootstrap of 4th epochs\n",
      "finished MultinomialNB, 1th bootstrap of 0th epochs\n",
      "finished MultinomialNB, 1th bootstrap of 1th epochs\n",
      "finished MultinomialNB, 1th bootstrap of 2th epochs\n",
      "finished MultinomialNB, 1th bootstrap of 3th epochs\n",
      "finished MultinomialNB, 1th bootstrap of 4th epochs\n",
      "finished LogisticRegression, 1th bootstrap of 0th epochs\n",
      "finished LogisticRegression, 1th bootstrap of 1th epochs\n",
      "finished LogisticRegression, 1th bootstrap of 2th epochs\n",
      "finished LogisticRegression, 1th bootstrap of 3th epochs\n",
      "finished LogisticRegression, 1th bootstrap of 4th epochs\n"
     ]
    }
   ],
   "source": [
    "\n",
    "models = [RandomForestClassifier(n_estimators=200, max_depth=3, random_state=0),\n",
    "          LinearSVC(),\n",
    "          MultinomialNB(),\n",
    "          LogisticRegression(random_state=0, max_iter= 200)]\n",
    "\n",
    "boot_num = 2\n",
    "CV = 5\n",
    "cv_df = pd.DataFrame(index=range(CV * len(models)))\n",
    "entries = []\n",
    "\n",
    "for i in range(boot_num):\n",
    "    for model in models:\n",
    "        model_name = model.__class__.__name__\n",
    "        accuracies = cross_val_score(model, features, labels, scoring='accuracy', cv=CV)\n",
    "        for _, accuracy in enumerate(accuracies):\n",
    "            print(f'finished {model_name}, {i}th bootstrap of {_}th epochs')\n",
    "            entries.append((model_name, accuracy))\n",
    "\n",
    "        \n",
    "cv_df = pd.DataFrame(entries, columns=['model_name', 'accuracy'])"
   ]
  },
  {
   "cell_type": "code",
   "execution_count": 12,
   "metadata": {
    "ExecuteTime": {
     "end_time": "2020-01-07T21:32:07.771199Z",
     "start_time": "2020-01-07T21:32:07.727934Z"
    }
   },
   "outputs": [
    {
     "data": {
      "text/html": [
       "<div>\n",
       "<style scoped>\n",
       "    .dataframe tbody tr th:only-of-type {\n",
       "        vertical-align: middle;\n",
       "    }\n",
       "\n",
       "    .dataframe tbody tr th {\n",
       "        vertical-align: top;\n",
       "    }\n",
       "\n",
       "    .dataframe thead th {\n",
       "        text-align: right;\n",
       "    }\n",
       "</style>\n",
       "<table border=\"1\" class=\"dataframe\">\n",
       "  <thead>\n",
       "    <tr style=\"text-align: right;\">\n",
       "      <th></th>\n",
       "      <th>model_name</th>\n",
       "      <th>accuracy</th>\n",
       "    </tr>\n",
       "  </thead>\n",
       "  <tbody>\n",
       "    <tr>\n",
       "      <th>0</th>\n",
       "      <td>RandomForestClassifier</td>\n",
       "      <td>0.4264</td>\n",
       "    </tr>\n",
       "    <tr>\n",
       "      <th>1</th>\n",
       "      <td>RandomForestClassifier</td>\n",
       "      <td>0.4232</td>\n",
       "    </tr>\n",
       "    <tr>\n",
       "      <th>2</th>\n",
       "      <td>RandomForestClassifier</td>\n",
       "      <td>0.4300</td>\n",
       "    </tr>\n",
       "    <tr>\n",
       "      <th>3</th>\n",
       "      <td>RandomForestClassifier</td>\n",
       "      <td>0.4032</td>\n",
       "    </tr>\n",
       "    <tr>\n",
       "      <th>4</th>\n",
       "      <td>RandomForestClassifier</td>\n",
       "      <td>0.4252</td>\n",
       "    </tr>\n",
       "    <tr>\n",
       "      <th>5</th>\n",
       "      <td>LinearSVC</td>\n",
       "      <td>0.4868</td>\n",
       "    </tr>\n",
       "    <tr>\n",
       "      <th>6</th>\n",
       "      <td>LinearSVC</td>\n",
       "      <td>0.4924</td>\n",
       "    </tr>\n",
       "    <tr>\n",
       "      <th>7</th>\n",
       "      <td>LinearSVC</td>\n",
       "      <td>0.5016</td>\n",
       "    </tr>\n",
       "    <tr>\n",
       "      <th>8</th>\n",
       "      <td>LinearSVC</td>\n",
       "      <td>0.4744</td>\n",
       "    </tr>\n",
       "    <tr>\n",
       "      <th>9</th>\n",
       "      <td>LinearSVC</td>\n",
       "      <td>0.4900</td>\n",
       "    </tr>\n",
       "    <tr>\n",
       "      <th>10</th>\n",
       "      <td>MultinomialNB</td>\n",
       "      <td>0.5120</td>\n",
       "    </tr>\n",
       "    <tr>\n",
       "      <th>11</th>\n",
       "      <td>MultinomialNB</td>\n",
       "      <td>0.4976</td>\n",
       "    </tr>\n",
       "    <tr>\n",
       "      <th>12</th>\n",
       "      <td>MultinomialNB</td>\n",
       "      <td>0.5088</td>\n",
       "    </tr>\n",
       "    <tr>\n",
       "      <th>13</th>\n",
       "      <td>MultinomialNB</td>\n",
       "      <td>0.4892</td>\n",
       "    </tr>\n",
       "    <tr>\n",
       "      <th>14</th>\n",
       "      <td>MultinomialNB</td>\n",
       "      <td>0.5032</td>\n",
       "    </tr>\n",
       "    <tr>\n",
       "      <th>15</th>\n",
       "      <td>LogisticRegression</td>\n",
       "      <td>0.5288</td>\n",
       "    </tr>\n",
       "    <tr>\n",
       "      <th>16</th>\n",
       "      <td>LogisticRegression</td>\n",
       "      <td>0.5284</td>\n",
       "    </tr>\n",
       "    <tr>\n",
       "      <th>17</th>\n",
       "      <td>LogisticRegression</td>\n",
       "      <td>0.5292</td>\n",
       "    </tr>\n",
       "    <tr>\n",
       "      <th>18</th>\n",
       "      <td>LogisticRegression</td>\n",
       "      <td>0.5208</td>\n",
       "    </tr>\n",
       "    <tr>\n",
       "      <th>19</th>\n",
       "      <td>LogisticRegression</td>\n",
       "      <td>0.5212</td>\n",
       "    </tr>\n",
       "    <tr>\n",
       "      <th>20</th>\n",
       "      <td>RandomForestClassifier</td>\n",
       "      <td>0.4264</td>\n",
       "    </tr>\n",
       "    <tr>\n",
       "      <th>21</th>\n",
       "      <td>RandomForestClassifier</td>\n",
       "      <td>0.4232</td>\n",
       "    </tr>\n",
       "    <tr>\n",
       "      <th>22</th>\n",
       "      <td>RandomForestClassifier</td>\n",
       "      <td>0.4300</td>\n",
       "    </tr>\n",
       "    <tr>\n",
       "      <th>23</th>\n",
       "      <td>RandomForestClassifier</td>\n",
       "      <td>0.4032</td>\n",
       "    </tr>\n",
       "    <tr>\n",
       "      <th>24</th>\n",
       "      <td>RandomForestClassifier</td>\n",
       "      <td>0.4252</td>\n",
       "    </tr>\n",
       "    <tr>\n",
       "      <th>25</th>\n",
       "      <td>LinearSVC</td>\n",
       "      <td>0.4868</td>\n",
       "    </tr>\n",
       "    <tr>\n",
       "      <th>26</th>\n",
       "      <td>LinearSVC</td>\n",
       "      <td>0.4924</td>\n",
       "    </tr>\n",
       "    <tr>\n",
       "      <th>27</th>\n",
       "      <td>LinearSVC</td>\n",
       "      <td>0.5016</td>\n",
       "    </tr>\n",
       "    <tr>\n",
       "      <th>28</th>\n",
       "      <td>LinearSVC</td>\n",
       "      <td>0.4744</td>\n",
       "    </tr>\n",
       "    <tr>\n",
       "      <th>29</th>\n",
       "      <td>LinearSVC</td>\n",
       "      <td>0.4900</td>\n",
       "    </tr>\n",
       "    <tr>\n",
       "      <th>30</th>\n",
       "      <td>MultinomialNB</td>\n",
       "      <td>0.5120</td>\n",
       "    </tr>\n",
       "    <tr>\n",
       "      <th>31</th>\n",
       "      <td>MultinomialNB</td>\n",
       "      <td>0.4976</td>\n",
       "    </tr>\n",
       "    <tr>\n",
       "      <th>32</th>\n",
       "      <td>MultinomialNB</td>\n",
       "      <td>0.5088</td>\n",
       "    </tr>\n",
       "    <tr>\n",
       "      <th>33</th>\n",
       "      <td>MultinomialNB</td>\n",
       "      <td>0.4892</td>\n",
       "    </tr>\n",
       "    <tr>\n",
       "      <th>34</th>\n",
       "      <td>MultinomialNB</td>\n",
       "      <td>0.5032</td>\n",
       "    </tr>\n",
       "    <tr>\n",
       "      <th>35</th>\n",
       "      <td>LogisticRegression</td>\n",
       "      <td>0.5288</td>\n",
       "    </tr>\n",
       "    <tr>\n",
       "      <th>36</th>\n",
       "      <td>LogisticRegression</td>\n",
       "      <td>0.5284</td>\n",
       "    </tr>\n",
       "    <tr>\n",
       "      <th>37</th>\n",
       "      <td>LogisticRegression</td>\n",
       "      <td>0.5292</td>\n",
       "    </tr>\n",
       "    <tr>\n",
       "      <th>38</th>\n",
       "      <td>LogisticRegression</td>\n",
       "      <td>0.5208</td>\n",
       "    </tr>\n",
       "    <tr>\n",
       "      <th>39</th>\n",
       "      <td>LogisticRegression</td>\n",
       "      <td>0.5212</td>\n",
       "    </tr>\n",
       "  </tbody>\n",
       "</table>\n",
       "</div>"
      ],
      "text/plain": [
       "                model_name  accuracy\n",
       "0   RandomForestClassifier    0.4264\n",
       "1   RandomForestClassifier    0.4232\n",
       "2   RandomForestClassifier    0.4300\n",
       "3   RandomForestClassifier    0.4032\n",
       "4   RandomForestClassifier    0.4252\n",
       "5                LinearSVC    0.4868\n",
       "6                LinearSVC    0.4924\n",
       "7                LinearSVC    0.5016\n",
       "8                LinearSVC    0.4744\n",
       "9                LinearSVC    0.4900\n",
       "10           MultinomialNB    0.5120\n",
       "11           MultinomialNB    0.4976\n",
       "12           MultinomialNB    0.5088\n",
       "13           MultinomialNB    0.4892\n",
       "14           MultinomialNB    0.5032\n",
       "15      LogisticRegression    0.5288\n",
       "16      LogisticRegression    0.5284\n",
       "17      LogisticRegression    0.5292\n",
       "18      LogisticRegression    0.5208\n",
       "19      LogisticRegression    0.5212\n",
       "20  RandomForestClassifier    0.4264\n",
       "21  RandomForestClassifier    0.4232\n",
       "22  RandomForestClassifier    0.4300\n",
       "23  RandomForestClassifier    0.4032\n",
       "24  RandomForestClassifier    0.4252\n",
       "25               LinearSVC    0.4868\n",
       "26               LinearSVC    0.4924\n",
       "27               LinearSVC    0.5016\n",
       "28               LinearSVC    0.4744\n",
       "29               LinearSVC    0.4900\n",
       "30           MultinomialNB    0.5120\n",
       "31           MultinomialNB    0.4976\n",
       "32           MultinomialNB    0.5088\n",
       "33           MultinomialNB    0.4892\n",
       "34           MultinomialNB    0.5032\n",
       "35      LogisticRegression    0.5288\n",
       "36      LogisticRegression    0.5284\n",
       "37      LogisticRegression    0.5292\n",
       "38      LogisticRegression    0.5208\n",
       "39      LogisticRegression    0.5212"
      ]
     },
     "execution_count": 12,
     "metadata": {},
     "output_type": "execute_result"
    }
   ],
   "source": [
    "cv_df.to_csv(YELP/'ml_yelp_accu_10', index = False)\n",
    "ml_yelp_accu_10 = pd.read_csv(YELP/'ml_yelp_accu_10')\n",
    "ml_yelp_accu_10"
   ]
  },
  {
   "cell_type": "markdown",
   "metadata": {
    "ExecuteTime": {
     "end_time": "2020-01-07T04:11:28.050337Z",
     "start_time": "2020-01-07T04:11:28.022774Z"
    }
   },
   "source": [
    "##### DL"
   ]
  },
  {
   "cell_type": "code",
   "execution_count": 33,
   "metadata": {
    "ExecuteTime": {
     "end_time": "2020-01-07T09:47:30.719335Z",
     "start_time": "2020-01-07T08:46:15.604056Z"
    }
   },
   "outputs": [
    {
     "data": {
      "text/html": [],
      "text/plain": [
       "<IPython.core.display.HTML object>"
      ]
     },
     "metadata": {},
     "output_type": "display_data"
    },
    {
     "data": {
      "text/html": [],
      "text/plain": [
       "<IPython.core.display.HTML object>"
      ]
     },
     "metadata": {},
     "output_type": "display_data"
    },
    {
     "data": {
      "text/html": [
       "<table border=\"1\" class=\"dataframe\">\n",
       "  <thead>\n",
       "    <tr style=\"text-align: left;\">\n",
       "      <th>epoch</th>\n",
       "      <th>train_loss</th>\n",
       "      <th>valid_loss</th>\n",
       "      <th>accuracy</th>\n",
       "      <th>time</th>\n",
       "    </tr>\n",
       "  </thead>\n",
       "  <tbody>\n",
       "    <tr>\n",
       "      <td>0</td>\n",
       "      <td>1.301233</td>\n",
       "      <td>1.093577</td>\n",
       "      <td>0.521600</td>\n",
       "      <td>01:59</td>\n",
       "    </tr>\n",
       "    <tr>\n",
       "      <td>1</td>\n",
       "      <td>1.066599</td>\n",
       "      <td>1.036332</td>\n",
       "      <td>0.547600</td>\n",
       "      <td>01:58</td>\n",
       "    </tr>\n",
       "    <tr>\n",
       "      <td>2</td>\n",
       "      <td>0.883455</td>\n",
       "      <td>1.063862</td>\n",
       "      <td>0.554000</td>\n",
       "      <td>01:51</td>\n",
       "    </tr>\n",
       "    <tr>\n",
       "      <td>3</td>\n",
       "      <td>0.620126</td>\n",
       "      <td>1.193738</td>\n",
       "      <td>0.563200</td>\n",
       "      <td>02:03</td>\n",
       "    </tr>\n",
       "    <tr>\n",
       "      <td>4</td>\n",
       "      <td>0.306274</td>\n",
       "      <td>1.494803</td>\n",
       "      <td>0.555200</td>\n",
       "      <td>01:55</td>\n",
       "    </tr>\n",
       "    <tr>\n",
       "      <td>5</td>\n",
       "      <td>0.159709</td>\n",
       "      <td>1.614236</td>\n",
       "      <td>0.564400</td>\n",
       "      <td>01:55</td>\n",
       "    </tr>\n",
       "  </tbody>\n",
       "</table>"
      ],
      "text/plain": [
       "<IPython.core.display.HTML object>"
      ]
     },
     "metadata": {},
     "output_type": "display_data"
    },
    {
     "data": {
      "text/html": [],
      "text/plain": [
       "<IPython.core.display.HTML object>"
      ]
     },
     "metadata": {},
     "output_type": "display_data"
    },
    {
     "data": {
      "text/html": [],
      "text/plain": [
       "<IPython.core.display.HTML object>"
      ]
     },
     "metadata": {},
     "output_type": "display_data"
    },
    {
     "data": {
      "text/html": [],
      "text/plain": [
       "<IPython.core.display.HTML object>"
      ]
     },
     "metadata": {},
     "output_type": "display_data"
    },
    {
     "data": {
      "text/html": [
       "<table border=\"1\" class=\"dataframe\">\n",
       "  <thead>\n",
       "    <tr style=\"text-align: left;\">\n",
       "      <th>epoch</th>\n",
       "      <th>train_loss</th>\n",
       "      <th>valid_loss</th>\n",
       "      <th>accuracy</th>\n",
       "      <th>time</th>\n",
       "    </tr>\n",
       "  </thead>\n",
       "  <tbody>\n",
       "    <tr>\n",
       "      <td>0</td>\n",
       "      <td>1.258032</td>\n",
       "      <td>1.056155</td>\n",
       "      <td>0.545600</td>\n",
       "      <td>01:51</td>\n",
       "    </tr>\n",
       "    <tr>\n",
       "      <td>1</td>\n",
       "      <td>1.027700</td>\n",
       "      <td>1.038325</td>\n",
       "      <td>0.539200</td>\n",
       "      <td>01:58</td>\n",
       "    </tr>\n",
       "    <tr>\n",
       "      <td>2</td>\n",
       "      <td>0.831533</td>\n",
       "      <td>1.027231</td>\n",
       "      <td>0.566000</td>\n",
       "      <td>02:01</td>\n",
       "    </tr>\n",
       "    <tr>\n",
       "      <td>3</td>\n",
       "      <td>0.569622</td>\n",
       "      <td>1.179452</td>\n",
       "      <td>0.586000</td>\n",
       "      <td>02:00</td>\n",
       "    </tr>\n",
       "    <tr>\n",
       "      <td>4</td>\n",
       "      <td>0.300900</td>\n",
       "      <td>1.478549</td>\n",
       "      <td>0.586400</td>\n",
       "      <td>01:51</td>\n",
       "    </tr>\n",
       "    <tr>\n",
       "      <td>5</td>\n",
       "      <td>0.145904</td>\n",
       "      <td>1.583525</td>\n",
       "      <td>0.576000</td>\n",
       "      <td>02:02</td>\n",
       "    </tr>\n",
       "  </tbody>\n",
       "</table>"
      ],
      "text/plain": [
       "<IPython.core.display.HTML object>"
      ]
     },
     "metadata": {},
     "output_type": "display_data"
    },
    {
     "data": {
      "text/html": [],
      "text/plain": [
       "<IPython.core.display.HTML object>"
      ]
     },
     "metadata": {},
     "output_type": "display_data"
    },
    {
     "data": {
      "text/html": [],
      "text/plain": [
       "<IPython.core.display.HTML object>"
      ]
     },
     "metadata": {},
     "output_type": "display_data"
    },
    {
     "data": {
      "text/html": [],
      "text/plain": [
       "<IPython.core.display.HTML object>"
      ]
     },
     "metadata": {},
     "output_type": "display_data"
    },
    {
     "data": {
      "text/html": [
       "<table border=\"1\" class=\"dataframe\">\n",
       "  <thead>\n",
       "    <tr style=\"text-align: left;\">\n",
       "      <th>epoch</th>\n",
       "      <th>train_loss</th>\n",
       "      <th>valid_loss</th>\n",
       "      <th>accuracy</th>\n",
       "      <th>time</th>\n",
       "    </tr>\n",
       "  </thead>\n",
       "  <tbody>\n",
       "    <tr>\n",
       "      <td>0</td>\n",
       "      <td>1.264295</td>\n",
       "      <td>1.073345</td>\n",
       "      <td>0.528000</td>\n",
       "      <td>02:04</td>\n",
       "    </tr>\n",
       "    <tr>\n",
       "      <td>1</td>\n",
       "      <td>1.049571</td>\n",
       "      <td>1.103960</td>\n",
       "      <td>0.500400</td>\n",
       "      <td>02:02</td>\n",
       "    </tr>\n",
       "    <tr>\n",
       "      <td>2</td>\n",
       "      <td>0.808547</td>\n",
       "      <td>1.039969</td>\n",
       "      <td>0.575600</td>\n",
       "      <td>02:03</td>\n",
       "    </tr>\n",
       "    <tr>\n",
       "      <td>3</td>\n",
       "      <td>0.555421</td>\n",
       "      <td>1.243597</td>\n",
       "      <td>0.560000</td>\n",
       "      <td>01:51</td>\n",
       "    </tr>\n",
       "    <tr>\n",
       "      <td>4</td>\n",
       "      <td>0.280465</td>\n",
       "      <td>1.522083</td>\n",
       "      <td>0.577200</td>\n",
       "      <td>02:03</td>\n",
       "    </tr>\n",
       "    <tr>\n",
       "      <td>5</td>\n",
       "      <td>0.140278</td>\n",
       "      <td>1.657011</td>\n",
       "      <td>0.574000</td>\n",
       "      <td>01:58</td>\n",
       "    </tr>\n",
       "  </tbody>\n",
       "</table>"
      ],
      "text/plain": [
       "<IPython.core.display.HTML object>"
      ]
     },
     "metadata": {},
     "output_type": "display_data"
    },
    {
     "data": {
      "text/html": [],
      "text/plain": [
       "<IPython.core.display.HTML object>"
      ]
     },
     "metadata": {},
     "output_type": "display_data"
    },
    {
     "data": {
      "text/html": [],
      "text/plain": [
       "<IPython.core.display.HTML object>"
      ]
     },
     "metadata": {},
     "output_type": "display_data"
    },
    {
     "data": {
      "text/html": [],
      "text/plain": [
       "<IPython.core.display.HTML object>"
      ]
     },
     "metadata": {},
     "output_type": "display_data"
    },
    {
     "data": {
      "text/html": [
       "<table border=\"1\" class=\"dataframe\">\n",
       "  <thead>\n",
       "    <tr style=\"text-align: left;\">\n",
       "      <th>epoch</th>\n",
       "      <th>train_loss</th>\n",
       "      <th>valid_loss</th>\n",
       "      <th>accuracy</th>\n",
       "      <th>time</th>\n",
       "    </tr>\n",
       "  </thead>\n",
       "  <tbody>\n",
       "    <tr>\n",
       "      <td>0</td>\n",
       "      <td>1.263664</td>\n",
       "      <td>1.040612</td>\n",
       "      <td>0.541200</td>\n",
       "      <td>02:04</td>\n",
       "    </tr>\n",
       "    <tr>\n",
       "      <td>1</td>\n",
       "      <td>1.038413</td>\n",
       "      <td>1.003886</td>\n",
       "      <td>0.560000</td>\n",
       "      <td>01:51</td>\n",
       "    </tr>\n",
       "    <tr>\n",
       "      <td>2</td>\n",
       "      <td>0.808130</td>\n",
       "      <td>0.995627</td>\n",
       "      <td>0.578400</td>\n",
       "      <td>02:00</td>\n",
       "    </tr>\n",
       "    <tr>\n",
       "      <td>3</td>\n",
       "      <td>0.551050</td>\n",
       "      <td>1.160672</td>\n",
       "      <td>0.574400</td>\n",
       "      <td>01:56</td>\n",
       "    </tr>\n",
       "    <tr>\n",
       "      <td>4</td>\n",
       "      <td>0.275472</td>\n",
       "      <td>1.495857</td>\n",
       "      <td>0.579200</td>\n",
       "      <td>01:57</td>\n",
       "    </tr>\n",
       "    <tr>\n",
       "      <td>5</td>\n",
       "      <td>0.136960</td>\n",
       "      <td>1.593938</td>\n",
       "      <td>0.576000</td>\n",
       "      <td>01:55</td>\n",
       "    </tr>\n",
       "  </tbody>\n",
       "</table>"
      ],
      "text/plain": [
       "<IPython.core.display.HTML object>"
      ]
     },
     "metadata": {},
     "output_type": "display_data"
    },
    {
     "data": {
      "text/html": [],
      "text/plain": [
       "<IPython.core.display.HTML object>"
      ]
     },
     "metadata": {},
     "output_type": "display_data"
    },
    {
     "data": {
      "text/html": [],
      "text/plain": [
       "<IPython.core.display.HTML object>"
      ]
     },
     "metadata": {},
     "output_type": "display_data"
    },
    {
     "data": {
      "text/html": [],
      "text/plain": [
       "<IPython.core.display.HTML object>"
      ]
     },
     "metadata": {},
     "output_type": "display_data"
    },
    {
     "data": {
      "text/html": [
       "<table border=\"1\" class=\"dataframe\">\n",
       "  <thead>\n",
       "    <tr style=\"text-align: left;\">\n",
       "      <th>epoch</th>\n",
       "      <th>train_loss</th>\n",
       "      <th>valid_loss</th>\n",
       "      <th>accuracy</th>\n",
       "      <th>time</th>\n",
       "    </tr>\n",
       "  </thead>\n",
       "  <tbody>\n",
       "    <tr>\n",
       "      <td>0</td>\n",
       "      <td>1.264468</td>\n",
       "      <td>1.043323</td>\n",
       "      <td>0.528800</td>\n",
       "      <td>01:59</td>\n",
       "    </tr>\n",
       "    <tr>\n",
       "      <td>1</td>\n",
       "      <td>1.039918</td>\n",
       "      <td>1.003320</td>\n",
       "      <td>0.555200</td>\n",
       "      <td>02:02</td>\n",
       "    </tr>\n",
       "    <tr>\n",
       "      <td>2</td>\n",
       "      <td>0.843496</td>\n",
       "      <td>1.024616</td>\n",
       "      <td>0.554000</td>\n",
       "      <td>01:53</td>\n",
       "    </tr>\n",
       "    <tr>\n",
       "      <td>3</td>\n",
       "      <td>0.555465</td>\n",
       "      <td>1.190338</td>\n",
       "      <td>0.558000</td>\n",
       "      <td>02:03</td>\n",
       "    </tr>\n",
       "    <tr>\n",
       "      <td>4</td>\n",
       "      <td>0.274542</td>\n",
       "      <td>1.483281</td>\n",
       "      <td>0.566000</td>\n",
       "      <td>02:00</td>\n",
       "    </tr>\n",
       "    <tr>\n",
       "      <td>5</td>\n",
       "      <td>0.143104</td>\n",
       "      <td>1.600284</td>\n",
       "      <td>0.568800</td>\n",
       "      <td>01:58</td>\n",
       "    </tr>\n",
       "  </tbody>\n",
       "</table>"
      ],
      "text/plain": [
       "<IPython.core.display.HTML object>"
      ]
     },
     "metadata": {},
     "output_type": "display_data"
    },
    {
     "data": {
      "text/html": [],
      "text/plain": [
       "<IPython.core.display.HTML object>"
      ]
     },
     "metadata": {},
     "output_type": "display_data"
    }
   ],
   "source": [
    "label_cols = ['class']\n",
    "accus = []\n",
    "\n",
    "# use StratifiedKFold to CV 5 folds \n",
    "for train_idx, val_idx in StratifiedKFold(n_splits=5,  shuffle=True).split(df, df['class']):\n",
    "    train = df.iloc[train_idx, :]\n",
    "    val = df.iloc[val_idx, :]\n",
    "    bert_model = BertForSequenceClassification.from_pretrained(config.bert_model_name, num_labels= 5 )\n",
    "    \n",
    "    databunch = TextDataBunch.from_df(YELP, train, val,\n",
    "                      tokenizer=fastai_tokenizer,\n",
    "                      vocab=fastai_bert_vocab,\n",
    "                      include_bos=False,\n",
    "                      include_eos=False,\n",
    "                      text_cols= \"title\",\n",
    "                      label_cols=label_cols,\n",
    "                      bs= 72,\n",
    "                      collate_fn=partial(pad_collate, pad_first=False, pad_idx=0),\n",
    "                 )\n",
    "    \n",
    "    learner = Learner(\n",
    "    databunch, bert_model,\n",
    "    loss_func=loss_func, metrics = accuracy)\n",
    "    #learner.load('premilinary_learner_Yelp_3epochs')\n",
    "    learner.fit_one_cycle(6, 1e-04)\n",
    "    _, accu = learner.validate()\n",
    "    accus.append(accu)"
   ]
  },
  {
   "cell_type": "code",
   "execution_count": 29,
   "metadata": {
    "ExecuteTime": {
     "end_time": "2020-01-07T08:30:40.451878Z",
     "start_time": "2020-01-07T08:30:40.428353Z"
    }
   },
   "outputs": [],
   "source": []
  },
  {
   "cell_type": "code",
   "execution_count": 34,
   "metadata": {
    "ExecuteTime": {
     "end_time": "2020-01-07T09:48:20.873211Z",
     "start_time": "2020-01-07T09:48:20.840712Z"
    }
   },
   "outputs": [],
   "source": [
    "accus = [i.item() for i in accus]\n",
    "bert_yelp_accu_5 = pd.DataFrame({\n",
    "    'model_name' :['Bert'] * 5,\n",
    "    'accuracy' : accus\n",
    "})\n",
    "\n",
    "bert_yelp_accu_5.to_csv(YELP/'bert_yelp_accu_5.csv', index = False)\n",
    "bert_yelp_accu_5 = pd.read_csv(YELP/'bert_yelp_accu_5.csv')"
   ]
  },
  {
   "cell_type": "code",
   "execution_count": 35,
   "metadata": {
    "ExecuteTime": {
     "end_time": "2020-01-07T09:48:26.110568Z",
     "start_time": "2020-01-07T09:48:26.080087Z"
    }
   },
   "outputs": [
    {
     "data": {
      "text/html": [
       "<div>\n",
       "<style scoped>\n",
       "    .dataframe tbody tr th:only-of-type {\n",
       "        vertical-align: middle;\n",
       "    }\n",
       "\n",
       "    .dataframe tbody tr th {\n",
       "        vertical-align: top;\n",
       "    }\n",
       "\n",
       "    .dataframe thead th {\n",
       "        text-align: right;\n",
       "    }\n",
       "</style>\n",
       "<table border=\"1\" class=\"dataframe\">\n",
       "  <thead>\n",
       "    <tr style=\"text-align: right;\">\n",
       "      <th></th>\n",
       "      <th>model_name</th>\n",
       "      <th>accuracy</th>\n",
       "    </tr>\n",
       "  </thead>\n",
       "  <tbody>\n",
       "    <tr>\n",
       "      <th>0</th>\n",
       "      <td>Bert</td>\n",
       "      <td>0.5644</td>\n",
       "    </tr>\n",
       "    <tr>\n",
       "      <th>1</th>\n",
       "      <td>Bert</td>\n",
       "      <td>0.5760</td>\n",
       "    </tr>\n",
       "    <tr>\n",
       "      <th>2</th>\n",
       "      <td>Bert</td>\n",
       "      <td>0.5740</td>\n",
       "    </tr>\n",
       "    <tr>\n",
       "      <th>3</th>\n",
       "      <td>Bert</td>\n",
       "      <td>0.5760</td>\n",
       "    </tr>\n",
       "    <tr>\n",
       "      <th>4</th>\n",
       "      <td>Bert</td>\n",
       "      <td>0.5688</td>\n",
       "    </tr>\n",
       "  </tbody>\n",
       "</table>\n",
       "</div>"
      ],
      "text/plain": [
       "  model_name  accuracy\n",
       "0       Bert    0.5644\n",
       "1       Bert    0.5760\n",
       "2       Bert    0.5740\n",
       "3       Bert    0.5760\n",
       "4       Bert    0.5688"
      ]
     },
     "execution_count": 35,
     "metadata": {},
     "output_type": "execute_result"
    }
   ],
   "source": [
    "bert_yelp_accu_5"
   ]
  },
  {
   "cell_type": "code",
   "execution_count": 36,
   "metadata": {
    "ExecuteTime": {
     "end_time": "2020-01-07T09:49:54.618428Z",
     "start_time": "2020-01-07T09:49:53.201059Z"
    }
   },
   "outputs": [],
   "source": [
    "learner.save('yelp_10k_learner')"
   ]
  },
  {
   "cell_type": "code",
   "execution_count": 37,
   "metadata": {
    "ExecuteTime": {
     "end_time": "2020-01-07T09:51:17.911635Z",
     "start_time": "2020-01-07T09:51:09.310837Z"
    }
   },
   "outputs": [
    {
     "data": {
      "text/html": [],
      "text/plain": [
       "<IPython.core.display.HTML object>"
      ]
     },
     "metadata": {},
     "output_type": "display_data"
    }
   ],
   "source": [
    "interp_yelp_10k = ClassificationInterpretation.from_learner(learner)"
   ]
  },
  {
   "cell_type": "code",
   "execution_count": 47,
   "metadata": {
    "ExecuteTime": {
     "end_time": "2020-01-07T09:59:38.258572Z",
     "start_time": "2020-01-07T09:59:38.079133Z"
    }
   },
   "outputs": [],
   "source": [
    "pd.DataFrame(interp_yelp_10k.confusion_matrix()).to_csv('confusion_matrix_bert.csv')"
   ]
  },
  {
   "cell_type": "code",
   "execution_count": null,
   "metadata": {},
   "outputs": [],
   "source": []
  },
  {
   "cell_type": "markdown",
   "metadata": {},
   "source": [
    "#### Amazon reviews"
   ]
  },
  {
   "cell_type": "code",
   "execution_count": 13,
   "metadata": {
    "ExecuteTime": {
     "end_time": "2020-01-08T21:12:34.080149Z",
     "start_time": "2020-01-08T21:12:34.055825Z"
    }
   },
   "outputs": [],
   "source": [
    "df = AMAZON_TRAIN"
   ]
  },
  {
   "cell_type": "code",
   "execution_count": 19,
   "metadata": {
    "ExecuteTime": {
     "end_time": "2020-01-08T21:24:11.374924Z",
     "start_time": "2020-01-08T21:24:11.342178Z"
    }
   },
   "outputs": [
    {
     "name": "stdout",
     "output_type": "stream",
     "text": [
      "   class                     title  \\\n",
      "0      1       Kindle version only   \n",
      "1      4  A Perfect Family Film!!!   \n",
      "\n",
      "                                              review  \n",
      "0  From reading the other comments the book sound...  \n",
      "1  This was a really good movie about a little gi...  \n"
     ]
    },
    {
     "data": {
      "text/plain": [
       "(12500, 3)"
      ]
     },
     "execution_count": 19,
     "metadata": {},
     "output_type": "execute_result"
    }
   ],
   "source": [
    "print(df.head(2))\n",
    "df.shape"
   ]
  },
  {
   "cell_type": "markdown",
   "metadata": {
    "ExecuteTime": {
     "end_time": "2020-01-07T21:52:52.206549Z",
     "start_time": "2020-01-07T21:52:52.181041Z"
    }
   },
   "source": [
    "##### ML models"
   ]
  },
  {
   "cell_type": "code",
   "execution_count": 12,
   "metadata": {
    "ExecuteTime": {
     "end_time": "2020-01-08T21:12:29.332440Z",
     "start_time": "2020-01-08T21:12:29.297641Z"
    }
   },
   "outputs": [
    {
     "ename": "NameError",
     "evalue": "name 'df' is not defined",
     "output_type": "error",
     "traceback": [
      "\u001b[0;31m---------------------------------------------------------------------------\u001b[0m",
      "\u001b[0;31mNameError\u001b[0m                                 Traceback (most recent call last)",
      "\u001b[0;32m<ipython-input-12-93335f531056>\u001b[0m in \u001b[0;36m<module>\u001b[0;34m\u001b[0m\n\u001b[1;32m      1\u001b[0m \u001b[0;31m# Set the global vars for this dataset for diverse algorithums\u001b[0m\u001b[0;34m\u001b[0m\u001b[0;34m\u001b[0m\u001b[0;34m\u001b[0m\u001b[0m\n\u001b[1;32m      2\u001b[0m \u001b[0;34m\u001b[0m\u001b[0m\n\u001b[0;32m----> 3\u001b[0;31m \u001b[0mdf\u001b[0m\u001b[0;34m[\u001b[0m\u001b[0;34m'category_id'\u001b[0m\u001b[0;34m]\u001b[0m \u001b[0;34m=\u001b[0m \u001b[0mdf\u001b[0m\u001b[0;34m[\u001b[0m\u001b[0;34m'class'\u001b[0m\u001b[0;34m]\u001b[0m\u001b[0;34m.\u001b[0m\u001b[0mfactorize\u001b[0m\u001b[0;34m(\u001b[0m\u001b[0;34m)\u001b[0m\u001b[0;34m[\u001b[0m\u001b[0;36m0\u001b[0m\u001b[0;34m]\u001b[0m\u001b[0;34m\u001b[0m\u001b[0;34m\u001b[0m\u001b[0m\n\u001b[0m\u001b[1;32m      4\u001b[0m \u001b[0;34m\u001b[0m\u001b[0m\n\u001b[1;32m      5\u001b[0m category_id_df = df[['class', 'category_id']\n",
      "\u001b[0;31mNameError\u001b[0m: name 'df' is not defined"
     ]
    }
   ],
   "source": [
    "\n",
    "\n",
    "\n",
    "# Set the global vars for this dataset for diverse algorithums\n",
    "\n",
    "df['category_id'] = df['class'].factorize()[0]\n",
    "\n",
    "category_id_df = df[['class', 'category_id']\n",
    "                    ].drop_duplicates().sort_values('category_id')\n",
    "category_to_id = dict(category_id_df.values)\n",
    "id_to_category = {v: k for k, v in category_to_id.items()}\n",
    "\n",
    "tfidf = TfidfVectorizer(sublinear_tf=True, norm='l2', min_df=5,\n",
    "                        encoding='latin-1', ngram_range=(1, 3), stop_words='english')\n",
    "\n",
    "features = tfidf.fit_transform(df.review).toarray()  # features is the global var for this dataset block\n",
    "\n",
    "labels = df.category_id  # labels also a global var\n",
    "\n",
    "features.shape"
   ]
  },
  {
   "cell_type": "code",
   "execution_count": 42,
   "metadata": {
    "ExecuteTime": {
     "end_time": "2020-01-07T22:04:58.596885Z",
     "start_time": "2020-01-07T21:59:46.267547Z"
    }
   },
   "outputs": [
    {
     "name": "stdout",
     "output_type": "stream",
     "text": [
      "finished RandomForestClassifier, 0th bootstrap of 0th epochs\n",
      "finished RandomForestClassifier, 0th bootstrap of 1th epochs\n",
      "finished RandomForestClassifier, 0th bootstrap of 2th epochs\n",
      "finished RandomForestClassifier, 0th bootstrap of 3th epochs\n",
      "finished RandomForestClassifier, 0th bootstrap of 4th epochs\n",
      "finished LinearSVC, 0th bootstrap of 0th epochs\n",
      "finished LinearSVC, 0th bootstrap of 1th epochs\n",
      "finished LinearSVC, 0th bootstrap of 2th epochs\n",
      "finished LinearSVC, 0th bootstrap of 3th epochs\n",
      "finished LinearSVC, 0th bootstrap of 4th epochs\n",
      "finished MultinomialNB, 0th bootstrap of 0th epochs\n",
      "finished MultinomialNB, 0th bootstrap of 1th epochs\n",
      "finished MultinomialNB, 0th bootstrap of 2th epochs\n",
      "finished MultinomialNB, 0th bootstrap of 3th epochs\n",
      "finished MultinomialNB, 0th bootstrap of 4th epochs\n",
      "finished LogisticRegression, 0th bootstrap of 0th epochs\n",
      "finished LogisticRegression, 0th bootstrap of 1th epochs\n",
      "finished LogisticRegression, 0th bootstrap of 2th epochs\n",
      "finished LogisticRegression, 0th bootstrap of 3th epochs\n",
      "finished LogisticRegression, 0th bootstrap of 4th epochs\n",
      "finished RandomForestClassifier, 1th bootstrap of 0th epochs\n",
      "finished RandomForestClassifier, 1th bootstrap of 1th epochs\n",
      "finished RandomForestClassifier, 1th bootstrap of 2th epochs\n",
      "finished RandomForestClassifier, 1th bootstrap of 3th epochs\n",
      "finished RandomForestClassifier, 1th bootstrap of 4th epochs\n",
      "finished LinearSVC, 1th bootstrap of 0th epochs\n",
      "finished LinearSVC, 1th bootstrap of 1th epochs\n",
      "finished LinearSVC, 1th bootstrap of 2th epochs\n",
      "finished LinearSVC, 1th bootstrap of 3th epochs\n",
      "finished LinearSVC, 1th bootstrap of 4th epochs\n",
      "finished MultinomialNB, 1th bootstrap of 0th epochs\n",
      "finished MultinomialNB, 1th bootstrap of 1th epochs\n",
      "finished MultinomialNB, 1th bootstrap of 2th epochs\n",
      "finished MultinomialNB, 1th bootstrap of 3th epochs\n",
      "finished MultinomialNB, 1th bootstrap of 4th epochs\n",
      "finished LogisticRegression, 1th bootstrap of 0th epochs\n",
      "finished LogisticRegression, 1th bootstrap of 1th epochs\n",
      "finished LogisticRegression, 1th bootstrap of 2th epochs\n",
      "finished LogisticRegression, 1th bootstrap of 3th epochs\n",
      "finished LogisticRegression, 1th bootstrap of 4th epochs\n"
     ]
    }
   ],
   "source": [
    "\n",
    "models = [RandomForestClassifier(n_estimators=200, max_depth=3, random_state=0),\n",
    "          LinearSVC(),\n",
    "          MultinomialNB(),\n",
    "          LogisticRegression(random_state=0, max_iter= 200)]\n",
    "\n",
    "boot_num = 2\n",
    "CV = 5\n",
    "cv_df = pd.DataFrame(index=range(CV * len(models)))\n",
    "entries = []\n",
    "\n",
    "for i in range(boot_num):\n",
    "    for model in models:\n",
    "        model_name = model.__class__.__name__\n",
    "        accuracies = cross_val_score(model, features, labels, scoring='accuracy', cv=CV)\n",
    "        for _, accuracy in enumerate(accuracies):\n",
    "            print(f'finished {model_name}, {i}th bootstrap of {_}th epochs')\n",
    "            entries.append((model_name, accuracy))\n",
    "\n",
    "        \n",
    "cv_df = pd.DataFrame(entries, columns=['model_name', 'accuracy'])"
   ]
  },
  {
   "cell_type": "code",
   "execution_count": 43,
   "metadata": {
    "ExecuteTime": {
     "end_time": "2020-01-07T22:05:21.668980Z",
     "start_time": "2020-01-07T22:05:21.633925Z"
    }
   },
   "outputs": [
    {
     "data": {
      "text/html": [
       "<div>\n",
       "<style scoped>\n",
       "    .dataframe tbody tr th:only-of-type {\n",
       "        vertical-align: middle;\n",
       "    }\n",
       "\n",
       "    .dataframe tbody tr th {\n",
       "        vertical-align: top;\n",
       "    }\n",
       "\n",
       "    .dataframe thead th {\n",
       "        text-align: right;\n",
       "    }\n",
       "</style>\n",
       "<table border=\"1\" class=\"dataframe\">\n",
       "  <thead>\n",
       "    <tr style=\"text-align: right;\">\n",
       "      <th></th>\n",
       "      <th>model_name</th>\n",
       "      <th>accuracy</th>\n",
       "    </tr>\n",
       "  </thead>\n",
       "  <tbody>\n",
       "    <tr>\n",
       "      <th>0</th>\n",
       "      <td>RandomForestClassifier</td>\n",
       "      <td>0.3752</td>\n",
       "    </tr>\n",
       "    <tr>\n",
       "      <th>1</th>\n",
       "      <td>RandomForestClassifier</td>\n",
       "      <td>0.3620</td>\n",
       "    </tr>\n",
       "    <tr>\n",
       "      <th>2</th>\n",
       "      <td>RandomForestClassifier</td>\n",
       "      <td>0.3688</td>\n",
       "    </tr>\n",
       "    <tr>\n",
       "      <th>3</th>\n",
       "      <td>RandomForestClassifier</td>\n",
       "      <td>0.3752</td>\n",
       "    </tr>\n",
       "    <tr>\n",
       "      <th>4</th>\n",
       "      <td>RandomForestClassifier</td>\n",
       "      <td>0.3700</td>\n",
       "    </tr>\n",
       "    <tr>\n",
       "      <th>5</th>\n",
       "      <td>LinearSVC</td>\n",
       "      <td>0.3904</td>\n",
       "    </tr>\n",
       "    <tr>\n",
       "      <th>6</th>\n",
       "      <td>LinearSVC</td>\n",
       "      <td>0.3956</td>\n",
       "    </tr>\n",
       "    <tr>\n",
       "      <th>7</th>\n",
       "      <td>LinearSVC</td>\n",
       "      <td>0.3968</td>\n",
       "    </tr>\n",
       "    <tr>\n",
       "      <th>8</th>\n",
       "      <td>LinearSVC</td>\n",
       "      <td>0.3940</td>\n",
       "    </tr>\n",
       "    <tr>\n",
       "      <th>9</th>\n",
       "      <td>LinearSVC</td>\n",
       "      <td>0.3972</td>\n",
       "    </tr>\n",
       "    <tr>\n",
       "      <th>10</th>\n",
       "      <td>MultinomialNB</td>\n",
       "      <td>0.4100</td>\n",
       "    </tr>\n",
       "    <tr>\n",
       "      <th>11</th>\n",
       "      <td>MultinomialNB</td>\n",
       "      <td>0.4144</td>\n",
       "    </tr>\n",
       "    <tr>\n",
       "      <th>12</th>\n",
       "      <td>MultinomialNB</td>\n",
       "      <td>0.4164</td>\n",
       "    </tr>\n",
       "    <tr>\n",
       "      <th>13</th>\n",
       "      <td>MultinomialNB</td>\n",
       "      <td>0.4204</td>\n",
       "    </tr>\n",
       "    <tr>\n",
       "      <th>14</th>\n",
       "      <td>MultinomialNB</td>\n",
       "      <td>0.4260</td>\n",
       "    </tr>\n",
       "    <tr>\n",
       "      <th>15</th>\n",
       "      <td>LogisticRegression</td>\n",
       "      <td>0.4248</td>\n",
       "    </tr>\n",
       "    <tr>\n",
       "      <th>16</th>\n",
       "      <td>LogisticRegression</td>\n",
       "      <td>0.4244</td>\n",
       "    </tr>\n",
       "    <tr>\n",
       "      <th>17</th>\n",
       "      <td>LogisticRegression</td>\n",
       "      <td>0.4316</td>\n",
       "    </tr>\n",
       "    <tr>\n",
       "      <th>18</th>\n",
       "      <td>LogisticRegression</td>\n",
       "      <td>0.4328</td>\n",
       "    </tr>\n",
       "    <tr>\n",
       "      <th>19</th>\n",
       "      <td>LogisticRegression</td>\n",
       "      <td>0.4296</td>\n",
       "    </tr>\n",
       "    <tr>\n",
       "      <th>20</th>\n",
       "      <td>RandomForestClassifier</td>\n",
       "      <td>0.3752</td>\n",
       "    </tr>\n",
       "    <tr>\n",
       "      <th>21</th>\n",
       "      <td>RandomForestClassifier</td>\n",
       "      <td>0.3620</td>\n",
       "    </tr>\n",
       "    <tr>\n",
       "      <th>22</th>\n",
       "      <td>RandomForestClassifier</td>\n",
       "      <td>0.3688</td>\n",
       "    </tr>\n",
       "    <tr>\n",
       "      <th>23</th>\n",
       "      <td>RandomForestClassifier</td>\n",
       "      <td>0.3752</td>\n",
       "    </tr>\n",
       "    <tr>\n",
       "      <th>24</th>\n",
       "      <td>RandomForestClassifier</td>\n",
       "      <td>0.3700</td>\n",
       "    </tr>\n",
       "    <tr>\n",
       "      <th>25</th>\n",
       "      <td>LinearSVC</td>\n",
       "      <td>0.3904</td>\n",
       "    </tr>\n",
       "    <tr>\n",
       "      <th>26</th>\n",
       "      <td>LinearSVC</td>\n",
       "      <td>0.3956</td>\n",
       "    </tr>\n",
       "    <tr>\n",
       "      <th>27</th>\n",
       "      <td>LinearSVC</td>\n",
       "      <td>0.3968</td>\n",
       "    </tr>\n",
       "    <tr>\n",
       "      <th>28</th>\n",
       "      <td>LinearSVC</td>\n",
       "      <td>0.3940</td>\n",
       "    </tr>\n",
       "    <tr>\n",
       "      <th>29</th>\n",
       "      <td>LinearSVC</td>\n",
       "      <td>0.3972</td>\n",
       "    </tr>\n",
       "    <tr>\n",
       "      <th>30</th>\n",
       "      <td>MultinomialNB</td>\n",
       "      <td>0.4100</td>\n",
       "    </tr>\n",
       "    <tr>\n",
       "      <th>31</th>\n",
       "      <td>MultinomialNB</td>\n",
       "      <td>0.4144</td>\n",
       "    </tr>\n",
       "    <tr>\n",
       "      <th>32</th>\n",
       "      <td>MultinomialNB</td>\n",
       "      <td>0.4164</td>\n",
       "    </tr>\n",
       "    <tr>\n",
       "      <th>33</th>\n",
       "      <td>MultinomialNB</td>\n",
       "      <td>0.4204</td>\n",
       "    </tr>\n",
       "    <tr>\n",
       "      <th>34</th>\n",
       "      <td>MultinomialNB</td>\n",
       "      <td>0.4260</td>\n",
       "    </tr>\n",
       "    <tr>\n",
       "      <th>35</th>\n",
       "      <td>LogisticRegression</td>\n",
       "      <td>0.4248</td>\n",
       "    </tr>\n",
       "    <tr>\n",
       "      <th>36</th>\n",
       "      <td>LogisticRegression</td>\n",
       "      <td>0.4244</td>\n",
       "    </tr>\n",
       "    <tr>\n",
       "      <th>37</th>\n",
       "      <td>LogisticRegression</td>\n",
       "      <td>0.4316</td>\n",
       "    </tr>\n",
       "    <tr>\n",
       "      <th>38</th>\n",
       "      <td>LogisticRegression</td>\n",
       "      <td>0.4328</td>\n",
       "    </tr>\n",
       "    <tr>\n",
       "      <th>39</th>\n",
       "      <td>LogisticRegression</td>\n",
       "      <td>0.4296</td>\n",
       "    </tr>\n",
       "  </tbody>\n",
       "</table>\n",
       "</div>"
      ],
      "text/plain": [
       "                model_name  accuracy\n",
       "0   RandomForestClassifier    0.3752\n",
       "1   RandomForestClassifier    0.3620\n",
       "2   RandomForestClassifier    0.3688\n",
       "3   RandomForestClassifier    0.3752\n",
       "4   RandomForestClassifier    0.3700\n",
       "5                LinearSVC    0.3904\n",
       "6                LinearSVC    0.3956\n",
       "7                LinearSVC    0.3968\n",
       "8                LinearSVC    0.3940\n",
       "9                LinearSVC    0.3972\n",
       "10           MultinomialNB    0.4100\n",
       "11           MultinomialNB    0.4144\n",
       "12           MultinomialNB    0.4164\n",
       "13           MultinomialNB    0.4204\n",
       "14           MultinomialNB    0.4260\n",
       "15      LogisticRegression    0.4248\n",
       "16      LogisticRegression    0.4244\n",
       "17      LogisticRegression    0.4316\n",
       "18      LogisticRegression    0.4328\n",
       "19      LogisticRegression    0.4296\n",
       "20  RandomForestClassifier    0.3752\n",
       "21  RandomForestClassifier    0.3620\n",
       "22  RandomForestClassifier    0.3688\n",
       "23  RandomForestClassifier    0.3752\n",
       "24  RandomForestClassifier    0.3700\n",
       "25               LinearSVC    0.3904\n",
       "26               LinearSVC    0.3956\n",
       "27               LinearSVC    0.3968\n",
       "28               LinearSVC    0.3940\n",
       "29               LinearSVC    0.3972\n",
       "30           MultinomialNB    0.4100\n",
       "31           MultinomialNB    0.4144\n",
       "32           MultinomialNB    0.4164\n",
       "33           MultinomialNB    0.4204\n",
       "34           MultinomialNB    0.4260\n",
       "35      LogisticRegression    0.4248\n",
       "36      LogisticRegression    0.4244\n",
       "37      LogisticRegression    0.4316\n",
       "38      LogisticRegression    0.4328\n",
       "39      LogisticRegression    0.4296"
      ]
     },
     "execution_count": 43,
     "metadata": {},
     "output_type": "execute_result"
    }
   ],
   "source": [
    "cv_df.to_csv(AMAZON/'ml_amazon_accu_10', index = False)\n",
    "ml_amazon_accu_10 = pd.read_csv(AMAZON/'ml_amazon_accu_10')\n",
    "ml_amazon_accu_10"
   ]
  },
  {
   "cell_type": "code",
   "execution_count": null,
   "metadata": {},
   "outputs": [],
   "source": []
  },
  {
   "cell_type": "markdown",
   "metadata": {},
   "source": [
    "##### DL models"
   ]
  },
  {
   "cell_type": "code",
   "execution_count": 20,
   "metadata": {
    "ExecuteTime": {
     "end_time": "2020-01-08T21:26:38.454857Z",
     "start_time": "2020-01-08T21:26:38.421765Z"
    }
   },
   "outputs": [],
   "source": [
    "x_train, x_test, y_train, y_test = train_test_split(df['review'], df['class'], test_size= 2000)"
   ]
  },
  {
   "cell_type": "code",
   "execution_count": 72,
   "metadata": {
    "ExecuteTime": {
     "end_time": "2020-01-08T23:21:55.735522Z",
     "start_time": "2020-01-08T23:21:55.701713Z"
    }
   },
   "outputs": [
    {
     "data": {
      "text/html": [
       "<div>\n",
       "<style scoped>\n",
       "    .dataframe tbody tr th:only-of-type {\n",
       "        vertical-align: middle;\n",
       "    }\n",
       "\n",
       "    .dataframe tbody tr th {\n",
       "        vertical-align: top;\n",
       "    }\n",
       "\n",
       "    .dataframe thead th {\n",
       "        text-align: right;\n",
       "    }\n",
       "</style>\n",
       "<table border=\"1\" class=\"dataframe\">\n",
       "  <thead>\n",
       "    <tr style=\"text-align: right;\">\n",
       "      <th></th>\n",
       "      <th>class</th>\n",
       "      <th>title</th>\n",
       "      <th>review</th>\n",
       "    </tr>\n",
       "  </thead>\n",
       "  <tbody>\n",
       "    <tr>\n",
       "      <th>0</th>\n",
       "      <td>1</td>\n",
       "      <td>Kindle version only</td>\n",
       "      <td>From reading the other comments the book sound...</td>\n",
       "    </tr>\n",
       "    <tr>\n",
       "      <th>1</th>\n",
       "      <td>4</td>\n",
       "      <td>A Perfect Family Film!!!</td>\n",
       "      <td>This was a really good movie about a little gi...</td>\n",
       "    </tr>\n",
       "    <tr>\n",
       "      <th>2</th>\n",
       "      <td>2</td>\n",
       "      <td>Not helpful</td>\n",
       "      <td>This book by Kaplan was not helpful at all. I ...</td>\n",
       "    </tr>\n",
       "    <tr>\n",
       "      <th>5</th>\n",
       "      <td>1</td>\n",
       "      <td>Don't Waste Your Money or Time</td>\n",
       "      <td>This book was ridiculous. A scary mentally-ill...</td>\n",
       "    </tr>\n",
       "    <tr>\n",
       "      <th>9</th>\n",
       "      <td>2</td>\n",
       "      <td>question</td>\n",
       "      <td>When will my book come and why hasnt it be shi...</td>\n",
       "    </tr>\n",
       "    <tr>\n",
       "      <th>...</th>\n",
       "      <td>...</td>\n",
       "      <td>...</td>\n",
       "      <td>...</td>\n",
       "    </tr>\n",
       "    <tr>\n",
       "      <th>12494</th>\n",
       "      <td>2</td>\n",
       "      <td>Kindle edition: modified and based on NIV!</td>\n",
       "      <td>My two star rating is not based on the content...</td>\n",
       "    </tr>\n",
       "    <tr>\n",
       "      <th>12495</th>\n",
       "      <td>4</td>\n",
       "      <td>Can't Beat Bad Boy Bill</td>\n",
       "      <td>This album is incredible- it never slows down,...</td>\n",
       "    </tr>\n",
       "    <tr>\n",
       "      <th>12496</th>\n",
       "      <td>2</td>\n",
       "      <td>The band sucked, where was Ronni Wood just for...</td>\n",
       "      <td>Rod sang well, the slow songs were excellent. ...</td>\n",
       "    </tr>\n",
       "    <tr>\n",
       "      <th>12498</th>\n",
       "      <td>2</td>\n",
       "      <td>Needs some getting used to, but ok as a back up</td>\n",
       "      <td>I purchased these gloves, which are the fourth...</td>\n",
       "    </tr>\n",
       "    <tr>\n",
       "      <th>12499</th>\n",
       "      <td>5</td>\n",
       "      <td>Beautiful, enchanting set.</td>\n",
       "      <td>When you hold this set of three books, it feel...</td>\n",
       "    </tr>\n",
       "  </tbody>\n",
       "</table>\n",
       "<p>9375 rows × 3 columns</p>\n",
       "</div>"
      ],
      "text/plain": [
       "       class                                              title  \\\n",
       "0          1                                Kindle version only   \n",
       "1          4                           A Perfect Family Film!!!   \n",
       "2          2                                        Not helpful   \n",
       "5          1                     Don't Waste Your Money or Time   \n",
       "9          2                                           question   \n",
       "...      ...                                                ...   \n",
       "12494      2         Kindle edition: modified and based on NIV!   \n",
       "12495      4                            Can't Beat Bad Boy Bill   \n",
       "12496      2  The band sucked, where was Ronni Wood just for...   \n",
       "12498      2    Needs some getting used to, but ok as a back up   \n",
       "12499      5                         Beautiful, enchanting set.   \n",
       "\n",
       "                                                  review  \n",
       "0      From reading the other comments the book sound...  \n",
       "1      This was a really good movie about a little gi...  \n",
       "2      This book by Kaplan was not helpful at all. I ...  \n",
       "5      This book was ridiculous. A scary mentally-ill...  \n",
       "9      When will my book come and why hasnt it be shi...  \n",
       "...                                                  ...  \n",
       "12494  My two star rating is not based on the content...  \n",
       "12495  This album is incredible- it never slows down,...  \n",
       "12496  Rod sang well, the slow songs were excellent. ...  \n",
       "12498  I purchased these gloves, which are the fourth...  \n",
       "12499  When you hold this set of three books, it feel...  \n",
       "\n",
       "[9375 rows x 3 columns]"
      ]
     },
     "execution_count": 72,
     "metadata": {},
     "output_type": "execute_result"
    }
   ],
   "source": [
    "train"
   ]
  },
  {
   "cell_type": "code",
   "execution_count": 21,
   "metadata": {
    "ExecuteTime": {
     "end_time": "2020-01-08T21:27:00.973232Z",
     "start_time": "2020-01-08T21:26:50.953014Z"
    }
   },
   "outputs": [
    {
     "data": {
      "text/html": [],
      "text/plain": [
       "<IPython.core.display.HTML object>"
      ]
     },
     "metadata": {},
     "output_type": "display_data"
    },
    {
     "data": {
      "text/html": [],
      "text/plain": [
       "<IPython.core.display.HTML object>"
      ]
     },
     "metadata": {},
     "output_type": "display_data"
    }
   ],
   "source": [
    "bert_model = BertForSequenceClassification.from_pretrained(config.bert_model_name, num_labels= 5 )\n",
    "    \n",
    "databunch = TextDataBunch.from_df(AMAZON, train, val,\n",
    "                      tokenizer=fastai_tokenizer,\n",
    "                      vocab=fastai_bert_vocab,\n",
    "                      include_bos=False,\n",
    "                      include_eos=False,\n",
    "                      text_cols= \"review\",\n",
    "                      label_cols=label_cols,\n",
    "                      bs= 64,\n",
    "                      collate_fn=partial(pad_collate, pad_first=False, pad_idx=0),\n",
    "                 )"
   ]
  },
  {
   "cell_type": "code",
   "execution_count": 22,
   "metadata": {
    "ExecuteTime": {
     "end_time": "2020-01-08T21:27:20.217038Z",
     "start_time": "2020-01-08T21:27:20.100163Z"
    }
   },
   "outputs": [],
   "source": [
    "learner = Learner(\n",
    "databunch, bert_model,\n",
    "loss_func=loss_func, metrics = accuracy)"
   ]
  },
  {
   "cell_type": "code",
   "execution_count": 23,
   "metadata": {
    "ExecuteTime": {
     "end_time": "2020-01-08T21:28:19.745287Z",
     "start_time": "2020-01-08T21:27:32.822012Z"
    }
   },
   "outputs": [
    {
     "data": {
      "text/html": [],
      "text/plain": [
       "<IPython.core.display.HTML object>"
      ]
     },
     "metadata": {},
     "output_type": "display_data"
    },
    {
     "name": "stdout",
     "output_type": "stream",
     "text": [
      "LR Finder is complete, type {learner_name}.recorder.plot() to see the graph.\n"
     ]
    }
   ],
   "source": [
    "learner.lr_find()"
   ]
  },
  {
   "cell_type": "code",
   "execution_count": 24,
   "metadata": {
    "ExecuteTime": {
     "end_time": "2020-01-08T21:29:29.859728Z",
     "start_time": "2020-01-08T21:29:29.384139Z"
    }
   },
   "outputs": [
    {
     "data": {
      "image/png": "[encoded data removed]",
      "text/plain": [
       "<Figure size 432x288 with 1 Axes>"
      ]
     },
     "metadata": {
      "needs_background": "light"
     },
     "output_type": "display_data"
    }
   ],
   "source": [
    "learner.recorder.plot()"
   ]
  },
  {
   "cell_type": "code",
   "execution_count": 25,
   "metadata": {
    "ExecuteTime": {
     "end_time": "2020-01-08T21:38:36.758739Z",
     "start_time": "2020-01-08T21:30:01.935388Z"
    }
   },
   "outputs": [
    {
     "data": {
      "text/html": [
       "<table border=\"1\" class=\"dataframe\">\n",
       "  <thead>\n",
       "    <tr style=\"text-align: left;\">\n",
       "      <th>epoch</th>\n",
       "      <th>train_loss</th>\n",
       "      <th>valid_loss</th>\n",
       "      <th>accuracy</th>\n",
       "      <th>time</th>\n",
       "    </tr>\n",
       "  </thead>\n",
       "  <tbody>\n",
       "    <tr>\n",
       "      <td>0</td>\n",
       "      <td>1.245739</td>\n",
       "      <td>1.161839</td>\n",
       "      <td>0.509600</td>\n",
       "      <td>01:38</td>\n",
       "    </tr>\n",
       "    <tr>\n",
       "      <td>1</td>\n",
       "      <td>1.074768</td>\n",
       "      <td>1.074270</td>\n",
       "      <td>0.540800</td>\n",
       "      <td>01:39</td>\n",
       "    </tr>\n",
       "    <tr>\n",
       "      <td>2</td>\n",
       "      <td>0.832951</td>\n",
       "      <td>1.121209</td>\n",
       "      <td>0.542000</td>\n",
       "      <td>01:45</td>\n",
       "    </tr>\n",
       "    <tr>\n",
       "      <td>3</td>\n",
       "      <td>0.484953</td>\n",
       "      <td>1.387535</td>\n",
       "      <td>0.540800</td>\n",
       "      <td>01:45</td>\n",
       "    </tr>\n",
       "    <tr>\n",
       "      <td>4</td>\n",
       "      <td>0.258757</td>\n",
       "      <td>1.564786</td>\n",
       "      <td>0.543200</td>\n",
       "      <td>01:46</td>\n",
       "    </tr>\n",
       "  </tbody>\n",
       "</table>"
      ],
      "text/plain": [
       "<IPython.core.display.HTML object>"
      ]
     },
     "metadata": {},
     "output_type": "display_data"
    }
   ],
   "source": [
    "learner.fit_one_cycle(5, 1e-04)"
   ]
  },
  {
   "cell_type": "code",
   "execution_count": 31,
   "metadata": {
    "ExecuteTime": {
     "end_time": "2020-01-08T21:48:17.483266Z",
     "start_time": "2020-01-08T21:48:17.455075Z"
    }
   },
   "outputs": [
    {
     "data": {
      "text/plain": [
       "<bound method Module.modules of BertForSequenceClassification(\n",
       "  (bert): BertModel(\n",
       "    (embeddings): BertEmbeddings(\n",
       "      (word_embeddings): Embedding(30522, 768, padding_idx=0)\n",
       "      (position_embeddings): Embedding(512, 768)\n",
       "      (token_type_embeddings): Embedding(2, 768)\n",
       "      (LayerNorm): LayerNorm((768,), eps=1e-12, elementwise_affine=True)\n",
       "      (dropout): Dropout(p=0.1, inplace=False)\n",
       "    )\n",
       "    (encoder): BertEncoder(\n",
       "      (layer): ModuleList(\n",
       "        (0): BertLayer(\n",
       "          (attention): BertAttention(\n",
       "            (self): BertSelfAttention(\n",
       "              (query): Linear(in_features=768, out_features=768, bias=True)\n",
       "              (key): Linear(in_features=768, out_features=768, bias=True)\n",
       "              (value): Linear(in_features=768, out_features=768, bias=True)\n",
       "              (dropout): Dropout(p=0.1, inplace=False)\n",
       "            )\n",
       "            (output): BertSelfOutput(\n",
       "              (dense): Linear(in_features=768, out_features=768, bias=True)\n",
       "              (LayerNorm): LayerNorm((768,), eps=1e-12, elementwise_affine=True)\n",
       "              (dropout): Dropout(p=0.1, inplace=False)\n",
       "            )\n",
       "          )\n",
       "          (intermediate): BertIntermediate(\n",
       "            (dense): Linear(in_features=768, out_features=3072, bias=True)\n",
       "          )\n",
       "          (output): BertOutput(\n",
       "            (dense): Linear(in_features=3072, out_features=768, bias=True)\n",
       "            (LayerNorm): LayerNorm((768,), eps=1e-12, elementwise_affine=True)\n",
       "            (dropout): Dropout(p=0.1, inplace=False)\n",
       "          )\n",
       "        )\n",
       "        (1): BertLayer(\n",
       "          (attention): BertAttention(\n",
       "            (self): BertSelfAttention(\n",
       "              (query): Linear(in_features=768, out_features=768, bias=True)\n",
       "              (key): Linear(in_features=768, out_features=768, bias=True)\n",
       "              (value): Linear(in_features=768, out_features=768, bias=True)\n",
       "              (dropout): Dropout(p=0.1, inplace=False)\n",
       "            )\n",
       "            (output): BertSelfOutput(\n",
       "              (dense): Linear(in_features=768, out_features=768, bias=True)\n",
       "              (LayerNorm): LayerNorm((768,), eps=1e-12, elementwise_affine=True)\n",
       "              (dropout): Dropout(p=0.1, inplace=False)\n",
       "            )\n",
       "          )\n",
       "          (intermediate): BertIntermediate(\n",
       "            (dense): Linear(in_features=768, out_features=3072, bias=True)\n",
       "          )\n",
       "          (output): BertOutput(\n",
       "            (dense): Linear(in_features=3072, out_features=768, bias=True)\n",
       "            (LayerNorm): LayerNorm((768,), eps=1e-12, elementwise_affine=True)\n",
       "            (dropout): Dropout(p=0.1, inplace=False)\n",
       "          )\n",
       "        )\n",
       "        (2): BertLayer(\n",
       "          (attention): BertAttention(\n",
       "            (self): BertSelfAttention(\n",
       "              (query): Linear(in_features=768, out_features=768, bias=True)\n",
       "              (key): Linear(in_features=768, out_features=768, bias=True)\n",
       "              (value): Linear(in_features=768, out_features=768, bias=True)\n",
       "              (dropout): Dropout(p=0.1, inplace=False)\n",
       "            )\n",
       "            (output): BertSelfOutput(\n",
       "              (dense): Linear(in_features=768, out_features=768, bias=True)\n",
       "              (LayerNorm): LayerNorm((768,), eps=1e-12, elementwise_affine=True)\n",
       "              (dropout): Dropout(p=0.1, inplace=False)\n",
       "            )\n",
       "          )\n",
       "          (intermediate): BertIntermediate(\n",
       "            (dense): Linear(in_features=768, out_features=3072, bias=True)\n",
       "          )\n",
       "          (output): BertOutput(\n",
       "            (dense): Linear(in_features=3072, out_features=768, bias=True)\n",
       "            (LayerNorm): LayerNorm((768,), eps=1e-12, elementwise_affine=True)\n",
       "            (dropout): Dropout(p=0.1, inplace=False)\n",
       "          )\n",
       "        )\n",
       "        (3): BertLayer(\n",
       "          (attention): BertAttention(\n",
       "            (self): BertSelfAttention(\n",
       "              (query): Linear(in_features=768, out_features=768, bias=True)\n",
       "              (key): Linear(in_features=768, out_features=768, bias=True)\n",
       "              (value): Linear(in_features=768, out_features=768, bias=True)\n",
       "              (dropout): Dropout(p=0.1, inplace=False)\n",
       "            )\n",
       "            (output): BertSelfOutput(\n",
       "              (dense): Linear(in_features=768, out_features=768, bias=True)\n",
       "              (LayerNorm): LayerNorm((768,), eps=1e-12, elementwise_affine=True)\n",
       "              (dropout): Dropout(p=0.1, inplace=False)\n",
       "            )\n",
       "          )\n",
       "          (intermediate): BertIntermediate(\n",
       "            (dense): Linear(in_features=768, out_features=3072, bias=True)\n",
       "          )\n",
       "          (output): BertOutput(\n",
       "            (dense): Linear(in_features=3072, out_features=768, bias=True)\n",
       "            (LayerNorm): LayerNorm((768,), eps=1e-12, elementwise_affine=True)\n",
       "            (dropout): Dropout(p=0.1, inplace=False)\n",
       "          )\n",
       "        )\n",
       "        (4): BertLayer(\n",
       "          (attention): BertAttention(\n",
       "            (self): BertSelfAttention(\n",
       "              (query): Linear(in_features=768, out_features=768, bias=True)\n",
       "              (key): Linear(in_features=768, out_features=768, bias=True)\n",
       "              (value): Linear(in_features=768, out_features=768, bias=True)\n",
       "              (dropout): Dropout(p=0.1, inplace=False)\n",
       "            )\n",
       "            (output): BertSelfOutput(\n",
       "              (dense): Linear(in_features=768, out_features=768, bias=True)\n",
       "              (LayerNorm): LayerNorm((768,), eps=1e-12, elementwise_affine=True)\n",
       "              (dropout): Dropout(p=0.1, inplace=False)\n",
       "            )\n",
       "          )\n",
       "          (intermediate): BertIntermediate(\n",
       "            (dense): Linear(in_features=768, out_features=3072, bias=True)\n",
       "          )\n",
       "          (output): BertOutput(\n",
       "            (dense): Linear(in_features=3072, out_features=768, bias=True)\n",
       "            (LayerNorm): LayerNorm((768,), eps=1e-12, elementwise_affine=True)\n",
       "            (dropout): Dropout(p=0.1, inplace=False)\n",
       "          )\n",
       "        )\n",
       "        (5): BertLayer(\n",
       "          (attention): BertAttention(\n",
       "            (self): BertSelfAttention(\n",
       "              (query): Linear(in_features=768, out_features=768, bias=True)\n",
       "              (key): Linear(in_features=768, out_features=768, bias=True)\n",
       "              (value): Linear(in_features=768, out_features=768, bias=True)\n",
       "              (dropout): Dropout(p=0.1, inplace=False)\n",
       "            )\n",
       "            (output): BertSelfOutput(\n",
       "              (dense): Linear(in_features=768, out_features=768, bias=True)\n",
       "              (LayerNorm): LayerNorm((768,), eps=1e-12, elementwise_affine=True)\n",
       "              (dropout): Dropout(p=0.1, inplace=False)\n",
       "            )\n",
       "          )\n",
       "          (intermediate): BertIntermediate(\n",
       "            (dense): Linear(in_features=768, out_features=3072, bias=True)\n",
       "          )\n",
       "          (output): BertOutput(\n",
       "            (dense): Linear(in_features=3072, out_features=768, bias=True)\n",
       "            (LayerNorm): LayerNorm((768,), eps=1e-12, elementwise_affine=True)\n",
       "            (dropout): Dropout(p=0.1, inplace=False)\n",
       "          )\n",
       "        )\n",
       "        (6): BertLayer(\n",
       "          (attention): BertAttention(\n",
       "            (self): BertSelfAttention(\n",
       "              (query): Linear(in_features=768, out_features=768, bias=True)\n",
       "              (key): Linear(in_features=768, out_features=768, bias=True)\n",
       "              (value): Linear(in_features=768, out_features=768, bias=True)\n",
       "              (dropout): Dropout(p=0.1, inplace=False)\n",
       "            )\n",
       "            (output): BertSelfOutput(\n",
       "              (dense): Linear(in_features=768, out_features=768, bias=True)\n",
       "              (LayerNorm): LayerNorm((768,), eps=1e-12, elementwise_affine=True)\n",
       "              (dropout): Dropout(p=0.1, inplace=False)\n",
       "            )\n",
       "          )\n",
       "          (intermediate): BertIntermediate(\n",
       "            (dense): Linear(in_features=768, out_features=3072, bias=True)\n",
       "          )\n",
       "          (output): BertOutput(\n",
       "            (dense): Linear(in_features=3072, out_features=768, bias=True)\n",
       "            (LayerNorm): LayerNorm((768,), eps=1e-12, elementwise_affine=True)\n",
       "            (dropout): Dropout(p=0.1, inplace=False)\n",
       "          )\n",
       "        )\n",
       "        (7): BertLayer(\n",
       "          (attention): BertAttention(\n",
       "            (self): BertSelfAttention(\n",
       "              (query): Linear(in_features=768, out_features=768, bias=True)\n",
       "              (key): Linear(in_features=768, out_features=768, bias=True)\n",
       "              (value): Linear(in_features=768, out_features=768, bias=True)\n",
       "              (dropout): Dropout(p=0.1, inplace=False)\n",
       "            )\n",
       "            (output): BertSelfOutput(\n",
       "              (dense): Linear(in_features=768, out_features=768, bias=True)\n",
       "              (LayerNorm): LayerNorm((768,), eps=1e-12, elementwise_affine=True)\n",
       "              (dropout): Dropout(p=0.1, inplace=False)\n",
       "            )\n",
       "          )\n",
       "          (intermediate): BertIntermediate(\n",
       "            (dense): Linear(in_features=768, out_features=3072, bias=True)\n",
       "          )\n",
       "          (output): BertOutput(\n",
       "            (dense): Linear(in_features=3072, out_features=768, bias=True)\n",
       "            (LayerNorm): LayerNorm((768,), eps=1e-12, elementwise_affine=True)\n",
       "            (dropout): Dropout(p=0.1, inplace=False)\n",
       "          )\n",
       "        )\n",
       "        (8): BertLayer(\n",
       "          (attention): BertAttention(\n",
       "            (self): BertSelfAttention(\n",
       "              (query): Linear(in_features=768, out_features=768, bias=True)\n",
       "              (key): Linear(in_features=768, out_features=768, bias=True)\n",
       "              (value): Linear(in_features=768, out_features=768, bias=True)\n",
       "              (dropout): Dropout(p=0.1, inplace=False)\n",
       "            )\n",
       "            (output): BertSelfOutput(\n",
       "              (dense): Linear(in_features=768, out_features=768, bias=True)\n",
       "              (LayerNorm): LayerNorm((768,), eps=1e-12, elementwise_affine=True)\n",
       "              (dropout): Dropout(p=0.1, inplace=False)\n",
       "            )\n",
       "          )\n",
       "          (intermediate): BertIntermediate(\n",
       "            (dense): Linear(in_features=768, out_features=3072, bias=True)\n",
       "          )\n",
       "          (output): BertOutput(\n",
       "            (dense): Linear(in_features=3072, out_features=768, bias=True)\n",
       "            (LayerNorm): LayerNorm((768,), eps=1e-12, elementwise_affine=True)\n",
       "            (dropout): Dropout(p=0.1, inplace=False)\n",
       "          )\n",
       "        )\n",
       "        (9): BertLayer(\n",
       "          (attention): BertAttention(\n",
       "            (self): BertSelfAttention(\n",
       "              (query): Linear(in_features=768, out_features=768, bias=True)\n",
       "              (key): Linear(in_features=768, out_features=768, bias=True)\n",
       "              (value): Linear(in_features=768, out_features=768, bias=True)\n",
       "              (dropout): Dropout(p=0.1, inplace=False)\n",
       "            )\n",
       "            (output): BertSelfOutput(\n",
       "              (dense): Linear(in_features=768, out_features=768, bias=True)\n",
       "              (LayerNorm): LayerNorm((768,), eps=1e-12, elementwise_affine=True)\n",
       "              (dropout): Dropout(p=0.1, inplace=False)\n",
       "            )\n",
       "          )\n",
       "          (intermediate): BertIntermediate(\n",
       "            (dense): Linear(in_features=768, out_features=3072, bias=True)\n",
       "          )\n",
       "          (output): BertOutput(\n",
       "            (dense): Linear(in_features=3072, out_features=768, bias=True)\n",
       "            (LayerNorm): LayerNorm((768,), eps=1e-12, elementwise_affine=True)\n",
       "            (dropout): Dropout(p=0.1, inplace=False)\n",
       "          )\n",
       "        )\n",
       "        (10): BertLayer(\n",
       "          (attention): BertAttention(\n",
       "            (self): BertSelfAttention(\n",
       "              (query): Linear(in_features=768, out_features=768, bias=True)\n",
       "              (key): Linear(in_features=768, out_features=768, bias=True)\n",
       "              (value): Linear(in_features=768, out_features=768, bias=True)\n",
       "              (dropout): Dropout(p=0.1, inplace=False)\n",
       "            )\n",
       "            (output): BertSelfOutput(\n",
       "              (dense): Linear(in_features=768, out_features=768, bias=True)\n",
       "              (LayerNorm): LayerNorm((768,), eps=1e-12, elementwise_affine=True)\n",
       "              (dropout): Dropout(p=0.1, inplace=False)\n",
       "            )\n",
       "          )\n",
       "          (intermediate): BertIntermediate(\n",
       "            (dense): Linear(in_features=768, out_features=3072, bias=True)\n",
       "          )\n",
       "          (output): BertOutput(\n",
       "            (dense): Linear(in_features=3072, out_features=768, bias=True)\n",
       "            (LayerNorm): LayerNorm((768,), eps=1e-12, elementwise_affine=True)\n",
       "            (dropout): Dropout(p=0.1, inplace=False)\n",
       "          )\n",
       "        )\n",
       "        (11): BertLayer(\n",
       "          (attention): BertAttention(\n",
       "            (self): BertSelfAttention(\n",
       "              (query): Linear(in_features=768, out_features=768, bias=True)\n",
       "              (key): Linear(in_features=768, out_features=768, bias=True)\n",
       "              (value): Linear(in_features=768, out_features=768, bias=True)\n",
       "              (dropout): Dropout(p=0.1, inplace=False)\n",
       "            )\n",
       "            (output): BertSelfOutput(\n",
       "              (dense): Linear(in_features=768, out_features=768, bias=True)\n",
       "              (LayerNorm): LayerNorm((768,), eps=1e-12, elementwise_affine=True)\n",
       "              (dropout): Dropout(p=0.1, inplace=False)\n",
       "            )\n",
       "          )\n",
       "          (intermediate): BertIntermediate(\n",
       "            (dense): Linear(in_features=768, out_features=3072, bias=True)\n",
       "          )\n",
       "          (output): BertOutput(\n",
       "            (dense): Linear(in_features=3072, out_features=768, bias=True)\n",
       "            (LayerNorm): LayerNorm((768,), eps=1e-12, elementwise_affine=True)\n",
       "            (dropout): Dropout(p=0.1, inplace=False)\n",
       "          )\n",
       "        )\n",
       "      )\n",
       "    )\n",
       "    (pooler): BertPooler(\n",
       "      (dense): Linear(in_features=768, out_features=768, bias=True)\n",
       "      (activation): Tanh()\n",
       "    )\n",
       "  )\n",
       "  (dropout): Dropout(p=0.1, inplace=False)\n",
       "  (classifier): Linear(in_features=768, out_features=5, bias=True)\n",
       ")>"
      ]
     },
     "execution_count": 31,
     "metadata": {},
     "output_type": "execute_result"
    }
   ],
   "source": [
    "learner.model.modules"
   ]
  },
  {
   "cell_type": "code",
   "execution_count": 33,
   "metadata": {
    "ExecuteTime": {
     "end_time": "2020-01-08T21:56:49.054093Z",
     "start_time": "2020-01-08T21:56:49.025703Z"
    }
   },
   "outputs": [],
   "source": [
    "learner.unfreeze()"
   ]
  },
  {
   "cell_type": "code",
   "execution_count": 34,
   "metadata": {
    "ExecuteTime": {
     "end_time": "2020-01-08T21:57:44.504538Z",
     "start_time": "2020-01-08T21:57:00.715836Z"
    }
   },
   "outputs": [
    {
     "data": {
      "text/html": [],
      "text/plain": [
       "<IPython.core.display.HTML object>"
      ]
     },
     "metadata": {},
     "output_type": "display_data"
    },
    {
     "name": "stdout",
     "output_type": "stream",
     "text": [
      "LR Finder is complete, type {learner_name}.recorder.plot() to see the graph.\n"
     ]
    }
   ],
   "source": [
    "learner.lr_find()"
   ]
  },
  {
   "cell_type": "code",
   "execution_count": 35,
   "metadata": {
    "ExecuteTime": {
     "end_time": "2020-01-08T21:59:52.377580Z",
     "start_time": "2020-01-08T21:59:51.978377Z"
    }
   },
   "outputs": [
    {
     "data": {
      "image/png": "[encoded data removed]",
      "text/plain": [
       "<Figure size 432x288 with 1 Axes>"
      ]
     },
     "metadata": {
      "needs_background": "light"
     },
     "output_type": "display_data"
    }
   ],
   "source": [
    "learner.recorder.plot()"
   ]
  },
  {
   "cell_type": "code",
   "execution_count": 37,
   "metadata": {
    "ExecuteTime": {
     "end_time": "2020-01-08T22:16:51.264643Z",
     "start_time": "2020-01-08T22:09:41.173542Z"
    }
   },
   "outputs": [
    {
     "data": {
      "text/html": [
       "<table border=\"1\" class=\"dataframe\">\n",
       "  <thead>\n",
       "    <tr style=\"text-align: left;\">\n",
       "      <th>epoch</th>\n",
       "      <th>train_loss</th>\n",
       "      <th>valid_loss</th>\n",
       "      <th>accuracy</th>\n",
       "      <th>time</th>\n",
       "    </tr>\n",
       "  </thead>\n",
       "  <tbody>\n",
       "    <tr>\n",
       "      <td>0</td>\n",
       "      <td>0.205402</td>\n",
       "      <td>1.644708</td>\n",
       "      <td>0.542000</td>\n",
       "      <td>01:55</td>\n",
       "    </tr>\n",
       "    <tr>\n",
       "      <td>1</td>\n",
       "      <td>0.181758</td>\n",
       "      <td>1.650108</td>\n",
       "      <td>0.540400</td>\n",
       "      <td>01:40</td>\n",
       "    </tr>\n",
       "    <tr>\n",
       "      <td>2</td>\n",
       "      <td>0.168915</td>\n",
       "      <td>1.652564</td>\n",
       "      <td>0.539200</td>\n",
       "      <td>01:39</td>\n",
       "    </tr>\n",
       "    <tr>\n",
       "      <td>3</td>\n",
       "      <td>0.187932</td>\n",
       "      <td>1.652317</td>\n",
       "      <td>0.540000</td>\n",
       "      <td>01:55</td>\n",
       "    </tr>\n",
       "  </tbody>\n",
       "</table>"
      ],
      "text/plain": [
       "<IPython.core.display.HTML object>"
      ]
     },
     "metadata": {},
     "output_type": "display_data"
    }
   ],
   "source": [
    "learner.fit_one_cycle(4, 1e-07)"
   ]
  },
  {
   "cell_type": "code",
   "execution_count": 38,
   "metadata": {
    "ExecuteTime": {
     "end_time": "2020-01-08T22:18:45.253655Z",
     "start_time": "2020-01-08T22:18:37.906641Z"
    }
   },
   "outputs": [
    {
     "data": {
      "text/html": [],
      "text/plain": [
       "<IPython.core.display.HTML object>"
      ]
     },
     "metadata": {},
     "output_type": "display_data"
    }
   ],
   "source": [
    "accus = []\n",
    "_, accu = learner.validate()\n",
    "accus.append(accu)"
   ]
  },
  {
   "cell_type": "code",
   "execution_count": 39,
   "metadata": {
    "ExecuteTime": {
     "end_time": "2020-01-08T22:18:46.167501Z",
     "start_time": "2020-01-08T22:18:46.140470Z"
    }
   },
   "outputs": [
    {
     "data": {
      "text/plain": [
       "[tensor(0.5400)]"
      ]
     },
     "execution_count": 39,
     "metadata": {},
     "output_type": "execute_result"
    }
   ],
   "source": [
    "accus"
   ]
  },
  {
   "cell_type": "code",
   "execution_count": 41,
   "metadata": {
    "ExecuteTime": {
     "end_time": "2020-01-08T23:01:44.850276Z",
     "start_time": "2020-01-08T22:20:02.926426Z"
    }
   },
   "outputs": [
    {
     "data": {
      "text/html": [],
      "text/plain": [
       "<IPython.core.display.HTML object>"
      ]
     },
     "metadata": {},
     "output_type": "display_data"
    },
    {
     "data": {
      "text/html": [],
      "text/plain": [
       "<IPython.core.display.HTML object>"
      ]
     },
     "metadata": {},
     "output_type": "display_data"
    },
    {
     "data": {
      "text/html": [
       "<table border=\"1\" class=\"dataframe\">\n",
       "  <thead>\n",
       "    <tr style=\"text-align: left;\">\n",
       "      <th>epoch</th>\n",
       "      <th>train_loss</th>\n",
       "      <th>valid_loss</th>\n",
       "      <th>accuracy</th>\n",
       "      <th>time</th>\n",
       "    </tr>\n",
       "  </thead>\n",
       "  <tbody>\n",
       "    <tr>\n",
       "      <td>0</td>\n",
       "      <td>1.318032</td>\n",
       "      <td>1.134286</td>\n",
       "      <td>0.505920</td>\n",
       "      <td>01:39</td>\n",
       "    </tr>\n",
       "    <tr>\n",
       "      <td>1</td>\n",
       "      <td>1.105683</td>\n",
       "      <td>1.098517</td>\n",
       "      <td>0.520000</td>\n",
       "      <td>01:46</td>\n",
       "    </tr>\n",
       "    <tr>\n",
       "      <td>2</td>\n",
       "      <td>0.876364</td>\n",
       "      <td>1.148601</td>\n",
       "      <td>0.526080</td>\n",
       "      <td>01:41</td>\n",
       "    </tr>\n",
       "    <tr>\n",
       "      <td>3</td>\n",
       "      <td>0.582358</td>\n",
       "      <td>1.305987</td>\n",
       "      <td>0.521920</td>\n",
       "      <td>01:35</td>\n",
       "    </tr>\n",
       "    <tr>\n",
       "      <td>4</td>\n",
       "      <td>0.292922</td>\n",
       "      <td>1.667748</td>\n",
       "      <td>0.523840</td>\n",
       "      <td>01:35</td>\n",
       "    </tr>\n",
       "    <tr>\n",
       "      <td>5</td>\n",
       "      <td>0.158017</td>\n",
       "      <td>1.764473</td>\n",
       "      <td>0.534080</td>\n",
       "      <td>01:46</td>\n",
       "    </tr>\n",
       "  </tbody>\n",
       "</table>"
      ],
      "text/plain": [
       "<IPython.core.display.HTML object>"
      ]
     },
     "metadata": {},
     "output_type": "display_data"
    },
    {
     "data": {
      "text/html": [],
      "text/plain": [
       "<IPython.core.display.HTML object>"
      ]
     },
     "metadata": {},
     "output_type": "display_data"
    },
    {
     "data": {
      "text/html": [],
      "text/plain": [
       "<IPython.core.display.HTML object>"
      ]
     },
     "metadata": {},
     "output_type": "display_data"
    },
    {
     "data": {
      "text/html": [],
      "text/plain": [
       "<IPython.core.display.HTML object>"
      ]
     },
     "metadata": {},
     "output_type": "display_data"
    },
    {
     "data": {
      "text/html": [
       "<table border=\"1\" class=\"dataframe\">\n",
       "  <thead>\n",
       "    <tr style=\"text-align: left;\">\n",
       "      <th>epoch</th>\n",
       "      <th>train_loss</th>\n",
       "      <th>valid_loss</th>\n",
       "      <th>accuracy</th>\n",
       "      <th>time</th>\n",
       "    </tr>\n",
       "  </thead>\n",
       "  <tbody>\n",
       "    <tr>\n",
       "      <td>0</td>\n",
       "      <td>1.348477</td>\n",
       "      <td>1.152064</td>\n",
       "      <td>0.505280</td>\n",
       "      <td>01:44</td>\n",
       "    </tr>\n",
       "    <tr>\n",
       "      <td>1</td>\n",
       "      <td>1.097309</td>\n",
       "      <td>1.158527</td>\n",
       "      <td>0.504960</td>\n",
       "      <td>01:34</td>\n",
       "    </tr>\n",
       "    <tr>\n",
       "      <td>2</td>\n",
       "      <td>0.892958</td>\n",
       "      <td>1.191023</td>\n",
       "      <td>0.499520</td>\n",
       "      <td>01:35</td>\n",
       "    </tr>\n",
       "    <tr>\n",
       "      <td>3</td>\n",
       "      <td>0.630334</td>\n",
       "      <td>1.275178</td>\n",
       "      <td>0.529280</td>\n",
       "      <td>01:49</td>\n",
       "    </tr>\n",
       "    <tr>\n",
       "      <td>4</td>\n",
       "      <td>0.337079</td>\n",
       "      <td>1.580369</td>\n",
       "      <td>0.542080</td>\n",
       "      <td>01:34</td>\n",
       "    </tr>\n",
       "    <tr>\n",
       "      <td>5</td>\n",
       "      <td>0.173765</td>\n",
       "      <td>1.700767</td>\n",
       "      <td>0.539200</td>\n",
       "      <td>01:34</td>\n",
       "    </tr>\n",
       "  </tbody>\n",
       "</table>"
      ],
      "text/plain": [
       "<IPython.core.display.HTML object>"
      ]
     },
     "metadata": {},
     "output_type": "display_data"
    },
    {
     "data": {
      "text/html": [],
      "text/plain": [
       "<IPython.core.display.HTML object>"
      ]
     },
     "metadata": {},
     "output_type": "display_data"
    },
    {
     "data": {
      "text/html": [],
      "text/plain": [
       "<IPython.core.display.HTML object>"
      ]
     },
     "metadata": {},
     "output_type": "display_data"
    },
    {
     "data": {
      "text/html": [],
      "text/plain": [
       "<IPython.core.display.HTML object>"
      ]
     },
     "metadata": {},
     "output_type": "display_data"
    },
    {
     "data": {
      "text/html": [
       "<table border=\"1\" class=\"dataframe\">\n",
       "  <thead>\n",
       "    <tr style=\"text-align: left;\">\n",
       "      <th>epoch</th>\n",
       "      <th>train_loss</th>\n",
       "      <th>valid_loss</th>\n",
       "      <th>accuracy</th>\n",
       "      <th>time</th>\n",
       "    </tr>\n",
       "  </thead>\n",
       "  <tbody>\n",
       "    <tr>\n",
       "      <td>0</td>\n",
       "      <td>1.287190</td>\n",
       "      <td>1.184066</td>\n",
       "      <td>0.491840</td>\n",
       "      <td>01:45</td>\n",
       "    </tr>\n",
       "    <tr>\n",
       "      <td>1</td>\n",
       "      <td>1.106318</td>\n",
       "      <td>1.182073</td>\n",
       "      <td>0.487680</td>\n",
       "      <td>01:47</td>\n",
       "    </tr>\n",
       "    <tr>\n",
       "      <td>2</td>\n",
       "      <td>0.897025</td>\n",
       "      <td>1.145717</td>\n",
       "      <td>0.520000</td>\n",
       "      <td>01:48</td>\n",
       "    </tr>\n",
       "    <tr>\n",
       "      <td>3</td>\n",
       "      <td>0.613639</td>\n",
       "      <td>1.357560</td>\n",
       "      <td>0.520320</td>\n",
       "      <td>01:37</td>\n",
       "    </tr>\n",
       "    <tr>\n",
       "      <td>4</td>\n",
       "      <td>0.341400</td>\n",
       "      <td>1.560428</td>\n",
       "      <td>0.529600</td>\n",
       "      <td>01:41</td>\n",
       "    </tr>\n",
       "    <tr>\n",
       "      <td>5</td>\n",
       "      <td>0.179715</td>\n",
       "      <td>1.714976</td>\n",
       "      <td>0.521920</td>\n",
       "      <td>01:38</td>\n",
       "    </tr>\n",
       "  </tbody>\n",
       "</table>"
      ],
      "text/plain": [
       "<IPython.core.display.HTML object>"
      ]
     },
     "metadata": {},
     "output_type": "display_data"
    },
    {
     "data": {
      "text/html": [],
      "text/plain": [
       "<IPython.core.display.HTML object>"
      ]
     },
     "metadata": {},
     "output_type": "display_data"
    },
    {
     "data": {
      "text/html": [],
      "text/plain": [
       "<IPython.core.display.HTML object>"
      ]
     },
     "metadata": {},
     "output_type": "display_data"
    },
    {
     "data": {
      "text/html": [],
      "text/plain": [
       "<IPython.core.display.HTML object>"
      ]
     },
     "metadata": {},
     "output_type": "display_data"
    },
    {
     "data": {
      "text/html": [
       "<table border=\"1\" class=\"dataframe\">\n",
       "  <thead>\n",
       "    <tr style=\"text-align: left;\">\n",
       "      <th>epoch</th>\n",
       "      <th>train_loss</th>\n",
       "      <th>valid_loss</th>\n",
       "      <th>accuracy</th>\n",
       "      <th>time</th>\n",
       "    </tr>\n",
       "  </thead>\n",
       "  <tbody>\n",
       "    <tr>\n",
       "      <td>0</td>\n",
       "      <td>1.289394</td>\n",
       "      <td>1.176555</td>\n",
       "      <td>0.506240</td>\n",
       "      <td>01:40</td>\n",
       "    </tr>\n",
       "    <tr>\n",
       "      <td>1</td>\n",
       "      <td>1.085968</td>\n",
       "      <td>1.068228</td>\n",
       "      <td>0.540160</td>\n",
       "      <td>01:43</td>\n",
       "    </tr>\n",
       "    <tr>\n",
       "      <td>2</td>\n",
       "      <td>0.875283</td>\n",
       "      <td>1.119443</td>\n",
       "      <td>0.541120</td>\n",
       "      <td>01:35</td>\n",
       "    </tr>\n",
       "    <tr>\n",
       "      <td>3</td>\n",
       "      <td>0.568936</td>\n",
       "      <td>1.371471</td>\n",
       "      <td>0.518080</td>\n",
       "      <td>01:42</td>\n",
       "    </tr>\n",
       "    <tr>\n",
       "      <td>4</td>\n",
       "      <td>0.274139</td>\n",
       "      <td>1.717358</td>\n",
       "      <td>0.528960</td>\n",
       "      <td>01:37</td>\n",
       "    </tr>\n",
       "    <tr>\n",
       "      <td>5</td>\n",
       "      <td>0.153675</td>\n",
       "      <td>1.818474</td>\n",
       "      <td>0.529600</td>\n",
       "      <td>01:49</td>\n",
       "    </tr>\n",
       "  </tbody>\n",
       "</table>"
      ],
      "text/plain": [
       "<IPython.core.display.HTML object>"
      ]
     },
     "metadata": {},
     "output_type": "display_data"
    },
    {
     "data": {
      "text/html": [],
      "text/plain": [
       "<IPython.core.display.HTML object>"
      ]
     },
     "metadata": {},
     "output_type": "display_data"
    }
   ],
   "source": [
    "label_cols = ['class']\n",
    "#accus = []\n",
    "\n",
    "# use StratifiedKFold to CV 5 folds \n",
    "for train_idx, val_idx in StratifiedKFold(n_splits=4,  shuffle=True).split(df, df['class']):\n",
    "    train = df.iloc[train_idx, :]\n",
    "    val = df.iloc[val_idx, :]\n",
    "    bert_model = BertForSequenceClassification.from_pretrained(config.bert_model_name, num_labels= 5 )\n",
    "    \n",
    "    databunch = TextDataBunch.from_df(AMAZON, train, val,\n",
    "                      tokenizer=fastai_tokenizer,\n",
    "                      vocab=fastai_bert_vocab,\n",
    "                      include_bos=False,\n",
    "                      include_eos=False,\n",
    "                      text_cols= \"review\",\n",
    "                      label_cols=label_cols,\n",
    "                      bs= 64,\n",
    "                      collate_fn=partial(pad_collate, pad_first=False, pad_idx=0),\n",
    "                 )\n",
    "    \n",
    "    learner = Learner(\n",
    "    databunch, bert_model,\n",
    "    loss_func=loss_func, metrics = accuracy)\n",
    "    learner.fit_one_cycle(6, 1e-04)\n",
    "    _, accu = learner.validate()\n",
    "    accus.append(accu)"
   ]
  },
  {
   "cell_type": "code",
   "execution_count": 49,
   "metadata": {
    "ExecuteTime": {
     "end_time": "2020-01-08T23:08:04.627961Z",
     "start_time": "2020-01-08T23:08:04.596645Z"
    }
   },
   "outputs": [],
   "source": [
    "accus = [i.item() for i in accus]\n",
    "bert_amazon_accu_5 = pd.DataFrame({\n",
    "    'model_name' :['Bert'] * 5,\n",
    "    'accuracy' : accus\n",
    "})\n",
    "\n",
    "bert_amazon_accu_5.to_csv(AMAZON/'bert_amazon_accu_5.csv', index = False)\n",
    "bert_amazon_accu_5 = pd.read_csv(AMAZON/'bert_amazon_accu_5.csv')"
   ]
  },
  {
   "cell_type": "code",
   "execution_count": 50,
   "metadata": {
    "ExecuteTime": {
     "end_time": "2020-01-08T23:08:10.352046Z",
     "start_time": "2020-01-08T23:08:10.321958Z"
    }
   },
   "outputs": [
    {
     "data": {
      "text/html": [
       "<div>\n",
       "<style scoped>\n",
       "    .dataframe tbody tr th:only-of-type {\n",
       "        vertical-align: middle;\n",
       "    }\n",
       "\n",
       "    .dataframe tbody tr th {\n",
       "        vertical-align: top;\n",
       "    }\n",
       "\n",
       "    .dataframe thead th {\n",
       "        text-align: right;\n",
       "    }\n",
       "</style>\n",
       "<table border=\"1\" class=\"dataframe\">\n",
       "  <thead>\n",
       "    <tr style=\"text-align: right;\">\n",
       "      <th></th>\n",
       "      <th>model_name</th>\n",
       "      <th>accuracy</th>\n",
       "    </tr>\n",
       "  </thead>\n",
       "  <tbody>\n",
       "    <tr>\n",
       "      <th>0</th>\n",
       "      <td>Bert</td>\n",
       "      <td>0.55000</td>\n",
       "    </tr>\n",
       "    <tr>\n",
       "      <th>1</th>\n",
       "      <td>Bert</td>\n",
       "      <td>0.54408</td>\n",
       "    </tr>\n",
       "    <tr>\n",
       "      <th>2</th>\n",
       "      <td>Bert</td>\n",
       "      <td>0.54920</td>\n",
       "    </tr>\n",
       "    <tr>\n",
       "      <th>3</th>\n",
       "      <td>Bert</td>\n",
       "      <td>0.53192</td>\n",
       "    </tr>\n",
       "    <tr>\n",
       "      <th>4</th>\n",
       "      <td>Bert</td>\n",
       "      <td>0.53960</td>\n",
       "    </tr>\n",
       "  </tbody>\n",
       "</table>\n",
       "</div>"
      ],
      "text/plain": [
       "  model_name  accuracy\n",
       "0       Bert   0.55000\n",
       "1       Bert   0.54408\n",
       "2       Bert   0.54920\n",
       "3       Bert   0.53192\n",
       "4       Bert   0.53960"
      ]
     },
     "execution_count": 50,
     "metadata": {},
     "output_type": "execute_result"
    }
   ],
   "source": []
  },
  {
   "cell_type": "markdown",
   "metadata": {},
   "source": [
    "#### Customer complaints"
   ]
  },
  {
   "cell_type": "code",
   "execution_count": 12,
   "metadata": {
    "ExecuteTime": {
     "end_time": "2020-01-09T00:24:11.967841Z",
     "start_time": "2020-01-09T00:24:11.936820Z"
    }
   },
   "outputs": [
    {
     "data": {
      "text/html": [
       "<div>\n",
       "<style scoped>\n",
       "    .dataframe tbody tr th:only-of-type {\n",
       "        vertical-align: middle;\n",
       "    }\n",
       "\n",
       "    .dataframe tbody tr th {\n",
       "        vertical-align: top;\n",
       "    }\n",
       "\n",
       "    .dataframe thead th {\n",
       "        text-align: right;\n",
       "    }\n",
       "</style>\n",
       "<table border=\"1\" class=\"dataframe\">\n",
       "  <thead>\n",
       "    <tr style=\"text-align: right;\">\n",
       "      <th></th>\n",
       "      <th>product</th>\n",
       "      <th>complaint</th>\n",
       "    </tr>\n",
       "  </thead>\n",
       "  <tbody>\n",
       "    <tr>\n",
       "      <th>0</th>\n",
       "      <td>Debt collection</td>\n",
       "      <td>For over a month, I have been getting calls fr...</td>\n",
       "    </tr>\n",
       "    <tr>\n",
       "      <th>1</th>\n",
       "      <td>Credit reporting, credit repair services, or o...</td>\n",
       "      <td>XX/XX/XXXX, a series on letters to XXXX XXXX X...</td>\n",
       "    </tr>\n",
       "  </tbody>\n",
       "</table>\n",
       "</div>"
      ],
      "text/plain": [
       "                                             product  \\\n",
       "0                                    Debt collection   \n",
       "1  Credit reporting, credit repair services, or o...   \n",
       "\n",
       "                                           complaint  \n",
       "0  For over a month, I have been getting calls fr...  \n",
       "1  XX/XX/XXXX, a series on letters to XXXX XXXX X...  "
      ]
     },
     "execution_count": 12,
     "metadata": {},
     "output_type": "execute_result"
    }
   ],
   "source": [
    "df = CUSTOMER_TRAIN\n",
    "df.head(2)"
   ]
  },
  {
   "cell_type": "markdown",
   "metadata": {},
   "source": [
    "##### ML models"
   ]
  },
  {
   "cell_type": "code",
   "execution_count": 52,
   "metadata": {
    "ExecuteTime": {
     "end_time": "2020-01-08T09:58:43.468223Z",
     "start_time": "2020-01-08T09:58:31.699584Z"
    }
   },
   "outputs": [
    {
     "data": {
      "text/plain": [
       "(12500, 45397)"
      ]
     },
     "execution_count": 52,
     "metadata": {},
     "output_type": "execute_result"
    }
   ],
   "source": [
    "\n",
    "# Set the global vars for this dataset for diverse algorithums\n",
    "\n",
    "## Need to change the df.col in the tfidf tranform method\n",
    "\n",
    "\n",
    "df['category_id'] = df['product'].factorize()[0]\n",
    "\n",
    "category_id_df = df[['product', 'category_id']\n",
    "                    ].drop_duplicates().sort_values('category_id')\n",
    "category_to_id = dict(category_id_df.values)\n",
    "id_to_category = {v: k for k, v in category_to_id.items()}\n",
    "\n",
    "tfidf = TfidfVectorizer(sublinear_tf=True, norm='l2', min_df=5,\n",
    "                        encoding='latin-1', ngram_range=(1, 3), stop_words='english')\n",
    "\n",
    "features = tfidf.fit_transform(df.complaint).toarray()  # features is the global var for this dataset block\n",
    "\n",
    "labels = df.category_id  # labels also a global var\n",
    "\n",
    "features.shape"
   ]
  },
  {
   "cell_type": "code",
   "execution_count": 77,
   "metadata": {
    "ExecuteTime": {
     "end_time": "2020-01-08T00:44:24.509424Z",
     "start_time": "2020-01-07T23:19:39.025412Z"
    }
   },
   "outputs": [
    {
     "name": "stderr",
     "output_type": "stream",
     "text": [
      "/opt/anaconda3/lib/python3.7/site-packages/sklearn/model_selection/_split.py:667: UserWarning: The least populated class in y has only 2 members, which is less than n_splits=5.\n",
      "  % (min_groups, self.n_splits)), UserWarning)\n"
     ]
    },
    {
     "name": "stdout",
     "output_type": "stream",
     "text": [
      "finished RandomForestClassifier, 0th bootstrap of 0th epochs\n",
      "finished RandomForestClassifier, 0th bootstrap of 1th epochs\n",
      "finished RandomForestClassifier, 0th bootstrap of 2th epochs\n",
      "finished RandomForestClassifier, 0th bootstrap of 3th epochs\n",
      "finished RandomForestClassifier, 0th bootstrap of 4th epochs\n"
     ]
    },
    {
     "name": "stderr",
     "output_type": "stream",
     "text": [
      "/opt/anaconda3/lib/python3.7/site-packages/sklearn/model_selection/_split.py:667: UserWarning: The least populated class in y has only 2 members, which is less than n_splits=5.\n",
      "  % (min_groups, self.n_splits)), UserWarning)\n"
     ]
    },
    {
     "name": "stdout",
     "output_type": "stream",
     "text": [
      "finished LinearSVC, 0th bootstrap of 0th epochs\n",
      "finished LinearSVC, 0th bootstrap of 1th epochs\n",
      "finished LinearSVC, 0th bootstrap of 2th epochs\n",
      "finished LinearSVC, 0th bootstrap of 3th epochs\n",
      "finished LinearSVC, 0th bootstrap of 4th epochs\n"
     ]
    },
    {
     "name": "stderr",
     "output_type": "stream",
     "text": [
      "/opt/anaconda3/lib/python3.7/site-packages/sklearn/model_selection/_split.py:667: UserWarning: The least populated class in y has only 2 members, which is less than n_splits=5.\n",
      "  % (min_groups, self.n_splits)), UserWarning)\n"
     ]
    },
    {
     "name": "stdout",
     "output_type": "stream",
     "text": [
      "finished MultinomialNB, 0th bootstrap of 0th epochs\n",
      "finished MultinomialNB, 0th bootstrap of 1th epochs\n",
      "finished MultinomialNB, 0th bootstrap of 2th epochs\n",
      "finished MultinomialNB, 0th bootstrap of 3th epochs\n",
      "finished MultinomialNB, 0th bootstrap of 4th epochs\n"
     ]
    },
    {
     "name": "stderr",
     "output_type": "stream",
     "text": [
      "/opt/anaconda3/lib/python3.7/site-packages/sklearn/model_selection/_split.py:667: UserWarning: The least populated class in y has only 2 members, which is less than n_splits=5.\n",
      "  % (min_groups, self.n_splits)), UserWarning)\n"
     ]
    },
    {
     "name": "stdout",
     "output_type": "stream",
     "text": [
      "finished LogisticRegression, 0th bootstrap of 0th epochs\n",
      "finished LogisticRegression, 0th bootstrap of 1th epochs\n",
      "finished LogisticRegression, 0th bootstrap of 2th epochs\n",
      "finished LogisticRegression, 0th bootstrap of 3th epochs\n",
      "finished LogisticRegression, 0th bootstrap of 4th epochs\n"
     ]
    },
    {
     "name": "stderr",
     "output_type": "stream",
     "text": [
      "/opt/anaconda3/lib/python3.7/site-packages/sklearn/model_selection/_split.py:667: UserWarning: The least populated class in y has only 2 members, which is less than n_splits=5.\n",
      "  % (min_groups, self.n_splits)), UserWarning)\n"
     ]
    },
    {
     "name": "stdout",
     "output_type": "stream",
     "text": [
      "finished RandomForestClassifier, 1th bootstrap of 0th epochs\n",
      "finished RandomForestClassifier, 1th bootstrap of 1th epochs\n",
      "finished RandomForestClassifier, 1th bootstrap of 2th epochs\n",
      "finished RandomForestClassifier, 1th bootstrap of 3th epochs\n",
      "finished RandomForestClassifier, 1th bootstrap of 4th epochs\n"
     ]
    },
    {
     "name": "stderr",
     "output_type": "stream",
     "text": [
      "/opt/anaconda3/lib/python3.7/site-packages/sklearn/model_selection/_split.py:667: UserWarning: The least populated class in y has only 2 members, which is less than n_splits=5.\n",
      "  % (min_groups, self.n_splits)), UserWarning)\n"
     ]
    },
    {
     "name": "stdout",
     "output_type": "stream",
     "text": [
      "finished LinearSVC, 1th bootstrap of 0th epochs\n",
      "finished LinearSVC, 1th bootstrap of 1th epochs\n",
      "finished LinearSVC, 1th bootstrap of 2th epochs\n",
      "finished LinearSVC, 1th bootstrap of 3th epochs\n",
      "finished LinearSVC, 1th bootstrap of 4th epochs\n"
     ]
    },
    {
     "name": "stderr",
     "output_type": "stream",
     "text": [
      "/opt/anaconda3/lib/python3.7/site-packages/sklearn/model_selection/_split.py:667: UserWarning: The least populated class in y has only 2 members, which is less than n_splits=5.\n",
      "  % (min_groups, self.n_splits)), UserWarning)\n"
     ]
    },
    {
     "name": "stdout",
     "output_type": "stream",
     "text": [
      "finished MultinomialNB, 1th bootstrap of 0th epochs\n",
      "finished MultinomialNB, 1th bootstrap of 1th epochs\n",
      "finished MultinomialNB, 1th bootstrap of 2th epochs\n",
      "finished MultinomialNB, 1th bootstrap of 3th epochs\n",
      "finished MultinomialNB, 1th bootstrap of 4th epochs\n"
     ]
    },
    {
     "name": "stderr",
     "output_type": "stream",
     "text": [
      "/opt/anaconda3/lib/python3.7/site-packages/sklearn/model_selection/_split.py:667: UserWarning: The least populated class in y has only 2 members, which is less than n_splits=5.\n",
      "  % (min_groups, self.n_splits)), UserWarning)\n"
     ]
    },
    {
     "name": "stdout",
     "output_type": "stream",
     "text": [
      "finished LogisticRegression, 1th bootstrap of 0th epochs\n",
      "finished LogisticRegression, 1th bootstrap of 1th epochs\n",
      "finished LogisticRegression, 1th bootstrap of 2th epochs\n",
      "finished LogisticRegression, 1th bootstrap of 3th epochs\n",
      "finished LogisticRegression, 1th bootstrap of 4th epochs\n"
     ]
    }
   ],
   "source": [
    "models = [RandomForestClassifier(n_estimators=200, max_depth=3, random_state=0),\n",
    "          LinearSVC(),\n",
    "          MultinomialNB(),\n",
    "          LogisticRegression(random_state=0, max_iter= 200)]\n",
    "\n",
    "boot_num = 2\n",
    "CV = 5\n",
    "cv_df = pd.DataFrame(index=range(CV * len(models)))\n",
    "entries = []\n",
    "\n",
    "for i in range(boot_num):\n",
    "    for model in models:\n",
    "        model_name = model.__class__.__name__\n",
    "        accuracies = cross_val_score(model, features, labels, scoring='accuracy', cv=CV)\n",
    "        for _, accuracy in enumerate(accuracies):\n",
    "            print(f'finished {model_name}, {i}th bootstrap of {_}th epochs')\n",
    "            entries.append((model_name, accuracy))\n",
    "\n",
    "        \n",
    "cv_df = pd.DataFrame(entries, columns=['model_name', 'accuracy'])"
   ]
  },
  {
   "cell_type": "code",
   "execution_count": 78,
   "metadata": {
    "ExecuteTime": {
     "end_time": "2020-01-08T00:46:39.731858Z",
     "start_time": "2020-01-08T00:46:39.693239Z"
    }
   },
   "outputs": [
    {
     "data": {
      "text/html": [
       "<div>\n",
       "<style scoped>\n",
       "    .dataframe tbody tr th:only-of-type {\n",
       "        vertical-align: middle;\n",
       "    }\n",
       "\n",
       "    .dataframe tbody tr th {\n",
       "        vertical-align: top;\n",
       "    }\n",
       "\n",
       "    .dataframe thead th {\n",
       "        text-align: right;\n",
       "    }\n",
       "</style>\n",
       "<table border=\"1\" class=\"dataframe\">\n",
       "  <thead>\n",
       "    <tr style=\"text-align: right;\">\n",
       "      <th></th>\n",
       "      <th>model_name</th>\n",
       "      <th>accuracy</th>\n",
       "    </tr>\n",
       "  </thead>\n",
       "  <tbody>\n",
       "    <tr>\n",
       "      <th>0</th>\n",
       "      <td>RandomForestClassifier</td>\n",
       "      <td>0.3048</td>\n",
       "    </tr>\n",
       "    <tr>\n",
       "      <th>1</th>\n",
       "      <td>RandomForestClassifier</td>\n",
       "      <td>0.2952</td>\n",
       "    </tr>\n",
       "    <tr>\n",
       "      <th>2</th>\n",
       "      <td>RandomForestClassifier</td>\n",
       "      <td>0.3164</td>\n",
       "    </tr>\n",
       "    <tr>\n",
       "      <th>3</th>\n",
       "      <td>RandomForestClassifier</td>\n",
       "      <td>0.3140</td>\n",
       "    </tr>\n",
       "    <tr>\n",
       "      <th>4</th>\n",
       "      <td>RandomForestClassifier</td>\n",
       "      <td>0.3040</td>\n",
       "    </tr>\n",
       "    <tr>\n",
       "      <th>5</th>\n",
       "      <td>LinearSVC</td>\n",
       "      <td>0.7144</td>\n",
       "    </tr>\n",
       "    <tr>\n",
       "      <th>6</th>\n",
       "      <td>LinearSVC</td>\n",
       "      <td>0.7104</td>\n",
       "    </tr>\n",
       "    <tr>\n",
       "      <th>7</th>\n",
       "      <td>LinearSVC</td>\n",
       "      <td>0.7088</td>\n",
       "    </tr>\n",
       "    <tr>\n",
       "      <th>8</th>\n",
       "      <td>LinearSVC</td>\n",
       "      <td>0.7004</td>\n",
       "    </tr>\n",
       "    <tr>\n",
       "      <th>9</th>\n",
       "      <td>LinearSVC</td>\n",
       "      <td>0.7188</td>\n",
       "    </tr>\n",
       "    <tr>\n",
       "      <th>10</th>\n",
       "      <td>MultinomialNB</td>\n",
       "      <td>0.5744</td>\n",
       "    </tr>\n",
       "    <tr>\n",
       "      <th>11</th>\n",
       "      <td>MultinomialNB</td>\n",
       "      <td>0.5756</td>\n",
       "    </tr>\n",
       "    <tr>\n",
       "      <th>12</th>\n",
       "      <td>MultinomialNB</td>\n",
       "      <td>0.5656</td>\n",
       "    </tr>\n",
       "    <tr>\n",
       "      <th>13</th>\n",
       "      <td>MultinomialNB</td>\n",
       "      <td>0.5720</td>\n",
       "    </tr>\n",
       "    <tr>\n",
       "      <th>14</th>\n",
       "      <td>MultinomialNB</td>\n",
       "      <td>0.5728</td>\n",
       "    </tr>\n",
       "    <tr>\n",
       "      <th>15</th>\n",
       "      <td>LogisticRegression</td>\n",
       "      <td>0.7020</td>\n",
       "    </tr>\n",
       "    <tr>\n",
       "      <th>16</th>\n",
       "      <td>LogisticRegression</td>\n",
       "      <td>0.7032</td>\n",
       "    </tr>\n",
       "    <tr>\n",
       "      <th>17</th>\n",
       "      <td>LogisticRegression</td>\n",
       "      <td>0.6916</td>\n",
       "    </tr>\n",
       "    <tr>\n",
       "      <th>18</th>\n",
       "      <td>LogisticRegression</td>\n",
       "      <td>0.6964</td>\n",
       "    </tr>\n",
       "    <tr>\n",
       "      <th>19</th>\n",
       "      <td>LogisticRegression</td>\n",
       "      <td>0.7048</td>\n",
       "    </tr>\n",
       "    <tr>\n",
       "      <th>20</th>\n",
       "      <td>RandomForestClassifier</td>\n",
       "      <td>0.3048</td>\n",
       "    </tr>\n",
       "    <tr>\n",
       "      <th>21</th>\n",
       "      <td>RandomForestClassifier</td>\n",
       "      <td>0.2952</td>\n",
       "    </tr>\n",
       "    <tr>\n",
       "      <th>22</th>\n",
       "      <td>RandomForestClassifier</td>\n",
       "      <td>0.3164</td>\n",
       "    </tr>\n",
       "    <tr>\n",
       "      <th>23</th>\n",
       "      <td>RandomForestClassifier</td>\n",
       "      <td>0.3140</td>\n",
       "    </tr>\n",
       "    <tr>\n",
       "      <th>24</th>\n",
       "      <td>RandomForestClassifier</td>\n",
       "      <td>0.3040</td>\n",
       "    </tr>\n",
       "    <tr>\n",
       "      <th>25</th>\n",
       "      <td>LinearSVC</td>\n",
       "      <td>0.7144</td>\n",
       "    </tr>\n",
       "    <tr>\n",
       "      <th>26</th>\n",
       "      <td>LinearSVC</td>\n",
       "      <td>0.7104</td>\n",
       "    </tr>\n",
       "    <tr>\n",
       "      <th>27</th>\n",
       "      <td>LinearSVC</td>\n",
       "      <td>0.7088</td>\n",
       "    </tr>\n",
       "    <tr>\n",
       "      <th>28</th>\n",
       "      <td>LinearSVC</td>\n",
       "      <td>0.7004</td>\n",
       "    </tr>\n",
       "    <tr>\n",
       "      <th>29</th>\n",
       "      <td>LinearSVC</td>\n",
       "      <td>0.7188</td>\n",
       "    </tr>\n",
       "    <tr>\n",
       "      <th>30</th>\n",
       "      <td>MultinomialNB</td>\n",
       "      <td>0.5744</td>\n",
       "    </tr>\n",
       "    <tr>\n",
       "      <th>31</th>\n",
       "      <td>MultinomialNB</td>\n",
       "      <td>0.5756</td>\n",
       "    </tr>\n",
       "    <tr>\n",
       "      <th>32</th>\n",
       "      <td>MultinomialNB</td>\n",
       "      <td>0.5656</td>\n",
       "    </tr>\n",
       "    <tr>\n",
       "      <th>33</th>\n",
       "      <td>MultinomialNB</td>\n",
       "      <td>0.5720</td>\n",
       "    </tr>\n",
       "    <tr>\n",
       "      <th>34</th>\n",
       "      <td>MultinomialNB</td>\n",
       "      <td>0.5728</td>\n",
       "    </tr>\n",
       "    <tr>\n",
       "      <th>35</th>\n",
       "      <td>LogisticRegression</td>\n",
       "      <td>0.7020</td>\n",
       "    </tr>\n",
       "    <tr>\n",
       "      <th>36</th>\n",
       "      <td>LogisticRegression</td>\n",
       "      <td>0.7032</td>\n",
       "    </tr>\n",
       "    <tr>\n",
       "      <th>37</th>\n",
       "      <td>LogisticRegression</td>\n",
       "      <td>0.6916</td>\n",
       "    </tr>\n",
       "    <tr>\n",
       "      <th>38</th>\n",
       "      <td>LogisticRegression</td>\n",
       "      <td>0.6964</td>\n",
       "    </tr>\n",
       "    <tr>\n",
       "      <th>39</th>\n",
       "      <td>LogisticRegression</td>\n",
       "      <td>0.7048</td>\n",
       "    </tr>\n",
       "  </tbody>\n",
       "</table>\n",
       "</div>"
      ],
      "text/plain": [
       "                model_name  accuracy\n",
       "0   RandomForestClassifier    0.3048\n",
       "1   RandomForestClassifier    0.2952\n",
       "2   RandomForestClassifier    0.3164\n",
       "3   RandomForestClassifier    0.3140\n",
       "4   RandomForestClassifier    0.3040\n",
       "5                LinearSVC    0.7144\n",
       "6                LinearSVC    0.7104\n",
       "7                LinearSVC    0.7088\n",
       "8                LinearSVC    0.7004\n",
       "9                LinearSVC    0.7188\n",
       "10           MultinomialNB    0.5744\n",
       "11           MultinomialNB    0.5756\n",
       "12           MultinomialNB    0.5656\n",
       "13           MultinomialNB    0.5720\n",
       "14           MultinomialNB    0.5728\n",
       "15      LogisticRegression    0.7020\n",
       "16      LogisticRegression    0.7032\n",
       "17      LogisticRegression    0.6916\n",
       "18      LogisticRegression    0.6964\n",
       "19      LogisticRegression    0.7048\n",
       "20  RandomForestClassifier    0.3048\n",
       "21  RandomForestClassifier    0.2952\n",
       "22  RandomForestClassifier    0.3164\n",
       "23  RandomForestClassifier    0.3140\n",
       "24  RandomForestClassifier    0.3040\n",
       "25               LinearSVC    0.7144\n",
       "26               LinearSVC    0.7104\n",
       "27               LinearSVC    0.7088\n",
       "28               LinearSVC    0.7004\n",
       "29               LinearSVC    0.7188\n",
       "30           MultinomialNB    0.5744\n",
       "31           MultinomialNB    0.5756\n",
       "32           MultinomialNB    0.5656\n",
       "33           MultinomialNB    0.5720\n",
       "34           MultinomialNB    0.5728\n",
       "35      LogisticRegression    0.7020\n",
       "36      LogisticRegression    0.7032\n",
       "37      LogisticRegression    0.6916\n",
       "38      LogisticRegression    0.6964\n",
       "39      LogisticRegression    0.7048"
      ]
     },
     "execution_count": 78,
     "metadata": {},
     "output_type": "execute_result"
    }
   ],
   "source": [
    "cv_df.to_csv(YELP/'ml_customer_accu_10', index = False)\n",
    "ml_customer_accu_10 = pd.read_csv(YELP/'ml_customer_accu_10')\n",
    "ml_customer_accu_10"
   ]
  },
  {
   "cell_type": "markdown",
   "metadata": {},
   "source": [
    "##### DL models"
   ]
  },
  {
   "cell_type": "code",
   "execution_count": 67,
   "metadata": {
    "ExecuteTime": {
     "end_time": "2020-01-08T23:19:06.485877Z",
     "start_time": "2020-01-08T23:19:06.454618Z"
    }
   },
   "outputs": [
    {
     "data": {
      "text/html": [
       "<div>\n",
       "<style scoped>\n",
       "    .dataframe tbody tr th:only-of-type {\n",
       "        vertical-align: middle;\n",
       "    }\n",
       "\n",
       "    .dataframe tbody tr th {\n",
       "        vertical-align: top;\n",
       "    }\n",
       "\n",
       "    .dataframe thead th {\n",
       "        text-align: right;\n",
       "    }\n",
       "</style>\n",
       "<table border=\"1\" class=\"dataframe\">\n",
       "  <thead>\n",
       "    <tr style=\"text-align: right;\">\n",
       "      <th></th>\n",
       "      <th>product</th>\n",
       "      <th>complaint</th>\n",
       "    </tr>\n",
       "  </thead>\n",
       "  <tbody>\n",
       "    <tr>\n",
       "      <th>0</th>\n",
       "      <td>Debt collection</td>\n",
       "      <td>For over a month, I have been getting calls fr...</td>\n",
       "    </tr>\n",
       "    <tr>\n",
       "      <th>1</th>\n",
       "      <td>Credit reporting, credit repair services, or o...</td>\n",
       "      <td>XX/XX/XXXX, a series on letters to XXXX XXXX X...</td>\n",
       "    </tr>\n",
       "  </tbody>\n",
       "</table>\n",
       "</div>"
      ],
      "text/plain": [
       "                                             product  \\\n",
       "0                                    Debt collection   \n",
       "1  Credit reporting, credit repair services, or o...   \n",
       "\n",
       "                                           complaint  \n",
       "0  For over a month, I have been getting calls fr...  \n",
       "1  XX/XX/XXXX, a series on letters to XXXX XXXX X...  "
      ]
     },
     "execution_count": 67,
     "metadata": {},
     "output_type": "execute_result"
    }
   ],
   "source": [
    "df.head(2)"
   ]
  },
  {
   "cell_type": "code",
   "execution_count": 74,
   "metadata": {
    "ExecuteTime": {
     "end_time": "2020-01-08T23:24:22.670923Z",
     "start_time": "2020-01-08T23:24:22.640210Z"
    }
   },
   "outputs": [],
   "source": [
    "x_train, x_test, y_train, y_test = train_test_split(df['complaint'], df['product'], test_size= 2000)\n",
    "train = pd.DataFrame({'complaint': x_train, \n",
    "                     'product': y_train})\n",
    "val = pd.DataFrame({'complaint': x_test, \n",
    "                     'product': y_test})"
   ]
  },
  {
   "cell_type": "code",
   "execution_count": 76,
   "metadata": {
    "ExecuteTime": {
     "end_time": "2020-01-08T23:25:01.945830Z",
     "start_time": "2020-01-08T23:24:43.860759Z"
    }
   },
   "outputs": [
    {
     "data": {
      "text/html": [],
      "text/plain": [
       "<IPython.core.display.HTML object>"
      ]
     },
     "metadata": {},
     "output_type": "display_data"
    },
    {
     "data": {
      "text/html": [],
      "text/plain": [
       "<IPython.core.display.HTML object>"
      ]
     },
     "metadata": {},
     "output_type": "display_data"
    }
   ],
   "source": [
    "bert_model = BertForSequenceClassification.from_pretrained(config.bert_model_name, num_labels= 18 )\n",
    "    \n",
    "databunch = TextDataBunch.from_df(CUSTOMER, train, val,\n",
    "                      tokenizer=fastai_tokenizer,\n",
    "                      vocab=fastai_bert_vocab,\n",
    "                      include_bos=False,\n",
    "                      include_eos=False,\n",
    "                      text_cols= 'complaint',\n",
    "                      label_cols= 'product',\n",
    "                      bs= 64,\n",
    "                      collate_fn=partial(pad_collate, pad_first=False, pad_idx=0),\n",
    "                 )"
   ]
  },
  {
   "cell_type": "code",
   "execution_count": 77,
   "metadata": {
    "ExecuteTime": {
     "end_time": "2020-01-08T23:25:10.829537Z",
     "start_time": "2020-01-08T23:25:10.698286Z"
    }
   },
   "outputs": [],
   "source": [
    "learner = Learner(\n",
    "databunch, bert_model,\n",
    "loss_func=loss_func, metrics = accuracy)"
   ]
  },
  {
   "cell_type": "code",
   "execution_count": 78,
   "metadata": {
    "ExecuteTime": {
     "end_time": "2020-01-08T23:26:23.235397Z",
     "start_time": "2020-01-08T23:25:17.493331Z"
    }
   },
   "outputs": [
    {
     "data": {
      "text/html": [],
      "text/plain": [
       "<IPython.core.display.HTML object>"
      ]
     },
     "metadata": {},
     "output_type": "display_data"
    },
    {
     "name": "stdout",
     "output_type": "stream",
     "text": [
      "LR Finder is complete, type {learner_name}.recorder.plot() to see the graph.\n"
     ]
    }
   ],
   "source": [
    "learner.lr_find()"
   ]
  },
  {
   "cell_type": "code",
   "execution_count": 79,
   "metadata": {
    "ExecuteTime": {
     "end_time": "2020-01-08T23:26:28.155510Z",
     "start_time": "2020-01-08T23:26:27.725820Z"
    }
   },
   "outputs": [
    {
     "data": {
      "image/png": "[encoded data removed]",
      "text/plain": [
       "<Figure size 432x288 with 1 Axes>"
      ]
     },
     "metadata": {
      "needs_background": "light"
     },
     "output_type": "display_data"
    }
   ],
   "source": [
    "learner.recorder.plot()"
   ]
  },
  {
   "cell_type": "code",
   "execution_count": 81,
   "metadata": {
    "ExecuteTime": {
     "end_time": "2020-01-08T23:45:28.065124Z",
     "start_time": "2020-01-08T23:41:15.059198Z"
    }
   },
   "outputs": [
    {
     "data": {
      "text/html": [
       "<table border=\"1\" class=\"dataframe\">\n",
       "  <thead>\n",
       "    <tr style=\"text-align: left;\">\n",
       "      <th>epoch</th>\n",
       "      <th>train_loss</th>\n",
       "      <th>valid_loss</th>\n",
       "      <th>accuracy</th>\n",
       "      <th>time</th>\n",
       "    </tr>\n",
       "  </thead>\n",
       "  <tbody>\n",
       "    <tr>\n",
       "      <td>0</td>\n",
       "      <td>0.218055</td>\n",
       "      <td>0.929374</td>\n",
       "      <td>0.729000</td>\n",
       "      <td>02:05</td>\n",
       "    </tr>\n",
       "    <tr>\n",
       "      <td>1</td>\n",
       "      <td>0.174284</td>\n",
       "      <td>0.942612</td>\n",
       "      <td>0.728000</td>\n",
       "      <td>02:07</td>\n",
       "    </tr>\n",
       "  </tbody>\n",
       "</table>"
      ],
      "text/plain": [
       "<IPython.core.display.HTML object>"
      ]
     },
     "metadata": {},
     "output_type": "display_data"
    }
   ],
   "source": [
    "learner.fit_one_cycle(2, 1e-05)"
   ]
  },
  {
   "cell_type": "code",
   "execution_count": 85,
   "metadata": {
    "ExecuteTime": {
     "end_time": "2020-01-08T23:48:03.366273Z",
     "start_time": "2020-01-08T23:47:56.009786Z"
    }
   },
   "outputs": [
    {
     "data": {
      "text/html": [],
      "text/plain": [
       "<IPython.core.display.HTML object>"
      ]
     },
     "metadata": {},
     "output_type": "display_data"
    }
   ],
   "source": []
  },
  {
   "cell_type": "code",
   "execution_count": 16,
   "metadata": {
    "ExecuteTime": {
     "end_time": "2020-01-09T01:00:40.946832Z",
     "start_time": "2020-01-09T01:00:40.919727Z"
    }
   },
   "outputs": [],
   "source": [
    "accus = [0.7280, 0.731, 0.7280, 0.735, 0.724]"
   ]
  },
  {
   "cell_type": "code",
   "execution_count": 17,
   "metadata": {
    "ExecuteTime": {
     "end_time": "2020-01-09T01:00:44.702305Z",
     "start_time": "2020-01-09T01:00:44.676351Z"
    }
   },
   "outputs": [
    {
     "data": {
      "text/plain": [
       "[0.728, 0.731]"
      ]
     },
     "execution_count": 17,
     "metadata": {},
     "output_type": "execute_result"
    }
   ],
   "source": [
    "accus"
   ]
  },
  {
   "cell_type": "code",
   "execution_count": 18,
   "metadata": {
    "ExecuteTime": {
     "end_time": "2020-01-09T01:42:34.760919Z",
     "start_time": "2020-01-09T01:01:14.756387Z"
    }
   },
   "outputs": [
    {
     "name": "stderr",
     "output_type": "stream",
     "text": [
      "/opt/anaconda3/lib/python3.7/site-packages/sklearn/model_selection/_split.py:667: UserWarning: The least populated class in y has only 2 members, which is less than n_splits=5.\n",
      "  % (min_groups, self.n_splits)), UserWarning)\n"
     ]
    },
    {
     "data": {
      "text/html": [],
      "text/plain": [
       "<IPython.core.display.HTML object>"
      ]
     },
     "metadata": {},
     "output_type": "display_data"
    },
    {
     "data": {
      "text/html": [],
      "text/plain": [
       "<IPython.core.display.HTML object>"
      ]
     },
     "metadata": {},
     "output_type": "display_data"
    },
    {
     "data": {
      "text/html": [
       "<table border=\"1\" class=\"dataframe\">\n",
       "  <thead>\n",
       "    <tr style=\"text-align: left;\">\n",
       "      <th>epoch</th>\n",
       "      <th>train_loss</th>\n",
       "      <th>valid_loss</th>\n",
       "      <th>accuracy</th>\n",
       "      <th>time</th>\n",
       "    </tr>\n",
       "  </thead>\n",
       "  <tbody>\n",
       "    <tr>\n",
       "      <td>0</td>\n",
       "      <td>1.560283</td>\n",
       "      <td>1.187861</td>\n",
       "      <td>0.632800</td>\n",
       "      <td>02:07</td>\n",
       "    </tr>\n",
       "    <tr>\n",
       "      <td>1</td>\n",
       "      <td>1.030226</td>\n",
       "      <td>0.952939</td>\n",
       "      <td>0.689600</td>\n",
       "      <td>02:03</td>\n",
       "    </tr>\n",
       "    <tr>\n",
       "      <td>2</td>\n",
       "      <td>0.838607</td>\n",
       "      <td>1.029946</td>\n",
       "      <td>0.680800</td>\n",
       "      <td>02:07</td>\n",
       "    </tr>\n",
       "    <tr>\n",
       "      <td>3</td>\n",
       "      <td>0.624467</td>\n",
       "      <td>0.910273</td>\n",
       "      <td>0.708400</td>\n",
       "      <td>02:08</td>\n",
       "    </tr>\n",
       "    <tr>\n",
       "      <td>4</td>\n",
       "      <td>0.408372</td>\n",
       "      <td>0.929432</td>\n",
       "      <td>0.726800</td>\n",
       "      <td>02:05</td>\n",
       "    </tr>\n",
       "    <tr>\n",
       "      <td>5</td>\n",
       "      <td>0.264990</td>\n",
       "      <td>0.961888</td>\n",
       "      <td>0.728000</td>\n",
       "      <td>02:09</td>\n",
       "    </tr>\n",
       "  </tbody>\n",
       "</table>"
      ],
      "text/plain": [
       "<IPython.core.display.HTML object>"
      ]
     },
     "metadata": {},
     "output_type": "display_data"
    },
    {
     "data": {
      "text/html": [],
      "text/plain": [
       "<IPython.core.display.HTML object>"
      ]
     },
     "metadata": {},
     "output_type": "display_data"
    },
    {
     "data": {
      "text/html": [],
      "text/plain": [
       "<IPython.core.display.HTML object>"
      ]
     },
     "metadata": {},
     "output_type": "display_data"
    },
    {
     "data": {
      "text/html": [],
      "text/plain": [
       "<IPython.core.display.HTML object>"
      ]
     },
     "metadata": {},
     "output_type": "display_data"
    },
    {
     "data": {
      "text/html": [
       "<table border=\"1\" class=\"dataframe\">\n",
       "  <thead>\n",
       "    <tr style=\"text-align: left;\">\n",
       "      <th>epoch</th>\n",
       "      <th>train_loss</th>\n",
       "      <th>valid_loss</th>\n",
       "      <th>accuracy</th>\n",
       "      <th>time</th>\n",
       "    </tr>\n",
       "  </thead>\n",
       "  <tbody>\n",
       "    <tr>\n",
       "      <td>0</td>\n",
       "      <td>1.561800</td>\n",
       "      <td>1.131997</td>\n",
       "      <td>0.650400</td>\n",
       "      <td>02:07</td>\n",
       "    </tr>\n",
       "    <tr>\n",
       "      <td>1</td>\n",
       "      <td>1.076326</td>\n",
       "      <td>0.992753</td>\n",
       "      <td>0.678800</td>\n",
       "      <td>02:06</td>\n",
       "    </tr>\n",
       "    <tr>\n",
       "      <td>2</td>\n",
       "      <td>0.853779</td>\n",
       "      <td>0.959748</td>\n",
       "      <td>0.683600</td>\n",
       "      <td>02:03</td>\n",
       "    </tr>\n",
       "    <tr>\n",
       "      <td>3</td>\n",
       "      <td>0.595374</td>\n",
       "      <td>0.857262</td>\n",
       "      <td>0.734800</td>\n",
       "      <td>02:08</td>\n",
       "    </tr>\n",
       "    <tr>\n",
       "      <td>4</td>\n",
       "      <td>0.360151</td>\n",
       "      <td>0.905311</td>\n",
       "      <td>0.742400</td>\n",
       "      <td>02:08</td>\n",
       "    </tr>\n",
       "    <tr>\n",
       "      <td>5</td>\n",
       "      <td>0.202762</td>\n",
       "      <td>0.950534</td>\n",
       "      <td>0.735200</td>\n",
       "      <td>02:05</td>\n",
       "    </tr>\n",
       "  </tbody>\n",
       "</table>"
      ],
      "text/plain": [
       "<IPython.core.display.HTML object>"
      ]
     },
     "metadata": {},
     "output_type": "display_data"
    },
    {
     "data": {
      "text/html": [],
      "text/plain": [
       "<IPython.core.display.HTML object>"
      ]
     },
     "metadata": {},
     "output_type": "display_data"
    },
    {
     "data": {
      "text/html": [],
      "text/plain": [
       "<IPython.core.display.HTML object>"
      ]
     },
     "metadata": {},
     "output_type": "display_data"
    },
    {
     "data": {
      "text/html": [],
      "text/plain": [
       "<IPython.core.display.HTML object>"
      ]
     },
     "metadata": {},
     "output_type": "display_data"
    },
    {
     "data": {
      "text/html": [
       "<table border=\"1\" class=\"dataframe\">\n",
       "  <thead>\n",
       "    <tr style=\"text-align: left;\">\n",
       "      <th>epoch</th>\n",
       "      <th>train_loss</th>\n",
       "      <th>valid_loss</th>\n",
       "      <th>accuracy</th>\n",
       "      <th>time</th>\n",
       "    </tr>\n",
       "  </thead>\n",
       "  <tbody>\n",
       "    <tr>\n",
       "      <td>0</td>\n",
       "      <td>1.596745</td>\n",
       "      <td>1.208017</td>\n",
       "      <td>0.632800</td>\n",
       "      <td>02:08</td>\n",
       "    </tr>\n",
       "    <tr>\n",
       "      <td>1</td>\n",
       "      <td>1.056719</td>\n",
       "      <td>1.051430</td>\n",
       "      <td>0.654400</td>\n",
       "      <td>02:09</td>\n",
       "    </tr>\n",
       "    <tr>\n",
       "      <td>2</td>\n",
       "      <td>0.852332</td>\n",
       "      <td>0.914384</td>\n",
       "      <td>0.703600</td>\n",
       "      <td>02:04</td>\n",
       "    </tr>\n",
       "    <tr>\n",
       "      <td>3</td>\n",
       "      <td>0.595727</td>\n",
       "      <td>0.902735</td>\n",
       "      <td>0.728400</td>\n",
       "      <td>02:08</td>\n",
       "    </tr>\n",
       "    <tr>\n",
       "      <td>4</td>\n",
       "      <td>0.359024</td>\n",
       "      <td>0.930540</td>\n",
       "      <td>0.720800</td>\n",
       "      <td>02:04</td>\n",
       "    </tr>\n",
       "    <tr>\n",
       "      <td>5</td>\n",
       "      <td>0.222540</td>\n",
       "      <td>0.968150</td>\n",
       "      <td>0.724800</td>\n",
       "      <td>02:00</td>\n",
       "    </tr>\n",
       "  </tbody>\n",
       "</table>"
      ],
      "text/plain": [
       "<IPython.core.display.HTML object>"
      ]
     },
     "metadata": {},
     "output_type": "display_data"
    },
    {
     "data": {
      "text/html": [],
      "text/plain": [
       "<IPython.core.display.HTML object>"
      ]
     },
     "metadata": {},
     "output_type": "display_data"
    },
    {
     "data": {
      "text/html": [],
      "text/plain": [
       "<IPython.core.display.HTML object>"
      ]
     },
     "metadata": {},
     "output_type": "display_data"
    },
    {
     "data": {
      "text/html": [],
      "text/plain": [
       "<IPython.core.display.HTML object>"
      ]
     },
     "metadata": {},
     "output_type": "display_data"
    },
    {
     "data": {
      "text/html": [
       "\n",
       "    <div>\n",
       "        <style>\n",
       "            /* Turns off some styling */\n",
       "            progress {\n",
       "                /* gets rid of default border in Firefox and Opera. */\n",
       "                border: none;\n",
       "                /* Needs to be in here for Safari polyfill so background images work as expected. */\n",
       "                background-size: auto;\n",
       "            }\n",
       "            .progress-bar-interrupted, .progress-bar-interrupted::-webkit-progress-bar {\n",
       "                background: #F44336;\n",
       "            }\n",
       "        </style>\n",
       "      <progress value='0' class='' max='6', style='width:300px; height:20px; vertical-align: middle;'></progress>\n",
       "      0.00% [0/6 00:00<00:00]\n",
       "    </div>\n",
       "    \n",
       "<table border=\"1\" class=\"dataframe\">\n",
       "  <thead>\n",
       "    <tr style=\"text-align: left;\">\n",
       "      <th>epoch</th>\n",
       "      <th>train_loss</th>\n",
       "      <th>valid_loss</th>\n",
       "      <th>accuracy</th>\n",
       "      <th>time</th>\n",
       "    </tr>\n",
       "  </thead>\n",
       "  <tbody>\n",
       "  </tbody>\n",
       "</table><p>\n",
       "\n",
       "    <div>\n",
       "        <style>\n",
       "            /* Turns off some styling */\n",
       "            progress {\n",
       "                /* gets rid of default border in Firefox and Opera. */\n",
       "                border: none;\n",
       "                /* Needs to be in here for Safari polyfill so background images work as expected. */\n",
       "                background-size: auto;\n",
       "            }\n",
       "            .progress-bar-interrupted, .progress-bar-interrupted::-webkit-progress-bar {\n",
       "                background: #F44336;\n",
       "            }\n",
       "        </style>\n",
       "      <progress value='0' class='progress-bar-interrupted' max='156', style='width:300px; height:20px; vertical-align: middle;'></progress>\n",
       "      Interrupted\n",
       "    </div>\n",
       "    "
      ],
      "text/plain": [
       "<IPython.core.display.HTML object>"
      ]
     },
     "metadata": {},
     "output_type": "display_data"
    },
    {
     "ename": "KeyboardInterrupt",
     "evalue": "",
     "output_type": "error",
     "traceback": [
      "\u001b[0;31m---------------------------------------------------------------------------\u001b[0m",
      "\u001b[0;31mKeyboardInterrupt\u001b[0m                         Traceback (most recent call last)",
      "\u001b[0;32m<ipython-input-18-63a6a9e43fff>\u001b[0m in \u001b[0;36m<module>\u001b[0;34m\u001b[0m\n\u001b[1;32m     18\u001b[0m     \u001b[0mdatabunch\u001b[0m\u001b[0;34m,\u001b[0m \u001b[0mbert_model\u001b[0m\u001b[0;34m,\u001b[0m\u001b[0;34m\u001b[0m\u001b[0;34m\u001b[0m\u001b[0m\n\u001b[1;32m     19\u001b[0m     loss_func=loss_func, metrics = accuracy)\n\u001b[0;32m---> 20\u001b[0;31m     \u001b[0mlearner\u001b[0m\u001b[0;34m.\u001b[0m\u001b[0mfit_one_cycle\u001b[0m\u001b[0;34m(\u001b[0m\u001b[0;36m6\u001b[0m\u001b[0;34m,\u001b[0m \u001b[0;36m1.5\u001b[0m \u001b[0;34m*\u001b[0m \u001b[0;36m1e-04\u001b[0m\u001b[0;34m)\u001b[0m\u001b[0;34m\u001b[0m\u001b[0;34m\u001b[0m\u001b[0m\n\u001b[0m\u001b[1;32m     21\u001b[0m \u001b[0;34m\u001b[0m\u001b[0m\n\u001b[1;32m     22\u001b[0m \u001b[0;34m\u001b[0m\u001b[0m\n",
      "\u001b[0;32m/opt/anaconda3/lib/python3.7/site-packages/fastai/train.py\u001b[0m in \u001b[0;36mfit_one_cycle\u001b[0;34m(learn, cyc_len, max_lr, moms, div_factor, pct_start, final_div, wd, callbacks, tot_epochs, start_epoch)\u001b[0m\n\u001b[1;32m     21\u001b[0m     callbacks.append(OneCycleScheduler(learn, max_lr, moms=moms, div_factor=div_factor, pct_start=pct_start,\n\u001b[1;32m     22\u001b[0m                                        final_div=final_div, tot_epochs=tot_epochs, start_epoch=start_epoch))\n\u001b[0;32m---> 23\u001b[0;31m     \u001b[0mlearn\u001b[0m\u001b[0;34m.\u001b[0m\u001b[0mfit\u001b[0m\u001b[0;34m(\u001b[0m\u001b[0mcyc_len\u001b[0m\u001b[0;34m,\u001b[0m \u001b[0mmax_lr\u001b[0m\u001b[0;34m,\u001b[0m \u001b[0mwd\u001b[0m\u001b[0;34m=\u001b[0m\u001b[0mwd\u001b[0m\u001b[0;34m,\u001b[0m \u001b[0mcallbacks\u001b[0m\u001b[0;34m=\u001b[0m\u001b[0mcallbacks\u001b[0m\u001b[0;34m)\u001b[0m\u001b[0;34m\u001b[0m\u001b[0;34m\u001b[0m\u001b[0m\n\u001b[0m\u001b[1;32m     24\u001b[0m \u001b[0;34m\u001b[0m\u001b[0m\n\u001b[1;32m     25\u001b[0m def fit_fc(learn:Learner, tot_epochs:int=1, lr:float=defaults.lr,  moms:Tuple[float,float]=(0.95,0.85), start_pct:float=0.72,\n",
      "\u001b[0;32m/opt/anaconda3/lib/python3.7/site-packages/fastai/basic_train.py\u001b[0m in \u001b[0;36mfit\u001b[0;34m(self, epochs, lr, wd, callbacks)\u001b[0m\n\u001b[1;32m    198\u001b[0m         \u001b[0;32melse\u001b[0m\u001b[0;34m:\u001b[0m \u001b[0mself\u001b[0m\u001b[0;34m.\u001b[0m\u001b[0mopt\u001b[0m\u001b[0;34m.\u001b[0m\u001b[0mlr\u001b[0m\u001b[0;34m,\u001b[0m\u001b[0mself\u001b[0m\u001b[0;34m.\u001b[0m\u001b[0mopt\u001b[0m\u001b[0;34m.\u001b[0m\u001b[0mwd\u001b[0m \u001b[0;34m=\u001b[0m \u001b[0mlr\u001b[0m\u001b[0;34m,\u001b[0m\u001b[0mwd\u001b[0m\u001b[0;34m\u001b[0m\u001b[0;34m\u001b[0m\u001b[0m\n\u001b[1;32m    199\u001b[0m         \u001b[0mcallbacks\u001b[0m \u001b[0;34m=\u001b[0m \u001b[0;34m[\u001b[0m\u001b[0mcb\u001b[0m\u001b[0;34m(\u001b[0m\u001b[0mself\u001b[0m\u001b[0;34m)\u001b[0m \u001b[0;32mfor\u001b[0m \u001b[0mcb\u001b[0m \u001b[0;32min\u001b[0m \u001b[0mself\u001b[0m\u001b[0;34m.\u001b[0m\u001b[0mcallback_fns\u001b[0m \u001b[0;34m+\u001b[0m \u001b[0mlistify\u001b[0m\u001b[0;34m(\u001b[0m\u001b[0mdefaults\u001b[0m\u001b[0;34m.\u001b[0m\u001b[0mextra_callback_fns\u001b[0m\u001b[0;34m)\u001b[0m\u001b[0;34m]\u001b[0m \u001b[0;34m+\u001b[0m \u001b[0mlistify\u001b[0m\u001b[0;34m(\u001b[0m\u001b[0mcallbacks\u001b[0m\u001b[0;34m)\u001b[0m\u001b[0;34m\u001b[0m\u001b[0;34m\u001b[0m\u001b[0m\n\u001b[0;32m--> 200\u001b[0;31m         \u001b[0mfit\u001b[0m\u001b[0;34m(\u001b[0m\u001b[0mepochs\u001b[0m\u001b[0;34m,\u001b[0m \u001b[0mself\u001b[0m\u001b[0;34m,\u001b[0m \u001b[0mmetrics\u001b[0m\u001b[0;34m=\u001b[0m\u001b[0mself\u001b[0m\u001b[0;34m.\u001b[0m\u001b[0mmetrics\u001b[0m\u001b[0;34m,\u001b[0m \u001b[0mcallbacks\u001b[0m\u001b[0;34m=\u001b[0m\u001b[0mself\u001b[0m\u001b[0;34m.\u001b[0m\u001b[0mcallbacks\u001b[0m\u001b[0;34m+\u001b[0m\u001b[0mcallbacks\u001b[0m\u001b[0;34m)\u001b[0m\u001b[0;34m\u001b[0m\u001b[0;34m\u001b[0m\u001b[0m\n\u001b[0m\u001b[1;32m    201\u001b[0m \u001b[0;34m\u001b[0m\u001b[0m\n\u001b[1;32m    202\u001b[0m     \u001b[0;32mdef\u001b[0m \u001b[0mcreate_opt\u001b[0m\u001b[0;34m(\u001b[0m\u001b[0mself\u001b[0m\u001b[0;34m,\u001b[0m \u001b[0mlr\u001b[0m\u001b[0;34m:\u001b[0m\u001b[0mFloats\u001b[0m\u001b[0;34m,\u001b[0m \u001b[0mwd\u001b[0m\u001b[0;34m:\u001b[0m\u001b[0mFloats\u001b[0m\u001b[0;34m=\u001b[0m\u001b[0;36m0.\u001b[0m\u001b[0;34m)\u001b[0m\u001b[0;34m->\u001b[0m\u001b[0;32mNone\u001b[0m\u001b[0;34m:\u001b[0m\u001b[0;34m\u001b[0m\u001b[0;34m\u001b[0m\u001b[0m\n",
      "\u001b[0;32m/opt/anaconda3/lib/python3.7/site-packages/fastai/basic_train.py\u001b[0m in \u001b[0;36mfit\u001b[0;34m(epochs, learn, callbacks, metrics)\u001b[0m\n\u001b[1;32m     99\u001b[0m             \u001b[0;32mfor\u001b[0m \u001b[0mxb\u001b[0m\u001b[0;34m,\u001b[0m\u001b[0myb\u001b[0m \u001b[0;32min\u001b[0m \u001b[0mprogress_bar\u001b[0m\u001b[0;34m(\u001b[0m\u001b[0mlearn\u001b[0m\u001b[0;34m.\u001b[0m\u001b[0mdata\u001b[0m\u001b[0;34m.\u001b[0m\u001b[0mtrain_dl\u001b[0m\u001b[0;34m,\u001b[0m \u001b[0mparent\u001b[0m\u001b[0;34m=\u001b[0m\u001b[0mpbar\u001b[0m\u001b[0;34m)\u001b[0m\u001b[0;34m:\u001b[0m\u001b[0;34m\u001b[0m\u001b[0;34m\u001b[0m\u001b[0m\n\u001b[1;32m    100\u001b[0m                 \u001b[0mxb\u001b[0m\u001b[0;34m,\u001b[0m \u001b[0myb\u001b[0m \u001b[0;34m=\u001b[0m \u001b[0mcb_handler\u001b[0m\u001b[0;34m.\u001b[0m\u001b[0mon_batch_begin\u001b[0m\u001b[0;34m(\u001b[0m\u001b[0mxb\u001b[0m\u001b[0;34m,\u001b[0m \u001b[0myb\u001b[0m\u001b[0;34m)\u001b[0m\u001b[0;34m\u001b[0m\u001b[0;34m\u001b[0m\u001b[0m\n\u001b[0;32m--> 101\u001b[0;31m                 \u001b[0mloss\u001b[0m \u001b[0;34m=\u001b[0m \u001b[0mloss_batch\u001b[0m\u001b[0;34m(\u001b[0m\u001b[0mlearn\u001b[0m\u001b[0;34m.\u001b[0m\u001b[0mmodel\u001b[0m\u001b[0;34m,\u001b[0m \u001b[0mxb\u001b[0m\u001b[0;34m,\u001b[0m \u001b[0myb\u001b[0m\u001b[0;34m,\u001b[0m \u001b[0mlearn\u001b[0m\u001b[0;34m.\u001b[0m\u001b[0mloss_func\u001b[0m\u001b[0;34m,\u001b[0m \u001b[0mlearn\u001b[0m\u001b[0;34m.\u001b[0m\u001b[0mopt\u001b[0m\u001b[0;34m,\u001b[0m \u001b[0mcb_handler\u001b[0m\u001b[0;34m)\u001b[0m\u001b[0;34m\u001b[0m\u001b[0;34m\u001b[0m\u001b[0m\n\u001b[0m\u001b[1;32m    102\u001b[0m                 \u001b[0;32mif\u001b[0m \u001b[0mcb_handler\u001b[0m\u001b[0;34m.\u001b[0m\u001b[0mon_batch_end\u001b[0m\u001b[0;34m(\u001b[0m\u001b[0mloss\u001b[0m\u001b[0;34m)\u001b[0m\u001b[0;34m:\u001b[0m \u001b[0;32mbreak\u001b[0m\u001b[0;34m\u001b[0m\u001b[0;34m\u001b[0m\u001b[0m\n\u001b[1;32m    103\u001b[0m \u001b[0;34m\u001b[0m\u001b[0m\n",
      "\u001b[0;32m<ipython-input-13-4fd8ac533102>\u001b[0m in \u001b[0;36mloss_batch_bert\u001b[0;34m(model, xb, yb, loss_func, opt, cb_handler)\u001b[0m\n\u001b[1;32m     64\u001b[0m     \u001b[0;32mif\u001b[0m \u001b[0;32mnot\u001b[0m \u001b[0mis_listy\u001b[0m\u001b[0;34m(\u001b[0m\u001b[0myb\u001b[0m\u001b[0;34m)\u001b[0m\u001b[0;34m:\u001b[0m\u001b[0;34m\u001b[0m\u001b[0;34m\u001b[0m\u001b[0m\n\u001b[1;32m     65\u001b[0m         \u001b[0myb\u001b[0m \u001b[0;34m=\u001b[0m \u001b[0;34m[\u001b[0m\u001b[0myb\u001b[0m\u001b[0;34m]\u001b[0m\u001b[0;34m\u001b[0m\u001b[0;34m\u001b[0m\u001b[0m\n\u001b[0;32m---> 66\u001b[0;31m     \u001b[0mout\u001b[0m \u001b[0;34m=\u001b[0m \u001b[0mmodel\u001b[0m\u001b[0;34m(\u001b[0m\u001b[0;34m*\u001b[0m\u001b[0mxb\u001b[0m\u001b[0;34m)\u001b[0m\u001b[0;34m\u001b[0m\u001b[0;34m\u001b[0m\u001b[0m\n\u001b[0m\u001b[1;32m     67\u001b[0m     \u001b[0;31m# pdb.set_trace()\u001b[0m\u001b[0;34m\u001b[0m\u001b[0;34m\u001b[0m\u001b[0;34m\u001b[0m\u001b[0m\n\u001b[1;32m     68\u001b[0m     \u001b[0mout\u001b[0m \u001b[0;34m=\u001b[0m \u001b[0mout\u001b[0m\u001b[0;34m[\u001b[0m\u001b[0;36m0\u001b[0m\u001b[0;34m]\u001b[0m\u001b[0;34m\u001b[0m\u001b[0;34m\u001b[0m\u001b[0m\n",
      "\u001b[0;32m/opt/anaconda3/lib/python3.7/site-packages/torch/nn/modules/module.py\u001b[0m in \u001b[0;36m__call__\u001b[0;34m(self, *input, **kwargs)\u001b[0m\n\u001b[1;32m    539\u001b[0m             \u001b[0mresult\u001b[0m \u001b[0;34m=\u001b[0m \u001b[0mself\u001b[0m\u001b[0;34m.\u001b[0m\u001b[0m_slow_forward\u001b[0m\u001b[0;34m(\u001b[0m\u001b[0;34m*\u001b[0m\u001b[0minput\u001b[0m\u001b[0;34m,\u001b[0m \u001b[0;34m**\u001b[0m\u001b[0mkwargs\u001b[0m\u001b[0;34m)\u001b[0m\u001b[0;34m\u001b[0m\u001b[0;34m\u001b[0m\u001b[0m\n\u001b[1;32m    540\u001b[0m         \u001b[0;32melse\u001b[0m\u001b[0;34m:\u001b[0m\u001b[0;34m\u001b[0m\u001b[0;34m\u001b[0m\u001b[0m\n\u001b[0;32m--> 541\u001b[0;31m             \u001b[0mresult\u001b[0m \u001b[0;34m=\u001b[0m \u001b[0mself\u001b[0m\u001b[0;34m.\u001b[0m\u001b[0mforward\u001b[0m\u001b[0;34m(\u001b[0m\u001b[0;34m*\u001b[0m\u001b[0minput\u001b[0m\u001b[0;34m,\u001b[0m \u001b[0;34m**\u001b[0m\u001b[0mkwargs\u001b[0m\u001b[0;34m)\u001b[0m\u001b[0;34m\u001b[0m\u001b[0;34m\u001b[0m\u001b[0m\n\u001b[0m\u001b[1;32m    542\u001b[0m         \u001b[0;32mfor\u001b[0m \u001b[0mhook\u001b[0m \u001b[0;32min\u001b[0m \u001b[0mself\u001b[0m\u001b[0;34m.\u001b[0m\u001b[0m_forward_hooks\u001b[0m\u001b[0;34m.\u001b[0m\u001b[0mvalues\u001b[0m\u001b[0;34m(\u001b[0m\u001b[0;34m)\u001b[0m\u001b[0;34m:\u001b[0m\u001b[0;34m\u001b[0m\u001b[0;34m\u001b[0m\u001b[0m\n\u001b[1;32m    543\u001b[0m             \u001b[0mhook_result\u001b[0m \u001b[0;34m=\u001b[0m \u001b[0mhook\u001b[0m\u001b[0;34m(\u001b[0m\u001b[0mself\u001b[0m\u001b[0;34m,\u001b[0m \u001b[0minput\u001b[0m\u001b[0;34m,\u001b[0m \u001b[0mresult\u001b[0m\u001b[0;34m)\u001b[0m\u001b[0;34m\u001b[0m\u001b[0;34m\u001b[0m\u001b[0m\n",
      "\u001b[0;32m/opt/anaconda3/lib/python3.7/site-packages/pytorch_transformers/modeling_bert.py\u001b[0m in \u001b[0;36mforward\u001b[0;34m(self, input_ids, token_type_ids, attention_mask, labels, position_ids, head_mask)\u001b[0m\n\u001b[1;32m    961\u001b[0m                 position_ids=None, head_mask=None):\n\u001b[1;32m    962\u001b[0m         outputs = self.bert(input_ids, position_ids=position_ids, token_type_ids=token_type_ids,\n\u001b[0;32m--> 963\u001b[0;31m                             attention_mask=attention_mask, head_mask=head_mask)\n\u001b[0m\u001b[1;32m    964\u001b[0m         \u001b[0mpooled_output\u001b[0m \u001b[0;34m=\u001b[0m \u001b[0moutputs\u001b[0m\u001b[0;34m[\u001b[0m\u001b[0;36m1\u001b[0m\u001b[0;34m]\u001b[0m\u001b[0;34m\u001b[0m\u001b[0;34m\u001b[0m\u001b[0m\n\u001b[1;32m    965\u001b[0m \u001b[0;34m\u001b[0m\u001b[0m\n",
      "\u001b[0;32m/opt/anaconda3/lib/python3.7/site-packages/torch/nn/modules/module.py\u001b[0m in \u001b[0;36m__call__\u001b[0;34m(self, *input, **kwargs)\u001b[0m\n\u001b[1;32m    539\u001b[0m             \u001b[0mresult\u001b[0m \u001b[0;34m=\u001b[0m \u001b[0mself\u001b[0m\u001b[0;34m.\u001b[0m\u001b[0m_slow_forward\u001b[0m\u001b[0;34m(\u001b[0m\u001b[0;34m*\u001b[0m\u001b[0minput\u001b[0m\u001b[0;34m,\u001b[0m \u001b[0;34m**\u001b[0m\u001b[0mkwargs\u001b[0m\u001b[0;34m)\u001b[0m\u001b[0;34m\u001b[0m\u001b[0;34m\u001b[0m\u001b[0m\n\u001b[1;32m    540\u001b[0m         \u001b[0;32melse\u001b[0m\u001b[0;34m:\u001b[0m\u001b[0;34m\u001b[0m\u001b[0;34m\u001b[0m\u001b[0m\n\u001b[0;32m--> 541\u001b[0;31m             \u001b[0mresult\u001b[0m \u001b[0;34m=\u001b[0m \u001b[0mself\u001b[0m\u001b[0;34m.\u001b[0m\u001b[0mforward\u001b[0m\u001b[0;34m(\u001b[0m\u001b[0;34m*\u001b[0m\u001b[0minput\u001b[0m\u001b[0;34m,\u001b[0m \u001b[0;34m**\u001b[0m\u001b[0mkwargs\u001b[0m\u001b[0;34m)\u001b[0m\u001b[0;34m\u001b[0m\u001b[0;34m\u001b[0m\u001b[0m\n\u001b[0m\u001b[1;32m    542\u001b[0m         \u001b[0;32mfor\u001b[0m \u001b[0mhook\u001b[0m \u001b[0;32min\u001b[0m \u001b[0mself\u001b[0m\u001b[0;34m.\u001b[0m\u001b[0m_forward_hooks\u001b[0m\u001b[0;34m.\u001b[0m\u001b[0mvalues\u001b[0m\u001b[0;34m(\u001b[0m\u001b[0;34m)\u001b[0m\u001b[0;34m:\u001b[0m\u001b[0;34m\u001b[0m\u001b[0;34m\u001b[0m\u001b[0m\n\u001b[1;32m    543\u001b[0m             \u001b[0mhook_result\u001b[0m \u001b[0;34m=\u001b[0m \u001b[0mhook\u001b[0m\u001b[0;34m(\u001b[0m\u001b[0mself\u001b[0m\u001b[0;34m,\u001b[0m \u001b[0minput\u001b[0m\u001b[0;34m,\u001b[0m \u001b[0mresult\u001b[0m\u001b[0;34m)\u001b[0m\u001b[0;34m\u001b[0m\u001b[0;34m\u001b[0m\u001b[0m\n",
      "\u001b[0;32m/opt/anaconda3/lib/python3.7/site-packages/pytorch_transformers/modeling_bert.py\u001b[0m in \u001b[0;36mforward\u001b[0;34m(self, input_ids, token_type_ids, attention_mask, position_ids, head_mask)\u001b[0m\n\u001b[1;32m    708\u001b[0m         encoder_outputs = self.encoder(embedding_output,\n\u001b[1;32m    709\u001b[0m                                        \u001b[0mextended_attention_mask\u001b[0m\u001b[0;34m,\u001b[0m\u001b[0;34m\u001b[0m\u001b[0;34m\u001b[0m\u001b[0m\n\u001b[0;32m--> 710\u001b[0;31m                                        head_mask=head_mask)\n\u001b[0m\u001b[1;32m    711\u001b[0m         \u001b[0msequence_output\u001b[0m \u001b[0;34m=\u001b[0m \u001b[0mencoder_outputs\u001b[0m\u001b[0;34m[\u001b[0m\u001b[0;36m0\u001b[0m\u001b[0;34m]\u001b[0m\u001b[0;34m\u001b[0m\u001b[0;34m\u001b[0m\u001b[0m\n\u001b[1;32m    712\u001b[0m         \u001b[0mpooled_output\u001b[0m \u001b[0;34m=\u001b[0m \u001b[0mself\u001b[0m\u001b[0;34m.\u001b[0m\u001b[0mpooler\u001b[0m\u001b[0;34m(\u001b[0m\u001b[0msequence_output\u001b[0m\u001b[0;34m)\u001b[0m\u001b[0;34m\u001b[0m\u001b[0;34m\u001b[0m\u001b[0m\n",
      "\u001b[0;32m/opt/anaconda3/lib/python3.7/site-packages/torch/nn/modules/module.py\u001b[0m in \u001b[0;36m__call__\u001b[0;34m(self, *input, **kwargs)\u001b[0m\n\u001b[1;32m    539\u001b[0m             \u001b[0mresult\u001b[0m \u001b[0;34m=\u001b[0m \u001b[0mself\u001b[0m\u001b[0;34m.\u001b[0m\u001b[0m_slow_forward\u001b[0m\u001b[0;34m(\u001b[0m\u001b[0;34m*\u001b[0m\u001b[0minput\u001b[0m\u001b[0;34m,\u001b[0m \u001b[0;34m**\u001b[0m\u001b[0mkwargs\u001b[0m\u001b[0;34m)\u001b[0m\u001b[0;34m\u001b[0m\u001b[0;34m\u001b[0m\u001b[0m\n\u001b[1;32m    540\u001b[0m         \u001b[0;32melse\u001b[0m\u001b[0;34m:\u001b[0m\u001b[0;34m\u001b[0m\u001b[0;34m\u001b[0m\u001b[0m\n\u001b[0;32m--> 541\u001b[0;31m             \u001b[0mresult\u001b[0m \u001b[0;34m=\u001b[0m \u001b[0mself\u001b[0m\u001b[0;34m.\u001b[0m\u001b[0mforward\u001b[0m\u001b[0;34m(\u001b[0m\u001b[0;34m*\u001b[0m\u001b[0minput\u001b[0m\u001b[0;34m,\u001b[0m \u001b[0;34m**\u001b[0m\u001b[0mkwargs\u001b[0m\u001b[0;34m)\u001b[0m\u001b[0;34m\u001b[0m\u001b[0;34m\u001b[0m\u001b[0m\n\u001b[0m\u001b[1;32m    542\u001b[0m         \u001b[0;32mfor\u001b[0m \u001b[0mhook\u001b[0m \u001b[0;32min\u001b[0m \u001b[0mself\u001b[0m\u001b[0;34m.\u001b[0m\u001b[0m_forward_hooks\u001b[0m\u001b[0;34m.\u001b[0m\u001b[0mvalues\u001b[0m\u001b[0;34m(\u001b[0m\u001b[0;34m)\u001b[0m\u001b[0;34m:\u001b[0m\u001b[0;34m\u001b[0m\u001b[0;34m\u001b[0m\u001b[0m\n\u001b[1;32m    543\u001b[0m             \u001b[0mhook_result\u001b[0m \u001b[0;34m=\u001b[0m \u001b[0mhook\u001b[0m\u001b[0;34m(\u001b[0m\u001b[0mself\u001b[0m\u001b[0;34m,\u001b[0m \u001b[0minput\u001b[0m\u001b[0;34m,\u001b[0m \u001b[0mresult\u001b[0m\u001b[0;34m)\u001b[0m\u001b[0;34m\u001b[0m\u001b[0;34m\u001b[0m\u001b[0m\n",
      "\u001b[0;32m/opt/anaconda3/lib/python3.7/site-packages/pytorch_transformers/modeling_bert.py\u001b[0m in \u001b[0;36mforward\u001b[0;34m(self, hidden_states, attention_mask, head_mask)\u001b[0m\n\u001b[1;32m    429\u001b[0m                 \u001b[0mall_hidden_states\u001b[0m \u001b[0;34m=\u001b[0m \u001b[0mall_hidden_states\u001b[0m \u001b[0;34m+\u001b[0m \u001b[0;34m(\u001b[0m\u001b[0mhidden_states\u001b[0m\u001b[0;34m,\u001b[0m\u001b[0;34m)\u001b[0m\u001b[0;34m\u001b[0m\u001b[0;34m\u001b[0m\u001b[0m\n\u001b[1;32m    430\u001b[0m \u001b[0;34m\u001b[0m\u001b[0m\n\u001b[0;32m--> 431\u001b[0;31m             \u001b[0mlayer_outputs\u001b[0m \u001b[0;34m=\u001b[0m \u001b[0mlayer_module\u001b[0m\u001b[0;34m(\u001b[0m\u001b[0mhidden_states\u001b[0m\u001b[0;34m,\u001b[0m \u001b[0mattention_mask\u001b[0m\u001b[0;34m,\u001b[0m \u001b[0mhead_mask\u001b[0m\u001b[0;34m[\u001b[0m\u001b[0mi\u001b[0m\u001b[0;34m]\u001b[0m\u001b[0;34m)\u001b[0m\u001b[0;34m\u001b[0m\u001b[0;34m\u001b[0m\u001b[0m\n\u001b[0m\u001b[1;32m    432\u001b[0m             \u001b[0mhidden_states\u001b[0m \u001b[0;34m=\u001b[0m \u001b[0mlayer_outputs\u001b[0m\u001b[0;34m[\u001b[0m\u001b[0;36m0\u001b[0m\u001b[0;34m]\u001b[0m\u001b[0;34m\u001b[0m\u001b[0;34m\u001b[0m\u001b[0m\n\u001b[1;32m    433\u001b[0m \u001b[0;34m\u001b[0m\u001b[0m\n",
      "\u001b[0;32m/opt/anaconda3/lib/python3.7/site-packages/torch/nn/modules/module.py\u001b[0m in \u001b[0;36m__call__\u001b[0;34m(self, *input, **kwargs)\u001b[0m\n\u001b[1;32m    539\u001b[0m             \u001b[0mresult\u001b[0m \u001b[0;34m=\u001b[0m \u001b[0mself\u001b[0m\u001b[0;34m.\u001b[0m\u001b[0m_slow_forward\u001b[0m\u001b[0;34m(\u001b[0m\u001b[0;34m*\u001b[0m\u001b[0minput\u001b[0m\u001b[0;34m,\u001b[0m \u001b[0;34m**\u001b[0m\u001b[0mkwargs\u001b[0m\u001b[0;34m)\u001b[0m\u001b[0;34m\u001b[0m\u001b[0;34m\u001b[0m\u001b[0m\n\u001b[1;32m    540\u001b[0m         \u001b[0;32melse\u001b[0m\u001b[0;34m:\u001b[0m\u001b[0;34m\u001b[0m\u001b[0;34m\u001b[0m\u001b[0m\n\u001b[0;32m--> 541\u001b[0;31m             \u001b[0mresult\u001b[0m \u001b[0;34m=\u001b[0m \u001b[0mself\u001b[0m\u001b[0;34m.\u001b[0m\u001b[0mforward\u001b[0m\u001b[0;34m(\u001b[0m\u001b[0;34m*\u001b[0m\u001b[0minput\u001b[0m\u001b[0;34m,\u001b[0m \u001b[0;34m**\u001b[0m\u001b[0mkwargs\u001b[0m\u001b[0;34m)\u001b[0m\u001b[0;34m\u001b[0m\u001b[0;34m\u001b[0m\u001b[0m\n\u001b[0m\u001b[1;32m    542\u001b[0m         \u001b[0;32mfor\u001b[0m \u001b[0mhook\u001b[0m \u001b[0;32min\u001b[0m \u001b[0mself\u001b[0m\u001b[0;34m.\u001b[0m\u001b[0m_forward_hooks\u001b[0m\u001b[0;34m.\u001b[0m\u001b[0mvalues\u001b[0m\u001b[0;34m(\u001b[0m\u001b[0;34m)\u001b[0m\u001b[0;34m:\u001b[0m\u001b[0;34m\u001b[0m\u001b[0;34m\u001b[0m\u001b[0m\n\u001b[1;32m    543\u001b[0m             \u001b[0mhook_result\u001b[0m \u001b[0;34m=\u001b[0m \u001b[0mhook\u001b[0m\u001b[0;34m(\u001b[0m\u001b[0mself\u001b[0m\u001b[0;34m,\u001b[0m \u001b[0minput\u001b[0m\u001b[0;34m,\u001b[0m \u001b[0mresult\u001b[0m\u001b[0;34m)\u001b[0m\u001b[0;34m\u001b[0m\u001b[0;34m\u001b[0m\u001b[0m\n",
      "\u001b[0;32m/opt/anaconda3/lib/python3.7/site-packages/pytorch_transformers/modeling_bert.py\u001b[0m in \u001b[0;36mforward\u001b[0;34m(self, hidden_states, attention_mask, head_mask)\u001b[0m\n\u001b[1;32m    407\u001b[0m \u001b[0;34m\u001b[0m\u001b[0m\n\u001b[1;32m    408\u001b[0m     \u001b[0;32mdef\u001b[0m \u001b[0mforward\u001b[0m\u001b[0;34m(\u001b[0m\u001b[0mself\u001b[0m\u001b[0;34m,\u001b[0m \u001b[0mhidden_states\u001b[0m\u001b[0;34m,\u001b[0m \u001b[0mattention_mask\u001b[0m\u001b[0;34m,\u001b[0m \u001b[0mhead_mask\u001b[0m\u001b[0;34m=\u001b[0m\u001b[0;32mNone\u001b[0m\u001b[0;34m)\u001b[0m\u001b[0;34m:\u001b[0m\u001b[0;34m\u001b[0m\u001b[0;34m\u001b[0m\u001b[0m\n\u001b[0;32m--> 409\u001b[0;31m         \u001b[0mattention_outputs\u001b[0m \u001b[0;34m=\u001b[0m \u001b[0mself\u001b[0m\u001b[0;34m.\u001b[0m\u001b[0mattention\u001b[0m\u001b[0;34m(\u001b[0m\u001b[0mhidden_states\u001b[0m\u001b[0;34m,\u001b[0m \u001b[0mattention_mask\u001b[0m\u001b[0;34m,\u001b[0m \u001b[0mhead_mask\u001b[0m\u001b[0;34m)\u001b[0m\u001b[0;34m\u001b[0m\u001b[0;34m\u001b[0m\u001b[0m\n\u001b[0m\u001b[1;32m    410\u001b[0m         \u001b[0mattention_output\u001b[0m \u001b[0;34m=\u001b[0m \u001b[0mattention_outputs\u001b[0m\u001b[0;34m[\u001b[0m\u001b[0;36m0\u001b[0m\u001b[0;34m]\u001b[0m\u001b[0;34m\u001b[0m\u001b[0;34m\u001b[0m\u001b[0m\n\u001b[1;32m    411\u001b[0m         \u001b[0mintermediate_output\u001b[0m \u001b[0;34m=\u001b[0m \u001b[0mself\u001b[0m\u001b[0;34m.\u001b[0m\u001b[0mintermediate\u001b[0m\u001b[0;34m(\u001b[0m\u001b[0mattention_output\u001b[0m\u001b[0;34m)\u001b[0m\u001b[0;34m\u001b[0m\u001b[0;34m\u001b[0m\u001b[0m\n",
      "\u001b[0;32m/opt/anaconda3/lib/python3.7/site-packages/torch/nn/modules/module.py\u001b[0m in \u001b[0;36m__call__\u001b[0;34m(self, *input, **kwargs)\u001b[0m\n\u001b[1;32m    539\u001b[0m             \u001b[0mresult\u001b[0m \u001b[0;34m=\u001b[0m \u001b[0mself\u001b[0m\u001b[0;34m.\u001b[0m\u001b[0m_slow_forward\u001b[0m\u001b[0;34m(\u001b[0m\u001b[0;34m*\u001b[0m\u001b[0minput\u001b[0m\u001b[0;34m,\u001b[0m \u001b[0;34m**\u001b[0m\u001b[0mkwargs\u001b[0m\u001b[0;34m)\u001b[0m\u001b[0;34m\u001b[0m\u001b[0;34m\u001b[0m\u001b[0m\n\u001b[1;32m    540\u001b[0m         \u001b[0;32melse\u001b[0m\u001b[0;34m:\u001b[0m\u001b[0;34m\u001b[0m\u001b[0;34m\u001b[0m\u001b[0m\n\u001b[0;32m--> 541\u001b[0;31m             \u001b[0mresult\u001b[0m \u001b[0;34m=\u001b[0m \u001b[0mself\u001b[0m\u001b[0;34m.\u001b[0m\u001b[0mforward\u001b[0m\u001b[0;34m(\u001b[0m\u001b[0;34m*\u001b[0m\u001b[0minput\u001b[0m\u001b[0;34m,\u001b[0m \u001b[0;34m**\u001b[0m\u001b[0mkwargs\u001b[0m\u001b[0;34m)\u001b[0m\u001b[0;34m\u001b[0m\u001b[0;34m\u001b[0m\u001b[0m\n\u001b[0m\u001b[1;32m    542\u001b[0m         \u001b[0;32mfor\u001b[0m \u001b[0mhook\u001b[0m \u001b[0;32min\u001b[0m \u001b[0mself\u001b[0m\u001b[0;34m.\u001b[0m\u001b[0m_forward_hooks\u001b[0m\u001b[0;34m.\u001b[0m\u001b[0mvalues\u001b[0m\u001b[0;34m(\u001b[0m\u001b[0;34m)\u001b[0m\u001b[0;34m:\u001b[0m\u001b[0;34m\u001b[0m\u001b[0;34m\u001b[0m\u001b[0m\n\u001b[1;32m    543\u001b[0m             \u001b[0mhook_result\u001b[0m \u001b[0;34m=\u001b[0m \u001b[0mhook\u001b[0m\u001b[0;34m(\u001b[0m\u001b[0mself\u001b[0m\u001b[0;34m,\u001b[0m \u001b[0minput\u001b[0m\u001b[0;34m,\u001b[0m \u001b[0mresult\u001b[0m\u001b[0;34m)\u001b[0m\u001b[0;34m\u001b[0m\u001b[0;34m\u001b[0m\u001b[0m\n",
      "\u001b[0;32m/opt/anaconda3/lib/python3.7/site-packages/pytorch_transformers/modeling_bert.py\u001b[0m in \u001b[0;36mforward\u001b[0;34m(self, input_tensor, attention_mask, head_mask)\u001b[0m\n\u001b[1;32m    364\u001b[0m \u001b[0;34m\u001b[0m\u001b[0m\n\u001b[1;32m    365\u001b[0m     \u001b[0;32mdef\u001b[0m \u001b[0mforward\u001b[0m\u001b[0;34m(\u001b[0m\u001b[0mself\u001b[0m\u001b[0;34m,\u001b[0m \u001b[0minput_tensor\u001b[0m\u001b[0;34m,\u001b[0m \u001b[0mattention_mask\u001b[0m\u001b[0;34m,\u001b[0m \u001b[0mhead_mask\u001b[0m\u001b[0;34m=\u001b[0m\u001b[0;32mNone\u001b[0m\u001b[0;34m)\u001b[0m\u001b[0;34m:\u001b[0m\u001b[0;34m\u001b[0m\u001b[0;34m\u001b[0m\u001b[0m\n\u001b[0;32m--> 366\u001b[0;31m         \u001b[0mself_outputs\u001b[0m \u001b[0;34m=\u001b[0m \u001b[0mself\u001b[0m\u001b[0;34m.\u001b[0m\u001b[0mself\u001b[0m\u001b[0;34m(\u001b[0m\u001b[0minput_tensor\u001b[0m\u001b[0;34m,\u001b[0m \u001b[0mattention_mask\u001b[0m\u001b[0;34m,\u001b[0m \u001b[0mhead_mask\u001b[0m\u001b[0;34m)\u001b[0m\u001b[0;34m\u001b[0m\u001b[0;34m\u001b[0m\u001b[0m\n\u001b[0m\u001b[1;32m    367\u001b[0m         \u001b[0mattention_output\u001b[0m \u001b[0;34m=\u001b[0m \u001b[0mself\u001b[0m\u001b[0;34m.\u001b[0m\u001b[0moutput\u001b[0m\u001b[0;34m(\u001b[0m\u001b[0mself_outputs\u001b[0m\u001b[0;34m[\u001b[0m\u001b[0;36m0\u001b[0m\u001b[0;34m]\u001b[0m\u001b[0;34m,\u001b[0m \u001b[0minput_tensor\u001b[0m\u001b[0;34m)\u001b[0m\u001b[0;34m\u001b[0m\u001b[0;34m\u001b[0m\u001b[0m\n\u001b[1;32m    368\u001b[0m         \u001b[0moutputs\u001b[0m \u001b[0;34m=\u001b[0m \u001b[0;34m(\u001b[0m\u001b[0mattention_output\u001b[0m\u001b[0;34m,\u001b[0m\u001b[0;34m)\u001b[0m \u001b[0;34m+\u001b[0m \u001b[0mself_outputs\u001b[0m\u001b[0;34m[\u001b[0m\u001b[0;36m1\u001b[0m\u001b[0;34m:\u001b[0m\u001b[0;34m]\u001b[0m  \u001b[0;31m# add attentions if we output them\u001b[0m\u001b[0;34m\u001b[0m\u001b[0;34m\u001b[0m\u001b[0m\n",
      "\u001b[0;32m/opt/anaconda3/lib/python3.7/site-packages/torch/nn/modules/module.py\u001b[0m in \u001b[0;36m__call__\u001b[0;34m(self, *input, **kwargs)\u001b[0m\n\u001b[1;32m    539\u001b[0m             \u001b[0mresult\u001b[0m \u001b[0;34m=\u001b[0m \u001b[0mself\u001b[0m\u001b[0;34m.\u001b[0m\u001b[0m_slow_forward\u001b[0m\u001b[0;34m(\u001b[0m\u001b[0;34m*\u001b[0m\u001b[0minput\u001b[0m\u001b[0;34m,\u001b[0m \u001b[0;34m**\u001b[0m\u001b[0mkwargs\u001b[0m\u001b[0;34m)\u001b[0m\u001b[0;34m\u001b[0m\u001b[0;34m\u001b[0m\u001b[0m\n\u001b[1;32m    540\u001b[0m         \u001b[0;32melse\u001b[0m\u001b[0;34m:\u001b[0m\u001b[0;34m\u001b[0m\u001b[0;34m\u001b[0m\u001b[0m\n\u001b[0;32m--> 541\u001b[0;31m             \u001b[0mresult\u001b[0m \u001b[0;34m=\u001b[0m \u001b[0mself\u001b[0m\u001b[0;34m.\u001b[0m\u001b[0mforward\u001b[0m\u001b[0;34m(\u001b[0m\u001b[0;34m*\u001b[0m\u001b[0minput\u001b[0m\u001b[0;34m,\u001b[0m \u001b[0;34m**\u001b[0m\u001b[0mkwargs\u001b[0m\u001b[0;34m)\u001b[0m\u001b[0;34m\u001b[0m\u001b[0;34m\u001b[0m\u001b[0m\n\u001b[0m\u001b[1;32m    542\u001b[0m         \u001b[0;32mfor\u001b[0m \u001b[0mhook\u001b[0m \u001b[0;32min\u001b[0m \u001b[0mself\u001b[0m\u001b[0;34m.\u001b[0m\u001b[0m_forward_hooks\u001b[0m\u001b[0;34m.\u001b[0m\u001b[0mvalues\u001b[0m\u001b[0;34m(\u001b[0m\u001b[0;34m)\u001b[0m\u001b[0;34m:\u001b[0m\u001b[0;34m\u001b[0m\u001b[0;34m\u001b[0m\u001b[0m\n\u001b[1;32m    543\u001b[0m             \u001b[0mhook_result\u001b[0m \u001b[0;34m=\u001b[0m \u001b[0mhook\u001b[0m\u001b[0;34m(\u001b[0m\u001b[0mself\u001b[0m\u001b[0;34m,\u001b[0m \u001b[0minput\u001b[0m\u001b[0;34m,\u001b[0m \u001b[0mresult\u001b[0m\u001b[0;34m)\u001b[0m\u001b[0;34m\u001b[0m\u001b[0;34m\u001b[0m\u001b[0m\n",
      "\u001b[0;32m/opt/anaconda3/lib/python3.7/site-packages/pytorch_transformers/modeling_bert.py\u001b[0m in \u001b[0;36mforward\u001b[0;34m(self, hidden_states, attention_mask, head_mask)\u001b[0m\n\u001b[1;32m    285\u001b[0m     \u001b[0;32mdef\u001b[0m \u001b[0mforward\u001b[0m\u001b[0;34m(\u001b[0m\u001b[0mself\u001b[0m\u001b[0;34m,\u001b[0m \u001b[0mhidden_states\u001b[0m\u001b[0;34m,\u001b[0m \u001b[0mattention_mask\u001b[0m\u001b[0;34m,\u001b[0m \u001b[0mhead_mask\u001b[0m\u001b[0;34m=\u001b[0m\u001b[0;32mNone\u001b[0m\u001b[0;34m)\u001b[0m\u001b[0;34m:\u001b[0m\u001b[0;34m\u001b[0m\u001b[0;34m\u001b[0m\u001b[0m\n\u001b[1;32m    286\u001b[0m         \u001b[0mmixed_query_layer\u001b[0m \u001b[0;34m=\u001b[0m \u001b[0mself\u001b[0m\u001b[0;34m.\u001b[0m\u001b[0mquery\u001b[0m\u001b[0;34m(\u001b[0m\u001b[0mhidden_states\u001b[0m\u001b[0;34m)\u001b[0m\u001b[0;34m\u001b[0m\u001b[0;34m\u001b[0m\u001b[0m\n\u001b[0;32m--> 287\u001b[0;31m         \u001b[0mmixed_key_layer\u001b[0m \u001b[0;34m=\u001b[0m \u001b[0mself\u001b[0m\u001b[0;34m.\u001b[0m\u001b[0mkey\u001b[0m\u001b[0;34m(\u001b[0m\u001b[0mhidden_states\u001b[0m\u001b[0;34m)\u001b[0m\u001b[0;34m\u001b[0m\u001b[0;34m\u001b[0m\u001b[0m\n\u001b[0m\u001b[1;32m    288\u001b[0m         \u001b[0mmixed_value_layer\u001b[0m \u001b[0;34m=\u001b[0m \u001b[0mself\u001b[0m\u001b[0;34m.\u001b[0m\u001b[0mvalue\u001b[0m\u001b[0;34m(\u001b[0m\u001b[0mhidden_states\u001b[0m\u001b[0;34m)\u001b[0m\u001b[0;34m\u001b[0m\u001b[0;34m\u001b[0m\u001b[0m\n\u001b[1;32m    289\u001b[0m \u001b[0;34m\u001b[0m\u001b[0m\n",
      "\u001b[0;32m/opt/anaconda3/lib/python3.7/site-packages/torch/nn/modules/module.py\u001b[0m in \u001b[0;36m__call__\u001b[0;34m(self, *input, **kwargs)\u001b[0m\n\u001b[1;32m    539\u001b[0m             \u001b[0mresult\u001b[0m \u001b[0;34m=\u001b[0m \u001b[0mself\u001b[0m\u001b[0;34m.\u001b[0m\u001b[0m_slow_forward\u001b[0m\u001b[0;34m(\u001b[0m\u001b[0;34m*\u001b[0m\u001b[0minput\u001b[0m\u001b[0;34m,\u001b[0m \u001b[0;34m**\u001b[0m\u001b[0mkwargs\u001b[0m\u001b[0;34m)\u001b[0m\u001b[0;34m\u001b[0m\u001b[0;34m\u001b[0m\u001b[0m\n\u001b[1;32m    540\u001b[0m         \u001b[0;32melse\u001b[0m\u001b[0;34m:\u001b[0m\u001b[0;34m\u001b[0m\u001b[0;34m\u001b[0m\u001b[0m\n\u001b[0;32m--> 541\u001b[0;31m             \u001b[0mresult\u001b[0m \u001b[0;34m=\u001b[0m \u001b[0mself\u001b[0m\u001b[0;34m.\u001b[0m\u001b[0mforward\u001b[0m\u001b[0;34m(\u001b[0m\u001b[0;34m*\u001b[0m\u001b[0minput\u001b[0m\u001b[0;34m,\u001b[0m \u001b[0;34m**\u001b[0m\u001b[0mkwargs\u001b[0m\u001b[0;34m)\u001b[0m\u001b[0;34m\u001b[0m\u001b[0;34m\u001b[0m\u001b[0m\n\u001b[0m\u001b[1;32m    542\u001b[0m         \u001b[0;32mfor\u001b[0m \u001b[0mhook\u001b[0m \u001b[0;32min\u001b[0m \u001b[0mself\u001b[0m\u001b[0;34m.\u001b[0m\u001b[0m_forward_hooks\u001b[0m\u001b[0;34m.\u001b[0m\u001b[0mvalues\u001b[0m\u001b[0;34m(\u001b[0m\u001b[0;34m)\u001b[0m\u001b[0;34m:\u001b[0m\u001b[0;34m\u001b[0m\u001b[0;34m\u001b[0m\u001b[0m\n\u001b[1;32m    543\u001b[0m             \u001b[0mhook_result\u001b[0m \u001b[0;34m=\u001b[0m \u001b[0mhook\u001b[0m\u001b[0;34m(\u001b[0m\u001b[0mself\u001b[0m\u001b[0;34m,\u001b[0m \u001b[0minput\u001b[0m\u001b[0;34m,\u001b[0m \u001b[0mresult\u001b[0m\u001b[0;34m)\u001b[0m\u001b[0;34m\u001b[0m\u001b[0;34m\u001b[0m\u001b[0m\n",
      "\u001b[0;32m/opt/anaconda3/lib/python3.7/site-packages/torch/nn/modules/linear.py\u001b[0m in \u001b[0;36mforward\u001b[0;34m(self, input)\u001b[0m\n\u001b[1;32m     85\u001b[0m \u001b[0;34m\u001b[0m\u001b[0m\n\u001b[1;32m     86\u001b[0m     \u001b[0;32mdef\u001b[0m \u001b[0mforward\u001b[0m\u001b[0;34m(\u001b[0m\u001b[0mself\u001b[0m\u001b[0;34m,\u001b[0m \u001b[0minput\u001b[0m\u001b[0;34m)\u001b[0m\u001b[0;34m:\u001b[0m\u001b[0;34m\u001b[0m\u001b[0;34m\u001b[0m\u001b[0m\n\u001b[0;32m---> 87\u001b[0;31m         \u001b[0;32mreturn\u001b[0m \u001b[0mF\u001b[0m\u001b[0;34m.\u001b[0m\u001b[0mlinear\u001b[0m\u001b[0;34m(\u001b[0m\u001b[0minput\u001b[0m\u001b[0;34m,\u001b[0m \u001b[0mself\u001b[0m\u001b[0;34m.\u001b[0m\u001b[0mweight\u001b[0m\u001b[0;34m,\u001b[0m \u001b[0mself\u001b[0m\u001b[0;34m.\u001b[0m\u001b[0mbias\u001b[0m\u001b[0;34m)\u001b[0m\u001b[0;34m\u001b[0m\u001b[0;34m\u001b[0m\u001b[0m\n\u001b[0m\u001b[1;32m     88\u001b[0m \u001b[0;34m\u001b[0m\u001b[0m\n\u001b[1;32m     89\u001b[0m     \u001b[0;32mdef\u001b[0m \u001b[0mextra_repr\u001b[0m\u001b[0;34m(\u001b[0m\u001b[0mself\u001b[0m\u001b[0;34m)\u001b[0m\u001b[0;34m:\u001b[0m\u001b[0;34m\u001b[0m\u001b[0;34m\u001b[0m\u001b[0m\n",
      "\u001b[0;32m/opt/anaconda3/lib/python3.7/site-packages/torch/nn/functional.py\u001b[0m in \u001b[0;36mlinear\u001b[0;34m(input, weight, bias)\u001b[0m\n\u001b[1;32m   1370\u001b[0m         \u001b[0mret\u001b[0m \u001b[0;34m=\u001b[0m \u001b[0mtorch\u001b[0m\u001b[0;34m.\u001b[0m\u001b[0maddmm\u001b[0m\u001b[0;34m(\u001b[0m\u001b[0mbias\u001b[0m\u001b[0;34m,\u001b[0m \u001b[0minput\u001b[0m\u001b[0;34m,\u001b[0m \u001b[0mweight\u001b[0m\u001b[0;34m.\u001b[0m\u001b[0mt\u001b[0m\u001b[0;34m(\u001b[0m\u001b[0;34m)\u001b[0m\u001b[0;34m)\u001b[0m\u001b[0;34m\u001b[0m\u001b[0;34m\u001b[0m\u001b[0m\n\u001b[1;32m   1371\u001b[0m     \u001b[0;32melse\u001b[0m\u001b[0;34m:\u001b[0m\u001b[0;34m\u001b[0m\u001b[0;34m\u001b[0m\u001b[0m\n\u001b[0;32m-> 1372\u001b[0;31m         \u001b[0moutput\u001b[0m \u001b[0;34m=\u001b[0m \u001b[0minput\u001b[0m\u001b[0;34m.\u001b[0m\u001b[0mmatmul\u001b[0m\u001b[0;34m(\u001b[0m\u001b[0mweight\u001b[0m\u001b[0;34m.\u001b[0m\u001b[0mt\u001b[0m\u001b[0;34m(\u001b[0m\u001b[0;34m)\u001b[0m\u001b[0;34m)\u001b[0m\u001b[0;34m\u001b[0m\u001b[0;34m\u001b[0m\u001b[0m\n\u001b[0m\u001b[1;32m   1373\u001b[0m         \u001b[0;32mif\u001b[0m \u001b[0mbias\u001b[0m \u001b[0;32mis\u001b[0m \u001b[0;32mnot\u001b[0m \u001b[0;32mNone\u001b[0m\u001b[0;34m:\u001b[0m\u001b[0;34m\u001b[0m\u001b[0;34m\u001b[0m\u001b[0m\n\u001b[1;32m   1374\u001b[0m             \u001b[0moutput\u001b[0m \u001b[0;34m+=\u001b[0m \u001b[0mbias\u001b[0m\u001b[0;34m\u001b[0m\u001b[0;34m\u001b[0m\u001b[0m\n",
      "\u001b[0;31mKeyboardInterrupt\u001b[0m: "
     ]
    }
   ],
   "source": [
    "for train_idx, val_idx in StratifiedKFold(n_splits=5,  shuffle=True).split(df, df['product']):\n",
    "    train = df.iloc[train_idx, :]\n",
    "    val = df.iloc[val_idx, :]\n",
    "    bert_model = BertForSequenceClassification.from_pretrained(config.bert_model_name, num_labels= 18 )\n",
    "    \n",
    "    databunch = TextDataBunch.from_df(CUSTOMER, train, val,\n",
    "                      tokenizer=fastai_tokenizer,\n",
    "                      vocab=fastai_bert_vocab,\n",
    "                      include_bos=False,\n",
    "                      include_eos=False,\n",
    "                      text_cols= 'complaint',\n",
    "                      label_cols= 'product',\n",
    "                      bs= 64,\n",
    "                      collate_fn=partial(pad_collate, pad_first=False, pad_idx=0),\n",
    "                 )\n",
    "    \n",
    "    learner = Learner(\n",
    "    databunch, bert_model,\n",
    "    loss_func=loss_func, metrics = accuracy)\n",
    "    learner.fit_one_cycle(6, 1.5 * 1e-04)\n",
    "\n",
    "\n",
    "    _, accu = learner.validate()\n",
    "    accus.append(accu)"
   ]
  },
  {
   "cell_type": "code",
   "execution_count": 25,
   "metadata": {
    "ExecuteTime": {
     "end_time": "2020-01-09T02:18:42.490581Z",
     "start_time": "2020-01-09T02:18:42.460297Z"
    }
   },
   "outputs": [],
   "source": [
    "bert_customer_accu_5 = pd.DataFrame({\n",
    "    'model_name' :['Bert'] * 5,\n",
    "    'accuracy' : accus\n",
    "})\n",
    "\n",
    "bert_customer_accu_5.to_csv(CUSTOMER/'bert_customer__accu_5.csv', index = False)\n",
    "bert_customer__accu_5 = pd.read_csv(CUSTOMER/'bert_customer__accu_5.csv')"
   ]
  },
  {
   "cell_type": "code",
   "execution_count": 26,
   "metadata": {
    "ExecuteTime": {
     "end_time": "2020-01-09T02:18:52.592479Z",
     "start_time": "2020-01-09T02:18:52.563946Z"
    }
   },
   "outputs": [
    {
     "data": {
      "text/html": [
       "<div>\n",
       "<style scoped>\n",
       "    .dataframe tbody tr th:only-of-type {\n",
       "        vertical-align: middle;\n",
       "    }\n",
       "\n",
       "    .dataframe tbody tr th {\n",
       "        vertical-align: top;\n",
       "    }\n",
       "\n",
       "    .dataframe thead th {\n",
       "        text-align: right;\n",
       "    }\n",
       "</style>\n",
       "<table border=\"1\" class=\"dataframe\">\n",
       "  <thead>\n",
       "    <tr style=\"text-align: right;\">\n",
       "      <th></th>\n",
       "      <th>model_name</th>\n",
       "      <th>accuracy</th>\n",
       "    </tr>\n",
       "  </thead>\n",
       "  <tbody>\n",
       "    <tr>\n",
       "      <th>0</th>\n",
       "      <td>Bert</td>\n",
       "      <td>0.7280</td>\n",
       "    </tr>\n",
       "    <tr>\n",
       "      <th>1</th>\n",
       "      <td>Bert</td>\n",
       "      <td>0.7310</td>\n",
       "    </tr>\n",
       "    <tr>\n",
       "      <th>2</th>\n",
       "      <td>Bert</td>\n",
       "      <td>0.7280</td>\n",
       "    </tr>\n",
       "    <tr>\n",
       "      <th>3</th>\n",
       "      <td>Bert</td>\n",
       "      <td>0.7352</td>\n",
       "    </tr>\n",
       "    <tr>\n",
       "      <th>4</th>\n",
       "      <td>Bert</td>\n",
       "      <td>0.7248</td>\n",
       "    </tr>\n",
       "  </tbody>\n",
       "</table>\n",
       "</div>"
      ],
      "text/plain": [
       "  model_name  accuracy\n",
       "0       Bert    0.7280\n",
       "1       Bert    0.7310\n",
       "2       Bert    0.7280\n",
       "3       Bert    0.7352\n",
       "4       Bert    0.7248"
      ]
     },
     "execution_count": 26,
     "metadata": {},
     "output_type": "execute_result"
    }
   ],
   "source": [
    "bert_customer__accu_5"
   ]
  },
  {
   "cell_type": "code",
   "execution_count": 22,
   "metadata": {
    "ExecuteTime": {
     "end_time": "2020-01-09T02:17:37.121037Z",
     "start_time": "2020-01-09T02:17:37.096603Z"
    }
   },
   "outputs": [],
   "source": [
    "accus = [0.728, 0.731, 0.7280, 0.7352, 0.7248]"
   ]
  },
  {
   "cell_type": "markdown",
   "metadata": {
    "ExecuteTime": {
     "end_time": "2020-01-07T22:27:16.742778Z",
     "start_time": "2020-01-07T22:27:16.714680Z"
    }
   },
   "source": [
    "## Evaluate algorithums * training size across datasets"
   ]
  },
  {
   "cell_type": "markdown",
   "metadata": {
    "ExecuteTime": {
     "end_time": "2020-01-08T00:44:24.605194Z",
     "start_time": "2020-01-07T23:29:39.689Z"
    }
   },
   "source": [
    "#### Ag_news"
   ]
  },
  {
   "cell_type": "markdown",
   "metadata": {
    "ExecuteTime": {
     "end_time": "2020-01-08T03:21:35.367280Z",
     "start_time": "2020-01-08T03:21:35.342520Z"
    }
   },
   "source": [
    "##### ML models"
   ]
  },
  {
   "cell_type": "code",
   "execution_count": 24,
   "metadata": {
    "ExecuteTime": {
     "end_time": "2020-01-09T09:59:00.410912Z",
     "start_time": "2020-01-09T09:59:00.385936Z"
    }
   },
   "outputs": [],
   "source": [
    "# export\n",
    "models = [RandomForestClassifier(n_estimators=200, max_depth=3, random_state=0),\n",
    "          LinearSVC(),\n",
    "          MultinomialNB(),\n",
    "          LogisticRegression(random_state=0, max_iter= 200)]\n",
    "\n",
    "\n"
   ]
  },
  {
   "cell_type": "code",
   "execution_count": 25,
   "metadata": {
    "ExecuteTime": {
     "end_time": "2020-01-09T09:59:01.329730Z",
     "start_time": "2020-01-09T09:59:01.304956Z"
    }
   },
   "outputs": [],
   "source": [
    "df = AG_NEWS_TRAIN"
   ]
  },
  {
   "cell_type": "code",
   "execution_count": 20,
   "metadata": {
    "ExecuteTime": {
     "end_time": "2020-01-08T04:40:24.290864Z",
     "start_time": "2020-01-08T04:40:21.750034Z"
    }
   },
   "outputs": [],
   "source": [
    "# Set the global vars for this dataset for diverse algorithums\n",
    "df['category_id'] = df['class'].factorize()[0]\n",
    "\n",
    "category_id_df = df[['class', 'category_id']\n",
    "                    ].drop_duplicates().sort_values('category_id')\n",
    "category_to_id = dict(category_id_df.values)\n",
    "id_to_category = {v: k for k, v in category_to_id.items()}\n",
    "\n",
    "tfidf = TfidfVectorizer(sublinear_tf=True, norm='l2', min_df=5,\n",
    "                        encoding='latin-1', ngram_range=(1, 3), stop_words='english')\n",
    "\n",
    "# y_test has 2000 in size\n",
    "features = tfidf.fit_transform(df.describ).toarray()\n",
    "labels = df['class']\n",
    "\n",
    "x_train, x_test, y_train, y_test = train_test_split(features, labels, test_size=2000, random_state=0)\n"
   ]
  },
  {
   "cell_type": "code",
   "execution_count": 27,
   "metadata": {
    "ExecuteTime": {
     "end_time": "2020-01-08T09:23:19.782375Z",
     "start_time": "2020-01-08T09:23:19.753289Z"
    }
   },
   "outputs": [],
   "source": [
    "# export\n",
    "def algo_training_size_looper(size: list, x_train, y_train, x_test, y_test):\n",
    "    \"\"\"Loop over a dataset with varying training size and algorithums and returns a dataframe.\n",
    "    \n",
    "    This function loops over the combination of algorithum and different training size.\n",
    "    This function outputs a dataframe with three columns 'model_name', 'training_size', and 'accuracy.'\n",
    "\n",
    "    \"\"\"\n",
    "    \n",
    "    entries = []\n",
    "    for n in size:\n",
    "        # sub sample n first\n",
    "\n",
    "\n",
    "        boot_num = 6\n",
    "        \n",
    "        for i in range(boot_num):\n",
    "             for model in models:\n",
    "                    \n",
    "                index = np.random.randint(0, len(x_train), n)\n",
    "                x_train_sub = x_train[index]\n",
    "                y_train_sub = [list(y_train)[i] for i in index]\n",
    "                \n",
    "                model_name = model.__class__.__name__\n",
    "            \n",
    "                model.fit(x_train_sub, y_train_sub)\n",
    "                y_pred = model.predict(x_test)\n",
    "                accuracy = accuracy_score(y_pred, y_test)\n",
    "\n",
    "                print(\n",
    "                    f'finished {model_name}, {i}th bootstrap of size{n}')\n",
    "                entries.append((model_name, n, accuracy))\n",
    "                \n",
    "    return pd.DataFrame(entries, columns=['model_name', 'training_size', 'accuracy'])"
   ]
  },
  {
   "cell_type": "code",
   "execution_count": 26,
   "metadata": {
    "ExecuteTime": {
     "end_time": "2020-01-08T04:59:57.321574Z",
     "start_time": "2020-01-08T04:49:37.153096Z"
    },
    "scrolled": false
   },
   "outputs": [
    {
     "name": "stdout",
     "output_type": "stream",
     "text": [
      "finished RandomForestClassifier, 0th bootstrap of size100\n",
      "finished LinearSVC, 0th bootstrap of size100\n",
      "finished MultinomialNB, 0th bootstrap of size100\n",
      "finished LogisticRegression, 0th bootstrap of size100\n",
      "finished RandomForestClassifier, 1th bootstrap of size100\n",
      "finished LinearSVC, 1th bootstrap of size100\n",
      "finished MultinomialNB, 1th bootstrap of size100\n",
      "finished LogisticRegression, 1th bootstrap of size100\n",
      "finished RandomForestClassifier, 2th bootstrap of size100\n",
      "finished LinearSVC, 2th bootstrap of size100\n",
      "finished MultinomialNB, 2th bootstrap of size100\n",
      "finished LogisticRegression, 2th bootstrap of size100\n",
      "finished RandomForestClassifier, 3th bootstrap of size100\n",
      "finished LinearSVC, 3th bootstrap of size100\n",
      "finished MultinomialNB, 3th bootstrap of size100\n",
      "finished LogisticRegression, 3th bootstrap of size100\n",
      "finished RandomForestClassifier, 4th bootstrap of size100\n",
      "finished LinearSVC, 4th bootstrap of size100\n",
      "finished MultinomialNB, 4th bootstrap of size100\n",
      "finished LogisticRegression, 4th bootstrap of size100\n",
      "finished RandomForestClassifier, 5th bootstrap of size100\n",
      "finished LinearSVC, 5th bootstrap of size100\n",
      "finished MultinomialNB, 5th bootstrap of size100\n",
      "finished LogisticRegression, 5th bootstrap of size100\n",
      "finished RandomForestClassifier, 6th bootstrap of size100\n",
      "finished LinearSVC, 6th bootstrap of size100\n",
      "finished MultinomialNB, 6th bootstrap of size100\n",
      "finished LogisticRegression, 6th bootstrap of size100\n",
      "finished RandomForestClassifier, 7th bootstrap of size100\n",
      "finished LinearSVC, 7th bootstrap of size100\n",
      "finished MultinomialNB, 7th bootstrap of size100\n",
      "finished LogisticRegression, 7th bootstrap of size100\n",
      "finished RandomForestClassifier, 8th bootstrap of size100\n",
      "finished LinearSVC, 8th bootstrap of size100\n",
      "finished MultinomialNB, 8th bootstrap of size100\n",
      "finished LogisticRegression, 8th bootstrap of size100\n",
      "finished RandomForestClassifier, 9th bootstrap of size100\n",
      "finished LinearSVC, 9th bootstrap of size100\n",
      "finished MultinomialNB, 9th bootstrap of size100\n",
      "finished LogisticRegression, 9th bootstrap of size100\n",
      "finished RandomForestClassifier, 0th bootstrap of size200\n",
      "finished LinearSVC, 0th bootstrap of size200\n",
      "finished MultinomialNB, 0th bootstrap of size200\n",
      "finished LogisticRegression, 0th bootstrap of size200\n",
      "finished RandomForestClassifier, 1th bootstrap of size200\n",
      "finished LinearSVC, 1th bootstrap of size200\n",
      "finished MultinomialNB, 1th bootstrap of size200\n",
      "finished LogisticRegression, 1th bootstrap of size200\n",
      "finished RandomForestClassifier, 2th bootstrap of size200\n",
      "finished LinearSVC, 2th bootstrap of size200\n",
      "finished MultinomialNB, 2th bootstrap of size200\n",
      "finished LogisticRegression, 2th bootstrap of size200\n",
      "finished RandomForestClassifier, 3th bootstrap of size200\n",
      "finished LinearSVC, 3th bootstrap of size200\n",
      "finished MultinomialNB, 3th bootstrap of size200\n",
      "finished LogisticRegression, 3th bootstrap of size200\n",
      "finished RandomForestClassifier, 4th bootstrap of size200\n",
      "finished LinearSVC, 4th bootstrap of size200\n",
      "finished MultinomialNB, 4th bootstrap of size200\n",
      "finished LogisticRegression, 4th bootstrap of size200\n",
      "finished RandomForestClassifier, 5th bootstrap of size200\n",
      "finished LinearSVC, 5th bootstrap of size200\n",
      "finished MultinomialNB, 5th bootstrap of size200\n",
      "finished LogisticRegression, 5th bootstrap of size200\n",
      "finished RandomForestClassifier, 6th bootstrap of size200\n",
      "finished LinearSVC, 6th bootstrap of size200\n",
      "finished MultinomialNB, 6th bootstrap of size200\n",
      "finished LogisticRegression, 6th bootstrap of size200\n",
      "finished RandomForestClassifier, 7th bootstrap of size200\n",
      "finished LinearSVC, 7th bootstrap of size200\n",
      "finished MultinomialNB, 7th bootstrap of size200\n",
      "finished LogisticRegression, 7th bootstrap of size200\n",
      "finished RandomForestClassifier, 8th bootstrap of size200\n",
      "finished LinearSVC, 8th bootstrap of size200\n",
      "finished MultinomialNB, 8th bootstrap of size200\n",
      "finished LogisticRegression, 8th bootstrap of size200\n",
      "finished RandomForestClassifier, 9th bootstrap of size200\n",
      "finished LinearSVC, 9th bootstrap of size200\n",
      "finished MultinomialNB, 9th bootstrap of size200\n",
      "finished LogisticRegression, 9th bootstrap of size200\n",
      "finished RandomForestClassifier, 0th bootstrap of size400\n",
      "finished LinearSVC, 0th bootstrap of size400\n",
      "finished MultinomialNB, 0th bootstrap of size400\n",
      "finished LogisticRegression, 0th bootstrap of size400\n",
      "finished RandomForestClassifier, 1th bootstrap of size400\n",
      "finished LinearSVC, 1th bootstrap of size400\n",
      "finished MultinomialNB, 1th bootstrap of size400\n",
      "finished LogisticRegression, 1th bootstrap of size400\n",
      "finished RandomForestClassifier, 2th bootstrap of size400\n",
      "finished LinearSVC, 2th bootstrap of size400\n",
      "finished MultinomialNB, 2th bootstrap of size400\n",
      "finished LogisticRegression, 2th bootstrap of size400\n",
      "finished RandomForestClassifier, 3th bootstrap of size400\n",
      "finished LinearSVC, 3th bootstrap of size400\n",
      "finished MultinomialNB, 3th bootstrap of size400\n",
      "finished LogisticRegression, 3th bootstrap of size400\n",
      "finished RandomForestClassifier, 4th bootstrap of size400\n",
      "finished LinearSVC, 4th bootstrap of size400\n",
      "finished MultinomialNB, 4th bootstrap of size400\n",
      "finished LogisticRegression, 4th bootstrap of size400\n",
      "finished RandomForestClassifier, 5th bootstrap of size400\n",
      "finished LinearSVC, 5th bootstrap of size400\n",
      "finished MultinomialNB, 5th bootstrap of size400\n",
      "finished LogisticRegression, 5th bootstrap of size400\n",
      "finished RandomForestClassifier, 6th bootstrap of size400\n",
      "finished LinearSVC, 6th bootstrap of size400\n",
      "finished MultinomialNB, 6th bootstrap of size400\n",
      "finished LogisticRegression, 6th bootstrap of size400\n",
      "finished RandomForestClassifier, 7th bootstrap of size400\n",
      "finished LinearSVC, 7th bootstrap of size400\n",
      "finished MultinomialNB, 7th bootstrap of size400\n",
      "finished LogisticRegression, 7th bootstrap of size400\n",
      "finished RandomForestClassifier, 8th bootstrap of size400\n",
      "finished LinearSVC, 8th bootstrap of size400\n",
      "finished MultinomialNB, 8th bootstrap of size400\n",
      "finished LogisticRegression, 8th bootstrap of size400\n",
      "finished RandomForestClassifier, 9th bootstrap of size400\n",
      "finished LinearSVC, 9th bootstrap of size400\n",
      "finished MultinomialNB, 9th bootstrap of size400\n",
      "finished LogisticRegression, 9th bootstrap of size400\n",
      "finished RandomForestClassifier, 0th bootstrap of size800\n",
      "finished LinearSVC, 0th bootstrap of size800\n",
      "finished MultinomialNB, 0th bootstrap of size800\n",
      "finished LogisticRegression, 0th bootstrap of size800\n",
      "finished RandomForestClassifier, 1th bootstrap of size800\n",
      "finished LinearSVC, 1th bootstrap of size800\n",
      "finished MultinomialNB, 1th bootstrap of size800\n",
      "finished LogisticRegression, 1th bootstrap of size800\n",
      "finished RandomForestClassifier, 2th bootstrap of size800\n",
      "finished LinearSVC, 2th bootstrap of size800\n",
      "finished MultinomialNB, 2th bootstrap of size800\n",
      "finished LogisticRegression, 2th bootstrap of size800\n",
      "finished RandomForestClassifier, 3th bootstrap of size800\n",
      "finished LinearSVC, 3th bootstrap of size800\n",
      "finished MultinomialNB, 3th bootstrap of size800\n",
      "finished LogisticRegression, 3th bootstrap of size800\n",
      "finished RandomForestClassifier, 4th bootstrap of size800\n",
      "finished LinearSVC, 4th bootstrap of size800\n",
      "finished MultinomialNB, 4th bootstrap of size800\n",
      "finished LogisticRegression, 4th bootstrap of size800\n",
      "finished RandomForestClassifier, 5th bootstrap of size800\n",
      "finished LinearSVC, 5th bootstrap of size800\n",
      "finished MultinomialNB, 5th bootstrap of size800\n",
      "finished LogisticRegression, 5th bootstrap of size800\n",
      "finished RandomForestClassifier, 6th bootstrap of size800\n",
      "finished LinearSVC, 6th bootstrap of size800\n",
      "finished MultinomialNB, 6th bootstrap of size800\n",
      "finished LogisticRegression, 6th bootstrap of size800\n",
      "finished RandomForestClassifier, 7th bootstrap of size800\n",
      "finished LinearSVC, 7th bootstrap of size800\n",
      "finished MultinomialNB, 7th bootstrap of size800\n",
      "finished LogisticRegression, 7th bootstrap of size800\n",
      "finished RandomForestClassifier, 8th bootstrap of size800\n",
      "finished LinearSVC, 8th bootstrap of size800\n",
      "finished MultinomialNB, 8th bootstrap of size800\n",
      "finished LogisticRegression, 8th bootstrap of size800\n",
      "finished RandomForestClassifier, 9th bootstrap of size800\n",
      "finished LinearSVC, 9th bootstrap of size800\n",
      "finished MultinomialNB, 9th bootstrap of size800\n",
      "finished LogisticRegression, 9th bootstrap of size800\n"
     ]
    },
    {
     "name": "stdout",
     "output_type": "stream",
     "text": [
      "finished RandomForestClassifier, 0th bootstrap of size1600\n",
      "finished LinearSVC, 0th bootstrap of size1600\n",
      "finished MultinomialNB, 0th bootstrap of size1600\n",
      "finished LogisticRegression, 0th bootstrap of size1600\n",
      "finished RandomForestClassifier, 1th bootstrap of size1600\n",
      "finished LinearSVC, 1th bootstrap of size1600\n",
      "finished MultinomialNB, 1th bootstrap of size1600\n",
      "finished LogisticRegression, 1th bootstrap of size1600\n",
      "finished RandomForestClassifier, 2th bootstrap of size1600\n",
      "finished LinearSVC, 2th bootstrap of size1600\n",
      "finished MultinomialNB, 2th bootstrap of size1600\n",
      "finished LogisticRegression, 2th bootstrap of size1600\n",
      "finished RandomForestClassifier, 3th bootstrap of size1600\n",
      "finished LinearSVC, 3th bootstrap of size1600\n",
      "finished MultinomialNB, 3th bootstrap of size1600\n",
      "finished LogisticRegression, 3th bootstrap of size1600\n",
      "finished RandomForestClassifier, 4th bootstrap of size1600\n",
      "finished LinearSVC, 4th bootstrap of size1600\n",
      "finished MultinomialNB, 4th bootstrap of size1600\n",
      "finished LogisticRegression, 4th bootstrap of size1600\n",
      "finished RandomForestClassifier, 5th bootstrap of size1600\n",
      "finished LinearSVC, 5th bootstrap of size1600\n",
      "finished MultinomialNB, 5th bootstrap of size1600\n",
      "finished LogisticRegression, 5th bootstrap of size1600\n",
      "finished RandomForestClassifier, 6th bootstrap of size1600\n",
      "finished LinearSVC, 6th bootstrap of size1600\n",
      "finished MultinomialNB, 6th bootstrap of size1600\n",
      "finished LogisticRegression, 6th bootstrap of size1600\n",
      "finished RandomForestClassifier, 7th bootstrap of size1600\n",
      "finished LinearSVC, 7th bootstrap of size1600\n",
      "finished MultinomialNB, 7th bootstrap of size1600\n",
      "finished LogisticRegression, 7th bootstrap of size1600\n",
      "finished RandomForestClassifier, 8th bootstrap of size1600\n",
      "finished LinearSVC, 8th bootstrap of size1600\n",
      "finished MultinomialNB, 8th bootstrap of size1600\n",
      "finished LogisticRegression, 8th bootstrap of size1600\n",
      "finished RandomForestClassifier, 9th bootstrap of size1600\n",
      "finished LinearSVC, 9th bootstrap of size1600\n",
      "finished MultinomialNB, 9th bootstrap of size1600\n",
      "finished LogisticRegression, 9th bootstrap of size1600\n",
      "finished RandomForestClassifier, 0th bootstrap of size3200\n",
      "finished LinearSVC, 0th bootstrap of size3200\n",
      "finished MultinomialNB, 0th bootstrap of size3200\n",
      "finished LogisticRegression, 0th bootstrap of size3200\n",
      "finished RandomForestClassifier, 1th bootstrap of size3200\n",
      "finished LinearSVC, 1th bootstrap of size3200\n",
      "finished MultinomialNB, 1th bootstrap of size3200\n",
      "finished LogisticRegression, 1th bootstrap of size3200\n",
      "finished RandomForestClassifier, 2th bootstrap of size3200\n",
      "finished LinearSVC, 2th bootstrap of size3200\n",
      "finished MultinomialNB, 2th bootstrap of size3200\n",
      "finished LogisticRegression, 2th bootstrap of size3200\n",
      "finished RandomForestClassifier, 3th bootstrap of size3200\n",
      "finished LinearSVC, 3th bootstrap of size3200\n",
      "finished MultinomialNB, 3th bootstrap of size3200\n",
      "finished LogisticRegression, 3th bootstrap of size3200\n",
      "finished RandomForestClassifier, 4th bootstrap of size3200\n",
      "finished LinearSVC, 4th bootstrap of size3200\n",
      "finished MultinomialNB, 4th bootstrap of size3200\n",
      "finished LogisticRegression, 4th bootstrap of size3200\n",
      "finished RandomForestClassifier, 5th bootstrap of size3200\n",
      "finished LinearSVC, 5th bootstrap of size3200\n",
      "finished MultinomialNB, 5th bootstrap of size3200\n",
      "finished LogisticRegression, 5th bootstrap of size3200\n",
      "finished RandomForestClassifier, 6th bootstrap of size3200\n",
      "finished LinearSVC, 6th bootstrap of size3200\n",
      "finished MultinomialNB, 6th bootstrap of size3200\n",
      "finished LogisticRegression, 6th bootstrap of size3200\n",
      "finished RandomForestClassifier, 7th bootstrap of size3200\n",
      "finished LinearSVC, 7th bootstrap of size3200\n",
      "finished MultinomialNB, 7th bootstrap of size3200\n",
      "finished LogisticRegression, 7th bootstrap of size3200\n",
      "finished RandomForestClassifier, 8th bootstrap of size3200\n",
      "finished LinearSVC, 8th bootstrap of size3200\n",
      "finished MultinomialNB, 8th bootstrap of size3200\n",
      "finished LogisticRegression, 8th bootstrap of size3200\n",
      "finished RandomForestClassifier, 9th bootstrap of size3200\n",
      "finished LinearSVC, 9th bootstrap of size3200\n",
      "finished MultinomialNB, 9th bootstrap of size3200\n",
      "finished LogisticRegression, 9th bootstrap of size3200\n",
      "finished RandomForestClassifier, 0th bootstrap of size5000\n",
      "finished LinearSVC, 0th bootstrap of size5000\n",
      "finished MultinomialNB, 0th bootstrap of size5000\n",
      "finished LogisticRegression, 0th bootstrap of size5000\n",
      "finished RandomForestClassifier, 1th bootstrap of size5000\n",
      "finished LinearSVC, 1th bootstrap of size5000\n",
      "finished MultinomialNB, 1th bootstrap of size5000\n",
      "finished LogisticRegression, 1th bootstrap of size5000\n",
      "finished RandomForestClassifier, 2th bootstrap of size5000\n",
      "finished LinearSVC, 2th bootstrap of size5000\n",
      "finished MultinomialNB, 2th bootstrap of size5000\n",
      "finished LogisticRegression, 2th bootstrap of size5000\n",
      "finished RandomForestClassifier, 3th bootstrap of size5000\n",
      "finished LinearSVC, 3th bootstrap of size5000\n",
      "finished MultinomialNB, 3th bootstrap of size5000\n",
      "finished LogisticRegression, 3th bootstrap of size5000\n",
      "finished RandomForestClassifier, 4th bootstrap of size5000\n",
      "finished LinearSVC, 4th bootstrap of size5000\n",
      "finished MultinomialNB, 4th bootstrap of size5000\n",
      "finished LogisticRegression, 4th bootstrap of size5000\n",
      "finished RandomForestClassifier, 5th bootstrap of size5000\n",
      "finished LinearSVC, 5th bootstrap of size5000\n",
      "finished MultinomialNB, 5th bootstrap of size5000\n",
      "finished LogisticRegression, 5th bootstrap of size5000\n",
      "finished RandomForestClassifier, 6th bootstrap of size5000\n",
      "finished LinearSVC, 6th bootstrap of size5000\n",
      "finished MultinomialNB, 6th bootstrap of size5000\n",
      "finished LogisticRegression, 6th bootstrap of size5000\n",
      "finished RandomForestClassifier, 7th bootstrap of size5000\n",
      "finished LinearSVC, 7th bootstrap of size5000\n",
      "finished MultinomialNB, 7th bootstrap of size5000\n",
      "finished LogisticRegression, 7th bootstrap of size5000\n",
      "finished RandomForestClassifier, 8th bootstrap of size5000\n",
      "finished LinearSVC, 8th bootstrap of size5000\n",
      "finished MultinomialNB, 8th bootstrap of size5000\n",
      "finished LogisticRegression, 8th bootstrap of size5000\n",
      "finished RandomForestClassifier, 9th bootstrap of size5000\n",
      "finished LinearSVC, 9th bootstrap of size5000\n",
      "finished MultinomialNB, 9th bootstrap of size5000\n",
      "finished LogisticRegression, 9th bootstrap of size5000\n"
     ]
    }
   ],
   "source": [
    "res = algo_training_size_looper([100, 200, 400, 800, 1600, 3200, 5000], x_train, y_train, x_test, y_test)"
   ]
  },
  {
   "cell_type": "code",
   "execution_count": 28,
   "metadata": {
    "ExecuteTime": {
     "end_time": "2020-01-08T05:01:51.583425Z",
     "start_time": "2020-01-08T05:01:51.555569Z"
    }
   },
   "outputs": [],
   "source": [
    "res.to_csv(AG_NEWS/\"Algo_size_7_4_10_subsample.csv\")"
   ]
  },
  {
   "cell_type": "markdown",
   "metadata": {},
   "source": [
    "\n",
    "##### DL"
   ]
  },
  {
   "cell_type": "code",
   "execution_count": 29,
   "metadata": {
    "ExecuteTime": {
     "end_time": "2020-01-09T09:59:22.068871Z",
     "start_time": "2020-01-09T09:59:18.241389Z"
    }
   },
   "outputs": [],
   "source": [
    "df = AG_NEWS_TRAIN\n",
    "\n",
    "x_train, x_test, y_train, y_test = train_test_split(df['describ'], df['class'], test_size=2000, random_state=0)\n",
    "bert_model = BertForSequenceClassification.from_pretrained(config.bert_model_name, num_labels= 5 )\n"
   ]
  },
  {
   "cell_type": "code",
   "execution_count": null,
   "metadata": {
    "ExecuteTime": {
     "end_time": "2020-01-09T09:59:22.155835Z",
     "start_time": "2020-01-09T09:59:18.649Z"
    }
   },
   "outputs": [],
   "source": [
    "train = pd.DataFrame({'describe': x_train, \n",
    "                      'class': y_train})\n",
    "val = pd.DataFrame({'describe': x_test, \n",
    "                      'class': y_test})\n",
    "train = train.reset_index()[['describe', 'class']]\n",
    "val = val.reset_index()[['describe', 'class']]\n",
    "val"
   ]
  },
  {
   "cell_type": "code",
   "execution_count": 30,
   "metadata": {
    "ExecuteTime": {
     "end_time": "2020-01-09T09:59:23.985739Z",
     "start_time": "2020-01-09T09:59:23.958984Z"
    }
   },
   "outputs": [],
   "source": [
    "text_cols = \"describe\"\n",
    "label_cols = 'class'"
   ]
  },
  {
   "cell_type": "code",
   "execution_count": 31,
   "metadata": {
    "ExecuteTime": {
     "end_time": "2020-01-09T09:59:29.275904Z",
     "start_time": "2020-01-09T09:59:29.244985Z"
    }
   },
   "outputs": [],
   "source": [
    "# export\n",
    "def algo_training_size_looper_dl(size: list, path,  train, val, num_labels, bs = 64):\n",
    "    \"\"\"Loop over a dataset with varying training size and algorithums and returns a dataframe.\n",
    "\n",
    "\n",
    "    \"\"\"\n",
    "\n",
    "    accus = []\n",
    "    for n in size:\n",
    "        # sub sample n first\n",
    "\n",
    "\n",
    "        boot_num = 5\n",
    "\n",
    "        for i in range(boot_num):\n",
    "            \n",
    "            index = np.random.randint(0, len(train), n)\n",
    "            sub_train = train.iloc[index, :].reset_index(drop=True)\n",
    "\n",
    "            databunch = TextDataBunch.from_df(path, sub_train, val,\n",
    "                                          tokenizer=fastai_tokenizer,\n",
    "                                          vocab=fastai_bert_vocab,\n",
    "                                          include_bos=False,\n",
    "                                          include_eos=False,\n",
    "                                          text_cols=text_cols,\n",
    "                                          label_cols=label_cols,\n",
    "                                          bs=bs,\n",
    "                                          collate_fn=partial(\n",
    "                                              pad_collate, pad_first=False, pad_idx=0),\n",
    "                                          )\n",
    "            bert_model = BertForSequenceClassification.from_pretrained(config.bert_model_name, num_labels= num_labels)\n",
    "\n",
    "            learner = Learner(\n",
    "            databunch, bert_model,\n",
    "            loss_func=loss_func, metrics = accuracy)\n",
    "\n",
    "            learner.fit_one_cycle(5, 3* 1e-04)\n",
    "            learner.fit_one_cycle(1, 1e-05)\n",
    "\n",
    "            _, accu = learner.validate()\n",
    "            accu = accu.item()\n",
    "            accus.append((\"bert\", n, accu))\n",
    "            print(\n",
    "                f'finished {i}th bootstrap of size{n}')\n",
    "\n",
    "    return pd.DataFrame(accus, columns=['model_name', 'training_size', 'accuracy'])"
   ]
  },
  {
   "cell_type": "code",
   "execution_count": 32,
   "metadata": {
    "ExecuteTime": {
     "end_time": "2020-01-09T09:59:51.801580Z",
     "start_time": "2020-01-09T09:59:31.972971Z"
    }
   },
   "outputs": [
    {
     "data": {
      "text/html": [],
      "text/plain": [
       "<IPython.core.display.HTML object>"
      ]
     },
     "metadata": {},
     "output_type": "display_data"
    },
    {
     "data": {
      "text/html": [],
      "text/plain": [
       "<IPython.core.display.HTML object>"
      ]
     },
     "metadata": {},
     "output_type": "display_data"
    },
    {
     "data": {
      "text/html": [
       "\n",
       "    <div>\n",
       "        <style>\n",
       "            /* Turns off some styling */\n",
       "            progress {\n",
       "                /* gets rid of default border in Firefox and Opera. */\n",
       "                border: none;\n",
       "                /* Needs to be in here for Safari polyfill so background images work as expected. */\n",
       "                background-size: auto;\n",
       "            }\n",
       "            .progress-bar-interrupted, .progress-bar-interrupted::-webkit-progress-bar {\n",
       "                background: #F44336;\n",
       "            }\n",
       "        </style>\n",
       "      <progress value='2' class='' max='5', style='width:300px; height:20px; vertical-align: middle;'></progress>\n",
       "      40.00% [2/5 00:09<00:14]\n",
       "    </div>\n",
       "    \n",
       "<table border=\"1\" class=\"dataframe\">\n",
       "  <thead>\n",
       "    <tr style=\"text-align: left;\">\n",
       "      <th>epoch</th>\n",
       "      <th>train_loss</th>\n",
       "      <th>valid_loss</th>\n",
       "      <th>accuracy</th>\n",
       "      <th>time</th>\n",
       "    </tr>\n",
       "  </thead>\n",
       "  <tbody>\n",
       "    <tr>\n",
       "      <td>0</td>\n",
       "      <td>1.390056</td>\n",
       "      <td>1.394569</td>\n",
       "      <td>0.266000</td>\n",
       "      <td>00:05</td>\n",
       "    </tr>\n",
       "    <tr>\n",
       "      <td>1</td>\n",
       "      <td>1.364180</td>\n",
       "      <td>1.298279</td>\n",
       "      <td>0.480500</td>\n",
       "      <td>00:04</td>\n",
       "    </tr>\n",
       "  </tbody>\n",
       "</table><p>\n",
       "\n",
       "    <div>\n",
       "        <style>\n",
       "            /* Turns off some styling */\n",
       "            progress {\n",
       "                /* gets rid of default border in Firefox and Opera. */\n",
       "                border: none;\n",
       "                /* Needs to be in here for Safari polyfill so background images work as expected. */\n",
       "                background-size: auto;\n",
       "            }\n",
       "            .progress-bar-interrupted, .progress-bar-interrupted::-webkit-progress-bar {\n",
       "                background: #F44336;\n",
       "            }\n",
       "        </style>\n",
       "      <progress value='0' class='progress-bar-interrupted' max='32', style='width:300px; height:20px; vertical-align: middle;'></progress>\n",
       "      Interrupted\n",
       "    </div>\n",
       "    "
      ],
      "text/plain": [
       "<IPython.core.display.HTML object>"
      ]
     },
     "metadata": {},
     "output_type": "display_data"
    },
    {
     "ename": "KeyboardInterrupt",
     "evalue": "",
     "output_type": "error",
     "traceback": [
      "\u001b[0;31m---------------------------------------------------------------------------\u001b[0m",
      "\u001b[0;31mKeyboardInterrupt\u001b[0m                         Traceback (most recent call last)",
      "\u001b[0;32m<ipython-input-32-dd3616f8bcb7>\u001b[0m in \u001b[0;36m<module>\u001b[0;34m\u001b[0m\n\u001b[0;32m----> 1\u001b[0;31m \u001b[0mres\u001b[0m \u001b[0;34m=\u001b[0m \u001b[0malgo_training_size_looper_dl\u001b[0m\u001b[0;34m(\u001b[0m\u001b[0;34m[\u001b[0m\u001b[0;36m100\u001b[0m\u001b[0;34m,\u001b[0m \u001b[0;36m200\u001b[0m\u001b[0;34m,\u001b[0m \u001b[0;36m400\u001b[0m\u001b[0;34m,\u001b[0m \u001b[0;36m800\u001b[0m\u001b[0;34m,\u001b[0m \u001b[0;36m1600\u001b[0m\u001b[0;34m,\u001b[0m \u001b[0;36m3200\u001b[0m\u001b[0;34m,\u001b[0m \u001b[0;36m5000\u001b[0m\u001b[0;34m]\u001b[0m\u001b[0;34m,\u001b[0m \u001b[0mAG_NEWS\u001b[0m\u001b[0;34m,\u001b[0m \u001b[0mtrain\u001b[0m\u001b[0;34m,\u001b[0m \u001b[0mval\u001b[0m\u001b[0;34m,\u001b[0m \u001b[0;36m4\u001b[0m \u001b[0;34m)\u001b[0m\u001b[0;34m\u001b[0m\u001b[0;34m\u001b[0m\u001b[0m\n\u001b[0m",
      "\u001b[0;32m<ipython-input-31-9746bc471981>\u001b[0m in \u001b[0;36malgo_training_size_looper_dl\u001b[0;34m(size, path, train, val, num_labels, bs)\u001b[0m\n\u001b[1;32m     35\u001b[0m             loss_func=loss_func, metrics = accuracy)\n\u001b[1;32m     36\u001b[0m \u001b[0;34m\u001b[0m\u001b[0m\n\u001b[0;32m---> 37\u001b[0;31m             \u001b[0mlearner\u001b[0m\u001b[0;34m.\u001b[0m\u001b[0mfit_one_cycle\u001b[0m\u001b[0;34m(\u001b[0m\u001b[0;36m5\u001b[0m\u001b[0;34m,\u001b[0m \u001b[0;36m3\u001b[0m\u001b[0;34m*\u001b[0m \u001b[0;36m1e-04\u001b[0m\u001b[0;34m)\u001b[0m\u001b[0;34m\u001b[0m\u001b[0;34m\u001b[0m\u001b[0m\n\u001b[0m\u001b[1;32m     38\u001b[0m             \u001b[0mlearner\u001b[0m\u001b[0;34m.\u001b[0m\u001b[0mfit_one_cycle\u001b[0m\u001b[0;34m(\u001b[0m\u001b[0;36m1\u001b[0m\u001b[0;34m,\u001b[0m \u001b[0;36m1e-05\u001b[0m\u001b[0;34m)\u001b[0m\u001b[0;34m\u001b[0m\u001b[0;34m\u001b[0m\u001b[0m\n\u001b[1;32m     39\u001b[0m \u001b[0;34m\u001b[0m\u001b[0m\n",
      "\u001b[0;32m/opt/anaconda3/lib/python3.7/site-packages/fastai/train.py\u001b[0m in \u001b[0;36mfit_one_cycle\u001b[0;34m(learn, cyc_len, max_lr, moms, div_factor, pct_start, final_div, wd, callbacks, tot_epochs, start_epoch)\u001b[0m\n\u001b[1;32m     21\u001b[0m     callbacks.append(OneCycleScheduler(learn, max_lr, moms=moms, div_factor=div_factor, pct_start=pct_start,\n\u001b[1;32m     22\u001b[0m                                        final_div=final_div, tot_epochs=tot_epochs, start_epoch=start_epoch))\n\u001b[0;32m---> 23\u001b[0;31m     \u001b[0mlearn\u001b[0m\u001b[0;34m.\u001b[0m\u001b[0mfit\u001b[0m\u001b[0;34m(\u001b[0m\u001b[0mcyc_len\u001b[0m\u001b[0;34m,\u001b[0m \u001b[0mmax_lr\u001b[0m\u001b[0;34m,\u001b[0m \u001b[0mwd\u001b[0m\u001b[0;34m=\u001b[0m\u001b[0mwd\u001b[0m\u001b[0;34m,\u001b[0m \u001b[0mcallbacks\u001b[0m\u001b[0;34m=\u001b[0m\u001b[0mcallbacks\u001b[0m\u001b[0;34m)\u001b[0m\u001b[0;34m\u001b[0m\u001b[0;34m\u001b[0m\u001b[0m\n\u001b[0m\u001b[1;32m     24\u001b[0m \u001b[0;34m\u001b[0m\u001b[0m\n\u001b[1;32m     25\u001b[0m def fit_fc(learn:Learner, tot_epochs:int=1, lr:float=defaults.lr,  moms:Tuple[float,float]=(0.95,0.85), start_pct:float=0.72,\n",
      "\u001b[0;32m/opt/anaconda3/lib/python3.7/site-packages/fastai/basic_train.py\u001b[0m in \u001b[0;36mfit\u001b[0;34m(self, epochs, lr, wd, callbacks)\u001b[0m\n\u001b[1;32m    198\u001b[0m         \u001b[0;32melse\u001b[0m\u001b[0;34m:\u001b[0m \u001b[0mself\u001b[0m\u001b[0;34m.\u001b[0m\u001b[0mopt\u001b[0m\u001b[0;34m.\u001b[0m\u001b[0mlr\u001b[0m\u001b[0;34m,\u001b[0m\u001b[0mself\u001b[0m\u001b[0;34m.\u001b[0m\u001b[0mopt\u001b[0m\u001b[0;34m.\u001b[0m\u001b[0mwd\u001b[0m \u001b[0;34m=\u001b[0m \u001b[0mlr\u001b[0m\u001b[0;34m,\u001b[0m\u001b[0mwd\u001b[0m\u001b[0;34m\u001b[0m\u001b[0;34m\u001b[0m\u001b[0m\n\u001b[1;32m    199\u001b[0m         \u001b[0mcallbacks\u001b[0m \u001b[0;34m=\u001b[0m \u001b[0;34m[\u001b[0m\u001b[0mcb\u001b[0m\u001b[0;34m(\u001b[0m\u001b[0mself\u001b[0m\u001b[0;34m)\u001b[0m \u001b[0;32mfor\u001b[0m \u001b[0mcb\u001b[0m \u001b[0;32min\u001b[0m \u001b[0mself\u001b[0m\u001b[0;34m.\u001b[0m\u001b[0mcallback_fns\u001b[0m \u001b[0;34m+\u001b[0m \u001b[0mlistify\u001b[0m\u001b[0;34m(\u001b[0m\u001b[0mdefaults\u001b[0m\u001b[0;34m.\u001b[0m\u001b[0mextra_callback_fns\u001b[0m\u001b[0;34m)\u001b[0m\u001b[0;34m]\u001b[0m \u001b[0;34m+\u001b[0m \u001b[0mlistify\u001b[0m\u001b[0;34m(\u001b[0m\u001b[0mcallbacks\u001b[0m\u001b[0;34m)\u001b[0m\u001b[0;34m\u001b[0m\u001b[0;34m\u001b[0m\u001b[0m\n\u001b[0;32m--> 200\u001b[0;31m         \u001b[0mfit\u001b[0m\u001b[0;34m(\u001b[0m\u001b[0mepochs\u001b[0m\u001b[0;34m,\u001b[0m \u001b[0mself\u001b[0m\u001b[0;34m,\u001b[0m \u001b[0mmetrics\u001b[0m\u001b[0;34m=\u001b[0m\u001b[0mself\u001b[0m\u001b[0;34m.\u001b[0m\u001b[0mmetrics\u001b[0m\u001b[0;34m,\u001b[0m \u001b[0mcallbacks\u001b[0m\u001b[0;34m=\u001b[0m\u001b[0mself\u001b[0m\u001b[0;34m.\u001b[0m\u001b[0mcallbacks\u001b[0m\u001b[0;34m+\u001b[0m\u001b[0mcallbacks\u001b[0m\u001b[0;34m)\u001b[0m\u001b[0;34m\u001b[0m\u001b[0;34m\u001b[0m\u001b[0m\n\u001b[0m\u001b[1;32m    201\u001b[0m \u001b[0;34m\u001b[0m\u001b[0m\n\u001b[1;32m    202\u001b[0m     \u001b[0;32mdef\u001b[0m \u001b[0mcreate_opt\u001b[0m\u001b[0;34m(\u001b[0m\u001b[0mself\u001b[0m\u001b[0;34m,\u001b[0m \u001b[0mlr\u001b[0m\u001b[0;34m:\u001b[0m\u001b[0mFloats\u001b[0m\u001b[0;34m,\u001b[0m \u001b[0mwd\u001b[0m\u001b[0;34m:\u001b[0m\u001b[0mFloats\u001b[0m\u001b[0;34m=\u001b[0m\u001b[0;36m0.\u001b[0m\u001b[0;34m)\u001b[0m\u001b[0;34m->\u001b[0m\u001b[0;32mNone\u001b[0m\u001b[0;34m:\u001b[0m\u001b[0;34m\u001b[0m\u001b[0;34m\u001b[0m\u001b[0m\n",
      "\u001b[0;32m/opt/anaconda3/lib/python3.7/site-packages/fastai/basic_train.py\u001b[0m in \u001b[0;36mfit\u001b[0;34m(epochs, learn, callbacks, metrics)\u001b[0m\n\u001b[1;32m    104\u001b[0m             \u001b[0;32mif\u001b[0m \u001b[0;32mnot\u001b[0m \u001b[0mcb_handler\u001b[0m\u001b[0;34m.\u001b[0m\u001b[0mskip_validate\u001b[0m \u001b[0;32mand\u001b[0m \u001b[0;32mnot\u001b[0m \u001b[0mlearn\u001b[0m\u001b[0;34m.\u001b[0m\u001b[0mdata\u001b[0m\u001b[0;34m.\u001b[0m\u001b[0mempty_val\u001b[0m\u001b[0;34m:\u001b[0m\u001b[0;34m\u001b[0m\u001b[0;34m\u001b[0m\u001b[0m\n\u001b[1;32m    105\u001b[0m                 val_loss = validate(learn.model, learn.data.valid_dl, loss_func=learn.loss_func,\n\u001b[0;32m--> 106\u001b[0;31m                                        cb_handler=cb_handler, pbar=pbar)\n\u001b[0m\u001b[1;32m    107\u001b[0m             \u001b[0;32melse\u001b[0m\u001b[0;34m:\u001b[0m \u001b[0mval_loss\u001b[0m\u001b[0;34m=\u001b[0m\u001b[0;32mNone\u001b[0m\u001b[0;34m\u001b[0m\u001b[0;34m\u001b[0m\u001b[0m\n\u001b[1;32m    108\u001b[0m             \u001b[0;32mif\u001b[0m \u001b[0mcb_handler\u001b[0m\u001b[0;34m.\u001b[0m\u001b[0mon_epoch_end\u001b[0m\u001b[0;34m(\u001b[0m\u001b[0mval_loss\u001b[0m\u001b[0;34m)\u001b[0m\u001b[0;34m:\u001b[0m \u001b[0;32mbreak\u001b[0m\u001b[0;34m\u001b[0m\u001b[0;34m\u001b[0m\u001b[0m\n",
      "\u001b[0;32m/opt/anaconda3/lib/python3.7/site-packages/fastai/basic_train.py\u001b[0m in \u001b[0;36mvalidate\u001b[0;34m(model, dl, loss_func, cb_handler, pbar, average, n_batch)\u001b[0m\n\u001b[1;32m     57\u001b[0m         \u001b[0;32mfor\u001b[0m \u001b[0mxb\u001b[0m\u001b[0;34m,\u001b[0m\u001b[0myb\u001b[0m \u001b[0;32min\u001b[0m \u001b[0mprogress_bar\u001b[0m\u001b[0;34m(\u001b[0m\u001b[0mdl\u001b[0m\u001b[0;34m,\u001b[0m \u001b[0mparent\u001b[0m\u001b[0;34m=\u001b[0m\u001b[0mpbar\u001b[0m\u001b[0;34m,\u001b[0m \u001b[0mleave\u001b[0m\u001b[0;34m=\u001b[0m\u001b[0;34m(\u001b[0m\u001b[0mpbar\u001b[0m \u001b[0;32mis\u001b[0m \u001b[0;32mnot\u001b[0m \u001b[0;32mNone\u001b[0m\u001b[0;34m)\u001b[0m\u001b[0;34m)\u001b[0m\u001b[0;34m:\u001b[0m\u001b[0;34m\u001b[0m\u001b[0;34m\u001b[0m\u001b[0m\n\u001b[1;32m     58\u001b[0m             \u001b[0;32mif\u001b[0m \u001b[0mcb_handler\u001b[0m\u001b[0;34m:\u001b[0m \u001b[0mxb\u001b[0m\u001b[0;34m,\u001b[0m \u001b[0myb\u001b[0m \u001b[0;34m=\u001b[0m \u001b[0mcb_handler\u001b[0m\u001b[0;34m.\u001b[0m\u001b[0mon_batch_begin\u001b[0m\u001b[0;34m(\u001b[0m\u001b[0mxb\u001b[0m\u001b[0;34m,\u001b[0m \u001b[0myb\u001b[0m\u001b[0;34m,\u001b[0m \u001b[0mtrain\u001b[0m\u001b[0;34m=\u001b[0m\u001b[0;32mFalse\u001b[0m\u001b[0;34m)\u001b[0m\u001b[0;34m\u001b[0m\u001b[0;34m\u001b[0m\u001b[0m\n\u001b[0;32m---> 59\u001b[0;31m             \u001b[0mval_loss\u001b[0m \u001b[0;34m=\u001b[0m \u001b[0mloss_batch\u001b[0m\u001b[0;34m(\u001b[0m\u001b[0mmodel\u001b[0m\u001b[0;34m,\u001b[0m \u001b[0mxb\u001b[0m\u001b[0;34m,\u001b[0m \u001b[0myb\u001b[0m\u001b[0;34m,\u001b[0m \u001b[0mloss_func\u001b[0m\u001b[0;34m,\u001b[0m \u001b[0mcb_handler\u001b[0m\u001b[0;34m=\u001b[0m\u001b[0mcb_handler\u001b[0m\u001b[0;34m)\u001b[0m\u001b[0;34m\u001b[0m\u001b[0;34m\u001b[0m\u001b[0m\n\u001b[0m\u001b[1;32m     60\u001b[0m             \u001b[0mval_losses\u001b[0m\u001b[0;34m.\u001b[0m\u001b[0mappend\u001b[0m\u001b[0;34m(\u001b[0m\u001b[0mval_loss\u001b[0m\u001b[0;34m)\u001b[0m\u001b[0;34m\u001b[0m\u001b[0;34m\u001b[0m\u001b[0m\n\u001b[1;32m     61\u001b[0m             \u001b[0;32mif\u001b[0m \u001b[0;32mnot\u001b[0m \u001b[0mis_listy\u001b[0m\u001b[0;34m(\u001b[0m\u001b[0myb\u001b[0m\u001b[0;34m)\u001b[0m\u001b[0;34m:\u001b[0m \u001b[0myb\u001b[0m \u001b[0;34m=\u001b[0m \u001b[0;34m[\u001b[0m\u001b[0myb\u001b[0m\u001b[0;34m]\u001b[0m\u001b[0;34m\u001b[0m\u001b[0;34m\u001b[0m\u001b[0m\n",
      "\u001b[0;32m<ipython-input-28-4fd8ac533102>\u001b[0m in \u001b[0;36mloss_batch_bert\u001b[0;34m(model, xb, yb, loss_func, opt, cb_handler)\u001b[0m\n\u001b[1;32m     64\u001b[0m     \u001b[0;32mif\u001b[0m \u001b[0;32mnot\u001b[0m \u001b[0mis_listy\u001b[0m\u001b[0;34m(\u001b[0m\u001b[0myb\u001b[0m\u001b[0;34m)\u001b[0m\u001b[0;34m:\u001b[0m\u001b[0;34m\u001b[0m\u001b[0;34m\u001b[0m\u001b[0m\n\u001b[1;32m     65\u001b[0m         \u001b[0myb\u001b[0m \u001b[0;34m=\u001b[0m \u001b[0;34m[\u001b[0m\u001b[0myb\u001b[0m\u001b[0;34m]\u001b[0m\u001b[0;34m\u001b[0m\u001b[0;34m\u001b[0m\u001b[0m\n\u001b[0;32m---> 66\u001b[0;31m     \u001b[0mout\u001b[0m \u001b[0;34m=\u001b[0m \u001b[0mmodel\u001b[0m\u001b[0;34m(\u001b[0m\u001b[0;34m*\u001b[0m\u001b[0mxb\u001b[0m\u001b[0;34m)\u001b[0m\u001b[0;34m\u001b[0m\u001b[0;34m\u001b[0m\u001b[0m\n\u001b[0m\u001b[1;32m     67\u001b[0m     \u001b[0;31m# pdb.set_trace()\u001b[0m\u001b[0;34m\u001b[0m\u001b[0;34m\u001b[0m\u001b[0;34m\u001b[0m\u001b[0m\n\u001b[1;32m     68\u001b[0m     \u001b[0mout\u001b[0m \u001b[0;34m=\u001b[0m \u001b[0mout\u001b[0m\u001b[0;34m[\u001b[0m\u001b[0;36m0\u001b[0m\u001b[0;34m]\u001b[0m\u001b[0;34m\u001b[0m\u001b[0;34m\u001b[0m\u001b[0m\n",
      "\u001b[0;32m/opt/anaconda3/lib/python3.7/site-packages/torch/nn/modules/module.py\u001b[0m in \u001b[0;36m__call__\u001b[0;34m(self, *input, **kwargs)\u001b[0m\n\u001b[1;32m    539\u001b[0m             \u001b[0mresult\u001b[0m \u001b[0;34m=\u001b[0m \u001b[0mself\u001b[0m\u001b[0;34m.\u001b[0m\u001b[0m_slow_forward\u001b[0m\u001b[0;34m(\u001b[0m\u001b[0;34m*\u001b[0m\u001b[0minput\u001b[0m\u001b[0;34m,\u001b[0m \u001b[0;34m**\u001b[0m\u001b[0mkwargs\u001b[0m\u001b[0;34m)\u001b[0m\u001b[0;34m\u001b[0m\u001b[0;34m\u001b[0m\u001b[0m\n\u001b[1;32m    540\u001b[0m         \u001b[0;32melse\u001b[0m\u001b[0;34m:\u001b[0m\u001b[0;34m\u001b[0m\u001b[0;34m\u001b[0m\u001b[0m\n\u001b[0;32m--> 541\u001b[0;31m             \u001b[0mresult\u001b[0m \u001b[0;34m=\u001b[0m \u001b[0mself\u001b[0m\u001b[0;34m.\u001b[0m\u001b[0mforward\u001b[0m\u001b[0;34m(\u001b[0m\u001b[0;34m*\u001b[0m\u001b[0minput\u001b[0m\u001b[0;34m,\u001b[0m \u001b[0;34m**\u001b[0m\u001b[0mkwargs\u001b[0m\u001b[0;34m)\u001b[0m\u001b[0;34m\u001b[0m\u001b[0;34m\u001b[0m\u001b[0m\n\u001b[0m\u001b[1;32m    542\u001b[0m         \u001b[0;32mfor\u001b[0m \u001b[0mhook\u001b[0m \u001b[0;32min\u001b[0m \u001b[0mself\u001b[0m\u001b[0;34m.\u001b[0m\u001b[0m_forward_hooks\u001b[0m\u001b[0;34m.\u001b[0m\u001b[0mvalues\u001b[0m\u001b[0;34m(\u001b[0m\u001b[0;34m)\u001b[0m\u001b[0;34m:\u001b[0m\u001b[0;34m\u001b[0m\u001b[0;34m\u001b[0m\u001b[0m\n\u001b[1;32m    543\u001b[0m             \u001b[0mhook_result\u001b[0m \u001b[0;34m=\u001b[0m \u001b[0mhook\u001b[0m\u001b[0;34m(\u001b[0m\u001b[0mself\u001b[0m\u001b[0;34m,\u001b[0m \u001b[0minput\u001b[0m\u001b[0;34m,\u001b[0m \u001b[0mresult\u001b[0m\u001b[0;34m)\u001b[0m\u001b[0;34m\u001b[0m\u001b[0;34m\u001b[0m\u001b[0m\n",
      "\u001b[0;32m/opt/anaconda3/lib/python3.7/site-packages/pytorch_transformers/modeling_bert.py\u001b[0m in \u001b[0;36mforward\u001b[0;34m(self, input_ids, token_type_ids, attention_mask, labels, position_ids, head_mask)\u001b[0m\n\u001b[1;32m    961\u001b[0m                 position_ids=None, head_mask=None):\n\u001b[1;32m    962\u001b[0m         outputs = self.bert(input_ids, position_ids=position_ids, token_type_ids=token_type_ids,\n\u001b[0;32m--> 963\u001b[0;31m                             attention_mask=attention_mask, head_mask=head_mask)\n\u001b[0m\u001b[1;32m    964\u001b[0m         \u001b[0mpooled_output\u001b[0m \u001b[0;34m=\u001b[0m \u001b[0moutputs\u001b[0m\u001b[0;34m[\u001b[0m\u001b[0;36m1\u001b[0m\u001b[0;34m]\u001b[0m\u001b[0;34m\u001b[0m\u001b[0;34m\u001b[0m\u001b[0m\n\u001b[1;32m    965\u001b[0m \u001b[0;34m\u001b[0m\u001b[0m\n",
      "\u001b[0;32m/opt/anaconda3/lib/python3.7/site-packages/torch/nn/modules/module.py\u001b[0m in \u001b[0;36m__call__\u001b[0;34m(self, *input, **kwargs)\u001b[0m\n\u001b[1;32m    539\u001b[0m             \u001b[0mresult\u001b[0m \u001b[0;34m=\u001b[0m \u001b[0mself\u001b[0m\u001b[0;34m.\u001b[0m\u001b[0m_slow_forward\u001b[0m\u001b[0;34m(\u001b[0m\u001b[0;34m*\u001b[0m\u001b[0minput\u001b[0m\u001b[0;34m,\u001b[0m \u001b[0;34m**\u001b[0m\u001b[0mkwargs\u001b[0m\u001b[0;34m)\u001b[0m\u001b[0;34m\u001b[0m\u001b[0;34m\u001b[0m\u001b[0m\n\u001b[1;32m    540\u001b[0m         \u001b[0;32melse\u001b[0m\u001b[0;34m:\u001b[0m\u001b[0;34m\u001b[0m\u001b[0;34m\u001b[0m\u001b[0m\n\u001b[0;32m--> 541\u001b[0;31m             \u001b[0mresult\u001b[0m \u001b[0;34m=\u001b[0m \u001b[0mself\u001b[0m\u001b[0;34m.\u001b[0m\u001b[0mforward\u001b[0m\u001b[0;34m(\u001b[0m\u001b[0;34m*\u001b[0m\u001b[0minput\u001b[0m\u001b[0;34m,\u001b[0m \u001b[0;34m**\u001b[0m\u001b[0mkwargs\u001b[0m\u001b[0;34m)\u001b[0m\u001b[0;34m\u001b[0m\u001b[0;34m\u001b[0m\u001b[0m\n\u001b[0m\u001b[1;32m    542\u001b[0m         \u001b[0;32mfor\u001b[0m \u001b[0mhook\u001b[0m \u001b[0;32min\u001b[0m \u001b[0mself\u001b[0m\u001b[0;34m.\u001b[0m\u001b[0m_forward_hooks\u001b[0m\u001b[0;34m.\u001b[0m\u001b[0mvalues\u001b[0m\u001b[0;34m(\u001b[0m\u001b[0;34m)\u001b[0m\u001b[0;34m:\u001b[0m\u001b[0;34m\u001b[0m\u001b[0;34m\u001b[0m\u001b[0m\n\u001b[1;32m    543\u001b[0m             \u001b[0mhook_result\u001b[0m \u001b[0;34m=\u001b[0m \u001b[0mhook\u001b[0m\u001b[0;34m(\u001b[0m\u001b[0mself\u001b[0m\u001b[0;34m,\u001b[0m \u001b[0minput\u001b[0m\u001b[0;34m,\u001b[0m \u001b[0mresult\u001b[0m\u001b[0;34m)\u001b[0m\u001b[0;34m\u001b[0m\u001b[0;34m\u001b[0m\u001b[0m\n",
      "\u001b[0;32m/opt/anaconda3/lib/python3.7/site-packages/pytorch_transformers/modeling_bert.py\u001b[0m in \u001b[0;36mforward\u001b[0;34m(self, input_ids, token_type_ids, attention_mask, position_ids, head_mask)\u001b[0m\n\u001b[1;32m    708\u001b[0m         encoder_outputs = self.encoder(embedding_output,\n\u001b[1;32m    709\u001b[0m                                        \u001b[0mextended_attention_mask\u001b[0m\u001b[0;34m,\u001b[0m\u001b[0;34m\u001b[0m\u001b[0;34m\u001b[0m\u001b[0m\n\u001b[0;32m--> 710\u001b[0;31m                                        head_mask=head_mask)\n\u001b[0m\u001b[1;32m    711\u001b[0m         \u001b[0msequence_output\u001b[0m \u001b[0;34m=\u001b[0m \u001b[0mencoder_outputs\u001b[0m\u001b[0;34m[\u001b[0m\u001b[0;36m0\u001b[0m\u001b[0;34m]\u001b[0m\u001b[0;34m\u001b[0m\u001b[0;34m\u001b[0m\u001b[0m\n\u001b[1;32m    712\u001b[0m         \u001b[0mpooled_output\u001b[0m \u001b[0;34m=\u001b[0m \u001b[0mself\u001b[0m\u001b[0;34m.\u001b[0m\u001b[0mpooler\u001b[0m\u001b[0;34m(\u001b[0m\u001b[0msequence_output\u001b[0m\u001b[0;34m)\u001b[0m\u001b[0;34m\u001b[0m\u001b[0;34m\u001b[0m\u001b[0m\n",
      "\u001b[0;32m/opt/anaconda3/lib/python3.7/site-packages/torch/nn/modules/module.py\u001b[0m in \u001b[0;36m__call__\u001b[0;34m(self, *input, **kwargs)\u001b[0m\n\u001b[1;32m    539\u001b[0m             \u001b[0mresult\u001b[0m \u001b[0;34m=\u001b[0m \u001b[0mself\u001b[0m\u001b[0;34m.\u001b[0m\u001b[0m_slow_forward\u001b[0m\u001b[0;34m(\u001b[0m\u001b[0;34m*\u001b[0m\u001b[0minput\u001b[0m\u001b[0;34m,\u001b[0m \u001b[0;34m**\u001b[0m\u001b[0mkwargs\u001b[0m\u001b[0;34m)\u001b[0m\u001b[0;34m\u001b[0m\u001b[0;34m\u001b[0m\u001b[0m\n\u001b[1;32m    540\u001b[0m         \u001b[0;32melse\u001b[0m\u001b[0;34m:\u001b[0m\u001b[0;34m\u001b[0m\u001b[0;34m\u001b[0m\u001b[0m\n\u001b[0;32m--> 541\u001b[0;31m             \u001b[0mresult\u001b[0m \u001b[0;34m=\u001b[0m \u001b[0mself\u001b[0m\u001b[0;34m.\u001b[0m\u001b[0mforward\u001b[0m\u001b[0;34m(\u001b[0m\u001b[0;34m*\u001b[0m\u001b[0minput\u001b[0m\u001b[0;34m,\u001b[0m \u001b[0;34m**\u001b[0m\u001b[0mkwargs\u001b[0m\u001b[0;34m)\u001b[0m\u001b[0;34m\u001b[0m\u001b[0;34m\u001b[0m\u001b[0m\n\u001b[0m\u001b[1;32m    542\u001b[0m         \u001b[0;32mfor\u001b[0m \u001b[0mhook\u001b[0m \u001b[0;32min\u001b[0m \u001b[0mself\u001b[0m\u001b[0;34m.\u001b[0m\u001b[0m_forward_hooks\u001b[0m\u001b[0;34m.\u001b[0m\u001b[0mvalues\u001b[0m\u001b[0;34m(\u001b[0m\u001b[0;34m)\u001b[0m\u001b[0;34m:\u001b[0m\u001b[0;34m\u001b[0m\u001b[0;34m\u001b[0m\u001b[0m\n\u001b[1;32m    543\u001b[0m             \u001b[0mhook_result\u001b[0m \u001b[0;34m=\u001b[0m \u001b[0mhook\u001b[0m\u001b[0;34m(\u001b[0m\u001b[0mself\u001b[0m\u001b[0;34m,\u001b[0m \u001b[0minput\u001b[0m\u001b[0;34m,\u001b[0m \u001b[0mresult\u001b[0m\u001b[0;34m)\u001b[0m\u001b[0;34m\u001b[0m\u001b[0;34m\u001b[0m\u001b[0m\n",
      "\u001b[0;32m/opt/anaconda3/lib/python3.7/site-packages/pytorch_transformers/modeling_bert.py\u001b[0m in \u001b[0;36mforward\u001b[0;34m(self, hidden_states, attention_mask, head_mask)\u001b[0m\n\u001b[1;32m    429\u001b[0m                 \u001b[0mall_hidden_states\u001b[0m \u001b[0;34m=\u001b[0m \u001b[0mall_hidden_states\u001b[0m \u001b[0;34m+\u001b[0m \u001b[0;34m(\u001b[0m\u001b[0mhidden_states\u001b[0m\u001b[0;34m,\u001b[0m\u001b[0;34m)\u001b[0m\u001b[0;34m\u001b[0m\u001b[0;34m\u001b[0m\u001b[0m\n\u001b[1;32m    430\u001b[0m \u001b[0;34m\u001b[0m\u001b[0m\n\u001b[0;32m--> 431\u001b[0;31m             \u001b[0mlayer_outputs\u001b[0m \u001b[0;34m=\u001b[0m \u001b[0mlayer_module\u001b[0m\u001b[0;34m(\u001b[0m\u001b[0mhidden_states\u001b[0m\u001b[0;34m,\u001b[0m \u001b[0mattention_mask\u001b[0m\u001b[0;34m,\u001b[0m \u001b[0mhead_mask\u001b[0m\u001b[0;34m[\u001b[0m\u001b[0mi\u001b[0m\u001b[0;34m]\u001b[0m\u001b[0;34m)\u001b[0m\u001b[0;34m\u001b[0m\u001b[0;34m\u001b[0m\u001b[0m\n\u001b[0m\u001b[1;32m    432\u001b[0m             \u001b[0mhidden_states\u001b[0m \u001b[0;34m=\u001b[0m \u001b[0mlayer_outputs\u001b[0m\u001b[0;34m[\u001b[0m\u001b[0;36m0\u001b[0m\u001b[0;34m]\u001b[0m\u001b[0;34m\u001b[0m\u001b[0;34m\u001b[0m\u001b[0m\n\u001b[1;32m    433\u001b[0m \u001b[0;34m\u001b[0m\u001b[0m\n",
      "\u001b[0;32m/opt/anaconda3/lib/python3.7/site-packages/torch/nn/modules/module.py\u001b[0m in \u001b[0;36m__call__\u001b[0;34m(self, *input, **kwargs)\u001b[0m\n\u001b[1;32m    539\u001b[0m             \u001b[0mresult\u001b[0m \u001b[0;34m=\u001b[0m \u001b[0mself\u001b[0m\u001b[0;34m.\u001b[0m\u001b[0m_slow_forward\u001b[0m\u001b[0;34m(\u001b[0m\u001b[0;34m*\u001b[0m\u001b[0minput\u001b[0m\u001b[0;34m,\u001b[0m \u001b[0;34m**\u001b[0m\u001b[0mkwargs\u001b[0m\u001b[0;34m)\u001b[0m\u001b[0;34m\u001b[0m\u001b[0;34m\u001b[0m\u001b[0m\n\u001b[1;32m    540\u001b[0m         \u001b[0;32melse\u001b[0m\u001b[0;34m:\u001b[0m\u001b[0;34m\u001b[0m\u001b[0;34m\u001b[0m\u001b[0m\n\u001b[0;32m--> 541\u001b[0;31m             \u001b[0mresult\u001b[0m \u001b[0;34m=\u001b[0m \u001b[0mself\u001b[0m\u001b[0;34m.\u001b[0m\u001b[0mforward\u001b[0m\u001b[0;34m(\u001b[0m\u001b[0;34m*\u001b[0m\u001b[0minput\u001b[0m\u001b[0;34m,\u001b[0m \u001b[0;34m**\u001b[0m\u001b[0mkwargs\u001b[0m\u001b[0;34m)\u001b[0m\u001b[0;34m\u001b[0m\u001b[0;34m\u001b[0m\u001b[0m\n\u001b[0m\u001b[1;32m    542\u001b[0m         \u001b[0;32mfor\u001b[0m \u001b[0mhook\u001b[0m \u001b[0;32min\u001b[0m \u001b[0mself\u001b[0m\u001b[0;34m.\u001b[0m\u001b[0m_forward_hooks\u001b[0m\u001b[0;34m.\u001b[0m\u001b[0mvalues\u001b[0m\u001b[0;34m(\u001b[0m\u001b[0;34m)\u001b[0m\u001b[0;34m:\u001b[0m\u001b[0;34m\u001b[0m\u001b[0;34m\u001b[0m\u001b[0m\n\u001b[1;32m    543\u001b[0m             \u001b[0mhook_result\u001b[0m \u001b[0;34m=\u001b[0m \u001b[0mhook\u001b[0m\u001b[0;34m(\u001b[0m\u001b[0mself\u001b[0m\u001b[0;34m,\u001b[0m \u001b[0minput\u001b[0m\u001b[0;34m,\u001b[0m \u001b[0mresult\u001b[0m\u001b[0;34m)\u001b[0m\u001b[0;34m\u001b[0m\u001b[0;34m\u001b[0m\u001b[0m\n",
      "\u001b[0;32m/opt/anaconda3/lib/python3.7/site-packages/pytorch_transformers/modeling_bert.py\u001b[0m in \u001b[0;36mforward\u001b[0;34m(self, hidden_states, attention_mask, head_mask)\u001b[0m\n\u001b[1;32m    407\u001b[0m \u001b[0;34m\u001b[0m\u001b[0m\n\u001b[1;32m    408\u001b[0m     \u001b[0;32mdef\u001b[0m \u001b[0mforward\u001b[0m\u001b[0;34m(\u001b[0m\u001b[0mself\u001b[0m\u001b[0;34m,\u001b[0m \u001b[0mhidden_states\u001b[0m\u001b[0;34m,\u001b[0m \u001b[0mattention_mask\u001b[0m\u001b[0;34m,\u001b[0m \u001b[0mhead_mask\u001b[0m\u001b[0;34m=\u001b[0m\u001b[0;32mNone\u001b[0m\u001b[0;34m)\u001b[0m\u001b[0;34m:\u001b[0m\u001b[0;34m\u001b[0m\u001b[0;34m\u001b[0m\u001b[0m\n\u001b[0;32m--> 409\u001b[0;31m         \u001b[0mattention_outputs\u001b[0m \u001b[0;34m=\u001b[0m \u001b[0mself\u001b[0m\u001b[0;34m.\u001b[0m\u001b[0mattention\u001b[0m\u001b[0;34m(\u001b[0m\u001b[0mhidden_states\u001b[0m\u001b[0;34m,\u001b[0m \u001b[0mattention_mask\u001b[0m\u001b[0;34m,\u001b[0m \u001b[0mhead_mask\u001b[0m\u001b[0;34m)\u001b[0m\u001b[0;34m\u001b[0m\u001b[0;34m\u001b[0m\u001b[0m\n\u001b[0m\u001b[1;32m    410\u001b[0m         \u001b[0mattention_output\u001b[0m \u001b[0;34m=\u001b[0m \u001b[0mattention_outputs\u001b[0m\u001b[0;34m[\u001b[0m\u001b[0;36m0\u001b[0m\u001b[0;34m]\u001b[0m\u001b[0;34m\u001b[0m\u001b[0;34m\u001b[0m\u001b[0m\n\u001b[1;32m    411\u001b[0m         \u001b[0mintermediate_output\u001b[0m \u001b[0;34m=\u001b[0m \u001b[0mself\u001b[0m\u001b[0;34m.\u001b[0m\u001b[0mintermediate\u001b[0m\u001b[0;34m(\u001b[0m\u001b[0mattention_output\u001b[0m\u001b[0;34m)\u001b[0m\u001b[0;34m\u001b[0m\u001b[0;34m\u001b[0m\u001b[0m\n",
      "\u001b[0;32m/opt/anaconda3/lib/python3.7/site-packages/torch/nn/modules/module.py\u001b[0m in \u001b[0;36m__call__\u001b[0;34m(self, *input, **kwargs)\u001b[0m\n\u001b[1;32m    539\u001b[0m             \u001b[0mresult\u001b[0m \u001b[0;34m=\u001b[0m \u001b[0mself\u001b[0m\u001b[0;34m.\u001b[0m\u001b[0m_slow_forward\u001b[0m\u001b[0;34m(\u001b[0m\u001b[0;34m*\u001b[0m\u001b[0minput\u001b[0m\u001b[0;34m,\u001b[0m \u001b[0;34m**\u001b[0m\u001b[0mkwargs\u001b[0m\u001b[0;34m)\u001b[0m\u001b[0;34m\u001b[0m\u001b[0;34m\u001b[0m\u001b[0m\n\u001b[1;32m    540\u001b[0m         \u001b[0;32melse\u001b[0m\u001b[0;34m:\u001b[0m\u001b[0;34m\u001b[0m\u001b[0;34m\u001b[0m\u001b[0m\n\u001b[0;32m--> 541\u001b[0;31m             \u001b[0mresult\u001b[0m \u001b[0;34m=\u001b[0m \u001b[0mself\u001b[0m\u001b[0;34m.\u001b[0m\u001b[0mforward\u001b[0m\u001b[0;34m(\u001b[0m\u001b[0;34m*\u001b[0m\u001b[0minput\u001b[0m\u001b[0;34m,\u001b[0m \u001b[0;34m**\u001b[0m\u001b[0mkwargs\u001b[0m\u001b[0;34m)\u001b[0m\u001b[0;34m\u001b[0m\u001b[0;34m\u001b[0m\u001b[0m\n\u001b[0m\u001b[1;32m    542\u001b[0m         \u001b[0;32mfor\u001b[0m \u001b[0mhook\u001b[0m \u001b[0;32min\u001b[0m \u001b[0mself\u001b[0m\u001b[0;34m.\u001b[0m\u001b[0m_forward_hooks\u001b[0m\u001b[0;34m.\u001b[0m\u001b[0mvalues\u001b[0m\u001b[0;34m(\u001b[0m\u001b[0;34m)\u001b[0m\u001b[0;34m:\u001b[0m\u001b[0;34m\u001b[0m\u001b[0;34m\u001b[0m\u001b[0m\n\u001b[1;32m    543\u001b[0m             \u001b[0mhook_result\u001b[0m \u001b[0;34m=\u001b[0m \u001b[0mhook\u001b[0m\u001b[0;34m(\u001b[0m\u001b[0mself\u001b[0m\u001b[0;34m,\u001b[0m \u001b[0minput\u001b[0m\u001b[0;34m,\u001b[0m \u001b[0mresult\u001b[0m\u001b[0;34m)\u001b[0m\u001b[0;34m\u001b[0m\u001b[0;34m\u001b[0m\u001b[0m\n",
      "\u001b[0;32m/opt/anaconda3/lib/python3.7/site-packages/pytorch_transformers/modeling_bert.py\u001b[0m in \u001b[0;36mforward\u001b[0;34m(self, input_tensor, attention_mask, head_mask)\u001b[0m\n\u001b[1;32m    365\u001b[0m     \u001b[0;32mdef\u001b[0m \u001b[0mforward\u001b[0m\u001b[0;34m(\u001b[0m\u001b[0mself\u001b[0m\u001b[0;34m,\u001b[0m \u001b[0minput_tensor\u001b[0m\u001b[0;34m,\u001b[0m \u001b[0mattention_mask\u001b[0m\u001b[0;34m,\u001b[0m \u001b[0mhead_mask\u001b[0m\u001b[0;34m=\u001b[0m\u001b[0;32mNone\u001b[0m\u001b[0;34m)\u001b[0m\u001b[0;34m:\u001b[0m\u001b[0;34m\u001b[0m\u001b[0;34m\u001b[0m\u001b[0m\n\u001b[1;32m    366\u001b[0m         \u001b[0mself_outputs\u001b[0m \u001b[0;34m=\u001b[0m \u001b[0mself\u001b[0m\u001b[0;34m.\u001b[0m\u001b[0mself\u001b[0m\u001b[0;34m(\u001b[0m\u001b[0minput_tensor\u001b[0m\u001b[0;34m,\u001b[0m \u001b[0mattention_mask\u001b[0m\u001b[0;34m,\u001b[0m \u001b[0mhead_mask\u001b[0m\u001b[0;34m)\u001b[0m\u001b[0;34m\u001b[0m\u001b[0;34m\u001b[0m\u001b[0m\n\u001b[0;32m--> 367\u001b[0;31m         \u001b[0mattention_output\u001b[0m \u001b[0;34m=\u001b[0m \u001b[0mself\u001b[0m\u001b[0;34m.\u001b[0m\u001b[0moutput\u001b[0m\u001b[0;34m(\u001b[0m\u001b[0mself_outputs\u001b[0m\u001b[0;34m[\u001b[0m\u001b[0;36m0\u001b[0m\u001b[0;34m]\u001b[0m\u001b[0;34m,\u001b[0m \u001b[0minput_tensor\u001b[0m\u001b[0;34m)\u001b[0m\u001b[0;34m\u001b[0m\u001b[0;34m\u001b[0m\u001b[0m\n\u001b[0m\u001b[1;32m    368\u001b[0m         \u001b[0moutputs\u001b[0m \u001b[0;34m=\u001b[0m \u001b[0;34m(\u001b[0m\u001b[0mattention_output\u001b[0m\u001b[0;34m,\u001b[0m\u001b[0;34m)\u001b[0m \u001b[0;34m+\u001b[0m \u001b[0mself_outputs\u001b[0m\u001b[0;34m[\u001b[0m\u001b[0;36m1\u001b[0m\u001b[0;34m:\u001b[0m\u001b[0;34m]\u001b[0m  \u001b[0;31m# add attentions if we output them\u001b[0m\u001b[0;34m\u001b[0m\u001b[0;34m\u001b[0m\u001b[0m\n\u001b[1;32m    369\u001b[0m         \u001b[0;32mreturn\u001b[0m \u001b[0moutputs\u001b[0m\u001b[0;34m\u001b[0m\u001b[0;34m\u001b[0m\u001b[0m\n",
      "\u001b[0;32m/opt/anaconda3/lib/python3.7/site-packages/torch/nn/modules/module.py\u001b[0m in \u001b[0;36m__call__\u001b[0;34m(self, *input, **kwargs)\u001b[0m\n\u001b[1;32m    539\u001b[0m             \u001b[0mresult\u001b[0m \u001b[0;34m=\u001b[0m \u001b[0mself\u001b[0m\u001b[0;34m.\u001b[0m\u001b[0m_slow_forward\u001b[0m\u001b[0;34m(\u001b[0m\u001b[0;34m*\u001b[0m\u001b[0minput\u001b[0m\u001b[0;34m,\u001b[0m \u001b[0;34m**\u001b[0m\u001b[0mkwargs\u001b[0m\u001b[0;34m)\u001b[0m\u001b[0;34m\u001b[0m\u001b[0;34m\u001b[0m\u001b[0m\n\u001b[1;32m    540\u001b[0m         \u001b[0;32melse\u001b[0m\u001b[0;34m:\u001b[0m\u001b[0;34m\u001b[0m\u001b[0;34m\u001b[0m\u001b[0m\n\u001b[0;32m--> 541\u001b[0;31m             \u001b[0mresult\u001b[0m \u001b[0;34m=\u001b[0m \u001b[0mself\u001b[0m\u001b[0;34m.\u001b[0m\u001b[0mforward\u001b[0m\u001b[0;34m(\u001b[0m\u001b[0;34m*\u001b[0m\u001b[0minput\u001b[0m\u001b[0;34m,\u001b[0m \u001b[0;34m**\u001b[0m\u001b[0mkwargs\u001b[0m\u001b[0;34m)\u001b[0m\u001b[0;34m\u001b[0m\u001b[0;34m\u001b[0m\u001b[0m\n\u001b[0m\u001b[1;32m    542\u001b[0m         \u001b[0;32mfor\u001b[0m \u001b[0mhook\u001b[0m \u001b[0;32min\u001b[0m \u001b[0mself\u001b[0m\u001b[0;34m.\u001b[0m\u001b[0m_forward_hooks\u001b[0m\u001b[0;34m.\u001b[0m\u001b[0mvalues\u001b[0m\u001b[0;34m(\u001b[0m\u001b[0;34m)\u001b[0m\u001b[0;34m:\u001b[0m\u001b[0;34m\u001b[0m\u001b[0;34m\u001b[0m\u001b[0m\n\u001b[1;32m    543\u001b[0m             \u001b[0mhook_result\u001b[0m \u001b[0;34m=\u001b[0m \u001b[0mhook\u001b[0m\u001b[0;34m(\u001b[0m\u001b[0mself\u001b[0m\u001b[0;34m,\u001b[0m \u001b[0minput\u001b[0m\u001b[0;34m,\u001b[0m \u001b[0mresult\u001b[0m\u001b[0;34m)\u001b[0m\u001b[0;34m\u001b[0m\u001b[0;34m\u001b[0m\u001b[0m\n",
      "\u001b[0;32m/opt/anaconda3/lib/python3.7/site-packages/pytorch_transformers/modeling_bert.py\u001b[0m in \u001b[0;36mforward\u001b[0;34m(self, hidden_states, input_tensor)\u001b[0m\n\u001b[1;32m    329\u001b[0m         \u001b[0mhidden_states\u001b[0m \u001b[0;34m=\u001b[0m \u001b[0mself\u001b[0m\u001b[0;34m.\u001b[0m\u001b[0mdense\u001b[0m\u001b[0;34m(\u001b[0m\u001b[0mhidden_states\u001b[0m\u001b[0;34m)\u001b[0m\u001b[0;34m\u001b[0m\u001b[0;34m\u001b[0m\u001b[0m\n\u001b[1;32m    330\u001b[0m         \u001b[0mhidden_states\u001b[0m \u001b[0;34m=\u001b[0m \u001b[0mself\u001b[0m\u001b[0;34m.\u001b[0m\u001b[0mdropout\u001b[0m\u001b[0;34m(\u001b[0m\u001b[0mhidden_states\u001b[0m\u001b[0;34m)\u001b[0m\u001b[0;34m\u001b[0m\u001b[0;34m\u001b[0m\u001b[0m\n\u001b[0;32m--> 331\u001b[0;31m         \u001b[0mhidden_states\u001b[0m \u001b[0;34m=\u001b[0m \u001b[0mself\u001b[0m\u001b[0;34m.\u001b[0m\u001b[0mLayerNorm\u001b[0m\u001b[0;34m(\u001b[0m\u001b[0mhidden_states\u001b[0m \u001b[0;34m+\u001b[0m \u001b[0minput_tensor\u001b[0m\u001b[0;34m)\u001b[0m\u001b[0;34m\u001b[0m\u001b[0;34m\u001b[0m\u001b[0m\n\u001b[0m\u001b[1;32m    332\u001b[0m         \u001b[0;32mreturn\u001b[0m \u001b[0mhidden_states\u001b[0m\u001b[0;34m\u001b[0m\u001b[0;34m\u001b[0m\u001b[0m\n\u001b[1;32m    333\u001b[0m \u001b[0;34m\u001b[0m\u001b[0m\n",
      "\u001b[0;32m/opt/anaconda3/lib/python3.7/site-packages/torch/nn/modules/module.py\u001b[0m in \u001b[0;36m__call__\u001b[0;34m(self, *input, **kwargs)\u001b[0m\n\u001b[1;32m    540\u001b[0m         \u001b[0;32melse\u001b[0m\u001b[0;34m:\u001b[0m\u001b[0;34m\u001b[0m\u001b[0;34m\u001b[0m\u001b[0m\n\u001b[1;32m    541\u001b[0m             \u001b[0mresult\u001b[0m \u001b[0;34m=\u001b[0m \u001b[0mself\u001b[0m\u001b[0;34m.\u001b[0m\u001b[0mforward\u001b[0m\u001b[0;34m(\u001b[0m\u001b[0;34m*\u001b[0m\u001b[0minput\u001b[0m\u001b[0;34m,\u001b[0m \u001b[0;34m**\u001b[0m\u001b[0mkwargs\u001b[0m\u001b[0;34m)\u001b[0m\u001b[0;34m\u001b[0m\u001b[0;34m\u001b[0m\u001b[0m\n\u001b[0;32m--> 542\u001b[0;31m         \u001b[0;32mfor\u001b[0m \u001b[0mhook\u001b[0m \u001b[0;32min\u001b[0m \u001b[0mself\u001b[0m\u001b[0;34m.\u001b[0m\u001b[0m_forward_hooks\u001b[0m\u001b[0;34m.\u001b[0m\u001b[0mvalues\u001b[0m\u001b[0;34m(\u001b[0m\u001b[0;34m)\u001b[0m\u001b[0;34m:\u001b[0m\u001b[0;34m\u001b[0m\u001b[0;34m\u001b[0m\u001b[0m\n\u001b[0m\u001b[1;32m    543\u001b[0m             \u001b[0mhook_result\u001b[0m \u001b[0;34m=\u001b[0m \u001b[0mhook\u001b[0m\u001b[0;34m(\u001b[0m\u001b[0mself\u001b[0m\u001b[0;34m,\u001b[0m \u001b[0minput\u001b[0m\u001b[0;34m,\u001b[0m \u001b[0mresult\u001b[0m\u001b[0;34m)\u001b[0m\u001b[0;34m\u001b[0m\u001b[0;34m\u001b[0m\u001b[0m\n\u001b[1;32m    544\u001b[0m             \u001b[0;32mif\u001b[0m \u001b[0mhook_result\u001b[0m \u001b[0;32mis\u001b[0m \u001b[0;32mnot\u001b[0m \u001b[0;32mNone\u001b[0m\u001b[0;34m:\u001b[0m\u001b[0;34m\u001b[0m\u001b[0;34m\u001b[0m\u001b[0m\n",
      "\u001b[0;31mKeyboardInterrupt\u001b[0m: "
     ]
    }
   ],
   "source": [
    "res = algo_training_size_looper_dl([100, 200, 400, 800, 1600, 3200, 5000], AG_NEWS, train, val, 4 )"
   ]
  },
  {
   "cell_type": "code",
   "execution_count": 124,
   "metadata": {
    "ExecuteTime": {
     "end_time": "2020-01-09T09:02:42.299984Z",
     "start_time": "2020-01-09T09:02:42.273025Z"
    }
   },
   "outputs": [],
   "source": [
    "res['accuracy'] = [i.item() for i in res['accuracy']]\n",
    "\n",
    "res.to_csv(AG_NEWS/\"dl_Algo_size_7_bert5_agnews.csv\", index = False)"
   ]
  },
  {
   "cell_type": "markdown",
   "metadata": {},
   "source": [
    "#### Dbpedia"
   ]
  },
  {
   "cell_type": "markdown",
   "metadata": {},
   "source": [
    "##### ML models"
   ]
  },
  {
   "cell_type": "code",
   "execution_count": 56,
   "metadata": {
    "ExecuteTime": {
     "end_time": "2020-01-08T05:53:35.042712Z",
     "start_time": "2020-01-08T05:53:35.018239Z"
    }
   },
   "outputs": [],
   "source": [
    "models = [RandomForestClassifier(n_estimators=200, max_depth=3, random_state=0),\n",
    "          LinearSVC(),\n",
    "          MultinomialNB(),\n",
    "          LogisticRegression(random_state=0, max_iter= 200)]\n",
    "\n",
    "df = DBPEDIA_TRAIN"
   ]
  },
  {
   "cell_type": "code",
   "execution_count": 57,
   "metadata": {
    "ExecuteTime": {
     "end_time": "2020-01-08T05:53:35.688056Z",
     "start_time": "2020-01-08T05:53:35.657603Z"
    }
   },
   "outputs": [
    {
     "data": {
      "text/html": [
       "<div>\n",
       "<style scoped>\n",
       "    .dataframe tbody tr th:only-of-type {\n",
       "        vertical-align: middle;\n",
       "    }\n",
       "\n",
       "    .dataframe tbody tr th {\n",
       "        vertical-align: top;\n",
       "    }\n",
       "\n",
       "    .dataframe thead th {\n",
       "        text-align: right;\n",
       "    }\n",
       "</style>\n",
       "<table border=\"1\" class=\"dataframe\">\n",
       "  <thead>\n",
       "    <tr style=\"text-align: right;\">\n",
       "      <th></th>\n",
       "      <th>class</th>\n",
       "      <th>title</th>\n",
       "      <th>contents</th>\n",
       "    </tr>\n",
       "  </thead>\n",
       "  <tbody>\n",
       "    <tr>\n",
       "      <th>0</th>\n",
       "      <td>Building</td>\n",
       "      <td>Peckett OQ Class</td>\n",
       "      <td>The Peckett OQ was a series of three Industri...</td>\n",
       "    </tr>\n",
       "    <tr>\n",
       "      <th>1</th>\n",
       "      <td>NaturalPlace</td>\n",
       "      <td>Yas Viceroy Abu Dhabi Hotel</td>\n",
       "      <td>Yas Viceroy Abu Dhabi Hotel is built across t...</td>\n",
       "    </tr>\n",
       "  </tbody>\n",
       "</table>\n",
       "</div>"
      ],
      "text/plain": [
       "          class                        title  \\\n",
       "0      Building             Peckett OQ Class   \n",
       "1  NaturalPlace  Yas Viceroy Abu Dhabi Hotel   \n",
       "\n",
       "                                            contents  \n",
       "0   The Peckett OQ was a series of three Industri...  \n",
       "1   Yas Viceroy Abu Dhabi Hotel is built across t...  "
      ]
     },
     "execution_count": 57,
     "metadata": {},
     "output_type": "execute_result"
    }
   ],
   "source": [
    "df.head(2)"
   ]
  },
  {
   "cell_type": "code",
   "execution_count": 58,
   "metadata": {
    "ExecuteTime": {
     "end_time": "2020-01-08T05:54:02.821168Z",
     "start_time": "2020-01-08T05:53:49.193539Z"
    }
   },
   "outputs": [],
   "source": [
    "df['category_id'] = df['class'].factorize()[0]\n",
    "\n",
    "category_id_df = df[['class', 'category_id']\n",
    "                    ].drop_duplicates().sort_values('category_id')\n",
    "category_to_id = dict(category_id_df.values)\n",
    "id_to_category = {v: k for k, v in category_to_id.items()}\n",
    "\n",
    "tfidf = TfidfVectorizer(sublinear_tf=True, norm='l2', min_df=5,\n",
    "                        encoding='latin-1', ngram_range=(1, 3), stop_words='english')\n",
    "\n",
    "# y_test has 2000 in size\n",
    "features = tfidf.fit_transform(df.contents).toarray()\n",
    "labels = df['class']\n",
    "\n",
    "x_train, x_test, y_train, y_test = train_test_split(features, labels, test_size=2000, random_state=0)"
   ]
  },
  {
   "cell_type": "code",
   "execution_count": 59,
   "metadata": {
    "ExecuteTime": {
     "end_time": "2020-01-08T06:30:43.497816Z",
     "start_time": "2020-01-08T05:54:50.018161Z"
    }
   },
   "outputs": [
    {
     "name": "stdout",
     "output_type": "stream",
     "text": [
      "finished RandomForestClassifier, 0th bootstrap of size100\n",
      "finished LinearSVC, 0th bootstrap of size100\n",
      "finished MultinomialNB, 0th bootstrap of size100\n",
      "finished LogisticRegression, 0th bootstrap of size100\n",
      "finished RandomForestClassifier, 1th bootstrap of size100\n",
      "finished LinearSVC, 1th bootstrap of size100\n",
      "finished MultinomialNB, 1th bootstrap of size100\n",
      "finished LogisticRegression, 1th bootstrap of size100\n",
      "finished RandomForestClassifier, 2th bootstrap of size100\n",
      "finished LinearSVC, 2th bootstrap of size100\n",
      "finished MultinomialNB, 2th bootstrap of size100\n",
      "finished LogisticRegression, 2th bootstrap of size100\n",
      "finished RandomForestClassifier, 3th bootstrap of size100\n",
      "finished LinearSVC, 3th bootstrap of size100\n",
      "finished MultinomialNB, 3th bootstrap of size100\n",
      "finished LogisticRegression, 3th bootstrap of size100\n",
      "finished RandomForestClassifier, 4th bootstrap of size100\n",
      "finished LinearSVC, 4th bootstrap of size100\n",
      "finished MultinomialNB, 4th bootstrap of size100\n",
      "finished LogisticRegression, 4th bootstrap of size100\n",
      "finished RandomForestClassifier, 5th bootstrap of size100\n",
      "finished LinearSVC, 5th bootstrap of size100\n",
      "finished MultinomialNB, 5th bootstrap of size100\n",
      "finished LogisticRegression, 5th bootstrap of size100\n",
      "finished RandomForestClassifier, 6th bootstrap of size100\n",
      "finished LinearSVC, 6th bootstrap of size100\n",
      "finished MultinomialNB, 6th bootstrap of size100\n",
      "finished LogisticRegression, 6th bootstrap of size100\n",
      "finished RandomForestClassifier, 7th bootstrap of size100\n",
      "finished LinearSVC, 7th bootstrap of size100\n",
      "finished MultinomialNB, 7th bootstrap of size100\n",
      "finished LogisticRegression, 7th bootstrap of size100\n",
      "finished RandomForestClassifier, 8th bootstrap of size100\n",
      "finished LinearSVC, 8th bootstrap of size100\n",
      "finished MultinomialNB, 8th bootstrap of size100\n",
      "finished LogisticRegression, 8th bootstrap of size100\n",
      "finished RandomForestClassifier, 9th bootstrap of size100\n",
      "finished LinearSVC, 9th bootstrap of size100\n",
      "finished MultinomialNB, 9th bootstrap of size100\n",
      "finished LogisticRegression, 9th bootstrap of size100\n",
      "finished RandomForestClassifier, 0th bootstrap of size200\n",
      "finished LinearSVC, 0th bootstrap of size200\n",
      "finished MultinomialNB, 0th bootstrap of size200\n",
      "finished LogisticRegression, 0th bootstrap of size200\n",
      "finished RandomForestClassifier, 1th bootstrap of size200\n",
      "finished LinearSVC, 1th bootstrap of size200\n",
      "finished MultinomialNB, 1th bootstrap of size200\n",
      "finished LogisticRegression, 1th bootstrap of size200\n",
      "finished RandomForestClassifier, 2th bootstrap of size200\n",
      "finished LinearSVC, 2th bootstrap of size200\n",
      "finished MultinomialNB, 2th bootstrap of size200\n",
      "finished LogisticRegression, 2th bootstrap of size200\n",
      "finished RandomForestClassifier, 3th bootstrap of size200\n",
      "finished LinearSVC, 3th bootstrap of size200\n",
      "finished MultinomialNB, 3th bootstrap of size200\n",
      "finished LogisticRegression, 3th bootstrap of size200\n",
      "finished RandomForestClassifier, 4th bootstrap of size200\n",
      "finished LinearSVC, 4th bootstrap of size200\n",
      "finished MultinomialNB, 4th bootstrap of size200\n",
      "finished LogisticRegression, 4th bootstrap of size200\n",
      "finished RandomForestClassifier, 5th bootstrap of size200\n",
      "finished LinearSVC, 5th bootstrap of size200\n",
      "finished MultinomialNB, 5th bootstrap of size200\n",
      "finished LogisticRegression, 5th bootstrap of size200\n",
      "finished RandomForestClassifier, 6th bootstrap of size200\n",
      "finished LinearSVC, 6th bootstrap of size200\n",
      "finished MultinomialNB, 6th bootstrap of size200\n",
      "finished LogisticRegression, 6th bootstrap of size200\n",
      "finished RandomForestClassifier, 7th bootstrap of size200\n",
      "finished LinearSVC, 7th bootstrap of size200\n",
      "finished MultinomialNB, 7th bootstrap of size200\n",
      "finished LogisticRegression, 7th bootstrap of size200\n",
      "finished RandomForestClassifier, 8th bootstrap of size200\n",
      "finished LinearSVC, 8th bootstrap of size200\n",
      "finished MultinomialNB, 8th bootstrap of size200\n",
      "finished LogisticRegression, 8th bootstrap of size200\n",
      "finished RandomForestClassifier, 9th bootstrap of size200\n",
      "finished LinearSVC, 9th bootstrap of size200\n",
      "finished MultinomialNB, 9th bootstrap of size200\n",
      "finished LogisticRegression, 9th bootstrap of size200\n",
      "finished RandomForestClassifier, 0th bootstrap of size400\n",
      "finished LinearSVC, 0th bootstrap of size400\n",
      "finished MultinomialNB, 0th bootstrap of size400\n",
      "finished LogisticRegression, 0th bootstrap of size400\n",
      "finished RandomForestClassifier, 1th bootstrap of size400\n",
      "finished LinearSVC, 1th bootstrap of size400\n",
      "finished MultinomialNB, 1th bootstrap of size400\n",
      "finished LogisticRegression, 1th bootstrap of size400\n",
      "finished RandomForestClassifier, 2th bootstrap of size400\n",
      "finished LinearSVC, 2th bootstrap of size400\n",
      "finished MultinomialNB, 2th bootstrap of size400\n",
      "finished LogisticRegression, 2th bootstrap of size400\n",
      "finished RandomForestClassifier, 3th bootstrap of size400\n",
      "finished LinearSVC, 3th bootstrap of size400\n",
      "finished MultinomialNB, 3th bootstrap of size400\n",
      "finished LogisticRegression, 3th bootstrap of size400\n",
      "finished RandomForestClassifier, 4th bootstrap of size400\n",
      "finished LinearSVC, 4th bootstrap of size400\n",
      "finished MultinomialNB, 4th bootstrap of size400\n",
      "finished LogisticRegression, 4th bootstrap of size400\n",
      "finished RandomForestClassifier, 5th bootstrap of size400\n",
      "finished LinearSVC, 5th bootstrap of size400\n",
      "finished MultinomialNB, 5th bootstrap of size400\n",
      "finished LogisticRegression, 5th bootstrap of size400\n",
      "finished RandomForestClassifier, 6th bootstrap of size400\n",
      "finished LinearSVC, 6th bootstrap of size400\n",
      "finished MultinomialNB, 6th bootstrap of size400\n",
      "finished LogisticRegression, 6th bootstrap of size400\n",
      "finished RandomForestClassifier, 7th bootstrap of size400\n",
      "finished LinearSVC, 7th bootstrap of size400\n",
      "finished MultinomialNB, 7th bootstrap of size400\n",
      "finished LogisticRegression, 7th bootstrap of size400\n",
      "finished RandomForestClassifier, 8th bootstrap of size400\n",
      "finished LinearSVC, 8th bootstrap of size400\n",
      "finished MultinomialNB, 8th bootstrap of size400\n",
      "finished LogisticRegression, 8th bootstrap of size400\n",
      "finished RandomForestClassifier, 9th bootstrap of size400\n",
      "finished LinearSVC, 9th bootstrap of size400\n",
      "finished MultinomialNB, 9th bootstrap of size400\n",
      "finished LogisticRegression, 9th bootstrap of size400\n",
      "finished RandomForestClassifier, 0th bootstrap of size800\n",
      "finished LinearSVC, 0th bootstrap of size800\n",
      "finished MultinomialNB, 0th bootstrap of size800\n",
      "finished LogisticRegression, 0th bootstrap of size800\n",
      "finished RandomForestClassifier, 1th bootstrap of size800\n",
      "finished LinearSVC, 1th bootstrap of size800\n",
      "finished MultinomialNB, 1th bootstrap of size800\n",
      "finished LogisticRegression, 1th bootstrap of size800\n",
      "finished RandomForestClassifier, 2th bootstrap of size800\n",
      "finished LinearSVC, 2th bootstrap of size800\n",
      "finished MultinomialNB, 2th bootstrap of size800\n",
      "finished LogisticRegression, 2th bootstrap of size800\n",
      "finished RandomForestClassifier, 3th bootstrap of size800\n",
      "finished LinearSVC, 3th bootstrap of size800\n",
      "finished MultinomialNB, 3th bootstrap of size800\n",
      "finished LogisticRegression, 3th bootstrap of size800\n",
      "finished RandomForestClassifier, 4th bootstrap of size800\n",
      "finished LinearSVC, 4th bootstrap of size800\n",
      "finished MultinomialNB, 4th bootstrap of size800\n",
      "finished LogisticRegression, 4th bootstrap of size800\n",
      "finished RandomForestClassifier, 5th bootstrap of size800\n",
      "finished LinearSVC, 5th bootstrap of size800\n",
      "finished MultinomialNB, 5th bootstrap of size800\n",
      "finished LogisticRegression, 5th bootstrap of size800\n",
      "finished RandomForestClassifier, 6th bootstrap of size800\n",
      "finished LinearSVC, 6th bootstrap of size800\n",
      "finished MultinomialNB, 6th bootstrap of size800\n",
      "finished LogisticRegression, 6th bootstrap of size800\n",
      "finished RandomForestClassifier, 7th bootstrap of size800\n",
      "finished LinearSVC, 7th bootstrap of size800\n",
      "finished MultinomialNB, 7th bootstrap of size800\n",
      "finished LogisticRegression, 7th bootstrap of size800\n",
      "finished RandomForestClassifier, 8th bootstrap of size800\n",
      "finished LinearSVC, 8th bootstrap of size800\n",
      "finished MultinomialNB, 8th bootstrap of size800\n",
      "finished LogisticRegression, 8th bootstrap of size800\n",
      "finished RandomForestClassifier, 9th bootstrap of size800\n",
      "finished LinearSVC, 9th bootstrap of size800\n",
      "finished MultinomialNB, 9th bootstrap of size800\n",
      "finished LogisticRegression, 9th bootstrap of size800\n"
     ]
    },
    {
     "name": "stdout",
     "output_type": "stream",
     "text": [
      "finished RandomForestClassifier, 0th bootstrap of size1600\n",
      "finished LinearSVC, 0th bootstrap of size1600\n",
      "finished MultinomialNB, 0th bootstrap of size1600\n",
      "finished LogisticRegression, 0th bootstrap of size1600\n",
      "finished RandomForestClassifier, 1th bootstrap of size1600\n",
      "finished LinearSVC, 1th bootstrap of size1600\n",
      "finished MultinomialNB, 1th bootstrap of size1600\n",
      "finished LogisticRegression, 1th bootstrap of size1600\n",
      "finished RandomForestClassifier, 2th bootstrap of size1600\n",
      "finished LinearSVC, 2th bootstrap of size1600\n",
      "finished MultinomialNB, 2th bootstrap of size1600\n",
      "finished LogisticRegression, 2th bootstrap of size1600\n",
      "finished RandomForestClassifier, 3th bootstrap of size1600\n",
      "finished LinearSVC, 3th bootstrap of size1600\n",
      "finished MultinomialNB, 3th bootstrap of size1600\n",
      "finished LogisticRegression, 3th bootstrap of size1600\n",
      "finished RandomForestClassifier, 4th bootstrap of size1600\n",
      "finished LinearSVC, 4th bootstrap of size1600\n",
      "finished MultinomialNB, 4th bootstrap of size1600\n",
      "finished LogisticRegression, 4th bootstrap of size1600\n",
      "finished RandomForestClassifier, 5th bootstrap of size1600\n",
      "finished LinearSVC, 5th bootstrap of size1600\n",
      "finished MultinomialNB, 5th bootstrap of size1600\n",
      "finished LogisticRegression, 5th bootstrap of size1600\n",
      "finished RandomForestClassifier, 6th bootstrap of size1600\n",
      "finished LinearSVC, 6th bootstrap of size1600\n",
      "finished MultinomialNB, 6th bootstrap of size1600\n",
      "finished LogisticRegression, 6th bootstrap of size1600\n",
      "finished RandomForestClassifier, 7th bootstrap of size1600\n",
      "finished LinearSVC, 7th bootstrap of size1600\n",
      "finished MultinomialNB, 7th bootstrap of size1600\n",
      "finished LogisticRegression, 7th bootstrap of size1600\n",
      "finished RandomForestClassifier, 8th bootstrap of size1600\n",
      "finished LinearSVC, 8th bootstrap of size1600\n",
      "finished MultinomialNB, 8th bootstrap of size1600\n",
      "finished LogisticRegression, 8th bootstrap of size1600\n",
      "finished RandomForestClassifier, 9th bootstrap of size1600\n",
      "finished LinearSVC, 9th bootstrap of size1600\n",
      "finished MultinomialNB, 9th bootstrap of size1600\n",
      "finished LogisticRegression, 9th bootstrap of size1600\n",
      "finished RandomForestClassifier, 0th bootstrap of size3200\n",
      "finished LinearSVC, 0th bootstrap of size3200\n",
      "finished MultinomialNB, 0th bootstrap of size3200\n",
      "finished LogisticRegression, 0th bootstrap of size3200\n",
      "finished RandomForestClassifier, 1th bootstrap of size3200\n",
      "finished LinearSVC, 1th bootstrap of size3200\n",
      "finished MultinomialNB, 1th bootstrap of size3200\n",
      "finished LogisticRegression, 1th bootstrap of size3200\n",
      "finished RandomForestClassifier, 2th bootstrap of size3200\n",
      "finished LinearSVC, 2th bootstrap of size3200\n",
      "finished MultinomialNB, 2th bootstrap of size3200\n",
      "finished LogisticRegression, 2th bootstrap of size3200\n",
      "finished RandomForestClassifier, 3th bootstrap of size3200\n",
      "finished LinearSVC, 3th bootstrap of size3200\n",
      "finished MultinomialNB, 3th bootstrap of size3200\n",
      "finished LogisticRegression, 3th bootstrap of size3200\n",
      "finished RandomForestClassifier, 4th bootstrap of size3200\n",
      "finished LinearSVC, 4th bootstrap of size3200\n",
      "finished MultinomialNB, 4th bootstrap of size3200\n",
      "finished LogisticRegression, 4th bootstrap of size3200\n",
      "finished RandomForestClassifier, 5th bootstrap of size3200\n",
      "finished LinearSVC, 5th bootstrap of size3200\n",
      "finished MultinomialNB, 5th bootstrap of size3200\n",
      "finished LogisticRegression, 5th bootstrap of size3200\n",
      "finished RandomForestClassifier, 6th bootstrap of size3200\n",
      "finished LinearSVC, 6th bootstrap of size3200\n",
      "finished MultinomialNB, 6th bootstrap of size3200\n",
      "finished LogisticRegression, 6th bootstrap of size3200\n",
      "finished RandomForestClassifier, 7th bootstrap of size3200\n",
      "finished LinearSVC, 7th bootstrap of size3200\n",
      "finished MultinomialNB, 7th bootstrap of size3200\n",
      "finished LogisticRegression, 7th bootstrap of size3200\n",
      "finished RandomForestClassifier, 8th bootstrap of size3200\n",
      "finished LinearSVC, 8th bootstrap of size3200\n",
      "finished MultinomialNB, 8th bootstrap of size3200\n",
      "finished LogisticRegression, 8th bootstrap of size3200\n",
      "finished RandomForestClassifier, 9th bootstrap of size3200\n",
      "finished LinearSVC, 9th bootstrap of size3200\n",
      "finished MultinomialNB, 9th bootstrap of size3200\n",
      "finished LogisticRegression, 9th bootstrap of size3200\n",
      "finished RandomForestClassifier, 0th bootstrap of size5000\n",
      "finished LinearSVC, 0th bootstrap of size5000\n",
      "finished MultinomialNB, 0th bootstrap of size5000\n",
      "finished LogisticRegression, 0th bootstrap of size5000\n",
      "finished RandomForestClassifier, 1th bootstrap of size5000\n",
      "finished LinearSVC, 1th bootstrap of size5000\n",
      "finished MultinomialNB, 1th bootstrap of size5000\n",
      "finished LogisticRegression, 1th bootstrap of size5000\n",
      "finished RandomForestClassifier, 2th bootstrap of size5000\n",
      "finished LinearSVC, 2th bootstrap of size5000\n",
      "finished MultinomialNB, 2th bootstrap of size5000\n",
      "finished LogisticRegression, 2th bootstrap of size5000\n",
      "finished RandomForestClassifier, 3th bootstrap of size5000\n",
      "finished LinearSVC, 3th bootstrap of size5000\n",
      "finished MultinomialNB, 3th bootstrap of size5000\n",
      "finished LogisticRegression, 3th bootstrap of size5000\n",
      "finished RandomForestClassifier, 4th bootstrap of size5000\n",
      "finished LinearSVC, 4th bootstrap of size5000\n",
      "finished MultinomialNB, 4th bootstrap of size5000\n",
      "finished LogisticRegression, 4th bootstrap of size5000\n",
      "finished RandomForestClassifier, 5th bootstrap of size5000\n",
      "finished LinearSVC, 5th bootstrap of size5000\n",
      "finished MultinomialNB, 5th bootstrap of size5000\n",
      "finished LogisticRegression, 5th bootstrap of size5000\n",
      "finished RandomForestClassifier, 6th bootstrap of size5000\n",
      "finished LinearSVC, 6th bootstrap of size5000\n",
      "finished MultinomialNB, 6th bootstrap of size5000\n",
      "finished LogisticRegression, 6th bootstrap of size5000\n",
      "finished RandomForestClassifier, 7th bootstrap of size5000\n",
      "finished LinearSVC, 7th bootstrap of size5000\n",
      "finished MultinomialNB, 7th bootstrap of size5000\n",
      "finished LogisticRegression, 7th bootstrap of size5000\n",
      "finished RandomForestClassifier, 8th bootstrap of size5000\n",
      "finished LinearSVC, 8th bootstrap of size5000\n",
      "finished MultinomialNB, 8th bootstrap of size5000\n",
      "finished LogisticRegression, 8th bootstrap of size5000\n",
      "finished RandomForestClassifier, 9th bootstrap of size5000\n",
      "finished LinearSVC, 9th bootstrap of size5000\n",
      "finished MultinomialNB, 9th bootstrap of size5000\n",
      "finished LogisticRegression, 9th bootstrap of size5000\n"
     ]
    }
   ],
   "source": [
    "res = algo_training_size_looper([100, 200, 400, 800, 1600, 3200, 5000], x_train, y_train, x_test, y_test)"
   ]
  },
  {
   "cell_type": "code",
   "execution_count": 60,
   "metadata": {
    "ExecuteTime": {
     "end_time": "2020-01-08T06:31:16.237304Z",
     "start_time": "2020-01-08T06:31:16.204226Z"
    }
   },
   "outputs": [
    {
     "data": {
      "text/html": [
       "<div>\n",
       "<style scoped>\n",
       "    .dataframe tbody tr th:only-of-type {\n",
       "        vertical-align: middle;\n",
       "    }\n",
       "\n",
       "    .dataframe tbody tr th {\n",
       "        vertical-align: top;\n",
       "    }\n",
       "\n",
       "    .dataframe thead th {\n",
       "        text-align: right;\n",
       "    }\n",
       "</style>\n",
       "<table border=\"1\" class=\"dataframe\">\n",
       "  <thead>\n",
       "    <tr style=\"text-align: right;\">\n",
       "      <th></th>\n",
       "      <th>model_name</th>\n",
       "      <th>training_size</th>\n",
       "      <th>accuracy</th>\n",
       "    </tr>\n",
       "  </thead>\n",
       "  <tbody>\n",
       "    <tr>\n",
       "      <th>0</th>\n",
       "      <td>RandomForestClassifier</td>\n",
       "      <td>100</td>\n",
       "      <td>0.1475</td>\n",
       "    </tr>\n",
       "    <tr>\n",
       "      <th>1</th>\n",
       "      <td>LinearSVC</td>\n",
       "      <td>100</td>\n",
       "      <td>0.7210</td>\n",
       "    </tr>\n",
       "    <tr>\n",
       "      <th>2</th>\n",
       "      <td>MultinomialNB</td>\n",
       "      <td>100</td>\n",
       "      <td>0.3605</td>\n",
       "    </tr>\n",
       "    <tr>\n",
       "      <th>3</th>\n",
       "      <td>LogisticRegression</td>\n",
       "      <td>100</td>\n",
       "      <td>0.3200</td>\n",
       "    </tr>\n",
       "    <tr>\n",
       "      <th>4</th>\n",
       "      <td>RandomForestClassifier</td>\n",
       "      <td>100</td>\n",
       "      <td>0.1690</td>\n",
       "    </tr>\n",
       "    <tr>\n",
       "      <th>...</th>\n",
       "      <td>...</td>\n",
       "      <td>...</td>\n",
       "      <td>...</td>\n",
       "    </tr>\n",
       "    <tr>\n",
       "      <th>275</th>\n",
       "      <td>LogisticRegression</td>\n",
       "      <td>5000</td>\n",
       "      <td>0.9525</td>\n",
       "    </tr>\n",
       "    <tr>\n",
       "      <th>276</th>\n",
       "      <td>RandomForestClassifier</td>\n",
       "      <td>5000</td>\n",
       "      <td>0.7760</td>\n",
       "    </tr>\n",
       "    <tr>\n",
       "      <th>277</th>\n",
       "      <td>LinearSVC</td>\n",
       "      <td>5000</td>\n",
       "      <td>0.9640</td>\n",
       "    </tr>\n",
       "    <tr>\n",
       "      <th>278</th>\n",
       "      <td>MultinomialNB</td>\n",
       "      <td>5000</td>\n",
       "      <td>0.9545</td>\n",
       "    </tr>\n",
       "    <tr>\n",
       "      <th>279</th>\n",
       "      <td>LogisticRegression</td>\n",
       "      <td>5000</td>\n",
       "      <td>0.9545</td>\n",
       "    </tr>\n",
       "  </tbody>\n",
       "</table>\n",
       "<p>280 rows × 3 columns</p>\n",
       "</div>"
      ],
      "text/plain": [
       "                 model_name  training_size  accuracy\n",
       "0    RandomForestClassifier            100    0.1475\n",
       "1                 LinearSVC            100    0.7210\n",
       "2             MultinomialNB            100    0.3605\n",
       "3        LogisticRegression            100    0.3200\n",
       "4    RandomForestClassifier            100    0.1690\n",
       "..                      ...            ...       ...\n",
       "275      LogisticRegression           5000    0.9525\n",
       "276  RandomForestClassifier           5000    0.7760\n",
       "277               LinearSVC           5000    0.9640\n",
       "278           MultinomialNB           5000    0.9545\n",
       "279      LogisticRegression           5000    0.9545\n",
       "\n",
       "[280 rows x 3 columns]"
      ]
     },
     "execution_count": 60,
     "metadata": {},
     "output_type": "execute_result"
    }
   ],
   "source": [
    "res"
   ]
  },
  {
   "cell_type": "code",
   "execution_count": 61,
   "metadata": {
    "ExecuteTime": {
     "end_time": "2020-01-08T06:31:23.221028Z",
     "start_time": "2020-01-08T06:31:23.193166Z"
    }
   },
   "outputs": [],
   "source": [
    "res.to_csv(DBPEDIA/\"Algo_size_7_4_10_dbpedia.csv\")"
   ]
  },
  {
   "cell_type": "code",
   "execution_count": 69,
   "metadata": {
    "ExecuteTime": {
     "end_time": "2020-01-09T04:57:47.037041Z",
     "start_time": "2020-01-09T04:57:46.982545Z"
    }
   },
   "outputs": [
    {
     "data": {
      "text/html": [
       "<div>\n",
       "<style scoped>\n",
       "    .dataframe tbody tr th:only-of-type {\n",
       "        vertical-align: middle;\n",
       "    }\n",
       "\n",
       "    .dataframe tbody tr th {\n",
       "        vertical-align: top;\n",
       "    }\n",
       "\n",
       "    .dataframe thead th {\n",
       "        text-align: right;\n",
       "    }\n",
       "</style>\n",
       "<table border=\"1\" class=\"dataframe\">\n",
       "  <thead>\n",
       "    <tr style=\"text-align: right;\">\n",
       "      <th></th>\n",
       "      <th>model_name</th>\n",
       "      <th>training_size</th>\n",
       "      <th>accuracy</th>\n",
       "    </tr>\n",
       "  </thead>\n",
       "  <tbody>\n",
       "    <tr>\n",
       "      <th>0</th>\n",
       "      <td>bert</td>\n",
       "      <td>100</td>\n",
       "      <td>tensor(0.3335)</td>\n",
       "    </tr>\n",
       "    <tr>\n",
       "      <th>1</th>\n",
       "      <td>bert</td>\n",
       "      <td>100</td>\n",
       "      <td>tensor(0.3680)</td>\n",
       "    </tr>\n",
       "    <tr>\n",
       "      <th>2</th>\n",
       "      <td>bert</td>\n",
       "      <td>100</td>\n",
       "      <td>tensor(0.5510)</td>\n",
       "    </tr>\n",
       "    <tr>\n",
       "      <th>3</th>\n",
       "      <td>bert</td>\n",
       "      <td>100</td>\n",
       "      <td>tensor(0.3615)</td>\n",
       "    </tr>\n",
       "    <tr>\n",
       "      <th>4</th>\n",
       "      <td>bert</td>\n",
       "      <td>100</td>\n",
       "      <td>tensor(0.3715)</td>\n",
       "    </tr>\n",
       "    <tr>\n",
       "      <th>5</th>\n",
       "      <td>bert</td>\n",
       "      <td>200</td>\n",
       "      <td>tensor(0.8555)</td>\n",
       "    </tr>\n",
       "    <tr>\n",
       "      <th>6</th>\n",
       "      <td>bert</td>\n",
       "      <td>200</td>\n",
       "      <td>tensor(0.8600)</td>\n",
       "    </tr>\n",
       "    <tr>\n",
       "      <th>7</th>\n",
       "      <td>bert</td>\n",
       "      <td>200</td>\n",
       "      <td>tensor(0.8475)</td>\n",
       "    </tr>\n",
       "    <tr>\n",
       "      <th>8</th>\n",
       "      <td>bert</td>\n",
       "      <td>200</td>\n",
       "      <td>tensor(0.8100)</td>\n",
       "    </tr>\n",
       "    <tr>\n",
       "      <th>9</th>\n",
       "      <td>bert</td>\n",
       "      <td>200</td>\n",
       "      <td>tensor(0.8230)</td>\n",
       "    </tr>\n",
       "    <tr>\n",
       "      <th>10</th>\n",
       "      <td>bert</td>\n",
       "      <td>400</td>\n",
       "      <td>tensor(0.8725)</td>\n",
       "    </tr>\n",
       "    <tr>\n",
       "      <th>11</th>\n",
       "      <td>bert</td>\n",
       "      <td>400</td>\n",
       "      <td>tensor(0.8650)</td>\n",
       "    </tr>\n",
       "    <tr>\n",
       "      <th>12</th>\n",
       "      <td>bert</td>\n",
       "      <td>400</td>\n",
       "      <td>tensor(0.8785)</td>\n",
       "    </tr>\n",
       "    <tr>\n",
       "      <th>13</th>\n",
       "      <td>bert</td>\n",
       "      <td>400</td>\n",
       "      <td>tensor(0.8465)</td>\n",
       "    </tr>\n",
       "    <tr>\n",
       "      <th>14</th>\n",
       "      <td>bert</td>\n",
       "      <td>400</td>\n",
       "      <td>tensor(0.8715)</td>\n",
       "    </tr>\n",
       "    <tr>\n",
       "      <th>15</th>\n",
       "      <td>bert</td>\n",
       "      <td>800</td>\n",
       "      <td>tensor(0.8740)</td>\n",
       "    </tr>\n",
       "    <tr>\n",
       "      <th>16</th>\n",
       "      <td>bert</td>\n",
       "      <td>800</td>\n",
       "      <td>tensor(0.8890)</td>\n",
       "    </tr>\n",
       "    <tr>\n",
       "      <th>17</th>\n",
       "      <td>bert</td>\n",
       "      <td>800</td>\n",
       "      <td>tensor(0.8665)</td>\n",
       "    </tr>\n",
       "    <tr>\n",
       "      <th>18</th>\n",
       "      <td>bert</td>\n",
       "      <td>800</td>\n",
       "      <td>tensor(0.8735)</td>\n",
       "    </tr>\n",
       "    <tr>\n",
       "      <th>19</th>\n",
       "      <td>bert</td>\n",
       "      <td>800</td>\n",
       "      <td>tensor(0.8650)</td>\n",
       "    </tr>\n",
       "    <tr>\n",
       "      <th>20</th>\n",
       "      <td>bert</td>\n",
       "      <td>1600</td>\n",
       "      <td>tensor(0.8850)</td>\n",
       "    </tr>\n",
       "    <tr>\n",
       "      <th>21</th>\n",
       "      <td>bert</td>\n",
       "      <td>1600</td>\n",
       "      <td>tensor(0.8695)</td>\n",
       "    </tr>\n",
       "    <tr>\n",
       "      <th>22</th>\n",
       "      <td>bert</td>\n",
       "      <td>1600</td>\n",
       "      <td>tensor(0.8710)</td>\n",
       "    </tr>\n",
       "    <tr>\n",
       "      <th>23</th>\n",
       "      <td>bert</td>\n",
       "      <td>1600</td>\n",
       "      <td>tensor(0.8830)</td>\n",
       "    </tr>\n",
       "    <tr>\n",
       "      <th>24</th>\n",
       "      <td>bert</td>\n",
       "      <td>1600</td>\n",
       "      <td>tensor(0.8785)</td>\n",
       "    </tr>\n",
       "    <tr>\n",
       "      <th>25</th>\n",
       "      <td>bert</td>\n",
       "      <td>3200</td>\n",
       "      <td>tensor(0.8730)</td>\n",
       "    </tr>\n",
       "    <tr>\n",
       "      <th>26</th>\n",
       "      <td>bert</td>\n",
       "      <td>3200</td>\n",
       "      <td>tensor(0.8940)</td>\n",
       "    </tr>\n",
       "    <tr>\n",
       "      <th>27</th>\n",
       "      <td>bert</td>\n",
       "      <td>3200</td>\n",
       "      <td>tensor(0.8975)</td>\n",
       "    </tr>\n",
       "    <tr>\n",
       "      <th>28</th>\n",
       "      <td>bert</td>\n",
       "      <td>3200</td>\n",
       "      <td>tensor(0.8915)</td>\n",
       "    </tr>\n",
       "    <tr>\n",
       "      <th>29</th>\n",
       "      <td>bert</td>\n",
       "      <td>3200</td>\n",
       "      <td>tensor(0.8885)</td>\n",
       "    </tr>\n",
       "    <tr>\n",
       "      <th>30</th>\n",
       "      <td>bert</td>\n",
       "      <td>5000</td>\n",
       "      <td>tensor(0.8900)</td>\n",
       "    </tr>\n",
       "    <tr>\n",
       "      <th>31</th>\n",
       "      <td>bert</td>\n",
       "      <td>5000</td>\n",
       "      <td>tensor(0.8920)</td>\n",
       "    </tr>\n",
       "    <tr>\n",
       "      <th>32</th>\n",
       "      <td>bert</td>\n",
       "      <td>5000</td>\n",
       "      <td>tensor(0.8915)</td>\n",
       "    </tr>\n",
       "    <tr>\n",
       "      <th>33</th>\n",
       "      <td>bert</td>\n",
       "      <td>5000</td>\n",
       "      <td>tensor(0.8990)</td>\n",
       "    </tr>\n",
       "    <tr>\n",
       "      <th>34</th>\n",
       "      <td>bert</td>\n",
       "      <td>5000</td>\n",
       "      <td>tensor(0.8920)</td>\n",
       "    </tr>\n",
       "  </tbody>\n",
       "</table>\n",
       "</div>"
      ],
      "text/plain": [
       "   model_name  training_size        accuracy\n",
       "0        bert            100  tensor(0.3335)\n",
       "1        bert            100  tensor(0.3680)\n",
       "2        bert            100  tensor(0.5510)\n",
       "3        bert            100  tensor(0.3615)\n",
       "4        bert            100  tensor(0.3715)\n",
       "5        bert            200  tensor(0.8555)\n",
       "6        bert            200  tensor(0.8600)\n",
       "7        bert            200  tensor(0.8475)\n",
       "8        bert            200  tensor(0.8100)\n",
       "9        bert            200  tensor(0.8230)\n",
       "10       bert            400  tensor(0.8725)\n",
       "11       bert            400  tensor(0.8650)\n",
       "12       bert            400  tensor(0.8785)\n",
       "13       bert            400  tensor(0.8465)\n",
       "14       bert            400  tensor(0.8715)\n",
       "15       bert            800  tensor(0.8740)\n",
       "16       bert            800  tensor(0.8890)\n",
       "17       bert            800  tensor(0.8665)\n",
       "18       bert            800  tensor(0.8735)\n",
       "19       bert            800  tensor(0.8650)\n",
       "20       bert           1600  tensor(0.8850)\n",
       "21       bert           1600  tensor(0.8695)\n",
       "22       bert           1600  tensor(0.8710)\n",
       "23       bert           1600  tensor(0.8830)\n",
       "24       bert           1600  tensor(0.8785)\n",
       "25       bert           3200  tensor(0.8730)\n",
       "26       bert           3200  tensor(0.8940)\n",
       "27       bert           3200  tensor(0.8975)\n",
       "28       bert           3200  tensor(0.8915)\n",
       "29       bert           3200  tensor(0.8885)\n",
       "30       bert           5000  tensor(0.8900)\n",
       "31       bert           5000  tensor(0.8920)\n",
       "32       bert           5000  tensor(0.8915)\n",
       "33       bert           5000  tensor(0.8990)\n",
       "34       bert           5000  tensor(0.8920)"
      ]
     },
     "execution_count": 69,
     "metadata": {},
     "output_type": "execute_result"
    }
   ],
   "source": [
    "res"
   ]
  },
  {
   "cell_type": "markdown",
   "metadata": {},
   "source": [
    "##### DL models"
   ]
  },
  {
   "cell_type": "code",
   "execution_count": 49,
   "metadata": {
    "ExecuteTime": {
     "end_time": "2020-01-09T03:36:46.388952Z",
     "start_time": "2020-01-09T03:36:42.691723Z"
    }
   },
   "outputs": [],
   "source": [
    "df = DBPEDIA_TRAIN\n",
    "\n",
    "x_train, x_test, y_train, y_test = train_test_split(df['contents'], df['class'], test_size=2000, random_state=0)\n",
    "bert_model = BertForSequenceClassification.from_pretrained(config.bert_model_name, num_labels= 13 )"
   ]
  },
  {
   "cell_type": "code",
   "execution_count": 51,
   "metadata": {
    "ExecuteTime": {
     "end_time": "2020-01-09T03:37:08.714815Z",
     "start_time": "2020-01-09T03:37:08.686952Z"
    }
   },
   "outputs": [
    {
     "data": {
      "text/plain": [
       "13"
      ]
     },
     "execution_count": 51,
     "metadata": {},
     "output_type": "execute_result"
    }
   ],
   "source": [
    "len(df['class'].unique())"
   ]
  },
  {
   "cell_type": "code",
   "execution_count": 52,
   "metadata": {
    "ExecuteTime": {
     "end_time": "2020-01-09T03:37:14.802287Z",
     "start_time": "2020-01-09T03:37:14.758439Z"
    }
   },
   "outputs": [
    {
     "data": {
      "text/html": [
       "<div>\n",
       "<style scoped>\n",
       "    .dataframe tbody tr th:only-of-type {\n",
       "        vertical-align: middle;\n",
       "    }\n",
       "\n",
       "    .dataframe tbody tr th {\n",
       "        vertical-align: top;\n",
       "    }\n",
       "\n",
       "    .dataframe thead th {\n",
       "        text-align: right;\n",
       "    }\n",
       "</style>\n",
       "<table border=\"1\" class=\"dataframe\">\n",
       "  <thead>\n",
       "    <tr style=\"text-align: right;\">\n",
       "      <th></th>\n",
       "      <th>contents</th>\n",
       "      <th>class</th>\n",
       "    </tr>\n",
       "  </thead>\n",
       "  <tbody>\n",
       "    <tr>\n",
       "      <th>0</th>\n",
       "      <td>Creswell Crags is a limestone gorge on the bo...</td>\n",
       "      <td>Village</td>\n",
       "    </tr>\n",
       "    <tr>\n",
       "      <th>1</th>\n",
       "      <td>Haxan Films is a production company headquart...</td>\n",
       "      <td>EducationalInstitution</td>\n",
       "    </tr>\n",
       "    <tr>\n",
       "      <th>2</th>\n",
       "      <td>Simon and Garfunkel's Greatest Hits is the fi...</td>\n",
       "      <td>Film</td>\n",
       "    </tr>\n",
       "    <tr>\n",
       "      <th>3</th>\n",
       "      <td>Underworld is a 1997 comedy thriller film tha...</td>\n",
       "      <td>WrittenWork</td>\n",
       "    </tr>\n",
       "    <tr>\n",
       "      <th>4</th>\n",
       "      <td>The Cotești River is a tributary of the Oreav...</td>\n",
       "      <td>Village</td>\n",
       "    </tr>\n",
       "    <tr>\n",
       "      <th>...</th>\n",
       "      <td>...</td>\n",
       "      <td>...</td>\n",
       "    </tr>\n",
       "    <tr>\n",
       "      <th>1995</th>\n",
       "      <td>Loblaw Companies Limited a subsidiary of Geor...</td>\n",
       "      <td>EducationalInstitution</td>\n",
       "    </tr>\n",
       "    <tr>\n",
       "      <th>1996</th>\n",
       "      <td>The Joseph Loth Company Building is located i...</td>\n",
       "      <td>NaturalPlace</td>\n",
       "    </tr>\n",
       "    <tr>\n",
       "      <th>1997</th>\n",
       "      <td>USS General William Weigel (AP-119) was a tro...</td>\n",
       "      <td>Building</td>\n",
       "    </tr>\n",
       "    <tr>\n",
       "      <th>1998</th>\n",
       "      <td>Hildasay is a 7606 GT Ro-Ro ferry which was b...</td>\n",
       "      <td>Building</td>\n",
       "    </tr>\n",
       "    <tr>\n",
       "      <th>1999</th>\n",
       "      <td>Karkarreh (Persian: كركره‎; also known as Kar...</td>\n",
       "      <td>Animal</td>\n",
       "    </tr>\n",
       "  </tbody>\n",
       "</table>\n",
       "<p>2000 rows × 2 columns</p>\n",
       "</div>"
      ],
      "text/plain": [
       "                                               contents  \\\n",
       "0      Creswell Crags is a limestone gorge on the bo...   \n",
       "1      Haxan Films is a production company headquart...   \n",
       "2      Simon and Garfunkel's Greatest Hits is the fi...   \n",
       "3      Underworld is a 1997 comedy thriller film tha...   \n",
       "4      The Cotești River is a tributary of the Oreav...   \n",
       "...                                                 ...   \n",
       "1995   Loblaw Companies Limited a subsidiary of Geor...   \n",
       "1996   The Joseph Loth Company Building is located i...   \n",
       "1997   USS General William Weigel (AP-119) was a tro...   \n",
       "1998   Hildasay is a 7606 GT Ro-Ro ferry which was b...   \n",
       "1999   Karkarreh (Persian: كركره‎; also known as Kar...   \n",
       "\n",
       "                       class  \n",
       "0                    Village  \n",
       "1     EducationalInstitution  \n",
       "2                       Film  \n",
       "3                WrittenWork  \n",
       "4                    Village  \n",
       "...                      ...  \n",
       "1995  EducationalInstitution  \n",
       "1996            NaturalPlace  \n",
       "1997                Building  \n",
       "1998                Building  \n",
       "1999                  Animal  \n",
       "\n",
       "[2000 rows x 2 columns]"
      ]
     },
     "execution_count": 52,
     "metadata": {},
     "output_type": "execute_result"
    }
   ],
   "source": [
    "train = pd.DataFrame({'contents': x_train, \n",
    "                      'class': y_train})\n",
    "val = pd.DataFrame({'contents': x_test, \n",
    "                      'class': y_test})\n",
    "train = train.reset_index()[['contents', 'class']]\n",
    "val = val.reset_index()[['contents', 'class']]\n",
    "val"
   ]
  },
  {
   "cell_type": "code",
   "execution_count": 54,
   "metadata": {
    "ExecuteTime": {
     "end_time": "2020-01-09T03:38:17.372992Z",
     "start_time": "2020-01-09T03:38:17.349470Z"
    }
   },
   "outputs": [],
   "source": [
    "text_cols = \"contents\"\n",
    "label_cols = 'class'"
   ]
  },
  {
   "cell_type": "code",
   "execution_count": 55,
   "metadata": {
    "ExecuteTime": {
     "end_time": "2020-01-09T04:46:11.572166Z",
     "start_time": "2020-01-09T03:38:21.018933Z"
    }
   },
   "outputs": [
    {
     "data": {
      "text/html": [],
      "text/plain": [
       "<IPython.core.display.HTML object>"
      ]
     },
     "metadata": {},
     "output_type": "display_data"
    },
    {
     "data": {
      "text/html": [],
      "text/plain": [
       "<IPython.core.display.HTML object>"
      ]
     },
     "metadata": {},
     "output_type": "display_data"
    },
    {
     "data": {
      "text/html": [
       "<table border=\"1\" class=\"dataframe\">\n",
       "  <thead>\n",
       "    <tr style=\"text-align: left;\">\n",
       "      <th>epoch</th>\n",
       "      <th>train_loss</th>\n",
       "      <th>valid_loss</th>\n",
       "      <th>accuracy</th>\n",
       "      <th>time</th>\n",
       "    </tr>\n",
       "  </thead>\n",
       "  <tbody>\n",
       "    <tr>\n",
       "      <td>0</td>\n",
       "      <td>2.628309</td>\n",
       "      <td>2.655365</td>\n",
       "      <td>0.081000</td>\n",
       "      <td>00:06</td>\n",
       "    </tr>\n",
       "    <tr>\n",
       "      <td>1</td>\n",
       "      <td>2.579698</td>\n",
       "      <td>2.718538</td>\n",
       "      <td>0.080000</td>\n",
       "      <td>00:06</td>\n",
       "    </tr>\n",
       "    <tr>\n",
       "      <td>2</td>\n",
       "      <td>2.622060</td>\n",
       "      <td>2.681518</td>\n",
       "      <td>0.080000</td>\n",
       "      <td>00:06</td>\n",
       "    </tr>\n",
       "    <tr>\n",
       "      <td>3</td>\n",
       "      <td>2.623421</td>\n",
       "      <td>2.589539</td>\n",
       "      <td>0.114500</td>\n",
       "      <td>00:06</td>\n",
       "    </tr>\n",
       "    <tr>\n",
       "      <td>4</td>\n",
       "      <td>2.583529</td>\n",
       "      <td>2.459984</td>\n",
       "      <td>0.327000</td>\n",
       "      <td>00:06</td>\n",
       "    </tr>\n",
       "    <tr>\n",
       "      <td>5</td>\n",
       "      <td>2.515393</td>\n",
       "      <td>2.407387</td>\n",
       "      <td>0.363000</td>\n",
       "      <td>00:06</td>\n",
       "    </tr>\n",
       "  </tbody>\n",
       "</table>"
      ],
      "text/plain": [
       "<IPython.core.display.HTML object>"
      ]
     },
     "metadata": {},
     "output_type": "display_data"
    },
    {
     "data": {
      "text/html": [],
      "text/plain": [
       "<IPython.core.display.HTML object>"
      ]
     },
     "metadata": {},
     "output_type": "display_data"
    },
    {
     "name": "stdout",
     "output_type": "stream",
     "text": [
      "finished 0th bootstrap of size100\n"
     ]
    },
    {
     "data": {
      "text/html": [],
      "text/plain": [
       "<IPython.core.display.HTML object>"
      ]
     },
     "metadata": {},
     "output_type": "display_data"
    },
    {
     "data": {
      "text/html": [],
      "text/plain": [
       "<IPython.core.display.HTML object>"
      ]
     },
     "metadata": {},
     "output_type": "display_data"
    },
    {
     "data": {
      "text/html": [
       "<table border=\"1\" class=\"dataframe\">\n",
       "  <thead>\n",
       "    <tr style=\"text-align: left;\">\n",
       "      <th>epoch</th>\n",
       "      <th>train_loss</th>\n",
       "      <th>valid_loss</th>\n",
       "      <th>accuracy</th>\n",
       "      <th>time</th>\n",
       "    </tr>\n",
       "  </thead>\n",
       "  <tbody>\n",
       "    <tr>\n",
       "      <td>0</td>\n",
       "      <td>2.627350</td>\n",
       "      <td>2.579783</td>\n",
       "      <td>0.092000</td>\n",
       "      <td>00:06</td>\n",
       "    </tr>\n",
       "    <tr>\n",
       "      <td>1</td>\n",
       "      <td>2.587947</td>\n",
       "      <td>2.458906</td>\n",
       "      <td>0.117000</td>\n",
       "      <td>00:06</td>\n",
       "    </tr>\n",
       "    <tr>\n",
       "      <td>2</td>\n",
       "      <td>2.555949</td>\n",
       "      <td>2.366641</td>\n",
       "      <td>0.232500</td>\n",
       "      <td>00:06</td>\n",
       "    </tr>\n",
       "    <tr>\n",
       "      <td>3</td>\n",
       "      <td>2.478242</td>\n",
       "      <td>2.240307</td>\n",
       "      <td>0.348000</td>\n",
       "      <td>00:06</td>\n",
       "    </tr>\n",
       "    <tr>\n",
       "      <td>4</td>\n",
       "      <td>2.396016</td>\n",
       "      <td>2.152761</td>\n",
       "      <td>0.418000</td>\n",
       "      <td>00:06</td>\n",
       "    </tr>\n",
       "    <tr>\n",
       "      <td>5</td>\n",
       "      <td>2.311808</td>\n",
       "      <td>2.117683</td>\n",
       "      <td>0.451500</td>\n",
       "      <td>00:06</td>\n",
       "    </tr>\n",
       "  </tbody>\n",
       "</table>"
      ],
      "text/plain": [
       "<IPython.core.display.HTML object>"
      ]
     },
     "metadata": {},
     "output_type": "display_data"
    },
    {
     "data": {
      "text/html": [],
      "text/plain": [
       "<IPython.core.display.HTML object>"
      ]
     },
     "metadata": {},
     "output_type": "display_data"
    },
    {
     "name": "stdout",
     "output_type": "stream",
     "text": [
      "finished 1th bootstrap of size100\n"
     ]
    },
    {
     "data": {
      "text/html": [],
      "text/plain": [
       "<IPython.core.display.HTML object>"
      ]
     },
     "metadata": {},
     "output_type": "display_data"
    },
    {
     "data": {
      "text/html": [],
      "text/plain": [
       "<IPython.core.display.HTML object>"
      ]
     },
     "metadata": {},
     "output_type": "display_data"
    },
    {
     "data": {
      "text/html": [
       "<table border=\"1\" class=\"dataframe\">\n",
       "  <thead>\n",
       "    <tr style=\"text-align: left;\">\n",
       "      <th>epoch</th>\n",
       "      <th>train_loss</th>\n",
       "      <th>valid_loss</th>\n",
       "      <th>accuracy</th>\n",
       "      <th>time</th>\n",
       "    </tr>\n",
       "  </thead>\n",
       "  <tbody>\n",
       "    <tr>\n",
       "      <td>0</td>\n",
       "      <td>2.587264</td>\n",
       "      <td>2.577562</td>\n",
       "      <td>0.091000</td>\n",
       "      <td>00:06</td>\n",
       "    </tr>\n",
       "    <tr>\n",
       "      <td>1</td>\n",
       "      <td>2.542512</td>\n",
       "      <td>2.665678</td>\n",
       "      <td>0.076500</td>\n",
       "      <td>00:06</td>\n",
       "    </tr>\n",
       "    <tr>\n",
       "      <td>2</td>\n",
       "      <td>2.532995</td>\n",
       "      <td>2.585518</td>\n",
       "      <td>0.080000</td>\n",
       "      <td>00:06</td>\n",
       "    </tr>\n",
       "    <tr>\n",
       "      <td>3</td>\n",
       "      <td>2.546113</td>\n",
       "      <td>2.592949</td>\n",
       "      <td>0.077000</td>\n",
       "      <td>00:06</td>\n",
       "    </tr>\n",
       "    <tr>\n",
       "      <td>4</td>\n",
       "      <td>2.541344</td>\n",
       "      <td>2.590749</td>\n",
       "      <td>0.077000</td>\n",
       "      <td>00:06</td>\n",
       "    </tr>\n",
       "    <tr>\n",
       "      <td>5</td>\n",
       "      <td>2.533124</td>\n",
       "      <td>2.589270</td>\n",
       "      <td>0.077000</td>\n",
       "      <td>00:06</td>\n",
       "    </tr>\n",
       "  </tbody>\n",
       "</table>"
      ],
      "text/plain": [
       "<IPython.core.display.HTML object>"
      ]
     },
     "metadata": {},
     "output_type": "display_data"
    },
    {
     "data": {
      "text/html": [],
      "text/plain": [
       "<IPython.core.display.HTML object>"
      ]
     },
     "metadata": {},
     "output_type": "display_data"
    },
    {
     "name": "stdout",
     "output_type": "stream",
     "text": [
      "finished 2th bootstrap of size100\n"
     ]
    },
    {
     "data": {
      "text/html": [],
      "text/plain": [
       "<IPython.core.display.HTML object>"
      ]
     },
     "metadata": {},
     "output_type": "display_data"
    },
    {
     "data": {
      "text/html": [],
      "text/plain": [
       "<IPython.core.display.HTML object>"
      ]
     },
     "metadata": {},
     "output_type": "display_data"
    },
    {
     "data": {
      "text/html": [
       "<table border=\"1\" class=\"dataframe\">\n",
       "  <thead>\n",
       "    <tr style=\"text-align: left;\">\n",
       "      <th>epoch</th>\n",
       "      <th>train_loss</th>\n",
       "      <th>valid_loss</th>\n",
       "      <th>accuracy</th>\n",
       "      <th>time</th>\n",
       "    </tr>\n",
       "  </thead>\n",
       "  <tbody>\n",
       "    <tr>\n",
       "      <td>0</td>\n",
       "      <td>2.526811</td>\n",
       "      <td>2.637180</td>\n",
       "      <td>0.095500</td>\n",
       "      <td>00:06</td>\n",
       "    </tr>\n",
       "    <tr>\n",
       "      <td>1</td>\n",
       "      <td>2.518591</td>\n",
       "      <td>2.586687</td>\n",
       "      <td>0.088000</td>\n",
       "      <td>00:06</td>\n",
       "    </tr>\n",
       "    <tr>\n",
       "      <td>2</td>\n",
       "      <td>2.522826</td>\n",
       "      <td>2.496320</td>\n",
       "      <td>0.146000</td>\n",
       "      <td>00:06</td>\n",
       "    </tr>\n",
       "    <tr>\n",
       "      <td>3</td>\n",
       "      <td>2.496233</td>\n",
       "      <td>2.443063</td>\n",
       "      <td>0.180000</td>\n",
       "      <td>00:06</td>\n",
       "    </tr>\n",
       "    <tr>\n",
       "      <td>4</td>\n",
       "      <td>2.452444</td>\n",
       "      <td>2.374165</td>\n",
       "      <td>0.218000</td>\n",
       "      <td>00:06</td>\n",
       "    </tr>\n",
       "    <tr>\n",
       "      <td>5</td>\n",
       "      <td>2.400150</td>\n",
       "      <td>2.344617</td>\n",
       "      <td>0.231500</td>\n",
       "      <td>00:06</td>\n",
       "    </tr>\n",
       "  </tbody>\n",
       "</table>"
      ],
      "text/plain": [
       "<IPython.core.display.HTML object>"
      ]
     },
     "metadata": {},
     "output_type": "display_data"
    },
    {
     "data": {
      "text/html": [],
      "text/plain": [
       "<IPython.core.display.HTML object>"
      ]
     },
     "metadata": {},
     "output_type": "display_data"
    },
    {
     "name": "stdout",
     "output_type": "stream",
     "text": [
      "finished 3th bootstrap of size100\n"
     ]
    },
    {
     "data": {
      "text/html": [],
      "text/plain": [
       "<IPython.core.display.HTML object>"
      ]
     },
     "metadata": {},
     "output_type": "display_data"
    },
    {
     "data": {
      "text/html": [],
      "text/plain": [
       "<IPython.core.display.HTML object>"
      ]
     },
     "metadata": {},
     "output_type": "display_data"
    },
    {
     "data": {
      "text/html": [
       "<table border=\"1\" class=\"dataframe\">\n",
       "  <thead>\n",
       "    <tr style=\"text-align: left;\">\n",
       "      <th>epoch</th>\n",
       "      <th>train_loss</th>\n",
       "      <th>valid_loss</th>\n",
       "      <th>accuracy</th>\n",
       "      <th>time</th>\n",
       "    </tr>\n",
       "  </thead>\n",
       "  <tbody>\n",
       "    <tr>\n",
       "      <td>0</td>\n",
       "      <td>2.557149</td>\n",
       "      <td>2.546288</td>\n",
       "      <td>0.086500</td>\n",
       "      <td>00:06</td>\n",
       "    </tr>\n",
       "    <tr>\n",
       "      <td>1</td>\n",
       "      <td>2.512912</td>\n",
       "      <td>2.480638</td>\n",
       "      <td>0.167000</td>\n",
       "      <td>00:06</td>\n",
       "    </tr>\n",
       "    <tr>\n",
       "      <td>2</td>\n",
       "      <td>2.475119</td>\n",
       "      <td>2.452952</td>\n",
       "      <td>0.254000</td>\n",
       "      <td>00:06</td>\n",
       "    </tr>\n",
       "    <tr>\n",
       "      <td>3</td>\n",
       "      <td>2.473247</td>\n",
       "      <td>2.417611</td>\n",
       "      <td>0.291000</td>\n",
       "      <td>00:06</td>\n",
       "    </tr>\n",
       "    <tr>\n",
       "      <td>4</td>\n",
       "      <td>2.398837</td>\n",
       "      <td>2.376498</td>\n",
       "      <td>0.324500</td>\n",
       "      <td>00:06</td>\n",
       "    </tr>\n",
       "    <tr>\n",
       "      <td>5</td>\n",
       "      <td>2.334493</td>\n",
       "      <td>2.359336</td>\n",
       "      <td>0.333500</td>\n",
       "      <td>00:06</td>\n",
       "    </tr>\n",
       "  </tbody>\n",
       "</table>"
      ],
      "text/plain": [
       "<IPython.core.display.HTML object>"
      ]
     },
     "metadata": {},
     "output_type": "display_data"
    },
    {
     "data": {
      "text/html": [],
      "text/plain": [
       "<IPython.core.display.HTML object>"
      ]
     },
     "metadata": {},
     "output_type": "display_data"
    },
    {
     "name": "stdout",
     "output_type": "stream",
     "text": [
      "finished 4th bootstrap of size100\n"
     ]
    },
    {
     "data": {
      "text/html": [],
      "text/plain": [
       "<IPython.core.display.HTML object>"
      ]
     },
     "metadata": {},
     "output_type": "display_data"
    },
    {
     "data": {
      "text/html": [],
      "text/plain": [
       "<IPython.core.display.HTML object>"
      ]
     },
     "metadata": {},
     "output_type": "display_data"
    },
    {
     "data": {
      "text/html": [
       "<table border=\"1\" class=\"dataframe\">\n",
       "  <thead>\n",
       "    <tr style=\"text-align: left;\">\n",
       "      <th>epoch</th>\n",
       "      <th>train_loss</th>\n",
       "      <th>valid_loss</th>\n",
       "      <th>accuracy</th>\n",
       "      <th>time</th>\n",
       "    </tr>\n",
       "  </thead>\n",
       "  <tbody>\n",
       "    <tr>\n",
       "      <td>0</td>\n",
       "      <td>2.508589</td>\n",
       "      <td>2.321689</td>\n",
       "      <td>0.211500</td>\n",
       "      <td>00:07</td>\n",
       "    </tr>\n",
       "    <tr>\n",
       "      <td>1</td>\n",
       "      <td>2.362354</td>\n",
       "      <td>2.142971</td>\n",
       "      <td>0.314500</td>\n",
       "      <td>00:07</td>\n",
       "    </tr>\n",
       "    <tr>\n",
       "      <td>2</td>\n",
       "      <td>2.291152</td>\n",
       "      <td>1.773053</td>\n",
       "      <td>0.382000</td>\n",
       "      <td>00:07</td>\n",
       "    </tr>\n",
       "    <tr>\n",
       "      <td>3</td>\n",
       "      <td>2.096833</td>\n",
       "      <td>1.326410</td>\n",
       "      <td>0.700500</td>\n",
       "      <td>00:07</td>\n",
       "    </tr>\n",
       "    <tr>\n",
       "      <td>4</td>\n",
       "      <td>1.883158</td>\n",
       "      <td>1.063161</td>\n",
       "      <td>0.805500</td>\n",
       "      <td>00:07</td>\n",
       "    </tr>\n",
       "    <tr>\n",
       "      <td>5</td>\n",
       "      <td>1.701365</td>\n",
       "      <td>0.999103</td>\n",
       "      <td>0.822500</td>\n",
       "      <td>00:07</td>\n",
       "    </tr>\n",
       "  </tbody>\n",
       "</table>"
      ],
      "text/plain": [
       "<IPython.core.display.HTML object>"
      ]
     },
     "metadata": {},
     "output_type": "display_data"
    },
    {
     "data": {
      "text/html": [],
      "text/plain": [
       "<IPython.core.display.HTML object>"
      ]
     },
     "metadata": {},
     "output_type": "display_data"
    },
    {
     "name": "stdout",
     "output_type": "stream",
     "text": [
      "finished 0th bootstrap of size200\n"
     ]
    },
    {
     "data": {
      "text/html": [],
      "text/plain": [
       "<IPython.core.display.HTML object>"
      ]
     },
     "metadata": {},
     "output_type": "display_data"
    },
    {
     "data": {
      "text/html": [],
      "text/plain": [
       "<IPython.core.display.HTML object>"
      ]
     },
     "metadata": {},
     "output_type": "display_data"
    },
    {
     "data": {
      "text/html": [
       "<table border=\"1\" class=\"dataframe\">\n",
       "  <thead>\n",
       "    <tr style=\"text-align: left;\">\n",
       "      <th>epoch</th>\n",
       "      <th>train_loss</th>\n",
       "      <th>valid_loss</th>\n",
       "      <th>accuracy</th>\n",
       "      <th>time</th>\n",
       "    </tr>\n",
       "  </thead>\n",
       "  <tbody>\n",
       "    <tr>\n",
       "      <td>0</td>\n",
       "      <td>2.565384</td>\n",
       "      <td>2.405195</td>\n",
       "      <td>0.242500</td>\n",
       "      <td>00:07</td>\n",
       "    </tr>\n",
       "    <tr>\n",
       "      <td>1</td>\n",
       "      <td>2.465697</td>\n",
       "      <td>2.078305</td>\n",
       "      <td>0.412000</td>\n",
       "      <td>00:07</td>\n",
       "    </tr>\n",
       "    <tr>\n",
       "      <td>2</td>\n",
       "      <td>2.242073</td>\n",
       "      <td>1.517658</td>\n",
       "      <td>0.612000</td>\n",
       "      <td>00:07</td>\n",
       "    </tr>\n",
       "    <tr>\n",
       "      <td>3</td>\n",
       "      <td>1.941984</td>\n",
       "      <td>0.954906</td>\n",
       "      <td>0.892500</td>\n",
       "      <td>00:07</td>\n",
       "    </tr>\n",
       "    <tr>\n",
       "      <td>4</td>\n",
       "      <td>1.671779</td>\n",
       "      <td>0.644825</td>\n",
       "      <td>0.968500</td>\n",
       "      <td>00:07</td>\n",
       "    </tr>\n",
       "    <tr>\n",
       "      <td>5</td>\n",
       "      <td>1.454944</td>\n",
       "      <td>0.597949</td>\n",
       "      <td>0.973000</td>\n",
       "      <td>00:07</td>\n",
       "    </tr>\n",
       "  </tbody>\n",
       "</table>"
      ],
      "text/plain": [
       "<IPython.core.display.HTML object>"
      ]
     },
     "metadata": {},
     "output_type": "display_data"
    },
    {
     "data": {
      "text/html": [],
      "text/plain": [
       "<IPython.core.display.HTML object>"
      ]
     },
     "metadata": {},
     "output_type": "display_data"
    },
    {
     "name": "stdout",
     "output_type": "stream",
     "text": [
      "finished 1th bootstrap of size200\n"
     ]
    },
    {
     "data": {
      "text/html": [],
      "text/plain": [
       "<IPython.core.display.HTML object>"
      ]
     },
     "metadata": {},
     "output_type": "display_data"
    },
    {
     "data": {
      "text/html": [],
      "text/plain": [
       "<IPython.core.display.HTML object>"
      ]
     },
     "metadata": {},
     "output_type": "display_data"
    },
    {
     "data": {
      "text/html": [
       "<table border=\"1\" class=\"dataframe\">\n",
       "  <thead>\n",
       "    <tr style=\"text-align: left;\">\n",
       "      <th>epoch</th>\n",
       "      <th>train_loss</th>\n",
       "      <th>valid_loss</th>\n",
       "      <th>accuracy</th>\n",
       "      <th>time</th>\n",
       "    </tr>\n",
       "  </thead>\n",
       "  <tbody>\n",
       "    <tr>\n",
       "      <td>0</td>\n",
       "      <td>2.572255</td>\n",
       "      <td>2.556151</td>\n",
       "      <td>0.085000</td>\n",
       "      <td>00:07</td>\n",
       "    </tr>\n",
       "    <tr>\n",
       "      <td>1</td>\n",
       "      <td>2.478067</td>\n",
       "      <td>2.175581</td>\n",
       "      <td>0.312000</td>\n",
       "      <td>00:07</td>\n",
       "    </tr>\n",
       "    <tr>\n",
       "      <td>2</td>\n",
       "      <td>2.285030</td>\n",
       "      <td>1.506361</td>\n",
       "      <td>0.876000</td>\n",
       "      <td>00:07</td>\n",
       "    </tr>\n",
       "    <tr>\n",
       "      <td>3</td>\n",
       "      <td>2.026632</td>\n",
       "      <td>0.938832</td>\n",
       "      <td>0.967000</td>\n",
       "      <td>00:07</td>\n",
       "    </tr>\n",
       "    <tr>\n",
       "      <td>4</td>\n",
       "      <td>1.762647</td>\n",
       "      <td>0.675519</td>\n",
       "      <td>0.976500</td>\n",
       "      <td>00:07</td>\n",
       "    </tr>\n",
       "    <tr>\n",
       "      <td>5</td>\n",
       "      <td>1.546094</td>\n",
       "      <td>0.624005</td>\n",
       "      <td>0.979000</td>\n",
       "      <td>00:07</td>\n",
       "    </tr>\n",
       "  </tbody>\n",
       "</table>"
      ],
      "text/plain": [
       "<IPython.core.display.HTML object>"
      ]
     },
     "metadata": {},
     "output_type": "display_data"
    },
    {
     "data": {
      "text/html": [],
      "text/plain": [
       "<IPython.core.display.HTML object>"
      ]
     },
     "metadata": {},
     "output_type": "display_data"
    },
    {
     "name": "stdout",
     "output_type": "stream",
     "text": [
      "finished 2th bootstrap of size200\n"
     ]
    },
    {
     "data": {
      "text/html": [],
      "text/plain": [
       "<IPython.core.display.HTML object>"
      ]
     },
     "metadata": {},
     "output_type": "display_data"
    },
    {
     "data": {
      "text/html": [],
      "text/plain": [
       "<IPython.core.display.HTML object>"
      ]
     },
     "metadata": {},
     "output_type": "display_data"
    },
    {
     "data": {
      "text/html": [
       "<table border=\"1\" class=\"dataframe\">\n",
       "  <thead>\n",
       "    <tr style=\"text-align: left;\">\n",
       "      <th>epoch</th>\n",
       "      <th>train_loss</th>\n",
       "      <th>valid_loss</th>\n",
       "      <th>accuracy</th>\n",
       "      <th>time</th>\n",
       "    </tr>\n",
       "  </thead>\n",
       "  <tbody>\n",
       "    <tr>\n",
       "      <td>0</td>\n",
       "      <td>2.536549</td>\n",
       "      <td>2.418465</td>\n",
       "      <td>0.169500</td>\n",
       "      <td>00:07</td>\n",
       "    </tr>\n",
       "    <tr>\n",
       "      <td>1</td>\n",
       "      <td>2.427853</td>\n",
       "      <td>1.960813</td>\n",
       "      <td>0.693500</td>\n",
       "      <td>00:07</td>\n",
       "    </tr>\n",
       "    <tr>\n",
       "      <td>2</td>\n",
       "      <td>2.200348</td>\n",
       "      <td>1.353145</td>\n",
       "      <td>0.895000</td>\n",
       "      <td>00:07</td>\n",
       "    </tr>\n",
       "    <tr>\n",
       "      <td>3</td>\n",
       "      <td>1.910083</td>\n",
       "      <td>0.824019</td>\n",
       "      <td>0.961000</td>\n",
       "      <td>00:07</td>\n",
       "    </tr>\n",
       "    <tr>\n",
       "      <td>4</td>\n",
       "      <td>1.641966</td>\n",
       "      <td>0.607954</td>\n",
       "      <td>0.967500</td>\n",
       "      <td>00:07</td>\n",
       "    </tr>\n",
       "    <tr>\n",
       "      <td>5</td>\n",
       "      <td>1.429239</td>\n",
       "      <td>0.552429</td>\n",
       "      <td>0.973000</td>\n",
       "      <td>00:07</td>\n",
       "    </tr>\n",
       "  </tbody>\n",
       "</table>"
      ],
      "text/plain": [
       "<IPython.core.display.HTML object>"
      ]
     },
     "metadata": {},
     "output_type": "display_data"
    },
    {
     "data": {
      "text/html": [],
      "text/plain": [
       "<IPython.core.display.HTML object>"
      ]
     },
     "metadata": {},
     "output_type": "display_data"
    },
    {
     "name": "stdout",
     "output_type": "stream",
     "text": [
      "finished 3th bootstrap of size200\n"
     ]
    },
    {
     "data": {
      "text/html": [],
      "text/plain": [
       "<IPython.core.display.HTML object>"
      ]
     },
     "metadata": {},
     "output_type": "display_data"
    },
    {
     "data": {
      "text/html": [],
      "text/plain": [
       "<IPython.core.display.HTML object>"
      ]
     },
     "metadata": {},
     "output_type": "display_data"
    },
    {
     "data": {
      "text/html": [
       "<table border=\"1\" class=\"dataframe\">\n",
       "  <thead>\n",
       "    <tr style=\"text-align: left;\">\n",
       "      <th>epoch</th>\n",
       "      <th>train_loss</th>\n",
       "      <th>valid_loss</th>\n",
       "      <th>accuracy</th>\n",
       "      <th>time</th>\n",
       "    </tr>\n",
       "  </thead>\n",
       "  <tbody>\n",
       "    <tr>\n",
       "      <td>0</td>\n",
       "      <td>2.528483</td>\n",
       "      <td>2.345112</td>\n",
       "      <td>0.159000</td>\n",
       "      <td>00:07</td>\n",
       "    </tr>\n",
       "    <tr>\n",
       "      <td>1</td>\n",
       "      <td>2.336287</td>\n",
       "      <td>2.209203</td>\n",
       "      <td>0.219000</td>\n",
       "      <td>00:07</td>\n",
       "    </tr>\n",
       "    <tr>\n",
       "      <td>2</td>\n",
       "      <td>2.169132</td>\n",
       "      <td>1.359361</td>\n",
       "      <td>0.845500</td>\n",
       "      <td>00:07</td>\n",
       "    </tr>\n",
       "    <tr>\n",
       "      <td>3</td>\n",
       "      <td>1.884077</td>\n",
       "      <td>0.950436</td>\n",
       "      <td>0.866500</td>\n",
       "      <td>00:07</td>\n",
       "    </tr>\n",
       "    <tr>\n",
       "      <td>4</td>\n",
       "      <td>1.629814</td>\n",
       "      <td>0.732109</td>\n",
       "      <td>0.857000</td>\n",
       "      <td>00:07</td>\n",
       "    </tr>\n",
       "    <tr>\n",
       "      <td>5</td>\n",
       "      <td>1.430853</td>\n",
       "      <td>0.680227</td>\n",
       "      <td>0.869500</td>\n",
       "      <td>00:07</td>\n",
       "    </tr>\n",
       "  </tbody>\n",
       "</table>"
      ],
      "text/plain": [
       "<IPython.core.display.HTML object>"
      ]
     },
     "metadata": {},
     "output_type": "display_data"
    },
    {
     "data": {
      "text/html": [],
      "text/plain": [
       "<IPython.core.display.HTML object>"
      ]
     },
     "metadata": {},
     "output_type": "display_data"
    },
    {
     "name": "stdout",
     "output_type": "stream",
     "text": [
      "finished 4th bootstrap of size200\n"
     ]
    },
    {
     "data": {
      "text/html": [],
      "text/plain": [
       "<IPython.core.display.HTML object>"
      ]
     },
     "metadata": {},
     "output_type": "display_data"
    },
    {
     "data": {
      "text/html": [],
      "text/plain": [
       "<IPython.core.display.HTML object>"
      ]
     },
     "metadata": {},
     "output_type": "display_data"
    },
    {
     "data": {
      "text/html": [
       "<table border=\"1\" class=\"dataframe\">\n",
       "  <thead>\n",
       "    <tr style=\"text-align: left;\">\n",
       "      <th>epoch</th>\n",
       "      <th>train_loss</th>\n",
       "      <th>valid_loss</th>\n",
       "      <th>accuracy</th>\n",
       "      <th>time</th>\n",
       "    </tr>\n",
       "  </thead>\n",
       "  <tbody>\n",
       "    <tr>\n",
       "      <td>0</td>\n",
       "      <td>2.494055</td>\n",
       "      <td>2.145623</td>\n",
       "      <td>0.514000</td>\n",
       "      <td>00:08</td>\n",
       "    </tr>\n",
       "    <tr>\n",
       "      <td>1</td>\n",
       "      <td>2.084321</td>\n",
       "      <td>0.955016</td>\n",
       "      <td>0.926500</td>\n",
       "      <td>00:08</td>\n",
       "    </tr>\n",
       "    <tr>\n",
       "      <td>2</td>\n",
       "      <td>1.523851</td>\n",
       "      <td>0.286652</td>\n",
       "      <td>0.973500</td>\n",
       "      <td>00:08</td>\n",
       "    </tr>\n",
       "    <tr>\n",
       "      <td>3</td>\n",
       "      <td>1.125408</td>\n",
       "      <td>0.122835</td>\n",
       "      <td>0.985500</td>\n",
       "      <td>00:08</td>\n",
       "    </tr>\n",
       "    <tr>\n",
       "      <td>4</td>\n",
       "      <td>0.861093</td>\n",
       "      <td>0.108007</td>\n",
       "      <td>0.984500</td>\n",
       "      <td>00:08</td>\n",
       "    </tr>\n",
       "    <tr>\n",
       "      <td>5</td>\n",
       "      <td>0.682941</td>\n",
       "      <td>0.100158</td>\n",
       "      <td>0.985000</td>\n",
       "      <td>00:08</td>\n",
       "    </tr>\n",
       "  </tbody>\n",
       "</table>"
      ],
      "text/plain": [
       "<IPython.core.display.HTML object>"
      ]
     },
     "metadata": {},
     "output_type": "display_data"
    },
    {
     "data": {
      "text/html": [],
      "text/plain": [
       "<IPython.core.display.HTML object>"
      ]
     },
     "metadata": {},
     "output_type": "display_data"
    },
    {
     "name": "stdout",
     "output_type": "stream",
     "text": [
      "finished 0th bootstrap of size400\n"
     ]
    },
    {
     "data": {
      "text/html": [],
      "text/plain": [
       "<IPython.core.display.HTML object>"
      ]
     },
     "metadata": {},
     "output_type": "display_data"
    },
    {
     "data": {
      "text/html": [],
      "text/plain": [
       "<IPython.core.display.HTML object>"
      ]
     },
     "metadata": {},
     "output_type": "display_data"
    },
    {
     "data": {
      "text/html": [
       "<table border=\"1\" class=\"dataframe\">\n",
       "  <thead>\n",
       "    <tr style=\"text-align: left;\">\n",
       "      <th>epoch</th>\n",
       "      <th>train_loss</th>\n",
       "      <th>valid_loss</th>\n",
       "      <th>accuracy</th>\n",
       "      <th>time</th>\n",
       "    </tr>\n",
       "  </thead>\n",
       "  <tbody>\n",
       "    <tr>\n",
       "      <td>0</td>\n",
       "      <td>2.591089</td>\n",
       "      <td>2.358378</td>\n",
       "      <td>0.263000</td>\n",
       "      <td>00:08</td>\n",
       "    </tr>\n",
       "    <tr>\n",
       "      <td>1</td>\n",
       "      <td>2.253435</td>\n",
       "      <td>1.150432</td>\n",
       "      <td>0.925000</td>\n",
       "      <td>00:08</td>\n",
       "    </tr>\n",
       "    <tr>\n",
       "      <td>2</td>\n",
       "      <td>1.660651</td>\n",
       "      <td>0.274256</td>\n",
       "      <td>0.981500</td>\n",
       "      <td>00:08</td>\n",
       "    </tr>\n",
       "    <tr>\n",
       "      <td>3</td>\n",
       "      <td>1.215151</td>\n",
       "      <td>0.123019</td>\n",
       "      <td>0.984500</td>\n",
       "      <td>00:08</td>\n",
       "    </tr>\n",
       "    <tr>\n",
       "      <td>4</td>\n",
       "      <td>0.926805</td>\n",
       "      <td>0.099483</td>\n",
       "      <td>0.986000</td>\n",
       "      <td>00:08</td>\n",
       "    </tr>\n",
       "    <tr>\n",
       "      <td>5</td>\n",
       "      <td>0.733702</td>\n",
       "      <td>0.096039</td>\n",
       "      <td>0.985500</td>\n",
       "      <td>00:08</td>\n",
       "    </tr>\n",
       "  </tbody>\n",
       "</table>"
      ],
      "text/plain": [
       "<IPython.core.display.HTML object>"
      ]
     },
     "metadata": {},
     "output_type": "display_data"
    },
    {
     "data": {
      "text/html": [],
      "text/plain": [
       "<IPython.core.display.HTML object>"
      ]
     },
     "metadata": {},
     "output_type": "display_data"
    },
    {
     "name": "stdout",
     "output_type": "stream",
     "text": [
      "finished 1th bootstrap of size400\n"
     ]
    },
    {
     "data": {
      "text/html": [],
      "text/plain": [
       "<IPython.core.display.HTML object>"
      ]
     },
     "metadata": {},
     "output_type": "display_data"
    },
    {
     "data": {
      "text/html": [],
      "text/plain": [
       "<IPython.core.display.HTML object>"
      ]
     },
     "metadata": {},
     "output_type": "display_data"
    },
    {
     "data": {
      "text/html": [
       "<table border=\"1\" class=\"dataframe\">\n",
       "  <thead>\n",
       "    <tr style=\"text-align: left;\">\n",
       "      <th>epoch</th>\n",
       "      <th>train_loss</th>\n",
       "      <th>valid_loss</th>\n",
       "      <th>accuracy</th>\n",
       "      <th>time</th>\n",
       "    </tr>\n",
       "  </thead>\n",
       "  <tbody>\n",
       "    <tr>\n",
       "      <td>0</td>\n",
       "      <td>2.572680</td>\n",
       "      <td>2.392948</td>\n",
       "      <td>0.194000</td>\n",
       "      <td>00:08</td>\n",
       "    </tr>\n",
       "    <tr>\n",
       "      <td>1</td>\n",
       "      <td>2.298932</td>\n",
       "      <td>1.347665</td>\n",
       "      <td>0.914000</td>\n",
       "      <td>00:08</td>\n",
       "    </tr>\n",
       "    <tr>\n",
       "      <td>2</td>\n",
       "      <td>1.797414</td>\n",
       "      <td>0.445706</td>\n",
       "      <td>0.982500</td>\n",
       "      <td>00:08</td>\n",
       "    </tr>\n",
       "    <tr>\n",
       "      <td>3</td>\n",
       "      <td>1.358574</td>\n",
       "      <td>0.162593</td>\n",
       "      <td>0.990000</td>\n",
       "      <td>00:08</td>\n",
       "    </tr>\n",
       "    <tr>\n",
       "      <td>4</td>\n",
       "      <td>1.052006</td>\n",
       "      <td>0.112306</td>\n",
       "      <td>0.989500</td>\n",
       "      <td>00:08</td>\n",
       "    </tr>\n",
       "    <tr>\n",
       "      <td>5</td>\n",
       "      <td>0.842348</td>\n",
       "      <td>0.104684</td>\n",
       "      <td>0.989500</td>\n",
       "      <td>00:08</td>\n",
       "    </tr>\n",
       "  </tbody>\n",
       "</table>"
      ],
      "text/plain": [
       "<IPython.core.display.HTML object>"
      ]
     },
     "metadata": {},
     "output_type": "display_data"
    },
    {
     "data": {
      "text/html": [],
      "text/plain": [
       "<IPython.core.display.HTML object>"
      ]
     },
     "metadata": {},
     "output_type": "display_data"
    },
    {
     "name": "stdout",
     "output_type": "stream",
     "text": [
      "finished 2th bootstrap of size400\n"
     ]
    },
    {
     "data": {
      "text/html": [],
      "text/plain": [
       "<IPython.core.display.HTML object>"
      ]
     },
     "metadata": {},
     "output_type": "display_data"
    },
    {
     "data": {
      "text/html": [],
      "text/plain": [
       "<IPython.core.display.HTML object>"
      ]
     },
     "metadata": {},
     "output_type": "display_data"
    },
    {
     "data": {
      "text/html": [
       "<table border=\"1\" class=\"dataframe\">\n",
       "  <thead>\n",
       "    <tr style=\"text-align: left;\">\n",
       "      <th>epoch</th>\n",
       "      <th>train_loss</th>\n",
       "      <th>valid_loss</th>\n",
       "      <th>accuracy</th>\n",
       "      <th>time</th>\n",
       "    </tr>\n",
       "  </thead>\n",
       "  <tbody>\n",
       "    <tr>\n",
       "      <td>0</td>\n",
       "      <td>2.541937</td>\n",
       "      <td>2.318514</td>\n",
       "      <td>0.235000</td>\n",
       "      <td>00:08</td>\n",
       "    </tr>\n",
       "    <tr>\n",
       "      <td>1</td>\n",
       "      <td>2.257690</td>\n",
       "      <td>1.271417</td>\n",
       "      <td>0.863500</td>\n",
       "      <td>00:08</td>\n",
       "    </tr>\n",
       "    <tr>\n",
       "      <td>2</td>\n",
       "      <td>1.729725</td>\n",
       "      <td>0.362563</td>\n",
       "      <td>0.980500</td>\n",
       "      <td>00:08</td>\n",
       "    </tr>\n",
       "    <tr>\n",
       "      <td>3</td>\n",
       "      <td>1.287101</td>\n",
       "      <td>0.143083</td>\n",
       "      <td>0.988000</td>\n",
       "      <td>00:08</td>\n",
       "    </tr>\n",
       "    <tr>\n",
       "      <td>4</td>\n",
       "      <td>0.986646</td>\n",
       "      <td>0.123868</td>\n",
       "      <td>0.982500</td>\n",
       "      <td>00:08</td>\n",
       "    </tr>\n",
       "    <tr>\n",
       "      <td>5</td>\n",
       "      <td>0.783327</td>\n",
       "      <td>0.120325</td>\n",
       "      <td>0.982000</td>\n",
       "      <td>00:08</td>\n",
       "    </tr>\n",
       "  </tbody>\n",
       "</table>"
      ],
      "text/plain": [
       "<IPython.core.display.HTML object>"
      ]
     },
     "metadata": {},
     "output_type": "display_data"
    },
    {
     "data": {
      "text/html": [],
      "text/plain": [
       "<IPython.core.display.HTML object>"
      ]
     },
     "metadata": {},
     "output_type": "display_data"
    },
    {
     "name": "stdout",
     "output_type": "stream",
     "text": [
      "finished 3th bootstrap of size400\n"
     ]
    },
    {
     "data": {
      "text/html": [],
      "text/plain": [
       "<IPython.core.display.HTML object>"
      ]
     },
     "metadata": {},
     "output_type": "display_data"
    },
    {
     "data": {
      "text/html": [],
      "text/plain": [
       "<IPython.core.display.HTML object>"
      ]
     },
     "metadata": {},
     "output_type": "display_data"
    },
    {
     "data": {
      "text/html": [
       "<table border=\"1\" class=\"dataframe\">\n",
       "  <thead>\n",
       "    <tr style=\"text-align: left;\">\n",
       "      <th>epoch</th>\n",
       "      <th>train_loss</th>\n",
       "      <th>valid_loss</th>\n",
       "      <th>accuracy</th>\n",
       "      <th>time</th>\n",
       "    </tr>\n",
       "  </thead>\n",
       "  <tbody>\n",
       "    <tr>\n",
       "      <td>0</td>\n",
       "      <td>2.489478</td>\n",
       "      <td>2.212328</td>\n",
       "      <td>0.324500</td>\n",
       "      <td>00:08</td>\n",
       "    </tr>\n",
       "    <tr>\n",
       "      <td>1</td>\n",
       "      <td>2.146352</td>\n",
       "      <td>1.089859</td>\n",
       "      <td>0.911500</td>\n",
       "      <td>00:08</td>\n",
       "    </tr>\n",
       "    <tr>\n",
       "      <td>2</td>\n",
       "      <td>1.607130</td>\n",
       "      <td>0.344925</td>\n",
       "      <td>0.980500</td>\n",
       "      <td>00:08</td>\n",
       "    </tr>\n",
       "    <tr>\n",
       "      <td>3</td>\n",
       "      <td>1.194545</td>\n",
       "      <td>0.150774</td>\n",
       "      <td>0.986500</td>\n",
       "      <td>00:08</td>\n",
       "    </tr>\n",
       "    <tr>\n",
       "      <td>4</td>\n",
       "      <td>0.923280</td>\n",
       "      <td>0.116151</td>\n",
       "      <td>0.986500</td>\n",
       "      <td>00:08</td>\n",
       "    </tr>\n",
       "    <tr>\n",
       "      <td>5</td>\n",
       "      <td>0.735650</td>\n",
       "      <td>0.105282</td>\n",
       "      <td>0.988500</td>\n",
       "      <td>00:08</td>\n",
       "    </tr>\n",
       "  </tbody>\n",
       "</table>"
      ],
      "text/plain": [
       "<IPython.core.display.HTML object>"
      ]
     },
     "metadata": {},
     "output_type": "display_data"
    },
    {
     "data": {
      "text/html": [],
      "text/plain": [
       "<IPython.core.display.HTML object>"
      ]
     },
     "metadata": {},
     "output_type": "display_data"
    },
    {
     "name": "stdout",
     "output_type": "stream",
     "text": [
      "finished 4th bootstrap of size400\n"
     ]
    },
    {
     "data": {
      "text/html": [],
      "text/plain": [
       "<IPython.core.display.HTML object>"
      ]
     },
     "metadata": {},
     "output_type": "display_data"
    },
    {
     "data": {
      "text/html": [],
      "text/plain": [
       "<IPython.core.display.HTML object>"
      ]
     },
     "metadata": {},
     "output_type": "display_data"
    },
    {
     "data": {
      "text/html": [
       "<table border=\"1\" class=\"dataframe\">\n",
       "  <thead>\n",
       "    <tr style=\"text-align: left;\">\n",
       "      <th>epoch</th>\n",
       "      <th>train_loss</th>\n",
       "      <th>valid_loss</th>\n",
       "      <th>accuracy</th>\n",
       "      <th>time</th>\n",
       "    </tr>\n",
       "  </thead>\n",
       "  <tbody>\n",
       "    <tr>\n",
       "      <td>0</td>\n",
       "      <td>2.594655</td>\n",
       "      <td>2.089424</td>\n",
       "      <td>0.515500</td>\n",
       "      <td>00:11</td>\n",
       "    </tr>\n",
       "    <tr>\n",
       "      <td>1</td>\n",
       "      <td>1.780328</td>\n",
       "      <td>0.234449</td>\n",
       "      <td>0.986500</td>\n",
       "      <td>00:11</td>\n",
       "    </tr>\n",
       "    <tr>\n",
       "      <td>2</td>\n",
       "      <td>1.086599</td>\n",
       "      <td>0.119944</td>\n",
       "      <td>0.971500</td>\n",
       "      <td>00:11</td>\n",
       "    </tr>\n",
       "    <tr>\n",
       "      <td>3</td>\n",
       "      <td>0.724688</td>\n",
       "      <td>0.090339</td>\n",
       "      <td>0.980500</td>\n",
       "      <td>00:11</td>\n",
       "    </tr>\n",
       "    <tr>\n",
       "      <td>4</td>\n",
       "      <td>0.510832</td>\n",
       "      <td>0.082667</td>\n",
       "      <td>0.984000</td>\n",
       "      <td>00:11</td>\n",
       "    </tr>\n",
       "    <tr>\n",
       "      <td>5</td>\n",
       "      <td>0.371590</td>\n",
       "      <td>0.074804</td>\n",
       "      <td>0.985500</td>\n",
       "      <td>00:11</td>\n",
       "    </tr>\n",
       "  </tbody>\n",
       "</table>"
      ],
      "text/plain": [
       "<IPython.core.display.HTML object>"
      ]
     },
     "metadata": {},
     "output_type": "display_data"
    },
    {
     "data": {
      "text/html": [],
      "text/plain": [
       "<IPython.core.display.HTML object>"
      ]
     },
     "metadata": {},
     "output_type": "display_data"
    },
    {
     "name": "stdout",
     "output_type": "stream",
     "text": [
      "finished 0th bootstrap of size800\n"
     ]
    },
    {
     "data": {
      "text/html": [],
      "text/plain": [
       "<IPython.core.display.HTML object>"
      ]
     },
     "metadata": {},
     "output_type": "display_data"
    },
    {
     "data": {
      "text/html": [],
      "text/plain": [
       "<IPython.core.display.HTML object>"
      ]
     },
     "metadata": {},
     "output_type": "display_data"
    },
    {
     "data": {
      "text/html": [
       "<table border=\"1\" class=\"dataframe\">\n",
       "  <thead>\n",
       "    <tr style=\"text-align: left;\">\n",
       "      <th>epoch</th>\n",
       "      <th>train_loss</th>\n",
       "      <th>valid_loss</th>\n",
       "      <th>accuracy</th>\n",
       "      <th>time</th>\n",
       "    </tr>\n",
       "  </thead>\n",
       "  <tbody>\n",
       "    <tr>\n",
       "      <td>0</td>\n",
       "      <td>2.428434</td>\n",
       "      <td>1.928898</td>\n",
       "      <td>0.693000</td>\n",
       "      <td>00:12</td>\n",
       "    </tr>\n",
       "    <tr>\n",
       "      <td>1</td>\n",
       "      <td>1.602794</td>\n",
       "      <td>0.194168</td>\n",
       "      <td>0.985000</td>\n",
       "      <td>00:11</td>\n",
       "    </tr>\n",
       "    <tr>\n",
       "      <td>2</td>\n",
       "      <td>0.996602</td>\n",
       "      <td>0.137590</td>\n",
       "      <td>0.970000</td>\n",
       "      <td>00:12</td>\n",
       "    </tr>\n",
       "    <tr>\n",
       "      <td>3</td>\n",
       "      <td>0.673330</td>\n",
       "      <td>0.079698</td>\n",
       "      <td>0.984500</td>\n",
       "      <td>00:11</td>\n",
       "    </tr>\n",
       "    <tr>\n",
       "      <td>4</td>\n",
       "      <td>0.475495</td>\n",
       "      <td>0.073346</td>\n",
       "      <td>0.984000</td>\n",
       "      <td>00:11</td>\n",
       "    </tr>\n",
       "    <tr>\n",
       "      <td>5</td>\n",
       "      <td>0.347479</td>\n",
       "      <td>0.069290</td>\n",
       "      <td>0.986000</td>\n",
       "      <td>00:11</td>\n",
       "    </tr>\n",
       "  </tbody>\n",
       "</table>"
      ],
      "text/plain": [
       "<IPython.core.display.HTML object>"
      ]
     },
     "metadata": {},
     "output_type": "display_data"
    },
    {
     "data": {
      "text/html": [],
      "text/plain": [
       "<IPython.core.display.HTML object>"
      ]
     },
     "metadata": {},
     "output_type": "display_data"
    },
    {
     "name": "stdout",
     "output_type": "stream",
     "text": [
      "finished 1th bootstrap of size800\n"
     ]
    },
    {
     "data": {
      "text/html": [],
      "text/plain": [
       "<IPython.core.display.HTML object>"
      ]
     },
     "metadata": {},
     "output_type": "display_data"
    },
    {
     "data": {
      "text/html": [],
      "text/plain": [
       "<IPython.core.display.HTML object>"
      ]
     },
     "metadata": {},
     "output_type": "display_data"
    },
    {
     "data": {
      "text/html": [
       "<table border=\"1\" class=\"dataframe\">\n",
       "  <thead>\n",
       "    <tr style=\"text-align: left;\">\n",
       "      <th>epoch</th>\n",
       "      <th>train_loss</th>\n",
       "      <th>valid_loss</th>\n",
       "      <th>accuracy</th>\n",
       "      <th>time</th>\n",
       "    </tr>\n",
       "  </thead>\n",
       "  <tbody>\n",
       "    <tr>\n",
       "      <td>0</td>\n",
       "      <td>2.469231</td>\n",
       "      <td>2.013222</td>\n",
       "      <td>0.649500</td>\n",
       "      <td>00:12</td>\n",
       "    </tr>\n",
       "    <tr>\n",
       "      <td>1</td>\n",
       "      <td>1.670549</td>\n",
       "      <td>0.205291</td>\n",
       "      <td>0.983000</td>\n",
       "      <td>00:11</td>\n",
       "    </tr>\n",
       "    <tr>\n",
       "      <td>2</td>\n",
       "      <td>1.035949</td>\n",
       "      <td>0.080723</td>\n",
       "      <td>0.985000</td>\n",
       "      <td>00:12</td>\n",
       "    </tr>\n",
       "    <tr>\n",
       "      <td>3</td>\n",
       "      <td>0.705149</td>\n",
       "      <td>0.075127</td>\n",
       "      <td>0.984500</td>\n",
       "      <td>00:11</td>\n",
       "    </tr>\n",
       "    <tr>\n",
       "      <td>4</td>\n",
       "      <td>0.500308</td>\n",
       "      <td>0.080528</td>\n",
       "      <td>0.978500</td>\n",
       "      <td>00:11</td>\n",
       "    </tr>\n",
       "    <tr>\n",
       "      <td>5</td>\n",
       "      <td>0.365298</td>\n",
       "      <td>0.076860</td>\n",
       "      <td>0.981500</td>\n",
       "      <td>00:11</td>\n",
       "    </tr>\n",
       "  </tbody>\n",
       "</table>"
      ],
      "text/plain": [
       "<IPython.core.display.HTML object>"
      ]
     },
     "metadata": {},
     "output_type": "display_data"
    },
    {
     "data": {
      "text/html": [],
      "text/plain": [
       "<IPython.core.display.HTML object>"
      ]
     },
     "metadata": {},
     "output_type": "display_data"
    },
    {
     "name": "stdout",
     "output_type": "stream",
     "text": [
      "finished 2th bootstrap of size800\n"
     ]
    },
    {
     "data": {
      "text/html": [],
      "text/plain": [
       "<IPython.core.display.HTML object>"
      ]
     },
     "metadata": {},
     "output_type": "display_data"
    },
    {
     "data": {
      "text/html": [],
      "text/plain": [
       "<IPython.core.display.HTML object>"
      ]
     },
     "metadata": {},
     "output_type": "display_data"
    },
    {
     "data": {
      "text/html": [
       "<table border=\"1\" class=\"dataframe\">\n",
       "  <thead>\n",
       "    <tr style=\"text-align: left;\">\n",
       "      <th>epoch</th>\n",
       "      <th>train_loss</th>\n",
       "      <th>valid_loss</th>\n",
       "      <th>accuracy</th>\n",
       "      <th>time</th>\n",
       "    </tr>\n",
       "  </thead>\n",
       "  <tbody>\n",
       "    <tr>\n",
       "      <td>0</td>\n",
       "      <td>2.336227</td>\n",
       "      <td>1.810799</td>\n",
       "      <td>0.638000</td>\n",
       "      <td>00:11</td>\n",
       "    </tr>\n",
       "    <tr>\n",
       "      <td>1</td>\n",
       "      <td>1.516387</td>\n",
       "      <td>0.179364</td>\n",
       "      <td>0.990000</td>\n",
       "      <td>00:11</td>\n",
       "    </tr>\n",
       "    <tr>\n",
       "      <td>2</td>\n",
       "      <td>0.958208</td>\n",
       "      <td>0.169795</td>\n",
       "      <td>0.953500</td>\n",
       "      <td>00:11</td>\n",
       "    </tr>\n",
       "    <tr>\n",
       "      <td>3</td>\n",
       "      <td>0.649120</td>\n",
       "      <td>0.107888</td>\n",
       "      <td>0.972000</td>\n",
       "      <td>00:12</td>\n",
       "    </tr>\n",
       "    <tr>\n",
       "      <td>4</td>\n",
       "      <td>0.464083</td>\n",
       "      <td>0.087881</td>\n",
       "      <td>0.979500</td>\n",
       "      <td>00:12</td>\n",
       "    </tr>\n",
       "    <tr>\n",
       "      <td>5</td>\n",
       "      <td>0.340775</td>\n",
       "      <td>0.087709</td>\n",
       "      <td>0.979000</td>\n",
       "      <td>00:11</td>\n",
       "    </tr>\n",
       "  </tbody>\n",
       "</table>"
      ],
      "text/plain": [
       "<IPython.core.display.HTML object>"
      ]
     },
     "metadata": {},
     "output_type": "display_data"
    },
    {
     "data": {
      "text/html": [],
      "text/plain": [
       "<IPython.core.display.HTML object>"
      ]
     },
     "metadata": {},
     "output_type": "display_data"
    },
    {
     "name": "stdout",
     "output_type": "stream",
     "text": [
      "finished 3th bootstrap of size800\n"
     ]
    },
    {
     "data": {
      "text/html": [],
      "text/plain": [
       "<IPython.core.display.HTML object>"
      ]
     },
     "metadata": {},
     "output_type": "display_data"
    },
    {
     "data": {
      "text/html": [],
      "text/plain": [
       "<IPython.core.display.HTML object>"
      ]
     },
     "metadata": {},
     "output_type": "display_data"
    },
    {
     "data": {
      "text/html": [
       "<table border=\"1\" class=\"dataframe\">\n",
       "  <thead>\n",
       "    <tr style=\"text-align: left;\">\n",
       "      <th>epoch</th>\n",
       "      <th>train_loss</th>\n",
       "      <th>valid_loss</th>\n",
       "      <th>accuracy</th>\n",
       "      <th>time</th>\n",
       "    </tr>\n",
       "  </thead>\n",
       "  <tbody>\n",
       "    <tr>\n",
       "      <td>0</td>\n",
       "      <td>2.396058</td>\n",
       "      <td>1.822203</td>\n",
       "      <td>0.794500</td>\n",
       "      <td>00:11</td>\n",
       "    </tr>\n",
       "    <tr>\n",
       "      <td>1</td>\n",
       "      <td>1.579585</td>\n",
       "      <td>0.200139</td>\n",
       "      <td>0.988000</td>\n",
       "      <td>00:11</td>\n",
       "    </tr>\n",
       "    <tr>\n",
       "      <td>2</td>\n",
       "      <td>0.962973</td>\n",
       "      <td>0.139890</td>\n",
       "      <td>0.973500</td>\n",
       "      <td>00:11</td>\n",
       "    </tr>\n",
       "    <tr>\n",
       "      <td>3</td>\n",
       "      <td>0.641479</td>\n",
       "      <td>0.102862</td>\n",
       "      <td>0.979000</td>\n",
       "      <td>00:11</td>\n",
       "    </tr>\n",
       "    <tr>\n",
       "      <td>4</td>\n",
       "      <td>0.453556</td>\n",
       "      <td>0.085633</td>\n",
       "      <td>0.981500</td>\n",
       "      <td>00:11</td>\n",
       "    </tr>\n",
       "    <tr>\n",
       "      <td>5</td>\n",
       "      <td>0.331227</td>\n",
       "      <td>0.080798</td>\n",
       "      <td>0.983500</td>\n",
       "      <td>00:11</td>\n",
       "    </tr>\n",
       "  </tbody>\n",
       "</table>"
      ],
      "text/plain": [
       "<IPython.core.display.HTML object>"
      ]
     },
     "metadata": {},
     "output_type": "display_data"
    },
    {
     "data": {
      "text/html": [],
      "text/plain": [
       "<IPython.core.display.HTML object>"
      ]
     },
     "metadata": {},
     "output_type": "display_data"
    },
    {
     "name": "stdout",
     "output_type": "stream",
     "text": [
      "finished 4th bootstrap of size800\n"
     ]
    },
    {
     "data": {
      "text/html": [],
      "text/plain": [
       "<IPython.core.display.HTML object>"
      ]
     },
     "metadata": {},
     "output_type": "display_data"
    },
    {
     "data": {
      "text/html": [],
      "text/plain": [
       "<IPython.core.display.HTML object>"
      ]
     },
     "metadata": {},
     "output_type": "display_data"
    },
    {
     "data": {
      "text/html": [
       "<table border=\"1\" class=\"dataframe\">\n",
       "  <thead>\n",
       "    <tr style=\"text-align: left;\">\n",
       "      <th>epoch</th>\n",
       "      <th>train_loss</th>\n",
       "      <th>valid_loss</th>\n",
       "      <th>accuracy</th>\n",
       "      <th>time</th>\n",
       "    </tr>\n",
       "  </thead>\n",
       "  <tbody>\n",
       "    <tr>\n",
       "      <td>0</td>\n",
       "      <td>2.021589</td>\n",
       "      <td>0.884020</td>\n",
       "      <td>0.972000</td>\n",
       "      <td>00:17</td>\n",
       "    </tr>\n",
       "    <tr>\n",
       "      <td>1</td>\n",
       "      <td>0.949036</td>\n",
       "      <td>0.082208</td>\n",
       "      <td>0.987000</td>\n",
       "      <td>00:16</td>\n",
       "    </tr>\n",
       "    <tr>\n",
       "      <td>2</td>\n",
       "      <td>0.503866</td>\n",
       "      <td>0.149765</td>\n",
       "      <td>0.962000</td>\n",
       "      <td>00:16</td>\n",
       "    </tr>\n",
       "    <tr>\n",
       "      <td>3</td>\n",
       "      <td>0.306793</td>\n",
       "      <td>0.132439</td>\n",
       "      <td>0.971500</td>\n",
       "      <td>00:17</td>\n",
       "    </tr>\n",
       "    <tr>\n",
       "      <td>4</td>\n",
       "      <td>0.188919</td>\n",
       "      <td>0.072274</td>\n",
       "      <td>0.982000</td>\n",
       "      <td>00:17</td>\n",
       "    </tr>\n",
       "    <tr>\n",
       "      <td>5</td>\n",
       "      <td>0.116568</td>\n",
       "      <td>0.064541</td>\n",
       "      <td>0.986000</td>\n",
       "      <td>00:17</td>\n",
       "    </tr>\n",
       "  </tbody>\n",
       "</table>"
      ],
      "text/plain": [
       "<IPython.core.display.HTML object>"
      ]
     },
     "metadata": {},
     "output_type": "display_data"
    },
    {
     "data": {
      "text/html": [],
      "text/plain": [
       "<IPython.core.display.HTML object>"
      ]
     },
     "metadata": {},
     "output_type": "display_data"
    },
    {
     "name": "stdout",
     "output_type": "stream",
     "text": [
      "finished 0th bootstrap of size1600\n"
     ]
    },
    {
     "data": {
      "text/html": [],
      "text/plain": [
       "<IPython.core.display.HTML object>"
      ]
     },
     "metadata": {},
     "output_type": "display_data"
    },
    {
     "data": {
      "text/html": [],
      "text/plain": [
       "<IPython.core.display.HTML object>"
      ]
     },
     "metadata": {},
     "output_type": "display_data"
    },
    {
     "data": {
      "text/html": [
       "<table border=\"1\" class=\"dataframe\">\n",
       "  <thead>\n",
       "    <tr style=\"text-align: left;\">\n",
       "      <th>epoch</th>\n",
       "      <th>train_loss</th>\n",
       "      <th>valid_loss</th>\n",
       "      <th>accuracy</th>\n",
       "      <th>time</th>\n",
       "    </tr>\n",
       "  </thead>\n",
       "  <tbody>\n",
       "    <tr>\n",
       "      <td>0</td>\n",
       "      <td>2.037453</td>\n",
       "      <td>0.986666</td>\n",
       "      <td>0.937000</td>\n",
       "      <td>00:17</td>\n",
       "    </tr>\n",
       "    <tr>\n",
       "      <td>1</td>\n",
       "      <td>0.966992</td>\n",
       "      <td>0.101108</td>\n",
       "      <td>0.981500</td>\n",
       "      <td>00:17</td>\n",
       "    </tr>\n",
       "    <tr>\n",
       "      <td>2</td>\n",
       "      <td>0.567603</td>\n",
       "      <td>0.102499</td>\n",
       "      <td>0.980000</td>\n",
       "      <td>00:17</td>\n",
       "    </tr>\n",
       "    <tr>\n",
       "      <td>3</td>\n",
       "      <td>0.339055</td>\n",
       "      <td>0.123839</td>\n",
       "      <td>0.979500</td>\n",
       "      <td>00:17</td>\n",
       "    </tr>\n",
       "    <tr>\n",
       "      <td>4</td>\n",
       "      <td>0.212498</td>\n",
       "      <td>0.096483</td>\n",
       "      <td>0.980500</td>\n",
       "      <td>00:17</td>\n",
       "    </tr>\n",
       "    <tr>\n",
       "      <td>5</td>\n",
       "      <td>0.135088</td>\n",
       "      <td>0.082299</td>\n",
       "      <td>0.983000</td>\n",
       "      <td>00:16</td>\n",
       "    </tr>\n",
       "  </tbody>\n",
       "</table>"
      ],
      "text/plain": [
       "<IPython.core.display.HTML object>"
      ]
     },
     "metadata": {},
     "output_type": "display_data"
    },
    {
     "data": {
      "text/html": [],
      "text/plain": [
       "<IPython.core.display.HTML object>"
      ]
     },
     "metadata": {},
     "output_type": "display_data"
    },
    {
     "name": "stdout",
     "output_type": "stream",
     "text": [
      "finished 1th bootstrap of size1600\n"
     ]
    },
    {
     "data": {
      "text/html": [],
      "text/plain": [
       "<IPython.core.display.HTML object>"
      ]
     },
     "metadata": {},
     "output_type": "display_data"
    },
    {
     "data": {
      "text/html": [],
      "text/plain": [
       "<IPython.core.display.HTML object>"
      ]
     },
     "metadata": {},
     "output_type": "display_data"
    },
    {
     "data": {
      "text/html": [
       "<table border=\"1\" class=\"dataframe\">\n",
       "  <thead>\n",
       "    <tr style=\"text-align: left;\">\n",
       "      <th>epoch</th>\n",
       "      <th>train_loss</th>\n",
       "      <th>valid_loss</th>\n",
       "      <th>accuracy</th>\n",
       "      <th>time</th>\n",
       "    </tr>\n",
       "  </thead>\n",
       "  <tbody>\n",
       "    <tr>\n",
       "      <td>0</td>\n",
       "      <td>2.048816</td>\n",
       "      <td>1.011438</td>\n",
       "      <td>0.920000</td>\n",
       "      <td>00:17</td>\n",
       "    </tr>\n",
       "    <tr>\n",
       "      <td>1</td>\n",
       "      <td>0.944140</td>\n",
       "      <td>0.347943</td>\n",
       "      <td>0.918500</td>\n",
       "      <td>00:17</td>\n",
       "    </tr>\n",
       "    <tr>\n",
       "      <td>2</td>\n",
       "      <td>0.551859</td>\n",
       "      <td>0.109252</td>\n",
       "      <td>0.977000</td>\n",
       "      <td>00:17</td>\n",
       "    </tr>\n",
       "    <tr>\n",
       "      <td>3</td>\n",
       "      <td>0.334301</td>\n",
       "      <td>0.086087</td>\n",
       "      <td>0.979500</td>\n",
       "      <td>00:17</td>\n",
       "    </tr>\n",
       "    <tr>\n",
       "      <td>4</td>\n",
       "      <td>0.206156</td>\n",
       "      <td>0.099855</td>\n",
       "      <td>0.981500</td>\n",
       "      <td>00:17</td>\n",
       "    </tr>\n",
       "    <tr>\n",
       "      <td>5</td>\n",
       "      <td>0.129416</td>\n",
       "      <td>0.087227</td>\n",
       "      <td>0.982500</td>\n",
       "      <td>00:17</td>\n",
       "    </tr>\n",
       "  </tbody>\n",
       "</table>"
      ],
      "text/plain": [
       "<IPython.core.display.HTML object>"
      ]
     },
     "metadata": {},
     "output_type": "display_data"
    },
    {
     "data": {
      "text/html": [],
      "text/plain": [
       "<IPython.core.display.HTML object>"
      ]
     },
     "metadata": {},
     "output_type": "display_data"
    },
    {
     "name": "stdout",
     "output_type": "stream",
     "text": [
      "finished 2th bootstrap of size1600\n"
     ]
    },
    {
     "data": {
      "text/html": [],
      "text/plain": [
       "<IPython.core.display.HTML object>"
      ]
     },
     "metadata": {},
     "output_type": "display_data"
    },
    {
     "data": {
      "text/html": [],
      "text/plain": [
       "<IPython.core.display.HTML object>"
      ]
     },
     "metadata": {},
     "output_type": "display_data"
    },
    {
     "data": {
      "text/html": [
       "<table border=\"1\" class=\"dataframe\">\n",
       "  <thead>\n",
       "    <tr style=\"text-align: left;\">\n",
       "      <th>epoch</th>\n",
       "      <th>train_loss</th>\n",
       "      <th>valid_loss</th>\n",
       "      <th>accuracy</th>\n",
       "      <th>time</th>\n",
       "    </tr>\n",
       "  </thead>\n",
       "  <tbody>\n",
       "    <tr>\n",
       "      <td>0</td>\n",
       "      <td>2.080435</td>\n",
       "      <td>0.981348</td>\n",
       "      <td>0.911000</td>\n",
       "      <td>00:17</td>\n",
       "    </tr>\n",
       "    <tr>\n",
       "      <td>1</td>\n",
       "      <td>0.952233</td>\n",
       "      <td>0.087254</td>\n",
       "      <td>0.982000</td>\n",
       "      <td>00:17</td>\n",
       "    </tr>\n",
       "    <tr>\n",
       "      <td>2</td>\n",
       "      <td>0.502414</td>\n",
       "      <td>0.220827</td>\n",
       "      <td>0.956500</td>\n",
       "      <td>00:17</td>\n",
       "    </tr>\n",
       "    <tr>\n",
       "      <td>3</td>\n",
       "      <td>0.341172</td>\n",
       "      <td>0.069457</td>\n",
       "      <td>0.986000</td>\n",
       "      <td>00:17</td>\n",
       "    </tr>\n",
       "    <tr>\n",
       "      <td>4</td>\n",
       "      <td>0.211771</td>\n",
       "      <td>0.066008</td>\n",
       "      <td>0.984500</td>\n",
       "      <td>00:17</td>\n",
       "    </tr>\n",
       "    <tr>\n",
       "      <td>5</td>\n",
       "      <td>0.132297</td>\n",
       "      <td>0.063213</td>\n",
       "      <td>0.984000</td>\n",
       "      <td>00:17</td>\n",
       "    </tr>\n",
       "  </tbody>\n",
       "</table>"
      ],
      "text/plain": [
       "<IPython.core.display.HTML object>"
      ]
     },
     "metadata": {},
     "output_type": "display_data"
    },
    {
     "data": {
      "text/html": [],
      "text/plain": [
       "<IPython.core.display.HTML object>"
      ]
     },
     "metadata": {},
     "output_type": "display_data"
    },
    {
     "name": "stdout",
     "output_type": "stream",
     "text": [
      "finished 3th bootstrap of size1600\n"
     ]
    },
    {
     "data": {
      "text/html": [],
      "text/plain": [
       "<IPython.core.display.HTML object>"
      ]
     },
     "metadata": {},
     "output_type": "display_data"
    },
    {
     "data": {
      "text/html": [],
      "text/plain": [
       "<IPython.core.display.HTML object>"
      ]
     },
     "metadata": {},
     "output_type": "display_data"
    },
    {
     "data": {
      "text/html": [
       "<table border=\"1\" class=\"dataframe\">\n",
       "  <thead>\n",
       "    <tr style=\"text-align: left;\">\n",
       "      <th>epoch</th>\n",
       "      <th>train_loss</th>\n",
       "      <th>valid_loss</th>\n",
       "      <th>accuracy</th>\n",
       "      <th>time</th>\n",
       "    </tr>\n",
       "  </thead>\n",
       "  <tbody>\n",
       "    <tr>\n",
       "      <td>0</td>\n",
       "      <td>2.083275</td>\n",
       "      <td>0.922042</td>\n",
       "      <td>0.974500</td>\n",
       "      <td>00:16</td>\n",
       "    </tr>\n",
       "    <tr>\n",
       "      <td>1</td>\n",
       "      <td>0.960054</td>\n",
       "      <td>0.333364</td>\n",
       "      <td>0.928500</td>\n",
       "      <td>00:16</td>\n",
       "    </tr>\n",
       "    <tr>\n",
       "      <td>2</td>\n",
       "      <td>0.565321</td>\n",
       "      <td>0.149440</td>\n",
       "      <td>0.971500</td>\n",
       "      <td>00:16</td>\n",
       "    </tr>\n",
       "    <tr>\n",
       "      <td>3</td>\n",
       "      <td>0.353268</td>\n",
       "      <td>0.083401</td>\n",
       "      <td>0.983500</td>\n",
       "      <td>00:16</td>\n",
       "    </tr>\n",
       "    <tr>\n",
       "      <td>4</td>\n",
       "      <td>0.217050</td>\n",
       "      <td>0.077616</td>\n",
       "      <td>0.983500</td>\n",
       "      <td>00:16</td>\n",
       "    </tr>\n",
       "    <tr>\n",
       "      <td>5</td>\n",
       "      <td>0.133584</td>\n",
       "      <td>0.076700</td>\n",
       "      <td>0.983000</td>\n",
       "      <td>00:16</td>\n",
       "    </tr>\n",
       "  </tbody>\n",
       "</table>"
      ],
      "text/plain": [
       "<IPython.core.display.HTML object>"
      ]
     },
     "metadata": {},
     "output_type": "display_data"
    },
    {
     "data": {
      "text/html": [],
      "text/plain": [
       "<IPython.core.display.HTML object>"
      ]
     },
     "metadata": {},
     "output_type": "display_data"
    },
    {
     "name": "stdout",
     "output_type": "stream",
     "text": [
      "finished 4th bootstrap of size1600\n"
     ]
    },
    {
     "data": {
      "text/html": [],
      "text/plain": [
       "<IPython.core.display.HTML object>"
      ]
     },
     "metadata": {},
     "output_type": "display_data"
    },
    {
     "data": {
      "text/html": [],
      "text/plain": [
       "<IPython.core.display.HTML object>"
      ]
     },
     "metadata": {},
     "output_type": "display_data"
    },
    {
     "data": {
      "text/html": [
       "<table border=\"1\" class=\"dataframe\">\n",
       "  <thead>\n",
       "    <tr style=\"text-align: left;\">\n",
       "      <th>epoch</th>\n",
       "      <th>train_loss</th>\n",
       "      <th>valid_loss</th>\n",
       "      <th>accuracy</th>\n",
       "      <th>time</th>\n",
       "    </tr>\n",
       "  </thead>\n",
       "  <tbody>\n",
       "    <tr>\n",
       "      <td>0</td>\n",
       "      <td>1.386462</td>\n",
       "      <td>0.162894</td>\n",
       "      <td>0.982000</td>\n",
       "      <td>00:27</td>\n",
       "    </tr>\n",
       "    <tr>\n",
       "      <td>1</td>\n",
       "      <td>0.471508</td>\n",
       "      <td>0.122492</td>\n",
       "      <td>0.973500</td>\n",
       "      <td>00:27</td>\n",
       "    </tr>\n",
       "    <tr>\n",
       "      <td>2</td>\n",
       "      <td>0.278210</td>\n",
       "      <td>0.217676</td>\n",
       "      <td>0.954000</td>\n",
       "      <td>00:27</td>\n",
       "    </tr>\n",
       "    <tr>\n",
       "      <td>3</td>\n",
       "      <td>0.167162</td>\n",
       "      <td>0.118194</td>\n",
       "      <td>0.978500</td>\n",
       "      <td>00:28</td>\n",
       "    </tr>\n",
       "    <tr>\n",
       "      <td>4</td>\n",
       "      <td>0.084846</td>\n",
       "      <td>0.098155</td>\n",
       "      <td>0.982500</td>\n",
       "      <td>00:27</td>\n",
       "    </tr>\n",
       "    <tr>\n",
       "      <td>5</td>\n",
       "      <td>0.045306</td>\n",
       "      <td>0.098104</td>\n",
       "      <td>0.981500</td>\n",
       "      <td>00:28</td>\n",
       "    </tr>\n",
       "  </tbody>\n",
       "</table>"
      ],
      "text/plain": [
       "<IPython.core.display.HTML object>"
      ]
     },
     "metadata": {},
     "output_type": "display_data"
    },
    {
     "data": {
      "text/html": [],
      "text/plain": [
       "<IPython.core.display.HTML object>"
      ]
     },
     "metadata": {},
     "output_type": "display_data"
    },
    {
     "name": "stdout",
     "output_type": "stream",
     "text": [
      "finished 0th bootstrap of size3200\n"
     ]
    },
    {
     "data": {
      "text/html": [],
      "text/plain": [
       "<IPython.core.display.HTML object>"
      ]
     },
     "metadata": {},
     "output_type": "display_data"
    },
    {
     "data": {
      "text/html": [],
      "text/plain": [
       "<IPython.core.display.HTML object>"
      ]
     },
     "metadata": {},
     "output_type": "display_data"
    },
    {
     "data": {
      "text/html": [
       "<table border=\"1\" class=\"dataframe\">\n",
       "  <thead>\n",
       "    <tr style=\"text-align: left;\">\n",
       "      <th>epoch</th>\n",
       "      <th>train_loss</th>\n",
       "      <th>valid_loss</th>\n",
       "      <th>accuracy</th>\n",
       "      <th>time</th>\n",
       "    </tr>\n",
       "  </thead>\n",
       "  <tbody>\n",
       "    <tr>\n",
       "      <td>0</td>\n",
       "      <td>1.409636</td>\n",
       "      <td>0.174537</td>\n",
       "      <td>0.984500</td>\n",
       "      <td>00:27</td>\n",
       "    </tr>\n",
       "    <tr>\n",
       "      <td>1</td>\n",
       "      <td>0.501023</td>\n",
       "      <td>0.129470</td>\n",
       "      <td>0.972000</td>\n",
       "      <td>00:27</td>\n",
       "    </tr>\n",
       "    <tr>\n",
       "      <td>2</td>\n",
       "      <td>0.287767</td>\n",
       "      <td>0.171223</td>\n",
       "      <td>0.969000</td>\n",
       "      <td>00:27</td>\n",
       "    </tr>\n",
       "    <tr>\n",
       "      <td>3</td>\n",
       "      <td>0.163707</td>\n",
       "      <td>0.104971</td>\n",
       "      <td>0.979000</td>\n",
       "      <td>00:27</td>\n",
       "    </tr>\n",
       "    <tr>\n",
       "      <td>4</td>\n",
       "      <td>0.080900</td>\n",
       "      <td>0.089028</td>\n",
       "      <td>0.981500</td>\n",
       "      <td>00:27</td>\n",
       "    </tr>\n",
       "    <tr>\n",
       "      <td>5</td>\n",
       "      <td>0.042425</td>\n",
       "      <td>0.092489</td>\n",
       "      <td>0.982000</td>\n",
       "      <td>00:27</td>\n",
       "    </tr>\n",
       "  </tbody>\n",
       "</table>"
      ],
      "text/plain": [
       "<IPython.core.display.HTML object>"
      ]
     },
     "metadata": {},
     "output_type": "display_data"
    },
    {
     "data": {
      "text/html": [],
      "text/plain": [
       "<IPython.core.display.HTML object>"
      ]
     },
     "metadata": {},
     "output_type": "display_data"
    },
    {
     "name": "stdout",
     "output_type": "stream",
     "text": [
      "finished 1th bootstrap of size3200\n"
     ]
    },
    {
     "data": {
      "text/html": [],
      "text/plain": [
       "<IPython.core.display.HTML object>"
      ]
     },
     "metadata": {},
     "output_type": "display_data"
    },
    {
     "data": {
      "text/html": [],
      "text/plain": [
       "<IPython.core.display.HTML object>"
      ]
     },
     "metadata": {},
     "output_type": "display_data"
    },
    {
     "data": {
      "text/html": [
       "<table border=\"1\" class=\"dataframe\">\n",
       "  <thead>\n",
       "    <tr style=\"text-align: left;\">\n",
       "      <th>epoch</th>\n",
       "      <th>train_loss</th>\n",
       "      <th>valid_loss</th>\n",
       "      <th>accuracy</th>\n",
       "      <th>time</th>\n",
       "    </tr>\n",
       "  </thead>\n",
       "  <tbody>\n",
       "    <tr>\n",
       "      <td>0</td>\n",
       "      <td>1.403563</td>\n",
       "      <td>0.185900</td>\n",
       "      <td>0.987500</td>\n",
       "      <td>00:28</td>\n",
       "    </tr>\n",
       "    <tr>\n",
       "      <td>1</td>\n",
       "      <td>0.490794</td>\n",
       "      <td>0.147981</td>\n",
       "      <td>0.960500</td>\n",
       "      <td>00:28</td>\n",
       "    </tr>\n",
       "    <tr>\n",
       "      <td>2</td>\n",
       "      <td>0.308760</td>\n",
       "      <td>0.206321</td>\n",
       "      <td>0.958000</td>\n",
       "      <td>00:27</td>\n",
       "    </tr>\n",
       "    <tr>\n",
       "      <td>3</td>\n",
       "      <td>0.158028</td>\n",
       "      <td>0.097168</td>\n",
       "      <td>0.981000</td>\n",
       "      <td>00:28</td>\n",
       "    </tr>\n",
       "    <tr>\n",
       "      <td>4</td>\n",
       "      <td>0.081042</td>\n",
       "      <td>0.114052</td>\n",
       "      <td>0.977000</td>\n",
       "      <td>00:27</td>\n",
       "    </tr>\n",
       "    <tr>\n",
       "      <td>5</td>\n",
       "      <td>0.040890</td>\n",
       "      <td>0.099592</td>\n",
       "      <td>0.982000</td>\n",
       "      <td>00:27</td>\n",
       "    </tr>\n",
       "  </tbody>\n",
       "</table>"
      ],
      "text/plain": [
       "<IPython.core.display.HTML object>"
      ]
     },
     "metadata": {},
     "output_type": "display_data"
    },
    {
     "data": {
      "text/html": [],
      "text/plain": [
       "<IPython.core.display.HTML object>"
      ]
     },
     "metadata": {},
     "output_type": "display_data"
    },
    {
     "name": "stdout",
     "output_type": "stream",
     "text": [
      "finished 2th bootstrap of size3200\n"
     ]
    },
    {
     "data": {
      "text/html": [],
      "text/plain": [
       "<IPython.core.display.HTML object>"
      ]
     },
     "metadata": {},
     "output_type": "display_data"
    },
    {
     "data": {
      "text/html": [],
      "text/plain": [
       "<IPython.core.display.HTML object>"
      ]
     },
     "metadata": {},
     "output_type": "display_data"
    },
    {
     "data": {
      "text/html": [
       "<table border=\"1\" class=\"dataframe\">\n",
       "  <thead>\n",
       "    <tr style=\"text-align: left;\">\n",
       "      <th>epoch</th>\n",
       "      <th>train_loss</th>\n",
       "      <th>valid_loss</th>\n",
       "      <th>accuracy</th>\n",
       "      <th>time</th>\n",
       "    </tr>\n",
       "  </thead>\n",
       "  <tbody>\n",
       "    <tr>\n",
       "      <td>0</td>\n",
       "      <td>1.400441</td>\n",
       "      <td>0.153853</td>\n",
       "      <td>0.989000</td>\n",
       "      <td>00:27</td>\n",
       "    </tr>\n",
       "    <tr>\n",
       "      <td>1</td>\n",
       "      <td>0.477604</td>\n",
       "      <td>0.280920</td>\n",
       "      <td>0.928000</td>\n",
       "      <td>00:27</td>\n",
       "    </tr>\n",
       "    <tr>\n",
       "      <td>2</td>\n",
       "      <td>0.281488</td>\n",
       "      <td>0.237003</td>\n",
       "      <td>0.953500</td>\n",
       "      <td>00:27</td>\n",
       "    </tr>\n",
       "    <tr>\n",
       "      <td>3</td>\n",
       "      <td>0.164454</td>\n",
       "      <td>0.173704</td>\n",
       "      <td>0.968000</td>\n",
       "      <td>00:27</td>\n",
       "    </tr>\n",
       "    <tr>\n",
       "      <td>4</td>\n",
       "      <td>0.082765</td>\n",
       "      <td>0.103152</td>\n",
       "      <td>0.977000</td>\n",
       "      <td>00:27</td>\n",
       "    </tr>\n",
       "    <tr>\n",
       "      <td>5</td>\n",
       "      <td>0.040031</td>\n",
       "      <td>0.097880</td>\n",
       "      <td>0.980000</td>\n",
       "      <td>00:27</td>\n",
       "    </tr>\n",
       "  </tbody>\n",
       "</table>"
      ],
      "text/plain": [
       "<IPython.core.display.HTML object>"
      ]
     },
     "metadata": {},
     "output_type": "display_data"
    },
    {
     "data": {
      "text/html": [],
      "text/plain": [
       "<IPython.core.display.HTML object>"
      ]
     },
     "metadata": {},
     "output_type": "display_data"
    },
    {
     "name": "stdout",
     "output_type": "stream",
     "text": [
      "finished 3th bootstrap of size3200\n"
     ]
    },
    {
     "data": {
      "text/html": [],
      "text/plain": [
       "<IPython.core.display.HTML object>"
      ]
     },
     "metadata": {},
     "output_type": "display_data"
    },
    {
     "data": {
      "text/html": [],
      "text/plain": [
       "<IPython.core.display.HTML object>"
      ]
     },
     "metadata": {},
     "output_type": "display_data"
    },
    {
     "data": {
      "text/html": [
       "<table border=\"1\" class=\"dataframe\">\n",
       "  <thead>\n",
       "    <tr style=\"text-align: left;\">\n",
       "      <th>epoch</th>\n",
       "      <th>train_loss</th>\n",
       "      <th>valid_loss</th>\n",
       "      <th>accuracy</th>\n",
       "      <th>time</th>\n",
       "    </tr>\n",
       "  </thead>\n",
       "  <tbody>\n",
       "    <tr>\n",
       "      <td>0</td>\n",
       "      <td>1.452418</td>\n",
       "      <td>0.208840</td>\n",
       "      <td>0.987000</td>\n",
       "      <td>00:27</td>\n",
       "    </tr>\n",
       "    <tr>\n",
       "      <td>1</td>\n",
       "      <td>0.526825</td>\n",
       "      <td>0.179609</td>\n",
       "      <td>0.960000</td>\n",
       "      <td>00:27</td>\n",
       "    </tr>\n",
       "    <tr>\n",
       "      <td>2</td>\n",
       "      <td>0.287334</td>\n",
       "      <td>0.138901</td>\n",
       "      <td>0.970000</td>\n",
       "      <td>00:27</td>\n",
       "    </tr>\n",
       "    <tr>\n",
       "      <td>3</td>\n",
       "      <td>0.165548</td>\n",
       "      <td>0.121431</td>\n",
       "      <td>0.978500</td>\n",
       "      <td>00:27</td>\n",
       "    </tr>\n",
       "    <tr>\n",
       "      <td>4</td>\n",
       "      <td>0.076608</td>\n",
       "      <td>0.078631</td>\n",
       "      <td>0.984500</td>\n",
       "      <td>00:27</td>\n",
       "    </tr>\n",
       "    <tr>\n",
       "      <td>5</td>\n",
       "      <td>0.037594</td>\n",
       "      <td>0.070661</td>\n",
       "      <td>0.986000</td>\n",
       "      <td>00:27</td>\n",
       "    </tr>\n",
       "  </tbody>\n",
       "</table>"
      ],
      "text/plain": [
       "<IPython.core.display.HTML object>"
      ]
     },
     "metadata": {},
     "output_type": "display_data"
    },
    {
     "data": {
      "text/html": [],
      "text/plain": [
       "<IPython.core.display.HTML object>"
      ]
     },
     "metadata": {},
     "output_type": "display_data"
    },
    {
     "name": "stdout",
     "output_type": "stream",
     "text": [
      "finished 4th bootstrap of size3200\n"
     ]
    },
    {
     "data": {
      "text/html": [],
      "text/plain": [
       "<IPython.core.display.HTML object>"
      ]
     },
     "metadata": {},
     "output_type": "display_data"
    },
    {
     "data": {
      "text/html": [],
      "text/plain": [
       "<IPython.core.display.HTML object>"
      ]
     },
     "metadata": {},
     "output_type": "display_data"
    },
    {
     "data": {
      "text/html": [
       "<table border=\"1\" class=\"dataframe\">\n",
       "  <thead>\n",
       "    <tr style=\"text-align: left;\">\n",
       "      <th>epoch</th>\n",
       "      <th>train_loss</th>\n",
       "      <th>valid_loss</th>\n",
       "      <th>accuracy</th>\n",
       "      <th>time</th>\n",
       "    </tr>\n",
       "  </thead>\n",
       "  <tbody>\n",
       "    <tr>\n",
       "      <td>0</td>\n",
       "      <td>0.969536</td>\n",
       "      <td>0.099100</td>\n",
       "      <td>0.981000</td>\n",
       "      <td>00:41</td>\n",
       "    </tr>\n",
       "    <tr>\n",
       "      <td>1</td>\n",
       "      <td>0.329775</td>\n",
       "      <td>0.120840</td>\n",
       "      <td>0.976500</td>\n",
       "      <td>00:46</td>\n",
       "    </tr>\n",
       "    <tr>\n",
       "      <td>2</td>\n",
       "      <td>0.213359</td>\n",
       "      <td>0.154691</td>\n",
       "      <td>0.969000</td>\n",
       "      <td>00:45</td>\n",
       "    </tr>\n",
       "    <tr>\n",
       "      <td>3</td>\n",
       "      <td>0.159285</td>\n",
       "      <td>0.149444</td>\n",
       "      <td>0.971000</td>\n",
       "      <td>00:42</td>\n",
       "    </tr>\n",
       "    <tr>\n",
       "      <td>4</td>\n",
       "      <td>0.080116</td>\n",
       "      <td>0.090097</td>\n",
       "      <td>0.979500</td>\n",
       "      <td>00:43</td>\n",
       "    </tr>\n",
       "    <tr>\n",
       "      <td>5</td>\n",
       "      <td>0.034902</td>\n",
       "      <td>0.089337</td>\n",
       "      <td>0.982000</td>\n",
       "      <td>00:41</td>\n",
       "    </tr>\n",
       "  </tbody>\n",
       "</table>"
      ],
      "text/plain": [
       "<IPython.core.display.HTML object>"
      ]
     },
     "metadata": {},
     "output_type": "display_data"
    },
    {
     "data": {
      "text/html": [],
      "text/plain": [
       "<IPython.core.display.HTML object>"
      ]
     },
     "metadata": {},
     "output_type": "display_data"
    },
    {
     "name": "stdout",
     "output_type": "stream",
     "text": [
      "finished 0th bootstrap of size5000\n"
     ]
    },
    {
     "data": {
      "text/html": [],
      "text/plain": [
       "<IPython.core.display.HTML object>"
      ]
     },
     "metadata": {},
     "output_type": "display_data"
    },
    {
     "data": {
      "text/html": [],
      "text/plain": [
       "<IPython.core.display.HTML object>"
      ]
     },
     "metadata": {},
     "output_type": "display_data"
    },
    {
     "data": {
      "text/html": [
       "<table border=\"1\" class=\"dataframe\">\n",
       "  <thead>\n",
       "    <tr style=\"text-align: left;\">\n",
       "      <th>epoch</th>\n",
       "      <th>train_loss</th>\n",
       "      <th>valid_loss</th>\n",
       "      <th>accuracy</th>\n",
       "      <th>time</th>\n",
       "    </tr>\n",
       "  </thead>\n",
       "  <tbody>\n",
       "    <tr>\n",
       "      <td>0</td>\n",
       "      <td>0.921230</td>\n",
       "      <td>0.099089</td>\n",
       "      <td>0.986500</td>\n",
       "      <td>00:45</td>\n",
       "    </tr>\n",
       "    <tr>\n",
       "      <td>1</td>\n",
       "      <td>0.345472</td>\n",
       "      <td>0.209394</td>\n",
       "      <td>0.955000</td>\n",
       "      <td>00:47</td>\n",
       "    </tr>\n",
       "    <tr>\n",
       "      <td>2</td>\n",
       "      <td>0.296321</td>\n",
       "      <td>0.226946</td>\n",
       "      <td>0.950500</td>\n",
       "      <td>00:45</td>\n",
       "    </tr>\n",
       "    <tr>\n",
       "      <td>3</td>\n",
       "      <td>0.328307</td>\n",
       "      <td>0.313660</td>\n",
       "      <td>0.925500</td>\n",
       "      <td>00:44</td>\n",
       "    </tr>\n",
       "    <tr>\n",
       "      <td>4</td>\n",
       "      <td>0.153571</td>\n",
       "      <td>0.155875</td>\n",
       "      <td>0.972500</td>\n",
       "      <td>00:41</td>\n",
       "    </tr>\n",
       "    <tr>\n",
       "      <td>5</td>\n",
       "      <td>0.105882</td>\n",
       "      <td>0.143386</td>\n",
       "      <td>0.974500</td>\n",
       "      <td>00:43</td>\n",
       "    </tr>\n",
       "  </tbody>\n",
       "</table>"
      ],
      "text/plain": [
       "<IPython.core.display.HTML object>"
      ]
     },
     "metadata": {},
     "output_type": "display_data"
    },
    {
     "data": {
      "text/html": [],
      "text/plain": [
       "<IPython.core.display.HTML object>"
      ]
     },
     "metadata": {},
     "output_type": "display_data"
    },
    {
     "name": "stdout",
     "output_type": "stream",
     "text": [
      "finished 1th bootstrap of size5000\n"
     ]
    },
    {
     "data": {
      "text/html": [],
      "text/plain": [
       "<IPython.core.display.HTML object>"
      ]
     },
     "metadata": {},
     "output_type": "display_data"
    },
    {
     "data": {
      "text/html": [],
      "text/plain": [
       "<IPython.core.display.HTML object>"
      ]
     },
     "metadata": {},
     "output_type": "display_data"
    },
    {
     "data": {
      "text/html": [
       "<table border=\"1\" class=\"dataframe\">\n",
       "  <thead>\n",
       "    <tr style=\"text-align: left;\">\n",
       "      <th>epoch</th>\n",
       "      <th>train_loss</th>\n",
       "      <th>valid_loss</th>\n",
       "      <th>accuracy</th>\n",
       "      <th>time</th>\n",
       "    </tr>\n",
       "  </thead>\n",
       "  <tbody>\n",
       "    <tr>\n",
       "      <td>0</td>\n",
       "      <td>0.984380</td>\n",
       "      <td>0.071297</td>\n",
       "      <td>0.991000</td>\n",
       "      <td>00:44</td>\n",
       "    </tr>\n",
       "    <tr>\n",
       "      <td>1</td>\n",
       "      <td>0.340183</td>\n",
       "      <td>0.144903</td>\n",
       "      <td>0.969500</td>\n",
       "      <td>00:41</td>\n",
       "    </tr>\n",
       "    <tr>\n",
       "      <td>2</td>\n",
       "      <td>0.315991</td>\n",
       "      <td>0.224900</td>\n",
       "      <td>0.949000</td>\n",
       "      <td>00:42</td>\n",
       "    </tr>\n",
       "    <tr>\n",
       "      <td>3</td>\n",
       "      <td>0.184305</td>\n",
       "      <td>0.171210</td>\n",
       "      <td>0.966500</td>\n",
       "      <td>00:45</td>\n",
       "    </tr>\n",
       "    <tr>\n",
       "      <td>4</td>\n",
       "      <td>0.105002</td>\n",
       "      <td>0.130049</td>\n",
       "      <td>0.977000</td>\n",
       "      <td>00:41</td>\n",
       "    </tr>\n",
       "    <tr>\n",
       "      <td>5</td>\n",
       "      <td>0.064417</td>\n",
       "      <td>0.122066</td>\n",
       "      <td>0.979000</td>\n",
       "      <td>00:47</td>\n",
       "    </tr>\n",
       "  </tbody>\n",
       "</table>"
      ],
      "text/plain": [
       "<IPython.core.display.HTML object>"
      ]
     },
     "metadata": {},
     "output_type": "display_data"
    },
    {
     "data": {
      "text/html": [],
      "text/plain": [
       "<IPython.core.display.HTML object>"
      ]
     },
     "metadata": {},
     "output_type": "display_data"
    },
    {
     "name": "stdout",
     "output_type": "stream",
     "text": [
      "finished 2th bootstrap of size5000\n"
     ]
    },
    {
     "data": {
      "text/html": [],
      "text/plain": [
       "<IPython.core.display.HTML object>"
      ]
     },
     "metadata": {},
     "output_type": "display_data"
    },
    {
     "data": {
      "text/html": [],
      "text/plain": [
       "<IPython.core.display.HTML object>"
      ]
     },
     "metadata": {},
     "output_type": "display_data"
    },
    {
     "data": {
      "text/html": [
       "<table border=\"1\" class=\"dataframe\">\n",
       "  <thead>\n",
       "    <tr style=\"text-align: left;\">\n",
       "      <th>epoch</th>\n",
       "      <th>train_loss</th>\n",
       "      <th>valid_loss</th>\n",
       "      <th>accuracy</th>\n",
       "      <th>time</th>\n",
       "    </tr>\n",
       "  </thead>\n",
       "  <tbody>\n",
       "    <tr>\n",
       "      <td>0</td>\n",
       "      <td>0.944750</td>\n",
       "      <td>0.124661</td>\n",
       "      <td>0.976500</td>\n",
       "      <td>00:45</td>\n",
       "    </tr>\n",
       "    <tr>\n",
       "      <td>1</td>\n",
       "      <td>0.338564</td>\n",
       "      <td>0.238022</td>\n",
       "      <td>0.955000</td>\n",
       "      <td>00:41</td>\n",
       "    </tr>\n",
       "    <tr>\n",
       "      <td>2</td>\n",
       "      <td>0.292914</td>\n",
       "      <td>0.217381</td>\n",
       "      <td>0.958500</td>\n",
       "      <td>00:43</td>\n",
       "    </tr>\n",
       "    <tr>\n",
       "      <td>3</td>\n",
       "      <td>0.227992</td>\n",
       "      <td>0.209743</td>\n",
       "      <td>0.961000</td>\n",
       "      <td>00:41</td>\n",
       "    </tr>\n",
       "    <tr>\n",
       "      <td>4</td>\n",
       "      <td>0.114407</td>\n",
       "      <td>0.141438</td>\n",
       "      <td>0.976000</td>\n",
       "      <td>00:45</td>\n",
       "    </tr>\n",
       "    <tr>\n",
       "      <td>5</td>\n",
       "      <td>0.055688</td>\n",
       "      <td>0.130932</td>\n",
       "      <td>0.977000</td>\n",
       "      <td>00:41</td>\n",
       "    </tr>\n",
       "  </tbody>\n",
       "</table>"
      ],
      "text/plain": [
       "<IPython.core.display.HTML object>"
      ]
     },
     "metadata": {},
     "output_type": "display_data"
    },
    {
     "data": {
      "text/html": [],
      "text/plain": [
       "<IPython.core.display.HTML object>"
      ]
     },
     "metadata": {},
     "output_type": "display_data"
    },
    {
     "name": "stdout",
     "output_type": "stream",
     "text": [
      "finished 3th bootstrap of size5000\n"
     ]
    },
    {
     "data": {
      "text/html": [],
      "text/plain": [
       "<IPython.core.display.HTML object>"
      ]
     },
     "metadata": {},
     "output_type": "display_data"
    },
    {
     "data": {
      "text/html": [],
      "text/plain": [
       "<IPython.core.display.HTML object>"
      ]
     },
     "metadata": {},
     "output_type": "display_data"
    },
    {
     "data": {
      "text/html": [
       "<table border=\"1\" class=\"dataframe\">\n",
       "  <thead>\n",
       "    <tr style=\"text-align: left;\">\n",
       "      <th>epoch</th>\n",
       "      <th>train_loss</th>\n",
       "      <th>valid_loss</th>\n",
       "      <th>accuracy</th>\n",
       "      <th>time</th>\n",
       "    </tr>\n",
       "  </thead>\n",
       "  <tbody>\n",
       "    <tr>\n",
       "      <td>0</td>\n",
       "      <td>0.953069</td>\n",
       "      <td>0.089250</td>\n",
       "      <td>0.986500</td>\n",
       "      <td>00:46</td>\n",
       "    </tr>\n",
       "    <tr>\n",
       "      <td>1</td>\n",
       "      <td>0.384995</td>\n",
       "      <td>0.144476</td>\n",
       "      <td>0.972500</td>\n",
       "      <td>00:42</td>\n",
       "    </tr>\n",
       "    <tr>\n",
       "      <td>2</td>\n",
       "      <td>0.259948</td>\n",
       "      <td>0.151231</td>\n",
       "      <td>0.973000</td>\n",
       "      <td>00:41</td>\n",
       "    </tr>\n",
       "    <tr>\n",
       "      <td>3</td>\n",
       "      <td>0.169848</td>\n",
       "      <td>0.145857</td>\n",
       "      <td>0.973500</td>\n",
       "      <td>00:43</td>\n",
       "    </tr>\n",
       "    <tr>\n",
       "      <td>4</td>\n",
       "      <td>0.102425</td>\n",
       "      <td>0.120986</td>\n",
       "      <td>0.976000</td>\n",
       "      <td>00:45</td>\n",
       "    </tr>\n",
       "    <tr>\n",
       "      <td>5</td>\n",
       "      <td>0.067183</td>\n",
       "      <td>0.102680</td>\n",
       "      <td>0.978000</td>\n",
       "      <td>00:46</td>\n",
       "    </tr>\n",
       "  </tbody>\n",
       "</table>"
      ],
      "text/plain": [
       "<IPython.core.display.HTML object>"
      ]
     },
     "metadata": {},
     "output_type": "display_data"
    },
    {
     "data": {
      "text/html": [],
      "text/plain": [
       "<IPython.core.display.HTML object>"
      ]
     },
     "metadata": {},
     "output_type": "display_data"
    },
    {
     "name": "stdout",
     "output_type": "stream",
     "text": [
      "finished 4th bootstrap of size5000\n"
     ]
    }
   ],
   "source": [
    "res_dbpedia = algo_training_size_looper_dl([100, 200, 400, 800, 1600, 3200, 5000], DBPEDIA, train, val, 13 )"
   ]
  },
  {
   "cell_type": "code",
   "execution_count": 118,
   "metadata": {
    "ExecuteTime": {
     "end_time": "2020-01-09T09:00:49.871948Z",
     "start_time": "2020-01-09T09:00:49.844519Z"
    }
   },
   "outputs": [],
   "source": [
    "res_dbpedia['accuracy'] = [i.item() for i in res_dbpedia['accuracy']]\n",
    "res_dbpedia.to_csv(DBPEDIA/\"dl_Algo_size_7_bert5_dbpedia.csv\", index = False)"
   ]
  },
  {
   "cell_type": "markdown",
   "metadata": {},
   "source": [
    "#### Yelp "
   ]
  },
  {
   "cell_type": "markdown",
   "metadata": {
    "ExecuteTime": {
     "end_time": "2020-01-08T06:30:43.587675Z",
     "start_time": "2020-01-08T05:55:30.443Z"
    }
   },
   "source": [
    "##### ML models"
   ]
  },
  {
   "cell_type": "code",
   "execution_count": 66,
   "metadata": {
    "ExecuteTime": {
     "end_time": "2020-01-08T06:31:56.443548Z",
     "start_time": "2020-01-08T06:31:56.412632Z"
    }
   },
   "outputs": [
    {
     "data": {
      "text/html": [
       "<div>\n",
       "<style scoped>\n",
       "    .dataframe tbody tr th:only-of-type {\n",
       "        vertical-align: middle;\n",
       "    }\n",
       "\n",
       "    .dataframe tbody tr th {\n",
       "        vertical-align: top;\n",
       "    }\n",
       "\n",
       "    .dataframe thead th {\n",
       "        text-align: right;\n",
       "    }\n",
       "</style>\n",
       "<table border=\"1\" class=\"dataframe\">\n",
       "  <thead>\n",
       "    <tr style=\"text-align: right;\">\n",
       "      <th></th>\n",
       "      <th>class</th>\n",
       "      <th>title</th>\n",
       "    </tr>\n",
       "  </thead>\n",
       "  <tbody>\n",
       "    <tr>\n",
       "      <th>0</th>\n",
       "      <td>1</td>\n",
       "      <td>The apartment I rented was infested with scorp...</td>\n",
       "    </tr>\n",
       "    <tr>\n",
       "      <th>1</th>\n",
       "      <td>4</td>\n",
       "      <td>It seems like other folks had different experi...</td>\n",
       "    </tr>\n",
       "  </tbody>\n",
       "</table>\n",
       "</div>"
      ],
      "text/plain": [
       "   class                                              title\n",
       "0      1  The apartment I rented was infested with scorp...\n",
       "1      4  It seems like other folks had different experi..."
      ]
     },
     "execution_count": 66,
     "metadata": {},
     "output_type": "execute_result"
    }
   ],
   "source": [
    "models = [RandomForestClassifier(n_estimators=200, max_depth=3, random_state=0),\n",
    "          LinearSVC(),\n",
    "          MultinomialNB(),\n",
    "          LogisticRegression(random_state=0, max_iter= 200)]\n",
    "\n",
    "df = YELP_TRAIN\n",
    "df.head(2)"
   ]
  },
  {
   "cell_type": "code",
   "execution_count": 67,
   "metadata": {
    "ExecuteTime": {
     "end_time": "2020-01-08T06:32:12.531120Z",
     "start_time": "2020-01-08T06:32:01.551777Z"
    }
   },
   "outputs": [],
   "source": [
    "df['category_id'] = df['class'].factorize()[0]\n",
    "\n",
    "category_id_df = df[['class', 'category_id']\n",
    "                    ].drop_duplicates().sort_values('category_id')\n",
    "category_to_id = dict(category_id_df.values)\n",
    "id_to_category = {v: k for k, v in category_to_id.items()}\n",
    "\n",
    "tfidf = TfidfVectorizer(sublinear_tf=True, norm='l2', min_df=5,\n",
    "                        encoding='latin-1', ngram_range=(1, 3), stop_words='english')\n",
    "\n",
    "# y_test has 2000 in size\n",
    "features = tfidf.fit_transform(df.title).toarray()\n",
    "labels = df['class']\n",
    "\n",
    "x_train, x_test, y_train, y_test = train_test_split(features, labels, test_size=2000, random_state=0)"
   ]
  },
  {
   "cell_type": "code",
   "execution_count": 68,
   "metadata": {
    "ExecuteTime": {
     "end_time": "2020-01-08T06:46:24.876949Z",
     "start_time": "2020-01-08T06:32:18.600447Z"
    }
   },
   "outputs": [
    {
     "name": "stdout",
     "output_type": "stream",
     "text": [
      "finished RandomForestClassifier, 0th bootstrap of size100\n",
      "finished LinearSVC, 0th bootstrap of size100\n",
      "finished MultinomialNB, 0th bootstrap of size100\n",
      "finished LogisticRegression, 0th bootstrap of size100\n",
      "finished RandomForestClassifier, 1th bootstrap of size100\n",
      "finished LinearSVC, 1th bootstrap of size100\n",
      "finished MultinomialNB, 1th bootstrap of size100\n",
      "finished LogisticRegression, 1th bootstrap of size100\n",
      "finished RandomForestClassifier, 2th bootstrap of size100\n",
      "finished LinearSVC, 2th bootstrap of size100\n",
      "finished MultinomialNB, 2th bootstrap of size100\n",
      "finished LogisticRegression, 2th bootstrap of size100\n",
      "finished RandomForestClassifier, 3th bootstrap of size100\n",
      "finished LinearSVC, 3th bootstrap of size100\n",
      "finished MultinomialNB, 3th bootstrap of size100\n",
      "finished LogisticRegression, 3th bootstrap of size100\n",
      "finished RandomForestClassifier, 4th bootstrap of size100\n",
      "finished LinearSVC, 4th bootstrap of size100\n",
      "finished MultinomialNB, 4th bootstrap of size100\n",
      "finished LogisticRegression, 4th bootstrap of size100\n",
      "finished RandomForestClassifier, 5th bootstrap of size100\n",
      "finished LinearSVC, 5th bootstrap of size100\n",
      "finished MultinomialNB, 5th bootstrap of size100\n",
      "finished LogisticRegression, 5th bootstrap of size100\n",
      "finished RandomForestClassifier, 0th bootstrap of size200\n",
      "finished LinearSVC, 0th bootstrap of size200\n",
      "finished MultinomialNB, 0th bootstrap of size200\n",
      "finished LogisticRegression, 0th bootstrap of size200\n",
      "finished RandomForestClassifier, 1th bootstrap of size200\n",
      "finished LinearSVC, 1th bootstrap of size200\n",
      "finished MultinomialNB, 1th bootstrap of size200\n",
      "finished LogisticRegression, 1th bootstrap of size200\n",
      "finished RandomForestClassifier, 2th bootstrap of size200\n",
      "finished LinearSVC, 2th bootstrap of size200\n",
      "finished MultinomialNB, 2th bootstrap of size200\n",
      "finished LogisticRegression, 2th bootstrap of size200\n",
      "finished RandomForestClassifier, 3th bootstrap of size200\n",
      "finished LinearSVC, 3th bootstrap of size200\n",
      "finished MultinomialNB, 3th bootstrap of size200\n",
      "finished LogisticRegression, 3th bootstrap of size200\n",
      "finished RandomForestClassifier, 4th bootstrap of size200\n",
      "finished LinearSVC, 4th bootstrap of size200\n",
      "finished MultinomialNB, 4th bootstrap of size200\n",
      "finished LogisticRegression, 4th bootstrap of size200\n",
      "finished RandomForestClassifier, 5th bootstrap of size200\n",
      "finished LinearSVC, 5th bootstrap of size200\n",
      "finished MultinomialNB, 5th bootstrap of size200\n",
      "finished LogisticRegression, 5th bootstrap of size200\n",
      "finished RandomForestClassifier, 0th bootstrap of size400\n",
      "finished LinearSVC, 0th bootstrap of size400\n",
      "finished MultinomialNB, 0th bootstrap of size400\n",
      "finished LogisticRegression, 0th bootstrap of size400\n",
      "finished RandomForestClassifier, 1th bootstrap of size400\n",
      "finished LinearSVC, 1th bootstrap of size400\n",
      "finished MultinomialNB, 1th bootstrap of size400\n",
      "finished LogisticRegression, 1th bootstrap of size400\n",
      "finished RandomForestClassifier, 2th bootstrap of size400\n",
      "finished LinearSVC, 2th bootstrap of size400\n",
      "finished MultinomialNB, 2th bootstrap of size400\n",
      "finished LogisticRegression, 2th bootstrap of size400\n",
      "finished RandomForestClassifier, 3th bootstrap of size400\n",
      "finished LinearSVC, 3th bootstrap of size400\n",
      "finished MultinomialNB, 3th bootstrap of size400\n",
      "finished LogisticRegression, 3th bootstrap of size400\n",
      "finished RandomForestClassifier, 4th bootstrap of size400\n",
      "finished LinearSVC, 4th bootstrap of size400\n",
      "finished MultinomialNB, 4th bootstrap of size400\n",
      "finished LogisticRegression, 4th bootstrap of size400\n",
      "finished RandomForestClassifier, 5th bootstrap of size400\n",
      "finished LinearSVC, 5th bootstrap of size400\n",
      "finished MultinomialNB, 5th bootstrap of size400\n",
      "finished LogisticRegression, 5th bootstrap of size400\n",
      "finished RandomForestClassifier, 0th bootstrap of size800\n",
      "finished LinearSVC, 0th bootstrap of size800\n",
      "finished MultinomialNB, 0th bootstrap of size800\n",
      "finished LogisticRegression, 0th bootstrap of size800\n",
      "finished RandomForestClassifier, 1th bootstrap of size800\n",
      "finished LinearSVC, 1th bootstrap of size800\n",
      "finished MultinomialNB, 1th bootstrap of size800\n",
      "finished LogisticRegression, 1th bootstrap of size800\n",
      "finished RandomForestClassifier, 2th bootstrap of size800\n",
      "finished LinearSVC, 2th bootstrap of size800\n",
      "finished MultinomialNB, 2th bootstrap of size800\n",
      "finished LogisticRegression, 2th bootstrap of size800\n",
      "finished RandomForestClassifier, 3th bootstrap of size800\n",
      "finished LinearSVC, 3th bootstrap of size800\n",
      "finished MultinomialNB, 3th bootstrap of size800\n",
      "finished LogisticRegression, 3th bootstrap of size800\n",
      "finished RandomForestClassifier, 4th bootstrap of size800\n",
      "finished LinearSVC, 4th bootstrap of size800\n",
      "finished MultinomialNB, 4th bootstrap of size800\n",
      "finished LogisticRegression, 4th bootstrap of size800\n",
      "finished RandomForestClassifier, 5th bootstrap of size800\n",
      "finished LinearSVC, 5th bootstrap of size800\n",
      "finished MultinomialNB, 5th bootstrap of size800\n",
      "finished LogisticRegression, 5th bootstrap of size800\n",
      "finished RandomForestClassifier, 0th bootstrap of size1600\n",
      "finished LinearSVC, 0th bootstrap of size1600\n",
      "finished MultinomialNB, 0th bootstrap of size1600\n",
      "finished LogisticRegression, 0th bootstrap of size1600\n",
      "finished RandomForestClassifier, 1th bootstrap of size1600\n",
      "finished LinearSVC, 1th bootstrap of size1600\n",
      "finished MultinomialNB, 1th bootstrap of size1600\n",
      "finished LogisticRegression, 1th bootstrap of size1600\n",
      "finished RandomForestClassifier, 2th bootstrap of size1600\n",
      "finished LinearSVC, 2th bootstrap of size1600\n",
      "finished MultinomialNB, 2th bootstrap of size1600\n",
      "finished LogisticRegression, 2th bootstrap of size1600\n",
      "finished RandomForestClassifier, 3th bootstrap of size1600\n",
      "finished LinearSVC, 3th bootstrap of size1600\n",
      "finished MultinomialNB, 3th bootstrap of size1600\n",
      "finished LogisticRegression, 3th bootstrap of size1600\n",
      "finished RandomForestClassifier, 4th bootstrap of size1600\n",
      "finished LinearSVC, 4th bootstrap of size1600\n",
      "finished MultinomialNB, 4th bootstrap of size1600\n",
      "finished LogisticRegression, 4th bootstrap of size1600\n",
      "finished RandomForestClassifier, 5th bootstrap of size1600\n",
      "finished LinearSVC, 5th bootstrap of size1600\n",
      "finished MultinomialNB, 5th bootstrap of size1600\n",
      "finished LogisticRegression, 5th bootstrap of size1600\n",
      "finished RandomForestClassifier, 0th bootstrap of size3200\n",
      "finished LinearSVC, 0th bootstrap of size3200\n",
      "finished MultinomialNB, 0th bootstrap of size3200\n",
      "finished LogisticRegression, 0th bootstrap of size3200\n",
      "finished RandomForestClassifier, 1th bootstrap of size3200\n",
      "finished LinearSVC, 1th bootstrap of size3200\n",
      "finished MultinomialNB, 1th bootstrap of size3200\n",
      "finished LogisticRegression, 1th bootstrap of size3200\n",
      "finished RandomForestClassifier, 2th bootstrap of size3200\n",
      "finished LinearSVC, 2th bootstrap of size3200\n",
      "finished MultinomialNB, 2th bootstrap of size3200\n",
      "finished LogisticRegression, 2th bootstrap of size3200\n",
      "finished RandomForestClassifier, 3th bootstrap of size3200\n",
      "finished LinearSVC, 3th bootstrap of size3200\n",
      "finished MultinomialNB, 3th bootstrap of size3200\n",
      "finished LogisticRegression, 3th bootstrap of size3200\n",
      "finished RandomForestClassifier, 4th bootstrap of size3200\n",
      "finished LinearSVC, 4th bootstrap of size3200\n",
      "finished MultinomialNB, 4th bootstrap of size3200\n",
      "finished LogisticRegression, 4th bootstrap of size3200\n",
      "finished RandomForestClassifier, 5th bootstrap of size3200\n",
      "finished LinearSVC, 5th bootstrap of size3200\n",
      "finished MultinomialNB, 5th bootstrap of size3200\n",
      "finished LogisticRegression, 5th bootstrap of size3200\n",
      "finished RandomForestClassifier, 0th bootstrap of size5000\n",
      "finished LinearSVC, 0th bootstrap of size5000\n",
      "finished MultinomialNB, 0th bootstrap of size5000\n",
      "finished LogisticRegression, 0th bootstrap of size5000\n",
      "finished RandomForestClassifier, 1th bootstrap of size5000\n",
      "finished LinearSVC, 1th bootstrap of size5000\n",
      "finished MultinomialNB, 1th bootstrap of size5000\n",
      "finished LogisticRegression, 1th bootstrap of size5000\n",
      "finished RandomForestClassifier, 2th bootstrap of size5000\n",
      "finished LinearSVC, 2th bootstrap of size5000\n",
      "finished MultinomialNB, 2th bootstrap of size5000\n",
      "finished LogisticRegression, 2th bootstrap of size5000\n",
      "finished RandomForestClassifier, 3th bootstrap of size5000\n",
      "finished LinearSVC, 3th bootstrap of size5000\n"
     ]
    },
    {
     "name": "stdout",
     "output_type": "stream",
     "text": [
      "finished MultinomialNB, 3th bootstrap of size5000\n",
      "finished LogisticRegression, 3th bootstrap of size5000\n",
      "finished RandomForestClassifier, 4th bootstrap of size5000\n",
      "finished LinearSVC, 4th bootstrap of size5000\n",
      "finished MultinomialNB, 4th bootstrap of size5000\n",
      "finished LogisticRegression, 4th bootstrap of size5000\n",
      "finished RandomForestClassifier, 5th bootstrap of size5000\n",
      "finished LinearSVC, 5th bootstrap of size5000\n",
      "finished MultinomialNB, 5th bootstrap of size5000\n",
      "finished LogisticRegression, 5th bootstrap of size5000\n"
     ]
    }
   ],
   "source": [
    "res = algo_training_size_looper([100, 200, 400, 800, 1600, 3200, 5000], x_train, y_train, x_test, y_test)"
   ]
  },
  {
   "cell_type": "code",
   "execution_count": 69,
   "metadata": {
    "ExecuteTime": {
     "end_time": "2020-01-08T06:50:48.265565Z",
     "start_time": "2020-01-08T06:50:48.238551Z"
    }
   },
   "outputs": [],
   "source": [
    "res.to_csv(YELP/\"Algo_size_7_4_10_yelp.csv\")"
   ]
  },
  {
   "cell_type": "code",
   "execution_count": 70,
   "metadata": {
    "ExecuteTime": {
     "end_time": "2020-01-08T06:50:50.787388Z",
     "start_time": "2020-01-08T06:50:50.755193Z"
    }
   },
   "outputs": [
    {
     "data": {
      "text/html": [
       "<div>\n",
       "<style scoped>\n",
       "    .dataframe tbody tr th:only-of-type {\n",
       "        vertical-align: middle;\n",
       "    }\n",
       "\n",
       "    .dataframe tbody tr th {\n",
       "        vertical-align: top;\n",
       "    }\n",
       "\n",
       "    .dataframe thead th {\n",
       "        text-align: right;\n",
       "    }\n",
       "</style>\n",
       "<table border=\"1\" class=\"dataframe\">\n",
       "  <thead>\n",
       "    <tr style=\"text-align: right;\">\n",
       "      <th></th>\n",
       "      <th>model_name</th>\n",
       "      <th>training_size</th>\n",
       "      <th>accuracy</th>\n",
       "    </tr>\n",
       "  </thead>\n",
       "  <tbody>\n",
       "    <tr>\n",
       "      <th>0</th>\n",
       "      <td>RandomForestClassifier</td>\n",
       "      <td>100</td>\n",
       "      <td>0.2005</td>\n",
       "    </tr>\n",
       "    <tr>\n",
       "      <th>1</th>\n",
       "      <td>LinearSVC</td>\n",
       "      <td>100</td>\n",
       "      <td>0.3525</td>\n",
       "    </tr>\n",
       "    <tr>\n",
       "      <th>2</th>\n",
       "      <td>MultinomialNB</td>\n",
       "      <td>100</td>\n",
       "      <td>0.2335</td>\n",
       "    </tr>\n",
       "    <tr>\n",
       "      <th>3</th>\n",
       "      <td>LogisticRegression</td>\n",
       "      <td>100</td>\n",
       "      <td>0.2345</td>\n",
       "    </tr>\n",
       "    <tr>\n",
       "      <th>4</th>\n",
       "      <td>RandomForestClassifier</td>\n",
       "      <td>100</td>\n",
       "      <td>0.2185</td>\n",
       "    </tr>\n",
       "    <tr>\n",
       "      <th>...</th>\n",
       "      <td>...</td>\n",
       "      <td>...</td>\n",
       "      <td>...</td>\n",
       "    </tr>\n",
       "    <tr>\n",
       "      <th>163</th>\n",
       "      <td>LogisticRegression</td>\n",
       "      <td>5000</td>\n",
       "      <td>0.4800</td>\n",
       "    </tr>\n",
       "    <tr>\n",
       "      <th>164</th>\n",
       "      <td>RandomForestClassifier</td>\n",
       "      <td>5000</td>\n",
       "      <td>0.3995</td>\n",
       "    </tr>\n",
       "    <tr>\n",
       "      <th>165</th>\n",
       "      <td>LinearSVC</td>\n",
       "      <td>5000</td>\n",
       "      <td>0.4680</td>\n",
       "    </tr>\n",
       "    <tr>\n",
       "      <th>166</th>\n",
       "      <td>MultinomialNB</td>\n",
       "      <td>5000</td>\n",
       "      <td>0.4555</td>\n",
       "    </tr>\n",
       "    <tr>\n",
       "      <th>167</th>\n",
       "      <td>LogisticRegression</td>\n",
       "      <td>5000</td>\n",
       "      <td>0.4635</td>\n",
       "    </tr>\n",
       "  </tbody>\n",
       "</table>\n",
       "<p>168 rows × 3 columns</p>\n",
       "</div>"
      ],
      "text/plain": [
       "                 model_name  training_size  accuracy\n",
       "0    RandomForestClassifier            100    0.2005\n",
       "1                 LinearSVC            100    0.3525\n",
       "2             MultinomialNB            100    0.2335\n",
       "3        LogisticRegression            100    0.2345\n",
       "4    RandomForestClassifier            100    0.2185\n",
       "..                      ...            ...       ...\n",
       "163      LogisticRegression           5000    0.4800\n",
       "164  RandomForestClassifier           5000    0.3995\n",
       "165               LinearSVC           5000    0.4680\n",
       "166           MultinomialNB           5000    0.4555\n",
       "167      LogisticRegression           5000    0.4635\n",
       "\n",
       "[168 rows x 3 columns]"
      ]
     },
     "execution_count": 70,
     "metadata": {},
     "output_type": "execute_result"
    }
   ],
   "source": [
    "res"
   ]
  },
  {
   "cell_type": "markdown",
   "metadata": {},
   "source": [
    "##### DL models"
   ]
  },
  {
   "cell_type": "code",
   "execution_count": 78,
   "metadata": {
    "ExecuteTime": {
     "end_time": "2020-01-09T05:02:02.709234Z",
     "start_time": "2020-01-09T05:02:02.676902Z"
    }
   },
   "outputs": [
    {
     "data": {
      "text/html": [
       "<div>\n",
       "<style scoped>\n",
       "    .dataframe tbody tr th:only-of-type {\n",
       "        vertical-align: middle;\n",
       "    }\n",
       "\n",
       "    .dataframe tbody tr th {\n",
       "        vertical-align: top;\n",
       "    }\n",
       "\n",
       "    .dataframe thead th {\n",
       "        text-align: right;\n",
       "    }\n",
       "</style>\n",
       "<table border=\"1\" class=\"dataframe\">\n",
       "  <thead>\n",
       "    <tr style=\"text-align: right;\">\n",
       "      <th></th>\n",
       "      <th>class</th>\n",
       "      <th>title</th>\n",
       "    </tr>\n",
       "  </thead>\n",
       "  <tbody>\n",
       "    <tr>\n",
       "      <th>0</th>\n",
       "      <td>1</td>\n",
       "      <td>The apartment I rented was infested with scorp...</td>\n",
       "    </tr>\n",
       "    <tr>\n",
       "      <th>1</th>\n",
       "      <td>4</td>\n",
       "      <td>It seems like other folks had different experi...</td>\n",
       "    </tr>\n",
       "    <tr>\n",
       "      <th>2</th>\n",
       "      <td>5</td>\n",
       "      <td>Our first visit to this store was to go to the...</td>\n",
       "    </tr>\n",
       "    <tr>\n",
       "      <th>3</th>\n",
       "      <td>3</td>\n",
       "      <td>So nice to have a little wine spot in the neig...</td>\n",
       "    </tr>\n",
       "    <tr>\n",
       "      <th>4</th>\n",
       "      <td>3</td>\n",
       "      <td>Just your typical Arizonian Italian restaurant</td>\n",
       "    </tr>\n",
       "  </tbody>\n",
       "</table>\n",
       "</div>"
      ],
      "text/plain": [
       "   class                                              title\n",
       "0      1  The apartment I rented was infested with scorp...\n",
       "1      4  It seems like other folks had different experi...\n",
       "2      5  Our first visit to this store was to go to the...\n",
       "3      3  So nice to have a little wine spot in the neig...\n",
       "4      3     Just your typical Arizonian Italian restaurant"
      ]
     },
     "execution_count": 78,
     "metadata": {},
     "output_type": "execute_result"
    }
   ],
   "source": [
    "df = YELP_TRAIN\n",
    "df.head()"
   ]
  },
  {
   "cell_type": "code",
   "execution_count": 76,
   "metadata": {
    "ExecuteTime": {
     "end_time": "2020-01-09T05:01:04.619901Z",
     "start_time": "2020-01-09T05:01:00.985008Z"
    }
   },
   "outputs": [],
   "source": [
    "x_train, x_test, y_train, y_test = train_test_split(df['title'], df['class'], test_size=2000, random_state=0)\n",
    "bert_model = BertForSequenceClassification.from_pretrained(config.bert_model_name, num_labels= 5 )"
   ]
  },
  {
   "cell_type": "code",
   "execution_count": 79,
   "metadata": {
    "ExecuteTime": {
     "end_time": "2020-01-09T05:02:17.683057Z",
     "start_time": "2020-01-09T05:02:17.639076Z"
    }
   },
   "outputs": [
    {
     "data": {
      "text/html": [
       "<div>\n",
       "<style scoped>\n",
       "    .dataframe tbody tr th:only-of-type {\n",
       "        vertical-align: middle;\n",
       "    }\n",
       "\n",
       "    .dataframe tbody tr th {\n",
       "        vertical-align: top;\n",
       "    }\n",
       "\n",
       "    .dataframe thead th {\n",
       "        text-align: right;\n",
       "    }\n",
       "</style>\n",
       "<table border=\"1\" class=\"dataframe\">\n",
       "  <thead>\n",
       "    <tr style=\"text-align: right;\">\n",
       "      <th></th>\n",
       "      <th>title</th>\n",
       "      <th>class</th>\n",
       "    </tr>\n",
       "  </thead>\n",
       "  <tbody>\n",
       "    <tr>\n",
       "      <th>0</th>\n",
       "      <td>We ordered half white and half regular large p...</td>\n",
       "      <td>2</td>\n",
       "    </tr>\n",
       "    <tr>\n",
       "      <th>1</th>\n",
       "      <td>Yummy food! Which is the main thing.\\nNegative...</td>\n",
       "      <td>3</td>\n",
       "    </tr>\n",
       "    <tr>\n",
       "      <th>2</th>\n",
       "      <td>My girlfriend and I went in to get a very pers...</td>\n",
       "      <td>5</td>\n",
       "    </tr>\n",
       "    <tr>\n",
       "      <th>3</th>\n",
       "      <td>This place is right next to my work building, ...</td>\n",
       "      <td>4</td>\n",
       "    </tr>\n",
       "    <tr>\n",
       "      <th>4</th>\n",
       "      <td>I love the burgers here and the fries are pret...</td>\n",
       "      <td>3</td>\n",
       "    </tr>\n",
       "    <tr>\n",
       "      <th>...</th>\n",
       "      <td>...</td>\n",
       "      <td>...</td>\n",
       "    </tr>\n",
       "    <tr>\n",
       "      <th>1995</th>\n",
       "      <td>Good food but this place needs to be boycotted...</td>\n",
       "      <td>1</td>\n",
       "    </tr>\n",
       "    <tr>\n",
       "      <th>1996</th>\n",
       "      <td>This review of Pacific Blue Pools is a easy on...</td>\n",
       "      <td>5</td>\n",
       "    </tr>\n",
       "    <tr>\n",
       "      <th>1997</th>\n",
       "      <td>When this place bothers to have a selection, t...</td>\n",
       "      <td>1</td>\n",
       "    </tr>\n",
       "    <tr>\n",
       "      <th>1998</th>\n",
       "      <td>The best french food I've ever had! Amazing fo...</td>\n",
       "      <td>4</td>\n",
       "    </tr>\n",
       "    <tr>\n",
       "      <th>1999</th>\n",
       "      <td>Emergency room....BAD experience twice in 3 yr...</td>\n",
       "      <td>1</td>\n",
       "    </tr>\n",
       "  </tbody>\n",
       "</table>\n",
       "<p>2000 rows × 2 columns</p>\n",
       "</div>"
      ],
      "text/plain": [
       "                                                  title  class\n",
       "0     We ordered half white and half regular large p...      2\n",
       "1     Yummy food! Which is the main thing.\\nNegative...      3\n",
       "2     My girlfriend and I went in to get a very pers...      5\n",
       "3     This place is right next to my work building, ...      4\n",
       "4     I love the burgers here and the fries are pret...      3\n",
       "...                                                 ...    ...\n",
       "1995  Good food but this place needs to be boycotted...      1\n",
       "1996  This review of Pacific Blue Pools is a easy on...      5\n",
       "1997  When this place bothers to have a selection, t...      1\n",
       "1998  The best french food I've ever had! Amazing fo...      4\n",
       "1999  Emergency room....BAD experience twice in 3 yr...      1\n",
       "\n",
       "[2000 rows x 2 columns]"
      ]
     },
     "execution_count": 79,
     "metadata": {},
     "output_type": "execute_result"
    }
   ],
   "source": [
    "train = pd.DataFrame({'title': x_train, \n",
    "                      'class': y_train})\n",
    "val = pd.DataFrame({'title': x_test, \n",
    "                      'class': y_test})\n",
    "train = train.reset_index()[['title', 'class']]\n",
    "val = val.reset_index()[['title', 'class']]\n",
    "val"
   ]
  },
  {
   "cell_type": "code",
   "execution_count": 80,
   "metadata": {
    "ExecuteTime": {
     "end_time": "2020-01-09T05:02:44.564191Z",
     "start_time": "2020-01-09T05:02:44.540307Z"
    }
   },
   "outputs": [],
   "source": [
    "text_cols = \"title\"\n",
    "label_cols = 'class'"
   ]
  },
  {
   "cell_type": "code",
   "execution_count": 81,
   "metadata": {
    "ExecuteTime": {
     "end_time": "2020-01-09T06:40:35.877539Z",
     "start_time": "2020-01-09T05:02:59.516254Z"
    }
   },
   "outputs": [
    {
     "data": {
      "text/html": [],
      "text/plain": [
       "<IPython.core.display.HTML object>"
      ]
     },
     "metadata": {},
     "output_type": "display_data"
    },
    {
     "data": {
      "text/html": [],
      "text/plain": [
       "<IPython.core.display.HTML object>"
      ]
     },
     "metadata": {},
     "output_type": "display_data"
    },
    {
     "data": {
      "text/html": [
       "<table border=\"1\" class=\"dataframe\">\n",
       "  <thead>\n",
       "    <tr style=\"text-align: left;\">\n",
       "      <th>epoch</th>\n",
       "      <th>train_loss</th>\n",
       "      <th>valid_loss</th>\n",
       "      <th>accuracy</th>\n",
       "      <th>time</th>\n",
       "    </tr>\n",
       "  </thead>\n",
       "  <tbody>\n",
       "    <tr>\n",
       "      <td>0</td>\n",
       "      <td>1.585343</td>\n",
       "      <td>1.673792</td>\n",
       "      <td>0.194000</td>\n",
       "      <td>00:08</td>\n",
       "    </tr>\n",
       "    <tr>\n",
       "      <td>1</td>\n",
       "      <td>1.578128</td>\n",
       "      <td>1.699068</td>\n",
       "      <td>0.205500</td>\n",
       "      <td>00:08</td>\n",
       "    </tr>\n",
       "    <tr>\n",
       "      <td>2</td>\n",
       "      <td>1.556998</td>\n",
       "      <td>1.761003</td>\n",
       "      <td>0.196500</td>\n",
       "      <td>00:08</td>\n",
       "    </tr>\n",
       "    <tr>\n",
       "      <td>3</td>\n",
       "      <td>1.550325</td>\n",
       "      <td>1.701264</td>\n",
       "      <td>0.193500</td>\n",
       "      <td>00:08</td>\n",
       "    </tr>\n",
       "    <tr>\n",
       "      <td>4</td>\n",
       "      <td>1.519537</td>\n",
       "      <td>1.705974</td>\n",
       "      <td>0.207000</td>\n",
       "      <td>00:08</td>\n",
       "    </tr>\n",
       "    <tr>\n",
       "      <td>5</td>\n",
       "      <td>1.488556</td>\n",
       "      <td>1.704074</td>\n",
       "      <td>0.208500</td>\n",
       "      <td>00:08</td>\n",
       "    </tr>\n",
       "  </tbody>\n",
       "</table>"
      ],
      "text/plain": [
       "<IPython.core.display.HTML object>"
      ]
     },
     "metadata": {},
     "output_type": "display_data"
    },
    {
     "data": {
      "text/html": [],
      "text/plain": [
       "<IPython.core.display.HTML object>"
      ]
     },
     "metadata": {},
     "output_type": "display_data"
    },
    {
     "name": "stdout",
     "output_type": "stream",
     "text": [
      "finished 0th bootstrap of size100\n"
     ]
    },
    {
     "data": {
      "text/html": [],
      "text/plain": [
       "<IPython.core.display.HTML object>"
      ]
     },
     "metadata": {},
     "output_type": "display_data"
    },
    {
     "data": {
      "text/html": [],
      "text/plain": [
       "<IPython.core.display.HTML object>"
      ]
     },
     "metadata": {},
     "output_type": "display_data"
    },
    {
     "data": {
      "text/html": [
       "<table border=\"1\" class=\"dataframe\">\n",
       "  <thead>\n",
       "    <tr style=\"text-align: left;\">\n",
       "      <th>epoch</th>\n",
       "      <th>train_loss</th>\n",
       "      <th>valid_loss</th>\n",
       "      <th>accuracy</th>\n",
       "      <th>time</th>\n",
       "    </tr>\n",
       "  </thead>\n",
       "  <tbody>\n",
       "    <tr>\n",
       "      <td>0</td>\n",
       "      <td>1.599586</td>\n",
       "      <td>1.642321</td>\n",
       "      <td>0.201500</td>\n",
       "      <td>00:08</td>\n",
       "    </tr>\n",
       "    <tr>\n",
       "      <td>1</td>\n",
       "      <td>1.580173</td>\n",
       "      <td>1.755390</td>\n",
       "      <td>0.212000</td>\n",
       "      <td>00:08</td>\n",
       "    </tr>\n",
       "    <tr>\n",
       "      <td>2</td>\n",
       "      <td>1.644840</td>\n",
       "      <td>1.809460</td>\n",
       "      <td>0.192500</td>\n",
       "      <td>00:08</td>\n",
       "    </tr>\n",
       "    <tr>\n",
       "      <td>3</td>\n",
       "      <td>1.646887</td>\n",
       "      <td>1.730205</td>\n",
       "      <td>0.192500</td>\n",
       "      <td>00:08</td>\n",
       "    </tr>\n",
       "    <tr>\n",
       "      <td>4</td>\n",
       "      <td>1.626420</td>\n",
       "      <td>1.688996</td>\n",
       "      <td>0.192500</td>\n",
       "      <td>00:08</td>\n",
       "    </tr>\n",
       "    <tr>\n",
       "      <td>5</td>\n",
       "      <td>1.605935</td>\n",
       "      <td>1.676861</td>\n",
       "      <td>0.192500</td>\n",
       "      <td>00:08</td>\n",
       "    </tr>\n",
       "  </tbody>\n",
       "</table>"
      ],
      "text/plain": [
       "<IPython.core.display.HTML object>"
      ]
     },
     "metadata": {},
     "output_type": "display_data"
    },
    {
     "data": {
      "text/html": [],
      "text/plain": [
       "<IPython.core.display.HTML object>"
      ]
     },
     "metadata": {},
     "output_type": "display_data"
    },
    {
     "name": "stdout",
     "output_type": "stream",
     "text": [
      "finished 1th bootstrap of size100\n"
     ]
    },
    {
     "data": {
      "text/html": [],
      "text/plain": [
       "<IPython.core.display.HTML object>"
      ]
     },
     "metadata": {},
     "output_type": "display_data"
    },
    {
     "data": {
      "text/html": [],
      "text/plain": [
       "<IPython.core.display.HTML object>"
      ]
     },
     "metadata": {},
     "output_type": "display_data"
    },
    {
     "data": {
      "text/html": [
       "<table border=\"1\" class=\"dataframe\">\n",
       "  <thead>\n",
       "    <tr style=\"text-align: left;\">\n",
       "      <th>epoch</th>\n",
       "      <th>train_loss</th>\n",
       "      <th>valid_loss</th>\n",
       "      <th>accuracy</th>\n",
       "      <th>time</th>\n",
       "    </tr>\n",
       "  </thead>\n",
       "  <tbody>\n",
       "    <tr>\n",
       "      <td>0</td>\n",
       "      <td>1.679479</td>\n",
       "      <td>1.650282</td>\n",
       "      <td>0.196500</td>\n",
       "      <td>00:08</td>\n",
       "    </tr>\n",
       "    <tr>\n",
       "      <td>1</td>\n",
       "      <td>1.657772</td>\n",
       "      <td>1.705914</td>\n",
       "      <td>0.217000</td>\n",
       "      <td>00:08</td>\n",
       "    </tr>\n",
       "    <tr>\n",
       "      <td>2</td>\n",
       "      <td>1.657480</td>\n",
       "      <td>1.695392</td>\n",
       "      <td>0.209000</td>\n",
       "      <td>00:08</td>\n",
       "    </tr>\n",
       "    <tr>\n",
       "      <td>3</td>\n",
       "      <td>1.670331</td>\n",
       "      <td>1.660477</td>\n",
       "      <td>0.224000</td>\n",
       "      <td>00:08</td>\n",
       "    </tr>\n",
       "    <tr>\n",
       "      <td>4</td>\n",
       "      <td>1.643329</td>\n",
       "      <td>1.694843</td>\n",
       "      <td>0.195500</td>\n",
       "      <td>00:08</td>\n",
       "    </tr>\n",
       "    <tr>\n",
       "      <td>5</td>\n",
       "      <td>1.632046</td>\n",
       "      <td>1.684020</td>\n",
       "      <td>0.228000</td>\n",
       "      <td>00:08</td>\n",
       "    </tr>\n",
       "  </tbody>\n",
       "</table>"
      ],
      "text/plain": [
       "<IPython.core.display.HTML object>"
      ]
     },
     "metadata": {},
     "output_type": "display_data"
    },
    {
     "data": {
      "text/html": [],
      "text/plain": [
       "<IPython.core.display.HTML object>"
      ]
     },
     "metadata": {},
     "output_type": "display_data"
    },
    {
     "name": "stdout",
     "output_type": "stream",
     "text": [
      "finished 2th bootstrap of size100\n"
     ]
    },
    {
     "data": {
      "text/html": [],
      "text/plain": [
       "<IPython.core.display.HTML object>"
      ]
     },
     "metadata": {},
     "output_type": "display_data"
    },
    {
     "data": {
      "text/html": [],
      "text/plain": [
       "<IPython.core.display.HTML object>"
      ]
     },
     "metadata": {},
     "output_type": "display_data"
    },
    {
     "data": {
      "text/html": [
       "<table border=\"1\" class=\"dataframe\">\n",
       "  <thead>\n",
       "    <tr style=\"text-align: left;\">\n",
       "      <th>epoch</th>\n",
       "      <th>train_loss</th>\n",
       "      <th>valid_loss</th>\n",
       "      <th>accuracy</th>\n",
       "      <th>time</th>\n",
       "    </tr>\n",
       "  </thead>\n",
       "  <tbody>\n",
       "    <tr>\n",
       "      <td>0</td>\n",
       "      <td>1.647320</td>\n",
       "      <td>1.628186</td>\n",
       "      <td>0.195500</td>\n",
       "      <td>00:08</td>\n",
       "    </tr>\n",
       "    <tr>\n",
       "      <td>1</td>\n",
       "      <td>1.623148</td>\n",
       "      <td>1.647138</td>\n",
       "      <td>0.210000</td>\n",
       "      <td>00:08</td>\n",
       "    </tr>\n",
       "    <tr>\n",
       "      <td>2</td>\n",
       "      <td>1.584594</td>\n",
       "      <td>1.662825</td>\n",
       "      <td>0.244500</td>\n",
       "      <td>00:08</td>\n",
       "    </tr>\n",
       "    <tr>\n",
       "      <td>3</td>\n",
       "      <td>1.563058</td>\n",
       "      <td>1.646639</td>\n",
       "      <td>0.227500</td>\n",
       "      <td>00:08</td>\n",
       "    </tr>\n",
       "    <tr>\n",
       "      <td>4</td>\n",
       "      <td>1.515414</td>\n",
       "      <td>1.647375</td>\n",
       "      <td>0.237000</td>\n",
       "      <td>00:08</td>\n",
       "    </tr>\n",
       "    <tr>\n",
       "      <td>5</td>\n",
       "      <td>1.458240</td>\n",
       "      <td>1.645930</td>\n",
       "      <td>0.239000</td>\n",
       "      <td>00:08</td>\n",
       "    </tr>\n",
       "  </tbody>\n",
       "</table>"
      ],
      "text/plain": [
       "<IPython.core.display.HTML object>"
      ]
     },
     "metadata": {},
     "output_type": "display_data"
    },
    {
     "data": {
      "text/html": [],
      "text/plain": [
       "<IPython.core.display.HTML object>"
      ]
     },
     "metadata": {},
     "output_type": "display_data"
    },
    {
     "name": "stdout",
     "output_type": "stream",
     "text": [
      "finished 3th bootstrap of size100\n"
     ]
    },
    {
     "data": {
      "text/html": [],
      "text/plain": [
       "<IPython.core.display.HTML object>"
      ]
     },
     "metadata": {},
     "output_type": "display_data"
    },
    {
     "data": {
      "text/html": [],
      "text/plain": [
       "<IPython.core.display.HTML object>"
      ]
     },
     "metadata": {},
     "output_type": "display_data"
    },
    {
     "data": {
      "text/html": [
       "<table border=\"1\" class=\"dataframe\">\n",
       "  <thead>\n",
       "    <tr style=\"text-align: left;\">\n",
       "      <th>epoch</th>\n",
       "      <th>train_loss</th>\n",
       "      <th>valid_loss</th>\n",
       "      <th>accuracy</th>\n",
       "      <th>time</th>\n",
       "    </tr>\n",
       "  </thead>\n",
       "  <tbody>\n",
       "    <tr>\n",
       "      <td>0</td>\n",
       "      <td>1.642996</td>\n",
       "      <td>1.662698</td>\n",
       "      <td>0.237000</td>\n",
       "      <td>00:08</td>\n",
       "    </tr>\n",
       "    <tr>\n",
       "      <td>1</td>\n",
       "      <td>1.628738</td>\n",
       "      <td>1.670721</td>\n",
       "      <td>0.188000</td>\n",
       "      <td>00:08</td>\n",
       "    </tr>\n",
       "    <tr>\n",
       "      <td>2</td>\n",
       "      <td>1.670197</td>\n",
       "      <td>1.649647</td>\n",
       "      <td>0.210000</td>\n",
       "      <td>00:08</td>\n",
       "    </tr>\n",
       "    <tr>\n",
       "      <td>3</td>\n",
       "      <td>1.648977</td>\n",
       "      <td>1.655152</td>\n",
       "      <td>0.211000</td>\n",
       "      <td>00:08</td>\n",
       "    </tr>\n",
       "    <tr>\n",
       "      <td>4</td>\n",
       "      <td>1.632250</td>\n",
       "      <td>1.655768</td>\n",
       "      <td>0.209000</td>\n",
       "      <td>00:08</td>\n",
       "    </tr>\n",
       "    <tr>\n",
       "      <td>5</td>\n",
       "      <td>1.615350</td>\n",
       "      <td>1.658271</td>\n",
       "      <td>0.207500</td>\n",
       "      <td>00:08</td>\n",
       "    </tr>\n",
       "  </tbody>\n",
       "</table>"
      ],
      "text/plain": [
       "<IPython.core.display.HTML object>"
      ]
     },
     "metadata": {},
     "output_type": "display_data"
    },
    {
     "data": {
      "text/html": [],
      "text/plain": [
       "<IPython.core.display.HTML object>"
      ]
     },
     "metadata": {},
     "output_type": "display_data"
    },
    {
     "name": "stdout",
     "output_type": "stream",
     "text": [
      "finished 4th bootstrap of size100\n"
     ]
    },
    {
     "data": {
      "text/html": [],
      "text/plain": [
       "<IPython.core.display.HTML object>"
      ]
     },
     "metadata": {},
     "output_type": "display_data"
    },
    {
     "data": {
      "text/html": [],
      "text/plain": [
       "<IPython.core.display.HTML object>"
      ]
     },
     "metadata": {},
     "output_type": "display_data"
    },
    {
     "data": {
      "text/html": [
       "<table border=\"1\" class=\"dataframe\">\n",
       "  <thead>\n",
       "    <tr style=\"text-align: left;\">\n",
       "      <th>epoch</th>\n",
       "      <th>train_loss</th>\n",
       "      <th>valid_loss</th>\n",
       "      <th>accuracy</th>\n",
       "      <th>time</th>\n",
       "    </tr>\n",
       "  </thead>\n",
       "  <tbody>\n",
       "    <tr>\n",
       "      <td>0</td>\n",
       "      <td>1.642179</td>\n",
       "      <td>1.636779</td>\n",
       "      <td>0.219000</td>\n",
       "      <td>00:10</td>\n",
       "    </tr>\n",
       "    <tr>\n",
       "      <td>1</td>\n",
       "      <td>1.629830</td>\n",
       "      <td>1.605091</td>\n",
       "      <td>0.205500</td>\n",
       "      <td>00:10</td>\n",
       "    </tr>\n",
       "    <tr>\n",
       "      <td>2</td>\n",
       "      <td>1.602712</td>\n",
       "      <td>1.568825</td>\n",
       "      <td>0.258000</td>\n",
       "      <td>00:10</td>\n",
       "    </tr>\n",
       "    <tr>\n",
       "      <td>3</td>\n",
       "      <td>1.587072</td>\n",
       "      <td>1.642563</td>\n",
       "      <td>0.187000</td>\n",
       "      <td>00:10</td>\n",
       "    </tr>\n",
       "    <tr>\n",
       "      <td>4</td>\n",
       "      <td>1.568235</td>\n",
       "      <td>1.523033</td>\n",
       "      <td>0.309500</td>\n",
       "      <td>00:10</td>\n",
       "    </tr>\n",
       "    <tr>\n",
       "      <td>5</td>\n",
       "      <td>1.518543</td>\n",
       "      <td>1.499612</td>\n",
       "      <td>0.316500</td>\n",
       "      <td>00:10</td>\n",
       "    </tr>\n",
       "  </tbody>\n",
       "</table>"
      ],
      "text/plain": [
       "<IPython.core.display.HTML object>"
      ]
     },
     "metadata": {},
     "output_type": "display_data"
    },
    {
     "data": {
      "text/html": [],
      "text/plain": [
       "<IPython.core.display.HTML object>"
      ]
     },
     "metadata": {},
     "output_type": "display_data"
    },
    {
     "name": "stdout",
     "output_type": "stream",
     "text": [
      "finished 0th bootstrap of size200\n"
     ]
    },
    {
     "data": {
      "text/html": [],
      "text/plain": [
       "<IPython.core.display.HTML object>"
      ]
     },
     "metadata": {},
     "output_type": "display_data"
    },
    {
     "data": {
      "text/html": [],
      "text/plain": [
       "<IPython.core.display.HTML object>"
      ]
     },
     "metadata": {},
     "output_type": "display_data"
    },
    {
     "data": {
      "text/html": [
       "<table border=\"1\" class=\"dataframe\">\n",
       "  <thead>\n",
       "    <tr style=\"text-align: left;\">\n",
       "      <th>epoch</th>\n",
       "      <th>train_loss</th>\n",
       "      <th>valid_loss</th>\n",
       "      <th>accuracy</th>\n",
       "      <th>time</th>\n",
       "    </tr>\n",
       "  </thead>\n",
       "  <tbody>\n",
       "    <tr>\n",
       "      <td>0</td>\n",
       "      <td>1.621662</td>\n",
       "      <td>1.598871</td>\n",
       "      <td>0.215500</td>\n",
       "      <td>00:10</td>\n",
       "    </tr>\n",
       "    <tr>\n",
       "      <td>1</td>\n",
       "      <td>1.602295</td>\n",
       "      <td>1.569929</td>\n",
       "      <td>0.300000</td>\n",
       "      <td>00:10</td>\n",
       "    </tr>\n",
       "    <tr>\n",
       "      <td>2</td>\n",
       "      <td>1.585235</td>\n",
       "      <td>1.592598</td>\n",
       "      <td>0.250000</td>\n",
       "      <td>00:10</td>\n",
       "    </tr>\n",
       "    <tr>\n",
       "      <td>3</td>\n",
       "      <td>1.555745</td>\n",
       "      <td>1.736400</td>\n",
       "      <td>0.220000</td>\n",
       "      <td>00:10</td>\n",
       "    </tr>\n",
       "    <tr>\n",
       "      <td>4</td>\n",
       "      <td>1.520954</td>\n",
       "      <td>1.474717</td>\n",
       "      <td>0.351500</td>\n",
       "      <td>00:10</td>\n",
       "    </tr>\n",
       "    <tr>\n",
       "      <td>5</td>\n",
       "      <td>1.468819</td>\n",
       "      <td>1.490227</td>\n",
       "      <td>0.334000</td>\n",
       "      <td>00:10</td>\n",
       "    </tr>\n",
       "  </tbody>\n",
       "</table>"
      ],
      "text/plain": [
       "<IPython.core.display.HTML object>"
      ]
     },
     "metadata": {},
     "output_type": "display_data"
    },
    {
     "data": {
      "text/html": [],
      "text/plain": [
       "<IPython.core.display.HTML object>"
      ]
     },
     "metadata": {},
     "output_type": "display_data"
    },
    {
     "name": "stdout",
     "output_type": "stream",
     "text": [
      "finished 1th bootstrap of size200\n"
     ]
    },
    {
     "data": {
      "text/html": [],
      "text/plain": [
       "<IPython.core.display.HTML object>"
      ]
     },
     "metadata": {},
     "output_type": "display_data"
    },
    {
     "data": {
      "text/html": [],
      "text/plain": [
       "<IPython.core.display.HTML object>"
      ]
     },
     "metadata": {},
     "output_type": "display_data"
    },
    {
     "data": {
      "text/html": [
       "<table border=\"1\" class=\"dataframe\">\n",
       "  <thead>\n",
       "    <tr style=\"text-align: left;\">\n",
       "      <th>epoch</th>\n",
       "      <th>train_loss</th>\n",
       "      <th>valid_loss</th>\n",
       "      <th>accuracy</th>\n",
       "      <th>time</th>\n",
       "    </tr>\n",
       "  </thead>\n",
       "  <tbody>\n",
       "    <tr>\n",
       "      <td>0</td>\n",
       "      <td>1.648287</td>\n",
       "      <td>1.599394</td>\n",
       "      <td>0.243000</td>\n",
       "      <td>00:10</td>\n",
       "    </tr>\n",
       "    <tr>\n",
       "      <td>1</td>\n",
       "      <td>1.631898</td>\n",
       "      <td>1.616156</td>\n",
       "      <td>0.219500</td>\n",
       "      <td>00:10</td>\n",
       "    </tr>\n",
       "    <tr>\n",
       "      <td>2</td>\n",
       "      <td>1.624076</td>\n",
       "      <td>1.593428</td>\n",
       "      <td>0.210500</td>\n",
       "      <td>00:10</td>\n",
       "    </tr>\n",
       "    <tr>\n",
       "      <td>3</td>\n",
       "      <td>1.603068</td>\n",
       "      <td>1.543457</td>\n",
       "      <td>0.350000</td>\n",
       "      <td>00:10</td>\n",
       "    </tr>\n",
       "    <tr>\n",
       "      <td>4</td>\n",
       "      <td>1.558492</td>\n",
       "      <td>1.465927</td>\n",
       "      <td>0.361000</td>\n",
       "      <td>00:10</td>\n",
       "    </tr>\n",
       "    <tr>\n",
       "      <td>5</td>\n",
       "      <td>1.498508</td>\n",
       "      <td>1.446083</td>\n",
       "      <td>0.363500</td>\n",
       "      <td>00:10</td>\n",
       "    </tr>\n",
       "  </tbody>\n",
       "</table>"
      ],
      "text/plain": [
       "<IPython.core.display.HTML object>"
      ]
     },
     "metadata": {},
     "output_type": "display_data"
    },
    {
     "data": {
      "text/html": [],
      "text/plain": [
       "<IPython.core.display.HTML object>"
      ]
     },
     "metadata": {},
     "output_type": "display_data"
    },
    {
     "name": "stdout",
     "output_type": "stream",
     "text": [
      "finished 2th bootstrap of size200\n"
     ]
    },
    {
     "data": {
      "text/html": [],
      "text/plain": [
       "<IPython.core.display.HTML object>"
      ]
     },
     "metadata": {},
     "output_type": "display_data"
    },
    {
     "data": {
      "text/html": [],
      "text/plain": [
       "<IPython.core.display.HTML object>"
      ]
     },
     "metadata": {},
     "output_type": "display_data"
    },
    {
     "data": {
      "text/html": [
       "<table border=\"1\" class=\"dataframe\">\n",
       "  <thead>\n",
       "    <tr style=\"text-align: left;\">\n",
       "      <th>epoch</th>\n",
       "      <th>train_loss</th>\n",
       "      <th>valid_loss</th>\n",
       "      <th>accuracy</th>\n",
       "      <th>time</th>\n",
       "    </tr>\n",
       "  </thead>\n",
       "  <tbody>\n",
       "    <tr>\n",
       "      <td>0</td>\n",
       "      <td>1.621229</td>\n",
       "      <td>1.658025</td>\n",
       "      <td>0.207000</td>\n",
       "      <td>00:10</td>\n",
       "    </tr>\n",
       "    <tr>\n",
       "      <td>1</td>\n",
       "      <td>1.607935</td>\n",
       "      <td>1.591567</td>\n",
       "      <td>0.239000</td>\n",
       "      <td>00:10</td>\n",
       "    </tr>\n",
       "    <tr>\n",
       "      <td>2</td>\n",
       "      <td>1.578010</td>\n",
       "      <td>1.515976</td>\n",
       "      <td>0.311500</td>\n",
       "      <td>00:10</td>\n",
       "    </tr>\n",
       "    <tr>\n",
       "      <td>3</td>\n",
       "      <td>1.491584</td>\n",
       "      <td>1.427468</td>\n",
       "      <td>0.372000</td>\n",
       "      <td>00:10</td>\n",
       "    </tr>\n",
       "    <tr>\n",
       "      <td>4</td>\n",
       "      <td>1.448374</td>\n",
       "      <td>1.311781</td>\n",
       "      <td>0.380500</td>\n",
       "      <td>00:10</td>\n",
       "    </tr>\n",
       "    <tr>\n",
       "      <td>5</td>\n",
       "      <td>1.369748</td>\n",
       "      <td>1.268249</td>\n",
       "      <td>0.402500</td>\n",
       "      <td>00:10</td>\n",
       "    </tr>\n",
       "  </tbody>\n",
       "</table>"
      ],
      "text/plain": [
       "<IPython.core.display.HTML object>"
      ]
     },
     "metadata": {},
     "output_type": "display_data"
    },
    {
     "data": {
      "text/html": [],
      "text/plain": [
       "<IPython.core.display.HTML object>"
      ]
     },
     "metadata": {},
     "output_type": "display_data"
    },
    {
     "name": "stdout",
     "output_type": "stream",
     "text": [
      "finished 3th bootstrap of size200\n"
     ]
    },
    {
     "data": {
      "text/html": [],
      "text/plain": [
       "<IPython.core.display.HTML object>"
      ]
     },
     "metadata": {},
     "output_type": "display_data"
    },
    {
     "data": {
      "text/html": [],
      "text/plain": [
       "<IPython.core.display.HTML object>"
      ]
     },
     "metadata": {},
     "output_type": "display_data"
    },
    {
     "data": {
      "text/html": [
       "<table border=\"1\" class=\"dataframe\">\n",
       "  <thead>\n",
       "    <tr style=\"text-align: left;\">\n",
       "      <th>epoch</th>\n",
       "      <th>train_loss</th>\n",
       "      <th>valid_loss</th>\n",
       "      <th>accuracy</th>\n",
       "      <th>time</th>\n",
       "    </tr>\n",
       "  </thead>\n",
       "  <tbody>\n",
       "    <tr>\n",
       "      <td>0</td>\n",
       "      <td>1.598720</td>\n",
       "      <td>1.628815</td>\n",
       "      <td>0.209500</td>\n",
       "      <td>00:10</td>\n",
       "    </tr>\n",
       "    <tr>\n",
       "      <td>1</td>\n",
       "      <td>1.586609</td>\n",
       "      <td>1.629859</td>\n",
       "      <td>0.206000</td>\n",
       "      <td>00:10</td>\n",
       "    </tr>\n",
       "    <tr>\n",
       "      <td>2</td>\n",
       "      <td>1.585114</td>\n",
       "      <td>1.619046</td>\n",
       "      <td>0.239500</td>\n",
       "      <td>00:10</td>\n",
       "    </tr>\n",
       "    <tr>\n",
       "      <td>3</td>\n",
       "      <td>1.562159</td>\n",
       "      <td>1.600371</td>\n",
       "      <td>0.237000</td>\n",
       "      <td>00:10</td>\n",
       "    </tr>\n",
       "    <tr>\n",
       "      <td>4</td>\n",
       "      <td>1.512762</td>\n",
       "      <td>1.614417</td>\n",
       "      <td>0.229500</td>\n",
       "      <td>00:10</td>\n",
       "    </tr>\n",
       "    <tr>\n",
       "      <td>5</td>\n",
       "      <td>1.457195</td>\n",
       "      <td>1.606292</td>\n",
       "      <td>0.244000</td>\n",
       "      <td>00:10</td>\n",
       "    </tr>\n",
       "  </tbody>\n",
       "</table>"
      ],
      "text/plain": [
       "<IPython.core.display.HTML object>"
      ]
     },
     "metadata": {},
     "output_type": "display_data"
    },
    {
     "data": {
      "text/html": [],
      "text/plain": [
       "<IPython.core.display.HTML object>"
      ]
     },
     "metadata": {},
     "output_type": "display_data"
    },
    {
     "name": "stdout",
     "output_type": "stream",
     "text": [
      "finished 4th bootstrap of size200\n"
     ]
    },
    {
     "data": {
      "text/html": [],
      "text/plain": [
       "<IPython.core.display.HTML object>"
      ]
     },
     "metadata": {},
     "output_type": "display_data"
    },
    {
     "data": {
      "text/html": [],
      "text/plain": [
       "<IPython.core.display.HTML object>"
      ]
     },
     "metadata": {},
     "output_type": "display_data"
    },
    {
     "data": {
      "text/html": [
       "<table border=\"1\" class=\"dataframe\">\n",
       "  <thead>\n",
       "    <tr style=\"text-align: left;\">\n",
       "      <th>epoch</th>\n",
       "      <th>train_loss</th>\n",
       "      <th>valid_loss</th>\n",
       "      <th>accuracy</th>\n",
       "      <th>time</th>\n",
       "    </tr>\n",
       "  </thead>\n",
       "  <tbody>\n",
       "    <tr>\n",
       "      <td>0</td>\n",
       "      <td>1.614063</td>\n",
       "      <td>1.573450</td>\n",
       "      <td>0.284500</td>\n",
       "      <td>00:12</td>\n",
       "    </tr>\n",
       "    <tr>\n",
       "      <td>1</td>\n",
       "      <td>1.583040</td>\n",
       "      <td>1.389021</td>\n",
       "      <td>0.390500</td>\n",
       "      <td>00:12</td>\n",
       "    </tr>\n",
       "    <tr>\n",
       "      <td>2</td>\n",
       "      <td>1.610736</td>\n",
       "      <td>1.620103</td>\n",
       "      <td>0.220500</td>\n",
       "      <td>00:12</td>\n",
       "    </tr>\n",
       "    <tr>\n",
       "      <td>3</td>\n",
       "      <td>1.610590</td>\n",
       "      <td>1.615191</td>\n",
       "      <td>0.207000</td>\n",
       "      <td>00:12</td>\n",
       "    </tr>\n",
       "    <tr>\n",
       "      <td>4</td>\n",
       "      <td>1.586041</td>\n",
       "      <td>1.466772</td>\n",
       "      <td>0.346000</td>\n",
       "      <td>00:12</td>\n",
       "    </tr>\n",
       "    <tr>\n",
       "      <td>5</td>\n",
       "      <td>1.548878</td>\n",
       "      <td>1.459782</td>\n",
       "      <td>0.349000</td>\n",
       "      <td>00:12</td>\n",
       "    </tr>\n",
       "  </tbody>\n",
       "</table>"
      ],
      "text/plain": [
       "<IPython.core.display.HTML object>"
      ]
     },
     "metadata": {},
     "output_type": "display_data"
    },
    {
     "data": {
      "text/html": [],
      "text/plain": [
       "<IPython.core.display.HTML object>"
      ]
     },
     "metadata": {},
     "output_type": "display_data"
    },
    {
     "name": "stdout",
     "output_type": "stream",
     "text": [
      "finished 0th bootstrap of size400\n"
     ]
    },
    {
     "data": {
      "text/html": [],
      "text/plain": [
       "<IPython.core.display.HTML object>"
      ]
     },
     "metadata": {},
     "output_type": "display_data"
    },
    {
     "data": {
      "text/html": [],
      "text/plain": [
       "<IPython.core.display.HTML object>"
      ]
     },
     "metadata": {},
     "output_type": "display_data"
    },
    {
     "data": {
      "text/html": [
       "<table border=\"1\" class=\"dataframe\">\n",
       "  <thead>\n",
       "    <tr style=\"text-align: left;\">\n",
       "      <th>epoch</th>\n",
       "      <th>train_loss</th>\n",
       "      <th>valid_loss</th>\n",
       "      <th>accuracy</th>\n",
       "      <th>time</th>\n",
       "    </tr>\n",
       "  </thead>\n",
       "  <tbody>\n",
       "    <tr>\n",
       "      <td>0</td>\n",
       "      <td>1.660299</td>\n",
       "      <td>1.617612</td>\n",
       "      <td>0.218500</td>\n",
       "      <td>00:12</td>\n",
       "    </tr>\n",
       "    <tr>\n",
       "      <td>1</td>\n",
       "      <td>1.622664</td>\n",
       "      <td>1.585169</td>\n",
       "      <td>0.267500</td>\n",
       "      <td>00:12</td>\n",
       "    </tr>\n",
       "    <tr>\n",
       "      <td>2</td>\n",
       "      <td>1.621131</td>\n",
       "      <td>1.677281</td>\n",
       "      <td>0.232500</td>\n",
       "      <td>00:12</td>\n",
       "    </tr>\n",
       "    <tr>\n",
       "      <td>3</td>\n",
       "      <td>1.613194</td>\n",
       "      <td>1.634944</td>\n",
       "      <td>0.231000</td>\n",
       "      <td>00:12</td>\n",
       "    </tr>\n",
       "    <tr>\n",
       "      <td>4</td>\n",
       "      <td>1.599102</td>\n",
       "      <td>1.583365</td>\n",
       "      <td>0.272000</td>\n",
       "      <td>00:12</td>\n",
       "    </tr>\n",
       "    <tr>\n",
       "      <td>5</td>\n",
       "      <td>1.586269</td>\n",
       "      <td>1.571897</td>\n",
       "      <td>0.288500</td>\n",
       "      <td>00:12</td>\n",
       "    </tr>\n",
       "  </tbody>\n",
       "</table>"
      ],
      "text/plain": [
       "<IPython.core.display.HTML object>"
      ]
     },
     "metadata": {},
     "output_type": "display_data"
    },
    {
     "data": {
      "text/html": [],
      "text/plain": [
       "<IPython.core.display.HTML object>"
      ]
     },
     "metadata": {},
     "output_type": "display_data"
    },
    {
     "name": "stdout",
     "output_type": "stream",
     "text": [
      "finished 1th bootstrap of size400\n"
     ]
    },
    {
     "data": {
      "text/html": [],
      "text/plain": [
       "<IPython.core.display.HTML object>"
      ]
     },
     "metadata": {},
     "output_type": "display_data"
    },
    {
     "data": {
      "text/html": [],
      "text/plain": [
       "<IPython.core.display.HTML object>"
      ]
     },
     "metadata": {},
     "output_type": "display_data"
    },
    {
     "data": {
      "text/html": [
       "<table border=\"1\" class=\"dataframe\">\n",
       "  <thead>\n",
       "    <tr style=\"text-align: left;\">\n",
       "      <th>epoch</th>\n",
       "      <th>train_loss</th>\n",
       "      <th>valid_loss</th>\n",
       "      <th>accuracy</th>\n",
       "      <th>time</th>\n",
       "    </tr>\n",
       "  </thead>\n",
       "  <tbody>\n",
       "    <tr>\n",
       "      <td>0</td>\n",
       "      <td>1.638709</td>\n",
       "      <td>1.585424</td>\n",
       "      <td>0.306500</td>\n",
       "      <td>00:12</td>\n",
       "    </tr>\n",
       "    <tr>\n",
       "      <td>1</td>\n",
       "      <td>1.605703</td>\n",
       "      <td>1.470108</td>\n",
       "      <td>0.335000</td>\n",
       "      <td>00:12</td>\n",
       "    </tr>\n",
       "    <tr>\n",
       "      <td>2</td>\n",
       "      <td>1.532102</td>\n",
       "      <td>1.284298</td>\n",
       "      <td>0.421000</td>\n",
       "      <td>00:12</td>\n",
       "    </tr>\n",
       "    <tr>\n",
       "      <td>3</td>\n",
       "      <td>1.401990</td>\n",
       "      <td>1.280543</td>\n",
       "      <td>0.406000</td>\n",
       "      <td>00:12</td>\n",
       "    </tr>\n",
       "    <tr>\n",
       "      <td>4</td>\n",
       "      <td>1.269334</td>\n",
       "      <td>1.350706</td>\n",
       "      <td>0.374500</td>\n",
       "      <td>00:12</td>\n",
       "    </tr>\n",
       "    <tr>\n",
       "      <td>5</td>\n",
       "      <td>1.136551</td>\n",
       "      <td>1.308376</td>\n",
       "      <td>0.402500</td>\n",
       "      <td>00:12</td>\n",
       "    </tr>\n",
       "  </tbody>\n",
       "</table>"
      ],
      "text/plain": [
       "<IPython.core.display.HTML object>"
      ]
     },
     "metadata": {},
     "output_type": "display_data"
    },
    {
     "data": {
      "text/html": [],
      "text/plain": [
       "<IPython.core.display.HTML object>"
      ]
     },
     "metadata": {},
     "output_type": "display_data"
    },
    {
     "name": "stdout",
     "output_type": "stream",
     "text": [
      "finished 2th bootstrap of size400\n"
     ]
    },
    {
     "data": {
      "text/html": [],
      "text/plain": [
       "<IPython.core.display.HTML object>"
      ]
     },
     "metadata": {},
     "output_type": "display_data"
    },
    {
     "data": {
      "text/html": [],
      "text/plain": [
       "<IPython.core.display.HTML object>"
      ]
     },
     "metadata": {},
     "output_type": "display_data"
    },
    {
     "data": {
      "text/html": [
       "<table border=\"1\" class=\"dataframe\">\n",
       "  <thead>\n",
       "    <tr style=\"text-align: left;\">\n",
       "      <th>epoch</th>\n",
       "      <th>train_loss</th>\n",
       "      <th>valid_loss</th>\n",
       "      <th>accuracy</th>\n",
       "      <th>time</th>\n",
       "    </tr>\n",
       "  </thead>\n",
       "  <tbody>\n",
       "    <tr>\n",
       "      <td>0</td>\n",
       "      <td>1.690337</td>\n",
       "      <td>1.612630</td>\n",
       "      <td>0.233000</td>\n",
       "      <td>00:12</td>\n",
       "    </tr>\n",
       "    <tr>\n",
       "      <td>1</td>\n",
       "      <td>1.648374</td>\n",
       "      <td>1.594750</td>\n",
       "      <td>0.290500</td>\n",
       "      <td>00:12</td>\n",
       "    </tr>\n",
       "    <tr>\n",
       "      <td>2</td>\n",
       "      <td>1.623476</td>\n",
       "      <td>1.482764</td>\n",
       "      <td>0.351000</td>\n",
       "      <td>00:12</td>\n",
       "    </tr>\n",
       "    <tr>\n",
       "      <td>3</td>\n",
       "      <td>1.568973</td>\n",
       "      <td>1.328185</td>\n",
       "      <td>0.373500</td>\n",
       "      <td>00:12</td>\n",
       "    </tr>\n",
       "    <tr>\n",
       "      <td>4</td>\n",
       "      <td>1.468503</td>\n",
       "      <td>1.303373</td>\n",
       "      <td>0.413000</td>\n",
       "      <td>00:12</td>\n",
       "    </tr>\n",
       "    <tr>\n",
       "      <td>5</td>\n",
       "      <td>1.367497</td>\n",
       "      <td>1.252411</td>\n",
       "      <td>0.446000</td>\n",
       "      <td>00:12</td>\n",
       "    </tr>\n",
       "  </tbody>\n",
       "</table>"
      ],
      "text/plain": [
       "<IPython.core.display.HTML object>"
      ]
     },
     "metadata": {},
     "output_type": "display_data"
    },
    {
     "data": {
      "text/html": [],
      "text/plain": [
       "<IPython.core.display.HTML object>"
      ]
     },
     "metadata": {},
     "output_type": "display_data"
    },
    {
     "name": "stdout",
     "output_type": "stream",
     "text": [
      "finished 3th bootstrap of size400\n"
     ]
    },
    {
     "data": {
      "text/html": [],
      "text/plain": [
       "<IPython.core.display.HTML object>"
      ]
     },
     "metadata": {},
     "output_type": "display_data"
    },
    {
     "data": {
      "text/html": [],
      "text/plain": [
       "<IPython.core.display.HTML object>"
      ]
     },
     "metadata": {},
     "output_type": "display_data"
    },
    {
     "data": {
      "text/html": [
       "<table border=\"1\" class=\"dataframe\">\n",
       "  <thead>\n",
       "    <tr style=\"text-align: left;\">\n",
       "      <th>epoch</th>\n",
       "      <th>train_loss</th>\n",
       "      <th>valid_loss</th>\n",
       "      <th>accuracy</th>\n",
       "      <th>time</th>\n",
       "    </tr>\n",
       "  </thead>\n",
       "  <tbody>\n",
       "    <tr>\n",
       "      <td>0</td>\n",
       "      <td>1.646841</td>\n",
       "      <td>1.602685</td>\n",
       "      <td>0.221500</td>\n",
       "      <td>00:12</td>\n",
       "    </tr>\n",
       "    <tr>\n",
       "      <td>1</td>\n",
       "      <td>1.610418</td>\n",
       "      <td>1.835865</td>\n",
       "      <td>0.301500</td>\n",
       "      <td>00:12</td>\n",
       "    </tr>\n",
       "    <tr>\n",
       "      <td>2</td>\n",
       "      <td>1.606533</td>\n",
       "      <td>1.549509</td>\n",
       "      <td>0.285500</td>\n",
       "      <td>00:12</td>\n",
       "    </tr>\n",
       "    <tr>\n",
       "      <td>3</td>\n",
       "      <td>1.533031</td>\n",
       "      <td>1.294243</td>\n",
       "      <td>0.406500</td>\n",
       "      <td>00:12</td>\n",
       "    </tr>\n",
       "    <tr>\n",
       "      <td>4</td>\n",
       "      <td>1.427878</td>\n",
       "      <td>1.259865</td>\n",
       "      <td>0.414000</td>\n",
       "      <td>00:12</td>\n",
       "    </tr>\n",
       "    <tr>\n",
       "      <td>5</td>\n",
       "      <td>1.313272</td>\n",
       "      <td>1.218602</td>\n",
       "      <td>0.435000</td>\n",
       "      <td>00:12</td>\n",
       "    </tr>\n",
       "  </tbody>\n",
       "</table>"
      ],
      "text/plain": [
       "<IPython.core.display.HTML object>"
      ]
     },
     "metadata": {},
     "output_type": "display_data"
    },
    {
     "data": {
      "text/html": [],
      "text/plain": [
       "<IPython.core.display.HTML object>"
      ]
     },
     "metadata": {},
     "output_type": "display_data"
    },
    {
     "name": "stdout",
     "output_type": "stream",
     "text": [
      "finished 4th bootstrap of size400\n"
     ]
    },
    {
     "data": {
      "text/html": [],
      "text/plain": [
       "<IPython.core.display.HTML object>"
      ]
     },
     "metadata": {},
     "output_type": "display_data"
    },
    {
     "data": {
      "text/html": [],
      "text/plain": [
       "<IPython.core.display.HTML object>"
      ]
     },
     "metadata": {},
     "output_type": "display_data"
    },
    {
     "data": {
      "text/html": [
       "<table border=\"1\" class=\"dataframe\">\n",
       "  <thead>\n",
       "    <tr style=\"text-align: left;\">\n",
       "      <th>epoch</th>\n",
       "      <th>train_loss</th>\n",
       "      <th>valid_loss</th>\n",
       "      <th>accuracy</th>\n",
       "      <th>time</th>\n",
       "    </tr>\n",
       "  </thead>\n",
       "  <tbody>\n",
       "    <tr>\n",
       "      <td>0</td>\n",
       "      <td>1.624942</td>\n",
       "      <td>1.572325</td>\n",
       "      <td>0.282500</td>\n",
       "      <td>00:17</td>\n",
       "    </tr>\n",
       "    <tr>\n",
       "      <td>1</td>\n",
       "      <td>1.524605</td>\n",
       "      <td>1.419261</td>\n",
       "      <td>0.376000</td>\n",
       "      <td>00:16</td>\n",
       "    </tr>\n",
       "    <tr>\n",
       "      <td>2</td>\n",
       "      <td>1.459428</td>\n",
       "      <td>1.200833</td>\n",
       "      <td>0.481500</td>\n",
       "      <td>00:16</td>\n",
       "    </tr>\n",
       "    <tr>\n",
       "      <td>3</td>\n",
       "      <td>1.325084</td>\n",
       "      <td>1.451631</td>\n",
       "      <td>0.424500</td>\n",
       "      <td>00:16</td>\n",
       "    </tr>\n",
       "    <tr>\n",
       "      <td>4</td>\n",
       "      <td>1.172028</td>\n",
       "      <td>1.227877</td>\n",
       "      <td>0.489000</td>\n",
       "      <td>00:16</td>\n",
       "    </tr>\n",
       "    <tr>\n",
       "      <td>5</td>\n",
       "      <td>1.020225</td>\n",
       "      <td>1.223342</td>\n",
       "      <td>0.494000</td>\n",
       "      <td>00:17</td>\n",
       "    </tr>\n",
       "  </tbody>\n",
       "</table>"
      ],
      "text/plain": [
       "<IPython.core.display.HTML object>"
      ]
     },
     "metadata": {},
     "output_type": "display_data"
    },
    {
     "data": {
      "text/html": [],
      "text/plain": [
       "<IPython.core.display.HTML object>"
      ]
     },
     "metadata": {},
     "output_type": "display_data"
    },
    {
     "name": "stdout",
     "output_type": "stream",
     "text": [
      "finished 0th bootstrap of size800\n"
     ]
    },
    {
     "data": {
      "text/html": [],
      "text/plain": [
       "<IPython.core.display.HTML object>"
      ]
     },
     "metadata": {},
     "output_type": "display_data"
    },
    {
     "data": {
      "text/html": [],
      "text/plain": [
       "<IPython.core.display.HTML object>"
      ]
     },
     "metadata": {},
     "output_type": "display_data"
    },
    {
     "data": {
      "text/html": [
       "<table border=\"1\" class=\"dataframe\">\n",
       "  <thead>\n",
       "    <tr style=\"text-align: left;\">\n",
       "      <th>epoch</th>\n",
       "      <th>train_loss</th>\n",
       "      <th>valid_loss</th>\n",
       "      <th>accuracy</th>\n",
       "      <th>time</th>\n",
       "    </tr>\n",
       "  </thead>\n",
       "  <tbody>\n",
       "    <tr>\n",
       "      <td>0</td>\n",
       "      <td>1.618340</td>\n",
       "      <td>1.574611</td>\n",
       "      <td>0.301000</td>\n",
       "      <td>00:16</td>\n",
       "    </tr>\n",
       "    <tr>\n",
       "      <td>1</td>\n",
       "      <td>1.553986</td>\n",
       "      <td>1.466997</td>\n",
       "      <td>0.381000</td>\n",
       "      <td>00:16</td>\n",
       "    </tr>\n",
       "    <tr>\n",
       "      <td>2</td>\n",
       "      <td>1.437973</td>\n",
       "      <td>1.337027</td>\n",
       "      <td>0.430000</td>\n",
       "      <td>00:16</td>\n",
       "    </tr>\n",
       "    <tr>\n",
       "      <td>3</td>\n",
       "      <td>1.346411</td>\n",
       "      <td>1.353307</td>\n",
       "      <td>0.425000</td>\n",
       "      <td>00:17</td>\n",
       "    </tr>\n",
       "    <tr>\n",
       "      <td>4</td>\n",
       "      <td>1.182451</td>\n",
       "      <td>1.353300</td>\n",
       "      <td>0.438500</td>\n",
       "      <td>00:16</td>\n",
       "    </tr>\n",
       "    <tr>\n",
       "      <td>5</td>\n",
       "      <td>1.016538</td>\n",
       "      <td>1.341648</td>\n",
       "      <td>0.453500</td>\n",
       "      <td>00:16</td>\n",
       "    </tr>\n",
       "  </tbody>\n",
       "</table>"
      ],
      "text/plain": [
       "<IPython.core.display.HTML object>"
      ]
     },
     "metadata": {},
     "output_type": "display_data"
    },
    {
     "data": {
      "text/html": [],
      "text/plain": [
       "<IPython.core.display.HTML object>"
      ]
     },
     "metadata": {},
     "output_type": "display_data"
    },
    {
     "name": "stdout",
     "output_type": "stream",
     "text": [
      "finished 1th bootstrap of size800\n"
     ]
    },
    {
     "data": {
      "text/html": [],
      "text/plain": [
       "<IPython.core.display.HTML object>"
      ]
     },
     "metadata": {},
     "output_type": "display_data"
    },
    {
     "data": {
      "text/html": [],
      "text/plain": [
       "<IPython.core.display.HTML object>"
      ]
     },
     "metadata": {},
     "output_type": "display_data"
    },
    {
     "data": {
      "text/html": [
       "<table border=\"1\" class=\"dataframe\">\n",
       "  <thead>\n",
       "    <tr style=\"text-align: left;\">\n",
       "      <th>epoch</th>\n",
       "      <th>train_loss</th>\n",
       "      <th>valid_loss</th>\n",
       "      <th>accuracy</th>\n",
       "      <th>time</th>\n",
       "    </tr>\n",
       "  </thead>\n",
       "  <tbody>\n",
       "    <tr>\n",
       "      <td>0</td>\n",
       "      <td>1.605583</td>\n",
       "      <td>1.553995</td>\n",
       "      <td>0.301500</td>\n",
       "      <td>00:17</td>\n",
       "    </tr>\n",
       "    <tr>\n",
       "      <td>1</td>\n",
       "      <td>1.583280</td>\n",
       "      <td>1.484879</td>\n",
       "      <td>0.287000</td>\n",
       "      <td>00:16</td>\n",
       "    </tr>\n",
       "    <tr>\n",
       "      <td>2</td>\n",
       "      <td>1.537499</td>\n",
       "      <td>1.354765</td>\n",
       "      <td>0.395500</td>\n",
       "      <td>00:16</td>\n",
       "    </tr>\n",
       "    <tr>\n",
       "      <td>3</td>\n",
       "      <td>1.405516</td>\n",
       "      <td>1.280770</td>\n",
       "      <td>0.451000</td>\n",
       "      <td>00:17</td>\n",
       "    </tr>\n",
       "    <tr>\n",
       "      <td>4</td>\n",
       "      <td>1.236878</td>\n",
       "      <td>1.247895</td>\n",
       "      <td>0.473500</td>\n",
       "      <td>00:16</td>\n",
       "    </tr>\n",
       "    <tr>\n",
       "      <td>5</td>\n",
       "      <td>1.058866</td>\n",
       "      <td>1.228615</td>\n",
       "      <td>0.501500</td>\n",
       "      <td>00:17</td>\n",
       "    </tr>\n",
       "  </tbody>\n",
       "</table>"
      ],
      "text/plain": [
       "<IPython.core.display.HTML object>"
      ]
     },
     "metadata": {},
     "output_type": "display_data"
    },
    {
     "data": {
      "text/html": [],
      "text/plain": [
       "<IPython.core.display.HTML object>"
      ]
     },
     "metadata": {},
     "output_type": "display_data"
    },
    {
     "name": "stdout",
     "output_type": "stream",
     "text": [
      "finished 2th bootstrap of size800\n"
     ]
    },
    {
     "data": {
      "text/html": [],
      "text/plain": [
       "<IPython.core.display.HTML object>"
      ]
     },
     "metadata": {},
     "output_type": "display_data"
    },
    {
     "data": {
      "text/html": [],
      "text/plain": [
       "<IPython.core.display.HTML object>"
      ]
     },
     "metadata": {},
     "output_type": "display_data"
    },
    {
     "data": {
      "text/html": [
       "<table border=\"1\" class=\"dataframe\">\n",
       "  <thead>\n",
       "    <tr style=\"text-align: left;\">\n",
       "      <th>epoch</th>\n",
       "      <th>train_loss</th>\n",
       "      <th>valid_loss</th>\n",
       "      <th>accuracy</th>\n",
       "      <th>time</th>\n",
       "    </tr>\n",
       "  </thead>\n",
       "  <tbody>\n",
       "    <tr>\n",
       "      <td>0</td>\n",
       "      <td>1.630641</td>\n",
       "      <td>1.567373</td>\n",
       "      <td>0.241500</td>\n",
       "      <td>00:17</td>\n",
       "    </tr>\n",
       "    <tr>\n",
       "      <td>1</td>\n",
       "      <td>1.586153</td>\n",
       "      <td>1.360571</td>\n",
       "      <td>0.350500</td>\n",
       "      <td>00:17</td>\n",
       "    </tr>\n",
       "    <tr>\n",
       "      <td>2</td>\n",
       "      <td>1.517489</td>\n",
       "      <td>1.301901</td>\n",
       "      <td>0.434000</td>\n",
       "      <td>00:16</td>\n",
       "    </tr>\n",
       "    <tr>\n",
       "      <td>3</td>\n",
       "      <td>1.419151</td>\n",
       "      <td>1.296403</td>\n",
       "      <td>0.454500</td>\n",
       "      <td>00:16</td>\n",
       "    </tr>\n",
       "    <tr>\n",
       "      <td>4</td>\n",
       "      <td>1.292351</td>\n",
       "      <td>1.261712</td>\n",
       "      <td>0.482500</td>\n",
       "      <td>00:16</td>\n",
       "    </tr>\n",
       "    <tr>\n",
       "      <td>5</td>\n",
       "      <td>1.142842</td>\n",
       "      <td>1.206142</td>\n",
       "      <td>0.499500</td>\n",
       "      <td>00:16</td>\n",
       "    </tr>\n",
       "  </tbody>\n",
       "</table>"
      ],
      "text/plain": [
       "<IPython.core.display.HTML object>"
      ]
     },
     "metadata": {},
     "output_type": "display_data"
    },
    {
     "data": {
      "text/html": [],
      "text/plain": [
       "<IPython.core.display.HTML object>"
      ]
     },
     "metadata": {},
     "output_type": "display_data"
    },
    {
     "name": "stdout",
     "output_type": "stream",
     "text": [
      "finished 3th bootstrap of size800\n"
     ]
    },
    {
     "data": {
      "text/html": [],
      "text/plain": [
       "<IPython.core.display.HTML object>"
      ]
     },
     "metadata": {},
     "output_type": "display_data"
    },
    {
     "data": {
      "text/html": [],
      "text/plain": [
       "<IPython.core.display.HTML object>"
      ]
     },
     "metadata": {},
     "output_type": "display_data"
    },
    {
     "data": {
      "text/html": [
       "<table border=\"1\" class=\"dataframe\">\n",
       "  <thead>\n",
       "    <tr style=\"text-align: left;\">\n",
       "      <th>epoch</th>\n",
       "      <th>train_loss</th>\n",
       "      <th>valid_loss</th>\n",
       "      <th>accuracy</th>\n",
       "      <th>time</th>\n",
       "    </tr>\n",
       "  </thead>\n",
       "  <tbody>\n",
       "    <tr>\n",
       "      <td>0</td>\n",
       "      <td>1.610115</td>\n",
       "      <td>1.506805</td>\n",
       "      <td>0.326000</td>\n",
       "      <td>00:17</td>\n",
       "    </tr>\n",
       "    <tr>\n",
       "      <td>1</td>\n",
       "      <td>1.571075</td>\n",
       "      <td>1.412157</td>\n",
       "      <td>0.335500</td>\n",
       "      <td>00:16</td>\n",
       "    </tr>\n",
       "    <tr>\n",
       "      <td>2</td>\n",
       "      <td>1.474231</td>\n",
       "      <td>1.302649</td>\n",
       "      <td>0.368500</td>\n",
       "      <td>00:16</td>\n",
       "    </tr>\n",
       "    <tr>\n",
       "      <td>3</td>\n",
       "      <td>1.368942</td>\n",
       "      <td>1.206443</td>\n",
       "      <td>0.450000</td>\n",
       "      <td>00:16</td>\n",
       "    </tr>\n",
       "    <tr>\n",
       "      <td>4</td>\n",
       "      <td>1.230203</td>\n",
       "      <td>1.205862</td>\n",
       "      <td>0.480500</td>\n",
       "      <td>00:16</td>\n",
       "    </tr>\n",
       "    <tr>\n",
       "      <td>5</td>\n",
       "      <td>1.093837</td>\n",
       "      <td>1.206151</td>\n",
       "      <td>0.489500</td>\n",
       "      <td>00:17</td>\n",
       "    </tr>\n",
       "  </tbody>\n",
       "</table>"
      ],
      "text/plain": [
       "<IPython.core.display.HTML object>"
      ]
     },
     "metadata": {},
     "output_type": "display_data"
    },
    {
     "data": {
      "text/html": [],
      "text/plain": [
       "<IPython.core.display.HTML object>"
      ]
     },
     "metadata": {},
     "output_type": "display_data"
    },
    {
     "name": "stdout",
     "output_type": "stream",
     "text": [
      "finished 4th bootstrap of size800\n"
     ]
    },
    {
     "data": {
      "text/html": [],
      "text/plain": [
       "<IPython.core.display.HTML object>"
      ]
     },
     "metadata": {},
     "output_type": "display_data"
    },
    {
     "data": {
      "text/html": [],
      "text/plain": [
       "<IPython.core.display.HTML object>"
      ]
     },
     "metadata": {},
     "output_type": "display_data"
    },
    {
     "data": {
      "text/html": [
       "<table border=\"1\" class=\"dataframe\">\n",
       "  <thead>\n",
       "    <tr style=\"text-align: left;\">\n",
       "      <th>epoch</th>\n",
       "      <th>train_loss</th>\n",
       "      <th>valid_loss</th>\n",
       "      <th>accuracy</th>\n",
       "      <th>time</th>\n",
       "    </tr>\n",
       "  </thead>\n",
       "  <tbody>\n",
       "    <tr>\n",
       "      <td>0</td>\n",
       "      <td>1.587767</td>\n",
       "      <td>1.426898</td>\n",
       "      <td>0.420000</td>\n",
       "      <td>00:24</td>\n",
       "    </tr>\n",
       "    <tr>\n",
       "      <td>1</td>\n",
       "      <td>1.583292</td>\n",
       "      <td>1.712790</td>\n",
       "      <td>0.266500</td>\n",
       "      <td>00:24</td>\n",
       "    </tr>\n",
       "    <tr>\n",
       "      <td>2</td>\n",
       "      <td>1.499425</td>\n",
       "      <td>1.587545</td>\n",
       "      <td>0.372500</td>\n",
       "      <td>00:24</td>\n",
       "    </tr>\n",
       "    <tr>\n",
       "      <td>3</td>\n",
       "      <td>1.355860</td>\n",
       "      <td>1.364379</td>\n",
       "      <td>0.447000</td>\n",
       "      <td>00:24</td>\n",
       "    </tr>\n",
       "    <tr>\n",
       "      <td>4</td>\n",
       "      <td>1.156685</td>\n",
       "      <td>1.286105</td>\n",
       "      <td>0.494000</td>\n",
       "      <td>00:24</td>\n",
       "    </tr>\n",
       "    <tr>\n",
       "      <td>5</td>\n",
       "      <td>0.953578</td>\n",
       "      <td>1.275090</td>\n",
       "      <td>0.486000</td>\n",
       "      <td>00:24</td>\n",
       "    </tr>\n",
       "  </tbody>\n",
       "</table>"
      ],
      "text/plain": [
       "<IPython.core.display.HTML object>"
      ]
     },
     "metadata": {},
     "output_type": "display_data"
    },
    {
     "data": {
      "text/html": [],
      "text/plain": [
       "<IPython.core.display.HTML object>"
      ]
     },
     "metadata": {},
     "output_type": "display_data"
    },
    {
     "name": "stdout",
     "output_type": "stream",
     "text": [
      "finished 0th bootstrap of size1600\n"
     ]
    },
    {
     "data": {
      "text/html": [],
      "text/plain": [
       "<IPython.core.display.HTML object>"
      ]
     },
     "metadata": {},
     "output_type": "display_data"
    },
    {
     "data": {
      "text/html": [],
      "text/plain": [
       "<IPython.core.display.HTML object>"
      ]
     },
     "metadata": {},
     "output_type": "display_data"
    },
    {
     "data": {
      "text/html": [
       "<table border=\"1\" class=\"dataframe\">\n",
       "  <thead>\n",
       "    <tr style=\"text-align: left;\">\n",
       "      <th>epoch</th>\n",
       "      <th>train_loss</th>\n",
       "      <th>valid_loss</th>\n",
       "      <th>accuracy</th>\n",
       "      <th>time</th>\n",
       "    </tr>\n",
       "  </thead>\n",
       "  <tbody>\n",
       "    <tr>\n",
       "      <td>0</td>\n",
       "      <td>1.507560</td>\n",
       "      <td>1.306247</td>\n",
       "      <td>0.407000</td>\n",
       "      <td>00:24</td>\n",
       "    </tr>\n",
       "    <tr>\n",
       "      <td>1</td>\n",
       "      <td>1.368248</td>\n",
       "      <td>1.202138</td>\n",
       "      <td>0.479500</td>\n",
       "      <td>00:24</td>\n",
       "    </tr>\n",
       "    <tr>\n",
       "      <td>2</td>\n",
       "      <td>1.179042</td>\n",
       "      <td>1.230600</td>\n",
       "      <td>0.473000</td>\n",
       "      <td>00:24</td>\n",
       "    </tr>\n",
       "    <tr>\n",
       "      <td>3</td>\n",
       "      <td>0.972915</td>\n",
       "      <td>1.379479</td>\n",
       "      <td>0.487000</td>\n",
       "      <td>00:24</td>\n",
       "    </tr>\n",
       "    <tr>\n",
       "      <td>4</td>\n",
       "      <td>0.719639</td>\n",
       "      <td>1.600769</td>\n",
       "      <td>0.505000</td>\n",
       "      <td>00:24</td>\n",
       "    </tr>\n",
       "    <tr>\n",
       "      <td>5</td>\n",
       "      <td>0.488239</td>\n",
       "      <td>1.632209</td>\n",
       "      <td>0.512000</td>\n",
       "      <td>00:24</td>\n",
       "    </tr>\n",
       "  </tbody>\n",
       "</table>"
      ],
      "text/plain": [
       "<IPython.core.display.HTML object>"
      ]
     },
     "metadata": {},
     "output_type": "display_data"
    },
    {
     "data": {
      "text/html": [],
      "text/plain": [
       "<IPython.core.display.HTML object>"
      ]
     },
     "metadata": {},
     "output_type": "display_data"
    },
    {
     "name": "stdout",
     "output_type": "stream",
     "text": [
      "finished 1th bootstrap of size1600\n"
     ]
    },
    {
     "data": {
      "text/html": [],
      "text/plain": [
       "<IPython.core.display.HTML object>"
      ]
     },
     "metadata": {},
     "output_type": "display_data"
    },
    {
     "data": {
      "text/html": [],
      "text/plain": [
       "<IPython.core.display.HTML object>"
      ]
     },
     "metadata": {},
     "output_type": "display_data"
    },
    {
     "data": {
      "text/html": [
       "<table border=\"1\" class=\"dataframe\">\n",
       "  <thead>\n",
       "    <tr style=\"text-align: left;\">\n",
       "      <th>epoch</th>\n",
       "      <th>train_loss</th>\n",
       "      <th>valid_loss</th>\n",
       "      <th>accuracy</th>\n",
       "      <th>time</th>\n",
       "    </tr>\n",
       "  </thead>\n",
       "  <tbody>\n",
       "    <tr>\n",
       "      <td>0</td>\n",
       "      <td>1.561949</td>\n",
       "      <td>1.348733</td>\n",
       "      <td>0.413500</td>\n",
       "      <td>00:24</td>\n",
       "    </tr>\n",
       "    <tr>\n",
       "      <td>1</td>\n",
       "      <td>1.419482</td>\n",
       "      <td>1.361729</td>\n",
       "      <td>0.364500</td>\n",
       "      <td>00:24</td>\n",
       "    </tr>\n",
       "    <tr>\n",
       "      <td>2</td>\n",
       "      <td>1.252520</td>\n",
       "      <td>1.340919</td>\n",
       "      <td>0.428000</td>\n",
       "      <td>00:24</td>\n",
       "    </tr>\n",
       "    <tr>\n",
       "      <td>3</td>\n",
       "      <td>1.103533</td>\n",
       "      <td>1.299489</td>\n",
       "      <td>0.475000</td>\n",
       "      <td>00:24</td>\n",
       "    </tr>\n",
       "    <tr>\n",
       "      <td>4</td>\n",
       "      <td>0.890595</td>\n",
       "      <td>1.355888</td>\n",
       "      <td>0.486000</td>\n",
       "      <td>00:24</td>\n",
       "    </tr>\n",
       "    <tr>\n",
       "      <td>5</td>\n",
       "      <td>0.680239</td>\n",
       "      <td>1.313083</td>\n",
       "      <td>0.527500</td>\n",
       "      <td>00:24</td>\n",
       "    </tr>\n",
       "  </tbody>\n",
       "</table>"
      ],
      "text/plain": [
       "<IPython.core.display.HTML object>"
      ]
     },
     "metadata": {},
     "output_type": "display_data"
    },
    {
     "data": {
      "text/html": [],
      "text/plain": [
       "<IPython.core.display.HTML object>"
      ]
     },
     "metadata": {},
     "output_type": "display_data"
    },
    {
     "name": "stdout",
     "output_type": "stream",
     "text": [
      "finished 2th bootstrap of size1600\n"
     ]
    },
    {
     "data": {
      "text/html": [],
      "text/plain": [
       "<IPython.core.display.HTML object>"
      ]
     },
     "metadata": {},
     "output_type": "display_data"
    },
    {
     "data": {
      "text/html": [],
      "text/plain": [
       "<IPython.core.display.HTML object>"
      ]
     },
     "metadata": {},
     "output_type": "display_data"
    },
    {
     "data": {
      "text/html": [
       "<table border=\"1\" class=\"dataframe\">\n",
       "  <thead>\n",
       "    <tr style=\"text-align: left;\">\n",
       "      <th>epoch</th>\n",
       "      <th>train_loss</th>\n",
       "      <th>valid_loss</th>\n",
       "      <th>accuracy</th>\n",
       "      <th>time</th>\n",
       "    </tr>\n",
       "  </thead>\n",
       "  <tbody>\n",
       "    <tr>\n",
       "      <td>0</td>\n",
       "      <td>1.525418</td>\n",
       "      <td>1.332628</td>\n",
       "      <td>0.418500</td>\n",
       "      <td>00:24</td>\n",
       "    </tr>\n",
       "    <tr>\n",
       "      <td>1</td>\n",
       "      <td>1.340687</td>\n",
       "      <td>1.333723</td>\n",
       "      <td>0.331000</td>\n",
       "      <td>00:24</td>\n",
       "    </tr>\n",
       "    <tr>\n",
       "      <td>2</td>\n",
       "      <td>1.192914</td>\n",
       "      <td>1.313362</td>\n",
       "      <td>0.470000</td>\n",
       "      <td>00:24</td>\n",
       "    </tr>\n",
       "    <tr>\n",
       "      <td>3</td>\n",
       "      <td>0.941532</td>\n",
       "      <td>1.334076</td>\n",
       "      <td>0.514000</td>\n",
       "      <td>00:24</td>\n",
       "    </tr>\n",
       "    <tr>\n",
       "      <td>4</td>\n",
       "      <td>0.679402</td>\n",
       "      <td>1.523354</td>\n",
       "      <td>0.516500</td>\n",
       "      <td>00:24</td>\n",
       "    </tr>\n",
       "    <tr>\n",
       "      <td>5</td>\n",
       "      <td>0.466136</td>\n",
       "      <td>1.560975</td>\n",
       "      <td>0.517500</td>\n",
       "      <td>00:24</td>\n",
       "    </tr>\n",
       "  </tbody>\n",
       "</table>"
      ],
      "text/plain": [
       "<IPython.core.display.HTML object>"
      ]
     },
     "metadata": {},
     "output_type": "display_data"
    },
    {
     "data": {
      "text/html": [],
      "text/plain": [
       "<IPython.core.display.HTML object>"
      ]
     },
     "metadata": {},
     "output_type": "display_data"
    },
    {
     "name": "stdout",
     "output_type": "stream",
     "text": [
      "finished 3th bootstrap of size1600\n"
     ]
    },
    {
     "data": {
      "text/html": [],
      "text/plain": [
       "<IPython.core.display.HTML object>"
      ]
     },
     "metadata": {},
     "output_type": "display_data"
    },
    {
     "data": {
      "text/html": [],
      "text/plain": [
       "<IPython.core.display.HTML object>"
      ]
     },
     "metadata": {},
     "output_type": "display_data"
    },
    {
     "data": {
      "text/html": [
       "<table border=\"1\" class=\"dataframe\">\n",
       "  <thead>\n",
       "    <tr style=\"text-align: left;\">\n",
       "      <th>epoch</th>\n",
       "      <th>train_loss</th>\n",
       "      <th>valid_loss</th>\n",
       "      <th>accuracy</th>\n",
       "      <th>time</th>\n",
       "    </tr>\n",
       "  </thead>\n",
       "  <tbody>\n",
       "    <tr>\n",
       "      <td>0</td>\n",
       "      <td>1.534567</td>\n",
       "      <td>1.387370</td>\n",
       "      <td>0.370000</td>\n",
       "      <td>00:24</td>\n",
       "    </tr>\n",
       "    <tr>\n",
       "      <td>1</td>\n",
       "      <td>1.372700</td>\n",
       "      <td>1.267696</td>\n",
       "      <td>0.445000</td>\n",
       "      <td>00:24</td>\n",
       "    </tr>\n",
       "    <tr>\n",
       "      <td>2</td>\n",
       "      <td>1.262778</td>\n",
       "      <td>1.243056</td>\n",
       "      <td>0.466000</td>\n",
       "      <td>00:24</td>\n",
       "    </tr>\n",
       "    <tr>\n",
       "      <td>3</td>\n",
       "      <td>1.087020</td>\n",
       "      <td>1.349650</td>\n",
       "      <td>0.463500</td>\n",
       "      <td>00:24</td>\n",
       "    </tr>\n",
       "    <tr>\n",
       "      <td>4</td>\n",
       "      <td>0.863860</td>\n",
       "      <td>1.417700</td>\n",
       "      <td>0.498500</td>\n",
       "      <td>00:24</td>\n",
       "    </tr>\n",
       "    <tr>\n",
       "      <td>5</td>\n",
       "      <td>0.636340</td>\n",
       "      <td>1.407572</td>\n",
       "      <td>0.510000</td>\n",
       "      <td>00:24</td>\n",
       "    </tr>\n",
       "  </tbody>\n",
       "</table>"
      ],
      "text/plain": [
       "<IPython.core.display.HTML object>"
      ]
     },
     "metadata": {},
     "output_type": "display_data"
    },
    {
     "data": {
      "text/html": [],
      "text/plain": [
       "<IPython.core.display.HTML object>"
      ]
     },
     "metadata": {},
     "output_type": "display_data"
    },
    {
     "name": "stdout",
     "output_type": "stream",
     "text": [
      "finished 4th bootstrap of size1600\n"
     ]
    },
    {
     "data": {
      "text/html": [],
      "text/plain": [
       "<IPython.core.display.HTML object>"
      ]
     },
     "metadata": {},
     "output_type": "display_data"
    },
    {
     "data": {
      "text/html": [],
      "text/plain": [
       "<IPython.core.display.HTML object>"
      ]
     },
     "metadata": {},
     "output_type": "display_data"
    },
    {
     "data": {
      "text/html": [
       "<table border=\"1\" class=\"dataframe\">\n",
       "  <thead>\n",
       "    <tr style=\"text-align: left;\">\n",
       "      <th>epoch</th>\n",
       "      <th>train_loss</th>\n",
       "      <th>valid_loss</th>\n",
       "      <th>accuracy</th>\n",
       "      <th>time</th>\n",
       "    </tr>\n",
       "  </thead>\n",
       "  <tbody>\n",
       "    <tr>\n",
       "      <td>0</td>\n",
       "      <td>1.417313</td>\n",
       "      <td>1.144111</td>\n",
       "      <td>0.504500</td>\n",
       "      <td>00:41</td>\n",
       "    </tr>\n",
       "    <tr>\n",
       "      <td>1</td>\n",
       "      <td>1.220240</td>\n",
       "      <td>1.266254</td>\n",
       "      <td>0.471000</td>\n",
       "      <td>00:41</td>\n",
       "    </tr>\n",
       "    <tr>\n",
       "      <td>2</td>\n",
       "      <td>1.009032</td>\n",
       "      <td>1.327256</td>\n",
       "      <td>0.472000</td>\n",
       "      <td>00:41</td>\n",
       "    </tr>\n",
       "    <tr>\n",
       "      <td>3</td>\n",
       "      <td>0.798603</td>\n",
       "      <td>1.472692</td>\n",
       "      <td>0.473000</td>\n",
       "      <td>00:41</td>\n",
       "    </tr>\n",
       "    <tr>\n",
       "      <td>4</td>\n",
       "      <td>0.521049</td>\n",
       "      <td>1.608442</td>\n",
       "      <td>0.509000</td>\n",
       "      <td>00:41</td>\n",
       "    </tr>\n",
       "    <tr>\n",
       "      <td>5</td>\n",
       "      <td>0.273208</td>\n",
       "      <td>1.661213</td>\n",
       "      <td>0.529500</td>\n",
       "      <td>00:41</td>\n",
       "    </tr>\n",
       "  </tbody>\n",
       "</table>"
      ],
      "text/plain": [
       "<IPython.core.display.HTML object>"
      ]
     },
     "metadata": {},
     "output_type": "display_data"
    },
    {
     "data": {
      "text/html": [],
      "text/plain": [
       "<IPython.core.display.HTML object>"
      ]
     },
     "metadata": {},
     "output_type": "display_data"
    },
    {
     "name": "stdout",
     "output_type": "stream",
     "text": [
      "finished 0th bootstrap of size3200\n"
     ]
    },
    {
     "data": {
      "text/html": [],
      "text/plain": [
       "<IPython.core.display.HTML object>"
      ]
     },
     "metadata": {},
     "output_type": "display_data"
    },
    {
     "data": {
      "text/html": [],
      "text/plain": [
       "<IPython.core.display.HTML object>"
      ]
     },
     "metadata": {},
     "output_type": "display_data"
    },
    {
     "data": {
      "text/html": [
       "<table border=\"1\" class=\"dataframe\">\n",
       "  <thead>\n",
       "    <tr style=\"text-align: left;\">\n",
       "      <th>epoch</th>\n",
       "      <th>train_loss</th>\n",
       "      <th>valid_loss</th>\n",
       "      <th>accuracy</th>\n",
       "      <th>time</th>\n",
       "    </tr>\n",
       "  </thead>\n",
       "  <tbody>\n",
       "    <tr>\n",
       "      <td>0</td>\n",
       "      <td>1.468476</td>\n",
       "      <td>1.209519</td>\n",
       "      <td>0.446500</td>\n",
       "      <td>00:40</td>\n",
       "    </tr>\n",
       "    <tr>\n",
       "      <td>1</td>\n",
       "      <td>1.276750</td>\n",
       "      <td>1.366828</td>\n",
       "      <td>0.386500</td>\n",
       "      <td>00:40</td>\n",
       "    </tr>\n",
       "    <tr>\n",
       "      <td>2</td>\n",
       "      <td>1.113351</td>\n",
       "      <td>1.313882</td>\n",
       "      <td>0.474500</td>\n",
       "      <td>00:41</td>\n",
       "    </tr>\n",
       "    <tr>\n",
       "      <td>3</td>\n",
       "      <td>0.879342</td>\n",
       "      <td>1.293684</td>\n",
       "      <td>0.511500</td>\n",
       "      <td>00:40</td>\n",
       "    </tr>\n",
       "    <tr>\n",
       "      <td>4</td>\n",
       "      <td>0.590605</td>\n",
       "      <td>1.517065</td>\n",
       "      <td>0.539000</td>\n",
       "      <td>00:40</td>\n",
       "    </tr>\n",
       "    <tr>\n",
       "      <td>5</td>\n",
       "      <td>0.340677</td>\n",
       "      <td>1.547577</td>\n",
       "      <td>0.547000</td>\n",
       "      <td>00:40</td>\n",
       "    </tr>\n",
       "  </tbody>\n",
       "</table>"
      ],
      "text/plain": [
       "<IPython.core.display.HTML object>"
      ]
     },
     "metadata": {},
     "output_type": "display_data"
    },
    {
     "data": {
      "text/html": [],
      "text/plain": [
       "<IPython.core.display.HTML object>"
      ]
     },
     "metadata": {},
     "output_type": "display_data"
    },
    {
     "name": "stdout",
     "output_type": "stream",
     "text": [
      "finished 1th bootstrap of size3200\n"
     ]
    },
    {
     "data": {
      "text/html": [],
      "text/plain": [
       "<IPython.core.display.HTML object>"
      ]
     },
     "metadata": {},
     "output_type": "display_data"
    },
    {
     "data": {
      "text/html": [],
      "text/plain": [
       "<IPython.core.display.HTML object>"
      ]
     },
     "metadata": {},
     "output_type": "display_data"
    },
    {
     "data": {
      "text/html": [
       "<table border=\"1\" class=\"dataframe\">\n",
       "  <thead>\n",
       "    <tr style=\"text-align: left;\">\n",
       "      <th>epoch</th>\n",
       "      <th>train_loss</th>\n",
       "      <th>valid_loss</th>\n",
       "      <th>accuracy</th>\n",
       "      <th>time</th>\n",
       "    </tr>\n",
       "  </thead>\n",
       "  <tbody>\n",
       "    <tr>\n",
       "      <td>0</td>\n",
       "      <td>1.329166</td>\n",
       "      <td>1.138865</td>\n",
       "      <td>0.513000</td>\n",
       "      <td>00:41</td>\n",
       "    </tr>\n",
       "    <tr>\n",
       "      <td>1</td>\n",
       "      <td>1.290036</td>\n",
       "      <td>1.164684</td>\n",
       "      <td>0.492500</td>\n",
       "      <td>00:41</td>\n",
       "    </tr>\n",
       "    <tr>\n",
       "      <td>2</td>\n",
       "      <td>1.202004</td>\n",
       "      <td>1.433791</td>\n",
       "      <td>0.435000</td>\n",
       "      <td>00:41</td>\n",
       "    </tr>\n",
       "    <tr>\n",
       "      <td>3</td>\n",
       "      <td>0.975362</td>\n",
       "      <td>1.218776</td>\n",
       "      <td>0.510500</td>\n",
       "      <td>00:41</td>\n",
       "    </tr>\n",
       "    <tr>\n",
       "      <td>4</td>\n",
       "      <td>0.680431</td>\n",
       "      <td>1.388007</td>\n",
       "      <td>0.518500</td>\n",
       "      <td>00:41</td>\n",
       "    </tr>\n",
       "    <tr>\n",
       "      <td>5</td>\n",
       "      <td>0.419616</td>\n",
       "      <td>1.429408</td>\n",
       "      <td>0.513000</td>\n",
       "      <td>00:41</td>\n",
       "    </tr>\n",
       "  </tbody>\n",
       "</table>"
      ],
      "text/plain": [
       "<IPython.core.display.HTML object>"
      ]
     },
     "metadata": {},
     "output_type": "display_data"
    },
    {
     "data": {
      "text/html": [],
      "text/plain": [
       "<IPython.core.display.HTML object>"
      ]
     },
     "metadata": {},
     "output_type": "display_data"
    },
    {
     "name": "stdout",
     "output_type": "stream",
     "text": [
      "finished 2th bootstrap of size3200\n"
     ]
    },
    {
     "data": {
      "text/html": [],
      "text/plain": [
       "<IPython.core.display.HTML object>"
      ]
     },
     "metadata": {},
     "output_type": "display_data"
    },
    {
     "data": {
      "text/html": [],
      "text/plain": [
       "<IPython.core.display.HTML object>"
      ]
     },
     "metadata": {},
     "output_type": "display_data"
    },
    {
     "data": {
      "text/html": [
       "<table border=\"1\" class=\"dataframe\">\n",
       "  <thead>\n",
       "    <tr style=\"text-align: left;\">\n",
       "      <th>epoch</th>\n",
       "      <th>train_loss</th>\n",
       "      <th>valid_loss</th>\n",
       "      <th>accuracy</th>\n",
       "      <th>time</th>\n",
       "    </tr>\n",
       "  </thead>\n",
       "  <tbody>\n",
       "    <tr>\n",
       "      <td>0</td>\n",
       "      <td>1.482510</td>\n",
       "      <td>1.198604</td>\n",
       "      <td>0.485000</td>\n",
       "      <td>00:41</td>\n",
       "    </tr>\n",
       "    <tr>\n",
       "      <td>1</td>\n",
       "      <td>1.312826</td>\n",
       "      <td>1.155263</td>\n",
       "      <td>0.497500</td>\n",
       "      <td>00:41</td>\n",
       "    </tr>\n",
       "    <tr>\n",
       "      <td>2</td>\n",
       "      <td>1.121486</td>\n",
       "      <td>1.242111</td>\n",
       "      <td>0.470500</td>\n",
       "      <td>00:41</td>\n",
       "    </tr>\n",
       "    <tr>\n",
       "      <td>3</td>\n",
       "      <td>0.887885</td>\n",
       "      <td>1.225361</td>\n",
       "      <td>0.508000</td>\n",
       "      <td>00:40</td>\n",
       "    </tr>\n",
       "    <tr>\n",
       "      <td>4</td>\n",
       "      <td>0.556433</td>\n",
       "      <td>1.614603</td>\n",
       "      <td>0.508500</td>\n",
       "      <td>00:41</td>\n",
       "    </tr>\n",
       "    <tr>\n",
       "      <td>5</td>\n",
       "      <td>0.298882</td>\n",
       "      <td>1.634897</td>\n",
       "      <td>0.512000</td>\n",
       "      <td>00:41</td>\n",
       "    </tr>\n",
       "  </tbody>\n",
       "</table>"
      ],
      "text/plain": [
       "<IPython.core.display.HTML object>"
      ]
     },
     "metadata": {},
     "output_type": "display_data"
    },
    {
     "data": {
      "text/html": [],
      "text/plain": [
       "<IPython.core.display.HTML object>"
      ]
     },
     "metadata": {},
     "output_type": "display_data"
    },
    {
     "name": "stdout",
     "output_type": "stream",
     "text": [
      "finished 3th bootstrap of size3200\n"
     ]
    },
    {
     "data": {
      "text/html": [],
      "text/plain": [
       "<IPython.core.display.HTML object>"
      ]
     },
     "metadata": {},
     "output_type": "display_data"
    },
    {
     "data": {
      "text/html": [],
      "text/plain": [
       "<IPython.core.display.HTML object>"
      ]
     },
     "metadata": {},
     "output_type": "display_data"
    },
    {
     "data": {
      "text/html": [
       "<table border=\"1\" class=\"dataframe\">\n",
       "  <thead>\n",
       "    <tr style=\"text-align: left;\">\n",
       "      <th>epoch</th>\n",
       "      <th>train_loss</th>\n",
       "      <th>valid_loss</th>\n",
       "      <th>accuracy</th>\n",
       "      <th>time</th>\n",
       "    </tr>\n",
       "  </thead>\n",
       "  <tbody>\n",
       "    <tr>\n",
       "      <td>0</td>\n",
       "      <td>1.418698</td>\n",
       "      <td>1.248735</td>\n",
       "      <td>0.462500</td>\n",
       "      <td>00:41</td>\n",
       "    </tr>\n",
       "    <tr>\n",
       "      <td>1</td>\n",
       "      <td>1.230651</td>\n",
       "      <td>1.265592</td>\n",
       "      <td>0.448000</td>\n",
       "      <td>00:41</td>\n",
       "    </tr>\n",
       "    <tr>\n",
       "      <td>2</td>\n",
       "      <td>1.083796</td>\n",
       "      <td>1.225656</td>\n",
       "      <td>0.513500</td>\n",
       "      <td>00:41</td>\n",
       "    </tr>\n",
       "    <tr>\n",
       "      <td>3</td>\n",
       "      <td>0.860097</td>\n",
       "      <td>1.288554</td>\n",
       "      <td>0.510500</td>\n",
       "      <td>00:41</td>\n",
       "    </tr>\n",
       "    <tr>\n",
       "      <td>4</td>\n",
       "      <td>0.551716</td>\n",
       "      <td>1.558972</td>\n",
       "      <td>0.526000</td>\n",
       "      <td>00:41</td>\n",
       "    </tr>\n",
       "    <tr>\n",
       "      <td>5</td>\n",
       "      <td>0.296110</td>\n",
       "      <td>1.623196</td>\n",
       "      <td>0.531000</td>\n",
       "      <td>00:41</td>\n",
       "    </tr>\n",
       "  </tbody>\n",
       "</table>"
      ],
      "text/plain": [
       "<IPython.core.display.HTML object>"
      ]
     },
     "metadata": {},
     "output_type": "display_data"
    },
    {
     "data": {
      "text/html": [],
      "text/plain": [
       "<IPython.core.display.HTML object>"
      ]
     },
     "metadata": {},
     "output_type": "display_data"
    },
    {
     "name": "stdout",
     "output_type": "stream",
     "text": [
      "finished 4th bootstrap of size3200\n"
     ]
    },
    {
     "data": {
      "text/html": [],
      "text/plain": [
       "<IPython.core.display.HTML object>"
      ]
     },
     "metadata": {},
     "output_type": "display_data"
    },
    {
     "data": {
      "text/html": [],
      "text/plain": [
       "<IPython.core.display.HTML object>"
      ]
     },
     "metadata": {},
     "output_type": "display_data"
    },
    {
     "data": {
      "text/html": [
       "<table border=\"1\" class=\"dataframe\">\n",
       "  <thead>\n",
       "    <tr style=\"text-align: left;\">\n",
       "      <th>epoch</th>\n",
       "      <th>train_loss</th>\n",
       "      <th>valid_loss</th>\n",
       "      <th>accuracy</th>\n",
       "      <th>time</th>\n",
       "    </tr>\n",
       "  </thead>\n",
       "  <tbody>\n",
       "    <tr>\n",
       "      <td>0</td>\n",
       "      <td>1.372360</td>\n",
       "      <td>1.235131</td>\n",
       "      <td>0.466000</td>\n",
       "      <td>01:08</td>\n",
       "    </tr>\n",
       "    <tr>\n",
       "      <td>1</td>\n",
       "      <td>1.172979</td>\n",
       "      <td>1.276995</td>\n",
       "      <td>0.436500</td>\n",
       "      <td>01:05</td>\n",
       "    </tr>\n",
       "    <tr>\n",
       "      <td>2</td>\n",
       "      <td>1.009644</td>\n",
       "      <td>1.188426</td>\n",
       "      <td>0.493000</td>\n",
       "      <td>01:00</td>\n",
       "    </tr>\n",
       "    <tr>\n",
       "      <td>3</td>\n",
       "      <td>0.754019</td>\n",
       "      <td>1.286361</td>\n",
       "      <td>0.521000</td>\n",
       "      <td>01:05</td>\n",
       "    </tr>\n",
       "    <tr>\n",
       "      <td>4</td>\n",
       "      <td>0.409847</td>\n",
       "      <td>1.569943</td>\n",
       "      <td>0.540500</td>\n",
       "      <td>01:06</td>\n",
       "    </tr>\n",
       "    <tr>\n",
       "      <td>5</td>\n",
       "      <td>0.193519</td>\n",
       "      <td>1.728959</td>\n",
       "      <td>0.528500</td>\n",
       "      <td>01:02</td>\n",
       "    </tr>\n",
       "  </tbody>\n",
       "</table>"
      ],
      "text/plain": [
       "<IPython.core.display.HTML object>"
      ]
     },
     "metadata": {},
     "output_type": "display_data"
    },
    {
     "data": {
      "text/html": [],
      "text/plain": [
       "<IPython.core.display.HTML object>"
      ]
     },
     "metadata": {},
     "output_type": "display_data"
    },
    {
     "name": "stdout",
     "output_type": "stream",
     "text": [
      "finished 0th bootstrap of size5000\n"
     ]
    },
    {
     "data": {
      "text/html": [],
      "text/plain": [
       "<IPython.core.display.HTML object>"
      ]
     },
     "metadata": {},
     "output_type": "display_data"
    },
    {
     "data": {
      "text/html": [],
      "text/plain": [
       "<IPython.core.display.HTML object>"
      ]
     },
     "metadata": {},
     "output_type": "display_data"
    },
    {
     "data": {
      "text/html": [
       "<table border=\"1\" class=\"dataframe\">\n",
       "  <thead>\n",
       "    <tr style=\"text-align: left;\">\n",
       "      <th>epoch</th>\n",
       "      <th>train_loss</th>\n",
       "      <th>valid_loss</th>\n",
       "      <th>accuracy</th>\n",
       "      <th>time</th>\n",
       "    </tr>\n",
       "  </thead>\n",
       "  <tbody>\n",
       "    <tr>\n",
       "      <td>0</td>\n",
       "      <td>1.333869</td>\n",
       "      <td>1.140887</td>\n",
       "      <td>0.478000</td>\n",
       "      <td>01:06</td>\n",
       "    </tr>\n",
       "    <tr>\n",
       "      <td>1</td>\n",
       "      <td>1.138797</td>\n",
       "      <td>1.184223</td>\n",
       "      <td>0.492000</td>\n",
       "      <td>01:04</td>\n",
       "    </tr>\n",
       "    <tr>\n",
       "      <td>2</td>\n",
       "      <td>0.970378</td>\n",
       "      <td>1.220060</td>\n",
       "      <td>0.510000</td>\n",
       "      <td>01:01</td>\n",
       "    </tr>\n",
       "    <tr>\n",
       "      <td>3</td>\n",
       "      <td>0.690909</td>\n",
       "      <td>1.364294</td>\n",
       "      <td>0.513500</td>\n",
       "      <td>01:03</td>\n",
       "    </tr>\n",
       "    <tr>\n",
       "      <td>4</td>\n",
       "      <td>0.399125</td>\n",
       "      <td>1.558723</td>\n",
       "      <td>0.530000</td>\n",
       "      <td>01:02</td>\n",
       "    </tr>\n",
       "    <tr>\n",
       "      <td>5</td>\n",
       "      <td>0.177495</td>\n",
       "      <td>1.699625</td>\n",
       "      <td>0.531500</td>\n",
       "      <td>01:00</td>\n",
       "    </tr>\n",
       "  </tbody>\n",
       "</table>"
      ],
      "text/plain": [
       "<IPython.core.display.HTML object>"
      ]
     },
     "metadata": {},
     "output_type": "display_data"
    },
    {
     "data": {
      "text/html": [],
      "text/plain": [
       "<IPython.core.display.HTML object>"
      ]
     },
     "metadata": {},
     "output_type": "display_data"
    },
    {
     "name": "stdout",
     "output_type": "stream",
     "text": [
      "finished 1th bootstrap of size5000\n"
     ]
    },
    {
     "data": {
      "text/html": [],
      "text/plain": [
       "<IPython.core.display.HTML object>"
      ]
     },
     "metadata": {},
     "output_type": "display_data"
    },
    {
     "data": {
      "text/html": [],
      "text/plain": [
       "<IPython.core.display.HTML object>"
      ]
     },
     "metadata": {},
     "output_type": "display_data"
    },
    {
     "data": {
      "text/html": [
       "<table border=\"1\" class=\"dataframe\">\n",
       "  <thead>\n",
       "    <tr style=\"text-align: left;\">\n",
       "      <th>epoch</th>\n",
       "      <th>train_loss</th>\n",
       "      <th>valid_loss</th>\n",
       "      <th>accuracy</th>\n",
       "      <th>time</th>\n",
       "    </tr>\n",
       "  </thead>\n",
       "  <tbody>\n",
       "    <tr>\n",
       "      <td>0</td>\n",
       "      <td>1.340772</td>\n",
       "      <td>1.191308</td>\n",
       "      <td>0.473000</td>\n",
       "      <td>01:04</td>\n",
       "    </tr>\n",
       "    <tr>\n",
       "      <td>1</td>\n",
       "      <td>1.183800</td>\n",
       "      <td>1.294558</td>\n",
       "      <td>0.444500</td>\n",
       "      <td>01:07</td>\n",
       "    </tr>\n",
       "    <tr>\n",
       "      <td>2</td>\n",
       "      <td>1.013810</td>\n",
       "      <td>1.192957</td>\n",
       "      <td>0.512000</td>\n",
       "      <td>01:00</td>\n",
       "    </tr>\n",
       "    <tr>\n",
       "      <td>3</td>\n",
       "      <td>0.714699</td>\n",
       "      <td>1.219219</td>\n",
       "      <td>0.539000</td>\n",
       "      <td>01:01</td>\n",
       "    </tr>\n",
       "    <tr>\n",
       "      <td>4</td>\n",
       "      <td>0.387494</td>\n",
       "      <td>1.504332</td>\n",
       "      <td>0.535000</td>\n",
       "      <td>01:05</td>\n",
       "    </tr>\n",
       "    <tr>\n",
       "      <td>5</td>\n",
       "      <td>0.174736</td>\n",
       "      <td>1.623274</td>\n",
       "      <td>0.533000</td>\n",
       "      <td>01:00</td>\n",
       "    </tr>\n",
       "  </tbody>\n",
       "</table>"
      ],
      "text/plain": [
       "<IPython.core.display.HTML object>"
      ]
     },
     "metadata": {},
     "output_type": "display_data"
    },
    {
     "data": {
      "text/html": [],
      "text/plain": [
       "<IPython.core.display.HTML object>"
      ]
     },
     "metadata": {},
     "output_type": "display_data"
    },
    {
     "name": "stdout",
     "output_type": "stream",
     "text": [
      "finished 2th bootstrap of size5000\n"
     ]
    },
    {
     "data": {
      "text/html": [],
      "text/plain": [
       "<IPython.core.display.HTML object>"
      ]
     },
     "metadata": {},
     "output_type": "display_data"
    },
    {
     "data": {
      "text/html": [],
      "text/plain": [
       "<IPython.core.display.HTML object>"
      ]
     },
     "metadata": {},
     "output_type": "display_data"
    },
    {
     "data": {
      "text/html": [
       "<table border=\"1\" class=\"dataframe\">\n",
       "  <thead>\n",
       "    <tr style=\"text-align: left;\">\n",
       "      <th>epoch</th>\n",
       "      <th>train_loss</th>\n",
       "      <th>valid_loss</th>\n",
       "      <th>accuracy</th>\n",
       "      <th>time</th>\n",
       "    </tr>\n",
       "  </thead>\n",
       "  <tbody>\n",
       "    <tr>\n",
       "      <td>0</td>\n",
       "      <td>1.313460</td>\n",
       "      <td>1.110629</td>\n",
       "      <td>0.525500</td>\n",
       "      <td>01:08</td>\n",
       "    </tr>\n",
       "    <tr>\n",
       "      <td>1</td>\n",
       "      <td>1.167672</td>\n",
       "      <td>1.165670</td>\n",
       "      <td>0.465000</td>\n",
       "      <td>00:59</td>\n",
       "    </tr>\n",
       "    <tr>\n",
       "      <td>2</td>\n",
       "      <td>1.032621</td>\n",
       "      <td>1.345404</td>\n",
       "      <td>0.471500</td>\n",
       "      <td>01:03</td>\n",
       "    </tr>\n",
       "    <tr>\n",
       "      <td>3</td>\n",
       "      <td>0.751403</td>\n",
       "      <td>1.293027</td>\n",
       "      <td>0.516000</td>\n",
       "      <td>01:00</td>\n",
       "    </tr>\n",
       "    <tr>\n",
       "      <td>4</td>\n",
       "      <td>0.441380</td>\n",
       "      <td>1.507152</td>\n",
       "      <td>0.520000</td>\n",
       "      <td>01:05</td>\n",
       "    </tr>\n",
       "    <tr>\n",
       "      <td>5</td>\n",
       "      <td>0.218820</td>\n",
       "      <td>1.633373</td>\n",
       "      <td>0.523000</td>\n",
       "      <td>01:06</td>\n",
       "    </tr>\n",
       "  </tbody>\n",
       "</table>"
      ],
      "text/plain": [
       "<IPython.core.display.HTML object>"
      ]
     },
     "metadata": {},
     "output_type": "display_data"
    },
    {
     "data": {
      "text/html": [],
      "text/plain": [
       "<IPython.core.display.HTML object>"
      ]
     },
     "metadata": {},
     "output_type": "display_data"
    },
    {
     "name": "stdout",
     "output_type": "stream",
     "text": [
      "finished 3th bootstrap of size5000\n"
     ]
    },
    {
     "data": {
      "text/html": [],
      "text/plain": [
       "<IPython.core.display.HTML object>"
      ]
     },
     "metadata": {},
     "output_type": "display_data"
    },
    {
     "data": {
      "text/html": [],
      "text/plain": [
       "<IPython.core.display.HTML object>"
      ]
     },
     "metadata": {},
     "output_type": "display_data"
    },
    {
     "data": {
      "text/html": [
       "<table border=\"1\" class=\"dataframe\">\n",
       "  <thead>\n",
       "    <tr style=\"text-align: left;\">\n",
       "      <th>epoch</th>\n",
       "      <th>train_loss</th>\n",
       "      <th>valid_loss</th>\n",
       "      <th>accuracy</th>\n",
       "      <th>time</th>\n",
       "    </tr>\n",
       "  </thead>\n",
       "  <tbody>\n",
       "    <tr>\n",
       "      <td>0</td>\n",
       "      <td>1.376810</td>\n",
       "      <td>1.271842</td>\n",
       "      <td>0.438000</td>\n",
       "      <td>01:06</td>\n",
       "    </tr>\n",
       "    <tr>\n",
       "      <td>1</td>\n",
       "      <td>1.163624</td>\n",
       "      <td>1.176779</td>\n",
       "      <td>0.475000</td>\n",
       "      <td>01:03</td>\n",
       "    </tr>\n",
       "    <tr>\n",
       "      <td>2</td>\n",
       "      <td>1.020828</td>\n",
       "      <td>1.206017</td>\n",
       "      <td>0.516000</td>\n",
       "      <td>01:01</td>\n",
       "    </tr>\n",
       "    <tr>\n",
       "      <td>3</td>\n",
       "      <td>0.743184</td>\n",
       "      <td>1.240857</td>\n",
       "      <td>0.527000</td>\n",
       "      <td>01:05</td>\n",
       "    </tr>\n",
       "    <tr>\n",
       "      <td>4</td>\n",
       "      <td>0.416629</td>\n",
       "      <td>1.563950</td>\n",
       "      <td>0.536500</td>\n",
       "      <td>01:07</td>\n",
       "    </tr>\n",
       "    <tr>\n",
       "      <td>5</td>\n",
       "      <td>0.190261</td>\n",
       "      <td>1.725763</td>\n",
       "      <td>0.539500</td>\n",
       "      <td>01:02</td>\n",
       "    </tr>\n",
       "  </tbody>\n",
       "</table>"
      ],
      "text/plain": [
       "<IPython.core.display.HTML object>"
      ]
     },
     "metadata": {},
     "output_type": "display_data"
    },
    {
     "data": {
      "text/html": [],
      "text/plain": [
       "<IPython.core.display.HTML object>"
      ]
     },
     "metadata": {},
     "output_type": "display_data"
    },
    {
     "name": "stdout",
     "output_type": "stream",
     "text": [
      "finished 4th bootstrap of size5000\n"
     ]
    }
   ],
   "source": [
    "res_yelp = algo_training_size_looper_dl([100, 200, 400, 800, 1600, 3200, 5000], YELP, train, val, 5 )"
   ]
  },
  {
   "cell_type": "code",
   "execution_count": 82,
   "metadata": {
    "ExecuteTime": {
     "end_time": "2020-01-09T06:41:30.464296Z",
     "start_time": "2020-01-09T06:41:30.437760Z"
    }
   },
   "outputs": [],
   "source": [
    "res_yelp.to_csv(DBPEDIA/\"dl_Algo_size_7_bert5_yelp.csv\", index = False)"
   ]
  },
  {
   "cell_type": "code",
   "execution_count": 83,
   "metadata": {
    "ExecuteTime": {
     "end_time": "2020-01-09T06:41:49.901275Z",
     "start_time": "2020-01-09T06:41:49.874368Z"
    }
   },
   "outputs": [],
   "source": [
    "a = pd.read_csv(DBPEDIA/\"dl_Algo_size_7_bert5_yelp.csv\")"
   ]
  },
  {
   "cell_type": "code",
   "execution_count": 101,
   "metadata": {
    "ExecuteTime": {
     "end_time": "2020-01-09T08:56:27.644338Z",
     "start_time": "2020-01-09T08:56:27.613814Z"
    }
   },
   "outputs": [
    {
     "data": {
      "text/html": [
       "<div>\n",
       "<style scoped>\n",
       "    .dataframe tbody tr th:only-of-type {\n",
       "        vertical-align: middle;\n",
       "    }\n",
       "\n",
       "    .dataframe tbody tr th {\n",
       "        vertical-align: top;\n",
       "    }\n",
       "\n",
       "    .dataframe thead th {\n",
       "        text-align: right;\n",
       "    }\n",
       "</style>\n",
       "<table border=\"1\" class=\"dataframe\">\n",
       "  <thead>\n",
       "    <tr style=\"text-align: right;\">\n",
       "      <th></th>\n",
       "      <th>model_name</th>\n",
       "      <th>training_size</th>\n",
       "      <th>accuracy</th>\n",
       "    </tr>\n",
       "  </thead>\n",
       "  <tbody>\n",
       "    <tr>\n",
       "      <th>0</th>\n",
       "      <td>bert</td>\n",
       "      <td>100</td>\n",
       "      <td>0.2085</td>\n",
       "    </tr>\n",
       "    <tr>\n",
       "      <th>1</th>\n",
       "      <td>bert</td>\n",
       "      <td>100</td>\n",
       "      <td>0.1925</td>\n",
       "    </tr>\n",
       "    <tr>\n",
       "      <th>2</th>\n",
       "      <td>bert</td>\n",
       "      <td>100</td>\n",
       "      <td>0.2280</td>\n",
       "    </tr>\n",
       "    <tr>\n",
       "      <th>3</th>\n",
       "      <td>bert</td>\n",
       "      <td>100</td>\n",
       "      <td>0.2390</td>\n",
       "    </tr>\n",
       "    <tr>\n",
       "      <th>4</th>\n",
       "      <td>bert</td>\n",
       "      <td>100</td>\n",
       "      <td>0.2075</td>\n",
       "    </tr>\n",
       "    <tr>\n",
       "      <th>5</th>\n",
       "      <td>bert</td>\n",
       "      <td>200</td>\n",
       "      <td>0.3165</td>\n",
       "    </tr>\n",
       "    <tr>\n",
       "      <th>6</th>\n",
       "      <td>bert</td>\n",
       "      <td>200</td>\n",
       "      <td>0.3340</td>\n",
       "    </tr>\n",
       "    <tr>\n",
       "      <th>7</th>\n",
       "      <td>bert</td>\n",
       "      <td>200</td>\n",
       "      <td>0.3635</td>\n",
       "    </tr>\n",
       "    <tr>\n",
       "      <th>8</th>\n",
       "      <td>bert</td>\n",
       "      <td>200</td>\n",
       "      <td>0.4025</td>\n",
       "    </tr>\n",
       "    <tr>\n",
       "      <th>9</th>\n",
       "      <td>bert</td>\n",
       "      <td>200</td>\n",
       "      <td>0.2440</td>\n",
       "    </tr>\n",
       "    <tr>\n",
       "      <th>10</th>\n",
       "      <td>bert</td>\n",
       "      <td>400</td>\n",
       "      <td>0.3490</td>\n",
       "    </tr>\n",
       "    <tr>\n",
       "      <th>11</th>\n",
       "      <td>bert</td>\n",
       "      <td>400</td>\n",
       "      <td>0.2885</td>\n",
       "    </tr>\n",
       "    <tr>\n",
       "      <th>12</th>\n",
       "      <td>bert</td>\n",
       "      <td>400</td>\n",
       "      <td>0.4025</td>\n",
       "    </tr>\n",
       "    <tr>\n",
       "      <th>13</th>\n",
       "      <td>bert</td>\n",
       "      <td>400</td>\n",
       "      <td>0.4460</td>\n",
       "    </tr>\n",
       "    <tr>\n",
       "      <th>14</th>\n",
       "      <td>bert</td>\n",
       "      <td>400</td>\n",
       "      <td>0.4350</td>\n",
       "    </tr>\n",
       "    <tr>\n",
       "      <th>15</th>\n",
       "      <td>bert</td>\n",
       "      <td>800</td>\n",
       "      <td>0.4940</td>\n",
       "    </tr>\n",
       "    <tr>\n",
       "      <th>16</th>\n",
       "      <td>bert</td>\n",
       "      <td>800</td>\n",
       "      <td>0.4535</td>\n",
       "    </tr>\n",
       "    <tr>\n",
       "      <th>17</th>\n",
       "      <td>bert</td>\n",
       "      <td>800</td>\n",
       "      <td>0.5015</td>\n",
       "    </tr>\n",
       "    <tr>\n",
       "      <th>18</th>\n",
       "      <td>bert</td>\n",
       "      <td>800</td>\n",
       "      <td>0.4995</td>\n",
       "    </tr>\n",
       "    <tr>\n",
       "      <th>19</th>\n",
       "      <td>bert</td>\n",
       "      <td>800</td>\n",
       "      <td>0.4895</td>\n",
       "    </tr>\n",
       "    <tr>\n",
       "      <th>20</th>\n",
       "      <td>bert</td>\n",
       "      <td>1600</td>\n",
       "      <td>0.4860</td>\n",
       "    </tr>\n",
       "    <tr>\n",
       "      <th>21</th>\n",
       "      <td>bert</td>\n",
       "      <td>1600</td>\n",
       "      <td>0.5120</td>\n",
       "    </tr>\n",
       "    <tr>\n",
       "      <th>22</th>\n",
       "      <td>bert</td>\n",
       "      <td>1600</td>\n",
       "      <td>0.5275</td>\n",
       "    </tr>\n",
       "    <tr>\n",
       "      <th>23</th>\n",
       "      <td>bert</td>\n",
       "      <td>1600</td>\n",
       "      <td>0.5175</td>\n",
       "    </tr>\n",
       "    <tr>\n",
       "      <th>24</th>\n",
       "      <td>bert</td>\n",
       "      <td>1600</td>\n",
       "      <td>0.5100</td>\n",
       "    </tr>\n",
       "    <tr>\n",
       "      <th>25</th>\n",
       "      <td>bert</td>\n",
       "      <td>3200</td>\n",
       "      <td>0.5295</td>\n",
       "    </tr>\n",
       "    <tr>\n",
       "      <th>26</th>\n",
       "      <td>bert</td>\n",
       "      <td>3200</td>\n",
       "      <td>0.5470</td>\n",
       "    </tr>\n",
       "    <tr>\n",
       "      <th>27</th>\n",
       "      <td>bert</td>\n",
       "      <td>3200</td>\n",
       "      <td>0.5130</td>\n",
       "    </tr>\n",
       "    <tr>\n",
       "      <th>28</th>\n",
       "      <td>bert</td>\n",
       "      <td>3200</td>\n",
       "      <td>0.5120</td>\n",
       "    </tr>\n",
       "    <tr>\n",
       "      <th>29</th>\n",
       "      <td>bert</td>\n",
       "      <td>3200</td>\n",
       "      <td>0.5310</td>\n",
       "    </tr>\n",
       "    <tr>\n",
       "      <th>30</th>\n",
       "      <td>bert</td>\n",
       "      <td>5000</td>\n",
       "      <td>0.5285</td>\n",
       "    </tr>\n",
       "    <tr>\n",
       "      <th>31</th>\n",
       "      <td>bert</td>\n",
       "      <td>5000</td>\n",
       "      <td>0.5315</td>\n",
       "    </tr>\n",
       "    <tr>\n",
       "      <th>32</th>\n",
       "      <td>bert</td>\n",
       "      <td>5000</td>\n",
       "      <td>0.5330</td>\n",
       "    </tr>\n",
       "    <tr>\n",
       "      <th>33</th>\n",
       "      <td>bert</td>\n",
       "      <td>5000</td>\n",
       "      <td>0.5230</td>\n",
       "    </tr>\n",
       "    <tr>\n",
       "      <th>34</th>\n",
       "      <td>bert</td>\n",
       "      <td>5000</td>\n",
       "      <td>0.5395</td>\n",
       "    </tr>\n",
       "  </tbody>\n",
       "</table>\n",
       "</div>"
      ],
      "text/plain": [
       "   model_name  training_size  accuracy\n",
       "0        bert            100    0.2085\n",
       "1        bert            100    0.1925\n",
       "2        bert            100    0.2280\n",
       "3        bert            100    0.2390\n",
       "4        bert            100    0.2075\n",
       "5        bert            200    0.3165\n",
       "6        bert            200    0.3340\n",
       "7        bert            200    0.3635\n",
       "8        bert            200    0.4025\n",
       "9        bert            200    0.2440\n",
       "10       bert            400    0.3490\n",
       "11       bert            400    0.2885\n",
       "12       bert            400    0.4025\n",
       "13       bert            400    0.4460\n",
       "14       bert            400    0.4350\n",
       "15       bert            800    0.4940\n",
       "16       bert            800    0.4535\n",
       "17       bert            800    0.5015\n",
       "18       bert            800    0.4995\n",
       "19       bert            800    0.4895\n",
       "20       bert           1600    0.4860\n",
       "21       bert           1600    0.5120\n",
       "22       bert           1600    0.5275\n",
       "23       bert           1600    0.5175\n",
       "24       bert           1600    0.5100\n",
       "25       bert           3200    0.5295\n",
       "26       bert           3200    0.5470\n",
       "27       bert           3200    0.5130\n",
       "28       bert           3200    0.5120\n",
       "29       bert           3200    0.5310\n",
       "30       bert           5000    0.5285\n",
       "31       bert           5000    0.5315\n",
       "32       bert           5000    0.5330\n",
       "33       bert           5000    0.5230\n",
       "34       bert           5000    0.5395"
      ]
     },
     "execution_count": 101,
     "metadata": {},
     "output_type": "execute_result"
    }
   ],
   "source": [
    "res_yelp"
   ]
  },
  {
   "cell_type": "code",
   "execution_count": null,
   "metadata": {},
   "outputs": [],
   "source": []
  },
  {
   "cell_type": "markdown",
   "metadata": {},
   "source": [
    "#### Amazon"
   ]
  },
  {
   "cell_type": "markdown",
   "metadata": {},
   "source": [
    "##### ML models"
   ]
  },
  {
   "cell_type": "code",
   "execution_count": 78,
   "metadata": {
    "ExecuteTime": {
     "end_time": "2020-01-08T06:53:11.841608Z",
     "start_time": "2020-01-08T06:53:11.810439Z"
    }
   },
   "outputs": [
    {
     "data": {
      "text/html": [
       "<div>\n",
       "<style scoped>\n",
       "    .dataframe tbody tr th:only-of-type {\n",
       "        vertical-align: middle;\n",
       "    }\n",
       "\n",
       "    .dataframe tbody tr th {\n",
       "        vertical-align: top;\n",
       "    }\n",
       "\n",
       "    .dataframe thead th {\n",
       "        text-align: right;\n",
       "    }\n",
       "</style>\n",
       "<table border=\"1\" class=\"dataframe\">\n",
       "  <thead>\n",
       "    <tr style=\"text-align: right;\">\n",
       "      <th></th>\n",
       "      <th>class</th>\n",
       "      <th>title</th>\n",
       "      <th>review</th>\n",
       "    </tr>\n",
       "  </thead>\n",
       "  <tbody>\n",
       "    <tr>\n",
       "      <th>0</th>\n",
       "      <td>1</td>\n",
       "      <td>Kindle version only</td>\n",
       "      <td>From reading the other comments the book sound...</td>\n",
       "    </tr>\n",
       "    <tr>\n",
       "      <th>1</th>\n",
       "      <td>4</td>\n",
       "      <td>A Perfect Family Film!!!</td>\n",
       "      <td>This was a really good movie about a little gi...</td>\n",
       "    </tr>\n",
       "  </tbody>\n",
       "</table>\n",
       "</div>"
      ],
      "text/plain": [
       "   class                     title  \\\n",
       "0      1       Kindle version only   \n",
       "1      4  A Perfect Family Film!!!   \n",
       "\n",
       "                                              review  \n",
       "0  From reading the other comments the book sound...  \n",
       "1  This was a really good movie about a little gi...  "
      ]
     },
     "execution_count": 78,
     "metadata": {},
     "output_type": "execute_result"
    }
   ],
   "source": [
    "models = [RandomForestClassifier(n_estimators=200, max_depth=3, random_state=0),\n",
    "          LinearSVC(),\n",
    "          MultinomialNB(),\n",
    "          LogisticRegression(random_state=0, max_iter= 200)]\n",
    "\n",
    "df = AMAZON_TRAIN\n",
    "df.head(2)"
   ]
  },
  {
   "cell_type": "code",
   "execution_count": 83,
   "metadata": {
    "ExecuteTime": {
     "end_time": "2020-01-08T06:54:38.918829Z",
     "start_time": "2020-01-08T06:54:32.896201Z"
    }
   },
   "outputs": [],
   "source": [
    "\n",
    "tfidf = TfidfVectorizer(sublinear_tf=True, norm='l2', min_df=5,\n",
    "                        encoding='latin-1', ngram_range=(1, 3), stop_words='english')\n",
    "\n",
    "# y_test has 2000 in size\n",
    "features = tfidf.fit_transform(df.review).toarray()\n",
    "labels = df['class']\n",
    "\n",
    "x_train, x_test, y_train, y_test = train_test_split(features, labels, test_size=2000, random_state=0)"
   ]
  },
  {
   "cell_type": "code",
   "execution_count": 84,
   "metadata": {
    "ExecuteTime": {
     "end_time": "2020-01-08T07:04:50.835492Z",
     "start_time": "2020-01-08T06:55:36.384127Z"
    }
   },
   "outputs": [
    {
     "name": "stdout",
     "output_type": "stream",
     "text": [
      "finished RandomForestClassifier, 0th bootstrap of size100\n",
      "finished LinearSVC, 0th bootstrap of size100\n",
      "finished MultinomialNB, 0th bootstrap of size100\n",
      "finished LogisticRegression, 0th bootstrap of size100\n",
      "finished RandomForestClassifier, 1th bootstrap of size100\n",
      "finished LinearSVC, 1th bootstrap of size100\n",
      "finished MultinomialNB, 1th bootstrap of size100\n",
      "finished LogisticRegression, 1th bootstrap of size100\n",
      "finished RandomForestClassifier, 2th bootstrap of size100\n",
      "finished LinearSVC, 2th bootstrap of size100\n",
      "finished MultinomialNB, 2th bootstrap of size100\n",
      "finished LogisticRegression, 2th bootstrap of size100\n",
      "finished RandomForestClassifier, 3th bootstrap of size100\n",
      "finished LinearSVC, 3th bootstrap of size100\n",
      "finished MultinomialNB, 3th bootstrap of size100\n",
      "finished LogisticRegression, 3th bootstrap of size100\n",
      "finished RandomForestClassifier, 4th bootstrap of size100\n",
      "finished LinearSVC, 4th bootstrap of size100\n",
      "finished MultinomialNB, 4th bootstrap of size100\n",
      "finished LogisticRegression, 4th bootstrap of size100\n",
      "finished RandomForestClassifier, 5th bootstrap of size100\n",
      "finished LinearSVC, 5th bootstrap of size100\n",
      "finished MultinomialNB, 5th bootstrap of size100\n",
      "finished LogisticRegression, 5th bootstrap of size100\n",
      "finished RandomForestClassifier, 0th bootstrap of size200\n",
      "finished LinearSVC, 0th bootstrap of size200\n",
      "finished MultinomialNB, 0th bootstrap of size200\n",
      "finished LogisticRegression, 0th bootstrap of size200\n",
      "finished RandomForestClassifier, 1th bootstrap of size200\n",
      "finished LinearSVC, 1th bootstrap of size200\n",
      "finished MultinomialNB, 1th bootstrap of size200\n",
      "finished LogisticRegression, 1th bootstrap of size200\n",
      "finished RandomForestClassifier, 2th bootstrap of size200\n",
      "finished LinearSVC, 2th bootstrap of size200\n",
      "finished MultinomialNB, 2th bootstrap of size200\n",
      "finished LogisticRegression, 2th bootstrap of size200\n",
      "finished RandomForestClassifier, 3th bootstrap of size200\n",
      "finished LinearSVC, 3th bootstrap of size200\n",
      "finished MultinomialNB, 3th bootstrap of size200\n",
      "finished LogisticRegression, 3th bootstrap of size200\n",
      "finished RandomForestClassifier, 4th bootstrap of size200\n",
      "finished LinearSVC, 4th bootstrap of size200\n",
      "finished MultinomialNB, 4th bootstrap of size200\n",
      "finished LogisticRegression, 4th bootstrap of size200\n",
      "finished RandomForestClassifier, 5th bootstrap of size200\n",
      "finished LinearSVC, 5th bootstrap of size200\n",
      "finished MultinomialNB, 5th bootstrap of size200\n",
      "finished LogisticRegression, 5th bootstrap of size200\n",
      "finished RandomForestClassifier, 0th bootstrap of size400\n",
      "finished LinearSVC, 0th bootstrap of size400\n",
      "finished MultinomialNB, 0th bootstrap of size400\n",
      "finished LogisticRegression, 0th bootstrap of size400\n",
      "finished RandomForestClassifier, 1th bootstrap of size400\n",
      "finished LinearSVC, 1th bootstrap of size400\n",
      "finished MultinomialNB, 1th bootstrap of size400\n",
      "finished LogisticRegression, 1th bootstrap of size400\n",
      "finished RandomForestClassifier, 2th bootstrap of size400\n",
      "finished LinearSVC, 2th bootstrap of size400\n",
      "finished MultinomialNB, 2th bootstrap of size400\n",
      "finished LogisticRegression, 2th bootstrap of size400\n",
      "finished RandomForestClassifier, 3th bootstrap of size400\n",
      "finished LinearSVC, 3th bootstrap of size400\n",
      "finished MultinomialNB, 3th bootstrap of size400\n",
      "finished LogisticRegression, 3th bootstrap of size400\n",
      "finished RandomForestClassifier, 4th bootstrap of size400\n",
      "finished LinearSVC, 4th bootstrap of size400\n",
      "finished MultinomialNB, 4th bootstrap of size400\n",
      "finished LogisticRegression, 4th bootstrap of size400\n",
      "finished RandomForestClassifier, 5th bootstrap of size400\n",
      "finished LinearSVC, 5th bootstrap of size400\n",
      "finished MultinomialNB, 5th bootstrap of size400\n",
      "finished LogisticRegression, 5th bootstrap of size400\n",
      "finished RandomForestClassifier, 0th bootstrap of size800\n",
      "finished LinearSVC, 0th bootstrap of size800\n",
      "finished MultinomialNB, 0th bootstrap of size800\n",
      "finished LogisticRegression, 0th bootstrap of size800\n",
      "finished RandomForestClassifier, 1th bootstrap of size800\n",
      "finished LinearSVC, 1th bootstrap of size800\n",
      "finished MultinomialNB, 1th bootstrap of size800\n",
      "finished LogisticRegression, 1th bootstrap of size800\n",
      "finished RandomForestClassifier, 2th bootstrap of size800\n",
      "finished LinearSVC, 2th bootstrap of size800\n",
      "finished MultinomialNB, 2th bootstrap of size800\n",
      "finished LogisticRegression, 2th bootstrap of size800\n",
      "finished RandomForestClassifier, 3th bootstrap of size800\n",
      "finished LinearSVC, 3th bootstrap of size800\n",
      "finished MultinomialNB, 3th bootstrap of size800\n",
      "finished LogisticRegression, 3th bootstrap of size800\n",
      "finished RandomForestClassifier, 4th bootstrap of size800\n",
      "finished LinearSVC, 4th bootstrap of size800\n",
      "finished MultinomialNB, 4th bootstrap of size800\n",
      "finished LogisticRegression, 4th bootstrap of size800\n",
      "finished RandomForestClassifier, 5th bootstrap of size800\n",
      "finished LinearSVC, 5th bootstrap of size800\n",
      "finished MultinomialNB, 5th bootstrap of size800\n",
      "finished LogisticRegression, 5th bootstrap of size800\n",
      "finished RandomForestClassifier, 0th bootstrap of size1600\n",
      "finished LinearSVC, 0th bootstrap of size1600\n",
      "finished MultinomialNB, 0th bootstrap of size1600\n",
      "finished LogisticRegression, 0th bootstrap of size1600\n",
      "finished RandomForestClassifier, 1th bootstrap of size1600\n",
      "finished LinearSVC, 1th bootstrap of size1600\n",
      "finished MultinomialNB, 1th bootstrap of size1600\n",
      "finished LogisticRegression, 1th bootstrap of size1600\n",
      "finished RandomForestClassifier, 2th bootstrap of size1600\n",
      "finished LinearSVC, 2th bootstrap of size1600\n",
      "finished MultinomialNB, 2th bootstrap of size1600\n",
      "finished LogisticRegression, 2th bootstrap of size1600\n",
      "finished RandomForestClassifier, 3th bootstrap of size1600\n",
      "finished LinearSVC, 3th bootstrap of size1600\n",
      "finished MultinomialNB, 3th bootstrap of size1600\n",
      "finished LogisticRegression, 3th bootstrap of size1600\n",
      "finished RandomForestClassifier, 4th bootstrap of size1600\n",
      "finished LinearSVC, 4th bootstrap of size1600\n",
      "finished MultinomialNB, 4th bootstrap of size1600\n",
      "finished LogisticRegression, 4th bootstrap of size1600\n",
      "finished RandomForestClassifier, 5th bootstrap of size1600\n",
      "finished LinearSVC, 5th bootstrap of size1600\n",
      "finished MultinomialNB, 5th bootstrap of size1600\n",
      "finished LogisticRegression, 5th bootstrap of size1600\n",
      "finished RandomForestClassifier, 0th bootstrap of size3200\n",
      "finished LinearSVC, 0th bootstrap of size3200\n",
      "finished MultinomialNB, 0th bootstrap of size3200\n",
      "finished LogisticRegression, 0th bootstrap of size3200\n",
      "finished RandomForestClassifier, 1th bootstrap of size3200\n",
      "finished LinearSVC, 1th bootstrap of size3200\n",
      "finished MultinomialNB, 1th bootstrap of size3200\n",
      "finished LogisticRegression, 1th bootstrap of size3200\n",
      "finished RandomForestClassifier, 2th bootstrap of size3200\n",
      "finished LinearSVC, 2th bootstrap of size3200\n",
      "finished MultinomialNB, 2th bootstrap of size3200\n",
      "finished LogisticRegression, 2th bootstrap of size3200\n",
      "finished RandomForestClassifier, 3th bootstrap of size3200\n",
      "finished LinearSVC, 3th bootstrap of size3200\n",
      "finished MultinomialNB, 3th bootstrap of size3200\n",
      "finished LogisticRegression, 3th bootstrap of size3200\n",
      "finished RandomForestClassifier, 4th bootstrap of size3200\n",
      "finished LinearSVC, 4th bootstrap of size3200\n",
      "finished MultinomialNB, 4th bootstrap of size3200\n",
      "finished LogisticRegression, 4th bootstrap of size3200\n",
      "finished RandomForestClassifier, 5th bootstrap of size3200\n",
      "finished LinearSVC, 5th bootstrap of size3200\n",
      "finished MultinomialNB, 5th bootstrap of size3200\n",
      "finished LogisticRegression, 5th bootstrap of size3200\n",
      "finished RandomForestClassifier, 0th bootstrap of size5000\n",
      "finished LinearSVC, 0th bootstrap of size5000\n",
      "finished MultinomialNB, 0th bootstrap of size5000\n",
      "finished LogisticRegression, 0th bootstrap of size5000\n",
      "finished RandomForestClassifier, 1th bootstrap of size5000\n",
      "finished LinearSVC, 1th bootstrap of size5000\n",
      "finished MultinomialNB, 1th bootstrap of size5000\n",
      "finished LogisticRegression, 1th bootstrap of size5000\n",
      "finished RandomForestClassifier, 2th bootstrap of size5000\n",
      "finished LinearSVC, 2th bootstrap of size5000\n",
      "finished MultinomialNB, 2th bootstrap of size5000\n",
      "finished LogisticRegression, 2th bootstrap of size5000\n",
      "finished RandomForestClassifier, 3th bootstrap of size5000\n",
      "finished LinearSVC, 3th bootstrap of size5000\n"
     ]
    },
    {
     "name": "stdout",
     "output_type": "stream",
     "text": [
      "finished MultinomialNB, 3th bootstrap of size5000\n",
      "finished LogisticRegression, 3th bootstrap of size5000\n",
      "finished RandomForestClassifier, 4th bootstrap of size5000\n",
      "finished LinearSVC, 4th bootstrap of size5000\n",
      "finished MultinomialNB, 4th bootstrap of size5000\n",
      "finished LogisticRegression, 4th bootstrap of size5000\n",
      "finished RandomForestClassifier, 5th bootstrap of size5000\n",
      "finished LinearSVC, 5th bootstrap of size5000\n",
      "finished MultinomialNB, 5th bootstrap of size5000\n",
      "finished LogisticRegression, 5th bootstrap of size5000\n"
     ]
    }
   ],
   "source": [
    "res = algo_training_size_looper([100, 200, 400, 800, 1600, 3200, 5000], x_train, y_train, x_test, y_test)"
   ]
  },
  {
   "cell_type": "code",
   "execution_count": 85,
   "metadata": {
    "ExecuteTime": {
     "end_time": "2020-01-08T07:06:58.738393Z",
     "start_time": "2020-01-08T07:06:58.711029Z"
    }
   },
   "outputs": [],
   "source": [
    "res.to_csv(AMAZON/\"Algo_size_7_4_10_amazon.csv\")"
   ]
  },
  {
   "cell_type": "code",
   "execution_count": 86,
   "metadata": {
    "ExecuteTime": {
     "end_time": "2020-01-08T07:07:07.484034Z",
     "start_time": "2020-01-08T07:07:07.452206Z"
    }
   },
   "outputs": [
    {
     "data": {
      "text/html": [
       "<div>\n",
       "<style scoped>\n",
       "    .dataframe tbody tr th:only-of-type {\n",
       "        vertical-align: middle;\n",
       "    }\n",
       "\n",
       "    .dataframe tbody tr th {\n",
       "        vertical-align: top;\n",
       "    }\n",
       "\n",
       "    .dataframe thead th {\n",
       "        text-align: right;\n",
       "    }\n",
       "</style>\n",
       "<table border=\"1\" class=\"dataframe\">\n",
       "  <thead>\n",
       "    <tr style=\"text-align: right;\">\n",
       "      <th></th>\n",
       "      <th>model_name</th>\n",
       "      <th>training_size</th>\n",
       "      <th>accuracy</th>\n",
       "    </tr>\n",
       "  </thead>\n",
       "  <tbody>\n",
       "    <tr>\n",
       "      <th>0</th>\n",
       "      <td>RandomForestClassifier</td>\n",
       "      <td>100</td>\n",
       "      <td>0.2215</td>\n",
       "    </tr>\n",
       "    <tr>\n",
       "      <th>1</th>\n",
       "      <td>LinearSVC</td>\n",
       "      <td>100</td>\n",
       "      <td>0.2645</td>\n",
       "    </tr>\n",
       "    <tr>\n",
       "      <th>2</th>\n",
       "      <td>MultinomialNB</td>\n",
       "      <td>100</td>\n",
       "      <td>0.2300</td>\n",
       "    </tr>\n",
       "    <tr>\n",
       "      <th>3</th>\n",
       "      <td>LogisticRegression</td>\n",
       "      <td>100</td>\n",
       "      <td>0.2335</td>\n",
       "    </tr>\n",
       "    <tr>\n",
       "      <th>4</th>\n",
       "      <td>RandomForestClassifier</td>\n",
       "      <td>100</td>\n",
       "      <td>0.2085</td>\n",
       "    </tr>\n",
       "  </tbody>\n",
       "</table>\n",
       "</div>"
      ],
      "text/plain": [
       "               model_name  training_size  accuracy\n",
       "0  RandomForestClassifier            100    0.2215\n",
       "1               LinearSVC            100    0.2645\n",
       "2           MultinomialNB            100    0.2300\n",
       "3      LogisticRegression            100    0.2335\n",
       "4  RandomForestClassifier            100    0.2085"
      ]
     },
     "execution_count": 86,
     "metadata": {},
     "output_type": "execute_result"
    }
   ],
   "source": [
    "res.head()"
   ]
  },
  {
   "cell_type": "markdown",
   "metadata": {},
   "source": [
    "##### DL models"
   ]
  },
  {
   "cell_type": "code",
   "execution_count": 168,
   "metadata": {
    "ExecuteTime": {
     "end_time": "2020-01-09T09:39:09.322905Z",
     "start_time": "2020-01-09T09:39:09.289618Z"
    }
   },
   "outputs": [
    {
     "data": {
      "text/html": [
       "<div>\n",
       "<style scoped>\n",
       "    .dataframe tbody tr th:only-of-type {\n",
       "        vertical-align: middle;\n",
       "    }\n",
       "\n",
       "    .dataframe tbody tr th {\n",
       "        vertical-align: top;\n",
       "    }\n",
       "\n",
       "    .dataframe thead th {\n",
       "        text-align: right;\n",
       "    }\n",
       "</style>\n",
       "<table border=\"1\" class=\"dataframe\">\n",
       "  <thead>\n",
       "    <tr style=\"text-align: right;\">\n",
       "      <th></th>\n",
       "      <th>class</th>\n",
       "      <th>title</th>\n",
       "      <th>review</th>\n",
       "    </tr>\n",
       "  </thead>\n",
       "  <tbody>\n",
       "    <tr>\n",
       "      <th>0</th>\n",
       "      <td>1</td>\n",
       "      <td>Kindle version only</td>\n",
       "      <td>From reading the other comments the book sound...</td>\n",
       "    </tr>\n",
       "    <tr>\n",
       "      <th>1</th>\n",
       "      <td>4</td>\n",
       "      <td>A Perfect Family Film!!!</td>\n",
       "      <td>This was a really good movie about a little gi...</td>\n",
       "    </tr>\n",
       "    <tr>\n",
       "      <th>2</th>\n",
       "      <td>2</td>\n",
       "      <td>Not helpful</td>\n",
       "      <td>This book by Kaplan was not helpful at all. I ...</td>\n",
       "    </tr>\n",
       "    <tr>\n",
       "      <th>3</th>\n",
       "      <td>3</td>\n",
       "      <td>The Emporer is Naked</td>\n",
       "      <td>No clothes to speak of if you ask me. Side 1 i...</td>\n",
       "    </tr>\n",
       "    <tr>\n",
       "      <th>4</th>\n",
       "      <td>3</td>\n",
       "      <td>Great for children who aren't fanatics about d...</td>\n",
       "      <td>Clean and decent entertainment. Saw it on the ...</td>\n",
       "    </tr>\n",
       "  </tbody>\n",
       "</table>\n",
       "</div>"
      ],
      "text/plain": [
       "   class                                              title  \\\n",
       "0      1                                Kindle version only   \n",
       "1      4                           A Perfect Family Film!!!   \n",
       "2      2                                        Not helpful   \n",
       "3      3                               The Emporer is Naked   \n",
       "4      3  Great for children who aren't fanatics about d...   \n",
       "\n",
       "                                              review  \n",
       "0  From reading the other comments the book sound...  \n",
       "1  This was a really good movie about a little gi...  \n",
       "2  This book by Kaplan was not helpful at all. I ...  \n",
       "3  No clothes to speak of if you ask me. Side 1 i...  \n",
       "4  Clean and decent entertainment. Saw it on the ...  "
      ]
     },
     "execution_count": 168,
     "metadata": {},
     "output_type": "execute_result"
    }
   ],
   "source": [
    "df = AMAZON_TRAIN\n",
    "df.head()"
   ]
  },
  {
   "cell_type": "code",
   "execution_count": 169,
   "metadata": {
    "ExecuteTime": {
     "end_time": "2020-01-09T09:39:16.014953Z",
     "start_time": "2020-01-09T09:39:12.104789Z"
    }
   },
   "outputs": [],
   "source": [
    "x_train, x_test, y_train, y_test = train_test_split(df['review'], df['class'], test_size=2000, random_state=0)\n",
    "bert_model = BertForSequenceClassification.from_pretrained(config.bert_model_name, num_labels= 5 )"
   ]
  },
  {
   "cell_type": "code",
   "execution_count": 170,
   "metadata": {
    "ExecuteTime": {
     "end_time": "2020-01-09T09:39:24.311882Z",
     "start_time": "2020-01-09T09:39:24.264670Z"
    }
   },
   "outputs": [
    {
     "data": {
      "text/html": [
       "<div>\n",
       "<style scoped>\n",
       "    .dataframe tbody tr th:only-of-type {\n",
       "        vertical-align: middle;\n",
       "    }\n",
       "\n",
       "    .dataframe tbody tr th {\n",
       "        vertical-align: top;\n",
       "    }\n",
       "\n",
       "    .dataframe thead th {\n",
       "        text-align: right;\n",
       "    }\n",
       "</style>\n",
       "<table border=\"1\" class=\"dataframe\">\n",
       "  <thead>\n",
       "    <tr style=\"text-align: right;\">\n",
       "      <th></th>\n",
       "      <th>review</th>\n",
       "      <th>class</th>\n",
       "    </tr>\n",
       "  </thead>\n",
       "  <tbody>\n",
       "    <tr>\n",
       "      <th>0</th>\n",
       "      <td>i have found in the past that hosa cables aren...</td>\n",
       "      <td>5</td>\n",
       "    </tr>\n",
       "    <tr>\n",
       "      <th>1</th>\n",
       "      <td>While this book contains thorough coverage of ...</td>\n",
       "      <td>5</td>\n",
       "    </tr>\n",
       "    <tr>\n",
       "      <th>2</th>\n",
       "      <td>(1)Fails to grill both sides of meat easily; t...</td>\n",
       "      <td>2</td>\n",
       "    </tr>\n",
       "    <tr>\n",
       "      <th>3</th>\n",
       "      <td>With all the movies that have come out lately ...</td>\n",
       "      <td>4</td>\n",
       "    </tr>\n",
       "    <tr>\n",
       "      <th>4</th>\n",
       "      <td>We rented this movie because I enjoyed the fir...</td>\n",
       "      <td>2</td>\n",
       "    </tr>\n",
       "    <tr>\n",
       "      <th>...</th>\n",
       "      <td>...</td>\n",
       "      <td>...</td>\n",
       "    </tr>\n",
       "    <tr>\n",
       "      <th>1995</th>\n",
       "      <td>I am the author of this book. It is no longer ...</td>\n",
       "      <td>4</td>\n",
       "    </tr>\n",
       "    <tr>\n",
       "      <th>1996</th>\n",
       "      <td>I read the review written by someone from New ...</td>\n",
       "      <td>5</td>\n",
       "    </tr>\n",
       "    <tr>\n",
       "      <th>1997</th>\n",
       "      <td>I love the idea and it was a quick easy read. ...</td>\n",
       "      <td>4</td>\n",
       "    </tr>\n",
       "    <tr>\n",
       "      <th>1998</th>\n",
       "      <td>This design works fine on my fiddles, but on o...</td>\n",
       "      <td>1</td>\n",
       "    </tr>\n",
       "    <tr>\n",
       "      <th>1999</th>\n",
       "      <td>This album is in regular rotation among my Chr...</td>\n",
       "      <td>4</td>\n",
       "    </tr>\n",
       "  </tbody>\n",
       "</table>\n",
       "<p>2000 rows × 2 columns</p>\n",
       "</div>"
      ],
      "text/plain": [
       "                                                 review  class\n",
       "0     i have found in the past that hosa cables aren...      5\n",
       "1     While this book contains thorough coverage of ...      5\n",
       "2     (1)Fails to grill both sides of meat easily; t...      2\n",
       "3     With all the movies that have come out lately ...      4\n",
       "4     We rented this movie because I enjoyed the fir...      2\n",
       "...                                                 ...    ...\n",
       "1995  I am the author of this book. It is no longer ...      4\n",
       "1996  I read the review written by someone from New ...      5\n",
       "1997  I love the idea and it was a quick easy read. ...      4\n",
       "1998  This design works fine on my fiddles, but on o...      1\n",
       "1999  This album is in regular rotation among my Chr...      4\n",
       "\n",
       "[2000 rows x 2 columns]"
      ]
     },
     "execution_count": 170,
     "metadata": {},
     "output_type": "execute_result"
    }
   ],
   "source": [
    "train = pd.DataFrame({'review': x_train, \n",
    "                      'class': y_train})\n",
    "val = pd.DataFrame({'review': x_test, \n",
    "                      'class': y_test})\n",
    "train = train.reset_index()[['review', 'class']]\n",
    "val = val.reset_index()[['review', 'class']]\n",
    "val"
   ]
  },
  {
   "cell_type": "code",
   "execution_count": 171,
   "metadata": {
    "ExecuteTime": {
     "end_time": "2020-01-09T09:39:26.612780Z",
     "start_time": "2020-01-09T09:39:26.584533Z"
    }
   },
   "outputs": [],
   "source": [
    "text_cols = \"review\"\n",
    "label_cols = 'class'"
   ]
  },
  {
   "cell_type": "code",
   "execution_count": 172,
   "metadata": {
    "ExecuteTime": {
     "end_time": "2020-01-09T09:39:36.084237Z",
     "start_time": "2020-01-09T09:39:29.664621Z"
    }
   },
   "outputs": [
    {
     "data": {
      "text/html": [],
      "text/plain": [
       "<IPython.core.display.HTML object>"
      ]
     },
     "metadata": {},
     "output_type": "display_data"
    },
    {
     "data": {
      "text/html": [],
      "text/plain": [
       "<IPython.core.display.HTML object>"
      ]
     },
     "metadata": {},
     "output_type": "display_data"
    },
    {
     "ename": "RuntimeError",
     "evalue": "CUDA error: device-side assert triggered",
     "output_type": "error",
     "traceback": [
      "\u001b[0;31m---------------------------------------------------------------------------\u001b[0m",
      "\u001b[0;31mRuntimeError\u001b[0m                              Traceback (most recent call last)",
      "\u001b[0;32m<ipython-input-172-f767812624c0>\u001b[0m in \u001b[0;36m<module>\u001b[0;34m\u001b[0m\n\u001b[0;32m----> 1\u001b[0;31m \u001b[0mres_amazon\u001b[0m \u001b[0;34m=\u001b[0m \u001b[0malgo_training_size_looper_dl\u001b[0m\u001b[0;34m(\u001b[0m\u001b[0;34m[\u001b[0m\u001b[0;36m100\u001b[0m\u001b[0;34m,\u001b[0m \u001b[0;36m200\u001b[0m\u001b[0;34m,\u001b[0m \u001b[0;36m400\u001b[0m\u001b[0;34m,\u001b[0m \u001b[0;36m800\u001b[0m\u001b[0;34m,\u001b[0m \u001b[0;36m1600\u001b[0m\u001b[0;34m,\u001b[0m \u001b[0;36m3200\u001b[0m\u001b[0;34m,\u001b[0m \u001b[0;36m5000\u001b[0m\u001b[0;34m]\u001b[0m\u001b[0;34m,\u001b[0m \u001b[0mAMAZON\u001b[0m\u001b[0;34m,\u001b[0m \u001b[0mtrain\u001b[0m\u001b[0;34m,\u001b[0m \u001b[0mval\u001b[0m\u001b[0;34m,\u001b[0m \u001b[0;36m5\u001b[0m \u001b[0;34m)\u001b[0m\u001b[0;34m\u001b[0m\u001b[0;34m\u001b[0m\u001b[0m\n\u001b[0m",
      "\u001b[0;32m<ipython-input-147-9746bc471981>\u001b[0m in \u001b[0;36malgo_training_size_looper_dl\u001b[0;34m(size, path, train, val, num_labels, bs)\u001b[0m\n\u001b[1;32m     33\u001b[0m             learner = Learner(\n\u001b[1;32m     34\u001b[0m             \u001b[0mdatabunch\u001b[0m\u001b[0;34m,\u001b[0m \u001b[0mbert_model\u001b[0m\u001b[0;34m,\u001b[0m\u001b[0;34m\u001b[0m\u001b[0;34m\u001b[0m\u001b[0m\n\u001b[0;32m---> 35\u001b[0;31m             loss_func=loss_func, metrics = accuracy)\n\u001b[0m\u001b[1;32m     36\u001b[0m \u001b[0;34m\u001b[0m\u001b[0m\n\u001b[1;32m     37\u001b[0m             \u001b[0mlearner\u001b[0m\u001b[0;34m.\u001b[0m\u001b[0mfit_one_cycle\u001b[0m\u001b[0;34m(\u001b[0m\u001b[0;36m5\u001b[0m\u001b[0;34m,\u001b[0m \u001b[0;36m3\u001b[0m\u001b[0;34m*\u001b[0m \u001b[0;36m1e-04\u001b[0m\u001b[0;34m)\u001b[0m\u001b[0;34m\u001b[0m\u001b[0;34m\u001b[0m\u001b[0m\n",
      "\u001b[0;32m<string>\u001b[0m in \u001b[0;36m__init__\u001b[0;34m(self, data, model, opt_func, loss_func, metrics, true_wd, bn_wd, wd, train_bn, path, model_dir, callback_fns, callbacks, layer_groups, add_time, silent)\u001b[0m\n",
      "\u001b[0;32m/opt/anaconda3/lib/python3.7/site-packages/fastai/basic_train.py\u001b[0m in \u001b[0;36m__post_init__\u001b[0;34m(self)\u001b[0m\n\u001b[1;32m    163\u001b[0m         \u001b[0;34m\"Setup path,metrics, callbacks and ensure model directory exists.\"\u001b[0m\u001b[0;34m\u001b[0m\u001b[0;34m\u001b[0m\u001b[0m\n\u001b[1;32m    164\u001b[0m         \u001b[0mself\u001b[0m\u001b[0;34m.\u001b[0m\u001b[0mpath\u001b[0m \u001b[0;34m=\u001b[0m \u001b[0mPath\u001b[0m\u001b[0;34m(\u001b[0m\u001b[0mifnone\u001b[0m\u001b[0;34m(\u001b[0m\u001b[0mself\u001b[0m\u001b[0;34m.\u001b[0m\u001b[0mpath\u001b[0m\u001b[0;34m,\u001b[0m \u001b[0mself\u001b[0m\u001b[0;34m.\u001b[0m\u001b[0mdata\u001b[0m\u001b[0;34m.\u001b[0m\u001b[0mpath\u001b[0m\u001b[0;34m)\u001b[0m\u001b[0;34m)\u001b[0m\u001b[0;34m\u001b[0m\u001b[0;34m\u001b[0m\u001b[0m\n\u001b[0;32m--> 165\u001b[0;31m         \u001b[0mself\u001b[0m\u001b[0;34m.\u001b[0m\u001b[0mmodel\u001b[0m \u001b[0;34m=\u001b[0m \u001b[0mself\u001b[0m\u001b[0;34m.\u001b[0m\u001b[0mmodel\u001b[0m\u001b[0;34m.\u001b[0m\u001b[0mto\u001b[0m\u001b[0;34m(\u001b[0m\u001b[0mself\u001b[0m\u001b[0;34m.\u001b[0m\u001b[0mdata\u001b[0m\u001b[0;34m.\u001b[0m\u001b[0mdevice\u001b[0m\u001b[0;34m)\u001b[0m\u001b[0;34m\u001b[0m\u001b[0;34m\u001b[0m\u001b[0m\n\u001b[0m\u001b[1;32m    166\u001b[0m         \u001b[0mself\u001b[0m\u001b[0;34m.\u001b[0m\u001b[0mloss_func\u001b[0m \u001b[0;34m=\u001b[0m \u001b[0mself\u001b[0m\u001b[0;34m.\u001b[0m\u001b[0mloss_func\u001b[0m \u001b[0;32mor\u001b[0m \u001b[0mself\u001b[0m\u001b[0;34m.\u001b[0m\u001b[0mdata\u001b[0m\u001b[0;34m.\u001b[0m\u001b[0mloss_func\u001b[0m\u001b[0;34m\u001b[0m\u001b[0;34m\u001b[0m\u001b[0m\n\u001b[1;32m    167\u001b[0m         \u001b[0mself\u001b[0m\u001b[0;34m.\u001b[0m\u001b[0mmetrics\u001b[0m\u001b[0;34m=\u001b[0m\u001b[0mlistify\u001b[0m\u001b[0;34m(\u001b[0m\u001b[0mself\u001b[0m\u001b[0;34m.\u001b[0m\u001b[0mmetrics\u001b[0m\u001b[0;34m)\u001b[0m\u001b[0;34m\u001b[0m\u001b[0;34m\u001b[0m\u001b[0m\n",
      "\u001b[0;32m/opt/anaconda3/lib/python3.7/site-packages/torch/nn/modules/module.py\u001b[0m in \u001b[0;36mto\u001b[0;34m(self, *args, **kwargs)\u001b[0m\n\u001b[1;32m    424\u001b[0m             \u001b[0;32mreturn\u001b[0m \u001b[0mt\u001b[0m\u001b[0;34m.\u001b[0m\u001b[0mto\u001b[0m\u001b[0;34m(\u001b[0m\u001b[0mdevice\u001b[0m\u001b[0;34m,\u001b[0m \u001b[0mdtype\u001b[0m \u001b[0;32mif\u001b[0m \u001b[0mt\u001b[0m\u001b[0;34m.\u001b[0m\u001b[0mis_floating_point\u001b[0m\u001b[0;34m(\u001b[0m\u001b[0;34m)\u001b[0m \u001b[0;32melse\u001b[0m \u001b[0;32mNone\u001b[0m\u001b[0;34m,\u001b[0m \u001b[0mnon_blocking\u001b[0m\u001b[0;34m)\u001b[0m\u001b[0;34m\u001b[0m\u001b[0;34m\u001b[0m\u001b[0m\n\u001b[1;32m    425\u001b[0m \u001b[0;34m\u001b[0m\u001b[0m\n\u001b[0;32m--> 426\u001b[0;31m         \u001b[0;32mreturn\u001b[0m \u001b[0mself\u001b[0m\u001b[0;34m.\u001b[0m\u001b[0m_apply\u001b[0m\u001b[0;34m(\u001b[0m\u001b[0mconvert\u001b[0m\u001b[0;34m)\u001b[0m\u001b[0;34m\u001b[0m\u001b[0;34m\u001b[0m\u001b[0m\n\u001b[0m\u001b[1;32m    427\u001b[0m \u001b[0;34m\u001b[0m\u001b[0m\n\u001b[1;32m    428\u001b[0m     \u001b[0;32mdef\u001b[0m \u001b[0mregister_backward_hook\u001b[0m\u001b[0;34m(\u001b[0m\u001b[0mself\u001b[0m\u001b[0;34m,\u001b[0m \u001b[0mhook\u001b[0m\u001b[0;34m)\u001b[0m\u001b[0;34m:\u001b[0m\u001b[0;34m\u001b[0m\u001b[0;34m\u001b[0m\u001b[0m\n",
      "\u001b[0;32m/opt/anaconda3/lib/python3.7/site-packages/torch/nn/modules/module.py\u001b[0m in \u001b[0;36m_apply\u001b[0;34m(self, fn)\u001b[0m\n\u001b[1;32m    200\u001b[0m     \u001b[0;32mdef\u001b[0m \u001b[0m_apply\u001b[0m\u001b[0;34m(\u001b[0m\u001b[0mself\u001b[0m\u001b[0;34m,\u001b[0m \u001b[0mfn\u001b[0m\u001b[0;34m)\u001b[0m\u001b[0;34m:\u001b[0m\u001b[0;34m\u001b[0m\u001b[0;34m\u001b[0m\u001b[0m\n\u001b[1;32m    201\u001b[0m         \u001b[0;32mfor\u001b[0m \u001b[0mmodule\u001b[0m \u001b[0;32min\u001b[0m \u001b[0mself\u001b[0m\u001b[0;34m.\u001b[0m\u001b[0mchildren\u001b[0m\u001b[0;34m(\u001b[0m\u001b[0;34m)\u001b[0m\u001b[0;34m:\u001b[0m\u001b[0;34m\u001b[0m\u001b[0;34m\u001b[0m\u001b[0m\n\u001b[0;32m--> 202\u001b[0;31m             \u001b[0mmodule\u001b[0m\u001b[0;34m.\u001b[0m\u001b[0m_apply\u001b[0m\u001b[0;34m(\u001b[0m\u001b[0mfn\u001b[0m\u001b[0;34m)\u001b[0m\u001b[0;34m\u001b[0m\u001b[0;34m\u001b[0m\u001b[0m\n\u001b[0m\u001b[1;32m    203\u001b[0m \u001b[0;34m\u001b[0m\u001b[0m\n\u001b[1;32m    204\u001b[0m         \u001b[0;32mdef\u001b[0m \u001b[0mcompute_should_use_set_data\u001b[0m\u001b[0;34m(\u001b[0m\u001b[0mtensor\u001b[0m\u001b[0;34m,\u001b[0m \u001b[0mtensor_applied\u001b[0m\u001b[0;34m)\u001b[0m\u001b[0;34m:\u001b[0m\u001b[0;34m\u001b[0m\u001b[0;34m\u001b[0m\u001b[0m\n",
      "\u001b[0;32m/opt/anaconda3/lib/python3.7/site-packages/torch/nn/modules/module.py\u001b[0m in \u001b[0;36m_apply\u001b[0;34m(self, fn)\u001b[0m\n\u001b[1;32m    200\u001b[0m     \u001b[0;32mdef\u001b[0m \u001b[0m_apply\u001b[0m\u001b[0;34m(\u001b[0m\u001b[0mself\u001b[0m\u001b[0;34m,\u001b[0m \u001b[0mfn\u001b[0m\u001b[0;34m)\u001b[0m\u001b[0;34m:\u001b[0m\u001b[0;34m\u001b[0m\u001b[0;34m\u001b[0m\u001b[0m\n\u001b[1;32m    201\u001b[0m         \u001b[0;32mfor\u001b[0m \u001b[0mmodule\u001b[0m \u001b[0;32min\u001b[0m \u001b[0mself\u001b[0m\u001b[0;34m.\u001b[0m\u001b[0mchildren\u001b[0m\u001b[0;34m(\u001b[0m\u001b[0;34m)\u001b[0m\u001b[0;34m:\u001b[0m\u001b[0;34m\u001b[0m\u001b[0;34m\u001b[0m\u001b[0m\n\u001b[0;32m--> 202\u001b[0;31m             \u001b[0mmodule\u001b[0m\u001b[0;34m.\u001b[0m\u001b[0m_apply\u001b[0m\u001b[0;34m(\u001b[0m\u001b[0mfn\u001b[0m\u001b[0;34m)\u001b[0m\u001b[0;34m\u001b[0m\u001b[0;34m\u001b[0m\u001b[0m\n\u001b[0m\u001b[1;32m    203\u001b[0m \u001b[0;34m\u001b[0m\u001b[0m\n\u001b[1;32m    204\u001b[0m         \u001b[0;32mdef\u001b[0m \u001b[0mcompute_should_use_set_data\u001b[0m\u001b[0;34m(\u001b[0m\u001b[0mtensor\u001b[0m\u001b[0;34m,\u001b[0m \u001b[0mtensor_applied\u001b[0m\u001b[0;34m)\u001b[0m\u001b[0;34m:\u001b[0m\u001b[0;34m\u001b[0m\u001b[0;34m\u001b[0m\u001b[0m\n",
      "\u001b[0;32m/opt/anaconda3/lib/python3.7/site-packages/torch/nn/modules/module.py\u001b[0m in \u001b[0;36m_apply\u001b[0;34m(self, fn)\u001b[0m\n\u001b[1;32m    200\u001b[0m     \u001b[0;32mdef\u001b[0m \u001b[0m_apply\u001b[0m\u001b[0;34m(\u001b[0m\u001b[0mself\u001b[0m\u001b[0;34m,\u001b[0m \u001b[0mfn\u001b[0m\u001b[0;34m)\u001b[0m\u001b[0;34m:\u001b[0m\u001b[0;34m\u001b[0m\u001b[0;34m\u001b[0m\u001b[0m\n\u001b[1;32m    201\u001b[0m         \u001b[0;32mfor\u001b[0m \u001b[0mmodule\u001b[0m \u001b[0;32min\u001b[0m \u001b[0mself\u001b[0m\u001b[0;34m.\u001b[0m\u001b[0mchildren\u001b[0m\u001b[0;34m(\u001b[0m\u001b[0;34m)\u001b[0m\u001b[0;34m:\u001b[0m\u001b[0;34m\u001b[0m\u001b[0;34m\u001b[0m\u001b[0m\n\u001b[0;32m--> 202\u001b[0;31m             \u001b[0mmodule\u001b[0m\u001b[0;34m.\u001b[0m\u001b[0m_apply\u001b[0m\u001b[0;34m(\u001b[0m\u001b[0mfn\u001b[0m\u001b[0;34m)\u001b[0m\u001b[0;34m\u001b[0m\u001b[0;34m\u001b[0m\u001b[0m\n\u001b[0m\u001b[1;32m    203\u001b[0m \u001b[0;34m\u001b[0m\u001b[0m\n\u001b[1;32m    204\u001b[0m         \u001b[0;32mdef\u001b[0m \u001b[0mcompute_should_use_set_data\u001b[0m\u001b[0;34m(\u001b[0m\u001b[0mtensor\u001b[0m\u001b[0;34m,\u001b[0m \u001b[0mtensor_applied\u001b[0m\u001b[0;34m)\u001b[0m\u001b[0;34m:\u001b[0m\u001b[0;34m\u001b[0m\u001b[0;34m\u001b[0m\u001b[0m\n",
      "\u001b[0;32m/opt/anaconda3/lib/python3.7/site-packages/torch/nn/modules/module.py\u001b[0m in \u001b[0;36m_apply\u001b[0;34m(self, fn)\u001b[0m\n\u001b[1;32m    222\u001b[0m                 \u001b[0;31m# `with torch.no_grad():`\u001b[0m\u001b[0;34m\u001b[0m\u001b[0;34m\u001b[0m\u001b[0;34m\u001b[0m\u001b[0m\n\u001b[1;32m    223\u001b[0m                 \u001b[0;32mwith\u001b[0m \u001b[0mtorch\u001b[0m\u001b[0;34m.\u001b[0m\u001b[0mno_grad\u001b[0m\u001b[0;34m(\u001b[0m\u001b[0;34m)\u001b[0m\u001b[0;34m:\u001b[0m\u001b[0;34m\u001b[0m\u001b[0;34m\u001b[0m\u001b[0m\n\u001b[0;32m--> 224\u001b[0;31m                     \u001b[0mparam_applied\u001b[0m \u001b[0;34m=\u001b[0m \u001b[0mfn\u001b[0m\u001b[0;34m(\u001b[0m\u001b[0mparam\u001b[0m\u001b[0;34m)\u001b[0m\u001b[0;34m\u001b[0m\u001b[0;34m\u001b[0m\u001b[0m\n\u001b[0m\u001b[1;32m    225\u001b[0m                 \u001b[0mshould_use_set_data\u001b[0m \u001b[0;34m=\u001b[0m \u001b[0mcompute_should_use_set_data\u001b[0m\u001b[0;34m(\u001b[0m\u001b[0mparam\u001b[0m\u001b[0;34m,\u001b[0m \u001b[0mparam_applied\u001b[0m\u001b[0;34m)\u001b[0m\u001b[0;34m\u001b[0m\u001b[0;34m\u001b[0m\u001b[0m\n\u001b[1;32m    226\u001b[0m                 \u001b[0;32mif\u001b[0m \u001b[0mshould_use_set_data\u001b[0m\u001b[0;34m:\u001b[0m\u001b[0;34m\u001b[0m\u001b[0;34m\u001b[0m\u001b[0m\n",
      "\u001b[0;32m/opt/anaconda3/lib/python3.7/site-packages/torch/nn/modules/module.py\u001b[0m in \u001b[0;36mconvert\u001b[0;34m(t)\u001b[0m\n\u001b[1;32m    422\u001b[0m \u001b[0;34m\u001b[0m\u001b[0m\n\u001b[1;32m    423\u001b[0m         \u001b[0;32mdef\u001b[0m \u001b[0mconvert\u001b[0m\u001b[0;34m(\u001b[0m\u001b[0mt\u001b[0m\u001b[0;34m)\u001b[0m\u001b[0;34m:\u001b[0m\u001b[0;34m\u001b[0m\u001b[0;34m\u001b[0m\u001b[0m\n\u001b[0;32m--> 424\u001b[0;31m             \u001b[0;32mreturn\u001b[0m \u001b[0mt\u001b[0m\u001b[0;34m.\u001b[0m\u001b[0mto\u001b[0m\u001b[0;34m(\u001b[0m\u001b[0mdevice\u001b[0m\u001b[0;34m,\u001b[0m \u001b[0mdtype\u001b[0m \u001b[0;32mif\u001b[0m \u001b[0mt\u001b[0m\u001b[0;34m.\u001b[0m\u001b[0mis_floating_point\u001b[0m\u001b[0;34m(\u001b[0m\u001b[0;34m)\u001b[0m \u001b[0;32melse\u001b[0m \u001b[0;32mNone\u001b[0m\u001b[0;34m,\u001b[0m \u001b[0mnon_blocking\u001b[0m\u001b[0;34m)\u001b[0m\u001b[0;34m\u001b[0m\u001b[0;34m\u001b[0m\u001b[0m\n\u001b[0m\u001b[1;32m    425\u001b[0m \u001b[0;34m\u001b[0m\u001b[0m\n\u001b[1;32m    426\u001b[0m         \u001b[0;32mreturn\u001b[0m \u001b[0mself\u001b[0m\u001b[0;34m.\u001b[0m\u001b[0m_apply\u001b[0m\u001b[0;34m(\u001b[0m\u001b[0mconvert\u001b[0m\u001b[0;34m)\u001b[0m\u001b[0;34m\u001b[0m\u001b[0;34m\u001b[0m\u001b[0m\n",
      "\u001b[0;31mRuntimeError\u001b[0m: CUDA error: device-side assert triggered"
     ]
    }
   ],
   "source": [
    "res_amazon = algo_training_size_looper_dl([100, 200, 400, 800, 1600, 3200, 5000], AMAZON, train, val, 5 )"
   ]
  },
  {
   "cell_type": "code",
   "execution_count": 93,
   "metadata": {
    "ExecuteTime": {
     "end_time": "2020-01-09T08:12:05.252543Z",
     "start_time": "2020-01-09T08:12:05.227381Z"
    }
   },
   "outputs": [],
   "source": [
    "res_amazon.to_csv(AMAZON/\"dl_Algo_size_7_bert5_amazon.csv\", index = False)"
   ]
  },
  {
   "cell_type": "code",
   "execution_count": 95,
   "metadata": {
    "ExecuteTime": {
     "end_time": "2020-01-09T08:12:50.373080Z",
     "start_time": "2020-01-09T08:12:50.346555Z"
    }
   },
   "outputs": [
    {
     "data": {
      "text/plain": [
       "0     0.2450\n",
       "1     0.2375\n",
       "2     0.2060\n",
       "3     0.2300\n",
       "4     0.2185\n",
       "5     0.3450\n",
       "6     0.4125\n",
       "7     0.2520\n",
       "8     0.2535\n",
       "9     0.4000\n",
       "10    0.4235\n",
       "11    0.3930\n",
       "12    0.3685\n",
       "13    0.3815\n",
       "14    0.4520\n",
       "15    0.1790\n",
       "16    0.4365\n",
       "17    0.1995\n",
       "18    0.4660\n",
       "19    0.4575\n",
       "20    0.4795\n",
       "21    0.4740\n",
       "22    0.4675\n",
       "23    0.4690\n",
       "24    0.1790\n",
       "25    0.4920\n",
       "26    0.5005\n",
       "27    0.4905\n",
       "28    0.5000\n",
       "29    0.4730\n",
       "30    0.5070\n",
       "31    0.4850\n",
       "32    0.5060\n",
       "33    0.4740\n",
       "34    0.5085\n",
       "Name: accuracy, dtype: float64"
      ]
     },
     "execution_count": 95,
     "metadata": {},
     "output_type": "execute_result"
    }
   ],
   "source": [
    "res_amazon['accuracy']"
   ]
  },
  {
   "cell_type": "code",
   "execution_count": null,
   "metadata": {},
   "outputs": [],
   "source": []
  },
  {
   "cell_type": "code",
   "execution_count": null,
   "metadata": {},
   "outputs": [],
   "source": []
  },
  {
   "cell_type": "code",
   "execution_count": null,
   "metadata": {},
   "outputs": [],
   "source": []
  },
  {
   "cell_type": "code",
   "execution_count": null,
   "metadata": {},
   "outputs": [],
   "source": []
  },
  {
   "cell_type": "code",
   "execution_count": null,
   "metadata": {},
   "outputs": [],
   "source": []
  },
  {
   "cell_type": "markdown",
   "metadata": {},
   "source": [
    "#### Customer complaints"
   ]
  },
  {
   "cell_type": "markdown",
   "metadata": {},
   "source": [
    "##### ML models"
   ]
  },
  {
   "cell_type": "code",
   "execution_count": 90,
   "metadata": {
    "ExecuteTime": {
     "end_time": "2020-01-08T07:08:14.223351Z",
     "start_time": "2020-01-08T07:08:14.190120Z"
    }
   },
   "outputs": [
    {
     "data": {
      "text/html": [
       "<div>\n",
       "<style scoped>\n",
       "    .dataframe tbody tr th:only-of-type {\n",
       "        vertical-align: middle;\n",
       "    }\n",
       "\n",
       "    .dataframe tbody tr th {\n",
       "        vertical-align: top;\n",
       "    }\n",
       "\n",
       "    .dataframe thead th {\n",
       "        text-align: right;\n",
       "    }\n",
       "</style>\n",
       "<table border=\"1\" class=\"dataframe\">\n",
       "  <thead>\n",
       "    <tr style=\"text-align: right;\">\n",
       "      <th></th>\n",
       "      <th>product</th>\n",
       "      <th>complaint</th>\n",
       "    </tr>\n",
       "  </thead>\n",
       "  <tbody>\n",
       "    <tr>\n",
       "      <th>0</th>\n",
       "      <td>Debt collection</td>\n",
       "      <td>For over a month, I have been getting calls fr...</td>\n",
       "    </tr>\n",
       "    <tr>\n",
       "      <th>1</th>\n",
       "      <td>Credit reporting, credit repair services, or o...</td>\n",
       "      <td>XX/XX/XXXX, a series on letters to XXXX XXXX X...</td>\n",
       "    </tr>\n",
       "  </tbody>\n",
       "</table>\n",
       "</div>"
      ],
      "text/plain": [
       "                                             product  \\\n",
       "0                                    Debt collection   \n",
       "1  Credit reporting, credit repair services, or o...   \n",
       "\n",
       "                                           complaint  \n",
       "0  For over a month, I have been getting calls fr...  \n",
       "1  XX/XX/XXXX, a series on letters to XXXX XXXX X...  "
      ]
     },
     "execution_count": 90,
     "metadata": {},
     "output_type": "execute_result"
    }
   ],
   "source": [
    "models = [RandomForestClassifier(n_estimators=200, max_depth=3, random_state=0),\n",
    "          LinearSVC(),\n",
    "          MultinomialNB(),\n",
    "          LogisticRegression(random_state=0, max_iter= 200)]\n",
    "\n",
    "df = CUSTOMER_TRAIN\n",
    "df.head(2)"
   ]
  },
  {
   "cell_type": "code",
   "execution_count": 91,
   "metadata": {
    "ExecuteTime": {
     "end_time": "2020-01-08T07:09:22.373108Z",
     "start_time": "2020-01-08T07:09:08.659405Z"
    }
   },
   "outputs": [],
   "source": [
    "\n",
    "tfidf = TfidfVectorizer(sublinear_tf=True, norm='l2', min_df=5,\n",
    "                        encoding='latin-1', ngram_range=(1, 3), stop_words='english')\n",
    "\n",
    "# y_test has 2000 in size\n",
    "features = tfidf.fit_transform(df.complaint).toarray()\n",
    "labels = df['product']\n",
    "\n",
    "x_train, x_test, y_train, y_test = train_test_split(features, labels, test_size=2000, random_state=0)"
   ]
  },
  {
   "cell_type": "code",
   "execution_count": 92,
   "metadata": {
    "ExecuteTime": {
     "end_time": "2020-01-08T07:49:52.243161Z",
     "start_time": "2020-01-08T07:09:25.501039Z"
    }
   },
   "outputs": [
    {
     "name": "stdout",
     "output_type": "stream",
     "text": [
      "finished RandomForestClassifier, 0th bootstrap of size100\n",
      "finished LinearSVC, 0th bootstrap of size100\n",
      "finished MultinomialNB, 0th bootstrap of size100\n",
      "finished LogisticRegression, 0th bootstrap of size100\n",
      "finished RandomForestClassifier, 1th bootstrap of size100\n",
      "finished LinearSVC, 1th bootstrap of size100\n",
      "finished MultinomialNB, 1th bootstrap of size100\n",
      "finished LogisticRegression, 1th bootstrap of size100\n",
      "finished RandomForestClassifier, 2th bootstrap of size100\n",
      "finished LinearSVC, 2th bootstrap of size100\n",
      "finished MultinomialNB, 2th bootstrap of size100\n",
      "finished LogisticRegression, 2th bootstrap of size100\n",
      "finished RandomForestClassifier, 3th bootstrap of size100\n",
      "finished LinearSVC, 3th bootstrap of size100\n",
      "finished MultinomialNB, 3th bootstrap of size100\n",
      "finished LogisticRegression, 3th bootstrap of size100\n",
      "finished RandomForestClassifier, 4th bootstrap of size100\n",
      "finished LinearSVC, 4th bootstrap of size100\n",
      "finished MultinomialNB, 4th bootstrap of size100\n",
      "finished LogisticRegression, 4th bootstrap of size100\n",
      "finished RandomForestClassifier, 5th bootstrap of size100\n",
      "finished LinearSVC, 5th bootstrap of size100\n",
      "finished MultinomialNB, 5th bootstrap of size100\n",
      "finished LogisticRegression, 5th bootstrap of size100\n",
      "finished RandomForestClassifier, 0th bootstrap of size200\n",
      "finished LinearSVC, 0th bootstrap of size200\n",
      "finished MultinomialNB, 0th bootstrap of size200\n",
      "finished LogisticRegression, 0th bootstrap of size200\n",
      "finished RandomForestClassifier, 1th bootstrap of size200\n",
      "finished LinearSVC, 1th bootstrap of size200\n",
      "finished MultinomialNB, 1th bootstrap of size200\n",
      "finished LogisticRegression, 1th bootstrap of size200\n",
      "finished RandomForestClassifier, 2th bootstrap of size200\n",
      "finished LinearSVC, 2th bootstrap of size200\n",
      "finished MultinomialNB, 2th bootstrap of size200\n",
      "finished LogisticRegression, 2th bootstrap of size200\n",
      "finished RandomForestClassifier, 3th bootstrap of size200\n",
      "finished LinearSVC, 3th bootstrap of size200\n",
      "finished MultinomialNB, 3th bootstrap of size200\n",
      "finished LogisticRegression, 3th bootstrap of size200\n",
      "finished RandomForestClassifier, 4th bootstrap of size200\n",
      "finished LinearSVC, 4th bootstrap of size200\n",
      "finished MultinomialNB, 4th bootstrap of size200\n",
      "finished LogisticRegression, 4th bootstrap of size200\n",
      "finished RandomForestClassifier, 5th bootstrap of size200\n",
      "finished LinearSVC, 5th bootstrap of size200\n",
      "finished MultinomialNB, 5th bootstrap of size200\n",
      "finished LogisticRegression, 5th bootstrap of size200\n",
      "finished RandomForestClassifier, 0th bootstrap of size400\n",
      "finished LinearSVC, 0th bootstrap of size400\n",
      "finished MultinomialNB, 0th bootstrap of size400\n",
      "finished LogisticRegression, 0th bootstrap of size400\n",
      "finished RandomForestClassifier, 1th bootstrap of size400\n",
      "finished LinearSVC, 1th bootstrap of size400\n",
      "finished MultinomialNB, 1th bootstrap of size400\n",
      "finished LogisticRegression, 1th bootstrap of size400\n",
      "finished RandomForestClassifier, 2th bootstrap of size400\n",
      "finished LinearSVC, 2th bootstrap of size400\n",
      "finished MultinomialNB, 2th bootstrap of size400\n",
      "finished LogisticRegression, 2th bootstrap of size400\n",
      "finished RandomForestClassifier, 3th bootstrap of size400\n",
      "finished LinearSVC, 3th bootstrap of size400\n",
      "finished MultinomialNB, 3th bootstrap of size400\n",
      "finished LogisticRegression, 3th bootstrap of size400\n",
      "finished RandomForestClassifier, 4th bootstrap of size400\n",
      "finished LinearSVC, 4th bootstrap of size400\n",
      "finished MultinomialNB, 4th bootstrap of size400\n",
      "finished LogisticRegression, 4th bootstrap of size400\n",
      "finished RandomForestClassifier, 5th bootstrap of size400\n",
      "finished LinearSVC, 5th bootstrap of size400\n",
      "finished MultinomialNB, 5th bootstrap of size400\n",
      "finished LogisticRegression, 5th bootstrap of size400\n",
      "finished RandomForestClassifier, 0th bootstrap of size800\n",
      "finished LinearSVC, 0th bootstrap of size800\n",
      "finished MultinomialNB, 0th bootstrap of size800\n",
      "finished LogisticRegression, 0th bootstrap of size800\n",
      "finished RandomForestClassifier, 1th bootstrap of size800\n",
      "finished LinearSVC, 1th bootstrap of size800\n",
      "finished MultinomialNB, 1th bootstrap of size800\n",
      "finished LogisticRegression, 1th bootstrap of size800\n",
      "finished RandomForestClassifier, 2th bootstrap of size800\n",
      "finished LinearSVC, 2th bootstrap of size800\n",
      "finished MultinomialNB, 2th bootstrap of size800\n",
      "finished LogisticRegression, 2th bootstrap of size800\n",
      "finished RandomForestClassifier, 3th bootstrap of size800\n",
      "finished LinearSVC, 3th bootstrap of size800\n",
      "finished MultinomialNB, 3th bootstrap of size800\n",
      "finished LogisticRegression, 3th bootstrap of size800\n",
      "finished RandomForestClassifier, 4th bootstrap of size800\n",
      "finished LinearSVC, 4th bootstrap of size800\n",
      "finished MultinomialNB, 4th bootstrap of size800\n",
      "finished LogisticRegression, 4th bootstrap of size800\n",
      "finished RandomForestClassifier, 5th bootstrap of size800\n",
      "finished LinearSVC, 5th bootstrap of size800\n",
      "finished MultinomialNB, 5th bootstrap of size800\n",
      "finished LogisticRegression, 5th bootstrap of size800\n",
      "finished RandomForestClassifier, 0th bootstrap of size1600\n",
      "finished LinearSVC, 0th bootstrap of size1600\n",
      "finished MultinomialNB, 0th bootstrap of size1600\n",
      "finished LogisticRegression, 0th bootstrap of size1600\n",
      "finished RandomForestClassifier, 1th bootstrap of size1600\n",
      "finished LinearSVC, 1th bootstrap of size1600\n",
      "finished MultinomialNB, 1th bootstrap of size1600\n",
      "finished LogisticRegression, 1th bootstrap of size1600\n",
      "finished RandomForestClassifier, 2th bootstrap of size1600\n",
      "finished LinearSVC, 2th bootstrap of size1600\n",
      "finished MultinomialNB, 2th bootstrap of size1600\n",
      "finished LogisticRegression, 2th bootstrap of size1600\n",
      "finished RandomForestClassifier, 3th bootstrap of size1600\n",
      "finished LinearSVC, 3th bootstrap of size1600\n",
      "finished MultinomialNB, 3th bootstrap of size1600\n",
      "finished LogisticRegression, 3th bootstrap of size1600\n",
      "finished RandomForestClassifier, 4th bootstrap of size1600\n",
      "finished LinearSVC, 4th bootstrap of size1600\n",
      "finished MultinomialNB, 4th bootstrap of size1600\n",
      "finished LogisticRegression, 4th bootstrap of size1600\n",
      "finished RandomForestClassifier, 5th bootstrap of size1600\n",
      "finished LinearSVC, 5th bootstrap of size1600\n",
      "finished MultinomialNB, 5th bootstrap of size1600\n",
      "finished LogisticRegression, 5th bootstrap of size1600\n",
      "finished RandomForestClassifier, 0th bootstrap of size3200\n",
      "finished LinearSVC, 0th bootstrap of size3200\n",
      "finished MultinomialNB, 0th bootstrap of size3200\n",
      "finished LogisticRegression, 0th bootstrap of size3200\n",
      "finished RandomForestClassifier, 1th bootstrap of size3200\n",
      "finished LinearSVC, 1th bootstrap of size3200\n",
      "finished MultinomialNB, 1th bootstrap of size3200\n",
      "finished LogisticRegression, 1th bootstrap of size3200\n",
      "finished RandomForestClassifier, 2th bootstrap of size3200\n",
      "finished LinearSVC, 2th bootstrap of size3200\n",
      "finished MultinomialNB, 2th bootstrap of size3200\n",
      "finished LogisticRegression, 2th bootstrap of size3200\n",
      "finished RandomForestClassifier, 3th bootstrap of size3200\n",
      "finished LinearSVC, 3th bootstrap of size3200\n",
      "finished MultinomialNB, 3th bootstrap of size3200\n",
      "finished LogisticRegression, 3th bootstrap of size3200\n",
      "finished RandomForestClassifier, 4th bootstrap of size3200\n",
      "finished LinearSVC, 4th bootstrap of size3200\n",
      "finished MultinomialNB, 4th bootstrap of size3200\n",
      "finished LogisticRegression, 4th bootstrap of size3200\n",
      "finished RandomForestClassifier, 5th bootstrap of size3200\n",
      "finished LinearSVC, 5th bootstrap of size3200\n",
      "finished MultinomialNB, 5th bootstrap of size3200\n",
      "finished LogisticRegression, 5th bootstrap of size3200\n",
      "finished RandomForestClassifier, 0th bootstrap of size5000\n",
      "finished LinearSVC, 0th bootstrap of size5000\n",
      "finished MultinomialNB, 0th bootstrap of size5000\n",
      "finished LogisticRegression, 0th bootstrap of size5000\n",
      "finished RandomForestClassifier, 1th bootstrap of size5000\n",
      "finished LinearSVC, 1th bootstrap of size5000\n",
      "finished MultinomialNB, 1th bootstrap of size5000\n",
      "finished LogisticRegression, 1th bootstrap of size5000\n",
      "finished RandomForestClassifier, 2th bootstrap of size5000\n",
      "finished LinearSVC, 2th bootstrap of size5000\n",
      "finished MultinomialNB, 2th bootstrap of size5000\n",
      "finished LogisticRegression, 2th bootstrap of size5000\n",
      "finished RandomForestClassifier, 3th bootstrap of size5000\n",
      "finished LinearSVC, 3th bootstrap of size5000\n"
     ]
    },
    {
     "name": "stdout",
     "output_type": "stream",
     "text": [
      "finished MultinomialNB, 3th bootstrap of size5000\n",
      "finished LogisticRegression, 3th bootstrap of size5000\n",
      "finished RandomForestClassifier, 4th bootstrap of size5000\n",
      "finished LinearSVC, 4th bootstrap of size5000\n",
      "finished MultinomialNB, 4th bootstrap of size5000\n",
      "finished LogisticRegression, 4th bootstrap of size5000\n",
      "finished RandomForestClassifier, 5th bootstrap of size5000\n",
      "finished LinearSVC, 5th bootstrap of size5000\n",
      "finished MultinomialNB, 5th bootstrap of size5000\n",
      "finished LogisticRegression, 5th bootstrap of size5000\n"
     ]
    }
   ],
   "source": [
    "res = algo_training_size_looper([100, 200, 400, 800, 1600, 3200, 5000], x_train, y_train, x_test, y_test)"
   ]
  },
  {
   "cell_type": "code",
   "execution_count": 93,
   "metadata": {
    "ExecuteTime": {
     "end_time": "2020-01-08T07:50:21.247947Z",
     "start_time": "2020-01-08T07:50:21.221798Z"
    }
   },
   "outputs": [],
   "source": [
    "res.to_csv(CUSTOMER/\"Algo_size_7_4_10_customer.csv\")"
   ]
  },
  {
   "cell_type": "code",
   "execution_count": 96,
   "metadata": {
    "ExecuteTime": {
     "end_time": "2020-01-08T07:50:30.667450Z",
     "start_time": "2020-01-08T07:50:30.640080Z"
    }
   },
   "outputs": [
    {
     "data": {
      "text/plain": [
       "(168, 3)"
      ]
     },
     "execution_count": 96,
     "metadata": {},
     "output_type": "execute_result"
    }
   ],
   "source": [
    "res.shape"
   ]
  },
  {
   "cell_type": "markdown",
   "metadata": {},
   "source": [
    "##### DL models"
   ]
  },
  {
   "cell_type": "code",
   "execution_count": 35,
   "metadata": {
    "ExecuteTime": {
     "end_time": "2020-01-09T10:00:17.170100Z",
     "start_time": "2020-01-09T10:00:17.140732Z"
    }
   },
   "outputs": [
    {
     "data": {
      "text/plain": [
       "Credit reporting, credit repair services, or other personal consumer reports    3600\n",
       "Debt collection                                                                 2785\n",
       "Mortgage                                                                        1579\n",
       "Credit card or prepaid card                                                      806\n",
       "Credit reporting                                                                 793\n",
       "Student loan                                                                     675\n",
       "Checking or savings account                                                      486\n",
       "Credit card                                                                      462\n",
       "Bank account or service                                                          388\n",
       "Consumer Loan                                                                    231\n",
       "Money transfer, virtual currency, or money service                               203\n",
       "Vehicle loan or lease                                                            199\n",
       "Payday loan, title loan, or personal loan                                        170\n",
       "Payday loan                                                                       41\n",
       "Prepaid card                                                                      37\n",
       "Money transfers                                                                   30\n",
       "Other financial service                                                           13\n",
       "Virtual currency                                                                   2\n",
       "Name: product, dtype: int64"
      ]
     },
     "execution_count": 35,
     "metadata": {},
     "output_type": "execute_result"
    }
   ],
   "source": [
    "df = CUSTOMER_TRAIN\n",
    "df['product'].value_counts()"
   ]
  },
  {
   "cell_type": "code",
   "execution_count": 36,
   "metadata": {
    "ExecuteTime": {
     "end_time": "2020-01-09T10:00:18.148547Z",
     "start_time": "2020-01-09T10:00:18.122089Z"
    }
   },
   "outputs": [],
   "source": [
    "# get rid of rare categories:\n",
    "rare_cat = ['Virtual currency', 'Other financial service', 'Money transfers', 'Prepaid card', 'Payday loan']\n",
    "df = df.loc[~df['product'].isin(rare_cat), :]"
   ]
  },
  {
   "cell_type": "code",
   "execution_count": 37,
   "metadata": {
    "ExecuteTime": {
     "end_time": "2020-01-09T10:00:19.755024Z",
     "start_time": "2020-01-09T10:00:19.723196Z"
    }
   },
   "outputs": [
    {
     "data": {
      "text/plain": [
       "Credit reporting, credit repair services, or other personal consumer reports    3600\n",
       "Debt collection                                                                 2785\n",
       "Mortgage                                                                        1579\n",
       "Credit card or prepaid card                                                      806\n",
       "Credit reporting                                                                 793\n",
       "Student loan                                                                     675\n",
       "Checking or savings account                                                      486\n",
       "Credit card                                                                      462\n",
       "Bank account or service                                                          388\n",
       "Consumer Loan                                                                    231\n",
       "Money transfer, virtual currency, or money service                               203\n",
       "Vehicle loan or lease                                                            199\n",
       "Payday loan, title loan, or personal loan                                        170\n",
       "Name: product, dtype: int64"
      ]
     },
     "execution_count": 37,
     "metadata": {},
     "output_type": "execute_result"
    }
   ],
   "source": [
    "df['product'].value_counts()"
   ]
  },
  {
   "cell_type": "code",
   "execution_count": 38,
   "metadata": {
    "ExecuteTime": {
     "end_time": "2020-01-09T10:00:24.188224Z",
     "start_time": "2020-01-09T10:00:20.309518Z"
    }
   },
   "outputs": [],
   "source": [
    "x_train, x_test, y_train, y_test = train_test_split(df['complaint'], df['product'], test_size=2000, stratify=  df['product'],  random_state=0)\n",
    "bert_model = BertForSequenceClassification.from_pretrained(config.bert_model_name, num_labels= 13)"
   ]
  },
  {
   "cell_type": "code",
   "execution_count": null,
   "metadata": {
    "ExecuteTime": {
     "end_time": "2020-01-09T10:00:24.272816Z",
     "start_time": "2020-01-09T10:00:21.668Z"
    }
   },
   "outputs": [],
   "source": [
    "train = pd.DataFrame({'complaint': x_train, \n",
    "                      'product': y_train})\n",
    "val = pd.DataFrame({'complaint': x_test, \n",
    "                      'product': y_test})\n",
    "train = train.reset_index()[['complaint', 'product']]\n",
    "val = val.reset_index()[['complaint', 'product']]\n",
    "val"
   ]
  },
  {
   "cell_type": "code",
   "execution_count": null,
   "metadata": {
    "ExecuteTime": {
     "end_time": "2020-01-09T10:00:24.282719Z",
     "start_time": "2020-01-09T10:00:22.111Z"
    }
   },
   "outputs": [],
   "source": [
    "text_cols = \"complaint\"\n",
    "label_cols = 'product'"
   ]
  },
  {
   "cell_type": "code",
   "execution_count": 39,
   "metadata": {
    "ExecuteTime": {
     "end_time": "2020-01-09T10:52:17.016832Z",
     "start_time": "2020-01-09T10:00:25.044921Z"
    }
   },
   "outputs": [
    {
     "data": {
      "text/html": [],
      "text/plain": [
       "<IPython.core.display.HTML object>"
      ]
     },
     "metadata": {},
     "output_type": "display_data"
    },
    {
     "data": {
      "text/html": [],
      "text/plain": [
       "<IPython.core.display.HTML object>"
      ]
     },
     "metadata": {},
     "output_type": "display_data"
    },
    {
     "data": {
      "text/html": [
       "<table border=\"1\" class=\"dataframe\">\n",
       "  <thead>\n",
       "    <tr style=\"text-align: left;\">\n",
       "      <th>epoch</th>\n",
       "      <th>train_loss</th>\n",
       "      <th>valid_loss</th>\n",
       "      <th>accuracy</th>\n",
       "      <th>time</th>\n",
       "    </tr>\n",
       "  </thead>\n",
       "  <tbody>\n",
       "    <tr>\n",
       "      <td>0</td>\n",
       "      <td>2.967592</td>\n",
       "      <td>2.882363</td>\n",
       "      <td>0.000500</td>\n",
       "      <td>00:05</td>\n",
       "    </tr>\n",
       "    <tr>\n",
       "      <td>1</td>\n",
       "      <td>2.799013</td>\n",
       "      <td>2.523756</td>\n",
       "      <td>0.119500</td>\n",
       "      <td>00:05</td>\n",
       "    </tr>\n",
       "    <tr>\n",
       "      <td>2</td>\n",
       "      <td>2.581837</td>\n",
       "      <td>2.473517</td>\n",
       "      <td>0.069500</td>\n",
       "      <td>00:05</td>\n",
       "    </tr>\n",
       "    <tr>\n",
       "      <td>3</td>\n",
       "      <td>2.529333</td>\n",
       "      <td>2.198824</td>\n",
       "      <td>0.215500</td>\n",
       "      <td>00:05</td>\n",
       "    </tr>\n",
       "    <tr>\n",
       "      <td>4</td>\n",
       "      <td>2.418263</td>\n",
       "      <td>2.084367</td>\n",
       "      <td>0.237500</td>\n",
       "      <td>00:05</td>\n",
       "    </tr>\n",
       "  </tbody>\n",
       "</table>"
      ],
      "text/plain": [
       "<IPython.core.display.HTML object>"
      ]
     },
     "metadata": {},
     "output_type": "display_data"
    },
    {
     "data": {
      "text/html": [
       "<table border=\"1\" class=\"dataframe\">\n",
       "  <thead>\n",
       "    <tr style=\"text-align: left;\">\n",
       "      <th>epoch</th>\n",
       "      <th>train_loss</th>\n",
       "      <th>valid_loss</th>\n",
       "      <th>accuracy</th>\n",
       "      <th>time</th>\n",
       "    </tr>\n",
       "  </thead>\n",
       "  <tbody>\n",
       "    <tr>\n",
       "      <td>0</td>\n",
       "      <td>1.803586</td>\n",
       "      <td>2.083228</td>\n",
       "      <td>0.237500</td>\n",
       "      <td>00:05</td>\n",
       "    </tr>\n",
       "  </tbody>\n",
       "</table>"
      ],
      "text/plain": [
       "<IPython.core.display.HTML object>"
      ]
     },
     "metadata": {},
     "output_type": "display_data"
    },
    {
     "data": {
      "text/html": [],
      "text/plain": [
       "<IPython.core.display.HTML object>"
      ]
     },
     "metadata": {},
     "output_type": "display_data"
    },
    {
     "name": "stdout",
     "output_type": "stream",
     "text": [
      "finished 0th bootstrap of size100\n"
     ]
    },
    {
     "data": {
      "text/html": [],
      "text/plain": [
       "<IPython.core.display.HTML object>"
      ]
     },
     "metadata": {},
     "output_type": "display_data"
    },
    {
     "data": {
      "text/html": [],
      "text/plain": [
       "<IPython.core.display.HTML object>"
      ]
     },
     "metadata": {},
     "output_type": "display_data"
    },
    {
     "data": {
      "text/html": [
       "<table border=\"1\" class=\"dataframe\">\n",
       "  <thead>\n",
       "    <tr style=\"text-align: left;\">\n",
       "      <th>epoch</th>\n",
       "      <th>train_loss</th>\n",
       "      <th>valid_loss</th>\n",
       "      <th>accuracy</th>\n",
       "      <th>time</th>\n",
       "    </tr>\n",
       "  </thead>\n",
       "  <tbody>\n",
       "    <tr>\n",
       "      <td>0</td>\n",
       "      <td>2.519813</td>\n",
       "      <td>2.535840</td>\n",
       "      <td>0.232000</td>\n",
       "      <td>00:05</td>\n",
       "    </tr>\n",
       "    <tr>\n",
       "      <td>1</td>\n",
       "      <td>2.496065</td>\n",
       "      <td>2.315723</td>\n",
       "      <td>0.243500</td>\n",
       "      <td>00:05</td>\n",
       "    </tr>\n",
       "    <tr>\n",
       "      <td>2</td>\n",
       "      <td>2.440346</td>\n",
       "      <td>2.290773</td>\n",
       "      <td>0.298000</td>\n",
       "      <td>00:05</td>\n",
       "    </tr>\n",
       "    <tr>\n",
       "      <td>3</td>\n",
       "      <td>2.451332</td>\n",
       "      <td>1.926161</td>\n",
       "      <td>0.308000</td>\n",
       "      <td>00:05</td>\n",
       "    </tr>\n",
       "    <tr>\n",
       "      <td>4</td>\n",
       "      <td>2.341887</td>\n",
       "      <td>1.903826</td>\n",
       "      <td>0.263000</td>\n",
       "      <td>00:05</td>\n",
       "    </tr>\n",
       "  </tbody>\n",
       "</table>"
      ],
      "text/plain": [
       "<IPython.core.display.HTML object>"
      ]
     },
     "metadata": {},
     "output_type": "display_data"
    },
    {
     "data": {
      "text/html": [
       "<table border=\"1\" class=\"dataframe\">\n",
       "  <thead>\n",
       "    <tr style=\"text-align: left;\">\n",
       "      <th>epoch</th>\n",
       "      <th>train_loss</th>\n",
       "      <th>valid_loss</th>\n",
       "      <th>accuracy</th>\n",
       "      <th>time</th>\n",
       "    </tr>\n",
       "  </thead>\n",
       "  <tbody>\n",
       "    <tr>\n",
       "      <td>0</td>\n",
       "      <td>1.864652</td>\n",
       "      <td>1.903407</td>\n",
       "      <td>0.263000</td>\n",
       "      <td>00:05</td>\n",
       "    </tr>\n",
       "  </tbody>\n",
       "</table>"
      ],
      "text/plain": [
       "<IPython.core.display.HTML object>"
      ]
     },
     "metadata": {},
     "output_type": "display_data"
    },
    {
     "data": {
      "text/html": [],
      "text/plain": [
       "<IPython.core.display.HTML object>"
      ]
     },
     "metadata": {},
     "output_type": "display_data"
    },
    {
     "name": "stdout",
     "output_type": "stream",
     "text": [
      "finished 1th bootstrap of size100\n"
     ]
    },
    {
     "data": {
      "text/html": [],
      "text/plain": [
       "<IPython.core.display.HTML object>"
      ]
     },
     "metadata": {},
     "output_type": "display_data"
    },
    {
     "data": {
      "text/html": [],
      "text/plain": [
       "<IPython.core.display.HTML object>"
      ]
     },
     "metadata": {},
     "output_type": "display_data"
    },
    {
     "data": {
      "text/html": [
       "<table border=\"1\" class=\"dataframe\">\n",
       "  <thead>\n",
       "    <tr style=\"text-align: left;\">\n",
       "      <th>epoch</th>\n",
       "      <th>train_loss</th>\n",
       "      <th>valid_loss</th>\n",
       "      <th>accuracy</th>\n",
       "      <th>time</th>\n",
       "    </tr>\n",
       "  </thead>\n",
       "  <tbody>\n",
       "    <tr>\n",
       "      <td>0</td>\n",
       "      <td>2.490734</td>\n",
       "      <td>2.416657</td>\n",
       "      <td>0.147000</td>\n",
       "      <td>00:04</td>\n",
       "    </tr>\n",
       "    <tr>\n",
       "      <td>1</td>\n",
       "      <td>2.422015</td>\n",
       "      <td>2.027382</td>\n",
       "      <td>0.316500</td>\n",
       "      <td>00:04</td>\n",
       "    </tr>\n",
       "    <tr>\n",
       "      <td>2</td>\n",
       "      <td>2.348031</td>\n",
       "      <td>1.837992</td>\n",
       "      <td>0.372500</td>\n",
       "      <td>00:04</td>\n",
       "    </tr>\n",
       "    <tr>\n",
       "      <td>3</td>\n",
       "      <td>2.226220</td>\n",
       "      <td>1.772635</td>\n",
       "      <td>0.242000</td>\n",
       "      <td>00:04</td>\n",
       "    </tr>\n",
       "    <tr>\n",
       "      <td>4</td>\n",
       "      <td>2.137242</td>\n",
       "      <td>1.743194</td>\n",
       "      <td>0.247000</td>\n",
       "      <td>00:04</td>\n",
       "    </tr>\n",
       "  </tbody>\n",
       "</table>"
      ],
      "text/plain": [
       "<IPython.core.display.HTML object>"
      ]
     },
     "metadata": {},
     "output_type": "display_data"
    },
    {
     "data": {
      "text/html": [
       "<table border=\"1\" class=\"dataframe\">\n",
       "  <thead>\n",
       "    <tr style=\"text-align: left;\">\n",
       "      <th>epoch</th>\n",
       "      <th>train_loss</th>\n",
       "      <th>valid_loss</th>\n",
       "      <th>accuracy</th>\n",
       "      <th>time</th>\n",
       "    </tr>\n",
       "  </thead>\n",
       "  <tbody>\n",
       "    <tr>\n",
       "      <td>0</td>\n",
       "      <td>1.658596</td>\n",
       "      <td>1.742792</td>\n",
       "      <td>0.247000</td>\n",
       "      <td>00:04</td>\n",
       "    </tr>\n",
       "  </tbody>\n",
       "</table>"
      ],
      "text/plain": [
       "<IPython.core.display.HTML object>"
      ]
     },
     "metadata": {},
     "output_type": "display_data"
    },
    {
     "data": {
      "text/html": [],
      "text/plain": [
       "<IPython.core.display.HTML object>"
      ]
     },
     "metadata": {},
     "output_type": "display_data"
    },
    {
     "name": "stdout",
     "output_type": "stream",
     "text": [
      "finished 2th bootstrap of size100\n"
     ]
    },
    {
     "data": {
      "text/html": [],
      "text/plain": [
       "<IPython.core.display.HTML object>"
      ]
     },
     "metadata": {},
     "output_type": "display_data"
    },
    {
     "data": {
      "text/html": [],
      "text/plain": [
       "<IPython.core.display.HTML object>"
      ]
     },
     "metadata": {},
     "output_type": "display_data"
    },
    {
     "data": {
      "text/html": [
       "<table border=\"1\" class=\"dataframe\">\n",
       "  <thead>\n",
       "    <tr style=\"text-align: left;\">\n",
       "      <th>epoch</th>\n",
       "      <th>train_loss</th>\n",
       "      <th>valid_loss</th>\n",
       "      <th>accuracy</th>\n",
       "      <th>time</th>\n",
       "    </tr>\n",
       "  </thead>\n",
       "  <tbody>\n",
       "    <tr>\n",
       "      <td>0</td>\n",
       "      <td>2.673315</td>\n",
       "      <td>2.594180</td>\n",
       "      <td>0.214000</td>\n",
       "      <td>00:04</td>\n",
       "    </tr>\n",
       "    <tr>\n",
       "      <td>1</td>\n",
       "      <td>2.630049</td>\n",
       "      <td>2.264205</td>\n",
       "      <td>0.270500</td>\n",
       "      <td>00:04</td>\n",
       "    </tr>\n",
       "    <tr>\n",
       "      <td>2</td>\n",
       "      <td>2.498460</td>\n",
       "      <td>2.229417</td>\n",
       "      <td>0.306500</td>\n",
       "      <td>00:04</td>\n",
       "    </tr>\n",
       "    <tr>\n",
       "      <td>3</td>\n",
       "      <td>2.463531</td>\n",
       "      <td>2.130997</td>\n",
       "      <td>0.318000</td>\n",
       "      <td>00:04</td>\n",
       "    </tr>\n",
       "    <tr>\n",
       "      <td>4</td>\n",
       "      <td>2.395394</td>\n",
       "      <td>2.029971</td>\n",
       "      <td>0.295000</td>\n",
       "      <td>00:04</td>\n",
       "    </tr>\n",
       "  </tbody>\n",
       "</table>"
      ],
      "text/plain": [
       "<IPython.core.display.HTML object>"
      ]
     },
     "metadata": {},
     "output_type": "display_data"
    },
    {
     "data": {
      "text/html": [
       "<table border=\"1\" class=\"dataframe\">\n",
       "  <thead>\n",
       "    <tr style=\"text-align: left;\">\n",
       "      <th>epoch</th>\n",
       "      <th>train_loss</th>\n",
       "      <th>valid_loss</th>\n",
       "      <th>accuracy</th>\n",
       "      <th>time</th>\n",
       "    </tr>\n",
       "  </thead>\n",
       "  <tbody>\n",
       "    <tr>\n",
       "      <td>0</td>\n",
       "      <td>1.943808</td>\n",
       "      <td>2.028579</td>\n",
       "      <td>0.294500</td>\n",
       "      <td>00:04</td>\n",
       "    </tr>\n",
       "  </tbody>\n",
       "</table>"
      ],
      "text/plain": [
       "<IPython.core.display.HTML object>"
      ]
     },
     "metadata": {},
     "output_type": "display_data"
    },
    {
     "data": {
      "text/html": [],
      "text/plain": [
       "<IPython.core.display.HTML object>"
      ]
     },
     "metadata": {},
     "output_type": "display_data"
    },
    {
     "name": "stdout",
     "output_type": "stream",
     "text": [
      "finished 3th bootstrap of size100\n"
     ]
    },
    {
     "data": {
      "text/html": [],
      "text/plain": [
       "<IPython.core.display.HTML object>"
      ]
     },
     "metadata": {},
     "output_type": "display_data"
    },
    {
     "data": {
      "text/html": [],
      "text/plain": [
       "<IPython.core.display.HTML object>"
      ]
     },
     "metadata": {},
     "output_type": "display_data"
    },
    {
     "data": {
      "text/html": [
       "<table border=\"1\" class=\"dataframe\">\n",
       "  <thead>\n",
       "    <tr style=\"text-align: left;\">\n",
       "      <th>epoch</th>\n",
       "      <th>train_loss</th>\n",
       "      <th>valid_loss</th>\n",
       "      <th>accuracy</th>\n",
       "      <th>time</th>\n",
       "    </tr>\n",
       "  </thead>\n",
       "  <tbody>\n",
       "    <tr>\n",
       "      <td>0</td>\n",
       "      <td>2.578851</td>\n",
       "      <td>2.551868</td>\n",
       "      <td>0.187000</td>\n",
       "      <td>00:04</td>\n",
       "    </tr>\n",
       "    <tr>\n",
       "      <td>1</td>\n",
       "      <td>2.537310</td>\n",
       "      <td>2.336758</td>\n",
       "      <td>0.255000</td>\n",
       "      <td>00:04</td>\n",
       "    </tr>\n",
       "    <tr>\n",
       "      <td>2</td>\n",
       "      <td>2.470962</td>\n",
       "      <td>2.034419</td>\n",
       "      <td>0.263500</td>\n",
       "      <td>00:04</td>\n",
       "    </tr>\n",
       "    <tr>\n",
       "      <td>3</td>\n",
       "      <td>2.353397</td>\n",
       "      <td>1.818185</td>\n",
       "      <td>0.323500</td>\n",
       "      <td>00:04</td>\n",
       "    </tr>\n",
       "    <tr>\n",
       "      <td>4</td>\n",
       "      <td>2.261315</td>\n",
       "      <td>1.761089</td>\n",
       "      <td>0.351500</td>\n",
       "      <td>00:04</td>\n",
       "    </tr>\n",
       "  </tbody>\n",
       "</table>"
      ],
      "text/plain": [
       "<IPython.core.display.HTML object>"
      ]
     },
     "metadata": {},
     "output_type": "display_data"
    },
    {
     "data": {
      "text/html": [
       "<table border=\"1\" class=\"dataframe\">\n",
       "  <thead>\n",
       "    <tr style=\"text-align: left;\">\n",
       "      <th>epoch</th>\n",
       "      <th>train_loss</th>\n",
       "      <th>valid_loss</th>\n",
       "      <th>accuracy</th>\n",
       "      <th>time</th>\n",
       "    </tr>\n",
       "  </thead>\n",
       "  <tbody>\n",
       "    <tr>\n",
       "      <td>0</td>\n",
       "      <td>1.808228</td>\n",
       "      <td>1.760537</td>\n",
       "      <td>0.352000</td>\n",
       "      <td>00:04</td>\n",
       "    </tr>\n",
       "  </tbody>\n",
       "</table>"
      ],
      "text/plain": [
       "<IPython.core.display.HTML object>"
      ]
     },
     "metadata": {},
     "output_type": "display_data"
    },
    {
     "data": {
      "text/html": [],
      "text/plain": [
       "<IPython.core.display.HTML object>"
      ]
     },
     "metadata": {},
     "output_type": "display_data"
    },
    {
     "name": "stdout",
     "output_type": "stream",
     "text": [
      "finished 4th bootstrap of size100\n"
     ]
    },
    {
     "data": {
      "text/html": [],
      "text/plain": [
       "<IPython.core.display.HTML object>"
      ]
     },
     "metadata": {},
     "output_type": "display_data"
    },
    {
     "data": {
      "text/html": [],
      "text/plain": [
       "<IPython.core.display.HTML object>"
      ]
     },
     "metadata": {},
     "output_type": "display_data"
    },
    {
     "data": {
      "text/html": [
       "<table border=\"1\" class=\"dataframe\">\n",
       "  <thead>\n",
       "    <tr style=\"text-align: left;\">\n",
       "      <th>epoch</th>\n",
       "      <th>train_loss</th>\n",
       "      <th>valid_loss</th>\n",
       "      <th>accuracy</th>\n",
       "      <th>time</th>\n",
       "    </tr>\n",
       "  </thead>\n",
       "  <tbody>\n",
       "    <tr>\n",
       "      <td>0</td>\n",
       "      <td>2.569961</td>\n",
       "      <td>2.200299</td>\n",
       "      <td>0.330500</td>\n",
       "      <td>00:05</td>\n",
       "    </tr>\n",
       "    <tr>\n",
       "      <td>1</td>\n",
       "      <td>2.299140</td>\n",
       "      <td>1.533253</td>\n",
       "      <td>0.408500</td>\n",
       "      <td>00:05</td>\n",
       "    </tr>\n",
       "    <tr>\n",
       "      <td>2</td>\n",
       "      <td>1.974414</td>\n",
       "      <td>1.058300</td>\n",
       "      <td>0.737500</td>\n",
       "      <td>00:05</td>\n",
       "    </tr>\n",
       "    <tr>\n",
       "      <td>3</td>\n",
       "      <td>1.667499</td>\n",
       "      <td>0.729624</td>\n",
       "      <td>0.842000</td>\n",
       "      <td>00:05</td>\n",
       "    </tr>\n",
       "    <tr>\n",
       "      <td>4</td>\n",
       "      <td>1.420005</td>\n",
       "      <td>0.659139</td>\n",
       "      <td>0.851500</td>\n",
       "      <td>00:05</td>\n",
       "    </tr>\n",
       "  </tbody>\n",
       "</table>"
      ],
      "text/plain": [
       "<IPython.core.display.HTML object>"
      ]
     },
     "metadata": {},
     "output_type": "display_data"
    },
    {
     "data": {
      "text/html": [
       "<table border=\"1\" class=\"dataframe\">\n",
       "  <thead>\n",
       "    <tr style=\"text-align: left;\">\n",
       "      <th>epoch</th>\n",
       "      <th>train_loss</th>\n",
       "      <th>valid_loss</th>\n",
       "      <th>accuracy</th>\n",
       "      <th>time</th>\n",
       "    </tr>\n",
       "  </thead>\n",
       "  <tbody>\n",
       "    <tr>\n",
       "      <td>0</td>\n",
       "      <td>0.517054</td>\n",
       "      <td>0.645411</td>\n",
       "      <td>0.852500</td>\n",
       "      <td>00:05</td>\n",
       "    </tr>\n",
       "  </tbody>\n",
       "</table>"
      ],
      "text/plain": [
       "<IPython.core.display.HTML object>"
      ]
     },
     "metadata": {},
     "output_type": "display_data"
    },
    {
     "data": {
      "text/html": [],
      "text/plain": [
       "<IPython.core.display.HTML object>"
      ]
     },
     "metadata": {},
     "output_type": "display_data"
    },
    {
     "name": "stdout",
     "output_type": "stream",
     "text": [
      "finished 0th bootstrap of size200\n"
     ]
    },
    {
     "data": {
      "text/html": [],
      "text/plain": [
       "<IPython.core.display.HTML object>"
      ]
     },
     "metadata": {},
     "output_type": "display_data"
    },
    {
     "data": {
      "text/html": [],
      "text/plain": [
       "<IPython.core.display.HTML object>"
      ]
     },
     "metadata": {},
     "output_type": "display_data"
    },
    {
     "data": {
      "text/html": [
       "<table border=\"1\" class=\"dataframe\">\n",
       "  <thead>\n",
       "    <tr style=\"text-align: left;\">\n",
       "      <th>epoch</th>\n",
       "      <th>train_loss</th>\n",
       "      <th>valid_loss</th>\n",
       "      <th>accuracy</th>\n",
       "      <th>time</th>\n",
       "    </tr>\n",
       "  </thead>\n",
       "  <tbody>\n",
       "    <tr>\n",
       "      <td>0</td>\n",
       "      <td>2.507574</td>\n",
       "      <td>2.128053</td>\n",
       "      <td>0.444000</td>\n",
       "      <td>00:05</td>\n",
       "    </tr>\n",
       "    <tr>\n",
       "      <td>1</td>\n",
       "      <td>2.240876</td>\n",
       "      <td>1.461694</td>\n",
       "      <td>0.536000</td>\n",
       "      <td>00:05</td>\n",
       "    </tr>\n",
       "    <tr>\n",
       "      <td>2</td>\n",
       "      <td>1.947522</td>\n",
       "      <td>0.972172</td>\n",
       "      <td>0.826500</td>\n",
       "      <td>00:05</td>\n",
       "    </tr>\n",
       "    <tr>\n",
       "      <td>3</td>\n",
       "      <td>1.650195</td>\n",
       "      <td>0.754996</td>\n",
       "      <td>0.815000</td>\n",
       "      <td>00:05</td>\n",
       "    </tr>\n",
       "    <tr>\n",
       "      <td>4</td>\n",
       "      <td>1.429313</td>\n",
       "      <td>0.673159</td>\n",
       "      <td>0.851500</td>\n",
       "      <td>00:05</td>\n",
       "    </tr>\n",
       "  </tbody>\n",
       "</table>"
      ],
      "text/plain": [
       "<IPython.core.display.HTML object>"
      ]
     },
     "metadata": {},
     "output_type": "display_data"
    },
    {
     "data": {
      "text/html": [
       "<table border=\"1\" class=\"dataframe\">\n",
       "  <thead>\n",
       "    <tr style=\"text-align: left;\">\n",
       "      <th>epoch</th>\n",
       "      <th>train_loss</th>\n",
       "      <th>valid_loss</th>\n",
       "      <th>accuracy</th>\n",
       "      <th>time</th>\n",
       "    </tr>\n",
       "  </thead>\n",
       "  <tbody>\n",
       "    <tr>\n",
       "      <td>0</td>\n",
       "      <td>0.556903</td>\n",
       "      <td>0.659496</td>\n",
       "      <td>0.854500</td>\n",
       "      <td>00:05</td>\n",
       "    </tr>\n",
       "  </tbody>\n",
       "</table>"
      ],
      "text/plain": [
       "<IPython.core.display.HTML object>"
      ]
     },
     "metadata": {},
     "output_type": "display_data"
    },
    {
     "data": {
      "text/html": [],
      "text/plain": [
       "<IPython.core.display.HTML object>"
      ]
     },
     "metadata": {},
     "output_type": "display_data"
    },
    {
     "name": "stdout",
     "output_type": "stream",
     "text": [
      "finished 1th bootstrap of size200\n"
     ]
    },
    {
     "data": {
      "text/html": [],
      "text/plain": [
       "<IPython.core.display.HTML object>"
      ]
     },
     "metadata": {},
     "output_type": "display_data"
    },
    {
     "data": {
      "text/html": [],
      "text/plain": [
       "<IPython.core.display.HTML object>"
      ]
     },
     "metadata": {},
     "output_type": "display_data"
    },
    {
     "data": {
      "text/html": [
       "<table border=\"1\" class=\"dataframe\">\n",
       "  <thead>\n",
       "    <tr style=\"text-align: left;\">\n",
       "      <th>epoch</th>\n",
       "      <th>train_loss</th>\n",
       "      <th>valid_loss</th>\n",
       "      <th>accuracy</th>\n",
       "      <th>time</th>\n",
       "    </tr>\n",
       "  </thead>\n",
       "  <tbody>\n",
       "    <tr>\n",
       "      <td>0</td>\n",
       "      <td>2.440179</td>\n",
       "      <td>2.194125</td>\n",
       "      <td>0.266500</td>\n",
       "      <td>00:05</td>\n",
       "    </tr>\n",
       "    <tr>\n",
       "      <td>1</td>\n",
       "      <td>2.209551</td>\n",
       "      <td>1.586429</td>\n",
       "      <td>0.339500</td>\n",
       "      <td>00:05</td>\n",
       "    </tr>\n",
       "    <tr>\n",
       "      <td>2</td>\n",
       "      <td>1.952751</td>\n",
       "      <td>1.097596</td>\n",
       "      <td>0.826000</td>\n",
       "      <td>00:05</td>\n",
       "    </tr>\n",
       "    <tr>\n",
       "      <td>3</td>\n",
       "      <td>1.727824</td>\n",
       "      <td>0.872869</td>\n",
       "      <td>0.808500</td>\n",
       "      <td>00:05</td>\n",
       "    </tr>\n",
       "    <tr>\n",
       "      <td>4</td>\n",
       "      <td>1.533289</td>\n",
       "      <td>0.828338</td>\n",
       "      <td>0.777500</td>\n",
       "      <td>00:05</td>\n",
       "    </tr>\n",
       "  </tbody>\n",
       "</table>"
      ],
      "text/plain": [
       "<IPython.core.display.HTML object>"
      ]
     },
     "metadata": {},
     "output_type": "display_data"
    },
    {
     "data": {
      "text/html": [
       "<table border=\"1\" class=\"dataframe\">\n",
       "  <thead>\n",
       "    <tr style=\"text-align: left;\">\n",
       "      <th>epoch</th>\n",
       "      <th>train_loss</th>\n",
       "      <th>valid_loss</th>\n",
       "      <th>accuracy</th>\n",
       "      <th>time</th>\n",
       "    </tr>\n",
       "  </thead>\n",
       "  <tbody>\n",
       "    <tr>\n",
       "      <td>0</td>\n",
       "      <td>0.828683</td>\n",
       "      <td>0.817752</td>\n",
       "      <td>0.782500</td>\n",
       "      <td>00:05</td>\n",
       "    </tr>\n",
       "  </tbody>\n",
       "</table>"
      ],
      "text/plain": [
       "<IPython.core.display.HTML object>"
      ]
     },
     "metadata": {},
     "output_type": "display_data"
    },
    {
     "data": {
      "text/html": [],
      "text/plain": [
       "<IPython.core.display.HTML object>"
      ]
     },
     "metadata": {},
     "output_type": "display_data"
    },
    {
     "name": "stdout",
     "output_type": "stream",
     "text": [
      "finished 2th bootstrap of size200\n"
     ]
    },
    {
     "data": {
      "text/html": [],
      "text/plain": [
       "<IPython.core.display.HTML object>"
      ]
     },
     "metadata": {},
     "output_type": "display_data"
    },
    {
     "data": {
      "text/html": [],
      "text/plain": [
       "<IPython.core.display.HTML object>"
      ]
     },
     "metadata": {},
     "output_type": "display_data"
    },
    {
     "data": {
      "text/html": [
       "<table border=\"1\" class=\"dataframe\">\n",
       "  <thead>\n",
       "    <tr style=\"text-align: left;\">\n",
       "      <th>epoch</th>\n",
       "      <th>train_loss</th>\n",
       "      <th>valid_loss</th>\n",
       "      <th>accuracy</th>\n",
       "      <th>time</th>\n",
       "    </tr>\n",
       "  </thead>\n",
       "  <tbody>\n",
       "    <tr>\n",
       "      <td>0</td>\n",
       "      <td>2.519849</td>\n",
       "      <td>2.235166</td>\n",
       "      <td>0.249500</td>\n",
       "      <td>00:05</td>\n",
       "    </tr>\n",
       "    <tr>\n",
       "      <td>1</td>\n",
       "      <td>2.243394</td>\n",
       "      <td>1.638333</td>\n",
       "      <td>0.476500</td>\n",
       "      <td>00:05</td>\n",
       "    </tr>\n",
       "    <tr>\n",
       "      <td>2</td>\n",
       "      <td>2.006283</td>\n",
       "      <td>1.205382</td>\n",
       "      <td>0.697000</td>\n",
       "      <td>00:05</td>\n",
       "    </tr>\n",
       "    <tr>\n",
       "      <td>3</td>\n",
       "      <td>1.766901</td>\n",
       "      <td>0.858567</td>\n",
       "      <td>0.793000</td>\n",
       "      <td>00:05</td>\n",
       "    </tr>\n",
       "    <tr>\n",
       "      <td>4</td>\n",
       "      <td>1.555047</td>\n",
       "      <td>0.812951</td>\n",
       "      <td>0.785000</td>\n",
       "      <td>00:05</td>\n",
       "    </tr>\n",
       "  </tbody>\n",
       "</table>"
      ],
      "text/plain": [
       "<IPython.core.display.HTML object>"
      ]
     },
     "metadata": {},
     "output_type": "display_data"
    },
    {
     "data": {
      "text/html": [
       "<table border=\"1\" class=\"dataframe\">\n",
       "  <thead>\n",
       "    <tr style=\"text-align: left;\">\n",
       "      <th>epoch</th>\n",
       "      <th>train_loss</th>\n",
       "      <th>valid_loss</th>\n",
       "      <th>accuracy</th>\n",
       "      <th>time</th>\n",
       "    </tr>\n",
       "  </thead>\n",
       "  <tbody>\n",
       "    <tr>\n",
       "      <td>0</td>\n",
       "      <td>0.820423</td>\n",
       "      <td>0.785422</td>\n",
       "      <td>0.796000</td>\n",
       "      <td>00:05</td>\n",
       "    </tr>\n",
       "  </tbody>\n",
       "</table>"
      ],
      "text/plain": [
       "<IPython.core.display.HTML object>"
      ]
     },
     "metadata": {},
     "output_type": "display_data"
    },
    {
     "data": {
      "text/html": [],
      "text/plain": [
       "<IPython.core.display.HTML object>"
      ]
     },
     "metadata": {},
     "output_type": "display_data"
    },
    {
     "name": "stdout",
     "output_type": "stream",
     "text": [
      "finished 3th bootstrap of size200\n"
     ]
    },
    {
     "data": {
      "text/html": [],
      "text/plain": [
       "<IPython.core.display.HTML object>"
      ]
     },
     "metadata": {},
     "output_type": "display_data"
    },
    {
     "data": {
      "text/html": [],
      "text/plain": [
       "<IPython.core.display.HTML object>"
      ]
     },
     "metadata": {},
     "output_type": "display_data"
    },
    {
     "data": {
      "text/html": [
       "<table border=\"1\" class=\"dataframe\">\n",
       "  <thead>\n",
       "    <tr style=\"text-align: left;\">\n",
       "      <th>epoch</th>\n",
       "      <th>train_loss</th>\n",
       "      <th>valid_loss</th>\n",
       "      <th>accuracy</th>\n",
       "      <th>time</th>\n",
       "    </tr>\n",
       "  </thead>\n",
       "  <tbody>\n",
       "    <tr>\n",
       "      <td>0</td>\n",
       "      <td>2.539906</td>\n",
       "      <td>2.150604</td>\n",
       "      <td>0.277000</td>\n",
       "      <td>00:05</td>\n",
       "    </tr>\n",
       "    <tr>\n",
       "      <td>1</td>\n",
       "      <td>2.314193</td>\n",
       "      <td>1.627449</td>\n",
       "      <td>0.273500</td>\n",
       "      <td>00:05</td>\n",
       "    </tr>\n",
       "    <tr>\n",
       "      <td>2</td>\n",
       "      <td>2.047649</td>\n",
       "      <td>1.319482</td>\n",
       "      <td>0.661500</td>\n",
       "      <td>00:05</td>\n",
       "    </tr>\n",
       "    <tr>\n",
       "      <td>3</td>\n",
       "      <td>1.833488</td>\n",
       "      <td>1.060488</td>\n",
       "      <td>0.681500</td>\n",
       "      <td>00:05</td>\n",
       "    </tr>\n",
       "    <tr>\n",
       "      <td>4</td>\n",
       "      <td>1.696031</td>\n",
       "      <td>1.014414</td>\n",
       "      <td>0.719000</td>\n",
       "      <td>00:05</td>\n",
       "    </tr>\n",
       "  </tbody>\n",
       "</table>"
      ],
      "text/plain": [
       "<IPython.core.display.HTML object>"
      ]
     },
     "metadata": {},
     "output_type": "display_data"
    },
    {
     "data": {
      "text/html": [
       "<table border=\"1\" class=\"dataframe\">\n",
       "  <thead>\n",
       "    <tr style=\"text-align: left;\">\n",
       "      <th>epoch</th>\n",
       "      <th>train_loss</th>\n",
       "      <th>valid_loss</th>\n",
       "      <th>accuracy</th>\n",
       "      <th>time</th>\n",
       "    </tr>\n",
       "  </thead>\n",
       "  <tbody>\n",
       "    <tr>\n",
       "      <td>0</td>\n",
       "      <td>1.066995</td>\n",
       "      <td>1.000145</td>\n",
       "      <td>0.743500</td>\n",
       "      <td>00:05</td>\n",
       "    </tr>\n",
       "  </tbody>\n",
       "</table>"
      ],
      "text/plain": [
       "<IPython.core.display.HTML object>"
      ]
     },
     "metadata": {},
     "output_type": "display_data"
    },
    {
     "data": {
      "text/html": [],
      "text/plain": [
       "<IPython.core.display.HTML object>"
      ]
     },
     "metadata": {},
     "output_type": "display_data"
    },
    {
     "name": "stdout",
     "output_type": "stream",
     "text": [
      "finished 4th bootstrap of size200\n"
     ]
    },
    {
     "data": {
      "text/html": [],
      "text/plain": [
       "<IPython.core.display.HTML object>"
      ]
     },
     "metadata": {},
     "output_type": "display_data"
    },
    {
     "data": {
      "text/html": [],
      "text/plain": [
       "<IPython.core.display.HTML object>"
      ]
     },
     "metadata": {},
     "output_type": "display_data"
    },
    {
     "data": {
      "text/html": [
       "<table border=\"1\" class=\"dataframe\">\n",
       "  <thead>\n",
       "    <tr style=\"text-align: left;\">\n",
       "      <th>epoch</th>\n",
       "      <th>train_loss</th>\n",
       "      <th>valid_loss</th>\n",
       "      <th>accuracy</th>\n",
       "      <th>time</th>\n",
       "    </tr>\n",
       "  </thead>\n",
       "  <tbody>\n",
       "    <tr>\n",
       "      <td>0</td>\n",
       "      <td>2.448269</td>\n",
       "      <td>1.844937</td>\n",
       "      <td>0.343000</td>\n",
       "      <td>00:06</td>\n",
       "    </tr>\n",
       "    <tr>\n",
       "      <td>1</td>\n",
       "      <td>1.955724</td>\n",
       "      <td>1.118743</td>\n",
       "      <td>0.720500</td>\n",
       "      <td>00:06</td>\n",
       "    </tr>\n",
       "    <tr>\n",
       "      <td>2</td>\n",
       "      <td>1.579980</td>\n",
       "      <td>0.554014</td>\n",
       "      <td>0.877000</td>\n",
       "      <td>00:06</td>\n",
       "    </tr>\n",
       "    <tr>\n",
       "      <td>3</td>\n",
       "      <td>1.274175</td>\n",
       "      <td>0.504743</td>\n",
       "      <td>0.853500</td>\n",
       "      <td>00:06</td>\n",
       "    </tr>\n",
       "    <tr>\n",
       "      <td>4</td>\n",
       "      <td>1.021053</td>\n",
       "      <td>0.506298</td>\n",
       "      <td>0.855000</td>\n",
       "      <td>00:06</td>\n",
       "    </tr>\n",
       "  </tbody>\n",
       "</table>"
      ],
      "text/plain": [
       "<IPython.core.display.HTML object>"
      ]
     },
     "metadata": {},
     "output_type": "display_data"
    },
    {
     "data": {
      "text/html": [
       "<table border=\"1\" class=\"dataframe\">\n",
       "  <thead>\n",
       "    <tr style=\"text-align: left;\">\n",
       "      <th>epoch</th>\n",
       "      <th>train_loss</th>\n",
       "      <th>valid_loss</th>\n",
       "      <th>accuracy</th>\n",
       "      <th>time</th>\n",
       "    </tr>\n",
       "  </thead>\n",
       "  <tbody>\n",
       "    <tr>\n",
       "      <td>0</td>\n",
       "      <td>0.237498</td>\n",
       "      <td>0.492006</td>\n",
       "      <td>0.858000</td>\n",
       "      <td>00:06</td>\n",
       "    </tr>\n",
       "  </tbody>\n",
       "</table>"
      ],
      "text/plain": [
       "<IPython.core.display.HTML object>"
      ]
     },
     "metadata": {},
     "output_type": "display_data"
    },
    {
     "data": {
      "text/html": [],
      "text/plain": [
       "<IPython.core.display.HTML object>"
      ]
     },
     "metadata": {},
     "output_type": "display_data"
    },
    {
     "name": "stdout",
     "output_type": "stream",
     "text": [
      "finished 0th bootstrap of size400\n"
     ]
    },
    {
     "data": {
      "text/html": [],
      "text/plain": [
       "<IPython.core.display.HTML object>"
      ]
     },
     "metadata": {},
     "output_type": "display_data"
    },
    {
     "data": {
      "text/html": [],
      "text/plain": [
       "<IPython.core.display.HTML object>"
      ]
     },
     "metadata": {},
     "output_type": "display_data"
    },
    {
     "data": {
      "text/html": [
       "<table border=\"1\" class=\"dataframe\">\n",
       "  <thead>\n",
       "    <tr style=\"text-align: left;\">\n",
       "      <th>epoch</th>\n",
       "      <th>train_loss</th>\n",
       "      <th>valid_loss</th>\n",
       "      <th>accuracy</th>\n",
       "      <th>time</th>\n",
       "    </tr>\n",
       "  </thead>\n",
       "  <tbody>\n",
       "    <tr>\n",
       "      <td>0</td>\n",
       "      <td>2.531904</td>\n",
       "      <td>2.072142</td>\n",
       "      <td>0.255000</td>\n",
       "      <td>00:06</td>\n",
       "    </tr>\n",
       "    <tr>\n",
       "      <td>1</td>\n",
       "      <td>2.032927</td>\n",
       "      <td>0.848625</td>\n",
       "      <td>0.818000</td>\n",
       "      <td>00:06</td>\n",
       "    </tr>\n",
       "    <tr>\n",
       "      <td>2</td>\n",
       "      <td>1.498851</td>\n",
       "      <td>0.548672</td>\n",
       "      <td>0.843500</td>\n",
       "      <td>00:06</td>\n",
       "    </tr>\n",
       "    <tr>\n",
       "      <td>3</td>\n",
       "      <td>1.189602</td>\n",
       "      <td>0.425101</td>\n",
       "      <td>0.877000</td>\n",
       "      <td>00:06</td>\n",
       "    </tr>\n",
       "    <tr>\n",
       "      <td>4</td>\n",
       "      <td>0.946653</td>\n",
       "      <td>0.411227</td>\n",
       "      <td>0.876500</td>\n",
       "      <td>00:06</td>\n",
       "    </tr>\n",
       "  </tbody>\n",
       "</table>"
      ],
      "text/plain": [
       "<IPython.core.display.HTML object>"
      ]
     },
     "metadata": {},
     "output_type": "display_data"
    },
    {
     "data": {
      "text/html": [
       "<table border=\"1\" class=\"dataframe\">\n",
       "  <thead>\n",
       "    <tr style=\"text-align: left;\">\n",
       "      <th>epoch</th>\n",
       "      <th>train_loss</th>\n",
       "      <th>valid_loss</th>\n",
       "      <th>accuracy</th>\n",
       "      <th>time</th>\n",
       "    </tr>\n",
       "  </thead>\n",
       "  <tbody>\n",
       "    <tr>\n",
       "      <td>0</td>\n",
       "      <td>0.195948</td>\n",
       "      <td>0.409902</td>\n",
       "      <td>0.877500</td>\n",
       "      <td>00:06</td>\n",
       "    </tr>\n",
       "  </tbody>\n",
       "</table>"
      ],
      "text/plain": [
       "<IPython.core.display.HTML object>"
      ]
     },
     "metadata": {},
     "output_type": "display_data"
    },
    {
     "data": {
      "text/html": [],
      "text/plain": [
       "<IPython.core.display.HTML object>"
      ]
     },
     "metadata": {},
     "output_type": "display_data"
    },
    {
     "name": "stdout",
     "output_type": "stream",
     "text": [
      "finished 1th bootstrap of size400\n"
     ]
    },
    {
     "data": {
      "text/html": [],
      "text/plain": [
       "<IPython.core.display.HTML object>"
      ]
     },
     "metadata": {},
     "output_type": "display_data"
    },
    {
     "data": {
      "text/html": [],
      "text/plain": [
       "<IPython.core.display.HTML object>"
      ]
     },
     "metadata": {},
     "output_type": "display_data"
    },
    {
     "data": {
      "text/html": [
       "<table border=\"1\" class=\"dataframe\">\n",
       "  <thead>\n",
       "    <tr style=\"text-align: left;\">\n",
       "      <th>epoch</th>\n",
       "      <th>train_loss</th>\n",
       "      <th>valid_loss</th>\n",
       "      <th>accuracy</th>\n",
       "      <th>time</th>\n",
       "    </tr>\n",
       "  </thead>\n",
       "  <tbody>\n",
       "    <tr>\n",
       "      <td>0</td>\n",
       "      <td>2.281611</td>\n",
       "      <td>2.002171</td>\n",
       "      <td>0.415500</td>\n",
       "      <td>00:06</td>\n",
       "    </tr>\n",
       "    <tr>\n",
       "      <td>1</td>\n",
       "      <td>1.899013</td>\n",
       "      <td>1.189086</td>\n",
       "      <td>0.572000</td>\n",
       "      <td>00:06</td>\n",
       "    </tr>\n",
       "    <tr>\n",
       "      <td>2</td>\n",
       "      <td>1.497983</td>\n",
       "      <td>0.677302</td>\n",
       "      <td>0.797000</td>\n",
       "      <td>00:06</td>\n",
       "    </tr>\n",
       "    <tr>\n",
       "      <td>3</td>\n",
       "      <td>1.171928</td>\n",
       "      <td>0.535358</td>\n",
       "      <td>0.854000</td>\n",
       "      <td>00:06</td>\n",
       "    </tr>\n",
       "    <tr>\n",
       "      <td>4</td>\n",
       "      <td>0.973937</td>\n",
       "      <td>0.463930</td>\n",
       "      <td>0.871000</td>\n",
       "      <td>00:06</td>\n",
       "    </tr>\n",
       "  </tbody>\n",
       "</table>"
      ],
      "text/plain": [
       "<IPython.core.display.HTML object>"
      ]
     },
     "metadata": {},
     "output_type": "display_data"
    },
    {
     "data": {
      "text/html": [
       "<table border=\"1\" class=\"dataframe\">\n",
       "  <thead>\n",
       "    <tr style=\"text-align: left;\">\n",
       "      <th>epoch</th>\n",
       "      <th>train_loss</th>\n",
       "      <th>valid_loss</th>\n",
       "      <th>accuracy</th>\n",
       "      <th>time</th>\n",
       "    </tr>\n",
       "  </thead>\n",
       "  <tbody>\n",
       "    <tr>\n",
       "      <td>0</td>\n",
       "      <td>0.253068</td>\n",
       "      <td>0.448314</td>\n",
       "      <td>0.872000</td>\n",
       "      <td>00:06</td>\n",
       "    </tr>\n",
       "  </tbody>\n",
       "</table>"
      ],
      "text/plain": [
       "<IPython.core.display.HTML object>"
      ]
     },
     "metadata": {},
     "output_type": "display_data"
    },
    {
     "data": {
      "text/html": [],
      "text/plain": [
       "<IPython.core.display.HTML object>"
      ]
     },
     "metadata": {},
     "output_type": "display_data"
    },
    {
     "name": "stdout",
     "output_type": "stream",
     "text": [
      "finished 2th bootstrap of size400\n"
     ]
    },
    {
     "data": {
      "text/html": [],
      "text/plain": [
       "<IPython.core.display.HTML object>"
      ]
     },
     "metadata": {},
     "output_type": "display_data"
    },
    {
     "data": {
      "text/html": [],
      "text/plain": [
       "<IPython.core.display.HTML object>"
      ]
     },
     "metadata": {},
     "output_type": "display_data"
    },
    {
     "data": {
      "text/html": [
       "<table border=\"1\" class=\"dataframe\">\n",
       "  <thead>\n",
       "    <tr style=\"text-align: left;\">\n",
       "      <th>epoch</th>\n",
       "      <th>train_loss</th>\n",
       "      <th>valid_loss</th>\n",
       "      <th>accuracy</th>\n",
       "      <th>time</th>\n",
       "    </tr>\n",
       "  </thead>\n",
       "  <tbody>\n",
       "    <tr>\n",
       "      <td>0</td>\n",
       "      <td>2.457906</td>\n",
       "      <td>1.925559</td>\n",
       "      <td>0.268000</td>\n",
       "      <td>00:07</td>\n",
       "    </tr>\n",
       "    <tr>\n",
       "      <td>1</td>\n",
       "      <td>1.990363</td>\n",
       "      <td>1.016907</td>\n",
       "      <td>0.791000</td>\n",
       "      <td>00:07</td>\n",
       "    </tr>\n",
       "    <tr>\n",
       "      <td>2</td>\n",
       "      <td>1.491315</td>\n",
       "      <td>0.475256</td>\n",
       "      <td>0.860000</td>\n",
       "      <td>00:06</td>\n",
       "    </tr>\n",
       "    <tr>\n",
       "      <td>3</td>\n",
       "      <td>1.196091</td>\n",
       "      <td>0.498765</td>\n",
       "      <td>0.843000</td>\n",
       "      <td>00:06</td>\n",
       "    </tr>\n",
       "    <tr>\n",
       "      <td>4</td>\n",
       "      <td>0.970379</td>\n",
       "      <td>0.518640</td>\n",
       "      <td>0.824000</td>\n",
       "      <td>00:06</td>\n",
       "    </tr>\n",
       "  </tbody>\n",
       "</table>"
      ],
      "text/plain": [
       "<IPython.core.display.HTML object>"
      ]
     },
     "metadata": {},
     "output_type": "display_data"
    },
    {
     "data": {
      "text/html": [
       "<table border=\"1\" class=\"dataframe\">\n",
       "  <thead>\n",
       "    <tr style=\"text-align: left;\">\n",
       "      <th>epoch</th>\n",
       "      <th>train_loss</th>\n",
       "      <th>valid_loss</th>\n",
       "      <th>accuracy</th>\n",
       "      <th>time</th>\n",
       "    </tr>\n",
       "  </thead>\n",
       "  <tbody>\n",
       "    <tr>\n",
       "      <td>0</td>\n",
       "      <td>0.285678</td>\n",
       "      <td>0.496155</td>\n",
       "      <td>0.834000</td>\n",
       "      <td>00:06</td>\n",
       "    </tr>\n",
       "  </tbody>\n",
       "</table>"
      ],
      "text/plain": [
       "<IPython.core.display.HTML object>"
      ]
     },
     "metadata": {},
     "output_type": "display_data"
    },
    {
     "data": {
      "text/html": [],
      "text/plain": [
       "<IPython.core.display.HTML object>"
      ]
     },
     "metadata": {},
     "output_type": "display_data"
    },
    {
     "name": "stdout",
     "output_type": "stream",
     "text": [
      "finished 3th bootstrap of size400\n"
     ]
    },
    {
     "data": {
      "text/html": [],
      "text/plain": [
       "<IPython.core.display.HTML object>"
      ]
     },
     "metadata": {},
     "output_type": "display_data"
    },
    {
     "data": {
      "text/html": [],
      "text/plain": [
       "<IPython.core.display.HTML object>"
      ]
     },
     "metadata": {},
     "output_type": "display_data"
    },
    {
     "data": {
      "text/html": [
       "<table border=\"1\" class=\"dataframe\">\n",
       "  <thead>\n",
       "    <tr style=\"text-align: left;\">\n",
       "      <th>epoch</th>\n",
       "      <th>train_loss</th>\n",
       "      <th>valid_loss</th>\n",
       "      <th>accuracy</th>\n",
       "      <th>time</th>\n",
       "    </tr>\n",
       "  </thead>\n",
       "  <tbody>\n",
       "    <tr>\n",
       "      <td>0</td>\n",
       "      <td>2.396811</td>\n",
       "      <td>2.001557</td>\n",
       "      <td>0.447500</td>\n",
       "      <td>00:07</td>\n",
       "    </tr>\n",
       "    <tr>\n",
       "      <td>1</td>\n",
       "      <td>1.996747</td>\n",
       "      <td>0.951555</td>\n",
       "      <td>0.737000</td>\n",
       "      <td>00:06</td>\n",
       "    </tr>\n",
       "    <tr>\n",
       "      <td>2</td>\n",
       "      <td>1.525233</td>\n",
       "      <td>0.465906</td>\n",
       "      <td>0.878000</td>\n",
       "      <td>00:06</td>\n",
       "    </tr>\n",
       "    <tr>\n",
       "      <td>3</td>\n",
       "      <td>1.165593</td>\n",
       "      <td>0.380721</td>\n",
       "      <td>0.885000</td>\n",
       "      <td>00:06</td>\n",
       "    </tr>\n",
       "    <tr>\n",
       "      <td>4</td>\n",
       "      <td>0.922233</td>\n",
       "      <td>0.380180</td>\n",
       "      <td>0.881000</td>\n",
       "      <td>00:06</td>\n",
       "    </tr>\n",
       "  </tbody>\n",
       "</table>"
      ],
      "text/plain": [
       "<IPython.core.display.HTML object>"
      ]
     },
     "metadata": {},
     "output_type": "display_data"
    },
    {
     "data": {
      "text/html": [
       "<table border=\"1\" class=\"dataframe\">\n",
       "  <thead>\n",
       "    <tr style=\"text-align: left;\">\n",
       "      <th>epoch</th>\n",
       "      <th>train_loss</th>\n",
       "      <th>valid_loss</th>\n",
       "      <th>accuracy</th>\n",
       "      <th>time</th>\n",
       "    </tr>\n",
       "  </thead>\n",
       "  <tbody>\n",
       "    <tr>\n",
       "      <td>0</td>\n",
       "      <td>0.170963</td>\n",
       "      <td>0.378655</td>\n",
       "      <td>0.882500</td>\n",
       "      <td>00:06</td>\n",
       "    </tr>\n",
       "  </tbody>\n",
       "</table>"
      ],
      "text/plain": [
       "<IPython.core.display.HTML object>"
      ]
     },
     "metadata": {},
     "output_type": "display_data"
    },
    {
     "data": {
      "text/html": [],
      "text/plain": [
       "<IPython.core.display.HTML object>"
      ]
     },
     "metadata": {},
     "output_type": "display_data"
    },
    {
     "name": "stdout",
     "output_type": "stream",
     "text": [
      "finished 4th bootstrap of size400\n"
     ]
    },
    {
     "data": {
      "text/html": [],
      "text/plain": [
       "<IPython.core.display.HTML object>"
      ]
     },
     "metadata": {},
     "output_type": "display_data"
    },
    {
     "data": {
      "text/html": [],
      "text/plain": [
       "<IPython.core.display.HTML object>"
      ]
     },
     "metadata": {},
     "output_type": "display_data"
    },
    {
     "data": {
      "text/html": [
       "<table border=\"1\" class=\"dataframe\">\n",
       "  <thead>\n",
       "    <tr style=\"text-align: left;\">\n",
       "      <th>epoch</th>\n",
       "      <th>train_loss</th>\n",
       "      <th>valid_loss</th>\n",
       "      <th>accuracy</th>\n",
       "      <th>time</th>\n",
       "    </tr>\n",
       "  </thead>\n",
       "  <tbody>\n",
       "    <tr>\n",
       "      <td>0</td>\n",
       "      <td>2.110701</td>\n",
       "      <td>1.237030</td>\n",
       "      <td>0.665000</td>\n",
       "      <td>00:09</td>\n",
       "    </tr>\n",
       "    <tr>\n",
       "      <td>1</td>\n",
       "      <td>1.333829</td>\n",
       "      <td>0.816035</td>\n",
       "      <td>0.733000</td>\n",
       "      <td>00:09</td>\n",
       "    </tr>\n",
       "    <tr>\n",
       "      <td>2</td>\n",
       "      <td>0.981145</td>\n",
       "      <td>0.533799</td>\n",
       "      <td>0.861000</td>\n",
       "      <td>00:09</td>\n",
       "    </tr>\n",
       "    <tr>\n",
       "      <td>3</td>\n",
       "      <td>0.736599</td>\n",
       "      <td>0.460747</td>\n",
       "      <td>0.872000</td>\n",
       "      <td>00:08</td>\n",
       "    </tr>\n",
       "    <tr>\n",
       "      <td>4</td>\n",
       "      <td>0.565996</td>\n",
       "      <td>0.476259</td>\n",
       "      <td>0.868500</td>\n",
       "      <td>00:09</td>\n",
       "    </tr>\n",
       "  </tbody>\n",
       "</table>"
      ],
      "text/plain": [
       "<IPython.core.display.HTML object>"
      ]
     },
     "metadata": {},
     "output_type": "display_data"
    },
    {
     "data": {
      "text/html": [
       "<table border=\"1\" class=\"dataframe\">\n",
       "  <thead>\n",
       "    <tr style=\"text-align: left;\">\n",
       "      <th>epoch</th>\n",
       "      <th>train_loss</th>\n",
       "      <th>valid_loss</th>\n",
       "      <th>accuracy</th>\n",
       "      <th>time</th>\n",
       "    </tr>\n",
       "  </thead>\n",
       "  <tbody>\n",
       "    <tr>\n",
       "      <td>0</td>\n",
       "      <td>0.170858</td>\n",
       "      <td>0.474716</td>\n",
       "      <td>0.870000</td>\n",
       "      <td>00:09</td>\n",
       "    </tr>\n",
       "  </tbody>\n",
       "</table>"
      ],
      "text/plain": [
       "<IPython.core.display.HTML object>"
      ]
     },
     "metadata": {},
     "output_type": "display_data"
    },
    {
     "data": {
      "text/html": [],
      "text/plain": [
       "<IPython.core.display.HTML object>"
      ]
     },
     "metadata": {},
     "output_type": "display_data"
    },
    {
     "name": "stdout",
     "output_type": "stream",
     "text": [
      "finished 0th bootstrap of size800\n"
     ]
    },
    {
     "data": {
      "text/html": [],
      "text/plain": [
       "<IPython.core.display.HTML object>"
      ]
     },
     "metadata": {},
     "output_type": "display_data"
    },
    {
     "data": {
      "text/html": [],
      "text/plain": [
       "<IPython.core.display.HTML object>"
      ]
     },
     "metadata": {},
     "output_type": "display_data"
    },
    {
     "data": {
      "text/html": [
       "<table border=\"1\" class=\"dataframe\">\n",
       "  <thead>\n",
       "    <tr style=\"text-align: left;\">\n",
       "      <th>epoch</th>\n",
       "      <th>train_loss</th>\n",
       "      <th>valid_loss</th>\n",
       "      <th>accuracy</th>\n",
       "      <th>time</th>\n",
       "    </tr>\n",
       "  </thead>\n",
       "  <tbody>\n",
       "    <tr>\n",
       "      <td>0</td>\n",
       "      <td>2.094341</td>\n",
       "      <td>1.149475</td>\n",
       "      <td>0.827000</td>\n",
       "      <td>00:08</td>\n",
       "    </tr>\n",
       "    <tr>\n",
       "      <td>1</td>\n",
       "      <td>1.330111</td>\n",
       "      <td>0.419995</td>\n",
       "      <td>0.875500</td>\n",
       "      <td>00:08</td>\n",
       "    </tr>\n",
       "    <tr>\n",
       "      <td>2</td>\n",
       "      <td>0.894438</td>\n",
       "      <td>0.410990</td>\n",
       "      <td>0.878500</td>\n",
       "      <td>00:08</td>\n",
       "    </tr>\n",
       "    <tr>\n",
       "      <td>3</td>\n",
       "      <td>0.668746</td>\n",
       "      <td>0.521589</td>\n",
       "      <td>0.847500</td>\n",
       "      <td>00:08</td>\n",
       "    </tr>\n",
       "    <tr>\n",
       "      <td>4</td>\n",
       "      <td>0.498940</td>\n",
       "      <td>0.463643</td>\n",
       "      <td>0.871500</td>\n",
       "      <td>00:08</td>\n",
       "    </tr>\n",
       "  </tbody>\n",
       "</table>"
      ],
      "text/plain": [
       "<IPython.core.display.HTML object>"
      ]
     },
     "metadata": {},
     "output_type": "display_data"
    },
    {
     "data": {
      "text/html": [
       "<table border=\"1\" class=\"dataframe\">\n",
       "  <thead>\n",
       "    <tr style=\"text-align: left;\">\n",
       "      <th>epoch</th>\n",
       "      <th>train_loss</th>\n",
       "      <th>valid_loss</th>\n",
       "      <th>accuracy</th>\n",
       "      <th>time</th>\n",
       "    </tr>\n",
       "  </thead>\n",
       "  <tbody>\n",
       "    <tr>\n",
       "      <td>0</td>\n",
       "      <td>0.099732</td>\n",
       "      <td>0.457666</td>\n",
       "      <td>0.874500</td>\n",
       "      <td>00:08</td>\n",
       "    </tr>\n",
       "  </tbody>\n",
       "</table>"
      ],
      "text/plain": [
       "<IPython.core.display.HTML object>"
      ]
     },
     "metadata": {},
     "output_type": "display_data"
    },
    {
     "data": {
      "text/html": [],
      "text/plain": [
       "<IPython.core.display.HTML object>"
      ]
     },
     "metadata": {},
     "output_type": "display_data"
    },
    {
     "name": "stdout",
     "output_type": "stream",
     "text": [
      "finished 1th bootstrap of size800\n"
     ]
    },
    {
     "data": {
      "text/html": [],
      "text/plain": [
       "<IPython.core.display.HTML object>"
      ]
     },
     "metadata": {},
     "output_type": "display_data"
    },
    {
     "data": {
      "text/html": [],
      "text/plain": [
       "<IPython.core.display.HTML object>"
      ]
     },
     "metadata": {},
     "output_type": "display_data"
    },
    {
     "data": {
      "text/html": [
       "<table border=\"1\" class=\"dataframe\">\n",
       "  <thead>\n",
       "    <tr style=\"text-align: left;\">\n",
       "      <th>epoch</th>\n",
       "      <th>train_loss</th>\n",
       "      <th>valid_loss</th>\n",
       "      <th>accuracy</th>\n",
       "      <th>time</th>\n",
       "    </tr>\n",
       "  </thead>\n",
       "  <tbody>\n",
       "    <tr>\n",
       "      <td>0</td>\n",
       "      <td>2.181184</td>\n",
       "      <td>1.338017</td>\n",
       "      <td>0.765500</td>\n",
       "      <td>00:08</td>\n",
       "    </tr>\n",
       "    <tr>\n",
       "      <td>1</td>\n",
       "      <td>1.399885</td>\n",
       "      <td>0.523344</td>\n",
       "      <td>0.824000</td>\n",
       "      <td>00:08</td>\n",
       "    </tr>\n",
       "    <tr>\n",
       "      <td>2</td>\n",
       "      <td>0.919741</td>\n",
       "      <td>0.472648</td>\n",
       "      <td>0.866500</td>\n",
       "      <td>00:08</td>\n",
       "    </tr>\n",
       "    <tr>\n",
       "      <td>3</td>\n",
       "      <td>0.648297</td>\n",
       "      <td>0.489959</td>\n",
       "      <td>0.872500</td>\n",
       "      <td>00:08</td>\n",
       "    </tr>\n",
       "    <tr>\n",
       "      <td>4</td>\n",
       "      <td>0.473857</td>\n",
       "      <td>0.443745</td>\n",
       "      <td>0.885500</td>\n",
       "      <td>00:08</td>\n",
       "    </tr>\n",
       "  </tbody>\n",
       "</table>"
      ],
      "text/plain": [
       "<IPython.core.display.HTML object>"
      ]
     },
     "metadata": {},
     "output_type": "display_data"
    },
    {
     "data": {
      "text/html": [
       "<table border=\"1\" class=\"dataframe\">\n",
       "  <thead>\n",
       "    <tr style=\"text-align: left;\">\n",
       "      <th>epoch</th>\n",
       "      <th>train_loss</th>\n",
       "      <th>valid_loss</th>\n",
       "      <th>accuracy</th>\n",
       "      <th>time</th>\n",
       "    </tr>\n",
       "  </thead>\n",
       "  <tbody>\n",
       "    <tr>\n",
       "      <td>0</td>\n",
       "      <td>0.062800</td>\n",
       "      <td>0.441387</td>\n",
       "      <td>0.886000</td>\n",
       "      <td>00:08</td>\n",
       "    </tr>\n",
       "  </tbody>\n",
       "</table>"
      ],
      "text/plain": [
       "<IPython.core.display.HTML object>"
      ]
     },
     "metadata": {},
     "output_type": "display_data"
    },
    {
     "data": {
      "text/html": [],
      "text/plain": [
       "<IPython.core.display.HTML object>"
      ]
     },
     "metadata": {},
     "output_type": "display_data"
    },
    {
     "name": "stdout",
     "output_type": "stream",
     "text": [
      "finished 2th bootstrap of size800\n"
     ]
    },
    {
     "data": {
      "text/html": [],
      "text/plain": [
       "<IPython.core.display.HTML object>"
      ]
     },
     "metadata": {},
     "output_type": "display_data"
    },
    {
     "data": {
      "text/html": [],
      "text/plain": [
       "<IPython.core.display.HTML object>"
      ]
     },
     "metadata": {},
     "output_type": "display_data"
    },
    {
     "data": {
      "text/html": [
       "<table border=\"1\" class=\"dataframe\">\n",
       "  <thead>\n",
       "    <tr style=\"text-align: left;\">\n",
       "      <th>epoch</th>\n",
       "      <th>train_loss</th>\n",
       "      <th>valid_loss</th>\n",
       "      <th>accuracy</th>\n",
       "      <th>time</th>\n",
       "    </tr>\n",
       "  </thead>\n",
       "  <tbody>\n",
       "    <tr>\n",
       "      <td>0</td>\n",
       "      <td>2.060928</td>\n",
       "      <td>1.258938</td>\n",
       "      <td>0.847500</td>\n",
       "      <td>00:08</td>\n",
       "    </tr>\n",
       "    <tr>\n",
       "      <td>1</td>\n",
       "      <td>1.339710</td>\n",
       "      <td>0.483402</td>\n",
       "      <td>0.861500</td>\n",
       "      <td>00:08</td>\n",
       "    </tr>\n",
       "    <tr>\n",
       "      <td>2</td>\n",
       "      <td>0.950923</td>\n",
       "      <td>0.463643</td>\n",
       "      <td>0.856000</td>\n",
       "      <td>00:08</td>\n",
       "    </tr>\n",
       "    <tr>\n",
       "      <td>3</td>\n",
       "      <td>0.700766</td>\n",
       "      <td>0.465757</td>\n",
       "      <td>0.865000</td>\n",
       "      <td>00:08</td>\n",
       "    </tr>\n",
       "    <tr>\n",
       "      <td>4</td>\n",
       "      <td>0.531557</td>\n",
       "      <td>0.474858</td>\n",
       "      <td>0.864000</td>\n",
       "      <td>00:08</td>\n",
       "    </tr>\n",
       "  </tbody>\n",
       "</table>"
      ],
      "text/plain": [
       "<IPython.core.display.HTML object>"
      ]
     },
     "metadata": {},
     "output_type": "display_data"
    },
    {
     "data": {
      "text/html": [
       "<table border=\"1\" class=\"dataframe\">\n",
       "  <thead>\n",
       "    <tr style=\"text-align: left;\">\n",
       "      <th>epoch</th>\n",
       "      <th>train_loss</th>\n",
       "      <th>valid_loss</th>\n",
       "      <th>accuracy</th>\n",
       "      <th>time</th>\n",
       "    </tr>\n",
       "  </thead>\n",
       "  <tbody>\n",
       "    <tr>\n",
       "      <td>0</td>\n",
       "      <td>0.126793</td>\n",
       "      <td>0.460972</td>\n",
       "      <td>0.869500</td>\n",
       "      <td>00:08</td>\n",
       "    </tr>\n",
       "  </tbody>\n",
       "</table>"
      ],
      "text/plain": [
       "<IPython.core.display.HTML object>"
      ]
     },
     "metadata": {},
     "output_type": "display_data"
    },
    {
     "data": {
      "text/html": [],
      "text/plain": [
       "<IPython.core.display.HTML object>"
      ]
     },
     "metadata": {},
     "output_type": "display_data"
    },
    {
     "name": "stdout",
     "output_type": "stream",
     "text": [
      "finished 3th bootstrap of size800\n"
     ]
    },
    {
     "data": {
      "text/html": [],
      "text/plain": [
       "<IPython.core.display.HTML object>"
      ]
     },
     "metadata": {},
     "output_type": "display_data"
    },
    {
     "data": {
      "text/html": [],
      "text/plain": [
       "<IPython.core.display.HTML object>"
      ]
     },
     "metadata": {},
     "output_type": "display_data"
    },
    {
     "data": {
      "text/html": [
       "<table border=\"1\" class=\"dataframe\">\n",
       "  <thead>\n",
       "    <tr style=\"text-align: left;\">\n",
       "      <th>epoch</th>\n",
       "      <th>train_loss</th>\n",
       "      <th>valid_loss</th>\n",
       "      <th>accuracy</th>\n",
       "      <th>time</th>\n",
       "    </tr>\n",
       "  </thead>\n",
       "  <tbody>\n",
       "    <tr>\n",
       "      <td>0</td>\n",
       "      <td>2.082228</td>\n",
       "      <td>1.440011</td>\n",
       "      <td>0.477500</td>\n",
       "      <td>00:08</td>\n",
       "    </tr>\n",
       "    <tr>\n",
       "      <td>1</td>\n",
       "      <td>1.379903</td>\n",
       "      <td>0.451191</td>\n",
       "      <td>0.868500</td>\n",
       "      <td>00:08</td>\n",
       "    </tr>\n",
       "    <tr>\n",
       "      <td>2</td>\n",
       "      <td>0.993142</td>\n",
       "      <td>0.475398</td>\n",
       "      <td>0.855000</td>\n",
       "      <td>00:08</td>\n",
       "    </tr>\n",
       "    <tr>\n",
       "      <td>3</td>\n",
       "      <td>0.709485</td>\n",
       "      <td>0.452022</td>\n",
       "      <td>0.870500</td>\n",
       "      <td>00:08</td>\n",
       "    </tr>\n",
       "    <tr>\n",
       "      <td>4</td>\n",
       "      <td>0.527988</td>\n",
       "      <td>0.473171</td>\n",
       "      <td>0.866500</td>\n",
       "      <td>00:08</td>\n",
       "    </tr>\n",
       "  </tbody>\n",
       "</table>"
      ],
      "text/plain": [
       "<IPython.core.display.HTML object>"
      ]
     },
     "metadata": {},
     "output_type": "display_data"
    },
    {
     "data": {
      "text/html": [
       "<table border=\"1\" class=\"dataframe\">\n",
       "  <thead>\n",
       "    <tr style=\"text-align: left;\">\n",
       "      <th>epoch</th>\n",
       "      <th>train_loss</th>\n",
       "      <th>valid_loss</th>\n",
       "      <th>accuracy</th>\n",
       "      <th>time</th>\n",
       "    </tr>\n",
       "  </thead>\n",
       "  <tbody>\n",
       "    <tr>\n",
       "      <td>0</td>\n",
       "      <td>0.111550</td>\n",
       "      <td>0.472238</td>\n",
       "      <td>0.867000</td>\n",
       "      <td>00:08</td>\n",
       "    </tr>\n",
       "  </tbody>\n",
       "</table>"
      ],
      "text/plain": [
       "<IPython.core.display.HTML object>"
      ]
     },
     "metadata": {},
     "output_type": "display_data"
    },
    {
     "data": {
      "text/html": [],
      "text/plain": [
       "<IPython.core.display.HTML object>"
      ]
     },
     "metadata": {},
     "output_type": "display_data"
    },
    {
     "name": "stdout",
     "output_type": "stream",
     "text": [
      "finished 4th bootstrap of size800\n"
     ]
    },
    {
     "data": {
      "text/html": [],
      "text/plain": [
       "<IPython.core.display.HTML object>"
      ]
     },
     "metadata": {},
     "output_type": "display_data"
    },
    {
     "data": {
      "text/html": [],
      "text/plain": [
       "<IPython.core.display.HTML object>"
      ]
     },
     "metadata": {},
     "output_type": "display_data"
    },
    {
     "data": {
      "text/html": [
       "<table border=\"1\" class=\"dataframe\">\n",
       "  <thead>\n",
       "    <tr style=\"text-align: left;\">\n",
       "      <th>epoch</th>\n",
       "      <th>train_loss</th>\n",
       "      <th>valid_loss</th>\n",
       "      <th>accuracy</th>\n",
       "      <th>time</th>\n",
       "    </tr>\n",
       "  </thead>\n",
       "  <tbody>\n",
       "    <tr>\n",
       "      <td>0</td>\n",
       "      <td>1.559796</td>\n",
       "      <td>0.626955</td>\n",
       "      <td>0.861000</td>\n",
       "      <td>00:12</td>\n",
       "    </tr>\n",
       "    <tr>\n",
       "      <td>1</td>\n",
       "      <td>0.891636</td>\n",
       "      <td>0.476689</td>\n",
       "      <td>0.860500</td>\n",
       "      <td>00:12</td>\n",
       "    </tr>\n",
       "    <tr>\n",
       "      <td>2</td>\n",
       "      <td>0.595194</td>\n",
       "      <td>0.427695</td>\n",
       "      <td>0.872500</td>\n",
       "      <td>00:12</td>\n",
       "    </tr>\n",
       "    <tr>\n",
       "      <td>3</td>\n",
       "      <td>0.386304</td>\n",
       "      <td>0.460787</td>\n",
       "      <td>0.883500</td>\n",
       "      <td>00:12</td>\n",
       "    </tr>\n",
       "    <tr>\n",
       "      <td>4</td>\n",
       "      <td>0.264454</td>\n",
       "      <td>0.478162</td>\n",
       "      <td>0.874000</td>\n",
       "      <td>00:12</td>\n",
       "    </tr>\n",
       "  </tbody>\n",
       "</table>"
      ],
      "text/plain": [
       "<IPython.core.display.HTML object>"
      ]
     },
     "metadata": {},
     "output_type": "display_data"
    },
    {
     "data": {
      "text/html": [
       "<table border=\"1\" class=\"dataframe\">\n",
       "  <thead>\n",
       "    <tr style=\"text-align: left;\">\n",
       "      <th>epoch</th>\n",
       "      <th>train_loss</th>\n",
       "      <th>valid_loss</th>\n",
       "      <th>accuracy</th>\n",
       "      <th>time</th>\n",
       "    </tr>\n",
       "  </thead>\n",
       "  <tbody>\n",
       "    <tr>\n",
       "      <td>0</td>\n",
       "      <td>0.093309</td>\n",
       "      <td>0.451358</td>\n",
       "      <td>0.881500</td>\n",
       "      <td>00:12</td>\n",
       "    </tr>\n",
       "  </tbody>\n",
       "</table>"
      ],
      "text/plain": [
       "<IPython.core.display.HTML object>"
      ]
     },
     "metadata": {},
     "output_type": "display_data"
    },
    {
     "data": {
      "text/html": [],
      "text/plain": [
       "<IPython.core.display.HTML object>"
      ]
     },
     "metadata": {},
     "output_type": "display_data"
    },
    {
     "name": "stdout",
     "output_type": "stream",
     "text": [
      "finished 0th bootstrap of size1600\n"
     ]
    },
    {
     "data": {
      "text/html": [],
      "text/plain": [
       "<IPython.core.display.HTML object>"
      ]
     },
     "metadata": {},
     "output_type": "display_data"
    },
    {
     "data": {
      "text/html": [],
      "text/plain": [
       "<IPython.core.display.HTML object>"
      ]
     },
     "metadata": {},
     "output_type": "display_data"
    },
    {
     "data": {
      "text/html": [
       "<table border=\"1\" class=\"dataframe\">\n",
       "  <thead>\n",
       "    <tr style=\"text-align: left;\">\n",
       "      <th>epoch</th>\n",
       "      <th>train_loss</th>\n",
       "      <th>valid_loss</th>\n",
       "      <th>accuracy</th>\n",
       "      <th>time</th>\n",
       "    </tr>\n",
       "  </thead>\n",
       "  <tbody>\n",
       "    <tr>\n",
       "      <td>0</td>\n",
       "      <td>1.699980</td>\n",
       "      <td>0.505403</td>\n",
       "      <td>0.861000</td>\n",
       "      <td>00:12</td>\n",
       "    </tr>\n",
       "    <tr>\n",
       "      <td>1</td>\n",
       "      <td>0.969933</td>\n",
       "      <td>0.673720</td>\n",
       "      <td>0.820500</td>\n",
       "      <td>00:12</td>\n",
       "    </tr>\n",
       "    <tr>\n",
       "      <td>2</td>\n",
       "      <td>0.623239</td>\n",
       "      <td>0.464719</td>\n",
       "      <td>0.872000</td>\n",
       "      <td>00:12</td>\n",
       "    </tr>\n",
       "    <tr>\n",
       "      <td>3</td>\n",
       "      <td>0.400217</td>\n",
       "      <td>0.477115</td>\n",
       "      <td>0.880500</td>\n",
       "      <td>00:12</td>\n",
       "    </tr>\n",
       "    <tr>\n",
       "      <td>4</td>\n",
       "      <td>0.263909</td>\n",
       "      <td>0.461330</td>\n",
       "      <td>0.886000</td>\n",
       "      <td>00:12</td>\n",
       "    </tr>\n",
       "  </tbody>\n",
       "</table>"
      ],
      "text/plain": [
       "<IPython.core.display.HTML object>"
      ]
     },
     "metadata": {},
     "output_type": "display_data"
    },
    {
     "data": {
      "text/html": [
       "<table border=\"1\" class=\"dataframe\">\n",
       "  <thead>\n",
       "    <tr style=\"text-align: left;\">\n",
       "      <th>epoch</th>\n",
       "      <th>train_loss</th>\n",
       "      <th>valid_loss</th>\n",
       "      <th>accuracy</th>\n",
       "      <th>time</th>\n",
       "    </tr>\n",
       "  </thead>\n",
       "  <tbody>\n",
       "    <tr>\n",
       "      <td>0</td>\n",
       "      <td>0.072530</td>\n",
       "      <td>0.462300</td>\n",
       "      <td>0.887000</td>\n",
       "      <td>00:12</td>\n",
       "    </tr>\n",
       "  </tbody>\n",
       "</table>"
      ],
      "text/plain": [
       "<IPython.core.display.HTML object>"
      ]
     },
     "metadata": {},
     "output_type": "display_data"
    },
    {
     "data": {
      "text/html": [],
      "text/plain": [
       "<IPython.core.display.HTML object>"
      ]
     },
     "metadata": {},
     "output_type": "display_data"
    },
    {
     "name": "stdout",
     "output_type": "stream",
     "text": [
      "finished 1th bootstrap of size1600\n"
     ]
    },
    {
     "data": {
      "text/html": [],
      "text/plain": [
       "<IPython.core.display.HTML object>"
      ]
     },
     "metadata": {},
     "output_type": "display_data"
    },
    {
     "data": {
      "text/html": [],
      "text/plain": [
       "<IPython.core.display.HTML object>"
      ]
     },
     "metadata": {},
     "output_type": "display_data"
    },
    {
     "data": {
      "text/html": [
       "<table border=\"1\" class=\"dataframe\">\n",
       "  <thead>\n",
       "    <tr style=\"text-align: left;\">\n",
       "      <th>epoch</th>\n",
       "      <th>train_loss</th>\n",
       "      <th>valid_loss</th>\n",
       "      <th>accuracy</th>\n",
       "      <th>time</th>\n",
       "    </tr>\n",
       "  </thead>\n",
       "  <tbody>\n",
       "    <tr>\n",
       "      <td>0</td>\n",
       "      <td>1.504042</td>\n",
       "      <td>0.532832</td>\n",
       "      <td>0.848000</td>\n",
       "      <td>00:13</td>\n",
       "    </tr>\n",
       "    <tr>\n",
       "      <td>1</td>\n",
       "      <td>0.869175</td>\n",
       "      <td>0.628776</td>\n",
       "      <td>0.810000</td>\n",
       "      <td>00:13</td>\n",
       "    </tr>\n",
       "    <tr>\n",
       "      <td>2</td>\n",
       "      <td>0.586514</td>\n",
       "      <td>0.550377</td>\n",
       "      <td>0.835000</td>\n",
       "      <td>00:13</td>\n",
       "    </tr>\n",
       "    <tr>\n",
       "      <td>3</td>\n",
       "      <td>0.411271</td>\n",
       "      <td>0.475266</td>\n",
       "      <td>0.868000</td>\n",
       "      <td>00:12</td>\n",
       "    </tr>\n",
       "    <tr>\n",
       "      <td>4</td>\n",
       "      <td>0.287700</td>\n",
       "      <td>0.432160</td>\n",
       "      <td>0.882000</td>\n",
       "      <td>00:13</td>\n",
       "    </tr>\n",
       "  </tbody>\n",
       "</table>"
      ],
      "text/plain": [
       "<IPython.core.display.HTML object>"
      ]
     },
     "metadata": {},
     "output_type": "display_data"
    },
    {
     "data": {
      "text/html": [
       "<table border=\"1\" class=\"dataframe\">\n",
       "  <thead>\n",
       "    <tr style=\"text-align: left;\">\n",
       "      <th>epoch</th>\n",
       "      <th>train_loss</th>\n",
       "      <th>valid_loss</th>\n",
       "      <th>accuracy</th>\n",
       "      <th>time</th>\n",
       "    </tr>\n",
       "  </thead>\n",
       "  <tbody>\n",
       "    <tr>\n",
       "      <td>0</td>\n",
       "      <td>0.103298</td>\n",
       "      <td>0.429784</td>\n",
       "      <td>0.880000</td>\n",
       "      <td>00:12</td>\n",
       "    </tr>\n",
       "  </tbody>\n",
       "</table>"
      ],
      "text/plain": [
       "<IPython.core.display.HTML object>"
      ]
     },
     "metadata": {},
     "output_type": "display_data"
    },
    {
     "data": {
      "text/html": [],
      "text/plain": [
       "<IPython.core.display.HTML object>"
      ]
     },
     "metadata": {},
     "output_type": "display_data"
    },
    {
     "name": "stdout",
     "output_type": "stream",
     "text": [
      "finished 2th bootstrap of size1600\n"
     ]
    },
    {
     "data": {
      "text/html": [],
      "text/plain": [
       "<IPython.core.display.HTML object>"
      ]
     },
     "metadata": {},
     "output_type": "display_data"
    },
    {
     "data": {
      "text/html": [],
      "text/plain": [
       "<IPython.core.display.HTML object>"
      ]
     },
     "metadata": {},
     "output_type": "display_data"
    },
    {
     "data": {
      "text/html": [
       "<table border=\"1\" class=\"dataframe\">\n",
       "  <thead>\n",
       "    <tr style=\"text-align: left;\">\n",
       "      <th>epoch</th>\n",
       "      <th>train_loss</th>\n",
       "      <th>valid_loss</th>\n",
       "      <th>accuracy</th>\n",
       "      <th>time</th>\n",
       "    </tr>\n",
       "  </thead>\n",
       "  <tbody>\n",
       "    <tr>\n",
       "      <td>0</td>\n",
       "      <td>1.836003</td>\n",
       "      <td>0.780261</td>\n",
       "      <td>0.729000</td>\n",
       "      <td>00:12</td>\n",
       "    </tr>\n",
       "    <tr>\n",
       "      <td>1</td>\n",
       "      <td>1.041502</td>\n",
       "      <td>0.480648</td>\n",
       "      <td>0.836500</td>\n",
       "      <td>00:12</td>\n",
       "    </tr>\n",
       "    <tr>\n",
       "      <td>2</td>\n",
       "      <td>0.665701</td>\n",
       "      <td>0.420455</td>\n",
       "      <td>0.872500</td>\n",
       "      <td>00:12</td>\n",
       "    </tr>\n",
       "    <tr>\n",
       "      <td>3</td>\n",
       "      <td>0.428460</td>\n",
       "      <td>0.443462</td>\n",
       "      <td>0.876000</td>\n",
       "      <td>00:12</td>\n",
       "    </tr>\n",
       "    <tr>\n",
       "      <td>4</td>\n",
       "      <td>0.275790</td>\n",
       "      <td>0.463490</td>\n",
       "      <td>0.871500</td>\n",
       "      <td>00:12</td>\n",
       "    </tr>\n",
       "  </tbody>\n",
       "</table>"
      ],
      "text/plain": [
       "<IPython.core.display.HTML object>"
      ]
     },
     "metadata": {},
     "output_type": "display_data"
    },
    {
     "data": {
      "text/html": [
       "<table border=\"1\" class=\"dataframe\">\n",
       "  <thead>\n",
       "    <tr style=\"text-align: left;\">\n",
       "      <th>epoch</th>\n",
       "      <th>train_loss</th>\n",
       "      <th>valid_loss</th>\n",
       "      <th>accuracy</th>\n",
       "      <th>time</th>\n",
       "    </tr>\n",
       "  </thead>\n",
       "  <tbody>\n",
       "    <tr>\n",
       "      <td>0</td>\n",
       "      <td>0.063190</td>\n",
       "      <td>0.468445</td>\n",
       "      <td>0.873000</td>\n",
       "      <td>00:12</td>\n",
       "    </tr>\n",
       "  </tbody>\n",
       "</table>"
      ],
      "text/plain": [
       "<IPython.core.display.HTML object>"
      ]
     },
     "metadata": {},
     "output_type": "display_data"
    },
    {
     "data": {
      "text/html": [],
      "text/plain": [
       "<IPython.core.display.HTML object>"
      ]
     },
     "metadata": {},
     "output_type": "display_data"
    },
    {
     "name": "stdout",
     "output_type": "stream",
     "text": [
      "finished 3th bootstrap of size1600\n"
     ]
    },
    {
     "data": {
      "text/html": [],
      "text/plain": [
       "<IPython.core.display.HTML object>"
      ]
     },
     "metadata": {},
     "output_type": "display_data"
    },
    {
     "data": {
      "text/html": [],
      "text/plain": [
       "<IPython.core.display.HTML object>"
      ]
     },
     "metadata": {},
     "output_type": "display_data"
    },
    {
     "data": {
      "text/html": [
       "<table border=\"1\" class=\"dataframe\">\n",
       "  <thead>\n",
       "    <tr style=\"text-align: left;\">\n",
       "      <th>epoch</th>\n",
       "      <th>train_loss</th>\n",
       "      <th>valid_loss</th>\n",
       "      <th>accuracy</th>\n",
       "      <th>time</th>\n",
       "    </tr>\n",
       "  </thead>\n",
       "  <tbody>\n",
       "    <tr>\n",
       "      <td>0</td>\n",
       "      <td>1.569437</td>\n",
       "      <td>0.523798</td>\n",
       "      <td>0.860500</td>\n",
       "      <td>00:13</td>\n",
       "    </tr>\n",
       "    <tr>\n",
       "      <td>1</td>\n",
       "      <td>0.948981</td>\n",
       "      <td>0.493826</td>\n",
       "      <td>0.850000</td>\n",
       "      <td>00:13</td>\n",
       "    </tr>\n",
       "    <tr>\n",
       "      <td>2</td>\n",
       "      <td>0.664521</td>\n",
       "      <td>0.507820</td>\n",
       "      <td>0.849500</td>\n",
       "      <td>00:12</td>\n",
       "    </tr>\n",
       "    <tr>\n",
       "      <td>3</td>\n",
       "      <td>0.467971</td>\n",
       "      <td>0.413424</td>\n",
       "      <td>0.884000</td>\n",
       "      <td>00:13</td>\n",
       "    </tr>\n",
       "    <tr>\n",
       "      <td>4</td>\n",
       "      <td>0.333625</td>\n",
       "      <td>0.400230</td>\n",
       "      <td>0.890000</td>\n",
       "      <td>00:13</td>\n",
       "    </tr>\n",
       "  </tbody>\n",
       "</table>"
      ],
      "text/plain": [
       "<IPython.core.display.HTML object>"
      ]
     },
     "metadata": {},
     "output_type": "display_data"
    },
    {
     "data": {
      "text/html": [
       "<table border=\"1\" class=\"dataframe\">\n",
       "  <thead>\n",
       "    <tr style=\"text-align: left;\">\n",
       "      <th>epoch</th>\n",
       "      <th>train_loss</th>\n",
       "      <th>valid_loss</th>\n",
       "      <th>accuracy</th>\n",
       "      <th>time</th>\n",
       "    </tr>\n",
       "  </thead>\n",
       "  <tbody>\n",
       "    <tr>\n",
       "      <td>0</td>\n",
       "      <td>0.160989</td>\n",
       "      <td>0.399662</td>\n",
       "      <td>0.885500</td>\n",
       "      <td>00:13</td>\n",
       "    </tr>\n",
       "  </tbody>\n",
       "</table>"
      ],
      "text/plain": [
       "<IPython.core.display.HTML object>"
      ]
     },
     "metadata": {},
     "output_type": "display_data"
    },
    {
     "data": {
      "text/html": [],
      "text/plain": [
       "<IPython.core.display.HTML object>"
      ]
     },
     "metadata": {},
     "output_type": "display_data"
    },
    {
     "name": "stdout",
     "output_type": "stream",
     "text": [
      "finished 4th bootstrap of size1600\n"
     ]
    },
    {
     "data": {
      "text/html": [],
      "text/plain": [
       "<IPython.core.display.HTML object>"
      ]
     },
     "metadata": {},
     "output_type": "display_data"
    },
    {
     "data": {
      "text/html": [],
      "text/plain": [
       "<IPython.core.display.HTML object>"
      ]
     },
     "metadata": {},
     "output_type": "display_data"
    },
    {
     "data": {
      "text/html": [
       "<table border=\"1\" class=\"dataframe\">\n",
       "  <thead>\n",
       "    <tr style=\"text-align: left;\">\n",
       "      <th>epoch</th>\n",
       "      <th>train_loss</th>\n",
       "      <th>valid_loss</th>\n",
       "      <th>accuracy</th>\n",
       "      <th>time</th>\n",
       "    </tr>\n",
       "  </thead>\n",
       "  <tbody>\n",
       "    <tr>\n",
       "      <td>0</td>\n",
       "      <td>1.148161</td>\n",
       "      <td>0.410516</td>\n",
       "      <td>0.867000</td>\n",
       "      <td>00:21</td>\n",
       "    </tr>\n",
       "    <tr>\n",
       "      <td>1</td>\n",
       "      <td>0.628619</td>\n",
       "      <td>0.571573</td>\n",
       "      <td>0.835000</td>\n",
       "      <td>00:21</td>\n",
       "    </tr>\n",
       "    <tr>\n",
       "      <td>2</td>\n",
       "      <td>0.377016</td>\n",
       "      <td>0.437202</td>\n",
       "      <td>0.870000</td>\n",
       "      <td>00:21</td>\n",
       "    </tr>\n",
       "    <tr>\n",
       "      <td>3</td>\n",
       "      <td>0.229605</td>\n",
       "      <td>0.419851</td>\n",
       "      <td>0.877500</td>\n",
       "      <td>00:21</td>\n",
       "    </tr>\n",
       "    <tr>\n",
       "      <td>4</td>\n",
       "      <td>0.129580</td>\n",
       "      <td>0.435183</td>\n",
       "      <td>0.881500</td>\n",
       "      <td>00:21</td>\n",
       "    </tr>\n",
       "  </tbody>\n",
       "</table>"
      ],
      "text/plain": [
       "<IPython.core.display.HTML object>"
      ]
     },
     "metadata": {},
     "output_type": "display_data"
    },
    {
     "data": {
      "text/html": [
       "<table border=\"1\" class=\"dataframe\">\n",
       "  <thead>\n",
       "    <tr style=\"text-align: left;\">\n",
       "      <th>epoch</th>\n",
       "      <th>train_loss</th>\n",
       "      <th>valid_loss</th>\n",
       "      <th>accuracy</th>\n",
       "      <th>time</th>\n",
       "    </tr>\n",
       "  </thead>\n",
       "  <tbody>\n",
       "    <tr>\n",
       "      <td>0</td>\n",
       "      <td>0.058034</td>\n",
       "      <td>0.437416</td>\n",
       "      <td>0.883500</td>\n",
       "      <td>00:21</td>\n",
       "    </tr>\n",
       "  </tbody>\n",
       "</table>"
      ],
      "text/plain": [
       "<IPython.core.display.HTML object>"
      ]
     },
     "metadata": {},
     "output_type": "display_data"
    },
    {
     "data": {
      "text/html": [],
      "text/plain": [
       "<IPython.core.display.HTML object>"
      ]
     },
     "metadata": {},
     "output_type": "display_data"
    },
    {
     "name": "stdout",
     "output_type": "stream",
     "text": [
      "finished 0th bootstrap of size3200\n"
     ]
    },
    {
     "data": {
      "text/html": [],
      "text/plain": [
       "<IPython.core.display.HTML object>"
      ]
     },
     "metadata": {},
     "output_type": "display_data"
    },
    {
     "data": {
      "text/html": [],
      "text/plain": [
       "<IPython.core.display.HTML object>"
      ]
     },
     "metadata": {},
     "output_type": "display_data"
    },
    {
     "data": {
      "text/html": [
       "<table border=\"1\" class=\"dataframe\">\n",
       "  <thead>\n",
       "    <tr style=\"text-align: left;\">\n",
       "      <th>epoch</th>\n",
       "      <th>train_loss</th>\n",
       "      <th>valid_loss</th>\n",
       "      <th>accuracy</th>\n",
       "      <th>time</th>\n",
       "    </tr>\n",
       "  </thead>\n",
       "  <tbody>\n",
       "    <tr>\n",
       "      <td>0</td>\n",
       "      <td>1.154037</td>\n",
       "      <td>0.443954</td>\n",
       "      <td>0.858500</td>\n",
       "      <td>00:21</td>\n",
       "    </tr>\n",
       "    <tr>\n",
       "      <td>1</td>\n",
       "      <td>0.618466</td>\n",
       "      <td>0.401230</td>\n",
       "      <td>0.875500</td>\n",
       "      <td>00:21</td>\n",
       "    </tr>\n",
       "    <tr>\n",
       "      <td>2</td>\n",
       "      <td>0.386743</td>\n",
       "      <td>0.432136</td>\n",
       "      <td>0.866500</td>\n",
       "      <td>00:21</td>\n",
       "    </tr>\n",
       "    <tr>\n",
       "      <td>3</td>\n",
       "      <td>0.227168</td>\n",
       "      <td>0.430170</td>\n",
       "      <td>0.886500</td>\n",
       "      <td>00:21</td>\n",
       "    </tr>\n",
       "    <tr>\n",
       "      <td>4</td>\n",
       "      <td>0.135907</td>\n",
       "      <td>0.416476</td>\n",
       "      <td>0.890500</td>\n",
       "      <td>00:21</td>\n",
       "    </tr>\n",
       "  </tbody>\n",
       "</table>"
      ],
      "text/plain": [
       "<IPython.core.display.HTML object>"
      ]
     },
     "metadata": {},
     "output_type": "display_data"
    },
    {
     "data": {
      "text/html": [
       "<table border=\"1\" class=\"dataframe\">\n",
       "  <thead>\n",
       "    <tr style=\"text-align: left;\">\n",
       "      <th>epoch</th>\n",
       "      <th>train_loss</th>\n",
       "      <th>valid_loss</th>\n",
       "      <th>accuracy</th>\n",
       "      <th>time</th>\n",
       "    </tr>\n",
       "  </thead>\n",
       "  <tbody>\n",
       "    <tr>\n",
       "      <td>0</td>\n",
       "      <td>0.077367</td>\n",
       "      <td>0.414780</td>\n",
       "      <td>0.890000</td>\n",
       "      <td>00:21</td>\n",
       "    </tr>\n",
       "  </tbody>\n",
       "</table>"
      ],
      "text/plain": [
       "<IPython.core.display.HTML object>"
      ]
     },
     "metadata": {},
     "output_type": "display_data"
    },
    {
     "data": {
      "text/html": [],
      "text/plain": [
       "<IPython.core.display.HTML object>"
      ]
     },
     "metadata": {},
     "output_type": "display_data"
    },
    {
     "name": "stdout",
     "output_type": "stream",
     "text": [
      "finished 1th bootstrap of size3200\n"
     ]
    },
    {
     "data": {
      "text/html": [],
      "text/plain": [
       "<IPython.core.display.HTML object>"
      ]
     },
     "metadata": {},
     "output_type": "display_data"
    },
    {
     "data": {
      "text/html": [],
      "text/plain": [
       "<IPython.core.display.HTML object>"
      ]
     },
     "metadata": {},
     "output_type": "display_data"
    },
    {
     "data": {
      "text/html": [
       "<table border=\"1\" class=\"dataframe\">\n",
       "  <thead>\n",
       "    <tr style=\"text-align: left;\">\n",
       "      <th>epoch</th>\n",
       "      <th>train_loss</th>\n",
       "      <th>valid_loss</th>\n",
       "      <th>accuracy</th>\n",
       "      <th>time</th>\n",
       "    </tr>\n",
       "  </thead>\n",
       "  <tbody>\n",
       "    <tr>\n",
       "      <td>0</td>\n",
       "      <td>1.101860</td>\n",
       "      <td>0.543544</td>\n",
       "      <td>0.843500</td>\n",
       "      <td>00:21</td>\n",
       "    </tr>\n",
       "    <tr>\n",
       "      <td>1</td>\n",
       "      <td>0.599298</td>\n",
       "      <td>0.506808</td>\n",
       "      <td>0.863000</td>\n",
       "      <td>00:21</td>\n",
       "    </tr>\n",
       "    <tr>\n",
       "      <td>2</td>\n",
       "      <td>0.432518</td>\n",
       "      <td>0.472185</td>\n",
       "      <td>0.841000</td>\n",
       "      <td>00:21</td>\n",
       "    </tr>\n",
       "    <tr>\n",
       "      <td>3</td>\n",
       "      <td>0.270576</td>\n",
       "      <td>0.402242</td>\n",
       "      <td>0.887500</td>\n",
       "      <td>00:21</td>\n",
       "    </tr>\n",
       "    <tr>\n",
       "      <td>4</td>\n",
       "      <td>0.167975</td>\n",
       "      <td>0.384697</td>\n",
       "      <td>0.888500</td>\n",
       "      <td>00:21</td>\n",
       "    </tr>\n",
       "  </tbody>\n",
       "</table>"
      ],
      "text/plain": [
       "<IPython.core.display.HTML object>"
      ]
     },
     "metadata": {},
     "output_type": "display_data"
    },
    {
     "data": {
      "text/html": [
       "<table border=\"1\" class=\"dataframe\">\n",
       "  <thead>\n",
       "    <tr style=\"text-align: left;\">\n",
       "      <th>epoch</th>\n",
       "      <th>train_loss</th>\n",
       "      <th>valid_loss</th>\n",
       "      <th>accuracy</th>\n",
       "      <th>time</th>\n",
       "    </tr>\n",
       "  </thead>\n",
       "  <tbody>\n",
       "    <tr>\n",
       "      <td>0</td>\n",
       "      <td>0.105307</td>\n",
       "      <td>0.386140</td>\n",
       "      <td>0.887500</td>\n",
       "      <td>00:21</td>\n",
       "    </tr>\n",
       "  </tbody>\n",
       "</table>"
      ],
      "text/plain": [
       "<IPython.core.display.HTML object>"
      ]
     },
     "metadata": {},
     "output_type": "display_data"
    },
    {
     "data": {
      "text/html": [],
      "text/plain": [
       "<IPython.core.display.HTML object>"
      ]
     },
     "metadata": {},
     "output_type": "display_data"
    },
    {
     "name": "stdout",
     "output_type": "stream",
     "text": [
      "finished 2th bootstrap of size3200\n"
     ]
    },
    {
     "data": {
      "text/html": [],
      "text/plain": [
       "<IPython.core.display.HTML object>"
      ]
     },
     "metadata": {},
     "output_type": "display_data"
    },
    {
     "data": {
      "text/html": [],
      "text/plain": [
       "<IPython.core.display.HTML object>"
      ]
     },
     "metadata": {},
     "output_type": "display_data"
    },
    {
     "data": {
      "text/html": [
       "<table border=\"1\" class=\"dataframe\">\n",
       "  <thead>\n",
       "    <tr style=\"text-align: left;\">\n",
       "      <th>epoch</th>\n",
       "      <th>train_loss</th>\n",
       "      <th>valid_loss</th>\n",
       "      <th>accuracy</th>\n",
       "      <th>time</th>\n",
       "    </tr>\n",
       "  </thead>\n",
       "  <tbody>\n",
       "    <tr>\n",
       "      <td>0</td>\n",
       "      <td>1.234660</td>\n",
       "      <td>0.395506</td>\n",
       "      <td>0.879000</td>\n",
       "      <td>00:21</td>\n",
       "    </tr>\n",
       "    <tr>\n",
       "      <td>1</td>\n",
       "      <td>0.607630</td>\n",
       "      <td>0.684985</td>\n",
       "      <td>0.818500</td>\n",
       "      <td>00:21</td>\n",
       "    </tr>\n",
       "    <tr>\n",
       "      <td>2</td>\n",
       "      <td>0.425187</td>\n",
       "      <td>0.547205</td>\n",
       "      <td>0.848500</td>\n",
       "      <td>00:21</td>\n",
       "    </tr>\n",
       "    <tr>\n",
       "      <td>3</td>\n",
       "      <td>0.258296</td>\n",
       "      <td>0.462464</td>\n",
       "      <td>0.868000</td>\n",
       "      <td>00:21</td>\n",
       "    </tr>\n",
       "    <tr>\n",
       "      <td>4</td>\n",
       "      <td>0.161224</td>\n",
       "      <td>0.425209</td>\n",
       "      <td>0.879500</td>\n",
       "      <td>00:21</td>\n",
       "    </tr>\n",
       "  </tbody>\n",
       "</table>"
      ],
      "text/plain": [
       "<IPython.core.display.HTML object>"
      ]
     },
     "metadata": {},
     "output_type": "display_data"
    },
    {
     "data": {
      "text/html": [
       "<table border=\"1\" class=\"dataframe\">\n",
       "  <thead>\n",
       "    <tr style=\"text-align: left;\">\n",
       "      <th>epoch</th>\n",
       "      <th>train_loss</th>\n",
       "      <th>valid_loss</th>\n",
       "      <th>accuracy</th>\n",
       "      <th>time</th>\n",
       "    </tr>\n",
       "  </thead>\n",
       "  <tbody>\n",
       "    <tr>\n",
       "      <td>0</td>\n",
       "      <td>0.093179</td>\n",
       "      <td>0.419205</td>\n",
       "      <td>0.880000</td>\n",
       "      <td>00:21</td>\n",
       "    </tr>\n",
       "  </tbody>\n",
       "</table>"
      ],
      "text/plain": [
       "<IPython.core.display.HTML object>"
      ]
     },
     "metadata": {},
     "output_type": "display_data"
    },
    {
     "data": {
      "text/html": [],
      "text/plain": [
       "<IPython.core.display.HTML object>"
      ]
     },
     "metadata": {},
     "output_type": "display_data"
    },
    {
     "name": "stdout",
     "output_type": "stream",
     "text": [
      "finished 3th bootstrap of size3200\n"
     ]
    },
    {
     "data": {
      "text/html": [],
      "text/plain": [
       "<IPython.core.display.HTML object>"
      ]
     },
     "metadata": {},
     "output_type": "display_data"
    },
    {
     "data": {
      "text/html": [],
      "text/plain": [
       "<IPython.core.display.HTML object>"
      ]
     },
     "metadata": {},
     "output_type": "display_data"
    },
    {
     "data": {
      "text/html": [
       "<table border=\"1\" class=\"dataframe\">\n",
       "  <thead>\n",
       "    <tr style=\"text-align: left;\">\n",
       "      <th>epoch</th>\n",
       "      <th>train_loss</th>\n",
       "      <th>valid_loss</th>\n",
       "      <th>accuracy</th>\n",
       "      <th>time</th>\n",
       "    </tr>\n",
       "  </thead>\n",
       "  <tbody>\n",
       "    <tr>\n",
       "      <td>0</td>\n",
       "      <td>1.298531</td>\n",
       "      <td>0.427787</td>\n",
       "      <td>0.870000</td>\n",
       "      <td>00:21</td>\n",
       "    </tr>\n",
       "    <tr>\n",
       "      <td>1</td>\n",
       "      <td>0.697473</td>\n",
       "      <td>0.579410</td>\n",
       "      <td>0.840000</td>\n",
       "      <td>00:21</td>\n",
       "    </tr>\n",
       "    <tr>\n",
       "      <td>2</td>\n",
       "      <td>0.416612</td>\n",
       "      <td>0.412184</td>\n",
       "      <td>0.874000</td>\n",
       "      <td>00:21</td>\n",
       "    </tr>\n",
       "    <tr>\n",
       "      <td>3</td>\n",
       "      <td>0.255458</td>\n",
       "      <td>0.433046</td>\n",
       "      <td>0.881000</td>\n",
       "      <td>00:21</td>\n",
       "    </tr>\n",
       "    <tr>\n",
       "      <td>4</td>\n",
       "      <td>0.152500</td>\n",
       "      <td>0.470500</td>\n",
       "      <td>0.883000</td>\n",
       "      <td>00:21</td>\n",
       "    </tr>\n",
       "  </tbody>\n",
       "</table>"
      ],
      "text/plain": [
       "<IPython.core.display.HTML object>"
      ]
     },
     "metadata": {},
     "output_type": "display_data"
    },
    {
     "data": {
      "text/html": [
       "<table border=\"1\" class=\"dataframe\">\n",
       "  <thead>\n",
       "    <tr style=\"text-align: left;\">\n",
       "      <th>epoch</th>\n",
       "      <th>train_loss</th>\n",
       "      <th>valid_loss</th>\n",
       "      <th>accuracy</th>\n",
       "      <th>time</th>\n",
       "    </tr>\n",
       "  </thead>\n",
       "  <tbody>\n",
       "    <tr>\n",
       "      <td>0</td>\n",
       "      <td>0.085563</td>\n",
       "      <td>0.438543</td>\n",
       "      <td>0.892500</td>\n",
       "      <td>00:21</td>\n",
       "    </tr>\n",
       "  </tbody>\n",
       "</table>"
      ],
      "text/plain": [
       "<IPython.core.display.HTML object>"
      ]
     },
     "metadata": {},
     "output_type": "display_data"
    },
    {
     "data": {
      "text/html": [],
      "text/plain": [
       "<IPython.core.display.HTML object>"
      ]
     },
     "metadata": {},
     "output_type": "display_data"
    },
    {
     "name": "stdout",
     "output_type": "stream",
     "text": [
      "finished 4th bootstrap of size3200\n"
     ]
    },
    {
     "data": {
      "text/html": [],
      "text/plain": [
       "<IPython.core.display.HTML object>"
      ]
     },
     "metadata": {},
     "output_type": "display_data"
    },
    {
     "data": {
      "text/html": [],
      "text/plain": [
       "<IPython.core.display.HTML object>"
      ]
     },
     "metadata": {},
     "output_type": "display_data"
    },
    {
     "data": {
      "text/html": [
       "<table border=\"1\" class=\"dataframe\">\n",
       "  <thead>\n",
       "    <tr style=\"text-align: left;\">\n",
       "      <th>epoch</th>\n",
       "      <th>train_loss</th>\n",
       "      <th>valid_loss</th>\n",
       "      <th>accuracy</th>\n",
       "      <th>time</th>\n",
       "    </tr>\n",
       "  </thead>\n",
       "  <tbody>\n",
       "    <tr>\n",
       "      <td>0</td>\n",
       "      <td>0.823961</td>\n",
       "      <td>0.445781</td>\n",
       "      <td>0.855500</td>\n",
       "      <td>00:31</td>\n",
       "    </tr>\n",
       "    <tr>\n",
       "      <td>1</td>\n",
       "      <td>0.498685</td>\n",
       "      <td>0.526138</td>\n",
       "      <td>0.845500</td>\n",
       "      <td>00:31</td>\n",
       "    </tr>\n",
       "    <tr>\n",
       "      <td>2</td>\n",
       "      <td>0.307173</td>\n",
       "      <td>0.401365</td>\n",
       "      <td>0.885000</td>\n",
       "      <td>00:32</td>\n",
       "    </tr>\n",
       "    <tr>\n",
       "      <td>3</td>\n",
       "      <td>0.168368</td>\n",
       "      <td>0.374299</td>\n",
       "      <td>0.891500</td>\n",
       "      <td>00:31</td>\n",
       "    </tr>\n",
       "    <tr>\n",
       "      <td>4</td>\n",
       "      <td>0.080792</td>\n",
       "      <td>0.382729</td>\n",
       "      <td>0.897000</td>\n",
       "      <td>00:31</td>\n",
       "    </tr>\n",
       "  </tbody>\n",
       "</table>"
      ],
      "text/plain": [
       "<IPython.core.display.HTML object>"
      ]
     },
     "metadata": {},
     "output_type": "display_data"
    },
    {
     "data": {
      "text/html": [
       "<table border=\"1\" class=\"dataframe\">\n",
       "  <thead>\n",
       "    <tr style=\"text-align: left;\">\n",
       "      <th>epoch</th>\n",
       "      <th>train_loss</th>\n",
       "      <th>valid_loss</th>\n",
       "      <th>accuracy</th>\n",
       "      <th>time</th>\n",
       "    </tr>\n",
       "  </thead>\n",
       "  <tbody>\n",
       "    <tr>\n",
       "      <td>0</td>\n",
       "      <td>0.058451</td>\n",
       "      <td>0.387183</td>\n",
       "      <td>0.896000</td>\n",
       "      <td>00:33</td>\n",
       "    </tr>\n",
       "  </tbody>\n",
       "</table>"
      ],
      "text/plain": [
       "<IPython.core.display.HTML object>"
      ]
     },
     "metadata": {},
     "output_type": "display_data"
    },
    {
     "data": {
      "text/html": [],
      "text/plain": [
       "<IPython.core.display.HTML object>"
      ]
     },
     "metadata": {},
     "output_type": "display_data"
    },
    {
     "name": "stdout",
     "output_type": "stream",
     "text": [
      "finished 0th bootstrap of size5000\n"
     ]
    },
    {
     "data": {
      "text/html": [],
      "text/plain": [
       "<IPython.core.display.HTML object>"
      ]
     },
     "metadata": {},
     "output_type": "display_data"
    },
    {
     "data": {
      "text/html": [],
      "text/plain": [
       "<IPython.core.display.HTML object>"
      ]
     },
     "metadata": {},
     "output_type": "display_data"
    },
    {
     "data": {
      "text/html": [
       "<table border=\"1\" class=\"dataframe\">\n",
       "  <thead>\n",
       "    <tr style=\"text-align: left;\">\n",
       "      <th>epoch</th>\n",
       "      <th>train_loss</th>\n",
       "      <th>valid_loss</th>\n",
       "      <th>accuracy</th>\n",
       "      <th>time</th>\n",
       "    </tr>\n",
       "  </thead>\n",
       "  <tbody>\n",
       "    <tr>\n",
       "      <td>0</td>\n",
       "      <td>0.851250</td>\n",
       "      <td>0.369511</td>\n",
       "      <td>0.883500</td>\n",
       "      <td>00:33</td>\n",
       "    </tr>\n",
       "    <tr>\n",
       "      <td>1</td>\n",
       "      <td>0.469991</td>\n",
       "      <td>0.399542</td>\n",
       "      <td>0.880000</td>\n",
       "      <td>00:33</td>\n",
       "    </tr>\n",
       "    <tr>\n",
       "      <td>2</td>\n",
       "      <td>0.290423</td>\n",
       "      <td>0.599307</td>\n",
       "      <td>0.838000</td>\n",
       "      <td>00:33</td>\n",
       "    </tr>\n",
       "    <tr>\n",
       "      <td>3</td>\n",
       "      <td>0.162117</td>\n",
       "      <td>0.422953</td>\n",
       "      <td>0.888500</td>\n",
       "      <td>00:32</td>\n",
       "    </tr>\n",
       "    <tr>\n",
       "      <td>4</td>\n",
       "      <td>0.090309</td>\n",
       "      <td>0.448792</td>\n",
       "      <td>0.889500</td>\n",
       "      <td>00:31</td>\n",
       "    </tr>\n",
       "  </tbody>\n",
       "</table>"
      ],
      "text/plain": [
       "<IPython.core.display.HTML object>"
      ]
     },
     "metadata": {},
     "output_type": "display_data"
    },
    {
     "data": {
      "text/html": [
       "<table border=\"1\" class=\"dataframe\">\n",
       "  <thead>\n",
       "    <tr style=\"text-align: left;\">\n",
       "      <th>epoch</th>\n",
       "      <th>train_loss</th>\n",
       "      <th>valid_loss</th>\n",
       "      <th>accuracy</th>\n",
       "      <th>time</th>\n",
       "    </tr>\n",
       "  </thead>\n",
       "  <tbody>\n",
       "    <tr>\n",
       "      <td>0</td>\n",
       "      <td>0.060211</td>\n",
       "      <td>0.445532</td>\n",
       "      <td>0.890000</td>\n",
       "      <td>00:31</td>\n",
       "    </tr>\n",
       "  </tbody>\n",
       "</table>"
      ],
      "text/plain": [
       "<IPython.core.display.HTML object>"
      ]
     },
     "metadata": {},
     "output_type": "display_data"
    },
    {
     "data": {
      "text/html": [],
      "text/plain": [
       "<IPython.core.display.HTML object>"
      ]
     },
     "metadata": {},
     "output_type": "display_data"
    },
    {
     "name": "stdout",
     "output_type": "stream",
     "text": [
      "finished 1th bootstrap of size5000\n"
     ]
    },
    {
     "data": {
      "text/html": [],
      "text/plain": [
       "<IPython.core.display.HTML object>"
      ]
     },
     "metadata": {},
     "output_type": "display_data"
    },
    {
     "data": {
      "text/html": [],
      "text/plain": [
       "<IPython.core.display.HTML object>"
      ]
     },
     "metadata": {},
     "output_type": "display_data"
    },
    {
     "data": {
      "text/html": [
       "<table border=\"1\" class=\"dataframe\">\n",
       "  <thead>\n",
       "    <tr style=\"text-align: left;\">\n",
       "      <th>epoch</th>\n",
       "      <th>train_loss</th>\n",
       "      <th>valid_loss</th>\n",
       "      <th>accuracy</th>\n",
       "      <th>time</th>\n",
       "    </tr>\n",
       "  </thead>\n",
       "  <tbody>\n",
       "    <tr>\n",
       "      <td>0</td>\n",
       "      <td>0.787654</td>\n",
       "      <td>0.367998</td>\n",
       "      <td>0.891000</td>\n",
       "      <td>00:31</td>\n",
       "    </tr>\n",
       "    <tr>\n",
       "      <td>1</td>\n",
       "      <td>0.453451</td>\n",
       "      <td>0.529791</td>\n",
       "      <td>0.845000</td>\n",
       "      <td>00:31</td>\n",
       "    </tr>\n",
       "    <tr>\n",
       "      <td>2</td>\n",
       "      <td>0.305758</td>\n",
       "      <td>0.383773</td>\n",
       "      <td>0.874000</td>\n",
       "      <td>00:33</td>\n",
       "    </tr>\n",
       "    <tr>\n",
       "      <td>3</td>\n",
       "      <td>0.162162</td>\n",
       "      <td>0.354911</td>\n",
       "      <td>0.897000</td>\n",
       "      <td>00:32</td>\n",
       "    </tr>\n",
       "    <tr>\n",
       "      <td>4</td>\n",
       "      <td>0.094004</td>\n",
       "      <td>0.367909</td>\n",
       "      <td>0.894000</td>\n",
       "      <td>00:30</td>\n",
       "    </tr>\n",
       "  </tbody>\n",
       "</table>"
      ],
      "text/plain": [
       "<IPython.core.display.HTML object>"
      ]
     },
     "metadata": {},
     "output_type": "display_data"
    },
    {
     "data": {
      "text/html": [
       "<table border=\"1\" class=\"dataframe\">\n",
       "  <thead>\n",
       "    <tr style=\"text-align: left;\">\n",
       "      <th>epoch</th>\n",
       "      <th>train_loss</th>\n",
       "      <th>valid_loss</th>\n",
       "      <th>accuracy</th>\n",
       "      <th>time</th>\n",
       "    </tr>\n",
       "  </thead>\n",
       "  <tbody>\n",
       "    <tr>\n",
       "      <td>0</td>\n",
       "      <td>0.063760</td>\n",
       "      <td>0.370648</td>\n",
       "      <td>0.891500</td>\n",
       "      <td>00:33</td>\n",
       "    </tr>\n",
       "  </tbody>\n",
       "</table>"
      ],
      "text/plain": [
       "<IPython.core.display.HTML object>"
      ]
     },
     "metadata": {},
     "output_type": "display_data"
    },
    {
     "data": {
      "text/html": [],
      "text/plain": [
       "<IPython.core.display.HTML object>"
      ]
     },
     "metadata": {},
     "output_type": "display_data"
    },
    {
     "name": "stdout",
     "output_type": "stream",
     "text": [
      "finished 2th bootstrap of size5000\n"
     ]
    },
    {
     "data": {
      "text/html": [],
      "text/plain": [
       "<IPython.core.display.HTML object>"
      ]
     },
     "metadata": {},
     "output_type": "display_data"
    },
    {
     "data": {
      "text/html": [],
      "text/plain": [
       "<IPython.core.display.HTML object>"
      ]
     },
     "metadata": {},
     "output_type": "display_data"
    },
    {
     "data": {
      "text/html": [
       "<table border=\"1\" class=\"dataframe\">\n",
       "  <thead>\n",
       "    <tr style=\"text-align: left;\">\n",
       "      <th>epoch</th>\n",
       "      <th>train_loss</th>\n",
       "      <th>valid_loss</th>\n",
       "      <th>accuracy</th>\n",
       "      <th>time</th>\n",
       "    </tr>\n",
       "  </thead>\n",
       "  <tbody>\n",
       "    <tr>\n",
       "      <td>0</td>\n",
       "      <td>0.824060</td>\n",
       "      <td>0.402200</td>\n",
       "      <td>0.875500</td>\n",
       "      <td>00:32</td>\n",
       "    </tr>\n",
       "    <tr>\n",
       "      <td>1</td>\n",
       "      <td>0.428064</td>\n",
       "      <td>0.507778</td>\n",
       "      <td>0.844000</td>\n",
       "      <td>00:31</td>\n",
       "    </tr>\n",
       "    <tr>\n",
       "      <td>2</td>\n",
       "      <td>0.242128</td>\n",
       "      <td>0.386714</td>\n",
       "      <td>0.891000</td>\n",
       "      <td>00:30</td>\n",
       "    </tr>\n",
       "    <tr>\n",
       "      <td>3</td>\n",
       "      <td>0.130909</td>\n",
       "      <td>0.413635</td>\n",
       "      <td>0.891000</td>\n",
       "      <td>00:33</td>\n",
       "    </tr>\n",
       "    <tr>\n",
       "      <td>4</td>\n",
       "      <td>0.061159</td>\n",
       "      <td>0.427881</td>\n",
       "      <td>0.892500</td>\n",
       "      <td>00:30</td>\n",
       "    </tr>\n",
       "  </tbody>\n",
       "</table>"
      ],
      "text/plain": [
       "<IPython.core.display.HTML object>"
      ]
     },
     "metadata": {},
     "output_type": "display_data"
    },
    {
     "data": {
      "text/html": [
       "<table border=\"1\" class=\"dataframe\">\n",
       "  <thead>\n",
       "    <tr style=\"text-align: left;\">\n",
       "      <th>epoch</th>\n",
       "      <th>train_loss</th>\n",
       "      <th>valid_loss</th>\n",
       "      <th>accuracy</th>\n",
       "      <th>time</th>\n",
       "    </tr>\n",
       "  </thead>\n",
       "  <tbody>\n",
       "    <tr>\n",
       "      <td>0</td>\n",
       "      <td>0.041827</td>\n",
       "      <td>0.428698</td>\n",
       "      <td>0.893000</td>\n",
       "      <td>00:32</td>\n",
       "    </tr>\n",
       "  </tbody>\n",
       "</table>"
      ],
      "text/plain": [
       "<IPython.core.display.HTML object>"
      ]
     },
     "metadata": {},
     "output_type": "display_data"
    },
    {
     "data": {
      "text/html": [],
      "text/plain": [
       "<IPython.core.display.HTML object>"
      ]
     },
     "metadata": {},
     "output_type": "display_data"
    },
    {
     "name": "stdout",
     "output_type": "stream",
     "text": [
      "finished 3th bootstrap of size5000\n"
     ]
    },
    {
     "data": {
      "text/html": [],
      "text/plain": [
       "<IPython.core.display.HTML object>"
      ]
     },
     "metadata": {},
     "output_type": "display_data"
    },
    {
     "data": {
      "text/html": [],
      "text/plain": [
       "<IPython.core.display.HTML object>"
      ]
     },
     "metadata": {},
     "output_type": "display_data"
    },
    {
     "data": {
      "text/html": [
       "<table border=\"1\" class=\"dataframe\">\n",
       "  <thead>\n",
       "    <tr style=\"text-align: left;\">\n",
       "      <th>epoch</th>\n",
       "      <th>train_loss</th>\n",
       "      <th>valid_loss</th>\n",
       "      <th>accuracy</th>\n",
       "      <th>time</th>\n",
       "    </tr>\n",
       "  </thead>\n",
       "  <tbody>\n",
       "    <tr>\n",
       "      <td>0</td>\n",
       "      <td>0.791366</td>\n",
       "      <td>0.430238</td>\n",
       "      <td>0.877500</td>\n",
       "      <td>00:31</td>\n",
       "    </tr>\n",
       "    <tr>\n",
       "      <td>1</td>\n",
       "      <td>0.456240</td>\n",
       "      <td>0.394010</td>\n",
       "      <td>0.873000</td>\n",
       "      <td>00:33</td>\n",
       "    </tr>\n",
       "    <tr>\n",
       "      <td>2</td>\n",
       "      <td>0.282271</td>\n",
       "      <td>0.463914</td>\n",
       "      <td>0.878500</td>\n",
       "      <td>00:32</td>\n",
       "    </tr>\n",
       "    <tr>\n",
       "      <td>3</td>\n",
       "      <td>0.153220</td>\n",
       "      <td>0.418668</td>\n",
       "      <td>0.892000</td>\n",
       "      <td>00:30</td>\n",
       "    </tr>\n",
       "    <tr>\n",
       "      <td>4</td>\n",
       "      <td>0.090068</td>\n",
       "      <td>0.430624</td>\n",
       "      <td>0.889000</td>\n",
       "      <td>00:31</td>\n",
       "    </tr>\n",
       "  </tbody>\n",
       "</table>"
      ],
      "text/plain": [
       "<IPython.core.display.HTML object>"
      ]
     },
     "metadata": {},
     "output_type": "display_data"
    },
    {
     "data": {
      "text/html": [
       "<table border=\"1\" class=\"dataframe\">\n",
       "  <thead>\n",
       "    <tr style=\"text-align: left;\">\n",
       "      <th>epoch</th>\n",
       "      <th>train_loss</th>\n",
       "      <th>valid_loss</th>\n",
       "      <th>accuracy</th>\n",
       "      <th>time</th>\n",
       "    </tr>\n",
       "  </thead>\n",
       "  <tbody>\n",
       "    <tr>\n",
       "      <td>0</td>\n",
       "      <td>0.070906</td>\n",
       "      <td>0.440728</td>\n",
       "      <td>0.892000</td>\n",
       "      <td>00:31</td>\n",
       "    </tr>\n",
       "  </tbody>\n",
       "</table>"
      ],
      "text/plain": [
       "<IPython.core.display.HTML object>"
      ]
     },
     "metadata": {},
     "output_type": "display_data"
    },
    {
     "data": {
      "text/html": [],
      "text/plain": [
       "<IPython.core.display.HTML object>"
      ]
     },
     "metadata": {},
     "output_type": "display_data"
    },
    {
     "name": "stdout",
     "output_type": "stream",
     "text": [
      "finished 4th bootstrap of size5000\n"
     ]
    }
   ],
   "source": [
    "res_customer = algo_training_size_looper_dl([100, 200, 400, 800, 1600, 3200, 5000], CUSTOMER, train, val, 13 )"
   ]
  },
  {
   "cell_type": "code",
   "execution_count": 40,
   "metadata": {
    "ExecuteTime": {
     "end_time": "2020-01-09T10:54:18.671644Z",
     "start_time": "2020-01-09T10:54:18.644654Z"
    }
   },
   "outputs": [],
   "source": [
    "res_customer.to_csv(CUSTOMER/\"dl_Algo_size_7_bert5_customer.csv\", index = False)"
   ]
  },
  {
   "cell_type": "code",
   "execution_count": 42,
   "metadata": {
    "ExecuteTime": {
     "end_time": "2020-01-09T10:54:50.344479Z",
     "start_time": "2020-01-09T10:54:50.314934Z"
    }
   },
   "outputs": [
    {
     "data": {
      "text/html": [
       "<div>\n",
       "<style scoped>\n",
       "    .dataframe tbody tr th:only-of-type {\n",
       "        vertical-align: middle;\n",
       "    }\n",
       "\n",
       "    .dataframe tbody tr th {\n",
       "        vertical-align: top;\n",
       "    }\n",
       "\n",
       "    .dataframe thead th {\n",
       "        text-align: right;\n",
       "    }\n",
       "</style>\n",
       "<table border=\"1\" class=\"dataframe\">\n",
       "  <thead>\n",
       "    <tr style=\"text-align: right;\">\n",
       "      <th></th>\n",
       "      <th>model_name</th>\n",
       "      <th>training_size</th>\n",
       "      <th>accuracy</th>\n",
       "    </tr>\n",
       "  </thead>\n",
       "  <tbody>\n",
       "    <tr>\n",
       "      <th>30</th>\n",
       "      <td>bert</td>\n",
       "      <td>5000</td>\n",
       "      <td>0.8960</td>\n",
       "    </tr>\n",
       "    <tr>\n",
       "      <th>31</th>\n",
       "      <td>bert</td>\n",
       "      <td>5000</td>\n",
       "      <td>0.8900</td>\n",
       "    </tr>\n",
       "    <tr>\n",
       "      <th>32</th>\n",
       "      <td>bert</td>\n",
       "      <td>5000</td>\n",
       "      <td>0.8915</td>\n",
       "    </tr>\n",
       "    <tr>\n",
       "      <th>33</th>\n",
       "      <td>bert</td>\n",
       "      <td>5000</td>\n",
       "      <td>0.8930</td>\n",
       "    </tr>\n",
       "    <tr>\n",
       "      <th>34</th>\n",
       "      <td>bert</td>\n",
       "      <td>5000</td>\n",
       "      <td>0.8920</td>\n",
       "    </tr>\n",
       "  </tbody>\n",
       "</table>\n",
       "</div>"
      ],
      "text/plain": [
       "   model_name  training_size  accuracy\n",
       "30       bert           5000    0.8960\n",
       "31       bert           5000    0.8900\n",
       "32       bert           5000    0.8915\n",
       "33       bert           5000    0.8930\n",
       "34       bert           5000    0.8920"
      ]
     },
     "execution_count": 42,
     "metadata": {},
     "output_type": "execute_result"
    }
   ],
   "source": [
    "res_customer.tail()"
   ]
  },
  {
   "cell_type": "markdown",
   "metadata": {},
   "source": [
    "## Evaluate algorithums * training size * class numbers"
   ]
  },
  {
   "cell_type": "markdown",
   "metadata": {},
   "source": [
    "#### DBpedia data"
   ]
  },
  {
   "cell_type": "code",
   "execution_count": 29,
   "metadata": {
    "ExecuteTime": {
     "end_time": "2020-01-08T09:30:19.352976Z",
     "start_time": "2020-01-08T09:30:19.314444Z"
    }
   },
   "outputs": [
    {
     "name": "stdout",
     "output_type": "stream",
     "text": [
      "Plant                     2243\n",
      "OfficeHolder              2209\n",
      "Film                      2170\n",
      "Building                  2161\n",
      "WrittenWork               2155\n",
      "NaturalPlace              2148\n",
      "Album                     2145\n",
      "Athlete                   2133\n",
      "Artist                    2123\n",
      "Village                   2119\n",
      "MeanOfTransportation      2080\n",
      "EducationalInstitution    2079\n",
      "Animal                    2076\n",
      "Name: class, dtype: int64\n"
     ]
    },
    {
     "data": {
      "text/html": [
       "<div>\n",
       "<style scoped>\n",
       "    .dataframe tbody tr th:only-of-type {\n",
       "        vertical-align: middle;\n",
       "    }\n",
       "\n",
       "    .dataframe tbody tr th {\n",
       "        vertical-align: top;\n",
       "    }\n",
       "\n",
       "    .dataframe thead th {\n",
       "        text-align: right;\n",
       "    }\n",
       "</style>\n",
       "<table border=\"1\" class=\"dataframe\">\n",
       "  <thead>\n",
       "    <tr style=\"text-align: right;\">\n",
       "      <th></th>\n",
       "      <th>class</th>\n",
       "      <th>title</th>\n",
       "      <th>contents</th>\n",
       "    </tr>\n",
       "  </thead>\n",
       "  <tbody>\n",
       "    <tr>\n",
       "      <th>0</th>\n",
       "      <td>Building</td>\n",
       "      <td>Peckett OQ Class</td>\n",
       "      <td>The Peckett OQ was a series of three Industri...</td>\n",
       "    </tr>\n",
       "    <tr>\n",
       "      <th>1</th>\n",
       "      <td>NaturalPlace</td>\n",
       "      <td>Yas Viceroy Abu Dhabi Hotel</td>\n",
       "      <td>Yas Viceroy Abu Dhabi Hotel is built across t...</td>\n",
       "    </tr>\n",
       "  </tbody>\n",
       "</table>\n",
       "</div>"
      ],
      "text/plain": [
       "          class                        title  \\\n",
       "0      Building             Peckett OQ Class   \n",
       "1  NaturalPlace  Yas Viceroy Abu Dhabi Hotel   \n",
       "\n",
       "                                            contents  \n",
       "0   The Peckett OQ was a series of three Industri...  \n",
       "1   Yas Viceroy Abu Dhabi Hotel is built across t...  "
      ]
     },
     "execution_count": 29,
     "metadata": {},
     "output_type": "execute_result"
    }
   ],
   "source": [
    "df = DBPEDIA_TRAIN\n",
    "print(df['class'].value_counts())\n",
    "df.head(2)"
   ]
  },
  {
   "cell_type": "code",
   "execution_count": 186,
   "metadata": {
    "ExecuteTime": {
     "end_time": "2020-01-08T08:40:45.107326Z",
     "start_time": "2020-01-08T08:40:45.074620Z"
    }
   },
   "outputs": [],
   "source": [
    "# export\n",
    "def selected_class_df_gen(df, num_class, class_col_index = None):\n",
    "    \"\"\" Generate the dataframe with the corresponding number of classes\"\"\"\n",
    "    idx = 0 if class_col_index is None else class_col_index\n",
    "    \n",
    "    labels = df.iloc[:, idx ].unique()[0:num_class] \n",
    "    return df.loc[df.iloc[:, idx].isin(labels) ,:]\n"
   ]
  },
  {
   "cell_type": "code",
   "execution_count": 8,
   "metadata": {
    "ExecuteTime": {
     "end_time": "2020-01-08T09:17:38.092909Z",
     "start_time": "2020-01-08T09:17:38.060178Z"
    }
   },
   "outputs": [],
   "source": [
    "five_class_df = selected_class_df_gen(df, 5, 0)\n",
    "three_class_df = selected_class_df_gen(df, 3, 0)\n"
   ]
  },
  {
   "cell_type": "code",
   "execution_count": 14,
   "metadata": {
    "ExecuteTime": {
     "end_time": "2020-01-08T09:20:04.389554Z",
     "start_time": "2020-01-08T09:20:04.359882Z"
    }
   },
   "outputs": [
    {
     "name": "stdout",
     "output_type": "stream",
     "text": [
      "three class df shape is (6442, 3)\n",
      "five class df shape is (10706, 3)\n",
      "['Building' 'NaturalPlace' 'Athlete']\n",
      "['Building' 'NaturalPlace' 'Athlete' 'Album' 'Village']\n"
     ]
    }
   ],
   "source": [
    "print(f'three class df shape is {three_class_df.shape}')\n",
    "print(f'five class df shape is {five_class_df.shape}')\n",
    "## the 5 class includes the exact 3 classe types\n",
    "print(three_class_df['class'].unique())\n",
    "print(five_class_df['class'].unique())\n"
   ]
  },
  {
   "cell_type": "code",
   "execution_count": 41,
   "metadata": {
    "ExecuteTime": {
     "end_time": "2020-01-08T09:47:28.434210Z",
     "start_time": "2020-01-08T09:47:24.136735Z"
    }
   },
   "outputs": [],
   "source": [
    "tfidf = TfidfVectorizer(sublinear_tf=True, norm='l2', min_df=5,\n",
    "                        encoding='latin-1', ngram_range=(1, 3), stop_words='english')\n",
    "\n",
    "features = tfidf.fit_transform(five_class_df.contents).toarray()\n",
    "labels = five_class_df['class']\n",
    "\n",
    "x_train, x_test, y_train, y_test = train_test_split(features, labels, test_size=2000, random_state=0 )\n",
    "\n",
    "\n",
    "\n",
    "\n"
   ]
  },
  {
   "cell_type": "code",
   "execution_count": 42,
   "metadata": {
    "ExecuteTime": {
     "end_time": "2020-01-08T09:47:29.344232Z",
     "start_time": "2020-01-08T09:47:29.316308Z"
    }
   },
   "outputs": [],
   "source": [
    "# export\n",
    "def algo_training_size_class_looper(size: list, x_train, x_test, y_train, y_test, class_num):\n",
    "    \"\"\"Loop over a dataset with varying training size * algorithums * certain number of classes and returns a dataframe.\n",
    "    \n",
    "    This function loops over the combination of algorithum, different training size.\n",
    "    The class_num is a placeholder to make sure the correct class_num dataset is fed into model\n",
    "    This function outputs a dataframe with three columns 'model_name', 'training_size', and 'accuracy.'\n",
    "\n",
    "    \"\"\"\n",
    "    entries = []\n",
    "    \n",
    "    for n in size:\n",
    "        # sub sample n first\n",
    "\n",
    "\n",
    "        boot_num = 6\n",
    "        \n",
    "        for i in range(boot_num):\n",
    "             for model in models:\n",
    "                    \n",
    "                index = np.random.randint(0, len(x_train), n)\n",
    "                x_train_sub = x_train[index]\n",
    "                y_train_sub = [list(y_train)[i] for i in index]\n",
    "                \n",
    "                model_name = model.__class__.__name__\n",
    "            \n",
    "                model.fit(x_train_sub, y_train_sub)\n",
    "                y_pred = model.predict(x_test)\n",
    "                accuracy = accuracy_score(y_pred, y_test)\n",
    "\n",
    "                print(\n",
    "                    f'finished {model_name}, {i}th bootstrap of size{n}')\n",
    "                entries.append((model_name, n, class_num, accuracy))\n",
    "                \n",
    "    return pd.DataFrame(entries, columns=['model_name', 'training_size', 'class_num', 'accuracy'])"
   ]
  },
  {
   "cell_type": "code",
   "execution_count": 43,
   "metadata": {
    "ExecuteTime": {
     "end_time": "2020-01-08T09:52:54.875650Z",
     "start_time": "2020-01-08T09:47:33.259127Z"
    }
   },
   "outputs": [
    {
     "name": "stdout",
     "output_type": "stream",
     "text": [
      "finished RandomForestClassifier, 0th bootstrap of size100\n",
      "finished LinearSVC, 0th bootstrap of size100\n",
      "finished MultinomialNB, 0th bootstrap of size100\n",
      "finished LogisticRegression, 0th bootstrap of size100\n",
      "finished RandomForestClassifier, 1th bootstrap of size100\n",
      "finished LinearSVC, 1th bootstrap of size100\n",
      "finished MultinomialNB, 1th bootstrap of size100\n",
      "finished LogisticRegression, 1th bootstrap of size100\n",
      "finished RandomForestClassifier, 2th bootstrap of size100\n",
      "finished LinearSVC, 2th bootstrap of size100\n",
      "finished MultinomialNB, 2th bootstrap of size100\n",
      "finished LogisticRegression, 2th bootstrap of size100\n",
      "finished RandomForestClassifier, 3th bootstrap of size100\n",
      "finished LinearSVC, 3th bootstrap of size100\n",
      "finished MultinomialNB, 3th bootstrap of size100\n",
      "finished LogisticRegression, 3th bootstrap of size100\n",
      "finished RandomForestClassifier, 4th bootstrap of size100\n",
      "finished LinearSVC, 4th bootstrap of size100\n",
      "finished MultinomialNB, 4th bootstrap of size100\n",
      "finished LogisticRegression, 4th bootstrap of size100\n",
      "finished RandomForestClassifier, 5th bootstrap of size100\n",
      "finished LinearSVC, 5th bootstrap of size100\n",
      "finished MultinomialNB, 5th bootstrap of size100\n",
      "finished LogisticRegression, 5th bootstrap of size100\n",
      "finished RandomForestClassifier, 0th bootstrap of size200\n",
      "finished LinearSVC, 0th bootstrap of size200\n",
      "finished MultinomialNB, 0th bootstrap of size200\n",
      "finished LogisticRegression, 0th bootstrap of size200\n",
      "finished RandomForestClassifier, 1th bootstrap of size200\n",
      "finished LinearSVC, 1th bootstrap of size200\n",
      "finished MultinomialNB, 1th bootstrap of size200\n",
      "finished LogisticRegression, 1th bootstrap of size200\n",
      "finished RandomForestClassifier, 2th bootstrap of size200\n",
      "finished LinearSVC, 2th bootstrap of size200\n",
      "finished MultinomialNB, 2th bootstrap of size200\n",
      "finished LogisticRegression, 2th bootstrap of size200\n",
      "finished RandomForestClassifier, 3th bootstrap of size200\n",
      "finished LinearSVC, 3th bootstrap of size200\n",
      "finished MultinomialNB, 3th bootstrap of size200\n",
      "finished LogisticRegression, 3th bootstrap of size200\n",
      "finished RandomForestClassifier, 4th bootstrap of size200\n",
      "finished LinearSVC, 4th bootstrap of size200\n",
      "finished MultinomialNB, 4th bootstrap of size200\n",
      "finished LogisticRegression, 4th bootstrap of size200\n",
      "finished RandomForestClassifier, 5th bootstrap of size200\n",
      "finished LinearSVC, 5th bootstrap of size200\n",
      "finished MultinomialNB, 5th bootstrap of size200\n",
      "finished LogisticRegression, 5th bootstrap of size200\n",
      "finished RandomForestClassifier, 0th bootstrap of size400\n",
      "finished LinearSVC, 0th bootstrap of size400\n",
      "finished MultinomialNB, 0th bootstrap of size400\n",
      "finished LogisticRegression, 0th bootstrap of size400\n",
      "finished RandomForestClassifier, 1th bootstrap of size400\n",
      "finished LinearSVC, 1th bootstrap of size400\n",
      "finished MultinomialNB, 1th bootstrap of size400\n",
      "finished LogisticRegression, 1th bootstrap of size400\n",
      "finished RandomForestClassifier, 2th bootstrap of size400\n",
      "finished LinearSVC, 2th bootstrap of size400\n",
      "finished MultinomialNB, 2th bootstrap of size400\n",
      "finished LogisticRegression, 2th bootstrap of size400\n",
      "finished RandomForestClassifier, 3th bootstrap of size400\n",
      "finished LinearSVC, 3th bootstrap of size400\n",
      "finished MultinomialNB, 3th bootstrap of size400\n",
      "finished LogisticRegression, 3th bootstrap of size400\n",
      "finished RandomForestClassifier, 4th bootstrap of size400\n",
      "finished LinearSVC, 4th bootstrap of size400\n",
      "finished MultinomialNB, 4th bootstrap of size400\n",
      "finished LogisticRegression, 4th bootstrap of size400\n",
      "finished RandomForestClassifier, 5th bootstrap of size400\n",
      "finished LinearSVC, 5th bootstrap of size400\n",
      "finished MultinomialNB, 5th bootstrap of size400\n",
      "finished LogisticRegression, 5th bootstrap of size400\n",
      "finished RandomForestClassifier, 0th bootstrap of size800\n",
      "finished LinearSVC, 0th bootstrap of size800\n",
      "finished MultinomialNB, 0th bootstrap of size800\n",
      "finished LogisticRegression, 0th bootstrap of size800\n",
      "finished RandomForestClassifier, 1th bootstrap of size800\n",
      "finished LinearSVC, 1th bootstrap of size800\n",
      "finished MultinomialNB, 1th bootstrap of size800\n",
      "finished LogisticRegression, 1th bootstrap of size800\n",
      "finished RandomForestClassifier, 2th bootstrap of size800\n",
      "finished LinearSVC, 2th bootstrap of size800\n",
      "finished MultinomialNB, 2th bootstrap of size800\n",
      "finished LogisticRegression, 2th bootstrap of size800\n",
      "finished RandomForestClassifier, 3th bootstrap of size800\n",
      "finished LinearSVC, 3th bootstrap of size800\n",
      "finished MultinomialNB, 3th bootstrap of size800\n",
      "finished LogisticRegression, 3th bootstrap of size800\n",
      "finished RandomForestClassifier, 4th bootstrap of size800\n",
      "finished LinearSVC, 4th bootstrap of size800\n",
      "finished MultinomialNB, 4th bootstrap of size800\n",
      "finished LogisticRegression, 4th bootstrap of size800\n",
      "finished RandomForestClassifier, 5th bootstrap of size800\n",
      "finished LinearSVC, 5th bootstrap of size800\n",
      "finished MultinomialNB, 5th bootstrap of size800\n",
      "finished LogisticRegression, 5th bootstrap of size800\n",
      "finished RandomForestClassifier, 0th bootstrap of size1600\n",
      "finished LinearSVC, 0th bootstrap of size1600\n",
      "finished MultinomialNB, 0th bootstrap of size1600\n",
      "finished LogisticRegression, 0th bootstrap of size1600\n",
      "finished RandomForestClassifier, 1th bootstrap of size1600\n",
      "finished LinearSVC, 1th bootstrap of size1600\n",
      "finished MultinomialNB, 1th bootstrap of size1600\n",
      "finished LogisticRegression, 1th bootstrap of size1600\n",
      "finished RandomForestClassifier, 2th bootstrap of size1600\n",
      "finished LinearSVC, 2th bootstrap of size1600\n",
      "finished MultinomialNB, 2th bootstrap of size1600\n",
      "finished LogisticRegression, 2th bootstrap of size1600\n",
      "finished RandomForestClassifier, 3th bootstrap of size1600\n",
      "finished LinearSVC, 3th bootstrap of size1600\n",
      "finished MultinomialNB, 3th bootstrap of size1600\n",
      "finished LogisticRegression, 3th bootstrap of size1600\n",
      "finished RandomForestClassifier, 4th bootstrap of size1600\n",
      "finished LinearSVC, 4th bootstrap of size1600\n",
      "finished MultinomialNB, 4th bootstrap of size1600\n",
      "finished LogisticRegression, 4th bootstrap of size1600\n",
      "finished RandomForestClassifier, 5th bootstrap of size1600\n",
      "finished LinearSVC, 5th bootstrap of size1600\n",
      "finished MultinomialNB, 5th bootstrap of size1600\n",
      "finished LogisticRegression, 5th bootstrap of size1600\n",
      "finished RandomForestClassifier, 0th bootstrap of size3200\n",
      "finished LinearSVC, 0th bootstrap of size3200\n",
      "finished MultinomialNB, 0th bootstrap of size3200\n",
      "finished LogisticRegression, 0th bootstrap of size3200\n",
      "finished RandomForestClassifier, 1th bootstrap of size3200\n",
      "finished LinearSVC, 1th bootstrap of size3200\n",
      "finished MultinomialNB, 1th bootstrap of size3200\n",
      "finished LogisticRegression, 1th bootstrap of size3200\n",
      "finished RandomForestClassifier, 2th bootstrap of size3200\n",
      "finished LinearSVC, 2th bootstrap of size3200\n",
      "finished MultinomialNB, 2th bootstrap of size3200\n",
      "finished LogisticRegression, 2th bootstrap of size3200\n",
      "finished RandomForestClassifier, 3th bootstrap of size3200\n",
      "finished LinearSVC, 3th bootstrap of size3200\n",
      "finished MultinomialNB, 3th bootstrap of size3200\n",
      "finished LogisticRegression, 3th bootstrap of size3200\n",
      "finished RandomForestClassifier, 4th bootstrap of size3200\n",
      "finished LinearSVC, 4th bootstrap of size3200\n",
      "finished MultinomialNB, 4th bootstrap of size3200\n",
      "finished LogisticRegression, 4th bootstrap of size3200\n",
      "finished RandomForestClassifier, 5th bootstrap of size3200\n",
      "finished LinearSVC, 5th bootstrap of size3200\n",
      "finished MultinomialNB, 5th bootstrap of size3200\n",
      "finished LogisticRegression, 5th bootstrap of size3200\n",
      "finished RandomForestClassifier, 0th bootstrap of size5000\n",
      "finished LinearSVC, 0th bootstrap of size5000\n",
      "finished MultinomialNB, 0th bootstrap of size5000\n",
      "finished LogisticRegression, 0th bootstrap of size5000\n",
      "finished RandomForestClassifier, 1th bootstrap of size5000\n",
      "finished LinearSVC, 1th bootstrap of size5000\n",
      "finished MultinomialNB, 1th bootstrap of size5000\n",
      "finished LogisticRegression, 1th bootstrap of size5000\n",
      "finished RandomForestClassifier, 2th bootstrap of size5000\n",
      "finished LinearSVC, 2th bootstrap of size5000\n",
      "finished MultinomialNB, 2th bootstrap of size5000\n",
      "finished LogisticRegression, 2th bootstrap of size5000\n",
      "finished RandomForestClassifier, 3th bootstrap of size5000\n",
      "finished LinearSVC, 3th bootstrap of size5000\n"
     ]
    },
    {
     "name": "stdout",
     "output_type": "stream",
     "text": [
      "finished MultinomialNB, 3th bootstrap of size5000\n",
      "finished LogisticRegression, 3th bootstrap of size5000\n",
      "finished RandomForestClassifier, 4th bootstrap of size5000\n",
      "finished LinearSVC, 4th bootstrap of size5000\n",
      "finished MultinomialNB, 4th bootstrap of size5000\n",
      "finished LogisticRegression, 4th bootstrap of size5000\n",
      "finished RandomForestClassifier, 5th bootstrap of size5000\n",
      "finished LinearSVC, 5th bootstrap of size5000\n",
      "finished MultinomialNB, 5th bootstrap of size5000\n",
      "finished LogisticRegression, 5th bootstrap of size5000\n"
     ]
    }
   ],
   "source": [
    "res = algo_training_size_class_looper([100, 200, 400, 800, 1600, 3200, 5000], x_train, x_test, y_train, y_test, 5)"
   ]
  },
  {
   "cell_type": "code",
   "execution_count": 44,
   "metadata": {
    "ExecuteTime": {
     "end_time": "2020-01-08T09:54:41.961693Z",
     "start_time": "2020-01-08T09:54:41.925931Z"
    }
   },
   "outputs": [
    {
     "data": {
      "text/html": [
       "<div>\n",
       "<style scoped>\n",
       "    .dataframe tbody tr th:only-of-type {\n",
       "        vertical-align: middle;\n",
       "    }\n",
       "\n",
       "    .dataframe tbody tr th {\n",
       "        vertical-align: top;\n",
       "    }\n",
       "\n",
       "    .dataframe thead th {\n",
       "        text-align: right;\n",
       "    }\n",
       "</style>\n",
       "<table border=\"1\" class=\"dataframe\">\n",
       "  <thead>\n",
       "    <tr style=\"text-align: right;\">\n",
       "      <th></th>\n",
       "      <th>model_name</th>\n",
       "      <th>training_size</th>\n",
       "      <th>class_num</th>\n",
       "      <th>accuracy</th>\n",
       "    </tr>\n",
       "  </thead>\n",
       "  <tbody>\n",
       "    <tr>\n",
       "      <th>0</th>\n",
       "      <td>RandomForestClassifier</td>\n",
       "      <td>100</td>\n",
       "      <td>5</td>\n",
       "      <td>0.6175</td>\n",
       "    </tr>\n",
       "    <tr>\n",
       "      <th>1</th>\n",
       "      <td>LinearSVC</td>\n",
       "      <td>100</td>\n",
       "      <td>5</td>\n",
       "      <td>0.8995</td>\n",
       "    </tr>\n",
       "    <tr>\n",
       "      <th>2</th>\n",
       "      <td>MultinomialNB</td>\n",
       "      <td>100</td>\n",
       "      <td>5</td>\n",
       "      <td>0.5430</td>\n",
       "    </tr>\n",
       "    <tr>\n",
       "      <th>3</th>\n",
       "      <td>LogisticRegression</td>\n",
       "      <td>100</td>\n",
       "      <td>5</td>\n",
       "      <td>0.8100</td>\n",
       "    </tr>\n",
       "    <tr>\n",
       "      <th>4</th>\n",
       "      <td>RandomForestClassifier</td>\n",
       "      <td>100</td>\n",
       "      <td>5</td>\n",
       "      <td>0.4260</td>\n",
       "    </tr>\n",
       "    <tr>\n",
       "      <th>...</th>\n",
       "      <td>...</td>\n",
       "      <td>...</td>\n",
       "      <td>...</td>\n",
       "      <td>...</td>\n",
       "    </tr>\n",
       "    <tr>\n",
       "      <th>163</th>\n",
       "      <td>LogisticRegression</td>\n",
       "      <td>5000</td>\n",
       "      <td>5</td>\n",
       "      <td>0.9845</td>\n",
       "    </tr>\n",
       "    <tr>\n",
       "      <th>164</th>\n",
       "      <td>RandomForestClassifier</td>\n",
       "      <td>5000</td>\n",
       "      <td>5</td>\n",
       "      <td>0.9040</td>\n",
       "    </tr>\n",
       "    <tr>\n",
       "      <th>165</th>\n",
       "      <td>LinearSVC</td>\n",
       "      <td>5000</td>\n",
       "      <td>5</td>\n",
       "      <td>0.9825</td>\n",
       "    </tr>\n",
       "    <tr>\n",
       "      <th>166</th>\n",
       "      <td>MultinomialNB</td>\n",
       "      <td>5000</td>\n",
       "      <td>5</td>\n",
       "      <td>0.9835</td>\n",
       "    </tr>\n",
       "    <tr>\n",
       "      <th>167</th>\n",
       "      <td>LogisticRegression</td>\n",
       "      <td>5000</td>\n",
       "      <td>5</td>\n",
       "      <td>0.9830</td>\n",
       "    </tr>\n",
       "  </tbody>\n",
       "</table>\n",
       "<p>168 rows × 4 columns</p>\n",
       "</div>"
      ],
      "text/plain": [
       "                 model_name  training_size  class_num  accuracy\n",
       "0    RandomForestClassifier            100          5    0.6175\n",
       "1                 LinearSVC            100          5    0.8995\n",
       "2             MultinomialNB            100          5    0.5430\n",
       "3        LogisticRegression            100          5    0.8100\n",
       "4    RandomForestClassifier            100          5    0.4260\n",
       "..                      ...            ...        ...       ...\n",
       "163      LogisticRegression           5000          5    0.9845\n",
       "164  RandomForestClassifier           5000          5    0.9040\n",
       "165               LinearSVC           5000          5    0.9825\n",
       "166           MultinomialNB           5000          5    0.9835\n",
       "167      LogisticRegression           5000          5    0.9830\n",
       "\n",
       "[168 rows x 4 columns]"
      ]
     },
     "execution_count": 44,
     "metadata": {},
     "output_type": "execute_result"
    }
   ],
   "source": [
    "res"
   ]
  },
  {
   "cell_type": "code",
   "execution_count": null,
   "metadata": {},
   "outputs": [],
   "source": [
    "res.to_csv('DBPEDIA/5_class_ml.csv')"
   ]
  },
  {
   "cell_type": "code",
   "execution_count": null,
   "metadata": {},
   "outputs": [],
   "source": []
  },
  {
   "cell_type": "markdown",
   "metadata": {
    "ExecuteTime": {
     "end_time": "2020-01-08T09:57:21.728479Z",
     "start_time": "2020-01-08T09:57:21.701262Z"
    }
   },
   "source": [
    "#### Yelp "
   ]
  },
  {
   "cell_type": "code",
   "execution_count": 58,
   "metadata": {
    "ExecuteTime": {
     "end_time": "2020-01-08T10:03:54.479379Z",
     "start_time": "2020-01-08T10:03:54.443100Z"
    }
   },
   "outputs": [
    {
     "name": "stdout",
     "output_type": "stream",
     "text": [
      "2    2571\n",
      "3    2559\n",
      "4    2494\n",
      "5    2450\n",
      "1    2426\n",
      "Name: class, dtype: int64\n"
     ]
    },
    {
     "data": {
      "text/html": [
       "<div>\n",
       "<style scoped>\n",
       "    .dataframe tbody tr th:only-of-type {\n",
       "        vertical-align: middle;\n",
       "    }\n",
       "\n",
       "    .dataframe tbody tr th {\n",
       "        vertical-align: top;\n",
       "    }\n",
       "\n",
       "    .dataframe thead th {\n",
       "        text-align: right;\n",
       "    }\n",
       "</style>\n",
       "<table border=\"1\" class=\"dataframe\">\n",
       "  <thead>\n",
       "    <tr style=\"text-align: right;\">\n",
       "      <th></th>\n",
       "      <th>class</th>\n",
       "      <th>title</th>\n",
       "    </tr>\n",
       "  </thead>\n",
       "  <tbody>\n",
       "    <tr>\n",
       "      <th>0</th>\n",
       "      <td>1</td>\n",
       "      <td>The apartment I rented was infested with scorp...</td>\n",
       "    </tr>\n",
       "    <tr>\n",
       "      <th>1</th>\n",
       "      <td>4</td>\n",
       "      <td>It seems like other folks had different experi...</td>\n",
       "    </tr>\n",
       "  </tbody>\n",
       "</table>\n",
       "</div>"
      ],
      "text/plain": [
       "   class                                              title\n",
       "0      1  The apartment I rented was infested with scorp...\n",
       "1      4  It seems like other folks had different experi..."
      ]
     },
     "execution_count": 58,
     "metadata": {},
     "output_type": "execute_result"
    }
   ],
   "source": [
    "df = YELP_TRAIN\n",
    "print(df['class'].value_counts())\n",
    "df.head(2)"
   ]
  },
  {
   "cell_type": "code",
   "execution_count": 69,
   "metadata": {
    "ExecuteTime": {
     "end_time": "2020-01-08T10:12:04.595268Z",
     "start_time": "2020-01-08T10:12:04.568526Z"
    }
   },
   "outputs": [],
   "source": [
    "#three_class_df = selected_class_df_gen(df, 3, 0)\n",
    "\n",
    "labels = [1,3,5]\n",
    "three_class_df = df.loc[df['class'].isin(labels) ,:]"
   ]
  },
  {
   "cell_type": "code",
   "execution_count": 71,
   "metadata": {
    "ExecuteTime": {
     "end_time": "2020-01-08T10:12:09.754557Z",
     "start_time": "2020-01-08T10:12:09.726813Z"
    }
   },
   "outputs": [
    {
     "name": "stdout",
     "output_type": "stream",
     "text": [
      "(7435, 2)\n"
     ]
    },
    {
     "data": {
      "text/plain": [
       "array([1, 5, 3])"
      ]
     },
     "execution_count": 71,
     "metadata": {},
     "output_type": "execute_result"
    }
   ],
   "source": [
    "print(three_class_df.shape)\n",
    "three_class_df['class'].unique()"
   ]
  },
  {
   "cell_type": "code",
   "execution_count": 72,
   "metadata": {
    "ExecuteTime": {
     "end_time": "2020-01-08T10:12:30.253880Z",
     "start_time": "2020-01-08T10:12:24.407625Z"
    }
   },
   "outputs": [],
   "source": [
    "tfidf = TfidfVectorizer(sublinear_tf=True, norm='l2', min_df=5,\n",
    "                        encoding='latin-1', ngram_range=(1, 3), stop_words='english')\n",
    "\n",
    "features = tfidf.fit_transform(three_class_df.title).toarray()\n",
    "labels = three_class_df['class']\n",
    "\n",
    "x_train, x_test, y_train, y_test = train_test_split(features, labels, test_size=1000, random_state=0 )"
   ]
  },
  {
   "cell_type": "code",
   "execution_count": 73,
   "metadata": {
    "ExecuteTime": {
     "end_time": "2020-01-08T10:17:25.861573Z",
     "start_time": "2020-01-08T10:12:32.218840Z"
    }
   },
   "outputs": [
    {
     "name": "stdout",
     "output_type": "stream",
     "text": [
      "finished RandomForestClassifier, 0th bootstrap of size100\n",
      "finished LinearSVC, 0th bootstrap of size100\n",
      "finished MultinomialNB, 0th bootstrap of size100\n",
      "finished LogisticRegression, 0th bootstrap of size100\n",
      "finished RandomForestClassifier, 1th bootstrap of size100\n",
      "finished LinearSVC, 1th bootstrap of size100\n",
      "finished MultinomialNB, 1th bootstrap of size100\n",
      "finished LogisticRegression, 1th bootstrap of size100\n",
      "finished RandomForestClassifier, 2th bootstrap of size100\n",
      "finished LinearSVC, 2th bootstrap of size100\n",
      "finished MultinomialNB, 2th bootstrap of size100\n",
      "finished LogisticRegression, 2th bootstrap of size100\n",
      "finished RandomForestClassifier, 3th bootstrap of size100\n",
      "finished LinearSVC, 3th bootstrap of size100\n",
      "finished MultinomialNB, 3th bootstrap of size100\n",
      "finished LogisticRegression, 3th bootstrap of size100\n",
      "finished RandomForestClassifier, 4th bootstrap of size100\n",
      "finished LinearSVC, 4th bootstrap of size100\n",
      "finished MultinomialNB, 4th bootstrap of size100\n",
      "finished LogisticRegression, 4th bootstrap of size100\n",
      "finished RandomForestClassifier, 5th bootstrap of size100\n",
      "finished LinearSVC, 5th bootstrap of size100\n",
      "finished MultinomialNB, 5th bootstrap of size100\n",
      "finished LogisticRegression, 5th bootstrap of size100\n",
      "finished RandomForestClassifier, 0th bootstrap of size200\n",
      "finished LinearSVC, 0th bootstrap of size200\n",
      "finished MultinomialNB, 0th bootstrap of size200\n",
      "finished LogisticRegression, 0th bootstrap of size200\n",
      "finished RandomForestClassifier, 1th bootstrap of size200\n",
      "finished LinearSVC, 1th bootstrap of size200\n",
      "finished MultinomialNB, 1th bootstrap of size200\n",
      "finished LogisticRegression, 1th bootstrap of size200\n",
      "finished RandomForestClassifier, 2th bootstrap of size200\n",
      "finished LinearSVC, 2th bootstrap of size200\n",
      "finished MultinomialNB, 2th bootstrap of size200\n",
      "finished LogisticRegression, 2th bootstrap of size200\n",
      "finished RandomForestClassifier, 3th bootstrap of size200\n",
      "finished LinearSVC, 3th bootstrap of size200\n",
      "finished MultinomialNB, 3th bootstrap of size200\n",
      "finished LogisticRegression, 3th bootstrap of size200\n",
      "finished RandomForestClassifier, 4th bootstrap of size200\n",
      "finished LinearSVC, 4th bootstrap of size200\n",
      "finished MultinomialNB, 4th bootstrap of size200\n",
      "finished LogisticRegression, 4th bootstrap of size200\n",
      "finished RandomForestClassifier, 5th bootstrap of size200\n",
      "finished LinearSVC, 5th bootstrap of size200\n",
      "finished MultinomialNB, 5th bootstrap of size200\n",
      "finished LogisticRegression, 5th bootstrap of size200\n",
      "finished RandomForestClassifier, 0th bootstrap of size400\n",
      "finished LinearSVC, 0th bootstrap of size400\n",
      "finished MultinomialNB, 0th bootstrap of size400\n",
      "finished LogisticRegression, 0th bootstrap of size400\n",
      "finished RandomForestClassifier, 1th bootstrap of size400\n",
      "finished LinearSVC, 1th bootstrap of size400\n",
      "finished MultinomialNB, 1th bootstrap of size400\n",
      "finished LogisticRegression, 1th bootstrap of size400\n",
      "finished RandomForestClassifier, 2th bootstrap of size400\n",
      "finished LinearSVC, 2th bootstrap of size400\n",
      "finished MultinomialNB, 2th bootstrap of size400\n",
      "finished LogisticRegression, 2th bootstrap of size400\n",
      "finished RandomForestClassifier, 3th bootstrap of size400\n",
      "finished LinearSVC, 3th bootstrap of size400\n",
      "finished MultinomialNB, 3th bootstrap of size400\n",
      "finished LogisticRegression, 3th bootstrap of size400\n",
      "finished RandomForestClassifier, 4th bootstrap of size400\n",
      "finished LinearSVC, 4th bootstrap of size400\n",
      "finished MultinomialNB, 4th bootstrap of size400\n",
      "finished LogisticRegression, 4th bootstrap of size400\n",
      "finished RandomForestClassifier, 5th bootstrap of size400\n",
      "finished LinearSVC, 5th bootstrap of size400\n",
      "finished MultinomialNB, 5th bootstrap of size400\n",
      "finished LogisticRegression, 5th bootstrap of size400\n",
      "finished RandomForestClassifier, 0th bootstrap of size800\n",
      "finished LinearSVC, 0th bootstrap of size800\n",
      "finished MultinomialNB, 0th bootstrap of size800\n",
      "finished LogisticRegression, 0th bootstrap of size800\n",
      "finished RandomForestClassifier, 1th bootstrap of size800\n",
      "finished LinearSVC, 1th bootstrap of size800\n",
      "finished MultinomialNB, 1th bootstrap of size800\n",
      "finished LogisticRegression, 1th bootstrap of size800\n",
      "finished RandomForestClassifier, 2th bootstrap of size800\n",
      "finished LinearSVC, 2th bootstrap of size800\n",
      "finished MultinomialNB, 2th bootstrap of size800\n",
      "finished LogisticRegression, 2th bootstrap of size800\n",
      "finished RandomForestClassifier, 3th bootstrap of size800\n",
      "finished LinearSVC, 3th bootstrap of size800\n",
      "finished MultinomialNB, 3th bootstrap of size800\n",
      "finished LogisticRegression, 3th bootstrap of size800\n",
      "finished RandomForestClassifier, 4th bootstrap of size800\n",
      "finished LinearSVC, 4th bootstrap of size800\n",
      "finished MultinomialNB, 4th bootstrap of size800\n",
      "finished LogisticRegression, 4th bootstrap of size800\n",
      "finished RandomForestClassifier, 5th bootstrap of size800\n",
      "finished LinearSVC, 5th bootstrap of size800\n",
      "finished MultinomialNB, 5th bootstrap of size800\n",
      "finished LogisticRegression, 5th bootstrap of size800\n",
      "finished RandomForestClassifier, 0th bootstrap of size1600\n",
      "finished LinearSVC, 0th bootstrap of size1600\n",
      "finished MultinomialNB, 0th bootstrap of size1600\n",
      "finished LogisticRegression, 0th bootstrap of size1600\n",
      "finished RandomForestClassifier, 1th bootstrap of size1600\n",
      "finished LinearSVC, 1th bootstrap of size1600\n",
      "finished MultinomialNB, 1th bootstrap of size1600\n",
      "finished LogisticRegression, 1th bootstrap of size1600\n",
      "finished RandomForestClassifier, 2th bootstrap of size1600\n",
      "finished LinearSVC, 2th bootstrap of size1600\n",
      "finished MultinomialNB, 2th bootstrap of size1600\n",
      "finished LogisticRegression, 2th bootstrap of size1600\n",
      "finished RandomForestClassifier, 3th bootstrap of size1600\n",
      "finished LinearSVC, 3th bootstrap of size1600\n",
      "finished MultinomialNB, 3th bootstrap of size1600\n",
      "finished LogisticRegression, 3th bootstrap of size1600\n",
      "finished RandomForestClassifier, 4th bootstrap of size1600\n",
      "finished LinearSVC, 4th bootstrap of size1600\n",
      "finished MultinomialNB, 4th bootstrap of size1600\n",
      "finished LogisticRegression, 4th bootstrap of size1600\n",
      "finished RandomForestClassifier, 5th bootstrap of size1600\n",
      "finished LinearSVC, 5th bootstrap of size1600\n",
      "finished MultinomialNB, 5th bootstrap of size1600\n",
      "finished LogisticRegression, 5th bootstrap of size1600\n",
      "finished RandomForestClassifier, 0th bootstrap of size3200\n",
      "finished LinearSVC, 0th bootstrap of size3200\n",
      "finished MultinomialNB, 0th bootstrap of size3200\n",
      "finished LogisticRegression, 0th bootstrap of size3200\n",
      "finished RandomForestClassifier, 1th bootstrap of size3200\n",
      "finished LinearSVC, 1th bootstrap of size3200\n",
      "finished MultinomialNB, 1th bootstrap of size3200\n",
      "finished LogisticRegression, 1th bootstrap of size3200\n",
      "finished RandomForestClassifier, 2th bootstrap of size3200\n",
      "finished LinearSVC, 2th bootstrap of size3200\n",
      "finished MultinomialNB, 2th bootstrap of size3200\n",
      "finished LogisticRegression, 2th bootstrap of size3200\n",
      "finished RandomForestClassifier, 3th bootstrap of size3200\n",
      "finished LinearSVC, 3th bootstrap of size3200\n",
      "finished MultinomialNB, 3th bootstrap of size3200\n",
      "finished LogisticRegression, 3th bootstrap of size3200\n",
      "finished RandomForestClassifier, 4th bootstrap of size3200\n",
      "finished LinearSVC, 4th bootstrap of size3200\n",
      "finished MultinomialNB, 4th bootstrap of size3200\n",
      "finished LogisticRegression, 4th bootstrap of size3200\n",
      "finished RandomForestClassifier, 5th bootstrap of size3200\n",
      "finished LinearSVC, 5th bootstrap of size3200\n",
      "finished MultinomialNB, 5th bootstrap of size3200\n",
      "finished LogisticRegression, 5th bootstrap of size3200\n",
      "finished RandomForestClassifier, 0th bootstrap of size5000\n",
      "finished LinearSVC, 0th bootstrap of size5000\n",
      "finished MultinomialNB, 0th bootstrap of size5000\n",
      "finished LogisticRegression, 0th bootstrap of size5000\n",
      "finished RandomForestClassifier, 1th bootstrap of size5000\n",
      "finished LinearSVC, 1th bootstrap of size5000\n",
      "finished MultinomialNB, 1th bootstrap of size5000\n",
      "finished LogisticRegression, 1th bootstrap of size5000\n",
      "finished RandomForestClassifier, 2th bootstrap of size5000\n",
      "finished LinearSVC, 2th bootstrap of size5000\n",
      "finished MultinomialNB, 2th bootstrap of size5000\n",
      "finished LogisticRegression, 2th bootstrap of size5000\n",
      "finished RandomForestClassifier, 3th bootstrap of size5000\n",
      "finished LinearSVC, 3th bootstrap of size5000\n"
     ]
    },
    {
     "name": "stdout",
     "output_type": "stream",
     "text": [
      "finished MultinomialNB, 3th bootstrap of size5000\n",
      "finished LogisticRegression, 3th bootstrap of size5000\n",
      "finished RandomForestClassifier, 4th bootstrap of size5000\n",
      "finished LinearSVC, 4th bootstrap of size5000\n",
      "finished MultinomialNB, 4th bootstrap of size5000\n",
      "finished LogisticRegression, 4th bootstrap of size5000\n",
      "finished RandomForestClassifier, 5th bootstrap of size5000\n",
      "finished LinearSVC, 5th bootstrap of size5000\n",
      "finished MultinomialNB, 5th bootstrap of size5000\n",
      "finished LogisticRegression, 5th bootstrap of size5000\n"
     ]
    }
   ],
   "source": [
    "res = algo_training_size_class_looper([100, 200, 400, 800, 1600, 3200, 5000], x_train, x_test, y_train, y_test, 3)"
   ]
  },
  {
   "cell_type": "code",
   "execution_count": 75,
   "metadata": {
    "ExecuteTime": {
     "end_time": "2020-01-08T10:18:27.475701Z",
     "start_time": "2020-01-08T10:18:27.449193Z"
    }
   },
   "outputs": [],
   "source": [
    "res.to_csv(YELP/'3_class_ml_yelp.csv')"
   ]
  },
  {
   "cell_type": "code",
   "execution_count": 76,
   "metadata": {
    "ExecuteTime": {
     "end_time": "2020-01-08T10:18:32.716716Z",
     "start_time": "2020-01-08T10:18:32.683373Z"
    }
   },
   "outputs": [
    {
     "data": {
      "text/html": [
       "<div>\n",
       "<style scoped>\n",
       "    .dataframe tbody tr th:only-of-type {\n",
       "        vertical-align: middle;\n",
       "    }\n",
       "\n",
       "    .dataframe tbody tr th {\n",
       "        vertical-align: top;\n",
       "    }\n",
       "\n",
       "    .dataframe thead th {\n",
       "        text-align: right;\n",
       "    }\n",
       "</style>\n",
       "<table border=\"1\" class=\"dataframe\">\n",
       "  <thead>\n",
       "    <tr style=\"text-align: right;\">\n",
       "      <th></th>\n",
       "      <th>model_name</th>\n",
       "      <th>training_size</th>\n",
       "      <th>class_num</th>\n",
       "      <th>accuracy</th>\n",
       "    </tr>\n",
       "  </thead>\n",
       "  <tbody>\n",
       "    <tr>\n",
       "      <th>0</th>\n",
       "      <td>RandomForestClassifier</td>\n",
       "      <td>100</td>\n",
       "      <td>3</td>\n",
       "      <td>0.384</td>\n",
       "    </tr>\n",
       "    <tr>\n",
       "      <th>1</th>\n",
       "      <td>LinearSVC</td>\n",
       "      <td>100</td>\n",
       "      <td>3</td>\n",
       "      <td>0.563</td>\n",
       "    </tr>\n",
       "    <tr>\n",
       "      <th>2</th>\n",
       "      <td>MultinomialNB</td>\n",
       "      <td>100</td>\n",
       "      <td>3</td>\n",
       "      <td>0.503</td>\n",
       "    </tr>\n",
       "    <tr>\n",
       "      <th>3</th>\n",
       "      <td>LogisticRegression</td>\n",
       "      <td>100</td>\n",
       "      <td>3</td>\n",
       "      <td>0.528</td>\n",
       "    </tr>\n",
       "    <tr>\n",
       "      <th>4</th>\n",
       "      <td>RandomForestClassifier</td>\n",
       "      <td>100</td>\n",
       "      <td>3</td>\n",
       "      <td>0.377</td>\n",
       "    </tr>\n",
       "    <tr>\n",
       "      <th>...</th>\n",
       "      <td>...</td>\n",
       "      <td>...</td>\n",
       "      <td>...</td>\n",
       "      <td>...</td>\n",
       "    </tr>\n",
       "    <tr>\n",
       "      <th>163</th>\n",
       "      <td>LogisticRegression</td>\n",
       "      <td>5000</td>\n",
       "      <td>3</td>\n",
       "      <td>0.783</td>\n",
       "    </tr>\n",
       "    <tr>\n",
       "      <th>164</th>\n",
       "      <td>RandomForestClassifier</td>\n",
       "      <td>5000</td>\n",
       "      <td>3</td>\n",
       "      <td>0.672</td>\n",
       "    </tr>\n",
       "    <tr>\n",
       "      <th>165</th>\n",
       "      <td>LinearSVC</td>\n",
       "      <td>5000</td>\n",
       "      <td>3</td>\n",
       "      <td>0.763</td>\n",
       "    </tr>\n",
       "    <tr>\n",
       "      <th>166</th>\n",
       "      <td>MultinomialNB</td>\n",
       "      <td>5000</td>\n",
       "      <td>3</td>\n",
       "      <td>0.778</td>\n",
       "    </tr>\n",
       "    <tr>\n",
       "      <th>167</th>\n",
       "      <td>LogisticRegression</td>\n",
       "      <td>5000</td>\n",
       "      <td>3</td>\n",
       "      <td>0.791</td>\n",
       "    </tr>\n",
       "  </tbody>\n",
       "</table>\n",
       "<p>168 rows × 4 columns</p>\n",
       "</div>"
      ],
      "text/plain": [
       "                 model_name  training_size  class_num  accuracy\n",
       "0    RandomForestClassifier            100          3     0.384\n",
       "1                 LinearSVC            100          3     0.563\n",
       "2             MultinomialNB            100          3     0.503\n",
       "3        LogisticRegression            100          3     0.528\n",
       "4    RandomForestClassifier            100          3     0.377\n",
       "..                      ...            ...        ...       ...\n",
       "163      LogisticRegression           5000          3     0.783\n",
       "164  RandomForestClassifier           5000          3     0.672\n",
       "165               LinearSVC           5000          3     0.763\n",
       "166           MultinomialNB           5000          3     0.778\n",
       "167      LogisticRegression           5000          3     0.791\n",
       "\n",
       "[168 rows x 4 columns]"
      ]
     },
     "execution_count": 76,
     "metadata": {},
     "output_type": "execute_result"
    }
   ],
   "source": [
    "res"
   ]
  },
  {
   "cell_type": "code",
   "execution_count": null,
   "metadata": {},
   "outputs": [],
   "source": []
  },
  {
   "cell_type": "markdown",
   "metadata": {
    "ExecuteTime": {
     "end_time": "2020-01-08T05:32:52.615904Z",
     "start_time": "2020-01-08T05:32:52.590599Z"
    }
   },
   "source": [
    "## Export functionalities"
   ]
  },
  {
   "cell_type": "code",
   "execution_count": 11,
   "metadata": {
    "ExecuteTime": {
     "end_time": "2020-01-09T09:57:12.229431Z",
     "start_time": "2020-01-09T09:57:11.988106Z"
    }
   },
   "outputs": [
    {
     "name": "stdout",
     "output_type": "stream",
     "text": [
      "Converted Frame_experiments.ipynb to exp/nb_Frame.py\r\n"
     ]
    }
   ],
   "source": [
    "!python notebook2script.py Frame_experiments.ipynb"
   ]
  },
  {
   "cell_type": "code",
   "execution_count": null,
   "metadata": {},
   "outputs": [],
   "source": []
  }
 ],
 "metadata": {
  "kernelspec": {
   "display_name": "Python 3",
   "language": "python",
   "name": "python3"
  },
  "toc": {
   "base_numbering": 1,
   "nav_menu": {},
   "number_sections": true,
   "sideBar": true,
   "skip_h1_title": false,
   "title_cell": "Table of Contents",
   "title_sidebar": "Contents",
   "toc_cell": false,
   "toc_position": {},
   "toc_section_display": true,
   "toc_window_display": true
  },
  "varInspector": {
   "cols": {
    "lenName": 16,
    "lenType": 16,
    "lenVar": 40
   },
   "kernels_config": {
    "python": {
     "delete_cmd_postfix": "",
     "delete_cmd_prefix": "del ",
     "library": "var_list.py",
     "varRefreshCmd": "print(var_dic_list())"
    },
    "r": {
     "delete_cmd_postfix": ") ",
     "delete_cmd_prefix": "rm(",
     "library": "var_list.r",
     "varRefreshCmd": "cat(var_dic_list()) "
    }
   },
   "types_to_exclude": [
    "module",
    "function",
    "builtin_function_or_method",
    "instance",
    "_Feature"
   ],
   "window_display": false
  }
 },
 "nbformat": 4,
 "nbformat_minor": 2
}
