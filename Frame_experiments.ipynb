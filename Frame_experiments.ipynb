{
 "cells": [
  {
   "cell_type": "markdown",
   "metadata": {},
   "source": [
    "# WHOLE experimentation"
   ]
  },
  {
   "cell_type": "markdown",
   "metadata": {
    "heading_collapsed": true
   },
   "source": [
    "###  Load the necessary packages"
   ]
  },
  {
   "cell_type": "code",
   "execution_count": null,
   "metadata": {
    "hidden": true
   },
   "outputs": [],
   "source": [
    "%reload_ext autoreload\n",
    "%autoreload 2\n",
    "%matplotlib inline"
   ]
  },
  {
   "cell_type": "code",
   "execution_count": 1,
   "metadata": {
    "ExecuteTime": {
     "end_time": "2020-01-06T08:10:15.854377Z",
     "start_time": "2020-01-06T08:10:14.306567Z"
    },
    "hidden": true
   },
   "outputs": [],
   "source": [
    "import numpy as np\n",
    "import pandas as pd\n",
    "from pathlib import Path\n",
    "from typing import *\n",
    "import torch\n",
    "import torch.optim as optim\n",
    "\n",
    "from fastai import *\n",
    "from fastai.text import *\n",
    "from pytorch_transformers import *\n",
    "\n",
    "\n",
    "from fastai.basic_train import *\n",
    "from fastai.basic_train import BasicLearner\n",
    "import sys\n",
    "from sklearn.model_selection import train_test_split\n",
    "\n",
    "from sklearn.feature_extraction.text import TfidfVectorizer\n",
    "\n",
    "from sklearn.feature_selection import chi2\n",
    "import numpy as np"
   ]
  },
  {
   "cell_type": "markdown",
   "metadata": {},
   "source": [
    "###  Read in the data and split them"
   ]
  },
  {
   "cell_type": "markdown",
   "metadata": {
    "heading_collapsed": true
   },
   "source": [
    "#### Read and process Ag_news data"
   ]
  },
  {
   "cell_type": "code",
   "execution_count": 54,
   "metadata": {
    "ExecuteTime": {
     "end_time": "2020-01-06T08:55:02.744857Z",
     "start_time": "2020-01-06T08:55:02.740846Z"
    },
    "hidden": true
   },
   "outputs": [],
   "source": [
    "DATA = Path(os.getcwd())/'Data'\n",
    "AG_NEWS = Path(os.getcwd())/'Data'/'Ag_news'\n",
    "header = ['class', 'title', 'describ']"
   ]
  },
  {
   "cell_type": "code",
   "execution_count": 16,
   "metadata": {
    "ExecuteTime": {
     "end_time": "2020-01-06T08:20:40.731691Z",
     "start_time": "2020-01-06T08:20:40.369172Z"
    },
    "hidden": true
   },
   "outputs": [],
   "source": [
    "\n",
    "#AG_NEWS_train = pd.read_csv(AG_NEWS_folder/'train.csv', names = header)\n",
    "\n",
    "# sample a smaller version  \n",
    "\n",
    "# AG_NEWS_TRAIN = AG_NEWS_train.sample(30000, axis= 0)\n",
    "# AG_NEWS_TRAIN = AG_NEWS_TRAIN.reset_index()\n",
    "# AG_NEWS_TRAIN = AG_NEWS_TRAIN.iloc[:, 1:4]\n",
    "# AG_NEWS_TRAIN.head()\n"
   ]
  },
  {
   "cell_type": "code",
   "execution_count": 55,
   "metadata": {
    "ExecuteTime": {
     "end_time": "2020-01-06T08:55:06.587148Z",
     "start_time": "2020-01-06T08:55:06.558094Z"
    },
    "hidden": true
   },
   "outputs": [],
   "source": [
    "#AG_NEWS_TRAIN.to_feather(AG_NEWS/'training_30k')\n",
    "AG_NEWS_TRAIN = pd.read_feather(AG_NEWS/'training_30k')"
   ]
  },
  {
   "cell_type": "code",
   "execution_count": 31,
   "metadata": {
    "ExecuteTime": {
     "end_time": "2020-01-06T08:30:24.213299Z",
     "start_time": "2020-01-06T08:30:24.209819Z"
    },
    "hidden": true
   },
   "outputs": [],
   "source": [
    "# set the class dict for the class col\n",
    "class_dict = {1: 'world', \n",
    "             2: 'sports',\n",
    "             3: 'business',\n",
    "             4: 'sci_tech'}"
   ]
  },
  {
   "cell_type": "code",
   "execution_count": 21,
   "metadata": {
    "ExecuteTime": {
     "end_time": "2020-01-06T08:22:19.024527Z",
     "start_time": "2020-01-06T08:22:19.012362Z"
    },
    "hidden": true
   },
   "outputs": [
    {
     "data": {
      "text/plain": [
       "4    30000\n",
       "3    30000\n",
       "2    30000\n",
       "1    30000\n",
       "Name: class, dtype: int64"
      ]
     },
     "execution_count": 21,
     "metadata": {},
     "output_type": "execute_result"
    }
   ],
   "source": [
    "AG_NEWS_train['class'].value_counts() # evenly distributed with each class of size 30000"
   ]
  },
  {
   "cell_type": "code",
   "execution_count": 22,
   "metadata": {
    "ExecuteTime": {
     "end_time": "2020-01-06T08:24:35.421513Z",
     "start_time": "2020-01-06T08:24:35.394874Z"
    },
    "hidden": true
   },
   "outputs": [],
   "source": [
    "AG_NEWS_TEST = pd.read_csv(AG_NEWS_folder/'test.csv', names = header)"
   ]
  },
  {
   "cell_type": "code",
   "execution_count": 26,
   "metadata": {
    "ExecuteTime": {
     "end_time": "2020-01-06T08:25:12.509415Z",
     "start_time": "2020-01-06T08:25:12.503135Z"
    },
    "hidden": true
   },
   "outputs": [
    {
     "data": {
      "text/plain": [
       "3    1900\n",
       "2    1900\n",
       "1    1900\n",
       "4    1900\n",
       "Name: class, dtype: int64"
      ]
     },
     "execution_count": 26,
     "metadata": {},
     "output_type": "execute_result"
    }
   ],
   "source": [
    "AG_NEWS_TEST['class'].value_counts() # evenly distributed with each class of size 1900"
   ]
  },
  {
   "cell_type": "code",
   "execution_count": null,
   "metadata": {
    "hidden": true
   },
   "outputs": [],
   "source": []
  },
  {
   "cell_type": "markdown",
   "metadata": {},
   "source": [
    "#### read Dbpedia data "
   ]
  },
  {
   "cell_type": "code",
   "execution_count": 65,
   "metadata": {
    "ExecuteTime": {
     "end_time": "2020-01-06T09:00:48.510721Z",
     "start_time": "2020-01-06T09:00:48.507121Z"
    }
   },
   "outputs": [],
   "source": [
    "DBPEDIA = DATA/'Dbpedia'\n",
    "DBPEDIA.mkdir(exist_ok= True)\n",
    "header = ['class', 'title', 'contents']"
   ]
  },
  {
   "cell_type": "code",
   "execution_count": 66,
   "metadata": {
    "ExecuteTime": {
     "end_time": "2020-01-06T09:01:00.484646Z",
     "start_time": "2020-01-06T09:00:58.354347Z"
    }
   },
   "outputs": [],
   "source": [
    "#DBPEDIA_train = pd.read_csv(DBPEDIA/'train.csv', names= header)\n",
    "\n",
    "#DBPEDIA_train.shape # 559999 data entries\n",
    "\n",
    "\n",
    "# sample a smaller version  \n",
    "\n",
    "# DBPEDIA_TRAIN = DBPEDIA_train.sample(30000, axis= 0)\n",
    "# DBPEDIA_TRAIN = DBPEDIA_TRAIN.reset_index()\n",
    "# DBPEDIA_TRAIN = DBPEDIA_TRAIN.iloc[:, 1:4]\n",
    "# DBPEDIA_TRAIN['class'].unique() #14 classes \n",
    "\n",
    "# DBPEDIA_TRAIN.to_feather(DBPEDIA/'training_30k')\n",
    "DBPEDIA_TRAIN = pd.read_feather(DBPEDIA/'training_30k')"
   ]
  },
  {
   "cell_type": "code",
   "execution_count": 115,
   "metadata": {
    "ExecuteTime": {
     "end_time": "2020-01-06T10:04:47.981453Z",
     "start_time": "2020-01-06T10:04:47.975896Z"
    }
   },
   "outputs": [
    {
     "data": {
      "text/plain": [
       "['Company\\n',\n",
       " 'EducationalInstitution\\n',\n",
       " 'Artist\\n',\n",
       " 'Athlete\\n',\n",
       " 'OfficeHolder\\n',\n",
       " 'MeanOfTransportation\\n',\n",
       " 'Building\\n',\n",
       " 'NaturalPlace\\n',\n",
       " 'Village\\n',\n",
       " 'Animal\\n',\n",
       " 'Plant\\n',\n",
       " 'Album\\n',\n",
       " 'Film\\n',\n",
       " 'WrittenWork\\n']"
      ]
     },
     "execution_count": 115,
     "metadata": {},
     "output_type": "execute_result"
    }
   ],
   "source": [
    "# read in the class dict\n",
    "with open(DBPEDIA/'classes.txt', 'r') as f:\n",
    "    class_ls = f.readlines()\n",
    "\n",
    "class_ls = [re.sub('\\n', \"\", i) for i in class_ls]\n",
    "\n",
    "class_dict = {k:v for k, v in enumerate(class_ls)}"
   ]
  },
  {
   "cell_type": "code",
   "execution_count": 101,
   "metadata": {
    "ExecuteTime": {
     "end_time": "2020-01-06T09:17:58.460856Z",
     "start_time": "2020-01-06T09:17:58.206048Z"
    }
   },
   "outputs": [],
   "source": [
    "#DBPEDIA_test = pd.read_csv(DBPEDIA/'test.csv', names= header)\n",
    "\n",
    "# DBPEDIA_TEST = DBPEDIA_test.sample(28000, axis= 0)\n",
    "# DBPEDIA_TEST = DBPEDIA_TEST.reset_index()\n",
    "# DBPEDIA_TEST = DBPEDIA_TEST.iloc[:, 1:4]\n",
    "# DBPEDIA_TEST[\"class\"].unique() #14 classes\n",
    "\n",
    "# DBPEDIA_TEST.to_feather(DBPEDIA/'TESTING')\n",
    "DBPEDIA_TEST = pd.read_feather(DBPEDIA/'TESTING')"
   ]
  },
  {
   "cell_type": "markdown",
   "metadata": {
    "heading_collapsed": true
   },
   "source": [
    "#### read Yelp review data"
   ]
  },
  {
   "cell_type": "code",
   "execution_count": 106,
   "metadata": {
    "ExecuteTime": {
     "end_time": "2020-01-06T09:23:12.829925Z",
     "start_time": "2020-01-06T09:23:12.826359Z"
    },
    "hidden": true
   },
   "outputs": [],
   "source": [
    "YELP = DATA/'Yelp'\n",
    "YELP.mkdir(exist_ok= True)\n",
    "header = ['class', review]"
   ]
  },
  {
   "cell_type": "code",
   "execution_count": 107,
   "metadata": {
    "ExecuteTime": {
     "end_time": "2020-01-06T10:02:37.565280Z",
     "start_time": "2020-01-06T10:02:33.413759Z"
    },
    "hidden": true
   },
   "outputs": [],
   "source": [
    "# YELP_train = pd.read_csv(YELP/'train.csv', names= header)\n",
    "\n",
    "# #DBPEDIA_train.shape # 559999 data entries\n",
    "\n",
    "\n",
    "# # sample a smaller version  \n",
    "\n",
    "# YELP_TRAIN = YELP_train.sample(30000, axis= 0)\n",
    "# YELP_TRAIN = YELP_TRAIN.reset_index()\n",
    "# YELP_TRAIN = YELP_TRAIN.iloc[:, 1:3]\n",
    "\n",
    "# YELP_TRAIN.to_feather(YELP/'training_30k')\n",
    "YELP_TRAIN = pd.read_feather(YELP/'training_30k')"
   ]
  },
  {
   "cell_type": "code",
   "execution_count": 124,
   "metadata": {
    "ExecuteTime": {
     "end_time": "2020-01-06T10:12:25.790830Z",
     "start_time": "2020-01-06T10:12:25.503124Z"
    },
    "hidden": true
   },
   "outputs": [],
   "source": [
    "YELP_test = pd.read_csv(YELP/'test.csv', names = header)"
   ]
  },
  {
   "cell_type": "code",
   "execution_count": 129,
   "metadata": {
    "ExecuteTime": {
     "end_time": "2020-01-06T10:15:11.257857Z",
     "start_time": "2020-01-06T10:15:11.219319Z"
    },
    "hidden": true
   },
   "outputs": [],
   "source": [
    "# YELP_TEST = YELP_test.sample(10000, axis= 0)\n",
    "# YELP_TEST = YELP_TEST.reset_index()\n",
    "# YELP_TEST = YELP_TEST.iloc[:, 1:4]\n",
    "# YELP_TEST[\"class\"].unique() \n",
    "\n",
    "# YELP_TEST.to_feather(YELP/'TESTING')\n",
    "YELP_TEST = pd.read_feather(YELP/'TESTING')"
   ]
  },
  {
   "cell_type": "code",
   "execution_count": null,
   "metadata": {
    "hidden": true
   },
   "outputs": [],
   "source": []
  }
 ],
 "metadata": {
  "kernelspec": {
   "display_name": "Python 3",
   "language": "python",
   "name": "python3"
  },
  "language_info": {
   "codemirror_mode": {
    "name": "ipython",
    "version": 3
   },
   "file_extension": ".py",
   "mimetype": "text/x-python",
   "name": "python",
   "nbconvert_exporter": "python",
   "pygments_lexer": "ipython3",
   "version": "3.7.4"
  },
  "toc": {
   "base_numbering": 1,
   "nav_menu": {},
   "number_sections": true,
   "sideBar": true,
   "skip_h1_title": false,
   "title_cell": "Table of Contents",
   "title_sidebar": "Contents",
   "toc_cell": false,
   "toc_position": {},
   "toc_section_display": true,
   "toc_window_display": false
  },
  "varInspector": {
   "cols": {
    "lenName": 16,
    "lenType": 16,
    "lenVar": 40
   },
   "kernels_config": {
    "python": {
     "delete_cmd_postfix": "",
     "delete_cmd_prefix": "del ",
     "library": "var_list.py",
     "varRefreshCmd": "print(var_dic_list())"
    },
    "r": {
     "delete_cmd_postfix": ") ",
     "delete_cmd_prefix": "rm(",
     "library": "var_list.r",
     "varRefreshCmd": "cat(var_dic_list()) "
    }
   },
   "types_to_exclude": [
    "module",
    "function",
    "builtin_function_or_method",
    "instance",
    "_Feature"
   ],
   "window_display": false
  }
 },
 "nbformat": 4,
 "nbformat_minor": 2
}
